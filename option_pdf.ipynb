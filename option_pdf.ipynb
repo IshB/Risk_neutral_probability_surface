{
 "cells": [
  {
   "cell_type": "code",
   "execution_count": 1,
   "id": "281d285b",
   "metadata": {},
   "outputs": [
    {
     "name": "stdout",
     "output_type": "stream",
     "text": [
      "Fetching spot price...\n",
      "BTC Spot Price: $113455.47\n",
      "Fetching options data...\n",
      "BTC Spot Price: $113455.47\n",
      "Fetching options data...\n",
      "Found 12 expiry dates\n",
      "\n",
      "Available expiries:\n",
      "  1. 2025-08-22 10:00:00\n",
      "  2. 2025-08-23 10:00:00\n",
      "  3. 2025-08-24 10:00:00\n",
      "  4. 2025-08-25 10:00:00\n",
      "  5. 2025-08-29 10:00:00\n",
      "  6. 2025-09-05 10:00:00\n",
      "  7. 2025-09-12 10:00:00\n",
      "  8. 2025-09-26 10:00:00\n",
      "  9. 2025-10-31 09:00:00\n",
      "  10. 2025-12-26 09:00:00\n",
      "  11. 2026-03-27 09:00:00\n",
      "  12. 2026-06-26 10:00:00\n",
      "\n",
      "Processing expiry 1/10: 2025-08-22 10:00:00\n",
      "Found 12 expiry dates\n",
      "\n",
      "Available expiries:\n",
      "  1. 2025-08-22 10:00:00\n",
      "  2. 2025-08-23 10:00:00\n",
      "  3. 2025-08-24 10:00:00\n",
      "  4. 2025-08-25 10:00:00\n",
      "  5. 2025-08-29 10:00:00\n",
      "  6. 2025-09-05 10:00:00\n",
      "  7. 2025-09-12 10:00:00\n",
      "  8. 2025-09-26 10:00:00\n",
      "  9. 2025-10-31 09:00:00\n",
      "  10. 2025-12-26 09:00:00\n",
      "  11. 2026-03-27 09:00:00\n",
      "  12. 2026-06-26 10:00:00\n",
      "\n",
      "Processing expiry 1/10: 2025-08-22 10:00:00\n",
      "  Found 38 options with IV data\n",
      "  Applying Breeden-Litzenberger...\n",
      "  Found 38 options with IV data\n",
      "  Applying Breeden-Litzenberger...\n",
      "  ✅ Processed successfully\n",
      "\n",
      "Processing expiry 2/10: 2025-08-23 10:00:00\n",
      "  ✅ Processed successfully\n",
      "\n",
      "Processing expiry 2/10: 2025-08-23 10:00:00\n",
      "  Found 16 options with IV data\n",
      "  Applying Breeden-Litzenberger...\n",
      "  Found 16 options with IV data\n",
      "  Applying Breeden-Litzenberger...\n",
      "  ✅ Processed successfully\n",
      "\n",
      "Processing expiry 3/10: 2025-08-24 10:00:00\n",
      "  ✅ Processed successfully\n",
      "\n",
      "Processing expiry 3/10: 2025-08-24 10:00:00\n",
      "  Found 15 options with IV data\n",
      "  Applying Breeden-Litzenberger...\n",
      "  Found 15 options with IV data\n",
      "  Applying Breeden-Litzenberger...\n",
      "  ✅ Processed successfully\n",
      "\n",
      "Processing expiry 4/10: 2025-08-25 10:00:00\n",
      "  ✅ Processed successfully\n",
      "\n",
      "Processing expiry 4/10: 2025-08-25 10:00:00\n",
      "  Found 14 options with IV data\n",
      "  Applying Breeden-Litzenberger...\n",
      "  Found 14 options with IV data\n",
      "  Applying Breeden-Litzenberger...\n",
      "  ✅ Processed successfully\n",
      "\n",
      "Processing expiry 5/10: 2025-08-29 10:00:00\n",
      "  ✅ Processed successfully\n",
      "\n",
      "Processing expiry 5/10: 2025-08-29 10:00:00\n",
      "  Found 50 options with IV data\n",
      "  Applying Breeden-Litzenberger...\n",
      "  Found 50 options with IV data\n",
      "  Applying Breeden-Litzenberger...\n",
      "  ✅ Processed successfully\n",
      "\n",
      "Processing expiry 6/10: 2025-09-05 10:00:00\n",
      "  ✅ Processed successfully\n",
      "\n",
      "Processing expiry 6/10: 2025-09-05 10:00:00\n",
      "  Found 28 options with IV data\n",
      "  Applying Breeden-Litzenberger...\n",
      "  Found 28 options with IV data\n",
      "  Applying Breeden-Litzenberger...\n",
      "  ✅ Processed successfully\n",
      "\n",
      "Processing expiry 7/10: 2025-09-12 10:00:00\n",
      "  ✅ Processed successfully\n",
      "\n",
      "Processing expiry 7/10: 2025-09-12 10:00:00\n",
      "  Found 17 options with IV data\n",
      "  Applying Breeden-Litzenberger...\n",
      "  Found 17 options with IV data\n",
      "  Applying Breeden-Litzenberger...\n",
      "  ✅ Processed successfully\n",
      "\n",
      "Processing expiry 8/10: 2025-09-26 10:00:00\n",
      "  ✅ Processed successfully\n",
      "\n",
      "Processing expiry 8/10: 2025-09-26 10:00:00\n",
      "  Found 50 options with IV data\n",
      "  Applying Breeden-Litzenberger...\n",
      "  Found 50 options with IV data\n",
      "  Applying Breeden-Litzenberger...\n",
      "  ✅ Processed successfully\n",
      "\n",
      "Processing expiry 9/10: 2025-10-31 09:00:00\n",
      "  ✅ Processed successfully\n",
      "\n",
      "Processing expiry 9/10: 2025-10-31 09:00:00\n",
      "  Found 41 options with IV data\n",
      "  Applying Breeden-Litzenberger...\n",
      "  Found 41 options with IV data\n",
      "  Applying Breeden-Litzenberger...\n",
      "  ✅ Processed successfully\n",
      "\n",
      "Processing expiry 10/10: 2025-12-26 09:00:00\n",
      "  ✅ Processed successfully\n",
      "\n",
      "Processing expiry 10/10: 2025-12-26 09:00:00\n",
      "  Found 38 options with IV data\n",
      "  Applying Breeden-Litzenberger...\n",
      "  Found 38 options with IV data\n",
      "  Applying Breeden-Litzenberger...\n",
      "  ✅ Processed successfully\n",
      "\n",
      "✅ Analysis complete!\n",
      "📊 Successfully processed 10 expiries\n",
      "📄 IV Smiles saved to: iv_smiles_analysis.pdf\n",
      "📄 Risk-Neutral Distributions saved to: risk_neutral_distributions.pdf\n",
      "\n",
      "Summary:\n",
      "- 2025-08-22 10:00:00: 38 strikes, IV range: 29.9%-122.1%, Peak: $117889\n",
      "- 2025-08-23 10:00:00: 16 strikes, IV range: 34.7%-56.1%, Peak: $118030\n",
      "- 2025-08-24 10:00:00: 15 strikes, IV range: 30.9%-53.6%, Peak: $118020\n",
      "- 2025-08-25 10:00:00: 14 strikes, IV range: 29.5%-44.9%, Peak: $114040\n",
      "- 2025-08-29 10:00:00: 50 strikes, IV range: 32.6%-145.3%, Peak: $128191\n",
      "- 2025-09-05 10:00:00: 28 strikes, IV range: 33.0%-77.0%, Peak: $114070\n",
      "- 2025-09-12 10:00:00: 17 strikes, IV range: 33.4%-43.2%, Peak: $115075\n",
      "- 2025-09-26 10:00:00: 50 strikes, IV range: 33.4%-128.8%, Peak: $134573\n",
      "- 2025-10-31 09:00:00: 41 strikes, IV range: 35.0%-86.2%, Peak: $116030\n",
      "- 2025-12-26 09:00:00: 38 strikes, IV range: 39.9%-100.2%, Peak: $105930\n",
      "  ✅ Processed successfully\n",
      "\n",
      "✅ Analysis complete!\n",
      "📊 Successfully processed 10 expiries\n",
      "📄 IV Smiles saved to: iv_smiles_analysis.pdf\n",
      "📄 Risk-Neutral Distributions saved to: risk_neutral_distributions.pdf\n",
      "\n",
      "Summary:\n",
      "- 2025-08-22 10:00:00: 38 strikes, IV range: 29.9%-122.1%, Peak: $117889\n",
      "- 2025-08-23 10:00:00: 16 strikes, IV range: 34.7%-56.1%, Peak: $118030\n",
      "- 2025-08-24 10:00:00: 15 strikes, IV range: 30.9%-53.6%, Peak: $118020\n",
      "- 2025-08-25 10:00:00: 14 strikes, IV range: 29.5%-44.9%, Peak: $114040\n",
      "- 2025-08-29 10:00:00: 50 strikes, IV range: 32.6%-145.3%, Peak: $128191\n",
      "- 2025-09-05 10:00:00: 28 strikes, IV range: 33.0%-77.0%, Peak: $114070\n",
      "- 2025-09-12 10:00:00: 17 strikes, IV range: 33.4%-43.2%, Peak: $115075\n",
      "- 2025-09-26 10:00:00: 50 strikes, IV range: 33.4%-128.8%, Peak: $134573\n",
      "- 2025-10-31 09:00:00: 41 strikes, IV range: 35.0%-86.2%, Peak: $116030\n",
      "- 2025-12-26 09:00:00: 38 strikes, IV range: 39.9%-100.2%, Peak: $105930\n",
      "  Found 18 options with IV data\n",
      "  Applying Breeden-Litzenberger...\n",
      "  ✅ Processed successfully\n",
      "\n",
      "Processing expiry 2/10: 2025-08-28 10:00:00\n",
      "  Found 18 options with IV data\n",
      "  Applying Breeden-Litzenberger...\n",
      "  ✅ Processed successfully\n",
      "\n",
      "Processing expiry 3/10: 2025-08-29 10:00:00\n",
      "  Found 51 options with IV data\n",
      "  Applying Breeden-Litzenberger...\n",
      "  ✅ Processed successfully\n",
      "\n",
      "Processing expiry 4/10: 2025-08-30 10:00:00\n",
      "  Found 13 options with IV data\n",
      "  Applying Breeden-Litzenberger...\n",
      "  ✅ Processed successfully\n",
      "\n",
      "Processing expiry 5/10: 2025-09-05 10:00:00\n",
      "  Found 32 options with IV data\n",
      "  Applying Breeden-Litzenberger...\n",
      "  ✅ Processed successfully\n",
      "\n",
      "Processing expiry 6/10: 2025-09-12 10:00:00\n",
      "  Found 23 options with IV data\n",
      "  Applying Breeden-Litzenberger...\n",
      "  ✅ Processed successfully\n",
      "\n",
      "Processing expiry 7/10: 2025-09-26 10:00:00\n",
      "  Found 51 options with IV data\n",
      "  Applying Breeden-Litzenberger...\n",
      "  ✅ Processed successfully\n",
      "\n",
      "Processing expiry 8/10: 2025-10-31 09:00:00\n",
      "  Found 42 options with IV data\n",
      "  Applying Breeden-Litzenberger...\n",
      "  ✅ Processed successfully\n",
      "\n",
      "Processing expiry 9/10: 2025-12-26 09:00:00\n",
      "  Found 38 options with IV data\n",
      "  Applying Breeden-Litzenberger...\n",
      "  ✅ Processed successfully\n",
      "\n",
      "Processing expiry 10/10: 2026-03-27 09:00:00\n",
      "  Found 38 options with IV data\n",
      "  Applying Breeden-Litzenberger...\n",
      "  ✅ Processed successfully\n",
      "\n",
      "✅ Analysis complete!\n",
      "📊 Successfully processed 10 expiries\n",
      "📄 IV Smiles saved to: iv_smiles_analysis.pdf\n",
      "📄 Risk-Neutral Distributions saved to: risk_neutral_distributions.pdf\n",
      "\n",
      "Summary:\n",
      "- 2025-08-27 10:00:00: 18 strikes, IV range: 37.3%-84.2%, Peak: $111035\n",
      "- 2025-08-28 10:00:00: 18 strikes, IV range: 40.0%-68.5%, Peak: $118975\n",
      "- 2025-08-29 10:00:00: 51 strikes, IV range: 40.1%-145.3%, Peak: $125176\n",
      "- 2025-08-30 10:00:00: 13 strikes, IV range: 38.8%-52.2%, Peak: $111005\n",
      "- 2025-09-05 10:00:00: 32 strikes, IV range: 36.6%-84.4%, Peak: $111960\n",
      "- 2025-09-12 10:00:00: 23 strikes, IV range: 36.0%-46.2%, Peak: $118995\n",
      "- 2025-09-26 10:00:00: 51 strikes, IV range: 36.4%-128.8%, Peak: $113568\n",
      "- 2025-10-31 09:00:00: 42 strikes, IV range: 37.3%-89.9%, Peak: $116030\n",
      "- 2025-12-26 09:00:00: 38 strikes, IV range: 41.1%-100.0%, Peak: $109749\n",
      "- 2026-03-27 09:00:00: 38 strikes, IV range: 43.6%-86.6%, Peak: $100402\n"
     ]
    }
   ],
   "source": [
    "import requests\n",
    "import numpy as np\n",
    "import matplotlib.pyplot as plt\n",
    "from scipy.interpolate import CubicSpline\n",
    "from scipy.stats import norm\n",
    "from matplotlib.backends.backend_pdf import PdfPages\n",
    "from datetime import datetime\n",
    "\n",
    "BASE_URL = \"https://www.deribit.com/api/v2\"\n",
    "\n",
    "def convert_timestamp_to_datetime(timestamp_ms):\n",
    "    \"\"\"Convert timestamp in milliseconds to readable datetime format\"\"\"\n",
    "    timestamp_s = timestamp_ms / 1000  # Convert milliseconds to seconds\n",
    "    dt = datetime.fromtimestamp(timestamp_s)\n",
    "    return dt.strftime(\"%Y-%m-%d %H:%M:%S\")\n",
    "\n",
    "def numerical_derivative(func, x, h=1e-5, n=1):\n",
    "    \"\"\"Compute numerical derivative of function at point x\"\"\"\n",
    "    if n == 1:\n",
    "        return (func(x + h) - func(x - h)) / (2 * h)\n",
    "    elif n == 2:\n",
    "        return (func(x + h) - 2 * func(x) + func(x - h)) / (h ** 2)\n",
    "    else:\n",
    "        raise ValueError(\"Only first and second derivatives supported\")\n",
    "\n",
    "def get_spot_price(currency=\"BTC\"):\n",
    "    \"\"\"Get current spot price\"\"\"\n",
    "    url = f\"{BASE_URL}/public/ticker\"\n",
    "    params = {\"instrument_name\": f\"{currency}-PERPETUAL\"}\n",
    "    \n",
    "    response = requests.get(url, params=params)\n",
    "    response.raise_for_status()\n",
    "    data = response.json()\n",
    "    \n",
    "    return data[\"result\"][\"mark_price\"]\n",
    "\n",
    "def get_options_data(currency=\"BTC\"):\n",
    "    \"\"\"Fetch all options instruments for a currency\"\"\"\n",
    "    url = f\"{BASE_URL}/public/get_instruments\"\n",
    "    params = {\n",
    "        \"currency\": currency,\n",
    "        \"kind\": \"option\"\n",
    "    }\n",
    "    \n",
    "    response = requests.get(url, params=params)\n",
    "    response.raise_for_status()\n",
    "    data = response.json()\n",
    "    \n",
    "    # Filter out expired options\n",
    "    active_instruments = [inst for inst in data[\"result\"] if not inst.get(\"is_active\", True) is False]\n",
    "    \n",
    "    return active_instruments\n",
    "\n",
    "def get_orderbook(instrument_name):\n",
    "    \"\"\"Get orderbook for specific instrument\"\"\"\n",
    "    url = f\"{BASE_URL}/public/get_order_book\"\n",
    "    params = {\n",
    "        \"instrument_name\": instrument_name\n",
    "    }\n",
    "    \n",
    "    response = requests.get(url, params=params)\n",
    "    response.raise_for_status()\n",
    "    data = response.json()\n",
    "    \n",
    "    return data[\"result\"]\n",
    "\n",
    "def get_option_data_for_expiry(expiry_timestamp, currency=\"BTC\"):\n",
    "    \"\"\"Get strikes and IVs for a specific expiry\"\"\"\n",
    "    instruments = get_options_data(currency)\n",
    "    \n",
    "    # Filter for specific expiry and calls only\n",
    "    expiry_options = [i for i in instruments \n",
    "                     if i['expiration_timestamp'] == expiry_timestamp \n",
    "                     and i['option_type'] == 'call']\n",
    "    \n",
    "    strikes = []\n",
    "    ivs = []\n",
    "    \n",
    "    for option in expiry_options:\n",
    "        try:\n",
    "            orderbook = get_orderbook(option['instrument_name'])\n",
    "            if orderbook.get('mark_iv') is not None:\n",
    "                strikes.append(option['strike'])\n",
    "                ivs.append(orderbook['mark_iv'] / 100)  # Convert to decimal\n",
    "        except:\n",
    "            continue\n",
    "    \n",
    "    # Sort by strike\n",
    "    if strikes and ivs:\n",
    "        sorted_data = sorted(zip(strikes, ivs))\n",
    "        strikes, ivs = zip(*sorted_data)\n",
    "    \n",
    "    return np.array(strikes), np.array(ivs)\n",
    "\n",
    "def black_scholes_call(S, K, T, r, sigma):\n",
    "    \"\"\"Black-Scholes call option price\"\"\"\n",
    "    d1 = (np.log(S/K) + (r + 0.5*sigma**2)*T) / (sigma*np.sqrt(T))\n",
    "    d2 = d1 - sigma*np.sqrt(T)\n",
    "    return S*norm.cdf(d1) - K*np.exp(-r*T)*norm.cdf(d2)\n",
    "\n",
    "def breeden_litzenberger(strikes, ivs, spot, r=0.0, T=0.25):\n",
    "    \"\"\"Apply Breeden-Litzenberger to extract risk-neutral density\"\"\"\n",
    "    \n",
    "    # Need minimum points for interpolation\n",
    "    if len(strikes) < 4:\n",
    "        raise ValueError(f\"Need at least 4 data points, got {len(strikes)}\")\n",
    "    \n",
    "    # Interpolate IV smile\n",
    "    iv_spline = CubicSpline(strikes, ivs, bc_type='natural')\n",
    "    \n",
    "    # Generate dense strike grid - STAY WITHIN MARKET DATA BOUNDS\n",
    "    K_min, K_max = strikes.min(), strikes.max()  # No extrapolation!\n",
    "    K_dense = np.linspace(K_min, K_max, 200)\n",
    "    iv_dense = iv_spline(K_dense)\n",
    "    \n",
    "    # Ensure IV stays positive (clamp negative values)\n",
    "    iv_dense = np.maximum(iv_dense, 0.01)  # Minimum 1% IV\n",
    "    \n",
    "    # Calculate call prices using Black-Scholes\n",
    "    call_prices = [black_scholes_call(spot, K, T, r, iv) for K, iv in zip(K_dense, iv_dense)]\n",
    "    \n",
    "    # Create call price spline\n",
    "    call_spline = CubicSpline(K_dense, call_prices, bc_type='natural')\n",
    "    \n",
    "    # Extract risk-neutral density (second derivative)\n",
    "    rn_density = [numerical_derivative(call_spline, k, h=1.0, n=2) for k in K_dense]\n",
    "    rn_density = np.maximum(rn_density, 0) * np.exp(r*T)  # Ensure non-negative\n",
    "    \n",
    "    # Normalize to make it a proper probability density\n",
    "    if np.sum(rn_density) > 0:\n",
    "        rn_density = rn_density / (np.sum(rn_density) * (K_dense[1] - K_dense[0]))\n",
    "    \n",
    "    return K_dense, np.array(rn_density)\n",
    "\n",
    "def main():\n",
    "    \"\"\"Main execution function - Loop through all expiries\"\"\"\n",
    "    \n",
    "    # Get current spot price\n",
    "    print(\"Fetching spot price...\")\n",
    "    spot = get_spot_price(\"BTC\")\n",
    "    print(f\"BTC Spot Price: ${spot:.2f}\")\n",
    "    \n",
    "    # Get available options\n",
    "    print(\"Fetching options data...\")\n",
    "    instruments = get_options_data(\"BTC\")\n",
    "    \n",
    "    if not instruments:\n",
    "        raise Exception(\"No options instruments found\")\n",
    "    \n",
    "    # Get unique expiries\n",
    "    expiries = sorted(list(set([i['expiration_timestamp'] for i in instruments])))\n",
    "    print(f\"Found {len(expiries)} expiry dates\")\n",
    "    \n",
    "    if not expiries:\n",
    "        raise Exception(\"No expiry dates found\")\n",
    "    \n",
    "    # Print all available expiries in readable format\n",
    "    print(\"\\nAvailable expiries:\")\n",
    "    for i, expiry in enumerate(expiries):\n",
    "        expiry_datetime = convert_timestamp_to_datetime(expiry)\n",
    "        print(f\"  {i+1}. {expiry_datetime}\")\n",
    "    \n",
    "    # Storage for all results\n",
    "    all_results = []\n",
    "    \n",
    "    # Create separate PDFs\n",
    "    iv_smiles_pdf = \"iv_smiles_analysis.pdf\"\n",
    "    rn_distributions_pdf = \"risk_neutral_distributions.pdf\"\n",
    "    \n",
    "    with PdfPages(iv_smiles_pdf) as iv_pdf, PdfPages(rn_distributions_pdf) as rn_pdf:\n",
    "        \n",
    "        # Loop through all expiries (limit to first 10 for performance)\n",
    "        for i, expiry in enumerate(expiries[:10]):\n",
    "            try:\n",
    "                expiry_str = convert_timestamp_to_datetime(expiry)\n",
    "                print(f\"\\nProcessing expiry {i+1}/{min(10, len(expiries))}: {expiry_str}\")\n",
    "                \n",
    "                # Get option data for this expiry\n",
    "                strikes, ivs = get_option_data_for_expiry(expiry)\n",
    "                print(f\"  Found {len(strikes)} options with IV data\")\n",
    "                \n",
    "                if len(strikes) < 4:\n",
    "                    print(f\"  Skipping - insufficient data points: {len(strikes)}\")\n",
    "                    continue\n",
    "                \n",
    "                # Apply Breeden-Litzenberger\n",
    "                print(\"  Applying Breeden-Litzenberger...\")\n",
    "                K_dense, rn_density = breeden_litzenberger(strikes, ivs, spot)\n",
    "                \n",
    "                # Store results\n",
    "                result = {\n",
    "                    'expiry': expiry,\n",
    "                    'expiry_str': expiry_str,\n",
    "                    'strikes': strikes,\n",
    "                    'ivs': ivs,\n",
    "                    'K_dense': K_dense,\n",
    "                    'rn_density': rn_density,\n",
    "                    'spot': spot\n",
    "                }\n",
    "                all_results.append(result)\n",
    "                \n",
    "                # Create IV Smile plot\n",
    "                fig, ax = plt.subplots(1, 1, figsize=(10, 6))\n",
    "                ax.scatter(strikes, ivs*100, color='blue', s=50, label='Market IVs', alpha=0.7)\n",
    "                iv_interp = CubicSpline(strikes, ivs, bc_type='natural')(K_dense)\n",
    "                ax.plot(K_dense, iv_interp*100, 'r-', alpha=0.8, label='Interpolated', linewidth=2)\n",
    "                ax.axvline(spot, color='green', linestyle='--', label=f'Spot: {spot:.0f}', linewidth=2)\n",
    "                ax.set_xlabel('Strike Price')\n",
    "                ax.set_ylabel('Implied Volatility (%)')\n",
    "                ax.set_title(f'IV Smile - Expiry: {expiry_str}')\n",
    "                ax.legend()\n",
    "                ax.grid(True, alpha=0.3)\n",
    "                plt.tight_layout()\n",
    "                iv_pdf.savefig(fig, dpi=300, bbox_inches='tight')\n",
    "                plt.close()\n",
    "                \n",
    "                # Create Risk-Neutral Density plot\n",
    "                fig, ax = plt.subplots(1, 1, figsize=(10, 6))\n",
    "                ax.plot(K_dense, rn_density, 'b-', linewidth=2, label='RN Density')\n",
    "                ax.fill_between(K_dense, rn_density, alpha=0.3, color='lightblue')\n",
    "                ax.axvline(spot, color='green', linestyle='--', label=f'Spot: {spot:.0f}', linewidth=2)\n",
    "                ax.set_xlabel('Strike Price')\n",
    "                ax.set_ylabel('Probability Density')\n",
    "                ax.set_title(f'Risk-Neutral Distribution - Expiry: {expiry_str}')\n",
    "                ax.legend()\n",
    "                ax.grid(True, alpha=0.3)\n",
    "                plt.tight_layout()\n",
    "                rn_pdf.savefig(fig, dpi=300, bbox_inches='tight')\n",
    "                plt.close()\n",
    "                \n",
    "                print(f\"  ✅ Processed successfully\")\n",
    "                \n",
    "            except Exception as e:\n",
    "                print(f\"  ❌ Error processing expiry {expiry_str}: {e}\")\n",
    "                continue\n",
    "    \n",
    "    print(f\"\\n✅ Analysis complete!\")\n",
    "    print(f\"📊 Successfully processed {len(all_results)} expiries\")\n",
    "    print(f\"📄 IV Smiles saved to: {iv_smiles_pdf}\")\n",
    "    print(f\"📄 Risk-Neutral Distributions saved to: {rn_distributions_pdf}\")\n",
    "    \n",
    "    # Print summary\n",
    "    if all_results:\n",
    "        print(f\"\\nSummary:\")\n",
    "        for result in all_results:\n",
    "            print(f\"- {result['expiry_str']}: {len(result['strikes'])} strikes, \"\n",
    "                  f\"IV range: {result['ivs'].min()*100:.1f}%-{result['ivs'].max()*100:.1f}%, \"\n",
    "                  f\"Peak: ${result['K_dense'][np.argmax(result['rn_density'])]:.0f}\")\n",
    "    \n",
    "    # Store results globally for dashboard\n",
    "    global analysis_results\n",
    "    analysis_results = all_results\n",
    "    \n",
    "    return all_results\n",
    "\n",
    "if __name__ == \"__main__\":\n",
    "    results = main()"
   ]
  },
  {
   "cell_type": "code",
   "execution_count": null,
   "id": "6a366d82",
   "metadata": {},
   "outputs": [],
   "source": []
  },
  {
   "cell_type": "markdown",
   "id": "46ca8dcc",
   "metadata": {},
   "source": [
    "# Options Risk-Neutral Density Analysis\n",
    "\n",
    "This notebook implements the **Breeden-Litzenberger** methodology to extract risk-neutral probability distributions from options market data.\n",
    "\n",
    "## Key Components:\n",
    "\n",
    "1. **Data Collection**: Fetches options data from Deribit API\n",
    "   - Gets implied volatilities for different strikes\n",
    "   - Focuses on call options for a specific expiry\n",
    "\n",
    "2. **Breeden-Litzenberger Algorithm**:\n",
    "   - Interpolates the implied volatility smile\n",
    "   - Converts IV to Black-Scholes call prices\n",
    "   - Computes the second derivative of call prices with respect to strike\n",
    "   - This gives the risk-neutral probability density\n",
    "\n",
    "3. **Visualizations**:\n",
    "   - IV smile plot showing market volatilities vs strikes\n",
    "   - Risk-neutral density distribution\n",
    "   - 3D visualization of the density surface\n",
    "\n",
    "## Mathematical Foundation:\n",
    "The Breeden-Litzenberger formula states that:\n",
    "```\n",
    "f(K) = e^(rT) * ∂²C/∂K²\n",
    "```\n",
    "Where:\n",
    "- f(K) is the risk-neutral density at strike K\n",
    "- C is the call option price\n",
    "- r is the risk-free rate\n",
    "- T is time to expiry\n",
    "\n",
    "## Applications:\n",
    "- Market sentiment analysis\n",
    "- Tail risk assessment\n",
    "- Model validation\n",
    "- Volatility surface construction"
   ]
  },
  {
   "cell_type": "code",
   "execution_count": 4,
   "id": "6a6bb778",
   "metadata": {},
   "outputs": [
    {
     "data": {
      "text/html": [
       "        <script type=\"text/javascript\">\n",
       "        window.PlotlyConfig = {MathJaxConfig: 'local'};\n",
       "        if (window.MathJax && window.MathJax.Hub && window.MathJax.Hub.Config) {window.MathJax.Hub.Config({SVG: {font: \"STIX-Web\"}});}\n",
       "        </script>\n",
       "        <script type=\"module\">import \"https://cdn.plot.ly/plotly-3.1.0.min\"</script>\n",
       "        "
      ]
     },
     "metadata": {},
     "output_type": "display_data"
    },
    {
     "name": "stdout",
     "output_type": "stream",
     "text": [
      "Creating interactive dashboard with 10 expiries...\n"
     ]
    },
    {
     "data": {
      "application/vnd.plotly.v1+json": {
       "config": {
        "plotlyServerURL": "https://plot.ly"
       },
       "data": [
        {
         "hovertemplate": "Expiry: 2025-08-22 10:00:00<br>Strike: %{x:.0f}<br>IV: %{y:.1f}%<extra></extra>",
         "marker": {
          "color": "#636EFA",
          "size": 6
         },
         "mode": "markers",
         "name": "Market IV - 2025-08-22",
         "showlegend": true,
         "type": "scatter",
         "x": {
          "bdata": "AAAAAAD59UAAAAAAgDH3QAAAAAAAavhAAAAAAADn+EAAAAAAAGT5QAAAAACAovlAAAAAAADh+UAAAAAAAF76QAAAAACAnPpAAAAAAADb+kAAAAAAgBn7QAAAAAAAWPtAAAAAAICW+0AAAAAAANX7QAAAAACAE/xAAAAAAABS/EAAAAAAgJD8QAAAAAAAz/xAAAAAAIAN/UAAAAAAAEz9QAAAAACAiv1AAAAAAADJ/UAAAAAAgAf+QAAAAAAARv5AAAAAAICE/kAAAAAAAMP+QAAAAACAAf9AAAAAAABA/0AAAAAAgH7/QAAAAAAAvf9AAAAAAAAdAEEAAAAAwHoAQQAAAAAAFwFBAAAAAECzAUEAAAAAgE8CQQAAAADA6wJBAAAAAACIA0EAAAAAQCQEQQ==",
          "dtype": "f8"
         },
         "xaxis": "x",
         "y": {
          "bdata": "SOF6FK6HXkBmZmZmZsZbQB+F61G43lhA7FG4HoXLVUC4HoXrUThTQIXrUbgexVFAuB6F61EIUEBlZmZmZmZLQKRwPQrXI0lAMzMzMzNzRkAAAAAAACBEQArXo3A9KkJAH4XrUbheQECkcD0K1+M9QHE9Ctej8D1AAAAAAACAP0AfhetRuL5BQGZmZmZmxkNAhetRuB4FR0AUrkfhenRJQJqZmZmZmUtAW4/C9SgcTUBmZmZmZuZOQGZmZmZmtlBAMzMzMzNDUUAzMzMzM0NRQDMzMzMzQ1FAMzMzMzNDUUAzMzMzM0NRQDMzMzMzQ1FAMzMzMzNDUUAfhetRuG5RQArXo3A9elJAKVyPwvWIUkApXI/C9YhSQClcj8L1iFJAKVyPwvWIUkApXI/C9YhSQA==",
          "dtype": "f8"
         },
         "yaxis": "y"
        },
        {
         "hovertemplate": "Expiry: 2025-08-22 10:00:00<br>Strike: %{x:.0f}<br>IV: %{y:.1f}%<extra></extra>",
         "line": {
          "color": "#636EFA",
          "width": 2
         },
         "mode": "lines",
         "name": "IV Curve - 2025-08-22",
         "showlegend": false,
         "type": "scatter",
         "x": {
          "bdata": "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",
          "dtype": "f8"
         },
         "xaxis": "x",
         "y": {
          "bdata": "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",
          "dtype": "f8"
         },
         "yaxis": "y"
        },
        {
         "hovertemplate": "Expiry: 2025-08-23 10:00:00<br>Strike: %{x:.0f}<br>IV: %{y:.1f}%<extra></extra>",
         "marker": {
          "color": "#EF553B",
          "size": 6
         },
         "mode": "markers",
         "name": "Market IV - 2025-08-23",
         "showlegend": true,
         "type": "scatter",
         "x": {
          "bdata": "AAAAAADh+UAAAAAAAF76QAAAAACAnPpAAAAAAADb+kAAAAAAgBn7QAAAAAAAWPtAAAAAAICW+0AAAAAAANX7QAAAAACAE/xAAAAAAABS/EAAAAAAgJD8QAAAAAAAz/xAAAAAAIAN/UAAAAAAAEz9QAAAAAAAyf1AAAAAAABG/kA=",
          "dtype": "f8"
         },
         "xaxis": "x",
         "y": {
          "bdata": "UrgehesRTEB8FK5H4TpJQI/C9Shcj0dA16NwPQoXRkD2KFyPwpVEQIXrUbgeJUNAzczMzMxMQkAK16NwPWpBQBSuR+F6VEFA4XoUrkdhQUDsUbgehQtCQNejcD0KF0NAAAAAAADgRECPwvUoXG9FQK5H4XoULkdA9ihcj8J1S0A=",
          "dtype": "f8"
         },
         "yaxis": "y"
        },
        {
         "hovertemplate": "Expiry: 2025-08-23 10:00:00<br>Strike: %{x:.0f}<br>IV: %{y:.1f}%<extra></extra>",
         "line": {
          "color": "#EF553B",
          "width": 2
         },
         "mode": "lines",
         "name": "IV Curve - 2025-08-23",
         "showlegend": false,
         "type": "scatter",
         "x": {
          "bdata": "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",
          "dtype": "f8"
         },
         "xaxis": "x",
         "y": {
          "bdata": "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",
          "dtype": "f8"
         },
         "yaxis": "y"
        },
        {
         "hovertemplate": "Expiry: 2025-08-24 10:00:00<br>Strike: %{x:.0f}<br>IV: %{y:.1f}%<extra></extra>",
         "marker": {
          "color": "#00CC96",
          "size": 6
         },
         "mode": "markers",
         "name": "Market IV - 2025-08-24",
         "showlegend": true,
         "type": "scatter",
         "x": {
          "bdata": "AAAAAABk+UAAAAAAAOH5QAAAAAAAXvpAAAAAAICc+kAAAAAAANv6QAAAAACAGftAAAAAAABY+0AAAAAAgJb7QAAAAAAA1ftAAAAAAIAT/EAAAAAAAFL8QAAAAACAkPxAAAAAAADP/EAAAAAAAEz9QAAAAAAAyf1A",
          "dtype": "f8"
         },
         "xaxis": "x",
         "y": {
          "bdata": "kML1KFzPSkD2KFyPwhVIQPYoXI/CVUVASOF6FK4HREDXo3A9CtdCQArXo3A9ykFA9ihcj8LVQEDsUbgehStAQDMzMzMzMz9A9Shcj8L1PkDgehSuR+E+QOxRuB6F6z5ArUfhehTuP0AzMzMzM1NCQLgehetRmENA",
          "dtype": "f8"
         },
         "yaxis": "y"
        },
        {
         "hovertemplate": "Expiry: 2025-08-24 10:00:00<br>Strike: %{x:.0f}<br>IV: %{y:.1f}%<extra></extra>",
         "line": {
          "color": "#00CC96",
          "width": 2
         },
         "mode": "lines",
         "name": "IV Curve - 2025-08-24",
         "showlegend": false,
         "type": "scatter",
         "x": {
          "bdata": "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",
          "dtype": "f8"
         },
         "xaxis": "x",
         "y": {
          "bdata": "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",
          "dtype": "f8"
         },
         "yaxis": "y"
        },
        {
         "hovertemplate": "Expiry: 2025-08-25 10:00:00<br>Strike: %{x:.0f}<br>IV: %{y:.1f}%<extra></extra>",
         "marker": {
          "color": "#AB63FA",
          "size": 6
         },
         "mode": "markers",
         "name": "Market IV - 2025-08-25",
         "showlegend": true,
         "type": "scatter",
         "x": {
          "bdata": "AAAAAADh+UAAAAAAAF76QAAAAACAnPpAAAAAAADb+kAAAAAAgBn7QAAAAAAAWPtAAAAAAICW+0AAAAAAANX7QAAAAACAE/xAAAAAAABS/EAAAAAAgJD8QAAAAAAAz/xAAAAAAABM/UAAAAAAAMn9QA==",
          "dtype": "f8"
         },
         "xaxis": "x",
         "y": {
          "bdata": "uB6F61F4RkCuR+F6FA5EQHsUrkfh+kJAzczMzMzsQUApXI/C9ehAQK5H4XoUDkBAj8L1KFzPPkB7FK5H4bo9QPcoXI/CdT1A9yhcj8J1PUBxPQrXo/A9QD4K16Nw/T5AH4XrUbjeQEBxPQrXo3BCQA==",
          "dtype": "f8"
         },
         "yaxis": "y"
        },
        {
         "hovertemplate": "Expiry: 2025-08-25 10:00:00<br>Strike: %{x:.0f}<br>IV: %{y:.1f}%<extra></extra>",
         "line": {
          "color": "#AB63FA",
          "width": 2
         },
         "mode": "lines",
         "name": "IV Curve - 2025-08-25",
         "showlegend": false,
         "type": "scatter",
         "x": {
          "bdata": "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",
          "dtype": "f8"
         },
         "xaxis": "x",
         "y": {
          "bdata": "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",
          "dtype": "f8"
         },
         "yaxis": "y"
        },
        {
         "hovertemplate": "Expiry: 2025-08-29 10:00:00<br>Strike: %{x:.0f}<br>IV: %{y:.1f}%<extra></extra>",
         "marker": {
          "color": "#FFA15A",
          "size": 6
         },
         "mode": "markers",
         "name": "Market IV - 2025-08-29",
         "showlegend": true,
         "type": "scatter",
         "x": {
          "bdata": "AAAAAACI40AAAAAAAGroQAAAAAAATO1AAAAAAAAX8UAAAAAAAIjzQAAAAACAwPRAAAAAAAD59UAAAAAAAHb2QAAAAAAA8/ZAAAAAAIAx90AAAAAAAHD3QAAAAAAA7fdAAAAAAABq+EAAAAAAAOf4QAAAAAAAZPlAAAAAAICi+UAAAAAAAOH5QAAAAAAAXvpAAAAAAADb+kAAAAAAgBn7QAAAAAAAWPtAAAAAAICW+0AAAAAAANX7QAAAAACAE/xAAAAAAABS/EAAAAAAgJD8QAAAAAAAz/xAAAAAAIAN/UAAAAAAAEz9QAAAAACAiv1AAAAAAADJ/UAAAAAAgAf+QAAAAAAARv5AAAAAAICE/kAAAAAAAMP+QAAAAACAAf9AAAAAAABA/0AAAAAAgH7/QAAAAAAAvf9AAAAAAAAdAEEAAAAAgFsAQQAAAADAegBBAAAAAACaAEEAAAAAABcBQQAAAABAswFBAAAAAIBPAkEAAAAAAIgDQQAAAACAwARBAAAAAAD5BUEAAAAAgDEHQQ==",
          "dtype": "f8"
         },
         "xaxis": "x",
         "y": {
          "bdata": "CtejcD0qYkAoXI/C9fhfQJqZmZmZGV9AFK5H4XoUXEDNzMzMzAxXQDMzMzMz41RA4XoUrkdxUkAzMzMzM3NRQOxRuB6FW1BAPArXo3C9T0BSuB6F67FOQPYoXI/ClUxAtx6F61GYSkDsUbgehatIQGZmZmZm5kZAAAAAAAAARkDD9ShcjyJFQB+F61G4nkNAZmZmZmZGQkBSuB6F69FBQClcj8L1SEFAKVyPwvXoQEBI4XoUrodAQArXo3A9SkBAKVyPwvVIQEAK16NwPUpAQI/C9ShcT0BAuB6F61F4QEDhehSuR+FAQClcj8L1aEFAw/UoXI8CQkAAAAAAAGBCQOF6FK5H4UJAUrgeheuRQ0ApXI/C9UhEQArXo3A9CkVAexSuR+F6RUBmZmZmZmZGQNejcD0Kd0dAMzMzMzOzSEAUrkfhetRJQFuPwvUoPEpAw/UoXI+CSkDhehSuRwFOQM3MzMzM/FBA4XoUrkcxUkD2KFyPwsVTQPYoXI/CxVNA9ihcj8LFU0CF61G4HtVTQA==",
          "dtype": "f8"
         },
         "yaxis": "y"
        },
        {
         "hovertemplate": "Expiry: 2025-08-29 10:00:00<br>Strike: %{x:.0f}<br>IV: %{y:.1f}%<extra></extra>",
         "line": {
          "color": "#FFA15A",
          "width": 2
         },
         "mode": "lines",
         "name": "IV Curve - 2025-08-29",
         "showlegend": false,
         "type": "scatter",
         "x": {
          "bdata": "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",
          "dtype": "f8"
         },
         "xaxis": "x",
         "y": {
          "bdata": "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",
          "dtype": "f8"
         },
         "yaxis": "y"
        },
        {
         "hovertemplate": "Expiry: 2025-09-05 10:00:00<br>Strike: %{x:.0f}<br>IV: %{y:.1f}%<extra></extra>",
         "marker": {
          "color": "#19D3F3",
          "size": 6
         },
         "mode": "markers",
         "name": "Market IV - 2025-09-05",
         "showlegend": true,
         "type": "scatter",
         "x": {
          "bdata": "AAAAAACI80AAAAAAgMD0QAAAAAAA+fVAAAAAAIAx90AAAAAAAGr4QAAAAACAovlAAAAAAABe+kAAAAAAANv6QAAAAACAGftAAAAAAABY+0AAAAAAgJb7QAAAAAAA1ftAAAAAAIAT/EAAAAAAAFL8QAAAAACAkPxAAAAAAADP/EAAAAAAgA39QAAAAAAATP1AAAAAAICK/UAAAAAAAMn9QAAAAACAB/5AAAAAAABG/kAAAAAAgIT+QAAAAAAAw/5AAAAAAABA/0AAAAAAAL3/QAAAAADAegBBAAAAAAAXAUE=",
          "dtype": "f8"
         },
         "xaxis": "x",
         "y": {
          "bdata": "zczMzMw8U0BxPQrXowBRQKVwPQrXQ05Aw/UoXI9iSkBSuB6F6/FGQAAAAAAAIERA9ihcj8LVQkAK16NwPepBQI/C9Shcr0FASOF6FK5nQUAfhetRuB5BQDMzMzMzs0BAhetRuB6lQEBxPQrXo5BAQDMzMzMzk0BAXI/C9SicQEDD9Shcj4JAQIXrUbgehUBApHA9CtejQECF61G4HqVAQIXrUbgexUBAcT0K16MQQUCkcD0K12NBQOF6FK5HwUFAFK5H4Xp0QkDhehSuR0FDQI/C9Shcb0VA7FG4HoWLR0A=",
          "dtype": "f8"
         },
         "yaxis": "y"
        },
        {
         "hovertemplate": "Expiry: 2025-09-05 10:00:00<br>Strike: %{x:.0f}<br>IV: %{y:.1f}%<extra></extra>",
         "line": {
          "color": "#19D3F3",
          "width": 2
         },
         "mode": "lines",
         "name": "IV Curve - 2025-09-05",
         "showlegend": false,
         "type": "scatter",
         "x": {
          "bdata": "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",
          "dtype": "f8"
         },
         "xaxis": "x",
         "y": {
          "bdata": "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",
          "dtype": "f8"
         },
         "yaxis": "y"
        },
        {
         "hovertemplate": "Expiry: 2025-09-12 10:00:00<br>Strike: %{x:.0f}<br>IV: %{y:.1f}%<extra></extra>",
         "marker": {
          "color": "#FF6692",
          "size": 6
         },
         "mode": "markers",
         "name": "Market IV - 2025-09-12",
         "showlegend": true,
         "type": "scatter",
         "x": {
          "bdata": "AAAAAABq+EAAAAAAgKL5QAAAAAAA4flAAAAAAABe+kAAAAAAANv6QAAAAACAGftAAAAAAABY+0AAAAAAgJb7QAAAAAAA1ftAAAAAAIAT/EAAAAAAAFL8QAAAAACAkPxAAAAAAADP/EAAAAAAAEz9QAAAAAAAyf1AAAAAAICE/kAAAAAAAL3/QA==",
          "dtype": "f8"
         },
         "xaxis": "x",
         "y": {
          "bdata": "16NwPQqXRUDsUbgehWtDQPYoXI/CFUNApHA9CtdjQkDD9Shcj+JBQMP1KFyPokFAexSuR+FaQUBcj8L1KBxBQClcj8L16EBAXI/C9Si8QEDNzMzMzKxAQI/C9Shcr0BArkfhehSuQEBxPQrXo7BAQB+F61G4vkBA16NwPQo3QUCF61G4HoVCQA==",
          "dtype": "f8"
         },
         "yaxis": "y"
        },
        {
         "hovertemplate": "Expiry: 2025-09-12 10:00:00<br>Strike: %{x:.0f}<br>IV: %{y:.1f}%<extra></extra>",
         "line": {
          "color": "#FF6692",
          "width": 2
         },
         "mode": "lines",
         "name": "IV Curve - 2025-09-12",
         "showlegend": false,
         "type": "scatter",
         "x": {
          "bdata": "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",
          "dtype": "f8"
         },
         "xaxis": "x",
         "y": {
          "bdata": "16NwPQqXRUBUoclMkIRFQFYdBsYYckVAYJYJE6ZfRUD0iredOk1FQJl588/YOkVA0OCgE4MoRUAiP6PSOxZFQAwT3nYFBEVAFts0auLxREDCFYsW1d9EQJhBxOXfzURAF93DQQW8REDFZm2UR6pEQCZdpEepmERAvj5MxSyHREARikh31HVEQKK9fMeiZERA9VfMH5pTRECP1xrqvEJEQPS6S5ANMkRApoBCfI4hREApp+IXQhFEQAStD80qAURAuBCtBUvxQ0DLUJ4rpeFDQL/rxqg70kNAGWAK5xDDQ0BbLExQJ7RDQA3Pb06BpUNArsZYSyGXQ0DFkeqwCYlDQNWuCOk8e0NAYpyWXb1tQ0CoFlX4imBDQB50ZQOVU0NAoLLcAMRGQ0CA0LBtADpDQBnM18YyLUNAvqNHiUMgQ0CZQlU/GxNDQKqz8YWtBUNAQJZxrgb4QkC6vuRhNupCQHkBW0lM3EJA4jLkDVjOQkBVJ5BYacBCQDazbtKPskJA4qqPJNukQkC/4gL4WpdCQCwv2PUeikJAjWQfxzZ9QkBBV+gUsnBCQKvbQoigZEJALv6ZCw5ZQkCoyGE79E1CQJ2QeR5HQ0JA8ztnu/o4QkCMsLAYAy9CQEfU2zxUJUJACY1uLuIbQkCzwO7zoBJCQCRV4pOECUJARDDPFIEAQkDuNzt9ivdBQAlSrNOU7kFAdmSoHpTlQUD1TnGYfNxBQBoqstRE00FAiuAX6+TJQUAk3Mb5VMBBQMmG4x6NtkFAWUqSeIWsQUAsOwQlNqJBQLCsKASdl0FAn/aWzMyMQUAeU5Lr3IFBQFL8Xc7kdkFAXSw94vtrQUBjHXOUOWFBQKR9DRe1VkFAVl1YnnxMQUButI+wkkJBQMnCGgz5OEFAQshgb7EvQUCzBMmYvSZBQPu3ukYfHkFA+a2U0NYVQUAOvaoA2Q1BQL0rGPMUBkFAvSXZuXn+QEDF1ulm9vZAQIdqRgx670BAiOqTwfPnQEDv/owbYOBAQD/+2Q/g2EBAPC9qpprRQECk2CzntspAQDtBEdpbxEBAwq8Gh7C+QECv5RzG2rlAQMSqTiLltUBACc2B2b6yQEBAlbz5VbBAQCpMBZGYrkBAgzpirXStQEAQqdlc2KxAQAU0qZmwrEBAttqc6eOsQEAvgM1tVq1AQPLyUkbsrUBAggFFk4muQEBeert0Eq9AQHLIASJrr0BAWCzp14SvQEDZF7dNa69AQFartHEtr0BANQcrMtquQEDYS2N9gK5AQKGZpkEvrkBA0hhAyfStQEDtSqzI1a1AQEWadZPPrUBAE1ePTN+tQECQ0ewWAq5AQPFZgRU1rkBAckBAa3WuQEBF1Rw7wK5AQKdoCqgSr0BAzUr81GmvQEDvy+Xkwq9AQEc8uvoasEBACuxsOW+wQEBGnhLWvLBAQDAAl0UFsUBAtnYMk1CxQEBz/ZBap7FAQASQQjgSskBACSo/yJmyQEAdx6SmRrNAQN5ikW8htEBA6PgivzK1QEDbhHcxg7ZAQFECrWIbuEBA6Wzh7gO6QEA/wDJyRbxAQGovmIjovkBAPocbYvPBQECCu70+ZMVAQJxIyr43yUBA9KqMgmrNQEDzXlAq+dFAQADhYFbg1kBAg60JpxzcQEDmQJa8quFAQI0XUjeH50BA5K2It67tQEBQgIXdHfRAQDoLlEnR+kBAC8v/m8UBQUApPBR19whBQPzaHHVjEEFA7iNlPAYYQUBlkzhr3B9BQMul4qHiJ0FAhteugBUwQUDdmFiocThBQDFL2030QEFAp/KaEZxJQUCYp6XKZ1JBQF2CCVBWW0FASJvUeGZkQUC0ChUcl21BQPbo2BDndkFAZk4uLlWAQUBbUyNL4IlBQCoQxj6Hk0FALJ0k4EidQUC3Ek0GJKdBQB+JTYgXsUFAwBg0PSK7QUDu2Q78QsVBQALl65t4z0FAT1LZ88HZQUAuOuXaHeRBQPe0HSiL7kFAAduQsgj5QUCfxExRlQNCQCyKX9svDkJA/UPXJ9cYQkBpCsINiiNCQMn1LWRHLkJAcB4pAg45QkC3nMG+3ENCQPaIBXGyTkJAgvsC8I1ZQkC0DMgSbmRCQN/UYrBRb0JAXmzhnzd6QkCF61G4HoVCQA==",
          "dtype": "f8"
         },
         "yaxis": "y"
        },
        {
         "hovertemplate": "Expiry: 2025-09-26 10:00:00<br>Strike: %{x:.0f}<br>IV: %{y:.1f}%<extra></extra>",
         "marker": {
          "color": "#B6E880",
          "size": 6
         },
         "mode": "markers",
         "name": "Market IV - 2025-09-26",
         "showlegend": true,
         "type": "scatter",
         "x": {
          "bdata": "AAAAAACI00AAAAAAAEzdQAAAAAAAiONAAAAAAABq6EAAAAAAANvqQAAAAAAATO1AAAAAAAC970AAAAAAABfxQAAAAACAT/JAAAAAAACI80AAAAAAgMD0QAAAAAAA+fVAAAAAAIAx90AAAAAAAO33QAAAAAAAavhAAAAAAICi+UAAAAAAAF76QAAAAAAA2/pAAAAAAABY+0AAAAAAANX7QAAAAACAE/xAAAAAAABS/EAAAAAAAM/8QAAAAAAATP1AAAAAAADJ/UAAAAAAAEb+QAAAAACAhP5AAAAAAADD/kAAAAAAAED/QAAAAAAAvf9AAAAAAAAdAEEAAAAAgFsAQQAAAADAegBBAAAAAACaAEEAAAAAgNgAQQAAAAAAFwFBAAAAAECzAUEAAAAAgE8CQQAAAAAAiANBAAAAAIDABEEAAAAAAPkFQQAAAACAMQdBAAAAAABqCEEAAAAAgKIJQQAAAAAA2wpBAAAAAABMDUEAAAAAAL0PQQAAAAAAFxFBAAAAAIBPEkEAAAAAAGoYQQ==",
          "dtype": "f8"
         },
         "xaxis": "x",
         "y": {
          "bdata": "UrgehesZYEB7FK5H4QpgQDMzMzMz41tAFK5H4Xp0V0BmZmZmZuZUQB+F61G43lRAMzMzMzNjU0DsUbgehYtRQBSuR+F61E9A4XoUrkcBTUC3HoXrUdhKQDMzMzMzk0hAcT0K16NwRkAfhetRuF5FQAAAAAAAoERAFK5H4XoUQ0BSuB6F61FCQKRwPQrX40FA7FG4HoVrQUAUrkfhehRBQM3MzMzM7EBAXI/C9SjcQECuR+F6FK5AQI/C9Shcr0BAj8L1KFyvQEBSuB6F67FAQLgehetRuEBA16NwPQrXQEDsUbgehQtBQEjhehSuR0FAzczMzMzMQUDD9ShcjyJCQIXrUbgeRUJAhetRuB6lQkCPwvUoXA9DQDMzMzMzc0NASOF6FK7nREAAAAAAAEBGQGZmZmZmRkhA61G4HoXrSkBbj8L1KNxMQM3MzMzMzE5AFK5H4XqUUEAfhetRuD5RQFyPwvUoHFJAMzMzMzPTU0DD9Shcj/JUQFK4HoXrIVVAPQrXo3CNVUAUrkfhekRXQA==",
          "dtype": "f8"
         },
         "yaxis": "y"
        },
        {
         "hovertemplate": "Expiry: 2025-09-26 10:00:00<br>Strike: %{x:.0f}<br>IV: %{y:.1f}%<extra></extra>",
         "line": {
          "color": "#B6E880",
          "width": 2
         },
         "mode": "lines",
         "name": "IV Curve - 2025-09-26",
         "showlegend": false,
         "type": "scatter",
         "x": {
          "bdata": "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",
          "dtype": "f8"
         },
         "xaxis": "x",
         "y": {
          "bdata": "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",
          "dtype": "f8"
         },
         "yaxis": "y"
        },
        {
         "hovertemplate": "Expiry: 2025-10-31 09:00:00<br>Strike: %{x:.0f}<br>IV: %{y:.1f}%<extra></extra>",
         "marker": {
          "color": "#FF97FF",
          "size": 6
         },
         "mode": "markers",
         "name": "Market IV - 2025-10-31",
         "showlegend": true,
         "type": "scatter",
         "x": {
          "bdata": "AAAAAACI40AAAAAAAGroQAAAAAAATO1AAAAAAAAX8UAAAAAAAIjzQAAAAACAwPRAAAAAAAD59UAAAAAAgDH3QAAAAAAAavhAAAAAAADn+EAAAAAAAGT5QAAAAACAovlAAAAAAADh+UAAAAAAAF76QAAAAAAA2/pAAAAAAABY+0AAAAAAANX7QAAAAACAE/xAAAAAAABS/EAAAAAAAM/8QAAAAAAATP1AAAAAAADJ/UAAAAAAAEb+QAAAAAAAw/5AAAAAAABA/0AAAAAAAL3/QAAAAAAAHQBBAAAAAIBbAEEAAAAAwHoAQQAAAAAAmgBBAAAAAIDYAEEAAAAAABcBQQAAAABAswFBAAAAAIBPAkEAAAAAwOsCQQAAAAAAiANBAAAAAIDABEEAAAAAAPkFQQAAAACAMQdBAAAAAABqCEEAAAAAgKIJQQ==",
          "dtype": "f8"
         },
         "xaxis": "x",
         "y": {
          "bdata": "rkfhehSOVUDsUbgehVtTQPYoXI/C1VBA7FG4HoUrTUDgehSuR2FJQOxRuB6Fy0dArkfhehRuRkBxPQrXozBFQClcj8L1CERASOF6FK6nQ0ApXI/C9UhDQMP1KFyPIkNA16NwPQr3QkBxPQrXo7BCQArXo3A9akJArkfhehQuQkCamZmZmflBQD0K16Nw3UFAAAAAAADAQUCF61G4HqVBQMP1KFyPgkFAw/UoXI+CQUCkcD0K14NBQKRwPQrXg0FAZmZmZmaGQUCamZmZmZlBQD0K16NwvUFAAAAAAADgQUCamZmZmflBQOxRuB6FC0JAXI/C9SgcQkApXI/C9UhCQIXrUbge5UJApHA9CteDQ0DsUbgehQtEQDMzMzMzs0RArkfhehQORkBxPQrXo5BHQNejcD0K90hA4XoUrkdBSkB7FK5H4XpLQA==",
          "dtype": "f8"
         },
         "yaxis": "y"
        },
        {
         "hovertemplate": "Expiry: 2025-10-31 09:00:00<br>Strike: %{x:.0f}<br>IV: %{y:.1f}%<extra></extra>",
         "line": {
          "color": "#FF97FF",
          "width": 2
         },
         "mode": "lines",
         "name": "IV Curve - 2025-10-31",
         "showlegend": false,
         "type": "scatter",
         "x": {
          "bdata": "AAAAAACI40APbPSuyPLjQB/Y6F2RXeRALkTdDFrI5EA+sNG7IjPlQE0cxmrrneVAXYi6GbQI5kBs9K7IfHPmQHxgo3dF3uZAi8yXJg5J50CaOIzV1rPnQKqkgISfHuhAuRB1M2iJ6EDJfGniMPToQNjoXZH5XulA6FRSQMLJ6UD3wEbvijTqQAYtO55Tn+pAFpkvTRwK60AlBST85HTrQDVxGKut3+tARN0MWnZK7EBUSQEJP7XsQGO19bcHIO1AciHqZtCK7UCCjd4VmfXtQJL50sRhYO5AoWXHcyrL7kCw0bsi8zXvQMA9sNG7oO9A6FRSQMIF8EDvisyXJjvwQPfARu+KcPBA//bARu+l8EAGLTueU9vwQA5jtfW3EPFAFpkvTRxG8UAez6mkgHvxQCUFJPzksPFALTueU0nm8UA1cRirrRvyQDynkgISUfJARN0MWnaG8kBME4ex2rvyQFRJAQk/8fJAXH97YKMm80BjtfW3B1zzQGvrbw9skfNAciHqZtDG80B6V2S+NPzzQIKN3hWZMfRAisNYbf1m9ECS+dLEYZz0QJkvTRzG0fRAoWXHcyoH9UCom0HLjjz1QLDRuyLzcfVAuAc2elen9UDAPbDRu9z1QMhzKikgEvZAz6mkgIRH9kDX3x7Y6Hz2QN4VmS9NsvZA5ksTh7Hn9kDugY3eFR33QPa3BzZ6UvdA/u2Bjd6H90AFJPzkQr33QA1adjyn8vdAFJDwkwso+EAcxmrrb134QCT85ELUkvhALDJfmjjI+EA0aNnxnP34QDueU0kBM/lAQ9TNoGVo+UBKCkj4yZ35QFJAwk8u0/lAWnY8p5II+kBirLb+9j36QGriMFZbc/pAcRirrb+o+kB5TiUFJN76QIGEn1yIE/tAiLoZtOxI+0CQ8JMLUX77QJgmDmO1s/tAoFyIuhnp+0CnkgISfh78QK/IfGniU/xAt/72wEaJ/EC+NHEYq778QMZq628P9PxAzqBlx3Mp/UDW1t8e2F79QN0MWnY8lP1A5ULUzaDJ/UDteE4lBf/9QPSuyHxpNP5A/ORC1M1p/kAEG70rMp/+QAxRN4OW1P5AE4ex2voJ/0AbvSsyXz//QCPzpYnDdP9AKikg4Seq/0AyX5o4jN//QJ1KCkh4CgBBoWXHcyolAEGkgISf3D8AQaibQcuOWgBBrLb+9kB1AEGw0bsi848AQbTseE6lqgBBuAc2elfFAEG8IvOlCeAAQcA9sNG7+gBBxFht/W0VAUHIcyopIDABQcyO51TSSgFBz6mkgIRlAUHTxGGsNoABQdffHtjomgFB2vrbA5u1AUHeFZkvTdABQeIwVlv/6gFB5ksTh7EFAkHqZtCyYyACQe6Bjd4VOwJB8pxKCshVAkH2twc2enACQfrSxGEsiwJB/u2Bjd6lAkECCT+5kMACQQUk/ORC2wJBCT+5EPX1AkENWnY8pxADQRB1M2hZKwNBFJDwkwtGA0EYq62/vWADQRzGautvewNBIOEnFyKWA0Ek/ORC1LADQSgXom6GywNBLDJfmjjmA0EwTRzG6gAEQTRo2fGcGwRBOIOWHU82BEE7nlNJAVEEQT+5EHWzawRBQ9TNoGWGBEFH74rMF6EEQUoKSPjJuwRBTiUFJHzWBEFSQMJPLvEEQVZbf3vgCwVBWnY8p5ImBUFekfnSREEFQWKstv72WwVBZsdzKql2BUFq4jBWW5EFQW397YENrAVBcRirrb/GBUF1M2jZceEFQXlOJQUk/AVBfWniMNYWBkGBhJ9ciDEGQYWfXIg6TAZBiLoZtOxmBkGM1dbfnoEGQZDwkwtRnAZBlAtRNwO3BkGYJg5jtdEGQZxBy45n7AZBoFyIuhkHB0Gjd0XmyyEHQaeSAhJ+PAdBq62/PTBXB0GvyHxp4nEHQbPjOZWUjAdBt/72wEanB0G7GbTs+MEHQb40cRir3AdBwk8uRF33B0HGautvDxIIQcqFqJvBLAhBzqBlx3NHCEHSuyLzJWIIQdbW3x7YfAhB2fGcSoqXCEHdDFp2PLIIQeEnF6LuzAhB5ULUzaDnCEHpXZH5UgIJQe14TiUFHQlB8ZMLUbc3CUH0rsh8aVIJQfjJhagbbQlB/ORC1M2HCUEAAAAAgKIJQQ==",
          "dtype": "f8"
         },
         "xaxis": "x",
         "y": {
          "bdata": "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",
          "dtype": "f8"
         },
         "yaxis": "y"
        },
        {
         "hovertemplate": "Expiry: 2025-12-26 09:00:00<br>Strike: %{x:.0f}<br>IV: %{y:.1f}%<extra></extra>",
         "marker": {
          "color": "#FECB52",
          "size": 6
         },
         "mode": "markers",
         "name": "Market IV - 2025-12-26",
         "showlegend": true,
         "type": "scatter",
         "x": {
          "bdata": "AAAAAACI00AAAAAAAEzdQAAAAAAAiONAAAAAAABq6EAAAAAAAEztQAAAAAAAve9AAAAAAAAX8UAAAAAAgE/yQAAAAAAAiPNAAAAAAIDA9EAAAAAAAPn1QAAAAACAMfdAAAAAAABq+EAAAAAAgKL5QAAAAAAA2/pAAAAAAIAT/EAAAAAAAEz9QAAAAACAhP5AAAAAAAC9/0AAAAAAwHoAQQAAAAAAFwFBAAAAAECzAUEAAAAAgE8CQQAAAAAAiANBAAAAAIDABEEAAAAAAPkFQQAAAACAMQdBAAAAAABqCEEAAAAAgKIJQQAAAAAA2wpBAAAAAIATDEEAAAAAAEwNQQAAAAAAvQ9BAAAAAAAXEUEAAAAAgE8SQQAAAAAAiBNBAAAAAIDAFEEAAAAAAGoYQQ==",
          "dtype": "f8"
         },
         "xaxis": "x",
         "y": {
          "bdata": "AAAAAAAQWUBSuB6F6wFVQOF6FK5H8VJAFK5H4XrEUEAVrkfhetRNQF2PwvUoHExAPQrXo3C9SkBwPQrXo5BJQOxRuB6FS0hAPQrXo3A9R0DsUbgehUtGQOxRuB6Fi0VAzczMzMwMRUCF61G4HqVEQFyPwvUoXERA4XoUrkchREA9CtejcP1DQBSuR+F69ENA4XoUrkcBREAUrkfhehREQPYoXI/CNURAmpmZmZlZRECamZmZmZlEQIXrUbgeJUVAPQrXo3C9RUAzMzMzM5NGQArXo3A9SkdAFK5H4Xr0R0CamZmZmZlIQAvXo3A9SklAFa5H4Xr0SUCPwvUoXI9KQK5H4XoU7ktAKVyPwvUITUD2KFyPwhVOQLgehetR+E5AZmZmZmbGT0CuR+F6FC5RQA==",
          "dtype": "f8"
         },
         "yaxis": "y"
        },
        {
         "hovertemplate": "Expiry: 2025-12-26 09:00:00<br>Strike: %{x:.0f}<br>IV: %{y:.1f}%<extra></extra>",
         "line": {
          "color": "#FECB52",
          "width": 2
         },
         "mode": "lines",
         "name": "IV Curve - 2025-12-26",
         "showlegend": false,
         "type": "scatter",
         "x": {
          "bdata": "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",
          "dtype": "f8"
         },
         "xaxis": "x",
         "y": {
          "bdata": "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",
          "dtype": "f8"
         },
         "yaxis": "y"
        },
        {
         "fill": "tozeroy",
         "fillcolor": "rgba(99, 110, 250, 0.1)",
         "hovertemplate": "Expiry: 2025-08-22 10:00:00<br>Strike: %{x:.0f}<br>Density: %{y:.6f}<extra></extra>",
         "line": {
          "color": "#636EFA",
          "width": 2
         },
         "mode": "lines",
         "name": "RN Density - 2025-08-22",
         "type": "scatter",
         "x": {
          "bdata": "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",
          "dtype": "f8"
         },
         "xaxis": "x2",
         "y": {
          "bdata": "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",
          "dtype": "f8"
         },
         "yaxis": "y2"
        },
        {
         "fill": "tonexty",
         "fillcolor": "rgba(239, 85, 59, 0.1)",
         "hovertemplate": "Expiry: 2025-08-23 10:00:00<br>Strike: %{x:.0f}<br>Density: %{y:.6f}<extra></extra>",
         "line": {
          "color": "#EF553B",
          "width": 2
         },
         "mode": "lines",
         "name": "RN Density - 2025-08-23",
         "type": "scatter",
         "x": {
          "bdata": "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",
          "dtype": "f8"
         },
         "xaxis": "x2",
         "y": {
          "bdata": "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",
          "dtype": "f8"
         },
         "yaxis": "y2"
        },
        {
         "fill": "tonexty",
         "fillcolor": "rgba(0, 204, 150, 0.1)",
         "hovertemplate": "Expiry: 2025-08-24 10:00:00<br>Strike: %{x:.0f}<br>Density: %{y:.6f}<extra></extra>",
         "line": {
          "color": "#00CC96",
          "width": 2
         },
         "mode": "lines",
         "name": "RN Density - 2025-08-24",
         "type": "scatter",
         "x": {
          "bdata": "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",
          "dtype": "f8"
         },
         "xaxis": "x2",
         "y": {
          "bdata": "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",
          "dtype": "f8"
         },
         "yaxis": "y2"
        },
        {
         "fill": "tonexty",
         "fillcolor": "rgba(171, 99, 250, 0.1)",
         "hovertemplate": "Expiry: 2025-08-25 10:00:00<br>Strike: %{x:.0f}<br>Density: %{y:.6f}<extra></extra>",
         "line": {
          "color": "#AB63FA",
          "width": 2
         },
         "mode": "lines",
         "name": "RN Density - 2025-08-25",
         "type": "scatter",
         "x": {
          "bdata": "AAAAAADh+UAoF6JuBub5QFAuRN0M6/lAeEXmSxPw+UCgXIi6GfX5QMdzKikg+vlA74rMlyb/+UAXom4GLQT6QD+5EHUzCfpAZ9Cy4zkO+kCP51RSQBP6QLf+9sBGGPpA3xWZL00d+kAGLTueUyL6QC5E3QxaJ/pAVlt/e2As+kB+ciHqZjH6QKaJw1htNvpAzqBlx3M7+kD2twc2ekD6QB7PqaSARfpAReZLE4dK+kBt/e2BjU/6QJUUkPCTVPpAvSsyX5pZ+kDlQtTNoF76QA1adjynY/pANXEYq61o+kBdiLoZtG36QIWfXIi6cvpArLb+9sB3+kDUzaBlx3z6QPzkQtTNgfpAJPzkQtSG+kBME4ex2ov6QHQqKSDhkPpAnEHLjueV+kDEWG397Zr6QOtvD2z0n/pAE4ex2vqk+kA7nlNJAar6QGO19bcHr/pAi8yXJg60+kCz4zmVFLn6QNv62wMbvvpAAxJ+ciHD+kAqKSDhJ8j6QFJAwk8uzfpAeldkvjTS+kCibgYtO9f6QMqFqJtB3PpA8pxKCkjh+kAatOx4Tub6QELLjudU6/pAauIwVlvw+kCR+dLEYfX6QLkQdTNo+vpA4ScXom7/+kAJP7kQdQT7QDFWW397CftAWW397YEO+0CBhJ9ciBP7QKmbQcuOGPtA0LLjOZUd+0D4yYWomyL7QCDhJxeiJ/tASPjJhags+0BwD2z0rjH7QJgmDmO1NvtAwD2w0bs7+0DoVFJAwkD7QBBs9K7IRftAN4OWHc9K+0BfmjiM1U/7QIex2vrbVPtAr8h8aeJZ+0DX3x7Y6F77QP/2wEbvY/tAJw5jtfVo+0BOJQUk/G37QHY8p5ICc/tAnlNJAQl4+0DGautvD337QO6Bjd4VgvtAFpkvTRyH+0A+sNG7Ioz7QGbHcyopkftAjt4VmS+W+0C19bcHNpv7QN0MWnY8oPtABST85EKl+0AtO55TSar7QFVSQMJPr/tAfWniMFa0+0ClgISfXLn7QM2XJg5jvvtA9K7IfGnD+0Acxmrrb8j7QETdDFp2zftAbPSuyHzS+0CUC1E3g9f7QLwi86WJ3PtA5DmVFJDh+0AMUTeDlub7QDRo2fGc6/tAW397YKPw+0CDlh3PqfX7QKutvz2w+vtA08RhrLb/+0D72wMbvQT8QCPzpYnDCfxASwpI+MkO/EByIepm0BP8QJo4jNXWGPxAwk8uRN0d/EDqZtCy4yL8QBJ+ciHqJ/xAOpUUkPAs/EBirLb+9jH8QIrDWG39NvxAstr62wM8/EDa8ZxKCkH8QAEJP7kQRvxAKSDhJxdL/EBRN4OWHVD8QHlOJQUkVfxAoWXHcypa/EDJfGniMF/8QPGTC1E3ZPxAGKutvz1p/EBAwk8uRG78QGjZ8ZxKc/xAkPCTC1F4/EC4BzZ6V338QOAe2OhdgvxACDZ6V2SH/EAwTRzGaoz8QFhkvjRxkfxAf3tgo3eW/ECnkgISfpv8QM+ppICEoPxA98BG74ql/EAf2Ohdkar8QEfvisyXr/xAbwYtO560/ECXHc+ppLn8QL40cRirvvxA5ksTh7HD/EAOY7X1t8j8QDZ6V2S+zfxAXpH50sTS/ECGqJtBy9f8QK6/PbDR3PxA1tbfHtjh/ED+7YGN3ub8QCUFJPzk6/xATRzGauvw/EB1M2jZ8fX8QJ1KCkj4+vxAxWGstv7//EDteE4lBQX9QBWQ8JMLCv1APKeSAhIP/UBkvjRxGBT9QIzV1t8eGf1AtOx4TiUe/UDcAxu9KyP9QAQbvSsyKP1ALDJfmjgt/UBUSQEJPzL9QHxgo3dFN/1ApHdF5ks8/UDLjudUUkH9QPOlicNYRv1AG70rMl9L/UBD1M2gZVD9QGvrbw9sVf1AkwISfnJa/UC7GbTseF/9QOIwVlt/ZP1ACkj4yYVp/UAyX5o4jG79QFp2PKeSc/1Ago3eFZl4/UCqpICEn339QNK7IvOlgv1A+tLEYayH/UAi6mbQsoz9QEkBCT+5kf1AcRirrb+W/UCZL00cxpv9QMFG74rMoP1A6V2R+dKl/UARdTNo2ar9QDmM1dbfr/1AYaN3Rea0/UCIuhm07Ln9QLDRuyLzvv1A2OhdkfnD/UAAAAAAAMn9QA==",
          "dtype": "f8"
         },
         "xaxis": "x2",
         "y": {
          "bdata": "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",
          "dtype": "f8"
         },
         "yaxis": "y2"
        },
        {
         "fill": "tonexty",
         "fillcolor": "rgba(255, 161, 90, 0.1)",
         "hovertemplate": "Expiry: 2025-08-29 10:00:00<br>Strike: %{x:.0f}<br>Density: %{y:.6f}<extra></extra>",
         "line": {
          "color": "#FFA15A",
          "width": 2
         },
         "mode": "lines",
         "name": "RN Density - 2025-08-29",
         "type": "scatter",
         "x": {
          "bdata": "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",
          "dtype": "f8"
         },
         "xaxis": "x2",
         "y": {
          "bdata": "AAAAAAAAAAAAAAAAAAAAAL6mrUFMIoI+0sLHgk/hnz60ogX6D9auPl2leYVBMbc+vtr5hVO5vz7sTkHXwHvEPg3YVBIQgsk+4ptxjzX8zj4Frflgo3fSPtEhvz84xdU+odqcDzU02T7vN5W2lqvdPrMcSmZA5N0+DTVW0fRW3D6KY9SDX9zaPtnjUyL369g+4AiN46Kb1j7KzlsqRtnTPn1GI3MJoNA+ilfov2HVyT5EIBPsOWvBPqs9VzWoEbA+AAAAAAAAAAAAAAAAAAAAAAAAAAAAAAAAAAAAAAAAAAAAAAAAAAAAAAAAAAAAAAAAAAAAAAAAAAAAAAAAAAAAAAAAAAAAAAAAAAAAAAAAAAAAAAAAAAAAAAAAAAAAAAAAAAAAAAAAAAAAAAAAAAAAAAAAAAAAAAAAAAAAAAAAAAAAAAAAAAAAAAAAAAAAAAAAAAAAAAAAAAAAAAAAAAAAAAAAAAAAAAAAAAAAAAAAAAAAAAAAAAAAAAAAAAAAAAAAAmI+9ySxlj5BBkAMrPm0PhanbIikeMI+8S9nARLpyj443wYZorfRPhbDZs6DxNY+V8nUx8CC0D7XO/ZO81XCPvcsgpd2c5o+AAAAAAAAAAAAAAAAAAAAAAAAAAAAAAAAAAAAAAAAAAAAAAAAAAAAAAAAAAAAAAAAAAAAAAAAAAAAAAAAAAAAAFnfBDpjIq0+8ruj2oDFzj4AAAAAAAAAAAAAAAAAAAAAAAAAAAAAAAAAAAAAAAAAAPXWvxGksvE+PYXvjdJg8T4AAAAAAAAAAAAAAAAAAAAAmRbmIDAnuj7cfgJU5cXNPrfU/skEMdo+Y+FoG7H5zj7hEY9jtp2gPpSGvyqFuaA+Pj1soKOv1j6rCRXlGevmPsuyVVH/zN4+S1Otv2ASJD4AAAAAAAAAAIDwe35uVdM+oU+/NOzS8D4wDd66xTXzPvaWe3Y3VOI+AAAAAAAAAADDXX19J53pPtHOmJ0TggI/BpRjsdUaCz8AAAAAAAAAAJDUwy3KKQA/N3cIkvDZCD8AAAAAAAAAALwP099WZAA/UFRwmSUuED9ed4wE1TMHPwAAAAAAAAAA8Ljxh/bx4z5g//TDVVH1PiqJWkIGKQc/R0Y2z8l0ED/aY47Ii2vmPutUN3EzbgU/AAAAAAAAAAAAAAAAAAAAAEQmqlwAigg/jkkBAno6CT9sAy3tRazzPgAAAAAAAAAArVSuvqUADz8AAAAAAAAAAAAAAAAAAAAA+6a7WzhHIz/N9LuMIaP3PgAAAAAAAAAAAAAAAAAAAAAAAAAAAAAAAKefsrior/U+oHoEX/Ng2j4AAAAAAAAAAAAAAAAAAAAAAAAAAAAAAADt9XffS00IP2+y8Mi3ShA/SLOTuNqRBD+9gI8kXFH7PhWQRoFkouY+AAAAAAAAAAAAAAAAAAAAAAAAAAAAAAAAAAAAAAAAAAAAAAAAAAAAAAAAAAAAAAAAAAAAAAAAAAAAAAAAAAAAAAAAAAAAAAAAAAAAAAAAAAAAAAAAAAAAAAAAAAAAAAAAAAAAAAAAAAAAAAAAAAAAAIPigxVdtWg+AAAAAAAAAAAAAAAAAAAAAAAAAAAAAAAAAAAAAAAAAAAAAAAAAAAAAAAAAAAAAAAAAAAAAAAAAAAAAAAAAAAAAAAAAAAAAAAAAAAAAAAAAAAAAAAAAAAAAAAAAAAAAAAAAAAAAAAAAAAAAAAAAAAAAAAAAAAAAAAAAAAAAAAAAAAAAAAAAAAAAAAAAAAAAAAAAAAAAAAAAAAAAAAAAAAAAAAAAAAAAAAAPAjXNA9Tkj4zEGmZe66tPkdRJwQt0rg+AVu9mFb9wD7DmLW4CynGPkPWV1sLRsc+tp706MEPxT6/tuKXk6PDPs1lq+J6EcI+Q4si23KZwD6ysMXB+FO+PpwPkfDUjrs+sXTF3obguD4u6hlY8Ui2PmJ1LUVnyLM+Yq1Di95asT5516jXPBuuPoyFhzDJWqk+nE7V0qMFpj5JY1eS1XKmPpdE5OZzUaY+m9icHTVUpj5R9J87OUumPjixVjsHQ6Y+YZq0Tkk5pj4ZJ0gBtyqmPtD288u7JqY+H7BiNfTypT7jDjXdeGmmPmFsPBJYXKQ+QKpU7VWpqz4FU0aVlBZJPQ==",
          "dtype": "f8"
         },
         "yaxis": "y2"
        },
        {
         "fill": "tonexty",
         "fillcolor": "rgba(25, 211, 243, 0.1)",
         "hovertemplate": "Expiry: 2025-09-05 10:00:00<br>Strike: %{x:.0f}<br>Density: %{y:.6f}<extra></extra>",
         "line": {
          "color": "#19D3F3",
          "width": 2
         },
         "mode": "lines",
         "name": "RN Density - 2025-09-05",
         "type": "scatter",
         "x": {
          "bdata": "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",
          "dtype": "f8"
         },
         "xaxis": "x2",
         "y": {
          "bdata": "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",
          "dtype": "f8"
         },
         "yaxis": "y2"
        },
        {
         "fill": "tonexty",
         "fillcolor": "rgba(255, 102, 146, 0.1)",
         "hovertemplate": "Expiry: 2025-09-12 10:00:00<br>Strike: %{x:.0f}<br>Density: %{y:.6f}<extra></extra>",
         "line": {
          "color": "#FF6692",
          "width": 2
         },
         "mode": "lines",
         "name": "RN Density - 2025-09-12",
         "type": "scatter",
         "x": {
          "bdata": "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",
          "dtype": "f8"
         },
         "xaxis": "x2",
         "y": {
          "bdata": "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",
          "dtype": "f8"
         },
         "yaxis": "y2"
        },
        {
         "fill": "tonexty",
         "fillcolor": "rgba(182, 232, 128, 0.1)",
         "hovertemplate": "Expiry: 2025-09-26 10:00:00<br>Strike: %{x:.0f}<br>Density: %{y:.6f}<extra></extra>",
         "line": {
          "color": "#B6E880",
          "width": 2
         },
         "mode": "lines",
         "name": "RN Density - 2025-09-26",
         "type": "scatter",
         "x": {
          "bdata": "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",
          "dtype": "f8"
         },
         "xaxis": "x2",
         "y": {
          "bdata": "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",
          "dtype": "f8"
         },
         "yaxis": "y2"
        },
        {
         "fill": "tonexty",
         "fillcolor": "rgba(255, 151, 255, 0.1)",
         "hovertemplate": "Expiry: 2025-10-31 09:00:00<br>Strike: %{x:.0f}<br>Density: %{y:.6f}<extra></extra>",
         "line": {
          "color": "#FF97FF",
          "width": 2
         },
         "mode": "lines",
         "name": "RN Density - 2025-10-31",
         "type": "scatter",
         "x": {
          "bdata": "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",
          "dtype": "f8"
         },
         "xaxis": "x2",
         "y": {
          "bdata": "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",
          "dtype": "f8"
         },
         "yaxis": "y2"
        },
        {
         "fill": "tonexty",
         "fillcolor": "rgba(254, 203, 82, 0.1)",
         "hovertemplate": "Expiry: 2025-12-26 09:00:00<br>Strike: %{x:.0f}<br>Density: %{y:.6f}<extra></extra>",
         "line": {
          "color": "#FECB52",
          "width": 2
         },
         "mode": "lines",
         "name": "RN Density - 2025-12-26",
         "type": "scatter",
         "x": {
          "bdata": "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",
          "dtype": "f8"
         },
         "xaxis": "x2",
         "y": {
          "bdata": "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",
          "dtype": "f8"
         },
         "yaxis": "y2"
        },
        {
         "colorscale": [
          [
           0,
           "#440154"
          ],
          [
           0.1111111111111111,
           "#482878"
          ],
          [
           0.2222222222222222,
           "#3e4989"
          ],
          [
           0.3333333333333333,
           "#31688e"
          ],
          [
           0.4444444444444444,
           "#26828e"
          ],
          [
           0.5555555555555556,
           "#1f9e89"
          ],
          [
           0.6666666666666666,
           "#35b779"
          ],
          [
           0.7777777777777778,
           "#6ece58"
          ],
          [
           0.8888888888888888,
           "#b5de2b"
          ],
          [
           1,
           "#fde725"
          ]
         ],
         "hovertemplate": "Strike: %{x:.0f}<br>Days to Expiry: %{y:.1f}<br>IV: %{z:.1f}%<extra></extra>",
         "name": "IV Surface",
         "scene": "scene",
         "type": "surface",
         "x": {
          "bdata": "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",
          "dtype": "f8",
          "shape": "10, 50"
         },
         "y": {
          "bdata": "AAAAAAAAAAAAAAAAAAAAAAAAAAAAAAAAAAAAAAAAAAAAAAAAAAAAAAAAAAAAAAAAAAAAAAAAAAAAAAAAAAAAAAAAAAAAAAAAAAAAAAAAAAAAAAAAAAAAAAAAAAAAAAAAAAAAAAAAAAAAAAAAAAAAAAAAAAAAAAAAAAAAAAAAAAAAAAAAAAAAAAAAAAAAAAAAAAAAAAAAAAAAAAAAAAAAAAAAAAAAAAAAAAAAAAAAAAAAAAAAAAAAAAAAAAAAAAAAAAAAAAAAAAAAAAAAAAAAAAAAAAAAAAAAAAAAAAAAAAAAAAAAAAAAAAAAAAAAAAAAAAAAAAAAAAAAAAAAAAAAAAAAAAAAAAAAAAAAAAAAAAAAAAAAAAAAAAAAAAAAAAAAAAAAAAAAAAAAAAAAAAAAAAAAAAAAAAAAAAAAAAAAAAAAAAAAAAAAAAAAAAAAAAAAAAAAAAAAAAAAAAAAAAAAAAAAAAAAAAAAAAAAAAAAAAAAAAAAAAAAAAAAAAAAAAAAAAAAAAAAAAAAAAAAAAAAAAAAAAAAAPA/AAAAAAAA8D8AAAAAAADwPwAAAAAAAPA/AAAAAAAA8D8AAAAAAADwPwAAAAAAAPA/AAAAAAAA8D8AAAAAAADwPwAAAAAAAPA/AAAAAAAA8D8AAAAAAADwPwAAAAAAAPA/AAAAAAAA8D8AAAAAAADwPwAAAAAAAPA/AAAAAAAA8D8AAAAAAADwPwAAAAAAAPA/AAAAAAAA8D8AAAAAAADwPwAAAAAAAPA/AAAAAAAA8D8AAAAAAADwPwAAAAAAAPA/AAAAAAAA8D8AAAAAAADwPwAAAAAAAPA/AAAAAAAA8D8AAAAAAADwPwAAAAAAAPA/AAAAAAAA8D8AAAAAAADwPwAAAAAAAPA/AAAAAAAA8D8AAAAAAADwPwAAAAAAAPA/AAAAAAAA8D8AAAAAAADwPwAAAAAAAPA/AAAAAAAA8D8AAAAAAADwPwAAAAAAAPA/AAAAAAAA8D8AAAAAAADwPwAAAAAAAPA/AAAAAAAA8D8AAAAAAADwPwAAAAAAAPA/AAAAAAAA8D8AAAAAAAAAQAAAAAAAAABAAAAAAAAAAEAAAAAAAAAAQAAAAAAAAABAAAAAAAAAAEAAAAAAAAAAQAAAAAAAAABAAAAAAAAAAEAAAAAAAAAAQAAAAAAAAABAAAAAAAAAAEAAAAAAAAAAQAAAAAAAAABAAAAAAAAAAEAAAAAAAAAAQAAAAAAAAABAAAAAAAAAAEAAAAAAAAAAQAAAAAAAAABAAAAAAAAAAEAAAAAAAAAAQAAAAAAAAABAAAAAAAAAAEAAAAAAAAAAQAAAAAAAAABAAAAAAAAAAEAAAAAAAAAAQAAAAAAAAABAAAAAAAAAAEAAAAAAAAAAQAAAAAAAAABAAAAAAAAAAEAAAAAAAAAAQAAAAAAAAABAAAAAAAAAAEAAAAAAAAAAQAAAAAAAAABAAAAAAAAAAEAAAAAAAAAAQAAAAAAAAABAAAAAAAAAAEAAAAAAAAAAQAAAAAAAAABAAAAAAAAAAEAAAAAAAAAAQAAAAAAAAABAAAAAAAAAAEAAAAAAAAAAQAAAAAAAAABAAAAAAAAACEAAAAAAAAAIQAAAAAAAAAhAAAAAAAAACEAAAAAAAAAIQAAAAAAAAAhAAAAAAAAACEAAAAAAAAAIQAAAAAAAAAhAAAAAAAAACEAAAAAAAAAIQAAAAAAAAAhAAAAAAAAACEAAAAAAAAAIQAAAAAAAAAhAAAAAAAAACEAAAAAAAAAIQAAAAAAAAAhAAAAAAAAACEAAAAAAAAAIQAAAAAAAAAhAAAAAAAAACEAAAAAAAAAIQAAAAAAAAAhAAAAAAAAACEAAAAAAAAAIQAAAAAAAAAhAAAAAAAAACEAAAAAAAAAIQAAAAAAAAAhAAAAAAAAACEAAAAAAAAAIQAAAAAAAAAhAAAAAAAAACEAAAAAAAAAIQAAAAAAAAAhAAAAAAAAACEAAAAAAAAAIQAAAAAAAAAhAAAAAAAAACEAAAAAAAAAIQAAAAAAAAAhAAAAAAAAACEAAAAAAAAAIQAAAAAAAAAhAAAAAAAAACEAAAAAAAAAIQAAAAAAAAAhAAAAAAAAACEAAAAAAAAAIQAAAAAAAABxAAAAAAAAAHEAAAAAAAAAcQAAAAAAAABxAAAAAAAAAHEAAAAAAAAAcQAAAAAAAABxAAAAAAAAAHEAAAAAAAAAcQAAAAAAAABxAAAAAAAAAHEAAAAAAAAAcQAAAAAAAABxAAAAAAAAAHEAAAAAAAAAcQAAAAAAAABxAAAAAAAAAHEAAAAAAAAAcQAAAAAAAABxAAAAAAAAAHEAAAAAAAAAcQAAAAAAAABxAAAAAAAAAHEAAAAAAAAAcQAAAAAAAABxAAAAAAAAAHEAAAAAAAAAcQAAAAAAAABxAAAAAAAAAHEAAAAAAAAAcQAAAAAAAABxAAAAAAAAAHEAAAAAAAAAcQAAAAAAAABxAAAAAAAAAHEAAAAAAAAAcQAAAAAAAABxAAAAAAAAAHEAAAAAAAAAcQAAAAAAAABxAAAAAAAAAHEAAAAAAAAAcQAAAAAAAABxAAAAAAAAAHEAAAAAAAAAcQAAAAAAAABxAAAAAAAAAHEAAAAAAAAAcQAAAAAAAABxAAAAAAAAAHEAAAAAAAAAsQAAAAAAAACxAAAAAAAAALEAAAAAAAAAsQAAAAAAAACxAAAAAAAAALEAAAAAAAAAsQAAAAAAAACxAAAAAAAAALEAAAAAAAAAsQAAAAAAAACxAAAAAAAAALEAAAAAAAAAsQAAAAAAAACxAAAAAAAAALEAAAAAAAAAsQAAAAAAAACxAAAAAAAAALEAAAAAAAAAsQAAAAAAAACxAAAAAAAAALEAAAAAAAAAsQAAAAAAAACxAAAAAAAAALEAAAAAAAAAsQAAAAAAAACxAAAAAAAAALEAAAAAAAAAsQAAAAAAAACxAAAAAAAAALEAAAAAAAAAsQAAAAAAAACxAAAAAAAAALEAAAAAAAAAsQAAAAAAAACxAAAAAAAAALEAAAAAAAAAsQAAAAAAAACxAAAAAAAAALEAAAAAAAAAsQAAAAAAAACxAAAAAAAAALEAAAAAAAAAsQAAAAAAAACxAAAAAAAAALEAAAAAAAAAsQAAAAAAAACxAAAAAAAAALEAAAAAAAAAsQAAAAAAAACxAAAAAAAAANUAAAAAAAAA1QAAAAAAAADVAAAAAAAAANUAAAAAAAAA1QAAAAAAAADVAAAAAAAAANUAAAAAAAAA1QAAAAAAAADVAAAAAAAAANUAAAAAAAAA1QAAAAAAAADVAAAAAAAAANUAAAAAAAAA1QAAAAAAAADVAAAAAAAAANUAAAAAAAAA1QAAAAAAAADVAAAAAAAAANUAAAAAAAAA1QAAAAAAAADVAAAAAAAAANUAAAAAAAAA1QAAAAAAAADVAAAAAAAAANUAAAAAAAAA1QAAAAAAAADVAAAAAAAAANUAAAAAAAAA1QAAAAAAAADVAAAAAAAAANUAAAAAAAAA1QAAAAAAAADVAAAAAAAAANUAAAAAAAAA1QAAAAAAAADVAAAAAAAAANUAAAAAAAAA1QAAAAAAAADVAAAAAAAAANUAAAAAAAAA1QAAAAAAAADVAAAAAAAAANUAAAAAAAAA1QAAAAAAAADVAAAAAAAAANUAAAAAAAAA1QAAAAAAAADVAAAAAAAAANUAAAAAAAAA1QAAAAAAAgEFAAAAAAACAQUAAAAAAAIBBQAAAAAAAgEFAAAAAAACAQUAAAAAAAIBBQAAAAAAAgEFAAAAAAACAQUAAAAAAAIBBQAAAAAAAgEFAAAAAAACAQUAAAAAAAIBBQAAAAAAAgEFAAAAAAACAQUAAAAAAAIBBQAAAAAAAgEFAAAAAAACAQUAAAAAAAIBBQAAAAAAAgEFAAAAAAACAQUAAAAAAAIBBQAAAAAAAgEFAAAAAAACAQUAAAAAAAIBBQAAAAAAAgEFAAAAAAACAQUAAAAAAAIBBQAAAAAAAgEFAAAAAAACAQUAAAAAAAIBBQAAAAAAAgEFAAAAAAACAQUAAAAAAAIBBQAAAAAAAgEFAAAAAAACAQUAAAAAAAIBBQAAAAAAAgEFAAAAAAACAQUAAAAAAAIBBQAAAAAAAgEFAAAAAAACAQUAAAAAAAIBBQAAAAAAAgEFAAAAAAACAQUAAAAAAAIBBQAAAAAAAgEFAAAAAAACAQUAAAAAAAIBBQAAAAAAAgEFAAAAAAACAQUAAAAAAAIBRQAAAAAAAgFFAAAAAAACAUUAAAAAAAIBRQAAAAAAAgFFAAAAAAACAUUAAAAAAAIBRQAAAAAAAgFFAAAAAAACAUUAAAAAAAIBRQAAAAAAAgFFAAAAAAACAUUAAAAAAAIBRQAAAAAAAgFFAAAAAAACAUUAAAAAAAIBRQAAAAAAAgFFAAAAAAACAUUAAAAAAAIBRQAAAAAAAgFFAAAAAAACAUUAAAAAAAIBRQAAAAAAAgFFAAAAAAACAUUAAAAAAAIBRQAAAAAAAgFFAAAAAAACAUUAAAAAAAIBRQAAAAAAAgFFAAAAAAACAUUAAAAAAAIBRQAAAAAAAgFFAAAAAAACAUUAAAAAAAIBRQAAAAAAAgFFAAAAAAACAUUAAAAAAAIBRQAAAAAAAgFFAAAAAAACAUUAAAAAAAIBRQAAAAAAAgFFAAAAAAACAUUAAAAAAAIBRQAAAAAAAgFFAAAAAAACAUUAAAAAAAIBRQAAAAAAAgFFAAAAAAACAUUAAAAAAAIBRQAAAAAAAgFFAAAAAAACAX0AAAAAAAIBfQAAAAAAAgF9AAAAAAACAX0AAAAAAAIBfQAAAAAAAgF9AAAAAAACAX0AAAAAAAIBfQAAAAAAAgF9AAAAAAACAX0AAAAAAAIBfQAAAAAAAgF9AAAAAAACAX0AAAAAAAIBfQAAAAAAAgF9AAAAAAACAX0AAAAAAAIBfQAAAAAAAgF9AAAAAAACAX0AAAAAAAIBfQAAAAAAAgF9AAAAAAACAX0AAAAAAAIBfQAAAAAAAgF9AAAAAAACAX0AAAAAAAIBfQAAAAAAAgF9AAAAAAACAX0AAAAAAAIBfQAAAAAAAgF9AAAAAAACAX0AAAAAAAIBfQAAAAAAAgF9AAAAAAACAX0AAAAAAAIBfQAAAAAAAgF9AAAAAAACAX0AAAAAAAIBfQAAAAAAAgF9AAAAAAACAX0AAAAAAAIBfQAAAAAAAgF9AAAAAAACAX0AAAAAAAIBfQAAAAAAAgF9AAAAAAACAX0AAAAAAAIBfQAAAAAAAgF9AAAAAAACAX0AAAAAAAIBfQA==",
          "dtype": "f8",
          "shape": "10, 50"
         },
         "z": {
          "bdata": "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",
          "dtype": "f8",
          "shape": "10, 50"
         }
        },
        {
         "hovertemplate": "Expiry: %{x}<br>Avg IV: %{y:.1f}%<extra></extra>",
         "marker": {
          "color": "lightblue"
         },
         "name": "Avg IV",
         "type": "bar",
         "x": [
          "2025-08-22",
          "2025-08-23",
          "2025-08-24",
          "2025-08-25",
          "2025-08-29",
          "2025-09-05",
          "2025-09-12",
          "2025-09-26",
          "2025-10-31",
          "2025-12-26"
         ],
         "xaxis": "x3",
         "y": [
          63.009210526315776,
          42.39874999999999,
          37.034666666666666,
          33.98571428571429,
          56.93919999999999,
          40.160000000000004,
          35.45,
          56.250000000000014,
          42.81634146341464,
          51.990526315789474
         ],
         "yaxis": "y3"
        },
        {
         "hovertemplate": "Expiry: %{x}<br>IV Std: %{y:.1f}%<extra></extra>",
         "marker": {
          "color": "orange"
         },
         "name": "IV Std Dev",
         "type": "bar",
         "x": [
          "2025-08-22",
          "2025-08-23",
          "2025-08-24",
          "2025-08-25",
          "2025-08-29",
          "2025-09-05",
          "2025-09-12",
          "2025-09-26",
          "2025-10-31",
          "2025-12-26"
         ],
         "xaxis": "x3",
         "y": [
          20.993491771145468,
          6.789352762782326,
          6.597661067041528,
          4.498089617168785,
          26.561256810625505,
          11.15268897748751,
          2.5893946601247086,
          25.45818555985481,
          11.490014701236124,
          13.312047164992757
         ],
         "yaxis": "y3"
        }
       ],
       "layout": {
        "annotations": [
         {
          "font": {
           "size": 16
          },
          "showarrow": false,
          "text": "IV Smiles (All Expiries)",
          "x": 0.23,
          "xanchor": "center",
          "xref": "paper",
          "y": 1,
          "yanchor": "bottom",
          "yref": "paper"
         },
         {
          "font": {
           "size": 16
          },
          "showarrow": false,
          "text": "Risk-Neutral Densities",
          "x": 0.77,
          "xanchor": "center",
          "xref": "paper",
          "y": 1,
          "yanchor": "bottom",
          "yref": "paper"
         },
         {
          "font": {
           "size": 16
          },
          "showarrow": false,
          "text": "IV Surface (3D)",
          "x": 0.23,
          "xanchor": "center",
          "xref": "paper",
          "y": 0.44,
          "yanchor": "bottom",
          "yref": "paper"
         },
         {
          "font": {
           "size": 16
          },
          "showarrow": false,
          "text": "Summary Statistics",
          "x": 0.77,
          "xanchor": "center",
          "xref": "paper",
          "y": 0.44,
          "yanchor": "bottom",
          "yref": "paper"
         },
         {
          "showarrow": false,
          "text": "Spot: $113455",
          "x": 113455.47,
          "xanchor": "left",
          "xref": "x",
          "y": 1,
          "yanchor": "top",
          "yref": "y domain"
         },
         {
          "showarrow": false,
          "text": "Spot: $113455",
          "x": 113455.47,
          "xanchor": "left",
          "xref": "x2",
          "y": 1,
          "yanchor": "top",
          "yref": "y2 domain"
         }
        ],
        "font": {
         "size": 12
        },
        "height": 1000,
        "legend": {
         "x": 1.05,
         "y": 1
        },
        "scene": {
         "domain": {
          "x": [
           0,
           0.46
          ],
          "y": [
           0,
           0.44
          ]
         },
         "xaxis": {
          "title": {
           "text": "Strike Price"
          }
         },
         "yaxis": {
          "title": {
           "text": "Days to Expiry"
          }
         },
         "zaxis": {
          "title": {
           "text": "Implied Volatility (%)"
          }
         }
        },
        "shapes": [
         {
          "line": {
           "color": "green",
           "dash": "dash"
          },
          "type": "line",
          "x0": 113455.47,
          "x1": 113455.47,
          "xref": "x",
          "y0": 0,
          "y1": 1,
          "yref": "y domain"
         },
         {
          "line": {
           "color": "green",
           "dash": "dash"
          },
          "type": "line",
          "x0": 113455.47,
          "x1": 113455.47,
          "xref": "x2",
          "y0": 0,
          "y1": 1,
          "yref": "y2 domain"
         }
        ],
        "showlegend": true,
        "template": {
         "data": {
          "bar": [
           {
            "error_x": {
             "color": "#2a3f5f"
            },
            "error_y": {
             "color": "#2a3f5f"
            },
            "marker": {
             "line": {
              "color": "#E5ECF6",
              "width": 0.5
             },
             "pattern": {
              "fillmode": "overlay",
              "size": 10,
              "solidity": 0.2
             }
            },
            "type": "bar"
           }
          ],
          "barpolar": [
           {
            "marker": {
             "line": {
              "color": "#E5ECF6",
              "width": 0.5
             },
             "pattern": {
              "fillmode": "overlay",
              "size": 10,
              "solidity": 0.2
             }
            },
            "type": "barpolar"
           }
          ],
          "carpet": [
           {
            "aaxis": {
             "endlinecolor": "#2a3f5f",
             "gridcolor": "white",
             "linecolor": "white",
             "minorgridcolor": "white",
             "startlinecolor": "#2a3f5f"
            },
            "baxis": {
             "endlinecolor": "#2a3f5f",
             "gridcolor": "white",
             "linecolor": "white",
             "minorgridcolor": "white",
             "startlinecolor": "#2a3f5f"
            },
            "type": "carpet"
           }
          ],
          "choropleth": [
           {
            "colorbar": {
             "outlinewidth": 0,
             "ticks": ""
            },
            "type": "choropleth"
           }
          ],
          "contour": [
           {
            "colorbar": {
             "outlinewidth": 0,
             "ticks": ""
            },
            "colorscale": [
             [
              0,
              "#0d0887"
             ],
             [
              0.1111111111111111,
              "#46039f"
             ],
             [
              0.2222222222222222,
              "#7201a8"
             ],
             [
              0.3333333333333333,
              "#9c179e"
             ],
             [
              0.4444444444444444,
              "#bd3786"
             ],
             [
              0.5555555555555556,
              "#d8576b"
             ],
             [
              0.6666666666666666,
              "#ed7953"
             ],
             [
              0.7777777777777778,
              "#fb9f3a"
             ],
             [
              0.8888888888888888,
              "#fdca26"
             ],
             [
              1,
              "#f0f921"
             ]
            ],
            "type": "contour"
           }
          ],
          "contourcarpet": [
           {
            "colorbar": {
             "outlinewidth": 0,
             "ticks": ""
            },
            "type": "contourcarpet"
           }
          ],
          "heatmap": [
           {
            "colorbar": {
             "outlinewidth": 0,
             "ticks": ""
            },
            "colorscale": [
             [
              0,
              "#0d0887"
             ],
             [
              0.1111111111111111,
              "#46039f"
             ],
             [
              0.2222222222222222,
              "#7201a8"
             ],
             [
              0.3333333333333333,
              "#9c179e"
             ],
             [
              0.4444444444444444,
              "#bd3786"
             ],
             [
              0.5555555555555556,
              "#d8576b"
             ],
             [
              0.6666666666666666,
              "#ed7953"
             ],
             [
              0.7777777777777778,
              "#fb9f3a"
             ],
             [
              0.8888888888888888,
              "#fdca26"
             ],
             [
              1,
              "#f0f921"
             ]
            ],
            "type": "heatmap"
           }
          ],
          "histogram": [
           {
            "marker": {
             "pattern": {
              "fillmode": "overlay",
              "size": 10,
              "solidity": 0.2
             }
            },
            "type": "histogram"
           }
          ],
          "histogram2d": [
           {
            "colorbar": {
             "outlinewidth": 0,
             "ticks": ""
            },
            "colorscale": [
             [
              0,
              "#0d0887"
             ],
             [
              0.1111111111111111,
              "#46039f"
             ],
             [
              0.2222222222222222,
              "#7201a8"
             ],
             [
              0.3333333333333333,
              "#9c179e"
             ],
             [
              0.4444444444444444,
              "#bd3786"
             ],
             [
              0.5555555555555556,
              "#d8576b"
             ],
             [
              0.6666666666666666,
              "#ed7953"
             ],
             [
              0.7777777777777778,
              "#fb9f3a"
             ],
             [
              0.8888888888888888,
              "#fdca26"
             ],
             [
              1,
              "#f0f921"
             ]
            ],
            "type": "histogram2d"
           }
          ],
          "histogram2dcontour": [
           {
            "colorbar": {
             "outlinewidth": 0,
             "ticks": ""
            },
            "colorscale": [
             [
              0,
              "#0d0887"
             ],
             [
              0.1111111111111111,
              "#46039f"
             ],
             [
              0.2222222222222222,
              "#7201a8"
             ],
             [
              0.3333333333333333,
              "#9c179e"
             ],
             [
              0.4444444444444444,
              "#bd3786"
             ],
             [
              0.5555555555555556,
              "#d8576b"
             ],
             [
              0.6666666666666666,
              "#ed7953"
             ],
             [
              0.7777777777777778,
              "#fb9f3a"
             ],
             [
              0.8888888888888888,
              "#fdca26"
             ],
             [
              1,
              "#f0f921"
             ]
            ],
            "type": "histogram2dcontour"
           }
          ],
          "mesh3d": [
           {
            "colorbar": {
             "outlinewidth": 0,
             "ticks": ""
            },
            "type": "mesh3d"
           }
          ],
          "parcoords": [
           {
            "line": {
             "colorbar": {
              "outlinewidth": 0,
              "ticks": ""
             }
            },
            "type": "parcoords"
           }
          ],
          "pie": [
           {
            "automargin": true,
            "type": "pie"
           }
          ],
          "scatter": [
           {
            "fillpattern": {
             "fillmode": "overlay",
             "size": 10,
             "solidity": 0.2
            },
            "type": "scatter"
           }
          ],
          "scatter3d": [
           {
            "line": {
             "colorbar": {
              "outlinewidth": 0,
              "ticks": ""
             }
            },
            "marker": {
             "colorbar": {
              "outlinewidth": 0,
              "ticks": ""
             }
            },
            "type": "scatter3d"
           }
          ],
          "scattercarpet": [
           {
            "marker": {
             "colorbar": {
              "outlinewidth": 0,
              "ticks": ""
             }
            },
            "type": "scattercarpet"
           }
          ],
          "scattergeo": [
           {
            "marker": {
             "colorbar": {
              "outlinewidth": 0,
              "ticks": ""
             }
            },
            "type": "scattergeo"
           }
          ],
          "scattergl": [
           {
            "marker": {
             "colorbar": {
              "outlinewidth": 0,
              "ticks": ""
             }
            },
            "type": "scattergl"
           }
          ],
          "scattermap": [
           {
            "marker": {
             "colorbar": {
              "outlinewidth": 0,
              "ticks": ""
             }
            },
            "type": "scattermap"
           }
          ],
          "scattermapbox": [
           {
            "marker": {
             "colorbar": {
              "outlinewidth": 0,
              "ticks": ""
             }
            },
            "type": "scattermapbox"
           }
          ],
          "scatterpolar": [
           {
            "marker": {
             "colorbar": {
              "outlinewidth": 0,
              "ticks": ""
             }
            },
            "type": "scatterpolar"
           }
          ],
          "scatterpolargl": [
           {
            "marker": {
             "colorbar": {
              "outlinewidth": 0,
              "ticks": ""
             }
            },
            "type": "scatterpolargl"
           }
          ],
          "scatterternary": [
           {
            "marker": {
             "colorbar": {
              "outlinewidth": 0,
              "ticks": ""
             }
            },
            "type": "scatterternary"
           }
          ],
          "surface": [
           {
            "colorbar": {
             "outlinewidth": 0,
             "ticks": ""
            },
            "colorscale": [
             [
              0,
              "#0d0887"
             ],
             [
              0.1111111111111111,
              "#46039f"
             ],
             [
              0.2222222222222222,
              "#7201a8"
             ],
             [
              0.3333333333333333,
              "#9c179e"
             ],
             [
              0.4444444444444444,
              "#bd3786"
             ],
             [
              0.5555555555555556,
              "#d8576b"
             ],
             [
              0.6666666666666666,
              "#ed7953"
             ],
             [
              0.7777777777777778,
              "#fb9f3a"
             ],
             [
              0.8888888888888888,
              "#fdca26"
             ],
             [
              1,
              "#f0f921"
             ]
            ],
            "type": "surface"
           }
          ],
          "table": [
           {
            "cells": {
             "fill": {
              "color": "#EBF0F8"
             },
             "line": {
              "color": "white"
             }
            },
            "header": {
             "fill": {
              "color": "#C8D4E3"
             },
             "line": {
              "color": "white"
             }
            },
            "type": "table"
           }
          ]
         },
         "layout": {
          "annotationdefaults": {
           "arrowcolor": "#2a3f5f",
           "arrowhead": 0,
           "arrowwidth": 1
          },
          "autotypenumbers": "strict",
          "coloraxis": {
           "colorbar": {
            "outlinewidth": 0,
            "ticks": ""
           }
          },
          "colorscale": {
           "diverging": [
            [
             0,
             "#8e0152"
            ],
            [
             0.1,
             "#c51b7d"
            ],
            [
             0.2,
             "#de77ae"
            ],
            [
             0.3,
             "#f1b6da"
            ],
            [
             0.4,
             "#fde0ef"
            ],
            [
             0.5,
             "#f7f7f7"
            ],
            [
             0.6,
             "#e6f5d0"
            ],
            [
             0.7,
             "#b8e186"
            ],
            [
             0.8,
             "#7fbc41"
            ],
            [
             0.9,
             "#4d9221"
            ],
            [
             1,
             "#276419"
            ]
           ],
           "sequential": [
            [
             0,
             "#0d0887"
            ],
            [
             0.1111111111111111,
             "#46039f"
            ],
            [
             0.2222222222222222,
             "#7201a8"
            ],
            [
             0.3333333333333333,
             "#9c179e"
            ],
            [
             0.4444444444444444,
             "#bd3786"
            ],
            [
             0.5555555555555556,
             "#d8576b"
            ],
            [
             0.6666666666666666,
             "#ed7953"
            ],
            [
             0.7777777777777778,
             "#fb9f3a"
            ],
            [
             0.8888888888888888,
             "#fdca26"
            ],
            [
             1,
             "#f0f921"
            ]
           ],
           "sequentialminus": [
            [
             0,
             "#0d0887"
            ],
            [
             0.1111111111111111,
             "#46039f"
            ],
            [
             0.2222222222222222,
             "#7201a8"
            ],
            [
             0.3333333333333333,
             "#9c179e"
            ],
            [
             0.4444444444444444,
             "#bd3786"
            ],
            [
             0.5555555555555556,
             "#d8576b"
            ],
            [
             0.6666666666666666,
             "#ed7953"
            ],
            [
             0.7777777777777778,
             "#fb9f3a"
            ],
            [
             0.8888888888888888,
             "#fdca26"
            ],
            [
             1,
             "#f0f921"
            ]
           ]
          },
          "colorway": [
           "#636efa",
           "#EF553B",
           "#00cc96",
           "#ab63fa",
           "#FFA15A",
           "#19d3f3",
           "#FF6692",
           "#B6E880",
           "#FF97FF",
           "#FECB52"
          ],
          "font": {
           "color": "#2a3f5f"
          },
          "geo": {
           "bgcolor": "white",
           "lakecolor": "white",
           "landcolor": "#E5ECF6",
           "showlakes": true,
           "showland": true,
           "subunitcolor": "white"
          },
          "hoverlabel": {
           "align": "left"
          },
          "hovermode": "closest",
          "mapbox": {
           "style": "light"
          },
          "paper_bgcolor": "white",
          "plot_bgcolor": "#E5ECF6",
          "polar": {
           "angularaxis": {
            "gridcolor": "white",
            "linecolor": "white",
            "ticks": ""
           },
           "bgcolor": "#E5ECF6",
           "radialaxis": {
            "gridcolor": "white",
            "linecolor": "white",
            "ticks": ""
           }
          },
          "scene": {
           "xaxis": {
            "backgroundcolor": "#E5ECF6",
            "gridcolor": "white",
            "gridwidth": 2,
            "linecolor": "white",
            "showbackground": true,
            "ticks": "",
            "zerolinecolor": "white"
           },
           "yaxis": {
            "backgroundcolor": "#E5ECF6",
            "gridcolor": "white",
            "gridwidth": 2,
            "linecolor": "white",
            "showbackground": true,
            "ticks": "",
            "zerolinecolor": "white"
           },
           "zaxis": {
            "backgroundcolor": "#E5ECF6",
            "gridcolor": "white",
            "gridwidth": 2,
            "linecolor": "white",
            "showbackground": true,
            "ticks": "",
            "zerolinecolor": "white"
           }
          },
          "shapedefaults": {
           "line": {
            "color": "#2a3f5f"
           }
          },
          "ternary": {
           "aaxis": {
            "gridcolor": "white",
            "linecolor": "white",
            "ticks": ""
           },
           "baxis": {
            "gridcolor": "white",
            "linecolor": "white",
            "ticks": ""
           },
           "bgcolor": "#E5ECF6",
           "caxis": {
            "gridcolor": "white",
            "linecolor": "white",
            "ticks": ""
           }
          },
          "title": {
           "x": 0.05
          },
          "xaxis": {
           "automargin": true,
           "gridcolor": "white",
           "linecolor": "white",
           "ticks": "",
           "title": {
            "standoff": 15
           },
           "zerolinecolor": "white",
           "zerolinewidth": 2
          },
          "yaxis": {
           "automargin": true,
           "gridcolor": "white",
           "linecolor": "white",
           "ticks": "",
           "title": {
            "standoff": 15
           },
           "zerolinecolor": "white",
           "zerolinewidth": 2
          }
         }
        },
        "title": {
         "text": "Interactive Options Analysis Dashboard - 10 Expiries"
        },
        "xaxis": {
         "anchor": "y",
         "domain": [
          0,
          0.46
         ],
         "title": {
          "text": "Strike Price"
         }
        },
        "xaxis2": {
         "anchor": "y2",
         "domain": [
          0.54,
          1
         ],
         "title": {
          "text": "Strike Price"
         }
        },
        "xaxis3": {
         "anchor": "y3",
         "domain": [
          0.54,
          1
         ],
         "title": {
          "text": "Expiry"
         }
        },
        "yaxis": {
         "anchor": "x",
         "domain": [
          0.56,
          1
         ],
         "title": {
          "text": "Implied Volatility (%)"
         }
        },
        "yaxis2": {
         "anchor": "x2",
         "domain": [
          0.56,
          1
         ],
         "title": {
          "text": "Risk-Neutral Density"
         }
        },
        "yaxis3": {
         "anchor": "x3",
         "domain": [
          0,
          0.44
         ],
         "title": {
          "text": "Average IV (%)"
         }
        }
       }
      },
      "text/html": [
       "<div>            <script src=\"https://cdnjs.cloudflare.com/ajax/libs/mathjax/2.7.5/MathJax.js?config=TeX-AMS-MML_SVG\"></script><script type=\"text/javascript\">if (window.MathJax && window.MathJax.Hub && window.MathJax.Hub.Config) {window.MathJax.Hub.Config({SVG: {font: \"STIX-Web\"}});}</script>                <script type=\"text/javascript\">window.PlotlyConfig = {MathJaxConfig: 'local'};</script>\n",
       "        <script charset=\"utf-8\" src=\"https://cdn.plot.ly/plotly-3.1.0.min.js\" integrity=\"sha256-Ei4740bWZhaUTQuD6q9yQlgVCMPBz6CZWhevDYPv93A=\" crossorigin=\"anonymous\"></script>                <div id=\"4c2b52ee-54b8-4567-a939-bb2c415fe50f\" class=\"plotly-graph-div\" style=\"height:1000px; width:100%;\"></div>            <script type=\"text/javascript\">                window.PLOTLYENV=window.PLOTLYENV || {};                                if (document.getElementById(\"4c2b52ee-54b8-4567-a939-bb2c415fe50f\")) {                    Plotly.newPlot(                        \"4c2b52ee-54b8-4567-a939-bb2c415fe50f\",                        [{\"hovertemplate\":\"Expiry: 2025-08-22 10:00:00\\u003cbr\\u003eStrike: %{x:.0f}\\u003cbr\\u003eIV: %{y:.1f}%\\u003cextra\\u003e\\u003c\\u002fextra\\u003e\",\"marker\":{\"color\":\"#636EFA\",\"size\":6},\"mode\":\"markers\",\"name\":\"Market IV - 2025-08-22\",\"showlegend\":true,\"x\":{\"dtype\":\"f8\",\"bdata\":\"AAAAAAD59UAAAAAAgDH3QAAAAAAAavhAAAAAAADn+EAAAAAAAGT5QAAAAACAovlAAAAAAADh+UAAAAAAAF76QAAAAACAnPpAAAAAAADb+kAAAAAAgBn7QAAAAAAAWPtAAAAAAICW+0AAAAAAANX7QAAAAACAE\\u002fxAAAAAAABS\\u002fEAAAAAAgJD8QAAAAAAAz\\u002fxAAAAAAIAN\\u002fUAAAAAAAEz9QAAAAACAiv1AAAAAAADJ\\u002fUAAAAAAgAf+QAAAAAAARv5AAAAAAICE\\u002fkAAAAAAAMP+QAAAAACAAf9AAAAAAABA\\u002f0AAAAAAgH7\\u002fQAAAAAAAvf9AAAAAAAAdAEEAAAAAwHoAQQAAAAAAFwFBAAAAAECzAUEAAAAAgE8CQQAAAADA6wJBAAAAAACIA0EAAAAAQCQEQQ==\"},\"y\":{\"dtype\":\"f8\",\"bdata\":\"SOF6FK6HXkBmZmZmZsZbQB+F61G43lhA7FG4HoXLVUC4HoXrUThTQIXrUbgexVFAuB6F61EIUEBlZmZmZmZLQKRwPQrXI0lAMzMzMzNzRkAAAAAAACBEQArXo3A9KkJAH4XrUbheQECkcD0K1+M9QHE9Ctej8D1AAAAAAACAP0AfhetRuL5BQGZmZmZmxkNAhetRuB4FR0AUrkfhenRJQJqZmZmZmUtAW4\\u002fC9SgcTUBmZmZmZuZOQGZmZmZmtlBAMzMzMzNDUUAzMzMzM0NRQDMzMzMzQ1FAMzMzMzNDUUAzMzMzM0NRQDMzMzMzQ1FAMzMzMzNDUUAfhetRuG5RQArXo3A9elJAKVyPwvWIUkApXI\\u002fC9YhSQClcj8L1iFJAKVyPwvWIUkApXI\\u002fC9YhSQA==\"},\"type\":\"scatter\",\"xaxis\":\"x\",\"yaxis\":\"y\"},{\"hovertemplate\":\"Expiry: 2025-08-22 10:00:00\\u003cbr\\u003eStrike: %{x:.0f}\\u003cbr\\u003eIV: %{y:.1f}%\\u003cextra\\u003e\\u003c\\u002fextra\\u003e\",\"line\":{\"color\":\"#636EFA\",\"width\":2},\"mode\":\"lines\",\"name\":\"IV Curve - 2025-08-22\",\"showlegend\":false,\"x\":{\"dtype\":\"f8\",\"bdata\":\"AAAAAAD59UCLzJcmjhD2QBaZL00cKPZAoWXHc6o\\u002f9kAsMl+aOFf2QLf+9sDGbvZAQsuO51SG9kDNlyYO4532QFdkvjRxtfZA4jBWW\\u002f\\u002fM9kBt\\u002fe2BjeT2QPjJhagb\\u002fPZAg5Ydz6kT90AOY7X1Nyv3QJkvTRzGQvdAJPzkQlRa90CvyHxp4nH3QDqVFJBwifdAxWGstv6g90BQLkTdjLj3QNv62wMb0PdAZsdzKqnn90DwkwtRN\\u002f\\u002f3QHxgo3fFFvhABi07nlMu+ECR+dLE4UX4QBzGautvXfhAp5ICEv50+EAyX5o4jIz4QL0rMl8apPhASPjJhai7+EDTxGGsNtP4QF6R+dLE6vhA6V2R+VIC+UB0Kikg4Rn5QP\\u002f2wEZvMflAisNYbf1I+UAUkPCTi2D5QKBciLoZePlAKikg4aeP+UC19bcHNqf5QEDCTy7EvvlAy47nVFLW+UBWW3974O35QOEnF6JuBfpAbPSuyPwc+kD3wEbvijT6QIKN3hUZTPpADVp2PKdj+kCYJg5jNXv6QCPzpYnDkvpArr89sFGq+kA4jNXW38H6QMRYbf1t2fpATiUFJPzw+kDZ8ZxKigj7QGS+NHEYIPtA74rMl6Y3+0B6V2S+NE\\u002f7QAUk\\u002fOTCZvtAkPCTC1F++0AbvSsy35X7QKaJw1htrftAMVZbf\\u002fvE+0C8IvOlidz7QEfviswX9PtA0rsi86UL\\u002fEBciLoZNCP8QOhUUkDCOvxAciHqZlBS\\u002fED97YGN3mn8QIi6GbRsgfxAE4ex2vqY\\u002fECeU0kBibD8QCkg4ScXyPxAtOx4TqXf\\u002fEA\\u002fuRB1M\\u002ff8QMqFqJvBDv1AVVJAwk8m\\u002fUDgHtjo3T39QGvrbw9sVf1A9rcHNvps\\u002fUCAhJ9ciIT9QAxRN4MWnP1Alh3PqaSz\\u002fUAh6mbQMsv9QKy2\\u002fvbA4v1AN4OWHU\\u002f6\\u002fUDCTy5E3RH+QE0cxmprKf5A2OhdkflA\\u002fkBjtfW3h1j+QO6Bjd4VcP5AeU4lBaSH\\u002fkAEG70rMp\\u002f+QI7nVFLAtv5AGrTseE7O\\u002fkCkgISf3OX+QDBNHMZq\\u002ff5Auhm07PgU\\u002f0BG5ksThyz\\u002fQNCy4zkVRP9AW397YKNb\\u002f0DmSxOHMXP\\u002fQHEYq62\\u002fiv9A\\u002fORC1E2i\\u002f0CHsdr627n\\u002fQBJ+ciFq0f9AnUoKSPjo\\u002f0CUC1E3QwAAQdnxnEoKDABBH9joXdEXAEFkvjRxmCMAQaqkgIRfLwBB74rMlyY7AEE1cRir7UYAQXpXZL60UgBBwD2w0XteAEEFJPzkQmoAQUoKSPgJdgBBkPCTC9GBAEHW1t8emI0AQRu9KzJfmQBBYKN3RSalAEGmicNY7bAAQetvD2y0vABBMVZbf3vIAEF2PKeSQtQAQbwi86UJ4ABBAQk\\u002fudDrAEFH74rMl\\u002fcAQYzV1t9eAwFB0rsi8yUPAUEXom4G7RoBQVyIuhm0JgFBom4GLXsyAUHoVFJAQj4BQS07nlMJSgFBciHqZtBVAUG4BzZ6l2EBQf3tgY1ebQFBQ9TNoCV5AUGIuhm07IQBQc6gZcezkAFBE4ex2nqcAUFZbf3tQagBQZ5TSQEJtAFB5DmVFNC\\u002fAUEpIOEnl8sBQW4GLTte1wFBtOx4TiXjAUH60sRh7O4BQT+5EHWz+gFBhJ9ciHoGAkHKhaibQRICQQ9s9K4IHgJBVVJAws8pAkGaOIzVljUCQeAe2OhdQQJBJQUk\\u002fCRNAkFr628P7FgCQbDRuyKzZAJB9rcHNnpwAkE7nlNJQXwCQYCEn1wIiAJBxmrrb8+TAkEMUTeDlp8CQVE3g5ZdqwJBlh3PqSS3AkHcAxu968ICQSHqZtCyzgJBZ9Cy43naAkGstv72QOYCQfKcSgoI8gJBN4OWHc\\u002f9AkF8aeIwlgkDQcJPLkRdFQNBCDZ6VyQhA0FNHMZq6ywDQZICEn6yOANB2OhdkXlEA0Eez6mkQFADQWO19bcHXANBqJtBy85nA0HugY3elXMDQTRo2fFcfwNBeU4lBSSLA0G+NHEY65YDQQQbvSuyogNBSQEJP3muA0GO51RSQLoDQdTNoGUHxgNBGrTseM7RA0FfmjiMld0DQaSAhJ9c6QNB6mbQsiP1A0EwTRzG6gAEQXUzaNmxDARBuhm07HgYBEEAAAAAQCQEQQ==\"},\"y\":{\"dtype\":\"f8\",\"bdata\":\"SOF6FK6HXkA0wduDLkleQDz4UeUAC15Add3yKnfNXUD5x9NG45BdQOAOCiuXVV1ARAmryeQbXUBBDswUHuRcQO50gv6UrlxAYZTjeJt7XEC1wwR2g0tcQARa++eeHlxAZa7cwD\\u002f1W0D2F77yt89bQAk2iHU3rltAJWh+fbWPW0AsSNevgHJbQLXkig\\u002fmVFtAZkyRnzI1W0DXjeJisxFbQKq3dly16FpAfthFj4W4WkDx\\u002fkf+cH9aQJ05dazEO1pAJ5fFnM3rWUApJjHS2I1ZQET1r08zIFlA7HkSIEuhWEBXCMaTCxNYQFFX+24ue1dAQAwGxJ7fVkCKzDmlR0ZWQCXbpnMStVVAOj5IYmovVUBKiBBDgLJUQMmKZwGQOlRALxe1iNXDU0Dw\\u002fmDEjEpTQKsspwTOylJAjYogP9M\\u002fUkBDIvZwiKRRQAcA7ME5+lBAnE05VW1QUEBjK4Kl529PQOYMcgeYa05AutjntfuITUDPuPCDabxMQAnXmUQ4+ktA0a2K+ME2S0BcQyg\\u002fCmhKQGEXDmZmh0lAU+SJ5mmPSEAym1X+DIhHQJnE4Yf1g0ZAxwTztPSSRUA2CJ8bkrVEQM1XgP2s50NAjrob1LglQ0BLZz\\u002fWMm1CQMWGZbmwu0FAhSKRfZ4OQUAORIk1SmNAQFap1GkTeD9AIvSTtANiPkBUXRWW2r89QI8P5YiUoj1AM52V6fTWPUCSXPz5JSk+QDwxRljypT5ABofjZtaDP0DMSKQAnXBAQDJYSO+mPkFAZUh2Oe4AQkApznIQDrFCQOscO26ifUNA35LEK8aSREAuXVkko9lFQOGebk6aFEdAWBm9+7kXSED44H5K9\\u002fRIQEu95YrryklAr6heFxqjSkAhcj0momtLQPOTbZODE0xA8Ft\\u002f6JOhTEDcvFg3CylNQE4mM0jfvE1AF407\\u002fupuTkBVo2rr1E9PQOQBO3CrKFBAqGRdhH+gUEAPuPg44fdQQDG99EVWLFFAExIk6i5FUUC2bXqsdEpRQNIPWzn\\u002fRVFAYZhNr7ZBUUATX6wUg0FRQOnHnA\\u002f6QlFAf\\u002ftLC7dDUUB0YABuiENRQNi6eHgmQ1FANWET6AxDUUDgJEcVJENRQEQRUJw\\u002fQ1FAEIEkjUdDUUBhT0NhN0NRQOySAkEOQ1FAQkm2zdxCUUAR6zUjukJRQLTUEGC9QlFAhmLWov1CUUDNqArPk0NRQAq7PfS3RFFAIuC6yLxGUUAFJIPe9UlRQKuSl8e2TlFAAzj5FVNVUUABIKlbHl5RQJhWqCpsaVFAvr6H4Yh3UUClWowfVYhRQN0RTpJem1FA6JkwxTCwUUBJqJdDV8ZRQHny5phd3VFA\\u002fC2CUM\\u002f0UUBOEM31NwxSQPROKxQjI1JAZp8ANxw5UkArt7Dprk1SQLtLn7dmYFJAnBIwLM9wUkAtelT9dH5SQBBGNdoqiVJAcmR35y+RUkCUii2ezJZSQLttandJmlJAK8NA7O6bUkAnQMN1BZxSQPWZBI3VmlJA1oUXq6eYUkAPuQ5JxJVSQOXo\\u002fN9zklJAmsr06P6OUkByEwndrYtSQKh6KzTJiFJA+QHxWoeGUkB+PFCY44RSQP+4nBnNg1JAPgYqDDODUkAGs0udBINSQBdOVfowg1JAOGaaUKeDUkAwim7NVoRSQMRIJZ4uhVJAtzAS8B2GUkDS0IjwE4dSQNm33Mz\\u002fh1JAkHRhstCIUkAP1kOgd4lSQLtKmgjziVJAA+aaZEeKUkBaIMM0eYpSQDBykPmMilJA9VOAM4eKUkAcPhBjbIpSQBSpvQhBilJAUA0GpQmKUkA\\u002f42a4yolSQFSjXcOIiVJA\\u002f8VnRkiJUkCxwwLCDYlSQEtJ3ZHdiFJAlfswOrmIUkBj81ykn4hSQCzAF6GPiFJAaPEXAYiIUkCLFhSVh4hSQA2\\u002fwi2NiFJAY3ram5eIUkAF2BGwpYhSQGlnHzu2iFJABri5DciIUkBQWZf42YhSQMHabszqiFJAKkIdW\\u002fmIUkDr0CvtBIlSQDHrVqcNiVJArNpGxhOJUkAV6aOGF4lSQCFgFiUZiVJAg4lG3hiJUkDyrtzuFolSQCIagZMTiVJAyRTcCA+JUkCb6JWLCYlSQE3fVlgDiVJAlkLHq\\u002fyIUkAqXI\\u002fC9YhSQA==\"},\"type\":\"scatter\",\"xaxis\":\"x\",\"yaxis\":\"y\"},{\"hovertemplate\":\"Expiry: 2025-08-23 10:00:00\\u003cbr\\u003eStrike: %{x:.0f}\\u003cbr\\u003eIV: %{y:.1f}%\\u003cextra\\u003e\\u003c\\u002fextra\\u003e\",\"marker\":{\"color\":\"#EF553B\",\"size\":6},\"mode\":\"markers\",\"name\":\"Market IV - 2025-08-23\",\"showlegend\":true,\"x\":{\"dtype\":\"f8\",\"bdata\":\"AAAAAADh+UAAAAAAAF76QAAAAACAnPpAAAAAAADb+kAAAAAAgBn7QAAAAAAAWPtAAAAAAICW+0AAAAAAANX7QAAAAACAE\\u002fxAAAAAAABS\\u002fEAAAAAAgJD8QAAAAAAAz\\u002fxAAAAAAIAN\\u002fUAAAAAAAEz9QAAAAAAAyf1AAAAAAABG\\u002fkA=\"},\"y\":{\"dtype\":\"f8\",\"bdata\":\"UrgehesRTEB8FK5H4TpJQI\\u002fC9Shcj0dA16NwPQoXRkD2KFyPwpVEQIXrUbgeJUNAzczMzMxMQkAK16NwPWpBQBSuR+F6VEFA4XoUrkdhQUDsUbgehQtCQNejcD0KF0NAAAAAAADgRECPwvUoXG9FQK5H4XoULkdA9ihcj8J1S0A=\"},\"type\":\"scatter\",\"xaxis\":\"x\",\"yaxis\":\"y\"},{\"hovertemplate\":\"Expiry: 2025-08-23 10:00:00\\u003cbr\\u003eStrike: %{x:.0f}\\u003cbr\\u003eIV: %{y:.1f}%\\u003cextra\\u003e\\u003c\\u002fextra\\u003e\",\"line\":{\"color\":\"#EF553B\",\"width\":2},\"mode\":\"lines\",\"name\":\"IV Curve - 2025-08-23\",\"showlegend\":false,\"x\":{\"dtype\":\"f8\",\"bdata\":\"AAAAAADh+UANWnY8p+b5QBq07HhO7PlAJw5jtfXx+UAzaNnxnPf5QEDCTy5E\\u002fflATRzGausC+kBadjynkgj6QGfQsuM5DvpAdCopIOET+kCBhJ9ciBn6QI7eFZkvH\\u002fpAmjiM1dYk+kCnkgISfir6QLTseE4lMPpAwUbvisw1+kDOoGXHczv6QNv62wMbQfpA6FRSQMJG+kD0rsh8aUz6QAEJP7kQUvpADmO19bdX+kAbvSsyX136QCgXom4GY\\u002fpANXEYq61o+kBCy47nVG76QE4lBST8c\\u002fpAW397YKN5+kBo2fGcSn\\u002f6QHUzaNnxhPpAgo3eFZmK+kCP51RSQJD6QJxBy47nlfpAqZtBy46b+kC19bcHNqH6QMJPLkTdpvpAz6mkgISs+kDcAxu9K7L6QOldkfnSt\\u002fpA9rcHNnq9+kADEn5yIcP6QA9s9K7IyPpAHMZq62\\u002fO+kApIOEnF9T6QDZ6V2S+2fpAQ9TNoGXf+kBQLkTdDOX6QF2Iuhm06vpAauIwVlvw+kB2PKeSAvb6QIOWHc+p+\\u002fpAkPCTC1EB+0CdSgpI+Ab7QKqkgISfDPtAt\\u002f72wEYS+0DEWG397Rf7QNCy4zmVHftA3Qxadjwj+0DqZtCy4yj7QPfARu+KLvtABBu9KzI0+0ARdTNo2Tn7QB7PqaSAP\\u002ftAKikg4SdF+0A3g5Ydz0r7QETdDFp2UPtAUTeDlh1W+0BekfnSxFv7QGvrbw9sYftAeEXmSxNn+0CEn1yIumz7QJH50sRhcvtAnlNJAQl4+0Crrb89sH37QLgHNnpXg\\u002ftAxWGstv6I+0DSuyLzpY77QN8VmS9NlPtA628PbPSZ+0D4yYWom5\\u002f7QAUk\\u002fORCpftAEn5yIeqq+0Af2OhdkbD7QCwyX5o4tvtAOYzV1t+7+0BF5ksTh8H7QFJAwk8ux\\u002ftAX5o4jNXM+0Bs9K7IfNL7QHlOJQUk2PtAhqibQcvd+0CTAhJ+cuP7QKBciLoZ6ftArLb+9sDu+0C5EHUzaPT7QMZq628P+vtA08RhrLb\\u002f+0DgHtjoXQX8QO14TiUFC\\u002fxA+tLEYawQ\\u002fEAGLTueUxb8QBOHsdr6G\\u002fxAIOEnF6Ih\\u002fEAtO55TSSf8QDqVFJDwLPxAR++KzJcy\\u002fEBUSQEJPzj8QGCjd0XmPfxAbf3tgY1D\\u002fEB6V2S+NEn8QIex2vrbTvxAlAtRN4NU\\u002fEChZcdzKlr8QK6\\u002fPbDRX\\u002fxAuhm07Hhl\\u002fEDHcyopIGv8QNTNoGXHcPxA4ScXom52\\u002fEDugY3eFXz8QPvbAxu9gfxACDZ6V2SH\\u002fEAVkPCTC438QCLqZtCykvxALkTdDFqY\\u002fEA7nlNJAZ78QEj4yYWoo\\u002fxAVVJAwk+p\\u002fEBirLb+9q78QG8GLTuetPxAfGCjd0W6\\u002fECIuhm07L\\u002f8QJUUkPCTxfxAom4GLTvL\\u002fECvyHxp4tD8QLwi86WJ1vxAyXxp4jDc\\u002fEDW1t8e2OH8QOIwVlt\\u002f5\\u002fxA74rMlybt\\u002fED85ELUzfL8QAk\\u002fuRB1+PxAFpkvTRz+\\u002fEAj86WJwwP9QDBNHMZqCf1APKeSAhIP\\u002fUBJAQk\\u002fuRT9QFZbf3tgGv1AY7X1twcg\\u002fUBwD2z0riX9QH1p4jBWK\\u002f1AisNYbf0w\\u002fUCWHc+ppDb9QKN3ReZLPP1AsNG7IvNB\\u002fUC9KzJfmkf9QMqFqJtBTf1A198e2OhS\\u002fUDkOZUUkFj9QPCTC1E3Xv1A\\u002fe2Bjd5j\\u002fUAKSPjJhWn9QBeibgYtb\\u002f1AJPzkQtR0\\u002fUAxVlt\\u002fe3r9QD6w0bsigP1ASwpI+MmF\\u002fUBYZL40cYv9QGS+NHEYkf1AcRirrb+W\\u002fUB+ciHqZpz9QIvMlyYOov1AmCYOY7Wn\\u002fUClgISfXK39QLLa+tsDs\\u002f1AvjRxGKu4\\u002fUDLjudUUr79QNjoXZH5w\\u002f1A5ULUzaDJ\\u002fUDynEoKSM\\u002f9QP\\u002f2wEbv1P1ADFE3g5ba\\u002fUAYq62\\u002fPeD9QCUFJPzk5f1AMl+aOIzr\\u002fUA\\u002fuRB1M\\u002fH9QEwTh7Ha9v1AWW397YH8\\u002fUBmx3MqKQL+QHIh6mbQB\\u002f5Af3tgo3cN\\u002fkCM1dbfHhP+QJkvTRzGGP5AponDWG0e\\u002fkCz4zmVFCT+QMA9sNG7Kf5AzJcmDmMv\\u002fkDa8ZxKCjX+QOZLE4exOv5A86WJw1hA\\u002fkAAAAAAAEb+QA==\"},\"y\":{\"dtype\":\"f8\",\"bdata\":\"UrgehesRTEBbgQVHffNLQB\\u002fu7FEH1UtAU6LV7oG2S0C8QcBm5ZdLQAFwrQIqeUtA6NCdC0haS0AkCJLKNztLQHS5iojxG0tAjYiIjm38SkAqGYwlpNxKQAcPlpaNvEpA3Q2nKiKcSkBdub8qWntKQEi14N8tWkpAVaUKk5U4SkA+LT6NiRZKQL3wexcC9ElAiZPEevfQSUBluRgAYq1JQPkFefA5iUlADB3mlHdkSUBPomA2Ez9JQO9kpiUKGUlAoD1D2XXySECQA9GQectIQI5sbY44pEhAUy42FNZ8SECs\\u002fkhkdVVIQGKTw8A5LkhAOaLDa0YHSED44GanvuBHQGcFy7XFukdATMUN2X6VR0ACZ8F2B3FHQGg52fxVTUdAZWXO81AqR0BH9hjY3gdHQFn3MCbm5UZA6XOOWk3ERkBFd6nx+qJGQMEM+mfVgUZAnD\\u002f4OcNgRkAsGxzkqj9GQLyq3eJyHkZAErcGkwP9RUDNLO03VNtFQEQ79C9juUVAXfuy5C6XRUAChsC\\u002ftXRFQAv0syr2UUVAYl4kj+4uRUDt3ahWnQtFQI+L2OoA6ERALYBKtRfERECs1JUf4J9EQPsOt4Bce0RATKYbu7RWREBUZEWMJTJEQKD86errDURAxCK\\u002fzUTqQ0BOinorbcdDQM7m0fqhpUNA3Ot6MiCFQ0D7TCvJJGZDQMK9mLXsSENAwPF47rQtQ0A\\u002fyNIOsxRDQNK83CfH\\u002fUJA9xIuG5roQkCoM+je09RCQNSHLGkcwkJAdHgcsBuwQkCAbtmpeZ5CQOvShEzejEJArg5AjvF6QkC+iixlW2hCQBGwa8fDVEJAssSKENo\\u002fQkBlOhyNtylCQIZrYb3EEkJA0nKLCWz7QUD\\u002fasvZF+RBQMpuUpYyzUFA7ZhRpya3QUAjBPp0XqJBQB\\u002fLfGdEj0FAoggL50J+QUBj19VbxG9BQMlKGHotZEFAm\\u002fLUlHxbQUDK7MdwV1VBQItTLedgUUFACUFB0TtPQUB6zz8Ii05BQAwZZWXxTkFA7jftwRFQQUBWRhT3jlFBQHBeFt4LU0FAb5ovUCtUQUCHdRKbk1RBQCoiFIM6VEFAD4osQ2VTQUDr98mKXFJBQHe2WglpUUFAahBNbtNQQUB5UA9p5FBBQF7BD6nkUUFA0K283RxUQUCGYIS21VdBQDck1eJXXUFAM2zuKOpkQUBNDw9bmW5BQAiEe0svekFAOsQIEXKHQUC7yYvCJ5ZBQGKO2XYWpkFAAgzHRAS3QUByPClDt8hBQIgZ1Yj12kFAGp2fLIXtQUD9wF1FLABCQHDIfl6yEkJA0pqNfhslQkBauH2SvDdCQNbqIS3wSkJAGPxM4RBfQkDytdFBeXRCQDTiguGDi0JAr0ozU4ukQkAzubUp6r9CQJn33Pf63UJArs97UBj\\u002fQkDlis\\u002f7miNDQI9cC0dwS0NAr9US5951Q0BShB08H6JDQID2YqZpz0NAWLoahvb8Q0DhXXw7\\u002filEQClvvya5VURAP3wbqF9\\u002fREAxE8gfKqZEQBDC\\u002fO1QyURA4qr4pQ3oREBeKOXLCQJFQLoXQ2i4F0VAcoXtl6EpRUAKfr93TThFQPsNlCREREVAyEFGuw1ORUDqJbFYMlZFQOjGrxk6XUVAOjEdG61jRUBhcdR5E2pFQCyQrhf1cEVAm4AdabR4RUALUGVmZYFFQP6t0yUSi0VA\\u002fUm2vcSVRUCJ01pEh6FFQCT6DtBjrkVAVm0gd2S8RUCg3NxPk8tFQIb3kXD620VAjG2N76PtRUA47hzjmQBGQAcpjmHmFEZAhs0ugZMqRkA0i0xYq0FGQJURNf03WkZALxA2hkN0RkCENp0J2I9GQBg0uJ3\\u002frEZAarjUWMTLRkAHc0BRMOxGQHETSZ1NDkdAzppyUSYyR0AltpaNvVdHQAbbdm8Cf0dAB8x3geCnR0C6S\\u002f5NQ9JHQMQcb18W\\u002fkdAuAEvQEUrSEAuvaJ6u1lIQLwRL5lkiUhA+sE4Jiy6SECCkCSs\\u002fetIQOE\\u002fV7XEHklAwZI1zGxSSUCzSyR74YZJQEotiEwOvElAJfrFyt7xSUDVdEKAPihKQPhfYvcYX0pAG36KulmWSkDvkR9U7M1KQOhdhk68BUtAvKQjNLU9S0D2KFyPwnVLQA==\"},\"type\":\"scatter\",\"xaxis\":\"x\",\"yaxis\":\"y\"},{\"hovertemplate\":\"Expiry: 2025-08-24 10:00:00\\u003cbr\\u003eStrike: %{x:.0f}\\u003cbr\\u003eIV: %{y:.1f}%\\u003cextra\\u003e\\u003c\\u002fextra\\u003e\",\"marker\":{\"color\":\"#00CC96\",\"size\":6},\"mode\":\"markers\",\"name\":\"Market IV - 2025-08-24\",\"showlegend\":true,\"x\":{\"dtype\":\"f8\",\"bdata\":\"AAAAAABk+UAAAAAAAOH5QAAAAAAAXvpAAAAAAICc+kAAAAAAANv6QAAAAACAGftAAAAAAABY+0AAAAAAgJb7QAAAAAAA1ftAAAAAAIAT\\u002fEAAAAAAAFL8QAAAAACAkPxAAAAAAADP\\u002fEAAAAAAAEz9QAAAAAAAyf1A\"},\"y\":{\"dtype\":\"f8\",\"bdata\":\"kML1KFzPSkD2KFyPwhVIQPYoXI\\u002fCVUVASOF6FK4HREDXo3A9CtdCQArXo3A9ykFA9ihcj8LVQEDsUbgehStAQDMzMzMzMz9A9Shcj8L1PkDgehSuR+E+QOxRuB6F6z5ArUfhehTuP0AzMzMzM1NCQLgehetRmENA\"},\"type\":\"scatter\",\"xaxis\":\"x\",\"yaxis\":\"y\"},{\"hovertemplate\":\"Expiry: 2025-08-24 10:00:00\\u003cbr\\u003eStrike: %{x:.0f}\\u003cbr\\u003eIV: %{y:.1f}%\\u003cextra\\u003e\\u003c\\u002fextra\\u003e\",\"line\":{\"color\":\"#00CC96\",\"width\":2},\"mode\":\"lines\",\"name\":\"IV Curve - 2025-08-24\",\"showlegend\":false,\"x\":{\"dtype\":\"f8\",\"bdata\":\"AAAAAABk+UANWnY8p2n5QBq07HhOb\\u002flAJw5jtfV0+UAzaNnxnHr5QEDCTy5EgPlATRzGauuF+UBadjynkov5QGfQsuM5kflAdCopIOGW+UCBhJ9ciJz5QI7eFZkvovlAmjiM1dan+UCnkgISfq35QLTseE4ls\\u002flAwUbvisy4+UDOoGXHc775QNv62wMbxPlA6FRSQMLJ+UD0rsh8ac\\u002f5QAEJP7kQ1flADmO19bfa+UAbvSsyX+D5QCgXom4G5vlANXEYq63r+UBCy47nVPH5QE4lBST89vlAW397YKP8+UBo2fGcSgL6QHUzaNnxB\\u002fpAgo3eFZkN+kCP51RSQBP6QJxBy47nGPpAqZtBy44e+kC19bcHNiT6QMJPLkTdKfpAz6mkgIQv+kDcAxu9KzX6QOldkfnSOvpA9rcHNnpA+kADEn5yIUb6QA9s9K7IS\\u002fpAHMZq629R+kApIOEnF1f6QDZ6V2S+XPpAQ9TNoGVi+kBQLkTdDGj6QF2Iuhm0bfpAauIwVltz+kB2PKeSAnn6QIOWHc+pfvpAkPCTC1GE+kCdSgpI+In6QKqkgISfj\\u002fpAt\\u002f72wEaV+kDEWG397Zr6QNCy4zmVoPpA3Qxadjym+kDqZtCy46v6QPfARu+KsfpABBu9KzK3+kARdTNo2bz6QB7PqaSAwvpAKikg4SfI+kA3g5Ydz836QETdDFp20\\u002fpAUTeDlh3Z+kBekfnSxN76QGvrbw9s5PpAeEXmSxPq+kCEn1yIuu\\u002f6QJH50sRh9fpAnlNJAQn7+kCrrb89sAD7QLgHNnpXBvtAxWGstv4L+0DSuyLzpRH7QN8VmS9NF\\u002ftA628PbPQc+0D4yYWomyL7QAUk\\u002fORCKPtAEn5yIeot+0Af2OhdkTP7QCwyX5o4OftAOYzV1t8++0BF5ksTh0T7QFJAwk8uSvtAX5o4jNVP+0Bs9K7IfFX7QHlOJQUkW\\u002ftAhqibQctg+0CTAhJ+cmb7QKBciLoZbPtArLb+9sBx+0C5EHUzaHf7QMZq628PfftA08RhrLaC+0DgHtjoXYj7QO14TiUFjvtA+tLEYayT+0AGLTueU5n7QBOHsdr6nvtAIOEnF6Kk+0AtO55TSar7QDqVFJDwr\\u002ftAR++KzJe1+0BUSQEJP7v7QGCjd0XmwPtAbf3tgY3G+0B6V2S+NMz7QIex2vrb0ftAlAtRN4PX+0ChZcdzKt37QK6\\u002fPbDR4vtAuhm07Hjo+0DHcyopIO77QNTNoGXH8\\u002ftA4ScXom75+0DugY3eFf\\u002f7QPvbAxu9BPxACDZ6V2QK\\u002fEAVkPCTCxD8QCLqZtCyFfxALkTdDFob\\u002fEA7nlNJASH8QEj4yYWoJvxAVVJAwk8s\\u002fEBirLb+9jH8QG8GLTueN\\u002fxAfGCjd0U9\\u002fECIuhm07EL8QJUUkPCTSPxAom4GLTtO\\u002fECvyHxp4lP8QLwi86WJWfxAyXxp4jBf\\u002fEDW1t8e2GT8QOIwVlt\\u002favxA74rMlyZw\\u002fED85ELUzXX8QAk\\u002fuRB1e\\u002fxAFpkvTRyB\\u002fEAj86WJw4b8QDBNHMZqjPxAPKeSAhKS\\u002fEBJAQk\\u002fuZf8QFZbf3tgnfxAY7X1twej\\u002fEBwD2z0rqj8QH1p4jBWrvxAisNYbf2z\\u002fECWHc+ppLn8QKN3ReZLv\\u002fxAsNG7IvPE\\u002fEC9KzJfmsr8QMqFqJtB0PxA198e2OjV\\u002fEDkOZUUkNv8QPCTC1E34fxA\\u002fe2Bjd7m\\u002fEAKSPjJhez8QBeibgYt8vxAJPzkQtT3\\u002fEAxVlt\\u002fe\\u002f38QD6w0bsiA\\u002f1ASwpI+MkI\\u002fUBYZL40cQ79QGS+NHEYFP1AcRirrb8Z\\u002fUB+ciHqZh\\u002f9QIvMlyYOJf1AmCYOY7Uq\\u002fUClgISfXDD9QLLa+tsDNv1AvjRxGKs7\\u002fUDLjudUUkH9QNjoXZH5Rv1A5ULUzaBM\\u002fUDynEoKSFL9QP\\u002f2wEbvV\\u002f1ADFE3g5Zd\\u002fUAYq62\\u002fPWP9QCUFJPzkaP1AMl+aOIxu\\u002fUA\\u002fuRB1M3T9QEwTh7Haef1AWW397YF\\u002f\\u002fUBmx3MqKYX9QHIh6mbQiv1Af3tgo3eQ\\u002fUCM1dbfHpb9QJkvTRzGm\\u002f1AponDWG2h\\u002fUCz4zmVFKf9QMA9sNG7rP1AzJcmDmOy\\u002fUDa8ZxKCrj9QOZLE4exvf1A86WJw1jD\\u002fUAAAAAAAMn9QA==\"},\"y\":{\"dtype\":\"f8\",\"bdata\":\"kML1KFzPSkCaBSlX\\u002f69KQMQMg+6hkEpAMJwqWENxSkABeEb94lFKQFBk\\u002fUaAMkpAQCV2nhoTSkDzftdssfNJQIk1SBtE1ElAIA3vEtK0SUDdyfK8WpVJQN0veoLddUlASQOszFlWSUAyCK8EzzZJQMACqpM8F0lAFrfD4qH3SEBR6SJb\\u002ftdIQJRd7mVRuEhA\\u002fddMbJqYSECyHGXX2HhIQMrvXRAMWUhAaxVegDM5SECzUYyQThlIQOd1wfhc+UdAvaUxKWDZR0B7YicrWrlHQHGGFAhNmUdA3utqyTp5R0ASbZx4JVlHQFfkGh8POUdA9ytYxvkYR0A+HsZ35\\u002fhGQHaV1jza2EZA6Wv7HtS4RkDoe6Yn15hGQLCfSWDleEZAlLFW0gBZRkDciz+HKzlGQNUIdohnGUZAxgJs37b5RUD8U5OVG9pFQMfWXbSXukVAZmU9RS2bRUAo2qNR3ntFQFgPA+OsXEVANJxKC5s9RUDpP9kfqx5FQJMLNpbf\\u002f0RAVcMa5DrhREBdK0F\\u002fv8JEQMoHY91vpERAxxw6dE6GREB9LoC5XWhEQBAB7yKgSkRAqlhAJhgtREBy+S05yA9EQLAJ4uay8kNAjNR6h9vVQ0CiSPDkRblDQJCYcsr1nENA+PYxA++AQ0B2ll5aNWVDQKupKJvMSUNAOmPAkLguQ0C69VUG\\u002fRNDQM+TGced+UJAF3A7np7fQkDHS\\u002f6jAsZCQKShnNDErEJAzRlc3tqTQkBEriRxOntCQPJY3izZYkJA1xNxtaxKQkDn2MSuqjJCQBuiwbzIGkJAamlPg\\u002fwCQkDMKFamO+tBQDjavcl700FAMb9e5bO7QUBc7Ej27aNBQHcTxzFCjEFAGyS+JMl0QUDrDRNcm11BQIPAqmTRRkFAgitqy4MwQUCHPjYdyxpBQCvp8+a\\u002fBUFADhuItXrxQEDPw9cVFN5AQMVUqv2iy0BAvv8+1iG6QEBwnSVXcqlAQPSefGd1mUBAbnVi7guKQED1kfXSFntAQKZlVPx2bEBAoWGdUQ1eQEAE9+65uk9AQOmWZxxgQUBAcbIlYN4yQEBrPvf3FyRAQJIEb+MSFUBAlqPkrvgFQECxe77k6O0\\u002fQHDry4ti0D9AL9v\\u002fgrSzP0Cmj2j6NJg\\u002fQKFNFCI6fj9A1FkRKhpmP0AE+W1CK1A\\u002fQPJvOJvDPD9AUR8sBTcsP0BBewZekR4\\u002fQKubOlWLEz9A\\u002fbIN+NgKP0Cu88RTLgQ\\u002fQDaQpXU\\u002f\\u002fz5ABbv0asD7PkCWpvdAZfk+QFqF8wTi9z5AyYktxOr2PkBW5uqLM\\u002fY+QDb9tS1x9T5AwnLmVnj0PkDGqSJSSPM+QAnIr2Pj8T5AXvPSz0vwPkCLUdHag+4+QGAI8MiN7D5Apz103mvqPkArF6NfIOg+QLu6wZCt5T5AI04VthXjPkCFlZlnW+A+QIxyF9yU3T5AGE6vs\\u002fbaPkD6gzYsuNg+QPZvgoMQ1z5A0m1o9zbWPkBa2b3FYtY+QFMOWCzL1z5AiGgMaafaPkC\\u002fQ7C5Lt8+QL\\u002f7GFyY5T5AguikcRvuPkDpj+W65Pg+QJIUo0kOBj9APQZZO7AVP0C39IKt4ic\\u002fQMdvnL29PD9AMAchiVlUP0C6Sowtzm4\\u002fQDXKWcgzjD9AYxUFd6KsP0AJvAlXMtA\\u002fQKnr+Fr79j9AEt18Hn0QQEAMwTlR+SZAQP8zZoDQPkBAM0i15uBXQEDlD9q+CHJAQFSdh0MmjUBAwgJxrxepQEBtUkk9u8VAQJaewyfv4kBAfPmSqZEAQUBidWr9gB5BQIEk\\u002fV2bPEFAIxn+Bb9aQUCEZSAwynhBQOQbFxeblkFAg06V9Q+0QUCfD04GB9FBQH1x9INe7UFAU4Y7qfQIQkBwYNawpyNCQAsSeNVVPUJA8aypVN1VQkACfIp0J21CQI2tKjg9g0JABoaZTi2YQkDdSeZmBqxCQI49IDDXvkJAiaVWWa7QQkBDxpiRmuFCQC\\u002fk9Yeq8UJAwUN96+wAQ0BuKT5rcA9DQKjZR7ZDHUNA5pipe3UqQ0Cbq3JqFDdDQDxWsjEvQ0NAO913gNROQ0AOhdIFE1pDQCmS0XD5ZENA\\u002fEiEcJZvQ0AE7vmz+HlDQKrFQeouhENAaxRrwkeOQ0C4HoXrUZhDQA==\"},\"type\":\"scatter\",\"xaxis\":\"x\",\"yaxis\":\"y\"},{\"hovertemplate\":\"Expiry: 2025-08-25 10:00:00\\u003cbr\\u003eStrike: %{x:.0f}\\u003cbr\\u003eIV: %{y:.1f}%\\u003cextra\\u003e\\u003c\\u002fextra\\u003e\",\"marker\":{\"color\":\"#AB63FA\",\"size\":6},\"mode\":\"markers\",\"name\":\"Market IV - 2025-08-25\",\"showlegend\":true,\"x\":{\"dtype\":\"f8\",\"bdata\":\"AAAAAADh+UAAAAAAAF76QAAAAACAnPpAAAAAAADb+kAAAAAAgBn7QAAAAAAAWPtAAAAAAICW+0AAAAAAANX7QAAAAACAE\\u002fxAAAAAAABS\\u002fEAAAAAAgJD8QAAAAAAAz\\u002fxAAAAAAABM\\u002fUAAAAAAAMn9QA==\"},\"y\":{\"dtype\":\"f8\",\"bdata\":\"uB6F61F4RkCuR+F6FA5EQHsUrkfh+kJAzczMzMzsQUApXI\\u002fC9ehAQK5H4XoUDkBAj8L1KFzPPkB7FK5H4bo9QPcoXI\\u002fCdT1A9yhcj8J1PUBxPQrXo\\u002fA9QD4K16Nw\\u002fT5AH4XrUbjeQEBxPQrXo3BCQA==\"},\"type\":\"scatter\",\"xaxis\":\"x\",\"yaxis\":\"y\"},{\"hovertemplate\":\"Expiry: 2025-08-25 10:00:00\\u003cbr\\u003eStrike: %{x:.0f}\\u003cbr\\u003eIV: %{y:.1f}%\\u003cextra\\u003e\\u003c\\u002fextra\\u003e\",\"line\":{\"color\":\"#AB63FA\",\"width\":2},\"mode\":\"lines\",\"name\":\"IV Curve - 2025-08-25\",\"showlegend\":false,\"x\":{\"dtype\":\"f8\",\"bdata\":\"AAAAAADh+UAoF6JuBub5QFAuRN0M6\\u002flAeEXmSxPw+UCgXIi6GfX5QMdzKikg+vlA74rMlyb\\u002f+UAXom4GLQT6QD+5EHUzCfpAZ9Cy4zkO+kCP51RSQBP6QLf+9sBGGPpA3xWZL00d+kAGLTueUyL6QC5E3QxaJ\\u002fpAVlt\\u002fe2As+kB+ciHqZjH6QKaJw1htNvpAzqBlx3M7+kD2twc2ekD6QB7PqaSARfpAReZLE4dK+kBt\\u002fe2BjU\\u002f6QJUUkPCTVPpAvSsyX5pZ+kDlQtTNoF76QA1adjynY\\u002fpANXEYq61o+kBdiLoZtG36QIWfXIi6cvpArLb+9sB3+kDUzaBlx3z6QPzkQtTNgfpAJPzkQtSG+kBME4ex2ov6QHQqKSDhkPpAnEHLjueV+kDEWG397Zr6QOtvD2z0n\\u002fpAE4ex2vqk+kA7nlNJAar6QGO19bcHr\\u002fpAi8yXJg60+kCz4zmVFLn6QNv62wMbvvpAAxJ+ciHD+kAqKSDhJ8j6QFJAwk8uzfpAeldkvjTS+kCibgYtO9f6QMqFqJtB3PpA8pxKCkjh+kAatOx4Tub6QELLjudU6\\u002fpAauIwVlvw+kCR+dLEYfX6QLkQdTNo+vpA4ScXom7\\u002f+kAJP7kQdQT7QDFWW397CftAWW397YEO+0CBhJ9ciBP7QKmbQcuOGPtA0LLjOZUd+0D4yYWomyL7QCDhJxeiJ\\u002ftASPjJhags+0BwD2z0rjH7QJgmDmO1NvtAwD2w0bs7+0DoVFJAwkD7QBBs9K7IRftAN4OWHc9K+0BfmjiM1U\\u002f7QIex2vrbVPtAr8h8aeJZ+0DX3x7Y6F77QP\\u002f2wEbvY\\u002ftAJw5jtfVo+0BOJQUk\\u002fG37QHY8p5ICc\\u002ftAnlNJAQl4+0DGautvD337QO6Bjd4VgvtAFpkvTRyH+0A+sNG7Ioz7QGbHcyopkftAjt4VmS+W+0C19bcHNpv7QN0MWnY8oPtABST85EKl+0AtO55TSar7QFVSQMJPr\\u002ftAfWniMFa0+0ClgISfXLn7QM2XJg5jvvtA9K7IfGnD+0Acxmrrb8j7QETdDFp2zftAbPSuyHzS+0CUC1E3g9f7QLwi86WJ3PtA5DmVFJDh+0AMUTeDlub7QDRo2fGc6\\u002ftAW397YKPw+0CDlh3PqfX7QKutvz2w+vtA08RhrLb\\u002f+0D72wMbvQT8QCPzpYnDCfxASwpI+MkO\\u002fEByIepm0BP8QJo4jNXWGPxAwk8uRN0d\\u002fEDqZtCy4yL8QBJ+ciHqJ\\u002fxAOpUUkPAs\\u002fEBirLb+9jH8QIrDWG39NvxAstr62wM8\\u002fEDa8ZxKCkH8QAEJP7kQRvxAKSDhJxdL\\u002fEBRN4OWHVD8QHlOJQUkVfxAoWXHcypa\\u002fEDJfGniMF\\u002f8QPGTC1E3ZPxAGKutvz1p\\u002fEBAwk8uRG78QGjZ8ZxKc\\u002fxAkPCTC1F4\\u002fEC4BzZ6V338QOAe2OhdgvxACDZ6V2SH\\u002fEAwTRzGaoz8QFhkvjRxkfxAf3tgo3eW\\u002fECnkgISfpv8QM+ppICEoPxA98BG74ql\\u002fEAf2Ohdkar8QEfvisyXr\\u002fxAbwYtO560\\u002fECXHc+ppLn8QL40cRirvvxA5ksTh7HD\\u002fEAOY7X1t8j8QDZ6V2S+zfxAXpH50sTS\\u002fECGqJtBy9f8QK6\\u002fPbDR3PxA1tbfHtjh\\u002fED+7YGN3ub8QCUFJPzk6\\u002fxATRzGauvw\\u002fEB1M2jZ8fX8QJ1KCkj4+vxAxWGstv7\\u002f\\u002fEDteE4lBQX9QBWQ8JMLCv1APKeSAhIP\\u002fUBkvjRxGBT9QIzV1t8eGf1AtOx4TiUe\\u002fUDcAxu9KyP9QAQbvSsyKP1ALDJfmjgt\\u002fUBUSQEJPzL9QHxgo3dFN\\u002f1ApHdF5ks8\\u002fUDLjudUUkH9QPOlicNYRv1AG70rMl9L\\u002fUBD1M2gZVD9QGvrbw9sVf1AkwISfnJa\\u002fUC7GbTseF\\u002f9QOIwVlt\\u002fZP1ACkj4yYVp\\u002fUAyX5o4jG79QFp2PKeSc\\u002f1Ago3eFZl4\\u002fUCqpICEn339QNK7IvOlgv1A+tLEYayH\\u002fUAi6mbQsoz9QEkBCT+5kf1AcRirrb+W\\u002fUCZL00cxpv9QMFG74rMoP1A6V2R+dKl\\u002fUARdTNo2ar9QDmM1dbfr\\u002f1AYaN3Rea0\\u002fUCIuhm07Ln9QLDRuyLzvv1A2OhdkfnD\\u002fUAAAAAAAMn9QA==\"},\"y\":{\"dtype\":\"f8\",\"bdata\":\"uB6F61F4RkA\\u002f3l5qjF5GQKFyTjHJREZAtbBpiAorRkBWbca3UhFGQGJ9egek90VAqLWbvwDeRUAH6z8oa8RFQFjyfInlqkVAdqBoK3KRRUA4yhhWE3hFQHpEo1HLXkVAE+QdZpxFRUDkfZ7biCxFQLvmOvqSE0VAd\\u002fMICr36REDxeB5TCeJEQANMkR16yURAhUF3sRGxREBULuZW0phEQEbn81W+gERAOUG29tdoREABEUOBIVFEQHgrsD2dOURAeWUTdE0iREAwLeprNAtEQJwjF71S9ENAtX8RV6TdQ0Ay5B5dJMdDQMrzhPLNsENANFGJOpyaQ0Afn3FYioRDQESAg2+TbkNAW5cEo7JYQ0AXhzoW40JDQC3yauwfLUNAVXvbSGQXQ0BExdFOqwFDQGgbIHPw60JAbuFcmjLWQkD0Q+bBcsBCQLwNw+6xqkJAign6JfGUQkAjApJsMX9CQEfCkcdzaUJAvRQAPLlTQkBLxOPOAj5CQK+bQ4VRKEJArWUmZKYSQkAI7ZJwAv1BQMNSIbJm50FANnobZ9XRQUDLbzUpU7xBQEFYd9fkpkFAVFjpUI+RQUDGlJN0V3xBQE8yfiFCZ0FAr1WxNlRSQUClIzWTkj1BQOzAERYCKUFARFJPnqcUQUBt\\u002fPUKiABBQCDkDTuo7EBAwm4o+gzZQEBbSKCJusVAQIL+AO+0skBAguKYLwCgQECtRbZQoI1AQFB5p1eZe0BAuc66Se9pQEA6lz4splhAQB8kgQTCR0BAu8bQ10Y3QEBW0HurOCdAQEKS0ISbF0BAs02dRXMIQEDnWVEPe\\u002fM\\u002fQGOK71re1j9AKZxq6vi6P0Cd\\u002fhc6s58\\u002fQP8gTcb1hD9AsHJfC6lqP0AHY6SFtVA\\u002fQFdhcbEDNz9A9twbC3wdP0A7RfkOBwQ\\u002fQH4JXzmN6j5AEJmiBvfQPkD+M5ioNrc+QEP+eC5tnT5AmxCxxsmDPkBCC2mge2o+QHGOyeqxUT5Aazr71Js5PkBkryaOaCI+QKCNdEVHDD5AW3UNKmf3PUDNBhpr9+M9QDHiwjcn0j1AyqcwvyXCPUAuH9FGILQ9QE+ZSBQYqD1AdPBxbeKdPUBIJm2uUpU9QHI8WjM8jj1AmTRZWHKIPUBdEIp5yIM9QGzRDPMRgD1AZ3kBISJ9PUD6CYhfzHo9QMmEwArkeD1AeuvKfjx3PUDIUnYYqXU9QC5NwlEKdD1AgFjYKWxyPUA9Ov6j43A9QOK3ecOFbz1A75aQi2duPUDgnIj\\u002fnW09QDOPpyI+bT1AZzMz+FxtPUD8TnGDD249QG6np8dqbz1APQIcyINxPUDiJBSIb3Q9QNTWflRCeD1ATN\\u002fYzgZ9PUCKwpugwII9QD9b3ktziT1AH4S3UiKRPUDZFz430Zk9QCHxiHuDoz1ApOquoTyuPUAW38YrALo9QCap55vRxj1AiyModLTUPUDvKJ82rOM9QBcVuF+88z1A4oou4uIEPkCpXpbkEBc+QGqjJsA1Kj5ALWwWzkA+PkD1y5xnIVM+QMTV8OXGaD5ApZxJoiB\\u002fPkCSM971HZY+QJKt5TmurT5Arh2Xx8DFPkDqlin4RN4+QEcs1CQq9z5ATAl4umAQP0CkjUOF4ik\\u002fQL6sxySuQz9AEg\\u002fLQsJdP0AgXRSJHXg\\u002fQGE\\u002faqG+kj9AWF6TNaStP0B9YlbvzMg\\u002fQEv0eXg35D9AQrzEeuL\\u002fP0Busf5P5g1AQEpI9Uj6G0BA8XYpfSwqQECokX5BfDhAQKfs1+roRkBAMdwYznFVQECAtCRAFmRAQNTJ3pXVckBAanAqJK+BQECC\\u002fOo\\u002fopBAQFnCAz6un0BALRZYc9KuQEA6TMs0Dr5AQMO4QNdgzUBABbCbr8ncQECnITINSOxAQHWN7R7b+0BAUwz7B4ILQUBNkoPrOxtBQGoTsOwHK0FAuoOpLuU6QUBF15jU0kpBQBQCpwHQWkFAM\\u002fj82NtqQUCsrcN99XpBQIkWJBMci0FA1iZHvE6bQUCb0lWcjKtBQOANedbUu0FAtszZjSbMQUAkA6HlgNxBQDWl9wDj7EFA86YGA0z9QUBo\\u002fPYOuw1CQJ6Z8UcvHkJAoHIf0acuQkB3e6nNIz9CQDGouGCiT0JA1ux1rSJgQkBxPQrXo3BCQA==\"},\"type\":\"scatter\",\"xaxis\":\"x\",\"yaxis\":\"y\"},{\"hovertemplate\":\"Expiry: 2025-08-29 10:00:00\\u003cbr\\u003eStrike: %{x:.0f}\\u003cbr\\u003eIV: %{y:.1f}%\\u003cextra\\u003e\\u003c\\u002fextra\\u003e\",\"marker\":{\"color\":\"#FFA15A\",\"size\":6},\"mode\":\"markers\",\"name\":\"Market IV - 2025-08-29\",\"showlegend\":true,\"x\":{\"dtype\":\"f8\",\"bdata\":\"AAAAAACI40AAAAAAAGroQAAAAAAATO1AAAAAAAAX8UAAAAAAAIjzQAAAAACAwPRAAAAAAAD59UAAAAAAAHb2QAAAAAAA8\\u002fZAAAAAAIAx90AAAAAAAHD3QAAAAAAA7fdAAAAAAABq+EAAAAAAAOf4QAAAAAAAZPlAAAAAAICi+UAAAAAAAOH5QAAAAAAAXvpAAAAAAADb+kAAAAAAgBn7QAAAAAAAWPtAAAAAAICW+0AAAAAAANX7QAAAAACAE\\u002fxAAAAAAABS\\u002fEAAAAAAgJD8QAAAAAAAz\\u002fxAAAAAAIAN\\u002fUAAAAAAAEz9QAAAAACAiv1AAAAAAADJ\\u002fUAAAAAAgAf+QAAAAAAARv5AAAAAAICE\\u002fkAAAAAAAMP+QAAAAACAAf9AAAAAAABA\\u002f0AAAAAAgH7\\u002fQAAAAAAAvf9AAAAAAAAdAEEAAAAAgFsAQQAAAADAegBBAAAAAACaAEEAAAAAABcBQQAAAABAswFBAAAAAIBPAkEAAAAAAIgDQQAAAACAwARBAAAAAAD5BUEAAAAAgDEHQQ==\"},\"y\":{\"dtype\":\"f8\",\"bdata\":\"CtejcD0qYkAoXI\\u002fC9fhfQJqZmZmZGV9AFK5H4XoUXEDNzMzMzAxXQDMzMzMz41RA4XoUrkdxUkAzMzMzM3NRQOxRuB6FW1BAPArXo3C9T0BSuB6F67FOQPYoXI\\u002fClUxAtx6F61GYSkDsUbgehatIQGZmZmZm5kZAAAAAAAAARkDD9ShcjyJFQB+F61G4nkNAZmZmZmZGQkBSuB6F69FBQClcj8L1SEFAKVyPwvXoQEBI4XoUrodAQArXo3A9SkBAKVyPwvVIQEAK16NwPUpAQI\\u002fC9ShcT0BAuB6F61F4QEDhehSuR+FAQClcj8L1aEFAw\\u002fUoXI8CQkAAAAAAAGBCQOF6FK5H4UJAUrgeheuRQ0ApXI\\u002fC9UhEQArXo3A9CkVAexSuR+F6RUBmZmZmZmZGQNejcD0Kd0dAMzMzMzOzSEAUrkfhetRJQFuPwvUoPEpAw\\u002fUoXI+CSkDhehSuRwFOQM3MzMzM\\u002fFBA4XoUrkcxUkD2KFyPwsVTQPYoXI\\u002fCxVNA9ihcj8LFU0CF61G4HtVTQA==\"},\"type\":\"scatter\",\"xaxis\":\"x\",\"yaxis\":\"y\"},{\"hovertemplate\":\"Expiry: 2025-08-29 10:00:00\\u003cbr\\u003eStrike: %{x:.0f}\\u003cbr\\u003eIV: %{y:.1f}%\\u003cextra\\u003e\\u003c\\u002fextra\\u003e\",\"line\":{\"color\":\"#FFA15A\",\"width\":2},\"mode\":\"lines\",\"name\":\"IV Curve - 2025-08-29\",\"showlegend\":false,\"x\":{\"dtype\":\"f8\",\"bdata\":\"AAAAAACI40AsMl+aOObjQFdkvjRxRORAg5Ydz6mi5ECvyHxp4gDlQNv62wMbX+VABi07nlO95UAyX5o4jBvmQF6R+dLEeeZAisNYbf3X5kC19bcHNjbnQOEnF6JulOdADVp2PKfy50A4jNXW31DoQGS+NHEYr+hAkPCTC1EN6UC8IvOliWvpQOhUUkDCyelAE4ex2von6kA\\u002fuRB1M4bqQGvrbw9s5OpAlh3PqaRC60DCTy5E3aDrQO6Bjd4V\\u002f+tAGrTseE5d7EBG5ksTh7vsQHEYq62\\u002fGe1AnUoKSPh37UDIfGniMNbtQPSuyHxpNO5AIOEnF6KS7kBME4ex2vDuQHhF5ksTT+9Ao3dF5kut70DoVFJAwgXwQP3tgY3eNPBAE4ex2vpj8EApIOEnF5PwQD+5EHUzwvBAVVJAwk\\u002fx8EBr628PbCDxQICEn1yIT\\u002fFAlh3PqaR+8UCstv72wK3xQMJPLkTd3PFA2OhdkfkL8kDugY3eFTvyQAQbvSsyavJAGrTseE6Z8kAwTRzGasjyQEbmSxOH9\\u002fJAW397YKMm80BxGKutv1XzQIex2vrbhPNAnUoKSPiz80Cy4zmVFOPzQMh8aeIwEvRA3hWZL01B9ED0rsh8aXD0QApI+MmFn\\u002fRAIOEnF6LO9EA2eldkvv30QEwTh7HaLPVAYqy2\\u002fvZb9UB4ReZLE4v1QI7eFZkvuvVAo3dF5kvp9UC5EHUzaBj2QM+ppICER\\u002fZA5ULUzaB29kD62wMbvaX2QBB1M2jZ1PZAJg5jtfUD90A8p5ICEjP3QFJAwk8uYvdAaNnxnEqR90B+ciHqZsD3QJQLUTeD7\\u002fdAqqSAhJ8e+EDAPbDRu034QNbW3x7YfPhA628PbPSr+EABCT+5ENv4QBeibgYtCvlALTueU0k5+UBC1M2gZWj5QFht\\u002fe2Bl\\u002flAbgYtO57G+UCEn1yIuvX5QJo4jNXWJPpAsNG7IvNT+kDGautvD4P6QNwDG70rsvpA8pxKCkjh+kAINnpXZBD7QB3PqaSAP\\u002ftAM2jZ8Zxu+0BJAQk\\u002fuZ37QF+aOIzVzPtAdTNo2fH7+0CLzJcmDiv8QKFlx3MqWvxAtv72wEaJ\\u002fEDMlyYOY7j8QOIwVlt\\u002f5\\u002fxA+MmFqJsW\\u002fUAOY7X1t0X9QCT85ELUdP1AOpUUkPCj\\u002fUBQLkTdDNP9QGXHcyopAv5Ae2Cjd0Ux\\u002fkCR+dLEYWD+QKeSAhJ+j\\u002f5AvSsyX5q+\\u002fkDTxGGstu3+QOldkfnSHP9A\\u002fvbARu9L\\u002f0AUkPCTC3v\\u002fQCopIOEnqv9AQMJPLkTZ\\u002f0Crrb89MAQAQTZ6V2S+GwBBwUbvikwzAEFME4ex2koAQdbfHthoYgBBYqy2\\u002fvZ5AEHseE4lhZEAQXhF5ksTqQBBAhJ+cqHAAEGO3hWZL9gAQRirrb+97wBBo3dF5ksHAUEuRN0M2h4BQbkQdTNoNgFBRN0MWvZNAUHPqaSAhGUBQVp2PKcSfQFB5ULUzaCUAUFwD2z0LqwBQfrbAxu9wwFBhqibQUvbAUEQdTNo2fIBQZxBy45nCgJBJg5jtfUhAkGy2vrbgzkCQTynkgISUQJBx3MqKaBoAkFSQMJPLoACQd0MWna8lwJBaNnxnEqvAkHzpYnD2MYCQX5yIepm3gJBCT+5EPX1AkGUC1E3gw0DQR7Y6F0RJQNBqqSAhJ88A0E0cRirLVQDQcA9sNG7awNBSgpI+EmDA0HW1t8e2JoDQWCjd0VmsgNB628PbPTJA0F2PKeSguEDQQEJP7kQ+QNBjNXW354QBEEXom4GLSgEQaJuBi27PwRBLTueU0lXBEG4BzZ6124EQULUzaBlhgRBzqBlx\\u002fOdBEFYbf3tgbUEQeQ5lRQQzQRBbgYtO57kBEH50sRhLPwEQYSfXIi6EwVBD2z0rkgrBUGaOIzV1kIFQSUFJPxkWgVBsNG7IvNxBUE7nlNJgYkFQcZq628PoQVBUTeDlp24BUHcAxu9K9AFQWfQsuO55wVB8pxKCkj\\u002fBUF9aeIw1hYGQQg2eldkLgZBkgISfvJFBkEdz6mkgF0GQaibQcsOdQZBM2jZ8ZyMBkG+NHEYK6QGQUkBCT+5uwZB1M2gZUfTBkFfmjiM1eoGQepm0LJjAgdBdTNo2fEZB0EAAAAAgDEHQQ==\"},\"y\":{\"dtype\":\"f8\",\"bdata\":\"CtejcD0qYkBHkB69MfZhQH4DX9Z9wmFAq+oqiXmPYUDJ\\u002f0eifF1hQNH8e+7eLGFAwZuMOvj9YECRlj9TINFgQD2nWgWvpmBAv4ejHfx+YEAU8t9oX1pgQDSg1bMwOWBAG0xKy8cbYEDFrwN8fAJgQFQOUHgu219A5uG+oaa5X0BObjnPP59fQJVrB+LWil9Au5Fwu0h7X0DHmLw8cm9fQME4M0cwZl9AsCkcvF9eX0CTI7983VZfQHbeY2qGTl9AXRJSZjdEX0BNd9FRzTZfQE3FKQ4lJV9Ahr\\u002f+GSEOX0B+DoXLO\\u002fFeQC0HJR2Vzl5AFxvXalWmXkC7u5MQpXheQKBaU2qsRV5ASmkO1JMNXkA3Wb2pg9BdQO+bWEekjl1A86LYCB5IXUDH3zVKGf1cQO7DaGe+rVxA6sBpvDVaXECM1pXLpwJcQGLaj+Jcp1tAw4nFPuRIW0CwNMi21udaQCorKSHNhFpALr15VGAgWkC8OksnKbtZQNDzLnDAVVlAbDi2Bb\\u002fwWECNWHK+vYxYQDSk9HBVKlhAYGvO8x7KV0AM\\u002fpAds2xXQDmszcSqEldAqfrzxF+8VkA1hqcd+GhWQOUA3uI7F1ZA3emsIvPFVUA+wCnr5XNVQCkDakrcH1VAPB9u0qDIVECs31yxwG1UQNXD+fUSEFRAKAEso46wU0AUzdq7KlBTQAld7ULe71JAeeZKO6CQUkDXMx1pIzNSQCUUNDcB1VFAUWUpOtNxUUBCerQsbwdRQGMhBXNinFBAPIFodBw5UED16Sv4B7dPQEmioGNu7k5AZ1mtmR0gTkBSCs5\\u002fg1NNQMJD9Ik6i0xAZ8He08PIS0BT8daWFApLQE1cOpVzTEpAbvmcLAaQSUATXSQCrNhIQIOLmoLLKUhANwSd626AR0DS4mT0UtZGQI82\\u002fwVyKEZAoUrmpqh9RUB7PxzZRt5EQECyxgRHS0RAXuh3gSq9Q0Ba14vX+i1DQMTHSFJJp0JA7ogCE9k5QkDKJ9617ONBQAKMn53ufEFAc\\u002fn9KX8iQUB8FVI\\u002fB95AQJtgIYmpk0BA6rR9hNBZQECNSk4qW0VAQJpy0bm1SUBAFXru11tKQEBJpLMkYUtAQOW+VUeqWEBAvLBWGhKEQEAFNfh+\\u002f9RAQPieoRn0NUFA2lyqSdqqQUBkACoqyhRCQFFkDTkBWEJAKy4NbVavQkDPPbBeVylDQDB+OfchsUNAJJbvtOE6REDlNMhwjtVEQMsw2EazOkVAJTHW1mOcRUAQPTdixVZGQMfh+VArK0dATrwCievUR0DmKw36d0pIQC7s6qW+rUhAT4aqN50aSUA4NwwyOItJQOvgn1nV70lAdKXfEkQ6SkBs\\u002ffM\\u002fC2xKQHDjfGrEvEpAWGT5do1BS0AaseLflexLQCv60fdZr0xAL3BgEVZ7TUAGw6yyHkJOQIF6H3X0+k5AWmCgqeKlT0B3nKEe2yFQQFTkjQ6ealBA8ekem6CtUECAj946SetQQKSt2UQCJFFAyNZrFl5YUUAnKLapBolRQCty+kamtlFAL4V6NufhUUCcMXjAcwtSQN1ESSr2M1JA6ZDEBOpbUkA95wrJMYNSQPuXfZ6QqVJARvN9rMnOUkA9SW0aoPJSQAbqrA\\u002fXFFNAwCWeszE1U0COTKItc1NTQJKuGqVeb1NA8JtoQbeIU0DFZO0pQJ9TQDpZCoa8slNAbMkgfe\\u002fCU0AkCUfMqM9TQBU7ATMV2VNACh67IIvfU0DYRDc3YeNTQFRCOBju5FNAVamAZYjkU0CzDNPAhuJTQEL\\u002f8cs\\u002f31NA2ROgKArbU0BO3Z94PNZTQHjus10t0VNALNqeeTPMU0BCMyNupcdTQHidXC3Xw1NATALfkufAU0Cf6+vPxL5TQCqOGElbvVNAoh76Ype8U0C+0SWCZbxTQDXcMAuyvFNAvHKwYmm9U0AMyjntd75TQNsWYg\\u002fKv1NA342+LUzBU0DOY+Ss6sJTQGDNaPGRxFNA0c1HcS7GU0DdK9ils8dTQLi+wQsiyVNApGySiXvKU0DpG9gFwstTQMmyIGf3zFNAiBf6kx3OU0BqMPJyNs9TQLTjlupD0FNAqhd24UfRU0CPsh0+RNJTQKiaG+c601NAObb9wi3UU0CF61G4HtVTQA==\"},\"type\":\"scatter\",\"xaxis\":\"x\",\"yaxis\":\"y\"},{\"hovertemplate\":\"Expiry: 2025-09-05 10:00:00\\u003cbr\\u003eStrike: %{x:.0f}\\u003cbr\\u003eIV: %{y:.1f}%\\u003cextra\\u003e\\u003c\\u002fextra\\u003e\",\"marker\":{\"color\":\"#19D3F3\",\"size\":6},\"mode\":\"markers\",\"name\":\"Market IV - 2025-09-05\",\"showlegend\":true,\"x\":{\"dtype\":\"f8\",\"bdata\":\"AAAAAACI80AAAAAAgMD0QAAAAAAA+fVAAAAAAIAx90AAAAAAAGr4QAAAAACAovlAAAAAAABe+kAAAAAAANv6QAAAAACAGftAAAAAAABY+0AAAAAAgJb7QAAAAAAA1ftAAAAAAIAT\\u002fEAAAAAAAFL8QAAAAACAkPxAAAAAAADP\\u002fEAAAAAAgA39QAAAAAAATP1AAAAAAICK\\u002fUAAAAAAAMn9QAAAAACAB\\u002f5AAAAAAABG\\u002fkAAAAAAgIT+QAAAAAAAw\\u002f5AAAAAAABA\\u002f0AAAAAAAL3\\u002fQAAAAADAegBBAAAAAAAXAUE=\"},\"y\":{\"dtype\":\"f8\",\"bdata\":\"zczMzMw8U0BxPQrXowBRQKVwPQrXQ05Aw\\u002fUoXI9iSkBSuB6F6\\u002fFGQAAAAAAAIERA9ihcj8LVQkAK16NwPepBQI\\u002fC9Shcr0FASOF6FK5nQUAfhetRuB5BQDMzMzMzs0BAhetRuB6lQEBxPQrXo5BAQDMzMzMzk0BAXI\\u002fC9SicQEDD9Shcj4JAQIXrUbgehUBApHA9CtejQECF61G4HqVAQIXrUbgexUBAcT0K16MQQUCkcD0K12NBQOF6FK5HwUFAFK5H4Xp0QkDhehSuR0FDQI\\u002fC9Shcb0VA7FG4HoWLR0A=\"},\"type\":\"scatter\",\"xaxis\":\"x\",\"yaxis\":\"y\"},{\"hovertemplate\":\"Expiry: 2025-09-05 10:00:00\\u003cbr\\u003eStrike: %{x:.0f}\\u003cbr\\u003eIV: %{y:.1f}%\\u003cextra\\u003e\\u003c\\u002fextra\\u003e\",\"line\":{\"color\":\"#19D3F3\",\"width\":2},\"mode\":\"lines\",\"name\":\"IV Curve - 2025-09-05\",\"showlegend\":false,\"x\":{\"dtype\":\"f8\",\"bdata\":\"AAAAAACI80DW1t8e2JrzQKutvz2wrfNAgYSfXIjA80BWW397YNPzQCwyX5o45vNAAQk\\u002fuRD580DX3x7Y6Av0QKy2\\u002fvbAHvRAgo3eFZkx9EBXZL40cUT0QC07nlNJV\\u002fRAAxJ+ciFq9EDY6F2R+Xz0QK6\\u002fPbDRj\\u002fRAg5Ydz6mi9EBZbf3tgbX0QC5E3QxayPRABBu9KzLb9EDZ8ZxKCu70QK\\u002fIfGniAPVAhJ9ciLoT9UBadjynkib1QDBNHMZqOfVABST85EJM9UDb+tsDG1\\u002f1QLDRuyLzcfVAhqibQcuE9UBbf3tgo5f1QDFWW397qvVABi07nlO99UDcAxu9K9D1QLLa+tsD4\\u002fVAh7Ha+tv19UBdiLoZtAj2QDJfmjiMG\\u002fZACDZ6V2Qu9kDdDFp2PEH2QLPjOZUUVPZAiLoZtOxm9kBekfnSxHn2QDNo2fGcjPZACT+5EHWf9kDeFZkvTbL2QLTseE4lxfZAisNYbf3X9kBfmjiM1er2QDVxGKut\\u002ffZACkj4yYUQ90DgHtjoXSP3QLX1twc2NvdAi8yXJg5J90Bgo3dF5lv3QDZ6V2S+bvdADFE3g5aB90DhJxeibpT3QLb+9sBGp\\u002fdAjNXW3x6690BirLb+9sz3QDeDlh3P3\\u002fdADVp2PKfy90DiMFZbfwX4QLgHNnpXGPhAjt4VmS8r+EBjtfW3Bz74QDiM1dbfUPhADmO19bdj+EDkOZUUkHb4QLkQdTNoifhAj+dUUkCc+EBkvjRxGK\\u002f4QDqVFJDwwfhAEGz0rsjU+EDlQtTNoOf4QLoZtOx4+vhAkPCTC1EN+UBmx3MqKSD5QDueU0kBM\\u002flAEXUzaNlF+UDmSxOHsVj5QLwi86WJa\\u002flAkfnSxGF++UBn0LLjOZH5QDynkgISpPlAEn5yIeq2+UDoVFJAwsn5QL0rMl+a3PlAkgISfnLv+UBo2fGcSgL6QD6w0bsiFfpAE4ex2von+kDpXZH50jr6QL40cRirTfpAlAtRN4Ng+kBq4jBWW3P6QD+5EHUzhvpAFJDwkwuZ+kDqZtCy46v6QMA9sNG7vvpAlRSQ8JPR+kBr628PbOT6QEDCTy5E9\\u002fpAFpkvTRwK+0Drbw9s9Bz7QMFG74rML\\u002ftAlh3PqaRC+0Bs9K7IfFX7QELLjudUaPtAF6JuBi17+0DseE4lBY77QMJPLkTdoPtAmCYOY7Wz+0Bt\\u002fe2Bjcb7QEPUzaBl2ftAGKutvz3s+0DugY3eFf\\u002f7QMRYbf3tEfxAmS9NHMYk\\u002fEBuBi07njf8QETdDFp2SvxAGrTseE5d\\u002fEDvisyXJnD8QMRhrLb+gvxAmjiM1daV\\u002fEBwD2z0rqj8QEbmSxOHu\\u002fxAG70rMl\\u002fO\\u002fEDwkwtRN+H8QMZq628P9PxAnEHLjucG\\u002fUBxGKutvxn9QEbvisyXLP1AHMZq628\\u002f\\u002fUDynEoKSFL9QMhzKikgZf1AnUoKSPh3\\u002fUByIepm0Ir9QEj4yYWonf1AHs+ppICw\\u002fUDzpYnDWMP9QMh8aeIw1v1AnlNJAQnp\\u002fUB0Kikg4fv9QEkBCT+5Dv5AH9joXZEh\\u002fkD0rsh8aTT+QMqFqJtBR\\u002f5AoFyIuhla\\u002fkB1M2jZ8Wz+QEoKSPjJf\\u002f5AIOEnF6KS\\u002fkD2twc2eqX+QMuO51RSuP5AoGXHcyrL\\u002fkB2PKeSAt7+QEwTh7Ha8P5AIupm0LID\\u002f0D3wEbvihb\\u002fQMyXJg5jKf9Aom4GLTs8\\u002f0B4ReZLE0\\u002f\\u002fQE0cxmrrYf9AIvOlicN0\\u002f0D4yYWom4f\\u002fQM6gZcdzmv9Ao3dF5kut\\u002f0B5TiUFJMD\\u002fQE4lBST80v9AJPzkQtTl\\u002f0D60sRhrPj\\u002fQOhUUkDCBQBBUkDCTy4PAEG9KzJfmhgAQSgXom4GIgBBkgISfnIrAEH97YGN3jQAQWjZ8ZxKPgBB08RhrLZHAEE+sNG7IlEAQaibQcuOWgBBE4ex2vpjAEF+ciHqZm0AQeldkfnSdgBBVEkBCT+AAEG+NHEYq4kAQSkg4ScXkwBBlAtRN4OcAEH\\u002f9sBG76UAQWriMFZbrwBB1M2gZce4AEE\\u002fuRB1M8IAQaqkgISfywBBFJDwkwvVAEF\\u002fe2Cjd94AQepm0LLj5wBBVVJAwk\\u002fxAEHAPbDRu\\u002foAQSopIOEnBAFBlRSQ8JMNAUEAAAAAABcBQQ==\"},\"y\":{\"dtype\":\"f8\",\"bdata\":\"zczMzMw8U0Dcj00kqhhTQM32paOQ9FJAfqWtconQUkDRPzy5naxSQKdpKZ\\u002fWiFJA4MZMTD1lUkBa+33o2kFSQPqqlJu4HlJAnnlojd\\u002f7UUAoC9HlWNlRQHUDpswtt1FAaga\\u002faWeVUUDnt\\u002fPkDnRRQMq7G2YtU1FA9rUOFcwyUUBJSqQZ9BJRQEt8SVOu81BAz6TTpPnUUEA+kUyGyLZQQEoRCKkMmVBAsfRZvrd7UEAoC5Z3u15QQGkkEIYJQlBALxAcm5MlUEAvng1oSwlQQEs8cTxF2k9Aj7\\u002fh3RWiT0CkZRQX7GlPQPPNsEqrMU9A9Zde2zb5TkAVY8UrcsBOQMjOjJ5Ah05Ag3pcloVNTkD+0TtCKRNOQHuVbbcz2E1ALVeODrqcTUA5Xw5q0WBNQLD1XeyOJE1AtGLttwfoTEBZ7izvUKtMQMHgjLR\\u002fbkxA\\u002foF9KqkxTEAzGm9z4vRLQHXx0bFAuEtA4U8WCNl7S0CVfayYwD9LQKTCBIYMBEtAMmeP8tHISkBRs7wAJo5KQMJ79MAdVEpAgwygvcUaSkDcx2bzGeJJQNHkC3gUqklAdJpSYa9ySUDUH\\u002f7E5DtJQPyr0biuBUlA93WQUgfQSEDRtP2n6JpIQJ2f3M5MZkhAYG3w3C0ySEAwVfznhf5HQBCOwwVPy0dAE08JTIOYR0BIz5DQHGZHQLhFHakVNEdAbulx62cCR0BdwDncDtFGQH6VZoEToEZAY8O0wIdvRkCLnr2lfT9GQGN7GjwHEEZAY65kjzbhRUAHjDWrHbNFQL5oJpvOhUVA\\u002fJjQaltZRUA6cc0l1i1FQO9FttdQA0VAjWskjN3ZRECNNrFOjrFEQGD79Sp1ikRAgA6MLKRkREBfxAxfLUBEQGRZQ8siHURA0dN+cn77Q0CNxBBb79pDQIiUw\\u002fUVu0NAr6xhs5KbQ0DvdbUEBnxDQDlZiVoQXENAe7+nJVI7Q0ChEdvWaxlDQJ647d799UJA4KmX26jQQkALXTd+eKlCQB\\u002f3EUGZgUJAWHnB0GdaQkDu5N\\u002fZQDVCQCI7BwmBE0JAMH3RCoX2QUCrYFd0kN9BQA3PE76lzUFAtuXjQ4a9QUDRHm7F26tBQOCCJ37YlkFAkRoQYkSAQUBRpklbampBQCxe32foVkFAKWoFaFBDQUAcCwkPtCtBQIMcDOp4DEFAxo87exXoQEAyrjAxU8ZAQGowpbIhr0BAtYSi1+ulQEB3PY4x7KRAQOpqDbc\\u002fpUBAtuFsk02hQEBEJUCdHppAQMNc7bnbkkBAR\\u002fbFf4iOQEAOQ1SO9o1AQCerSOtGkEBAkMhoMo6UQEDQm2CqbplAQAyqcdy\\u002fnEBA5i4\\u002fg0ScQEDjQ4GCjpZAQJbLhJfDjUBA0bVxggaFQEDBdNtnVX9AQCCN\\u002fPHpfUBAauIPncyAQEAmX24j+4dAQNKfbc1EkkBAulQRGaScQEC8Rjgx66NAQMCmwrkLpkBAiCt\\u002fKj2lQEC+l38Zu6RAQDtr1t+Tp0BA8kLU0AKvQEB2VSC7L7tAQAiJV3Q6zEBAHhPuIoXhQEBg\\u002fRB1cPlAQKFi4cJKEkFAMnbqWOAqQUB+Ql5gmkNBQAd8yXg2XUFAX9v4qVV4QUAA1MkeoJRBQAv1xt49sUFAVjHP51nNQUAeXQSooOhBQOP85JxYA0JAz5P7QdEdQkANpdISWjhCQMuz9IpCU0JAN0PsJdpuQkDpoAX9ZotCQJxWec\\u002fpqEJAnNwRR0THQkBfshDoV+ZCQFZXtzYGBkNA+EpHtzAmQ0Au3LbyuEZDQMQSa62GZ0NAo2W28pCIQ0ApmDQa0alDQLptgXtAy0NAs6k4btjsQ0B9D\\u002fZJkg5EQHRiVWZnMERA+WXyGlFSREBx3Wi\\u002fSHREQDyMVKtHlkRAuzVRNke4REBQnfq3QNpEQFiG7Ict\\u002fERAOrTC\\u002fQYeRUBY6hhxxj9FQBHsijllYUVAPkWX\\u002fNyCRUDM5649LKRFQEfyVGpVxUVAN9VuDFvmRUAlAeKtPwdGQJvmk9gFKEZAIfZpFrBIRkBFoEnxQGlGQJBVGPO6iUZAh4a7pSCqRkC8oxiTdMpGQLYdFUW56kZA\\u002fWSWRfEKR0Ac6oEeHytHQJsdvVlFS0dACXAtgWZrR0DsUbgehYtHQA==\"},\"type\":\"scatter\",\"xaxis\":\"x\",\"yaxis\":\"y\"},{\"hovertemplate\":\"Expiry: 2025-09-12 10:00:00\\u003cbr\\u003eStrike: %{x:.0f}\\u003cbr\\u003eIV: %{y:.1f}%\\u003cextra\\u003e\\u003c\\u002fextra\\u003e\",\"marker\":{\"color\":\"#FF6692\",\"size\":6},\"mode\":\"markers\",\"name\":\"Market IV - 2025-09-12\",\"showlegend\":true,\"x\":{\"dtype\":\"f8\",\"bdata\":\"AAAAAABq+EAAAAAAgKL5QAAAAAAA4flAAAAAAABe+kAAAAAAANv6QAAAAACAGftAAAAAAABY+0AAAAAAgJb7QAAAAAAA1ftAAAAAAIAT\\u002fEAAAAAAAFL8QAAAAACAkPxAAAAAAADP\\u002fEAAAAAAAEz9QAAAAAAAyf1AAAAAAICE\\u002fkAAAAAAAL3\\u002fQA==\"},\"y\":{\"dtype\":\"f8\",\"bdata\":\"16NwPQqXRUDsUbgehWtDQPYoXI\\u002fCFUNApHA9CtdjQkDD9Shcj+JBQMP1KFyPokFAexSuR+FaQUBcj8L1KBxBQClcj8L16EBAXI\\u002fC9Si8QEDNzMzMzKxAQI\\u002fC9Shcr0BArkfhehSuQEBxPQrXo7BAQB+F61G4vkBA16NwPQo3QUCF61G4HoVCQA==\"},\"type\":\"scatter\",\"xaxis\":\"x\",\"yaxis\":\"y\"},{\"hovertemplate\":\"Expiry: 2025-09-12 10:00:00\\u003cbr\\u003eStrike: %{x:.0f}\\u003cbr\\u003eIV: %{y:.1f}%\\u003cextra\\u003e\\u003c\\u002fextra\\u003e\",\"line\":{\"color\":\"#FF6692\",\"width\":2},\"mode\":\"lines\",\"name\":\"IV Curve - 2025-09-12\",\"showlegend\":false,\"x\":{\"dtype\":\"f8\",\"bdata\":\"AAAAAABq+EBr628PbHP4QNbW3x7YfPhAQMJPLkSG+ECrrb89sI\\u002f4QBaZL00cmfhAgYSfXIii+EDrbw9s9Kv4QFZbf3tgtfhAwUbvisy++EAsMl+aOMj4QJYdz6mk0fhAAQk\\u002fuRDb+EBs9K7IfOT4QNffHtjo7fhAQsuO51T3+ECstv72wAD5QBeibgYtCvlAgo3eFZkT+UDteE4lBR35QFdkvjRxJvlAwk8uRN0v+UAtO55TSTn5QJgmDmO1QvlAAxJ+ciFM+UBt\\u002fe2BjVX5QNjoXZH5XvlAQ9TNoGVo+UCuvz2w0XH5QBirrb89e\\u002flAg5Ydz6mE+UDugY3eFY75QFlt\\u002fe2Bl\\u002flAxFht\\u002fe2g+UAuRN0MWqr5QJkvTRzGs\\u002flABBu9KzK9+UBvBi07nsb5QNnxnEoK0PlARN0MWnbZ+UCvyHxp4uL5QBq07HhO7PlAhJ9ciLr1+UDvisyXJv\\u002f5QFp2PKeSCPpAxWGstv4R+kAwTRzGahv6QJo4jNXWJPpABST85EIu+kBwD2z0rjf6QNv62wMbQfpAReZLE4dK+kCw0bsi81P6QBu9KzJfXfpAhqibQctm+kDwkwtRN3D6QFt\\u002fe2CjefpAxmrrbw+D+kAxVlt\\u002fe4z6QJxBy47nlfpABi07nlOf+kBxGKutv6j6QNwDG70rsvpAR++KzJe7+kCy2vrbA8X6QBzGautvzvpAh7Ha+tvX+kDynEoKSOH6QF2Iuhm06vpAx3MqKSD0+kAyX5o4jP36QJ1KCkj4BvtACDZ6V2QQ+0ByIepm0Bn7QN0MWnY8I\\u002ftASPjJhags+0Cz4zmVFDb7QB7PqaSAP\\u002ftAiLoZtOxI+0DzpYnDWFL7QF6R+dLEW\\u002ftAyXxp4jBl+0AzaNnxnG77QJ5TSQEJePtACT+5EHWB+0B0Kikg4Yr7QN4VmS9NlPtASQEJP7md+0C07HhOJaf7QB\\u002fY6F2RsPtAisNYbf25+0D0rsh8acP7QF+aOIzVzPtAyoWom0HW+0A1cRirrd\\u002f7QKBciLoZ6ftACkj4yYXy+0B1M2jZ8fv7QOAe2OhdBfxASwpI+MkO\\u002fEC19bcHNhj8QCDhJxeiIfxAi8yXJg4r\\u002fED2twc2ejT8QGCjd0XmPfxAy47nVFJH\\u002fEA2eldkvlD8QKFlx3MqWvxADFE3g5Zj\\u002fEB2PKeSAm38QOEnF6JudvxATBOHsdp\\u002f\\u002fEC2\\u002fvbARon8QCLqZtCykvxAjNXW3x6c\\u002fED3wEbviqX8QGKstv72rvxAzJcmDmO4\\u002fEA3g5Ydz8H8QKJuBi07y\\u002fxADVp2PKfU\\u002fEB4ReZLE978QOIwVlt\\u002f5\\u002fxATRzGauvw\\u002fEC4BzZ6V\\u002fr8QCPzpYnDA\\u002f1Ajt4VmS8N\\u002fUD4yYWomxb9QGO19bcHIP1AzqBlx3Mp\\u002fUA4jNXW3zL9QKN3ReZLPP1ADmO19bdF\\u002fUB5TiUFJE\\u002f9QOQ5lRSQWP1ATiUFJPxh\\u002fUC5EHUzaGv9QCT85ELUdP1Aj+dUUkB+\\u002fUD60sRhrIf9QGS+NHEYkf1Az6mkgISa\\u002fUA6lRSQ8KP9QKSAhJ9crf1AEGz0rsi2\\u002fUB6V2S+NMD9QOVC1M2gyf1AUC5E3QzT\\u002fUC6GbTseNz9QCUFJPzk5f1AkPCTC1Hv\\u002fUD72wMbvfj9QGbHcyopAv5A0LLjOZUL\\u002fkA7nlNJARX+QKaJw1htHv5AEXUzaNkn\\u002fkB8YKN3RTH+QOZLE4exOv5AUTeDlh1E\\u002fkC8IvOliU3+QCYOY7X1Vv5AkfnSxGFg\\u002fkD85ELUzWn+QGfQsuM5c\\u002f5A0rsi86V8\\u002fkA8p5ICEob+QKeSAhJ+j\\u002f5AEn5yIeqY\\u002fkB9aeIwVqL+QOhUUkDCq\\u002f5AUkDCTy61\\u002fkC9KzJfmr7+QCgXom4GyP5AkgISfnLR\\u002fkD97YGN3tr+QGjZ8ZxK5P5A08RhrLbt\\u002fkA+sNG7Ivf+QKibQcuOAP9AE4ex2voJ\\u002f0B+ciHqZhP\\u002fQOldkfnSHP9AVEkBCT8m\\u002f0C+NHEYqy\\u002f\\u002fQCkg4ScXOf9AlAtRN4NC\\u002f0D\\u002f9sBG70v\\u002fQGriMFZbVf9A1M2gZcde\\u002f0A\\u002fuRB1M2j\\u002fQKqkgISfcf9AFJDwkwt7\\u002f0B\\u002fe2Cjd4T\\u002fQOpm0LLjjf9AVVJAwk+X\\u002f0DAPbDRu6D\\u002fQCopIOEnqv9AlRSQ8JOz\\u002f0AAAAAAAL3\\u002fQA==\"},\"y\":{\"dtype\":\"f8\",\"bdata\":\"16NwPQqXRUBUoclMkIRFQFYdBsYYckVAYJYJE6ZfRUD0iredOk1FQJl588\\u002fYOkVA0OCgE4MoRUAiP6PSOxZFQAwT3nYFBEVAFts0auLxREDCFYsW1d9EQJhBxOXfzURAF93DQQW8REDFZm2UR6pEQCZdpEepmERAvj5MxSyHREARikh31HVEQKK9fMeiZERA9VfMH5pTRECP1xrqvEJEQPS6S5ANMkRApoBCfI4hREApp+IXQhFEQAStD80qAURAuBCtBUvxQ0DLUJ4rpeFDQL\\u002frxqg70kNAGWAK5xDDQ0BbLExQJ7RDQA3Pb06BpUNArsZYSyGXQ0DFkeqwCYlDQNWuCOk8e0NAYpyWXb1tQ0CoFlX4imBDQB50ZQOVU0NAoLLcAMRGQ0CA0LBtADpDQBnM18YyLUNAvqNHiUMgQ0CZQlU\\u002fGxNDQKqz8YWtBUNAQJZxrgb4QkC6vuRhNupCQHkBW0lM3EJA4jLkDVjOQkBVJ5BYacBCQDazbtKPskJA4qqPJNukQkC\\u002f4gL4WpdCQCwv2PUeikJAjWQfxzZ9QkBBV+gUsnBCQKvbQoigZEJALv6ZCw5ZQkCoyGE79E1CQJ2QeR5HQ0JA8ztnu\\u002fo4QkCMsLAYAy9CQEfU2zxUJUJACY1uLuIbQkCzwO7zoBJCQCRV4pOECUJARDDPFIEAQkDuNzt9ivdBQAlSrNOU7kFAdmSoHpTlQUD1TnGYfNxBQBoqstRE00FAiuAX6+TJQUAk3Mb5VMBBQMmG4x6NtkFAWUqSeIWsQUAsOwQlNqJBQLCsKASdl0FAn\\u002faWzMyMQUAeU5Lr3IFBQFL8Xc7kdkFAXSw94vtrQUBjHXOUOWFBQKR9DRe1VkFAVl1YnnxMQUButI+wkkJBQMnCGgz5OEFAQshgb7EvQUCzBMmYvSZBQPu3ukYfHkFA+a2U0NYVQUAOvaoA2Q1BQL0rGPMUBkFAvSXZuXn+QEDF1ulm9vZAQIdqRgx670BAiOqTwfPnQEDv\\u002fowbYOBAQD\\u002f+2Q\\u002fg2EBAPC9qpprRQECk2CzntspAQDtBEdpbxEBAwq8Gh7C+QECv5RzG2rlAQMSqTiLltUBACc2B2b6yQEBAlbz5VbBAQCpMBZGYrkBAgzpirXStQEAQqdlc2KxAQAU0qZmwrEBAttqc6eOsQEAvgM1tVq1AQPLyUkbsrUBAggFFk4muQEBeert0Eq9AQHLIASJrr0BAWCzp14SvQEDZF7dNa69AQFartHEtr0BANQcrMtquQEDYS2N9gK5AQKGZpkEvrkBA0hhAyfStQEDtSqzI1a1AQEWadZPPrUBAE1ePTN+tQECQ0ewWAq5AQPFZgRU1rkBAckBAa3WuQEBF1Rw7wK5AQKdoCqgSr0BAzUr81GmvQEDvy+Xkwq9AQEc8uvoasEBACuxsOW+wQEBGnhLWvLBAQDAAl0UFsUBAtnYMk1CxQEBz\\u002fZBap7FAQASQQjgSskBACSo\\u002fyJmyQEAdx6SmRrNAQN5ikW8htEBA6PgivzK1QEDbhHcxg7ZAQFECrWIbuEBA6Wzh7gO6QEA\\u002fwDJyRbxAQGovmIjovkBAPocbYvPBQECCu70+ZMVAQJxIyr43yUBA9KqMgmrNQEDzXlAq+dFAQADhYFbg1kBAg60JpxzcQEDmQJa8quFAQI0XUjeH50BA5K2It67tQEBQgIXdHfRAQDoLlEnR+kBAC8v\\u002fm8UBQUApPBR19whBQPzaHHVjEEFA7iNlPAYYQUBlkzhr3B9BQMul4qHiJ0FAhteugBUwQUDdmFiocThBQDFL2030QEFAp\\u002fKaEZxJQUCYp6XKZ1JBQF2CCVBWW0FASJvUeGZkQUC0ChUcl21BQPbo2BDndkFAZk4uLlWAQUBbUyNL4IlBQCoQxj6Hk0FALJ0k4EidQUC3Ek0GJKdBQB+JTYgXsUFAwBg0PSK7QUDu2Q78QsVBQALl65t4z0FAT1LZ88HZQUAuOuXaHeRBQPe0HSiL7kFAAduQsgj5QUCfxExRlQNCQCyKX9svDkJA\\u002fUPXJ9cYQkBpCsINiiNCQMn1LWRHLkJAcB4pAg45QkC3nMG+3ENCQPaIBXGyTkJAgvsC8I1ZQkC0DMgSbmRCQN\\u002fUYrBRb0JAXmzhnzd6QkCF61G4HoVCQA==\"},\"type\":\"scatter\",\"xaxis\":\"x\",\"yaxis\":\"y\"},{\"hovertemplate\":\"Expiry: 2025-09-26 10:00:00\\u003cbr\\u003eStrike: %{x:.0f}\\u003cbr\\u003eIV: %{y:.1f}%\\u003cextra\\u003e\\u003c\\u002fextra\\u003e\",\"marker\":{\"color\":\"#B6E880\",\"size\":6},\"mode\":\"markers\",\"name\":\"Market IV - 2025-09-26\",\"showlegend\":true,\"x\":{\"dtype\":\"f8\",\"bdata\":\"AAAAAACI00AAAAAAAEzdQAAAAAAAiONAAAAAAABq6EAAAAAAANvqQAAAAAAATO1AAAAAAAC970AAAAAAABfxQAAAAACAT\\u002fJAAAAAAACI80AAAAAAgMD0QAAAAAAA+fVAAAAAAIAx90AAAAAAAO33QAAAAAAAavhAAAAAAICi+UAAAAAAAF76QAAAAAAA2\\u002fpAAAAAAABY+0AAAAAAANX7QAAAAACAE\\u002fxAAAAAAABS\\u002fEAAAAAAAM\\u002f8QAAAAAAATP1AAAAAAADJ\\u002fUAAAAAAAEb+QAAAAACAhP5AAAAAAADD\\u002fkAAAAAAAED\\u002fQAAAAAAAvf9AAAAAAAAdAEEAAAAAgFsAQQAAAADAegBBAAAAAACaAEEAAAAAgNgAQQAAAAAAFwFBAAAAAECzAUEAAAAAgE8CQQAAAAAAiANBAAAAAIDABEEAAAAAAPkFQQAAAACAMQdBAAAAAABqCEEAAAAAgKIJQQAAAAAA2wpBAAAAAABMDUEAAAAAAL0PQQAAAAAAFxFBAAAAAIBPEkEAAAAAAGoYQQ==\"},\"y\":{\"dtype\":\"f8\",\"bdata\":\"UrgehesZYEB7FK5H4QpgQDMzMzMz41tAFK5H4Xp0V0BmZmZmZuZUQB+F61G43lRAMzMzMzNjU0DsUbgehYtRQBSuR+F61E9A4XoUrkcBTUC3HoXrUdhKQDMzMzMzk0hAcT0K16NwRkAfhetRuF5FQAAAAAAAoERAFK5H4XoUQ0BSuB6F61FCQKRwPQrX40FA7FG4HoVrQUAUrkfhehRBQM3MzMzM7EBAXI\\u002fC9SjcQECuR+F6FK5AQI\\u002fC9Shcr0BAj8L1KFyvQEBSuB6F67FAQLgehetRuEBA16NwPQrXQEDsUbgehQtBQEjhehSuR0FAzczMzMzMQUDD9ShcjyJCQIXrUbgeRUJAhetRuB6lQkCPwvUoXA9DQDMzMzMzc0NASOF6FK7nREAAAAAAAEBGQGZmZmZmRkhA61G4HoXrSkBbj8L1KNxMQM3MzMzMzE5AFK5H4XqUUEAfhetRuD5RQFyPwvUoHFJAMzMzMzPTU0DD9Shcj\\u002fJUQFK4HoXrIVVAPQrXo3CNVUAUrkfhekRXQA==\"},\"type\":\"scatter\",\"xaxis\":\"x\",\"yaxis\":\"y\"},{\"hovertemplate\":\"Expiry: 2025-09-26 10:00:00\\u003cbr\\u003eStrike: %{x:.0f}\\u003cbr\\u003eIV: %{y:.1f}%\\u003cextra\\u003e\\u003c\\u002fextra\\u003e\",\"line\":{\"color\":\"#B6E880\",\"width\":2},\"mode\":\"lines\",\"name\":\"IV Curve - 2025-09-26\",\"showlegend\":false,\"x\":{\"dtype\":\"f8\",\"bdata\":\"AAAAAACI00DNlyYOY2XVQJkvTRzGQtdAZsdzKikg2UAyX5o4jP3aQP\\u002f2wEbv2txAzI7nVFK43kBME4ex2krgQDJfmjiMOeFAGKutvz0o4kD\\u002f9sBG7xbjQOVC1M2gBeRAzI7nVFL05ECy2vrbA+PlQJgmDmO10eZAfnIh6mbA50BkvjRxGK\\u002foQEsKSPjJnelAMVZbf3uM6kAXom4GLXvrQP7tgY3eaexA5DmVFJBY7UDKhaibQUfuQLDRuyLzNe9AzI7nVFIS8EC+NHEYq4nwQLLa+tsDAfFApYCEn1x48UCYJg5jte\\u002fxQIvMlyYOZ\\u002fJAfnIh6mbe8kByGKutv1XzQGS+NHEYzfNAWGS+NHFE9EBLCkj4ybv0QD6w0bsiM\\u002fVAMVZbf3uq9UAk\\u002fORC1CH2QBeibgYtmfZACkj4yYUQ90D+7YGN3of3QPGTC1E3\\u002f\\u002fdA5DmVFJB2+EDX3x7Y6O34QMqFqJtBZflAvSsyX5rc+UCw0bsi81P6QKR3ReZLy\\u002fpAlx3PqaRC+0CKw1ht\\u002fbn7QH1p4jBWMfxAcA9s9K6o\\u002fEBjtfW3ByD9QFZbf3tgl\\u002f1ASgEJP7kO\\u002fkA9p5ICEob+QDBNHMZq\\u002ff5AI\\u002fOlicN0\\u002f0AWmS9NHOz\\u002fQISfXIi6MQBBfnIh6mZtAEF4ReZLE6kAQXIYq62\\u002f5ABBa+tvD2wgAUFkvjRxGFwBQV6R+dLElwFBWGS+NHHTAUFRN4OWHQ8CQUsKSPjJSgJBRN0MWnaGAkE+sNG7IsICQTeDlh3P\\u002fQJBMVZbf3s5A0ErKSDhJ3UDQST85ELUsANBHs+ppIDsA0EXom4GLSgEQRF1M2jZYwRBCkj4yYWfBEEEG70rMtsEQf7tgY3eFgVB98BG74pSBUHxkwtRN44FQepm0LLjyQVB5DmVFJAFBkHdDFp2PEEGQdffHtjofAZB0bLjOZW4BkHKhaibQfQGQcRYbf3tLwdBvSsyX5prB0G3\\u002fvbARqcHQbDRuyLz4gdBqqSAhJ8eCEGkd0XmS1oIQZ1KCkj4lQhBlx3PqaTRCEGQ8JMLUQ0JQYrDWG39SAlBg5Ydz6mECUF9aeIwVsAJQXc8p5IC\\u002fAlBcA9s9K43CkFq4jBWW3MKQWO19bcHrwpBXYi6GbTqCkFWW397YCYLQVAuRN0MYgtBSgEJP7mdC0FD1M2gZdkLQT2nkgISFQxBNnpXZL5QDEEwTRzGaowMQSkg4ScXyAxBI\\u002fOlicMDDUEdxmrrbz8NQRaZL00cew1BEGz0rsi2DUEJP7kQdfINQQMSfnIhLg5B\\u002fORC1M1pDkH2twc2eqUOQfCKzJcm4Q5B6V2R+dIcD0HjMFZbf1gPQdwDG70rlA9B1tbfHtjPD0HoVFJAwgUQQWS+NHGYIxBB4icXom5BEEFekfnSRF8QQdv62wMbfRBBWGS+NPGaEEHUzaBlx7gQQVE3g5ad1hBBzqBlx3P0EEFLCkj4SRIRQchzKikgMBFBRN0MWvZNEUHBRu+KzGsRQT6w0buiiRFBuxm07HinEUE3g5YdT8URQbTseE4l4xFBMVZbf\\u002fsAEkGuvz2w0R4SQSspIOGnPBJBp5ICEn5aEkEk\\u002fORCVHgSQaFlx3MqlhJBHs+ppAC0EkGbOIzV1tESQReibgat7xJBlAtRN4MNE0ERdTNoWSsTQY7eFZkvSRNBCkj4yQVnE0GHsdr624QTQQQbvSuyohNBgYSfXIjAE0H+7YGNXt4TQXpXZL40\\u002fBNB98BG7woaFEF0Kikg4TcUQfGTC1G3VRRBbv3tgY1zFEHqZtCyY5EUQWfQsuM5rxRB5DmVFBDNFEFho3dF5uoUQd0MWna8CBVBWnY8p5ImFUHX3x7YaEQVQVRJAQk\\u002fYhVB0bLjORWAFUFNHMZq650VQcqFqJvBuxVBR++KzJfZFUHEWG39bfcVQUHCTy5EFRZBvSsyXxozFkE6lRSQ8FAWQbf+9sDGbhZBNGjZ8ZyMFkGw0bsic6oWQS07nlNJyBZBqqSAhB\\u002fmFkEnDmO19QMXQaR3RebLIRdBIOEnF6I\\u002fF0GdSgpIeF0XQRq07HhOexdBlx3PqSSZF0EUh7Ha+rYXQZDwkwvR1BdBDVp2PKfyF0GKw1htfRAYQQctO55TLhhBg5YdzylMGEEAAAAAAGoYQQ==\"},\"y\":{\"dtype\":\"f8\",\"bdata\":\"UrgehesZYEAGbBSixTFgQKl4BVeOQ2BAJzftOzRJYEBvAMfopTxgQHAtjvXRF2BAP95QVHerX0BwtIZHz\\u002fReQOzCv4amHF5AgetlXgg0XUAAEOMaAExcQAi1JDbSdFtAg0jeYO2uWkAU3C+E9+tZQPF9OpgFHVlAVjwflSwzWEAujAuc7x9XQPNGH2Ui+VVAfU3vwu0TVUAdSEqiHcFUQOgX3enC1lRAXFCiea3cVED0VZD8f3tUQB7wfZdZ0FNA+I1c+3UQU0BsNFPaB1lSQEYMwEy3qlFAXzT53YMEUUBhpF23b2VQQMmWdnAAmU9AO182dgl1TkAj30b2o2hNQOvnvDGIfUxAPFO\\u002fT4CsS0AHd0pckOBKQOuyuby+CEpA6lFv4OwnSUCgtUt0kkZIQJCmOfcnbUdAOY3OByekRkCTox5egvFFQA0fjjMuQ0VAnhJsQImNRED8jgDe\\u002fOpDQHa+\\u002fbdMWkNAk4TlESvUQkBTx3i6HltCQCmTj5Zu8kFAdNWpUDV+QUCg6K2IuSZBQBf4tIqF40BAXELq7za6QEAQPHucqatAQNO\\u002f374osEBAYNe9FKKwQEDjgqB20LhAQE2m3Cna8kBAaXWQ4PMdQUD6M+gP6XVBQNSr5t1p8kFAYG3MWz8wQkBfaeOPF8tCQB7c4h19H0NAKnALC9yFQ0AbXfwHgQxEQI245V57okRASpzETP81RUAodn8\\u002fib1FQMR2GUkON0ZA5mjVyM+hRkAjrsApSQJHQAK1uiOdXkdA8b8nme68R0BVEWxsYCNIQNaM13Nyl0hAIWGa4bAXSUAN2INwYJ5JQHO8rNO1JUpAKNktvuWnSkBbRMH7RR9LQCV3xLwIiktAbRnTLM7qS0AY+m7adERMQPrnGVTbmUxAO5sgwd\\u002ftTEDKevNAFUNNQHAzFmdsm01AoNd4hMD4TUDJeQvq7FxOQGEsvujMyU5A5Ps7FQ5AT0DjWtjiQ7tPQDmArDfQGlBAop9+66pUUEAFNQIbS4hQQHC1oFAts1BAHw7xEFfWUEANRIfysPRQQCijJRQoEVFAX3eOlKkuUUDWDgDNDFBRQInq3Fc0dlFAQr6rEA6gUUAIQG8NcsxRQNwlKmQ4+lFAeDvFCDooUkAHfctTrFVSQAZcTbRxglJAR3Z6oH+uUkCdaYKOy9lSQNzTlPRKBFNA0lLhSPMtU0BWhJcBulZTQDUG55SUflNAR3b\\u002feHilU0BbchAkW8tTQKXtHRou8FNAjADIs8QTVED0iJpc5DVUQHWA+WxSVlRAquBIPdR0VEAso+wlL5FUQJbBSH8oq1RAgDXBoYXCVECG+LnlC9dUQD8El6OA6FRAeP1MLar2VEAYA5ZzkQFVQBKOhaGrCVVAvauVzHcPVUBpaUAKdRNVQGzU\\u002f28iFlVAG\\u002fpNE\\u002f8XVUDH56QJihlVQMaqfmhCG1VAa1BVRacdVUAJ5qK1NyFVQKOFmldhJlVAcplR0yAtVUARuS\\u002ffRTVVQF40IxSgPlVAPlsaC\\u002f9IVUCOfQNdMlRVQDDrzKIJYFVAA\\u002fRkdVRsVUDp57lt4nhVQMEWuiSDhVVANyMOnQaSVUDWdilcUJ5VQItF0nNfqlVAmjd0CjW2VUBC9XpG0sFVQMQmUk44zVVAYXRlSGjYVUBahiBbY+NVQPEE76wq7lVAZJg8ZL\\u002f4VUD26HSnIgNWQOaeA51VDVZAd2JUa1kXVkDo29I4LyFWQHuz6ivYKlZAb5EHa1U0VkAHHpUcqD1WQIEB\\u002f2bRRlZAIeSwcNJPVkAmbhZgrFhWQNFHm1tgYVZAYhmrie9pVkAdi7EQW3JWQD5FGhekelZACfBQw8uCVkC\\u002fM8E704pWQJ641qa7klZA6Sb9KoaaVkDiJqDuM6JWQMdgKxjGqVZA2nwKzj2xVkBbI6k2nLhWQI38cnjiv1ZArrDTuRHHVkAB6DYhK85WQMVKCNUv1VZAPYGz+yDcVkCmM6S7\\u002f+JWQEQKRjvN6VZAWK0EoYrwVkAixUsTOfdWQOL5hrjZ\\u002fVZA2vMht20EV0BJW4g19gpXQHHYJVp0EVdAlBNmS+kXV0DxtLQvVh5XQMdkfS28JFdAW8sraxwrV0DtkCsPeDFXQLtd6D\\u002fQN1dACNrNIyY+V0AUrkfhekRXQA==\"},\"type\":\"scatter\",\"xaxis\":\"x\",\"yaxis\":\"y\"},{\"hovertemplate\":\"Expiry: 2025-10-31 09:00:00\\u003cbr\\u003eStrike: %{x:.0f}\\u003cbr\\u003eIV: %{y:.1f}%\\u003cextra\\u003e\\u003c\\u002fextra\\u003e\",\"marker\":{\"color\":\"#FF97FF\",\"size\":6},\"mode\":\"markers\",\"name\":\"Market IV - 2025-10-31\",\"showlegend\":true,\"x\":{\"dtype\":\"f8\",\"bdata\":\"AAAAAACI40AAAAAAAGroQAAAAAAATO1AAAAAAAAX8UAAAAAAAIjzQAAAAACAwPRAAAAAAAD59UAAAAAAgDH3QAAAAAAAavhAAAAAAADn+EAAAAAAAGT5QAAAAACAovlAAAAAAADh+UAAAAAAAF76QAAAAAAA2\\u002fpAAAAAAABY+0AAAAAAANX7QAAAAACAE\\u002fxAAAAAAABS\\u002fEAAAAAAAM\\u002f8QAAAAAAATP1AAAAAAADJ\\u002fUAAAAAAAEb+QAAAAAAAw\\u002f5AAAAAAABA\\u002f0AAAAAAAL3\\u002fQAAAAAAAHQBBAAAAAIBbAEEAAAAAwHoAQQAAAAAAmgBBAAAAAIDYAEEAAAAAABcBQQAAAABAswFBAAAAAIBPAkEAAAAAwOsCQQAAAAAAiANBAAAAAIDABEEAAAAAAPkFQQAAAACAMQdBAAAAAABqCEEAAAAAgKIJQQ==\"},\"y\":{\"dtype\":\"f8\",\"bdata\":\"rkfhehSOVUDsUbgehVtTQPYoXI\\u002fC1VBA7FG4HoUrTUDgehSuR2FJQOxRuB6Fy0dArkfhehRuRkBxPQrXozBFQClcj8L1CERASOF6FK6nQ0ApXI\\u002fC9UhDQMP1KFyPIkNA16NwPQr3QkBxPQrXo7BCQArXo3A9akJArkfhehQuQkCamZmZmflBQD0K16Nw3UFAAAAAAADAQUCF61G4HqVBQMP1KFyPgkFAw\\u002fUoXI+CQUCkcD0K14NBQKRwPQrXg0FAZmZmZmaGQUCamZmZmZlBQD0K16NwvUFAAAAAAADgQUCamZmZmflBQOxRuB6FC0JAXI\\u002fC9SgcQkApXI\\u002fC9UhCQIXrUbge5UJApHA9CteDQ0DsUbgehQtEQDMzMzMzs0RArkfhehQORkBxPQrXo5BHQNejcD0K90hA4XoUrkdBSkB7FK5H4XpLQA==\"},\"type\":\"scatter\",\"xaxis\":\"x\",\"yaxis\":\"y\"},{\"hovertemplate\":\"Expiry: 2025-10-31 09:00:00\\u003cbr\\u003eStrike: %{x:.0f}\\u003cbr\\u003eIV: %{y:.1f}%\\u003cextra\\u003e\\u003c\\u002fextra\\u003e\",\"line\":{\"color\":\"#FF97FF\",\"width\":2},\"mode\":\"lines\",\"name\":\"IV Curve - 2025-10-31\",\"showlegend\":false,\"x\":{\"dtype\":\"f8\",\"bdata\":\"AAAAAACI40APbPSuyPLjQB\\u002fY6F2RXeRALkTdDFrI5EA+sNG7IjPlQE0cxmrrneVAXYi6GbQI5kBs9K7IfHPmQHxgo3dF3uZAi8yXJg5J50CaOIzV1rPnQKqkgISfHuhAuRB1M2iJ6EDJfGniMPToQNjoXZH5XulA6FRSQMLJ6UD3wEbvijTqQAYtO55Tn+pAFpkvTRwK60AlBST85HTrQDVxGKut3+tARN0MWnZK7EBUSQEJP7XsQGO19bcHIO1AciHqZtCK7UCCjd4VmfXtQJL50sRhYO5AoWXHcyrL7kCw0bsi8zXvQMA9sNG7oO9A6FRSQMIF8EDvisyXJjvwQPfARu+KcPBA\\u002f\\u002fbARu+l8EAGLTueU9vwQA5jtfW3EPFAFpkvTRxG8UAez6mkgHvxQCUFJPzksPFALTueU0nm8UA1cRirrRvyQDynkgISUfJARN0MWnaG8kBME4ex2rvyQFRJAQk\\u002f8fJAXH97YKMm80BjtfW3B1zzQGvrbw9skfNAciHqZtDG80B6V2S+NPzzQIKN3hWZMfRAisNYbf1m9ECS+dLEYZz0QJkvTRzG0fRAoWXHcyoH9UCom0HLjjz1QLDRuyLzcfVAuAc2elen9UDAPbDRu9z1QMhzKikgEvZAz6mkgIRH9kDX3x7Y6Hz2QN4VmS9NsvZA5ksTh7Hn9kDugY3eFR33QPa3BzZ6UvdA\\u002fu2Bjd6H90AFJPzkQr33QA1adjyn8vdAFJDwkwso+EAcxmrrb134QCT85ELUkvhALDJfmjjI+EA0aNnxnP34QDueU0kBM\\u002flAQ9TNoGVo+UBKCkj4yZ35QFJAwk8u0\\u002flAWnY8p5II+kBirLb+9j36QGriMFZbc\\u002fpAcRirrb+o+kB5TiUFJN76QIGEn1yIE\\u002ftAiLoZtOxI+0CQ8JMLUX77QJgmDmO1s\\u002ftAoFyIuhnp+0CnkgISfh78QK\\u002fIfGniU\\u002fxAt\\u002f72wEaJ\\u002fEC+NHEYq778QMZq628P9PxAzqBlx3Mp\\u002fUDW1t8e2F79QN0MWnY8lP1A5ULUzaDJ\\u002fUDteE4lBf\\u002f9QPSuyHxpNP5A\\u002fORC1M1p\\u002fkAEG70rMp\\u002f+QAxRN4OW1P5AE4ex2voJ\\u002f0AbvSsyXz\\u002f\\u002fQCPzpYnDdP9AKikg4Seq\\u002f0AyX5o4jN\\u002f\\u002fQJ1KCkh4CgBBoWXHcyolAEGkgISf3D8AQaibQcuOWgBBrLb+9kB1AEGw0bsi848AQbTseE6lqgBBuAc2elfFAEG8IvOlCeAAQcA9sNG7+gBBxFht\\u002fW0VAUHIcyopIDABQcyO51TSSgFBz6mkgIRlAUHTxGGsNoABQdffHtjomgFB2vrbA5u1AUHeFZkvTdABQeIwVlv\\u002f6gFB5ksTh7EFAkHqZtCyYyACQe6Bjd4VOwJB8pxKCshVAkH2twc2enACQfrSxGEsiwJB\\u002fu2Bjd6lAkECCT+5kMACQQUk\\u002fORC2wJBCT+5EPX1AkENWnY8pxADQRB1M2hZKwNBFJDwkwtGA0EYq62\\u002fvWADQRzGautvewNBIOEnFyKWA0Ek\\u002fORC1LADQSgXom6GywNBLDJfmjjmA0EwTRzG6gAEQTRo2fGcGwRBOIOWHU82BEE7nlNJAVEEQT+5EHWzawRBQ9TNoGWGBEFH74rMF6EEQUoKSPjJuwRBTiUFJHzWBEFSQMJPLvEEQVZbf3vgCwVBWnY8p5ImBUFekfnSREEFQWKstv72WwVBZsdzKql2BUFq4jBWW5EFQW397YENrAVBcRirrb\\u002fGBUF1M2jZceEFQXlOJQUk\\u002fAVBfWniMNYWBkGBhJ9ciDEGQYWfXIg6TAZBiLoZtOxmBkGM1dbfnoEGQZDwkwtRnAZBlAtRNwO3BkGYJg5jtdEGQZxBy45n7AZBoFyIuhkHB0Gjd0XmyyEHQaeSAhJ+PAdBq62\\u002fPTBXB0GvyHxp4nEHQbPjOZWUjAdBt\\u002f72wEanB0G7GbTs+MEHQb40cRir3AdBwk8uRF33B0HGautvDxIIQcqFqJvBLAhBzqBlx3NHCEHSuyLzJWIIQdbW3x7YfAhB2fGcSoqXCEHdDFp2PLIIQeEnF6LuzAhB5ULUzaDnCEHpXZH5UgIJQe14TiUFHQlB8ZMLUbc3CUH0rsh8aVIJQfjJhagbbQlB\\u002fORC1M2HCUEAAAAAgKIJQQ==\"},\"y\":{\"dtype\":\"f8\",\"bdata\":\"rkfhehSOVUDT8mqvOWBVQDWIFgNGMlVAEPIFlSAEVUCjGluEsNVUQCrsN\\u002fDcplRA4lC+94x3VEAKMxC6p0dUQNp8T1YUF1RAlRie67nlU0B08B2Zf7NTQLbu8H1MgFNAGbTGBAhMU0C8gAyOsRZTQCKEyL1x4FJAusR0THWpUkDuSIvy6HFSQC8Xhmj5OVJA6jXfZtMBUkCOqxCmo8lRQIZ+lN6WkVFAQ7XkyNlZUUAzVnsdmSJRQMJn0pQB7FBA8GecIT62UEBuaezpXYFQQChgXwFaTVBATcns3yoaUEAVRBj7kc9PQCPPaaRZbE9AIS69q50KT0BzWwEBT6pOQG5RJZReS05AeAoYVb3tTUDugMgzXJFNQC6vJSAsNk1AwS+XDSHcTEAiKuAjQINMQHnfTqOUK0xAx7QFzinVS0AXDyfmCoBLQG1T1S1DLEtAzeYy593ZSkA\\u002fLmJU5ohKQMaOhbdnOUpAbW2\\u002fUm3rSUA3LzJoAp9JQIRmCTkyVElANz6f7AYLSUDH624KiMNIQPIg97e8fUhAdI+2Gqw5SEAK6StYXfdHQDH2KlnXtkdAcaitvxF4R0BO3c3e6zpHQImMEd9C\\u002f0ZA5q3+6PPERkAoORsl3ItGQE5aWWbYU0ZAWYxdorwcRkDSeXo8U+ZFQJ3dKR5msEVAmnLlML96RUCx8yZeKEVFQGMR3Xd0D0VAgJLStvLZREBGhYe9TaVEQFrweksyckRAYtorIE1BREABShn7ShNEQFaV9B2Z6ENA1lTDepa\\u002fQ0BWk6NYtpVDQCC7Osesa0NATw5AkyhGQ0BADeGHmyVDQNpRhqyIAENA9pl+Yp7eQkDnUutTrMFCQF+8xZTWpEJALU2fAlqGQkA861+KjWhCQHol8URoTUJAQYp4VrQ0QkA+D9Wkvx1CQAKONJCOB0JArVKwG\\u002ffwQUBd0RSy9ddBQO5FSTFNv0FA8TvdN52xQUD65ADNkqhBQPW\\u002fUXfAmkFAXcoMK1CKQUCkhprqQIBBQFVLabyff0FAVpQpMZeCQUCsGsB0+4NBQGNHMZjug0FAKDWZRcSDQUAS7tnV0oNBQJLB3s\\u002fRg0FA6eLkhimEQUCt4UZVW4ZBQLgADBnTi0FAOcLHDT6VQUCRhOKX6aJBQFplhpDeskFAilnY9KXBQUBdYP8f3M5BQIDSC6hL30FAT5Qt4EP1QUAjFYVoCwdCQLyTKeeCEEJAHhCg7iQWQkD66LW8rB9CQLG9hYAVMUJAV88tPo5HQkA4N4GrCGBCQG\\u002f89kKpeUJAXWJdPDyUQkDP6ODWja9CQIkPrlFqy0JA9k1R653nQkBp7BNQ8ANDQDBr4BwbIENATO3hPNU7Q0C+lUOb1VZDQIeHMCPTcENAZaKvOoWJQ0CqfVXO5qBDQIqrl1t7t0NAIOlq2dbNQ0CK88M+jeRDQOOHl4Iy\\u002fENAlklOU1gVRECe2riZLTBEQMvqDtRaTERAHVl+4H5pRECQBDWdOIdEQB7MYOgmpURAbiT2juvCREDt89BXY+BEQBz9Wqih\\u002fURA\\u002fjdJ9bsaRUCXnFCzxzdFQOciJlfaVEVA8sJ+VQlyRUC6dA8jao9FQEQwjTQSrUVAkO2s\\u002fhbLRUCfpCP2jelFQHZNpo+MCEZABsljHCQoRkAnfJ+MSUhGQFe+UunlaEZAwgMKMeKJRkCVwFFiJ6tGQP5otnuezEZAKXHEezDuRkBETQhhxg9HQHtxDipJMUdA\\u002fVFj1aFSR0D4YpNhuXNHQLzwJ894lEdAWE7lvs+0R0CrXd+EwNRHQMKztrtQ9EdAo+UL\\u002foUTSEBaiH\\u002fmZTJIQPEwsg\\u002f2UEhAcHREFDxvSEDh59aOPY1IQE4gChoAq0hAwLJ+UInISEA+NNXM3uVIQG9uvhoGA0lAOSqrpwIgSUACthg21TxJQHlJ+Fx+WUlATRw7s\\u002f51SUAqZtLPVpJJQL1er0mHrklAtD3Dt5DKSUC8Ov+wc+ZJQH2NVMwwAkpAq220oMgdSkDrEhDFOzlKQKeGjfWKVEpA+OKgZrhvSkCvhT4nx4pKQCfOC0m6pUpAvxuu3ZTASkDRzcr2WdtKQLpDB6YM9kpA1twI\\u002fa8QS0CB+HQNRytLQBn28OjURUtA+DQioVxgS0B7FK5H4XpLQA==\"},\"type\":\"scatter\",\"xaxis\":\"x\",\"yaxis\":\"y\"},{\"hovertemplate\":\"Expiry: 2025-12-26 09:00:00\\u003cbr\\u003eStrike: %{x:.0f}\\u003cbr\\u003eIV: %{y:.1f}%\\u003cextra\\u003e\\u003c\\u002fextra\\u003e\",\"marker\":{\"color\":\"#FECB52\",\"size\":6},\"mode\":\"markers\",\"name\":\"Market IV - 2025-12-26\",\"showlegend\":true,\"x\":{\"dtype\":\"f8\",\"bdata\":\"AAAAAACI00AAAAAAAEzdQAAAAAAAiONAAAAAAABq6EAAAAAAAEztQAAAAAAAve9AAAAAAAAX8UAAAAAAgE\\u002fyQAAAAAAAiPNAAAAAAIDA9EAAAAAAAPn1QAAAAACAMfdAAAAAAABq+EAAAAAAgKL5QAAAAAAA2\\u002fpAAAAAAIAT\\u002fEAAAAAAAEz9QAAAAACAhP5AAAAAAAC9\\u002f0AAAAAAwHoAQQAAAAAAFwFBAAAAAECzAUEAAAAAgE8CQQAAAAAAiANBAAAAAIDABEEAAAAAAPkFQQAAAACAMQdBAAAAAABqCEEAAAAAgKIJQQAAAAAA2wpBAAAAAIATDEEAAAAAAEwNQQAAAAAAvQ9BAAAAAAAXEUEAAAAAgE8SQQAAAAAAiBNBAAAAAIDAFEEAAAAAAGoYQQ==\"},\"y\":{\"dtype\":\"f8\",\"bdata\":\"AAAAAAAQWUBSuB6F6wFVQOF6FK5H8VJAFK5H4XrEUEAVrkfhetRNQF2PwvUoHExAPQrXo3C9SkBwPQrXo5BJQOxRuB6FS0hAPQrXo3A9R0DsUbgehUtGQOxRuB6Fi0VAzczMzMwMRUCF61G4HqVEQFyPwvUoXERA4XoUrkchREA9CtejcP1DQBSuR+F69ENA4XoUrkcBREAUrkfhehREQPYoXI\\u002fCNURAmpmZmZlZRECamZmZmZlEQIXrUbgeJUVAPQrXo3C9RUAzMzMzM5NGQArXo3A9SkdAFK5H4Xr0R0CamZmZmZlIQAvXo3A9SklAFa5H4Xr0SUCPwvUoXI9KQK5H4XoU7ktAKVyPwvUITUD2KFyPwhVOQLgehetR+E5AZmZmZmbGT0CuR+F6FC5RQA==\"},\"type\":\"scatter\",\"xaxis\":\"x\",\"yaxis\":\"y\"},{\"hovertemplate\":\"Expiry: 2025-12-26 09:00:00\\u003cbr\\u003eStrike: %{x:.0f}\\u003cbr\\u003eIV: %{y:.1f}%\\u003cextra\\u003e\\u003c\\u002fextra\\u003e\",\"line\":{\"color\":\"#FECB52\",\"width\":2},\"mode\":\"lines\",\"name\":\"IV Curve - 2025-12-26\",\"showlegend\":false,\"x\":{\"dtype\":\"f8\",\"bdata\":\"AAAAAACI00DNlyYOY2XVQJkvTRzGQtdAZsdzKikg2UAyX5o4jP3aQP\\u002f2wEbv2txAzI7nVFK43kBME4ex2krgQDJfmjiMOeFAGKutvz0o4kD\\u002f9sBG7xbjQOVC1M2gBeRAzI7nVFL05ECy2vrbA+PlQJgmDmO10eZAfnIh6mbA50BkvjRxGK\\u002foQEsKSPjJnelAMVZbf3uM6kAXom4GLXvrQP7tgY3eaexA5DmVFJBY7UDKhaibQUfuQLDRuyLzNe9AzI7nVFIS8EC+NHEYq4nwQLLa+tsDAfFApYCEn1x48UCYJg5jte\\u002fxQIvMlyYOZ\\u002fJAfnIh6mbe8kByGKutv1XzQGS+NHEYzfNAWGS+NHFE9EBLCkj4ybv0QD6w0bsiM\\u002fVAMVZbf3uq9UAk\\u002fORC1CH2QBeibgYtmfZACkj4yYUQ90D+7YGN3of3QPGTC1E3\\u002f\\u002fdA5DmVFJB2+EDX3x7Y6O34QMqFqJtBZflAvSsyX5rc+UCw0bsi81P6QKR3ReZLy\\u002fpAlx3PqaRC+0CKw1ht\\u002fbn7QH1p4jBWMfxAcA9s9K6o\\u002fEBjtfW3ByD9QFZbf3tgl\\u002f1ASgEJP7kO\\u002fkA9p5ICEob+QDBNHMZq\\u002ff5AI\\u002fOlicN0\\u002f0AWmS9NHOz\\u002fQISfXIi6MQBBfnIh6mZtAEF4ReZLE6kAQXIYq62\\u002f5ABBa+tvD2wgAUFkvjRxGFwBQV6R+dLElwFBWGS+NHHTAUFRN4OWHQ8CQUsKSPjJSgJBRN0MWnaGAkE+sNG7IsICQTeDlh3P\\u002fQJBMVZbf3s5A0ErKSDhJ3UDQST85ELUsANBHs+ppIDsA0EXom4GLSgEQRF1M2jZYwRBCkj4yYWfBEEEG70rMtsEQf7tgY3eFgVB98BG74pSBUHxkwtRN44FQepm0LLjyQVB5DmVFJAFBkHdDFp2PEEGQdffHtjofAZB0bLjOZW4BkHKhaibQfQGQcRYbf3tLwdBvSsyX5prB0G3\\u002fvbARqcHQbDRuyLz4gdBqqSAhJ8eCEGkd0XmS1oIQZ1KCkj4lQhBlx3PqaTRCEGQ8JMLUQ0JQYrDWG39SAlBg5Ydz6mECUF9aeIwVsAJQXc8p5IC\\u002fAlBcA9s9K43CkFq4jBWW3MKQWO19bcHrwpBXYi6GbTqCkFWW397YCYLQVAuRN0MYgtBSgEJP7mdC0FD1M2gZdkLQT2nkgISFQxBNnpXZL5QDEEwTRzGaowMQSkg4ScXyAxBI\\u002fOlicMDDUEdxmrrbz8NQRaZL00cew1BEGz0rsi2DUEJP7kQdfINQQMSfnIhLg5B\\u002fORC1M1pDkH2twc2eqUOQfCKzJcm4Q5B6V2R+dIcD0HjMFZbf1gPQdwDG70rlA9B1tbfHtjPD0HoVFJAwgUQQWS+NHGYIxBB4icXom5BEEFekfnSRF8QQdv62wMbfRBBWGS+NPGaEEHUzaBlx7gQQVE3g5ad1hBBzqBlx3P0EEFLCkj4SRIRQchzKikgMBFBRN0MWvZNEUHBRu+KzGsRQT6w0buiiRFBuxm07HinEUE3g5YdT8URQbTseE4l4xFBMVZbf\\u002fsAEkGuvz2w0R4SQSspIOGnPBJBp5ICEn5aEkEk\\u002fORCVHgSQaFlx3MqlhJBHs+ppAC0EkGbOIzV1tESQReibgat7xJBlAtRN4MNE0ERdTNoWSsTQY7eFZkvSRNBCkj4yQVnE0GHsdr624QTQQQbvSuyohNBgYSfXIjAE0H+7YGNXt4TQXpXZL40\\u002fBNB98BG7woaFEF0Kikg4TcUQfGTC1G3VRRBbv3tgY1zFEHqZtCyY5EUQWfQsuM5rxRB5DmVFBDNFEFho3dF5uoUQd0MWna8CBVBWnY8p5ImFUHX3x7YaEQVQVRJAQk\\u002fYhVB0bLjORWAFUFNHMZq650VQcqFqJvBuxVBR++KzJfZFUHEWG39bfcVQUHCTy5EFRZBvSsyXxozFkE6lRSQ8FAWQbf+9sDGbhZBNGjZ8ZyMFkGw0bsic6oWQS07nlNJyBZBqqSAhB\\u002fmFkEnDmO19QMXQaR3RebLIRdBIOEnF6I\\u002fF0GdSgpIeF0XQRq07HhOexdBlx3PqSSZF0EUh7Ha+rYXQZDwkwvR1BdBDVp2PKfyF0GKw1htfRAYQQctO55TLhhBg5YdzylMGEEAAAAAAGoYQQ==\"},\"y\":{\"dtype\":\"f8\",\"bdata\":\"AAAAAAAQWUD+u8hUADBYQMTyPcHaVVdAGR8MXWmHVkDFu98\\u002fhspVQI5DZYELJVVAsjkc+8ybVECpLnqKFStUQO+6JgzzylNAPXschmtzU0BNDFb+hBxTQB1Z3HSNvlJAfsOSco5XUkBfBMOm6+pRQG8VTzk9fFFAX\\u002fAYUhsPUUDYqFSKGKdQQEPoQ33yRVBArJ0XuGnUT0DDMBtSMiRPQG4BVc2xd05AX88iQVvLTUB5lwDv5h1NQPIn4yDPdUxA\\u002flKvww3bS0C6Rk5+k1BLQBr\\u002f6PhV00pA6hWeo4pfSkDOeZnbke5JQEGj+PaaeElA25HNp9P6SEBZTEydpX1IQC\\u002ff3MSDCkhAAUSEl8miR0AdSepGPUFHQPypK3Co4UZASjPZSkGFRkDFlL0Pwy5GQC5pg5aI4EVAh8\\u002fBv1qcRUB5h1mKkGNFQCXgQl65M0VAeYJmoE0IRUCee+fQTN5EQI9PI2E\\u002ft0RABPTk+2mVREDJvoRL3nhEQGqjkFBnX0RAoyFI4BpHREDT8so5bTBEQLFi6m2xHERAELDg0c4MREC9OkPP2gBEQOrdVMTS+ENARIYrC7X0Q0DjEC2wgPRDQFyYEx3q90NA9lLfr4b9Q0D2XMZzrwNEQKoR1NQYCkRANMB3zEASREDpnqZYeB1EQHp3GmSwKkRAxAr8oLc3REAMbzT7xkNEQPj3c1yqUURA2Xy9DZNkREDWgUDXrnxEQFa0g4Zzl0RAmIlCRZWyRED\\u002f2JIsg81EQBMGrXU46ERABazcZ7ACRUAEZm1K5hxFQC1SPB\\u002fhNkVAOhTW7CdRRUDYKiiHkGxFQBdTU+nxiUVAC0p4DiOqRUAxtLS88s1FQFJMBqE69UVAJiUQNbseRkAmeA16JUlGQMt+OXEqc0ZAnNGm2HubRkClqIq3VMFGQOdCjX8Z5UZATFjEiFUHR0C\\u002foEUrlChHQCvUJr9gSUdAYO8YcixqR0CG80gu94pHQJPeBjqiq0dA8NOA2w7MR0AK9+RYHuxHQL0rPma4C0hAy85MM\\u002f8qSEDuQpsnNEpIQKalrfWYaUhAdBQIUG+JSEBjVkZq9qlIQDFuJBE0y0hAP5p+qvTsSECEwkgdAg9JQPLOdlAmMUlAuZYzNStTSUBhCnX93nRJQEMl7NIXlklAee2Ev6y2SUAvaSvNdNZJQK4U7AVH9UlAOlQj1RcTSkBq8FpBSDBKQG3KDmhSTUpAd8O6ZrBqSkC6vNpa3IhKQHTXkOVAqEpA9mQKQtLISkB6T4cETupKQM59GnZxDEtAu9bW3\\u002fkuS0ATQc+KpFFLQKSjFsAudEtAOOW\\u002fyFWWS0Ch7N3t1rdLQKegg3hv2EtAzaNuQd33S0DPTER7BBZMQC5qWqYHM0xA2i5O+A5PTEDAzbymQmpMQNB5Q+fKhExA+GV\\u002f78+eTEAnxQ31ebhMQEnKiy3x0UxAUaiWzl3rTEAqkssN6ARNQFdTS+mxHk1AHFE7KrU4TUCSkXma21JNQOd4ZvkObU1ATGtiBjmHTUDnzM2AQ6FNQOgBCSgYu01AgG50u6DUTUDVdnD6xu1NQBV\\u002fXaR0Bk5AJM7iv5MeTkC3t+p6GzZOQCy1upUVTU5AJkCuN41jTkA+0iCIjXlOQBblba4hj05ASfLw0VSkTkB3cwUaMrlOQDviBq7EzU5AM7hQtRfiTkAAbz5XNvZOQFy66TMrCk9AyuP9A\\u002f4dT0BEMBKCtTFPQO2ChWhYRU9A4r62ce1YT0BExwRYe2xPQDF\\u002fztUIgE9AyMlypZyTT0AnilCBPadPQHKjxiPyuk9APo2xLsHOT0AUpL33reJPQK3P9ca39k9AnvZW0m4FUED07JxMjw9QQHG5dta8GVBAq0oO9PYjUEA2j40pPS5QQKx1HvuOOFBAoOzq7OtCUECr4hyDU01QQGBG3kHFV1BAWAZZrUBiUEApEbdJxWxQQGhVIptSd1BArcHEJeiBUECLRMhthYxQQJ7MVvcpl1BAd0iaRtWhUECuprzfhqxQQNrV50Y+t1BAkMRFAPvBUEBpYQCQvMxQQPiaQXqC11BA1V8zQ0ziUECWnv9uGe1QQNFF0IHp91BAHETP\\u002f7sCUUAPiCZtkA1RQD8AAE5mGFFAQZuFJj0jUUCuR+F6FC5RQA==\"},\"type\":\"scatter\",\"xaxis\":\"x\",\"yaxis\":\"y\"},{\"fill\":\"tozeroy\",\"fillcolor\":\"rgba(99, 110, 250, 0.1)\",\"hovertemplate\":\"Expiry: 2025-08-22 10:00:00\\u003cbr\\u003eStrike: %{x:.0f}\\u003cbr\\u003eDensity: %{y:.6f}\\u003cextra\\u003e\\u003c\\u002fextra\\u003e\",\"line\":{\"color\":\"#636EFA\",\"width\":2},\"mode\":\"lines\",\"name\":\"RN Density - 2025-08-22\",\"x\":{\"dtype\":\"f8\",\"bdata\":\"AAAAAAD59UCLzJcmjhD2QBaZL00cKPZAoWXHc6o\\u002f9kAsMl+aOFf2QLf+9sDGbvZAQsuO51SG9kDNlyYO4532QFdkvjRxtfZA4jBWW\\u002f\\u002fM9kBt\\u002fe2BjeT2QPjJhagb\\u002fPZAg5Ydz6kT90AOY7X1Nyv3QJkvTRzGQvdAJPzkQlRa90CvyHxp4nH3QDqVFJBwifdAxWGstv6g90BQLkTdjLj3QNv62wMb0PdAZsdzKqnn90DwkwtRN\\u002f\\u002f3QHxgo3fFFvhABi07nlMu+ECR+dLE4UX4QBzGautvXfhAp5ICEv50+EAyX5o4jIz4QL0rMl8apPhASPjJhai7+EDTxGGsNtP4QF6R+dLE6vhA6V2R+VIC+UB0Kikg4Rn5QP\\u002f2wEZvMflAisNYbf1I+UAUkPCTi2D5QKBciLoZePlAKikg4aeP+UC19bcHNqf5QEDCTy7EvvlAy47nVFLW+UBWW3974O35QOEnF6JuBfpAbPSuyPwc+kD3wEbvijT6QIKN3hUZTPpADVp2PKdj+kCYJg5jNXv6QCPzpYnDkvpArr89sFGq+kA4jNXW38H6QMRYbf1t2fpATiUFJPzw+kDZ8ZxKigj7QGS+NHEYIPtA74rMl6Y3+0B6V2S+NE\\u002f7QAUk\\u002fOTCZvtAkPCTC1F++0AbvSsy35X7QKaJw1htrftAMVZbf\\u002fvE+0C8IvOlidz7QEfviswX9PtA0rsi86UL\\u002fEBciLoZNCP8QOhUUkDCOvxAciHqZlBS\\u002fED97YGN3mn8QIi6GbRsgfxAE4ex2vqY\\u002fECeU0kBibD8QCkg4ScXyPxAtOx4TqXf\\u002fEA\\u002fuRB1M\\u002ff8QMqFqJvBDv1AVVJAwk8m\\u002fUDgHtjo3T39QGvrbw9sVf1A9rcHNvps\\u002fUCAhJ9ciIT9QAxRN4MWnP1Alh3PqaSz\\u002fUAh6mbQMsv9QKy2\\u002fvbA4v1AN4OWHU\\u002f6\\u002fUDCTy5E3RH+QE0cxmprKf5A2OhdkflA\\u002fkBjtfW3h1j+QO6Bjd4VcP5AeU4lBaSH\\u002fkAEG70rMp\\u002f+QI7nVFLAtv5AGrTseE7O\\u002fkCkgISf3OX+QDBNHMZq\\u002ff5Auhm07PgU\\u002f0BG5ksThyz\\u002fQNCy4zkVRP9AW397YKNb\\u002f0DmSxOHMXP\\u002fQHEYq62\\u002fiv9A\\u002fORC1E2i\\u002f0CHsdr627n\\u002fQBJ+ciFq0f9AnUoKSPjo\\u002f0CUC1E3QwAAQdnxnEoKDABBH9joXdEXAEFkvjRxmCMAQaqkgIRfLwBB74rMlyY7AEE1cRir7UYAQXpXZL60UgBBwD2w0XteAEEFJPzkQmoAQUoKSPgJdgBBkPCTC9GBAEHW1t8emI0AQRu9KzJfmQBBYKN3RSalAEGmicNY7bAAQetvD2y0vABBMVZbf3vIAEF2PKeSQtQAQbwi86UJ4ABBAQk\\u002fudDrAEFH74rMl\\u002fcAQYzV1t9eAwFB0rsi8yUPAUEXom4G7RoBQVyIuhm0JgFBom4GLXsyAUHoVFJAQj4BQS07nlMJSgFBciHqZtBVAUG4BzZ6l2EBQf3tgY1ebQFBQ9TNoCV5AUGIuhm07IQBQc6gZcezkAFBE4ex2nqcAUFZbf3tQagBQZ5TSQEJtAFB5DmVFNC\\u002fAUEpIOEnl8sBQW4GLTte1wFBtOx4TiXjAUH60sRh7O4BQT+5EHWz+gFBhJ9ciHoGAkHKhaibQRICQQ9s9K4IHgJBVVJAws8pAkGaOIzVljUCQeAe2OhdQQJBJQUk\\u002fCRNAkFr628P7FgCQbDRuyKzZAJB9rcHNnpwAkE7nlNJQXwCQYCEn1wIiAJBxmrrb8+TAkEMUTeDlp8CQVE3g5ZdqwJBlh3PqSS3AkHcAxu968ICQSHqZtCyzgJBZ9Cy43naAkGstv72QOYCQfKcSgoI8gJBN4OWHc\\u002f9AkF8aeIwlgkDQcJPLkRdFQNBCDZ6VyQhA0FNHMZq6ywDQZICEn6yOANB2OhdkXlEA0Eez6mkQFADQWO19bcHXANBqJtBy85nA0HugY3elXMDQTRo2fFcfwNBeU4lBSSLA0G+NHEY65YDQQQbvSuyogNBSQEJP3muA0GO51RSQLoDQdTNoGUHxgNBGrTseM7RA0FfmjiMld0DQaSAhJ9c6QNB6mbQsiP1A0EwTRzG6gAEQXUzaNmxDARBuhm07HgYBEEAAAAAQCQEQQ==\"},\"y\":{\"dtype\":\"f8\",\"bdata\":\"AAAAAAAAAACdcekwmqOSPpWm2YqLcrw+mQYrQmvFxz4MbasxfxTRPqrpKNPLRNY+aMLMKd2Q2z5r0YbOtXjgPgZDnJFpM+M+5gLqt6375T5p3Nxn4cToPir11RZjvus+i+0bcSc37j7bDbT9aGHxPkYpTeZpZ+k+gMBXGjpO1j4AAAAAAAAAAAAAAAAAAAAAAAAAAAAAAAAAAAAAAAAAAAAAAAAAAAAAAAAAAAAAAAAAAAAAAAAAAAAAAAAAAAAAAAAAAAAAAAAAAAAAAAAAAAAAAAAAAAAAAAAAAAAAAAAAAAAAAAAAAAAAAAAAAAAA3\\u002fMZMDVb1z5XxwroTj8AP0kGJi12hAo\\u002fnG8dcgAyAT9pusPd5GbzPv6M9WafKsk+AAAAAAAAAAAAAAAAAAAAAAAAAAAAAAAAAAAAAAAAAAAAAAAAAAAAAAAAAAAAAAAAVnpKnAwHFT93wig8PXkaP1RqTCYQyRE\\u002fU8w\\u002fl3I8CD8uRsFpCUX2PgAAAAAAAAAAAAAAAAAAAAAAAAAAAAAAAAAAAAAAAAAAAAAAAAAAAAAKpYKPOCLaPjMv+guXjAk\\u002fKd8xVCefBj\\u002f+WT2bfKUBP6IEUybTcvs+mGa9rG+t9j78gAXvE4XxPjv\\u002fLEn0uec+iS8Oitgf2D4AAAAAAAAAAMq46N3QxxA\\u002fsCEH9AmwIj8kn76DAXwmP3K92cOQTRk\\u002f3VvZWvLS9j5zNK2P3PYGP7ZucGBtZR4\\u002fuwMnOZWZJj9AVCvIfikUPwAAAAAAAAAAAAAAAAAAAACWFufO4DkRP9Xw7GgpJCo\\u002fNVZ83KjVID8AAAAAAAAAAAAAAAAAAAAAAAAAAAAAAAAAAAAAAAAAADswCre\\u002fAfU+AAAAAAAAAAAAAAAAAAAAAAAAAAAAAAAAAAAAAAAAAAAh1OuccOb\\u002fPk5VaTMFXhE\\u002fa0YTU7ucHz\\u002fwvXtnTAYYPwAAAAAAAAAAAAAAAAAAAAAAAAAAAAAAAAAAAAAAAAAAAAAAAAAAAAAAAAAAAAAAAAnYbildX+A+2+DmrqsC+z43MTWMoJrgPgAAAAAAAAAAAAAAAAAAAAB9FufOajWrPiQaBUVXgMs+ceetaqKmwj7+\\u002fzlbWd63PvB\\u002frw70frA+tIgN+dmqsD4kIfVRRzKtPq1zYY89bbQ+HJBp7gIjuz7hAzSGjbLAPgcdN512I8Q+Bk8SyXlixj7MCz6SZnHOPvlioIWhc9U+NX4UDmQe2z4u2OR09m\\u002fgPm0zEElxQOM+OLbEczsd5j5ABdqtV7LoPnWVB1seN+w+qN99QESh6j68skIAUcvlPjKQ23rCwOE+9tfozqkU2z4RpycRdtLSPm\\u002f8+jOHLMU+d+FV6fxDoz4AAAAAAAAAAAAAAAAAAAAAAAAAAAAAAAAAAAAAAAAAAAAAAAAAAAAAAAAAAAAAAAAAAAAAAAAAAAAAAAAAAAAAAAAAAAAAAAAAAAAAAAAAAAAAAAAAAAAAAAAAAAAAAAAAAAAAAAAAAAAAAAAAAAAAAAAAAAAAAAAAAAAAAAAAAOy\\u002f5yToCKA+\\u002fEkt\\u002fqEtuz6b7TqLzTjHPp\\u002fdhk+A\\u002f88+PjUePNoIzT6c8x7TWavKPjhfEop\\u002fLsg+6rgXfwjExT7scFKOoV7DPttl35zfAcE+F5DwuI9ZvT60xnSbhb+4PtVOEyyVNLQ+LiDNBxx5rz4ie7sd65OmPl43nxmTP5w+9MeA\\u002f\\u002fyIgj7PHiOtnY6EPgeNj8E7WY8+gSKgfsfekz4\\u002f5ZVAY0+YPp2rGgTgmpw+qzbiVLNtoD62ZNa2yISiPvQJGXRQk6Q+0n7Q+3uZpj5eyT1dAZWoPvqW+9IMjqo+l\\u002fZXXoplrD4cNXmK\\u002fo6uPtm8oE\\u002fZ8K4+4lOx44LRrT5QuTwjxgmtPjiW7qkpLqw+ZaJNbYJbqz5iTU6aHYqqPgDjseENvKk+p4VV9M7wqD78y0XndSioPjr6SVZGY6c+aZ8cuzCgpj7AcfCQQ+OlPuJ0P0FiHaU+fUMcaT2KpD5A2pAqqYWkPo+th\\u002fEwbKQ+NZivsC5YpD7F1Ik8oEKkPjRdLQwlLaQ+xC7z+jsYpD4gepawRACkPnMJgZw486M+i9jkcM+8oz6J+DFqLiCkPhBekbYCRaI+GkUl7WzJqD4AAAAAAAAAAA==\"},\"type\":\"scatter\",\"xaxis\":\"x2\",\"yaxis\":\"y2\"},{\"fill\":\"tonexty\",\"fillcolor\":\"rgba(239, 85, 59, 0.1)\",\"hovertemplate\":\"Expiry: 2025-08-23 10:00:00\\u003cbr\\u003eStrike: %{x:.0f}\\u003cbr\\u003eDensity: %{y:.6f}\\u003cextra\\u003e\\u003c\\u002fextra\\u003e\",\"line\":{\"color\":\"#EF553B\",\"width\":2},\"mode\":\"lines\",\"name\":\"RN Density - 2025-08-23\",\"x\":{\"dtype\":\"f8\",\"bdata\":\"AAAAAADh+UANWnY8p+b5QBq07HhO7PlAJw5jtfXx+UAzaNnxnPf5QEDCTy5E\\u002fflATRzGausC+kBadjynkgj6QGfQsuM5DvpAdCopIOET+kCBhJ9ciBn6QI7eFZkvH\\u002fpAmjiM1dYk+kCnkgISfir6QLTseE4lMPpAwUbvisw1+kDOoGXHczv6QNv62wMbQfpA6FRSQMJG+kD0rsh8aUz6QAEJP7kQUvpADmO19bdX+kAbvSsyX136QCgXom4GY\\u002fpANXEYq61o+kBCy47nVG76QE4lBST8c\\u002fpAW397YKN5+kBo2fGcSn\\u002f6QHUzaNnxhPpAgo3eFZmK+kCP51RSQJD6QJxBy47nlfpAqZtBy46b+kC19bcHNqH6QMJPLkTdpvpAz6mkgISs+kDcAxu9K7L6QOldkfnSt\\u002fpA9rcHNnq9+kADEn5yIcP6QA9s9K7IyPpAHMZq62\\u002fO+kApIOEnF9T6QDZ6V2S+2fpAQ9TNoGXf+kBQLkTdDOX6QF2Iuhm06vpAauIwVlvw+kB2PKeSAvb6QIOWHc+p+\\u002fpAkPCTC1EB+0CdSgpI+Ab7QKqkgISfDPtAt\\u002f72wEYS+0DEWG397Rf7QNCy4zmVHftA3Qxadjwj+0DqZtCy4yj7QPfARu+KLvtABBu9KzI0+0ARdTNo2Tn7QB7PqaSAP\\u002ftAKikg4SdF+0A3g5Ydz0r7QETdDFp2UPtAUTeDlh1W+0BekfnSxFv7QGvrbw9sYftAeEXmSxNn+0CEn1yIumz7QJH50sRhcvtAnlNJAQl4+0Crrb89sH37QLgHNnpXg\\u002ftAxWGstv6I+0DSuyLzpY77QN8VmS9NlPtA628PbPSZ+0D4yYWom5\\u002f7QAUk\\u002fORCpftAEn5yIeqq+0Af2OhdkbD7QCwyX5o4tvtAOYzV1t+7+0BF5ksTh8H7QFJAwk8ux\\u002ftAX5o4jNXM+0Bs9K7IfNL7QHlOJQUk2PtAhqibQcvd+0CTAhJ+cuP7QKBciLoZ6ftArLb+9sDu+0C5EHUzaPT7QMZq628P+vtA08RhrLb\\u002f+0DgHtjoXQX8QO14TiUFC\\u002fxA+tLEYawQ\\u002fEAGLTueUxb8QBOHsdr6G\\u002fxAIOEnF6Ih\\u002fEAtO55TSSf8QDqVFJDwLPxAR++KzJcy\\u002fEBUSQEJPzj8QGCjd0XmPfxAbf3tgY1D\\u002fEB6V2S+NEn8QIex2vrbTvxAlAtRN4NU\\u002fEChZcdzKlr8QK6\\u002fPbDRX\\u002fxAuhm07Hhl\\u002fEDHcyopIGv8QNTNoGXHcPxA4ScXom52\\u002fEDugY3eFXz8QPvbAxu9gfxACDZ6V2SH\\u002fEAVkPCTC438QCLqZtCykvxALkTdDFqY\\u002fEA7nlNJAZ78QEj4yYWoo\\u002fxAVVJAwk+p\\u002fEBirLb+9q78QG8GLTuetPxAfGCjd0W6\\u002fECIuhm07L\\u002f8QJUUkPCTxfxAom4GLTvL\\u002fECvyHxp4tD8QLwi86WJ1vxAyXxp4jDc\\u002fEDW1t8e2OH8QOIwVlt\\u002f5\\u002fxA74rMlybt\\u002fED85ELUzfL8QAk\\u002fuRB1+PxAFpkvTRz+\\u002fEAj86WJwwP9QDBNHMZqCf1APKeSAhIP\\u002fUBJAQk\\u002fuRT9QFZbf3tgGv1AY7X1twcg\\u002fUBwD2z0riX9QH1p4jBWK\\u002f1AisNYbf0w\\u002fUCWHc+ppDb9QKN3ReZLPP1AsNG7IvNB\\u002fUC9KzJfmkf9QMqFqJtBTf1A198e2OhS\\u002fUDkOZUUkFj9QPCTC1E3Xv1A\\u002fe2Bjd5j\\u002fUAKSPjJhWn9QBeibgYtb\\u002f1AJPzkQtR0\\u002fUAxVlt\\u002fe3r9QD6w0bsigP1ASwpI+MmF\\u002fUBYZL40cYv9QGS+NHEYkf1AcRirrb+W\\u002fUB+ciHqZpz9QIvMlyYOov1AmCYOY7Wn\\u002fUClgISfXK39QLLa+tsDs\\u002f1AvjRxGKu4\\u002fUDLjudUUr79QNjoXZH5w\\u002f1A5ULUzaDJ\\u002fUDynEoKSM\\u002f9QP\\u002f2wEbv1P1ADFE3g5ba\\u002fUAYq62\\u002fPeD9QCUFJPzk5f1AMl+aOIzr\\u002fUA\\u002fuRB1M\\u002fH9QEwTh7Ha9v1AWW397YH8\\u002fUBmx3MqKQL+QHIh6mbQB\\u002f5Af3tgo3cN\\u002fkCM1dbfHhP+QJkvTRzGGP5AponDWG0e\\u002fkCz4zmVFCT+QMA9sNG7Kf5AzJcmDmMv\\u002fkDa8ZxKCjX+QOZLE4exOv5A86WJw1hA\\u002fkAAAAAAAEb+QA==\"},\"y\":{\"dtype\":\"f8\",\"bdata\":\"AAAAAAAAAAAAAAAAAAAAAAAAAAAAAAAAAAAAAAAAAAAAAAAAAAAAAAAAAAAAAAAAAAAAAAAAAAAAAAAAAAAAAAAAAAAAAAAAAAAAAAAAAAAAAAAAAAAAAAAAAAAAAAAAAAAAAAAAAAAAAAAAAAAAAAAAAAAAAAAAAAAAAAAAAAAAAAAAAAAAAAAAAAAAAAAAAAAAAAAAAAAAAAAAAAAAAAAAAAAAAAAAAAAAAAAAAAAAAAAAAAAAAAAAAAAAAAAAAAAAAAAAAAAAAAAAAAAAAAAAAAAAAAAA+yIVHZJ+gj4gPlxFS2zkPoyGG4DUUvQ+t6d3xhNx\\u002fj4+wMsmAlwEP+wps26QSgk\\u002f9+os+1ITDz+UNxPCkrQMP9FGVMy33Ag\\u002fgGXEcjVhBT94aj4RuMgBPwrSQldyZ\\u002fw+H9IhDWYz9T5I2k\\u002fNV\\u002fHrPqpvpoId7No+AAAAAAAAAAAAAAAAAAAAAAAAAAAAAAAAAAAAAAAAAAAAAAAAAAAAAAAAAAAAAAAAAAAAAAAAAAAAAAAAAAAAAAAAAAAAAAAAAAAAAAAAAAAAAAAAAAAAAAAAAAAAAAAAAAAAAAAAAAAAAAAAAAAAAAAAAAAAAAAAISBkloda4j499Dc+4sn6Pl11zX+daQY\\u002fiJXqP0xpDz+f\\u002f3eANjkUP8o6P62wwhg\\u002f9fl42GNIHT8uR4crCPYgP7+ujS06FyM\\u002fMGfWBB70JT\\u002fS+eVK2nQkP5xsc9Zm4SA\\u002fpuDNy7OTGz\\u002fOeAlt0BsVP+\\u002fa8uZYYg0\\u002fpg0iWrV7AD\\u002fosiDKuVDcPgAAAAAAAAAAAAAAAAAAAAAAAAAAAAAAAAAAAAAAAAAAAAAAAAAAAAAAAAAAAAAAAAAAAAAAAAAAb95bOenC2j5NIfsDiR4DP7GSfR6FfBE\\u002frrJKRWhtGT\\u002fNgefn2asgPwwQtHT5syQ\\u002fdX9isI55KD+1N0lWLTotP3V5OCEzBS0\\u002fNfqueiToKD8jWmIJ16UlP9hPGMjZJiI\\u002fL2q6KKpsHT+GMBanfYEWP07UCPyHKQ8\\u002fjRSUrWZbAT+vgw6CtZPaPgAAAAAAAAAAAAAAAAAAAAAAAAAAAAAAAAAAAAAAAAAAAAAAAAAAAABst+X8gaHqPtNLvDgAawE\\u002fuKz2XxI7DD92hg6sNIQTP3oB\\u002fOrK5Bg\\u002f8bmhl7NYHj+V0Z56z74hP1C8hkfj4CQ\\u002fe+Hxo0R0JT83eVBq7cciP\\u002f94OG7JvyA\\u002frTtPK4AXHT\\u002faaN\\u002facccYPxKlQ+AachQ\\u002f\\u002fCYQErQdED+j8k7YvZ4HP2Y2rDH6s\\u002f0+gHXDELjT6j4AAAAAAAAAAAAAAAAAAAAAJvfEu5AU9z5gj1MgG0oIP1zkRBkO6RI\\u002fpbsg6u+PGT9gm5zWxB0gPxrq3RX1ciM\\u002fz1fqos\\u002fCJj9P7BYxvCMqPxXHNjieQS0\\u002f6jdYkKyrMD\\u002fUCFJhMq8wP3Ogo9SK2Cg\\u002fzxL0AKvBIT+dCXDb0JMUP5BlwaslbPc+AAAAAAAAAAAAAAAAAAAAAAAAAAAAAAAAAAAAAAAAAAAAAAAAAAAAAAAAAAAAAAAAAAAAAAAAAAAAAAAAAAAAAAAAAAAAAAAAAAAAAAAAAAAAAAAAAAAAAAAAAAAAAAAAAAAAAAAAAAAAAAAAAAAAAAAAAAAAAAAAvvmOkg3Goj7JLktS6yYFP571NrM+zxI\\u002f1TzVtr+vEj+1Jfwu0p4TP9673OtiRBQ\\u002f6EyT0zv9FD+i2d5NjLAVP49Gy\\u002fEHZRY\\u002fzBjTnfEYFz83XZg20MwXPz+XhUCQgBg\\u002fK2HCgEg0GT+cpXVCBegZPzwqJ1TWmxo\\u002ff2CpVstPGz\\u002f8X6TW8wMcP73VNfphuBw\\u002fOKB2Kh9tHT86H+8IViIeP0jfEji11x4\\u002f5lB9c7mOHz+fOJjiECEgP0Y+SbbpgiA\\u002fFtPSqM\\u002fGID8+8n6EeOwfPyvhh8KddB4\\u002feBOrFYHyHD967z4MA3QbP7JmcUNK9Rk\\u002fijP8pD53GD+kZW9zg\\u002fkWP6Mf1bsUfBU\\u002fge45pdj+Ez9Ikp5AvYESP+iiq52wBBE\\u002fMt96mEUPDz\\u002ftWYc8DBUMP4sw4dGXGgk\\u002fANjYduIfBj\\u002fKSiQaniQDPzhaFjiZKQA\\u002fD682KRVX+j6rWbKz+Wz0PlnlVbFNdew+phtgHish4j4HSF594SGAPQ==\"},\"type\":\"scatter\",\"xaxis\":\"x2\",\"yaxis\":\"y2\"},{\"fill\":\"tonexty\",\"fillcolor\":\"rgba(0, 204, 150, 0.1)\",\"hovertemplate\":\"Expiry: 2025-08-24 10:00:00\\u003cbr\\u003eStrike: %{x:.0f}\\u003cbr\\u003eDensity: %{y:.6f}\\u003cextra\\u003e\\u003c\\u002fextra\\u003e\",\"line\":{\"color\":\"#00CC96\",\"width\":2},\"mode\":\"lines\",\"name\":\"RN Density - 2025-08-24\",\"x\":{\"dtype\":\"f8\",\"bdata\":\"AAAAAABk+UANWnY8p2n5QBq07HhOb\\u002flAJw5jtfV0+UAzaNnxnHr5QEDCTy5EgPlATRzGauuF+UBadjynkov5QGfQsuM5kflAdCopIOGW+UCBhJ9ciJz5QI7eFZkvovlAmjiM1dan+UCnkgISfq35QLTseE4ls\\u002flAwUbvisy4+UDOoGXHc775QNv62wMbxPlA6FRSQMLJ+UD0rsh8ac\\u002f5QAEJP7kQ1flADmO19bfa+UAbvSsyX+D5QCgXom4G5vlANXEYq63r+UBCy47nVPH5QE4lBST89vlAW397YKP8+UBo2fGcSgL6QHUzaNnxB\\u002fpAgo3eFZkN+kCP51RSQBP6QJxBy47nGPpAqZtBy44e+kC19bcHNiT6QMJPLkTdKfpAz6mkgIQv+kDcAxu9KzX6QOldkfnSOvpA9rcHNnpA+kADEn5yIUb6QA9s9K7IS\\u002fpAHMZq629R+kApIOEnF1f6QDZ6V2S+XPpAQ9TNoGVi+kBQLkTdDGj6QF2Iuhm0bfpAauIwVltz+kB2PKeSAnn6QIOWHc+pfvpAkPCTC1GE+kCdSgpI+In6QKqkgISfj\\u002fpAt\\u002f72wEaV+kDEWG397Zr6QNCy4zmVoPpA3Qxadjym+kDqZtCy46v6QPfARu+KsfpABBu9KzK3+kARdTNo2bz6QB7PqaSAwvpAKikg4SfI+kA3g5Ydz836QETdDFp20\\u002fpAUTeDlh3Z+kBekfnSxN76QGvrbw9s5PpAeEXmSxPq+kCEn1yIuu\\u002f6QJH50sRh9fpAnlNJAQn7+kCrrb89sAD7QLgHNnpXBvtAxWGstv4L+0DSuyLzpRH7QN8VmS9NF\\u002ftA628PbPQc+0D4yYWomyL7QAUk\\u002fORCKPtAEn5yIeot+0Af2OhdkTP7QCwyX5o4OftAOYzV1t8++0BF5ksTh0T7QFJAwk8uSvtAX5o4jNVP+0Bs9K7IfFX7QHlOJQUkW\\u002ftAhqibQctg+0CTAhJ+cmb7QKBciLoZbPtArLb+9sBx+0C5EHUzaHf7QMZq628PfftA08RhrLaC+0DgHtjoXYj7QO14TiUFjvtA+tLEYayT+0AGLTueU5n7QBOHsdr6nvtAIOEnF6Kk+0AtO55TSar7QDqVFJDwr\\u002ftAR++KzJe1+0BUSQEJP7v7QGCjd0XmwPtAbf3tgY3G+0B6V2S+NMz7QIex2vrb0ftAlAtRN4PX+0ChZcdzKt37QK6\\u002fPbDR4vtAuhm07Hjo+0DHcyopIO77QNTNoGXH8\\u002ftA4ScXom75+0DugY3eFf\\u002f7QPvbAxu9BPxACDZ6V2QK\\u002fEAVkPCTCxD8QCLqZtCyFfxALkTdDFob\\u002fEA7nlNJASH8QEj4yYWoJvxAVVJAwk8s\\u002fEBirLb+9jH8QG8GLTueN\\u002fxAfGCjd0U9\\u002fECIuhm07EL8QJUUkPCTSPxAom4GLTtO\\u002fECvyHxp4lP8QLwi86WJWfxAyXxp4jBf\\u002fEDW1t8e2GT8QOIwVlt\\u002favxA74rMlyZw\\u002fED85ELUzXX8QAk\\u002fuRB1e\\u002fxAFpkvTRyB\\u002fEAj86WJw4b8QDBNHMZqjPxAPKeSAhKS\\u002fEBJAQk\\u002fuZf8QFZbf3tgnfxAY7X1twej\\u002fEBwD2z0rqj8QH1p4jBWrvxAisNYbf2z\\u002fECWHc+ppLn8QKN3ReZLv\\u002fxAsNG7IvPE\\u002fEC9KzJfmsr8QMqFqJtB0PxA198e2OjV\\u002fEDkOZUUkNv8QPCTC1E34fxA\\u002fe2Bjd7m\\u002fEAKSPjJhez8QBeibgYt8vxAJPzkQtT3\\u002fEAxVlt\\u002fe\\u002f38QD6w0bsiA\\u002f1ASwpI+MkI\\u002fUBYZL40cQ79QGS+NHEYFP1AcRirrb8Z\\u002fUB+ciHqZh\\u002f9QIvMlyYOJf1AmCYOY7Uq\\u002fUClgISfXDD9QLLa+tsDNv1AvjRxGKs7\\u002fUDLjudUUkH9QNjoXZH5Rv1A5ULUzaBM\\u002fUDynEoKSFL9QP\\u002f2wEbvV\\u002f1ADFE3g5Zd\\u002fUAYq62\\u002fPWP9QCUFJPzkaP1AMl+aOIxu\\u002fUA\\u002fuRB1M3T9QEwTh7Haef1AWW397YF\\u002f\\u002fUBmx3MqKYX9QHIh6mbQiv1Af3tgo3eQ\\u002fUCM1dbfHpb9QJkvTRzGm\\u002f1AponDWG2h\\u002fUCz4zmVFKf9QMA9sNG7rP1AzJcmDmOy\\u002fUDa8ZxKCrj9QOZLE4exvf1A86WJw1jD\\u002fUAAAAAAAMn9QA==\"},\"y\":{\"dtype\":\"f8\",\"bdata\":\"AAAAAAAAAAAAAAAAAAAAAAAAAAAAAAAAAAAAAAAAAAAAAAAAAAAAAAAAAAAAAAAAAAAAAAAAAAAAAAAAAAAAAAAAAAAAAAAAAAAAAAAAAAAAAAAAAAAAAAAAAAAAAAAAAAAAAAAAAAAAAAAAAAAAAAAAAAAAAAAAAAAAAAAAAAAAAAAAAAAAAAAAAAAAAAAAAAAAAAAAAAAAAAAAAAAAAAAAAAAAAAAAAAAAAAAAAAAAAAAAAAAAAAAAAAAAAAAAAAAAAAAAAAAAAAAAAAAAAAAAAAAAAAAAAAAAAAAAAAAAAAAAAAAAAHgDs9K3kqA+rqkgEbHmvD7fsRz3zc\\u002fIPm0Dok4ZndE+cNONmk\\u002fZ1j6XwvzHmBzcPvSKKlSBs+A+EXCV401c4z50jZSGuQjmPiZqf7HJuOg+S2Sl2Its6z5zZI3N7SPuPhYQi1Oqb\\u002fA+shJ\\u002f7bLO8T7Iff6xpzHzPhqZU9n6jvQ+Td9Z2agp9j4k6SUNCNb3PsnOYiu5gPk+1g0x6bAu+z65QhoCm978PmjhJ0fgkP4+1Ls4\\u002f50iAD\\u002fbiVx8Lv4AP4jRgzPp2QE\\u002fMTivK1m6Aj+jPFwNnY4DP+jpsobDvQQ\\u002fxoyz3ZMOBj\\u002ftroYvD1kHPyyQt1oxpwg\\u002fD+GtSlr2CT\\u002fRGTwW+0YLP28trxnamQw\\u002fkz6\\u002f2FHrDT8upaN\\u002fE0kPP9ZDO0TuPxA\\u002f3aOCtR8nET8sHACgokwQPxk1WpFUNg0\\u002fu9QKfhQ2Cj9kDTn+TxcHP7HorG6O\\u002fAM\\u002f9w\\u002fH4z3dAD8CfNdd3HL7PoRCaTGbM\\u002fU+ba3JEO1v7T6mhzYT\\u002fQTiPgMa7FNrRJQ+mYcQ23so3z7bqxSZz0L5Pp4DK0H9PwQ\\u002fbEBPGIY0DD+TBO\\u002f4ow0SP4fX3vzVBhY\\u002fb3TzUxQEGj\\u002fAQLun2v4dP1GQUBEDCSE\\u002fwgRAecvrIj9a+oaBZ2UlP+Este066iQ\\u002fwvlmpDYZIj+w18Hl75IfP0QCWSl9qBo\\u002fvYOXDKTMFT+AjpUVTugQP9MtJgBM\\u002fwc\\u002f1NIz7TFq\\u002fD4TAP5n4rbgPgAAAAAAAAAAAAAAAAAAAAAAAAAAAAAAAPJPzVDt37o+J253MrIx\\u002fD7zE197qy4MP\\u002fKeDXnjCRU\\u002ffAeF9soFHD9MJk4d4YEhP1PnepYm\\u002fiQ\\u002f94bmY8yIKD\\u002fV3lgAo98rP58sDORv+C8\\u002fN7OrOWpRMD8FfAWZo+4sP+N7Xt71FCo\\u002feJMmM4T+Jj9jnrtHh\\u002fYjPwT34ZtC6SA\\u002f8WridIm3Gz\\u002fv0DsCwZ0VP\\u002fe3PSIc7g4\\u002fMm63GZn5Aj8oxwCKuNLmPgAAAAAAAAAAAAAAAAAAAAAAAAAAAAAAANw48LXmqaE+M9UArPp7sz7hVhd\\u002fND6\\u002fPq5jJkTeTsU+4e5Y51BHyz4H2mUKei7QPkrdzh+yYNQ+yrsqTN5s0j6z1HSP2hvlPrKao4YvDv4+GObt07+hBz8UYJ3vB0MQP0slMMhWqBQ\\u002f3vpA77INGT8uvv0zo28dP+FCyO\\u002fc5iA\\u002fYy0UNPEVIz9iUfGn4zwlPzBFU2L3eSc\\u002f\\u002fOjKHgdUKT\\u002fH48uoRh0qP1bPK8+7DSs\\u002fUXaz\\u002flzyKz\\u002fsodBHAdksP5szBOf0vS0\\u002feBF6hqeiLj8FvjC5loUvPxJM1n\\u002f6NTA\\u002fTO5HJJGhMD\\u002frhq9njigxP9E\\u002f9iQLQjE\\u002fTSHv5vtwLz9CM6ivL8osP6TWi6x8CCo\\u002fLMsnFD5QJz+RJZ1tnJckPxuTy3cf4SE\\u002fh6HSbPtXHj+YiPxJo\\u002fAYP9JAhwH0ixM\\u002fVQNpvp5TDD+ZsJTdJZQBP4bjkFQjZes+AAAAAAAAAAAAAAAAAAAAAAAAAAAAAAAAAAAAAAAAAAAAAAAAAAAAAAAAAAAAAAAAAAAAAAAAAAAAAAAAAAAAAAAAAAAAAAAAAAAAAAAAAAAAAAAAAAAAAAAAAAAAAAAAAAAAAAAAAAAAAAAAAAAAAAAAAAAAAAAAAAAAAAAAAAAAAAAAAAAAAAAAAAAAAAAAAAAAAAAAAAAAAAAAAAAAAAAAAAAAAAAAAAAAAAAAAAAAAAAAAAAAAAAAAAAAAAAAAAAAAAAAAAAAAAAAAAAAAAAAAAAAAAAAAAAAAAAAAAAAAAAAAAAAAAAAAAAAAAAAuc6U8V2vuz6NIJy3uUV3PQ==\"},\"type\":\"scatter\",\"xaxis\":\"x2\",\"yaxis\":\"y2\"},{\"fill\":\"tonexty\",\"fillcolor\":\"rgba(171, 99, 250, 0.1)\",\"hovertemplate\":\"Expiry: 2025-08-25 10:00:00\\u003cbr\\u003eStrike: %{x:.0f}\\u003cbr\\u003eDensity: %{y:.6f}\\u003cextra\\u003e\\u003c\\u002fextra\\u003e\",\"line\":{\"color\":\"#AB63FA\",\"width\":2},\"mode\":\"lines\",\"name\":\"RN Density - 2025-08-25\",\"x\":{\"dtype\":\"f8\",\"bdata\":\"AAAAAADh+UAoF6JuBub5QFAuRN0M6\\u002flAeEXmSxPw+UCgXIi6GfX5QMdzKikg+vlA74rMlyb\\u002f+UAXom4GLQT6QD+5EHUzCfpAZ9Cy4zkO+kCP51RSQBP6QLf+9sBGGPpA3xWZL00d+kAGLTueUyL6QC5E3QxaJ\\u002fpAVlt\\u002fe2As+kB+ciHqZjH6QKaJw1htNvpAzqBlx3M7+kD2twc2ekD6QB7PqaSARfpAReZLE4dK+kBt\\u002fe2BjU\\u002f6QJUUkPCTVPpAvSsyX5pZ+kDlQtTNoF76QA1adjynY\\u002fpANXEYq61o+kBdiLoZtG36QIWfXIi6cvpArLb+9sB3+kDUzaBlx3z6QPzkQtTNgfpAJPzkQtSG+kBME4ex2ov6QHQqKSDhkPpAnEHLjueV+kDEWG397Zr6QOtvD2z0n\\u002fpAE4ex2vqk+kA7nlNJAar6QGO19bcHr\\u002fpAi8yXJg60+kCz4zmVFLn6QNv62wMbvvpAAxJ+ciHD+kAqKSDhJ8j6QFJAwk8uzfpAeldkvjTS+kCibgYtO9f6QMqFqJtB3PpA8pxKCkjh+kAatOx4Tub6QELLjudU6\\u002fpAauIwVlvw+kCR+dLEYfX6QLkQdTNo+vpA4ScXom7\\u002f+kAJP7kQdQT7QDFWW397CftAWW397YEO+0CBhJ9ciBP7QKmbQcuOGPtA0LLjOZUd+0D4yYWomyL7QCDhJxeiJ\\u002ftASPjJhags+0BwD2z0rjH7QJgmDmO1NvtAwD2w0bs7+0DoVFJAwkD7QBBs9K7IRftAN4OWHc9K+0BfmjiM1U\\u002f7QIex2vrbVPtAr8h8aeJZ+0DX3x7Y6F77QP\\u002f2wEbvY\\u002ftAJw5jtfVo+0BOJQUk\\u002fG37QHY8p5ICc\\u002ftAnlNJAQl4+0DGautvD337QO6Bjd4VgvtAFpkvTRyH+0A+sNG7Ioz7QGbHcyopkftAjt4VmS+W+0C19bcHNpv7QN0MWnY8oPtABST85EKl+0AtO55TSar7QFVSQMJPr\\u002ftAfWniMFa0+0ClgISfXLn7QM2XJg5jvvtA9K7IfGnD+0Acxmrrb8j7QETdDFp2zftAbPSuyHzS+0CUC1E3g9f7QLwi86WJ3PtA5DmVFJDh+0AMUTeDlub7QDRo2fGc6\\u002ftAW397YKPw+0CDlh3PqfX7QKutvz2w+vtA08RhrLb\\u002f+0D72wMbvQT8QCPzpYnDCfxASwpI+MkO\\u002fEByIepm0BP8QJo4jNXWGPxAwk8uRN0d\\u002fEDqZtCy4yL8QBJ+ciHqJ\\u002fxAOpUUkPAs\\u002fEBirLb+9jH8QIrDWG39NvxAstr62wM8\\u002fEDa8ZxKCkH8QAEJP7kQRvxAKSDhJxdL\\u002fEBRN4OWHVD8QHlOJQUkVfxAoWXHcypa\\u002fEDJfGniMF\\u002f8QPGTC1E3ZPxAGKutvz1p\\u002fEBAwk8uRG78QGjZ8ZxKc\\u002fxAkPCTC1F4\\u002fEC4BzZ6V338QOAe2OhdgvxACDZ6V2SH\\u002fEAwTRzGaoz8QFhkvjRxkfxAf3tgo3eW\\u002fECnkgISfpv8QM+ppICEoPxA98BG74ql\\u002fEAf2Ohdkar8QEfvisyXr\\u002fxAbwYtO560\\u002fECXHc+ppLn8QL40cRirvvxA5ksTh7HD\\u002fEAOY7X1t8j8QDZ6V2S+zfxAXpH50sTS\\u002fECGqJtBy9f8QK6\\u002fPbDR3PxA1tbfHtjh\\u002fED+7YGN3ub8QCUFJPzk6\\u002fxATRzGauvw\\u002fEB1M2jZ8fX8QJ1KCkj4+vxAxWGstv7\\u002f\\u002fEDteE4lBQX9QBWQ8JMLCv1APKeSAhIP\\u002fUBkvjRxGBT9QIzV1t8eGf1AtOx4TiUe\\u002fUDcAxu9KyP9QAQbvSsyKP1ALDJfmjgt\\u002fUBUSQEJPzL9QHxgo3dFN\\u002f1ApHdF5ks8\\u002fUDLjudUUkH9QPOlicNYRv1AG70rMl9L\\u002fUBD1M2gZVD9QGvrbw9sVf1AkwISfnJa\\u002fUC7GbTseF\\u002f9QOIwVlt\\u002fZP1ACkj4yYVp\\u002fUAyX5o4jG79QFp2PKeSc\\u002f1Ago3eFZl4\\u002fUCqpICEn339QNK7IvOlgv1A+tLEYayH\\u002fUAi6mbQsoz9QEkBCT+5kf1AcRirrb+W\\u002fUCZL00cxpv9QMFG74rMoP1A6V2R+dKl\\u002fUARdTNo2ar9QDmM1dbfr\\u002f1AYaN3Rea0\\u002fUCIuhm07Ln9QLDRuyLzvv1A2OhdkfnD\\u002fUAAAAAAAMn9QA==\"},\"y\":{\"dtype\":\"f8\",\"bdata\":\"AAAAAAAAAABhOYJERP\\u002fGPnu\\u002friqjWtM+EE7TMII63D5X4KXuv3DiPg0wc2Jo0uY+vG5ZI9o26z4I03pQK6HvPh64schICPI+wMYrqaZC9D5CBd5pq3\\u002f2Pr5K\\u002fgRdv\\u002fg+LS5RW74B+z5JlPpo00b9PhVkG9Wfjv8++u8QMpPsAD+\\u002focJsNRMCPzluUig3OwM\\u002f4l8VGZ1kBD+3wahJXI8FP7KG0UaiuwY\\u002fv0TpvsnoBz9nuRx1PxkJP7vA\\u002fir5Qwo\\u002fiqmblrOKCz\\u002fpM\\u002f6YW2sMP4s7vO1oEwo\\u002fPtCXHTj7Bz87kst2yc4FPwiJCEPupAM\\u002fpKR9z4t3AT+fP3aRdpD+PtOhq+JvLfo+vmwuoArF9T496DOB0FvxPgRcgbhuwek+YCc8xB4n4T7RzfD9ezrMPoj8hu6QPMg+HxVzQgP20T6sekSadfHVPryqTKzkdNo+793P2zfc3j585wZUqKnhPnv7hVlu5+M+5\\u002fs37S8o5j4nmzTNmW7oPk2xPkM\\u002fr+o+aUfU0y4V7T6+z\\u002fljsP\\u002fuPnY5i+SudfE+bA08Or+t9j5Skv8pIXn7PlZCZF45NAA\\u002f547rYlOqAj9CXHdVDiQFP1x5HkT7nwc\\u002fbBkF\\u002fmkeCj88wH1AR58MP6Fx4alHIg8\\u002fEl\\u002fU\\u002fS3UED+QRa2W2hYSPznGvKEQYBM\\u002fZ1L9G1Z5FD9QW9KgPokVPzvRhmGGnBY\\u002fRhThzduvFz9Y7Da9EcQYP3PKPwbs2Bk\\u002fF7L0nkHuGj\\u002fXJRbMpwQcP0ARrW6iGR0\\u002f1xnzazg2Hj\\u002fS6179cDgfP5BswY1XTyA\\u002f8f2gBiAsID9tbVZZRigdPz8op1aseho\\u002fpPqYb+emFz8dWwORYtoUPwQPG+AXCRI\\u002fYnfWX7NsDj+sqIF0KMMIPxVpP6P6FAM\\u002fdIxDTEzO+j4RzdsxiJ\\u002fuPu1\\u002fkXjQ19A+AAAAAAAAAABcf2xecuPqPskbBnE+qwI\\u002fmKKB+7BhDj9G2yJKMhcVP\\u002falAyIz\\u002fRo\\u002fE0LkcNNyID8UPhhiYGcjP4Fx3nReXSY\\u002fe+SH+RxQKT9DC9MbGlAsP502wB\\u002fhHi8\\u002fMFerwhpSMT+cEpw+WmAxPxoMBo5Scy8\\u002fj+W3MTTbLD\\u002fRtYUomxAqPyfIk6DyUSc\\u002fs0NTpreOJD9gt080lcshP73viAPWDh4\\u002fGNj5ziqGGD\\u002f3Sn8qjfoSP7T4KGxm7Qo\\u002fKwipuWtR\\u002fz4c2GgH1UvlPgZd4N73IvY+8JMDh2cdAD9i9N1u9FkFP4QC5nr2hwo\\u002f2F5DvfW3Dz9yg7HpmnISP+HDaCUwCBU\\u002fYbyOv+qcFz9i5Ify4C4aP7BxN5C9xBw\\u002f\\u002fR6ob\\u002fxEHz+7PXpHAgchP6YTQKpwmiE\\u002fclvidDK1IT9AbjuzXushP\\u002fp8SEaLGSI\\u002fz95w+jlJIj9KVCbU43ciPyZycJozpiI\\u002f1tjeFhjUIj8atr+OQAEjPwBocn4YLyM\\u002fd47HUlxYIz9TQbZQyZAjP7QSPl6iiyM\\u002ftn5S1XtgIj++bU34elYhP5znjXP\\u002fQyA\\u002fgJGoMKloHj+EN5rB\\u002fkgcP2IZKqGlKho\\u002fhBSLe1YNGD9EmX\\u002ft2fAVP1teaRSe1hM\\u002fUiwkkGO5ET9VFVPj6VkPPym\\u002f4CwP0Ao\\u002fcgJU\\u002fdSQCT+AhO9DNVQJP6ArIGuz1wg\\u002fqJzbtL9sCD\\u002fTHaSXif0HPzDBax\\u002ftjwc\\u002f\\u002fMQ\\u002fgFsiBz+ljVTBQrUGP6mS+BGISAY\\u002f2nvuNjXcBT8PjPLFSXAFPzkKbdnHBAU\\u002fHVhUvrCZBD81rXOzBS8EP2fYqKnHxAM\\u002flqjRkfdaAz9ergkdlvECP8MlFuCjiAI\\u002fFnXnfSEgAj+\\u002fH\\u002fl2DrgBP+B5UxZuUAE\\u002f3D14tTTpAD+bqtwijoIAP2EMJ3bWGwA\\u002fZTu\\u002fXdBu\\u002fz7chtqJv3j+PgzDmV\\u002feff0+ZRab0HWF\\u002fD5bfcYIoI37Phi1yUTdlvo+JQyyGQmh+T6EUMHVKqz4Pk7M+OA9uPc+UV4h2UDF9j4r7PpcMdP1PjExGv0M4vQ+lGeVdNHx8z5fINZFfALzPg\\u002fAHToLFPI+UOXD1Xkm8T7CQ8oFzTnwPgiyi+zLm+4+AXdSwFbG7D5PVGT3IvDqPppWIkShJOk+Yv7AUgY55z7eFPEz78zlPj0q6TSSjOI+EAERLVsn5j6K7GyTVFZsPQ==\"},\"type\":\"scatter\",\"xaxis\":\"x2\",\"yaxis\":\"y2\"},{\"fill\":\"tonexty\",\"fillcolor\":\"rgba(255, 161, 90, 0.1)\",\"hovertemplate\":\"Expiry: 2025-08-29 10:00:00\\u003cbr\\u003eStrike: %{x:.0f}\\u003cbr\\u003eDensity: %{y:.6f}\\u003cextra\\u003e\\u003c\\u002fextra\\u003e\",\"line\":{\"color\":\"#FFA15A\",\"width\":2},\"mode\":\"lines\",\"name\":\"RN Density - 2025-08-29\",\"x\":{\"dtype\":\"f8\",\"bdata\":\"AAAAAACI40AsMl+aOObjQFdkvjRxRORAg5Ydz6mi5ECvyHxp4gDlQNv62wMbX+VABi07nlO95UAyX5o4jBvmQF6R+dLEeeZAisNYbf3X5kC19bcHNjbnQOEnF6JulOdADVp2PKfy50A4jNXW31DoQGS+NHEYr+hAkPCTC1EN6UC8IvOliWvpQOhUUkDCyelAE4ex2von6kA\\u002fuRB1M4bqQGvrbw9s5OpAlh3PqaRC60DCTy5E3aDrQO6Bjd4V\\u002f+tAGrTseE5d7EBG5ksTh7vsQHEYq62\\u002fGe1AnUoKSPh37UDIfGniMNbtQPSuyHxpNO5AIOEnF6KS7kBME4ex2vDuQHhF5ksTT+9Ao3dF5kut70DoVFJAwgXwQP3tgY3eNPBAE4ex2vpj8EApIOEnF5PwQD+5EHUzwvBAVVJAwk\\u002fx8EBr628PbCDxQICEn1yIT\\u002fFAlh3PqaR+8UCstv72wK3xQMJPLkTd3PFA2OhdkfkL8kDugY3eFTvyQAQbvSsyavJAGrTseE6Z8kAwTRzGasjyQEbmSxOH9\\u002fJAW397YKMm80BxGKutv1XzQIex2vrbhPNAnUoKSPiz80Cy4zmVFOPzQMh8aeIwEvRA3hWZL01B9ED0rsh8aXD0QApI+MmFn\\u002fRAIOEnF6LO9EA2eldkvv30QEwTh7HaLPVAYqy2\\u002fvZb9UB4ReZLE4v1QI7eFZkvuvVAo3dF5kvp9UC5EHUzaBj2QM+ppICER\\u002fZA5ULUzaB29kD62wMbvaX2QBB1M2jZ1PZAJg5jtfUD90A8p5ICEjP3QFJAwk8uYvdAaNnxnEqR90B+ciHqZsD3QJQLUTeD7\\u002fdAqqSAhJ8e+EDAPbDRu034QNbW3x7YfPhA628PbPSr+EABCT+5ENv4QBeibgYtCvlALTueU0k5+UBC1M2gZWj5QFht\\u002fe2Bl\\u002flAbgYtO57G+UCEn1yIuvX5QJo4jNXWJPpAsNG7IvNT+kDGautvD4P6QNwDG70rsvpA8pxKCkjh+kAINnpXZBD7QB3PqaSAP\\u002ftAM2jZ8Zxu+0BJAQk\\u002fuZ37QF+aOIzVzPtAdTNo2fH7+0CLzJcmDiv8QKFlx3MqWvxAtv72wEaJ\\u002fEDMlyYOY7j8QOIwVlt\\u002f5\\u002fxA+MmFqJsW\\u002fUAOY7X1t0X9QCT85ELUdP1AOpUUkPCj\\u002fUBQLkTdDNP9QGXHcyopAv5Ae2Cjd0Ux\\u002fkCR+dLEYWD+QKeSAhJ+j\\u002f5AvSsyX5q+\\u002fkDTxGGstu3+QOldkfnSHP9A\\u002fvbARu9L\\u002f0AUkPCTC3v\\u002fQCopIOEnqv9AQMJPLkTZ\\u002f0Crrb89MAQAQTZ6V2S+GwBBwUbvikwzAEFME4ex2koAQdbfHthoYgBBYqy2\\u002fvZ5AEHseE4lhZEAQXhF5ksTqQBBAhJ+cqHAAEGO3hWZL9gAQRirrb+97wBBo3dF5ksHAUEuRN0M2h4BQbkQdTNoNgFBRN0MWvZNAUHPqaSAhGUBQVp2PKcSfQFB5ULUzaCUAUFwD2z0LqwBQfrbAxu9wwFBhqibQUvbAUEQdTNo2fIBQZxBy45nCgJBJg5jtfUhAkGy2vrbgzkCQTynkgISUQJBx3MqKaBoAkFSQMJPLoACQd0MWna8lwJBaNnxnEqvAkHzpYnD2MYCQX5yIepm3gJBCT+5EPX1AkGUC1E3gw0DQR7Y6F0RJQNBqqSAhJ88A0E0cRirLVQDQcA9sNG7awNBSgpI+EmDA0HW1t8e2JoDQWCjd0VmsgNB628PbPTJA0F2PKeSguEDQQEJP7kQ+QNBjNXW354QBEEXom4GLSgEQaJuBi27PwRBLTueU0lXBEG4BzZ6124EQULUzaBlhgRBzqBlx\\u002fOdBEFYbf3tgbUEQeQ5lRQQzQRBbgYtO57kBEH50sRhLPwEQYSfXIi6EwVBD2z0rkgrBUGaOIzV1kIFQSUFJPxkWgVBsNG7IvNxBUE7nlNJgYkFQcZq628PoQVBUTeDlp24BUHcAxu9K9AFQWfQsuO55wVB8pxKCkj\\u002fBUF9aeIw1hYGQQg2eldkLgZBkgISfvJFBkEdz6mkgF0GQaibQcsOdQZBM2jZ8ZyMBkG+NHEYK6QGQUkBCT+5uwZB1M2gZUfTBkFfmjiM1eoGQepm0LJjAgdBdTNo2fEZB0EAAAAAgDEHQQ==\"},\"y\":{\"dtype\":\"f8\",\"bdata\":\"AAAAAAAAAAAAAAAAAAAAAL6mrUFMIoI+0sLHgk\\u002fhnz60ogX6D9auPl2leYVBMbc+vtr5hVO5vz7sTkHXwHvEPg3YVBIQgsk+4ptxjzX8zj4Frflgo3fSPtEhvz84xdU+odqcDzU02T7vN5W2lqvdPrMcSmZA5N0+DTVW0fRW3D6KY9SDX9zaPtnjUyL369g+4AiN46Kb1j7KzlsqRtnTPn1GI3MJoNA+ilfov2HVyT5EIBPsOWvBPqs9VzWoEbA+AAAAAAAAAAAAAAAAAAAAAAAAAAAAAAAAAAAAAAAAAAAAAAAAAAAAAAAAAAAAAAAAAAAAAAAAAAAAAAAAAAAAAAAAAAAAAAAAAAAAAAAAAAAAAAAAAAAAAAAAAAAAAAAAAAAAAAAAAAAAAAAAAAAAAAAAAAAAAAAAAAAAAAAAAAAAAAAAAAAAAAAAAAAAAAAAAAAAAAAAAAAAAAAAAAAAAAAAAAAAAAAAAAAAAAAAAAAAAAAAAAAAAAAAAAAAAAAAAmI+9ySxlj5BBkAMrPm0PhanbIikeMI+8S9nARLpyj443wYZorfRPhbDZs6DxNY+V8nUx8CC0D7XO\\u002fZO81XCPvcsgpd2c5o+AAAAAAAAAAAAAAAAAAAAAAAAAAAAAAAAAAAAAAAAAAAAAAAAAAAAAAAAAAAAAAAAAAAAAAAAAAAAAAAAAAAAAFnfBDpjIq0+8ruj2oDFzj4AAAAAAAAAAAAAAAAAAAAAAAAAAAAAAAAAAAAAAAAAAPXWvxGksvE+PYXvjdJg8T4AAAAAAAAAAAAAAAAAAAAAmRbmIDAnuj7cfgJU5cXNPrfU\\u002fskEMdo+Y+FoG7H5zj7hEY9jtp2gPpSGvyqFuaA+Pj1soKOv1j6rCRXlGevmPsuyVVH\\u002fzN4+S1Otv2ASJD4AAAAAAAAAAIDwe35uVdM+oU+\\u002fNOzS8D4wDd66xTXzPvaWe3Y3VOI+AAAAAAAAAADDXX19J53pPtHOmJ0TggI\\u002fBpRjsdUaCz8AAAAAAAAAAJDUwy3KKQA\\u002fN3cIkvDZCD8AAAAAAAAAALwP099WZAA\\u002fUFRwmSUuED9ed4wE1TMHPwAAAAAAAAAA8Ljxh\\u002fbx4z5g\\u002f\\u002fTDVVH1PiqJWkIGKQc\\u002fR0Y2z8l0ED\\u002faY47Ii2vmPutUN3EzbgU\\u002fAAAAAAAAAAAAAAAAAAAAAEQmqlwAigg\\u002fjkkBAno6CT9sAy3tRazzPgAAAAAAAAAArVSuvqUADz8AAAAAAAAAAAAAAAAAAAAA+6a7WzhHIz\\u002fN9LuMIaP3PgAAAAAAAAAAAAAAAAAAAAAAAAAAAAAAAKefsrior\\u002fU+oHoEX\\u002fNg2j4AAAAAAAAAAAAAAAAAAAAAAAAAAAAAAADt9XffS00IP2+y8Mi3ShA\\u002fSLOTuNqRBD+9gI8kXFH7PhWQRoFkouY+AAAAAAAAAAAAAAAAAAAAAAAAAAAAAAAAAAAAAAAAAAAAAAAAAAAAAAAAAAAAAAAAAAAAAAAAAAAAAAAAAAAAAAAAAAAAAAAAAAAAAAAAAAAAAAAAAAAAAAAAAAAAAAAAAAAAAAAAAAAAAAAAAAAAAIPigxVdtWg+AAAAAAAAAAAAAAAAAAAAAAAAAAAAAAAAAAAAAAAAAAAAAAAAAAAAAAAAAAAAAAAAAAAAAAAAAAAAAAAAAAAAAAAAAAAAAAAAAAAAAAAAAAAAAAAAAAAAAAAAAAAAAAAAAAAAAAAAAAAAAAAAAAAAAAAAAAAAAAAAAAAAAAAAAAAAAAAAAAAAAAAAAAAAAAAAAAAAAAAAAAAAAAAAAAAAAAAAAAAAAAAAPAjXNA9Tkj4zEGmZe66tPkdRJwQt0rg+AVu9mFb9wD7DmLW4CynGPkPWV1sLRsc+tp706MEPxT6\\u002ftuKXk6PDPs1lq+J6EcI+Q4si23KZwD6ysMXB+FO+PpwPkfDUjrs+sXTF3obguD4u6hlY8Ui2PmJ1LUVnyLM+Yq1Di95asT5516jXPBuuPoyFhzDJWqk+nE7V0qMFpj5JY1eS1XKmPpdE5OZzUaY+m9icHTVUpj5R9J87OUumPjixVjsHQ6Y+YZq0Tkk5pj4ZJ0gBtyqmPtD288u7JqY+H7BiNfTypT7jDjXdeGmmPmFsPBJYXKQ+QKpU7VWpqz4FU0aVlBZJPQ==\"},\"type\":\"scatter\",\"xaxis\":\"x2\",\"yaxis\":\"y2\"},{\"fill\":\"tonexty\",\"fillcolor\":\"rgba(25, 211, 243, 0.1)\",\"hovertemplate\":\"Expiry: 2025-09-05 10:00:00\\u003cbr\\u003eStrike: %{x:.0f}\\u003cbr\\u003eDensity: %{y:.6f}\\u003cextra\\u003e\\u003c\\u002fextra\\u003e\",\"line\":{\"color\":\"#19D3F3\",\"width\":2},\"mode\":\"lines\",\"name\":\"RN Density - 2025-09-05\",\"x\":{\"dtype\":\"f8\",\"bdata\":\"AAAAAACI80DW1t8e2JrzQKutvz2wrfNAgYSfXIjA80BWW397YNPzQCwyX5o45vNAAQk\\u002fuRD580DX3x7Y6Av0QKy2\\u002fvbAHvRAgo3eFZkx9EBXZL40cUT0QC07nlNJV\\u002fRAAxJ+ciFq9EDY6F2R+Xz0QK6\\u002fPbDRj\\u002fRAg5Ydz6mi9EBZbf3tgbX0QC5E3QxayPRABBu9KzLb9EDZ8ZxKCu70QK\\u002fIfGniAPVAhJ9ciLoT9UBadjynkib1QDBNHMZqOfVABST85EJM9UDb+tsDG1\\u002f1QLDRuyLzcfVAhqibQcuE9UBbf3tgo5f1QDFWW397qvVABi07nlO99UDcAxu9K9D1QLLa+tsD4\\u002fVAh7Ha+tv19UBdiLoZtAj2QDJfmjiMG\\u002fZACDZ6V2Qu9kDdDFp2PEH2QLPjOZUUVPZAiLoZtOxm9kBekfnSxHn2QDNo2fGcjPZACT+5EHWf9kDeFZkvTbL2QLTseE4lxfZAisNYbf3X9kBfmjiM1er2QDVxGKut\\u002ffZACkj4yYUQ90DgHtjoXSP3QLX1twc2NvdAi8yXJg5J90Bgo3dF5lv3QDZ6V2S+bvdADFE3g5aB90DhJxeibpT3QLb+9sBGp\\u002fdAjNXW3x6690BirLb+9sz3QDeDlh3P3\\u002fdADVp2PKfy90DiMFZbfwX4QLgHNnpXGPhAjt4VmS8r+EBjtfW3Bz74QDiM1dbfUPhADmO19bdj+EDkOZUUkHb4QLkQdTNoifhAj+dUUkCc+EBkvjRxGK\\u002f4QDqVFJDwwfhAEGz0rsjU+EDlQtTNoOf4QLoZtOx4+vhAkPCTC1EN+UBmx3MqKSD5QDueU0kBM\\u002flAEXUzaNlF+UDmSxOHsVj5QLwi86WJa\\u002flAkfnSxGF++UBn0LLjOZH5QDynkgISpPlAEn5yIeq2+UDoVFJAwsn5QL0rMl+a3PlAkgISfnLv+UBo2fGcSgL6QD6w0bsiFfpAE4ex2von+kDpXZH50jr6QL40cRirTfpAlAtRN4Ng+kBq4jBWW3P6QD+5EHUzhvpAFJDwkwuZ+kDqZtCy46v6QMA9sNG7vvpAlRSQ8JPR+kBr628PbOT6QEDCTy5E9\\u002fpAFpkvTRwK+0Drbw9s9Bz7QMFG74rML\\u002ftAlh3PqaRC+0Bs9K7IfFX7QELLjudUaPtAF6JuBi17+0DseE4lBY77QMJPLkTdoPtAmCYOY7Wz+0Bt\\u002fe2Bjcb7QEPUzaBl2ftAGKutvz3s+0DugY3eFf\\u002f7QMRYbf3tEfxAmS9NHMYk\\u002fEBuBi07njf8QETdDFp2SvxAGrTseE5d\\u002fEDvisyXJnD8QMRhrLb+gvxAmjiM1daV\\u002fEBwD2z0rqj8QEbmSxOHu\\u002fxAG70rMl\\u002fO\\u002fEDwkwtRN+H8QMZq628P9PxAnEHLjucG\\u002fUBxGKutvxn9QEbvisyXLP1AHMZq628\\u002f\\u002fUDynEoKSFL9QMhzKikgZf1AnUoKSPh3\\u002fUByIepm0Ir9QEj4yYWonf1AHs+ppICw\\u002fUDzpYnDWMP9QMh8aeIw1v1AnlNJAQnp\\u002fUB0Kikg4fv9QEkBCT+5Dv5AH9joXZEh\\u002fkD0rsh8aTT+QMqFqJtBR\\u002f5AoFyIuhla\\u002fkB1M2jZ8Wz+QEoKSPjJf\\u002f5AIOEnF6KS\\u002fkD2twc2eqX+QMuO51RSuP5AoGXHcyrL\\u002fkB2PKeSAt7+QEwTh7Ha8P5AIupm0LID\\u002f0D3wEbvihb\\u002fQMyXJg5jKf9Aom4GLTs8\\u002f0B4ReZLE0\\u002f\\u002fQE0cxmrrYf9AIvOlicN0\\u002f0D4yYWom4f\\u002fQM6gZcdzmv9Ao3dF5kut\\u002f0B5TiUFJMD\\u002fQE4lBST80v9AJPzkQtTl\\u002f0D60sRhrPj\\u002fQOhUUkDCBQBBUkDCTy4PAEG9KzJfmhgAQSgXom4GIgBBkgISfnIrAEH97YGN3jQAQWjZ8ZxKPgBB08RhrLZHAEE+sNG7IlEAQaibQcuOWgBBE4ex2vpjAEF+ciHqZm0AQeldkfnSdgBBVEkBCT+AAEG+NHEYq4kAQSkg4ScXkwBBlAtRN4OcAEH\\u002f9sBG76UAQWriMFZbrwBB1M2gZce4AEE\\u002fuRB1M8IAQaqkgISfywBBFJDwkwvVAEF\\u002fe2Cjd94AQepm0LLj5wBBVVJAwk\\u002fxAEHAPbDRu\\u002foAQSopIOEnBAFBlRSQ8JMNAUEAAAAAABcBQQ==\"},\"y\":{\"dtype\":\"f8\",\"bdata\":\"AAAAAAAAAAAAAAAAAAAAAAAAAAAAAAAAbhmPOIYkiD6YaHX7WGysPnP028fNybg+4bn3fa7mwT72mlHPH33HPhmU2wCtMs0+PhDBgM6C0T6t88jy5nvUPnVyVznAhNc+t6DuSUaf2j53HeW9WMfdPrLdGp\\u002fGh+A+ziEPqgQb4j4PeptBHxrkPtJi9DLadOQ+XKtgXN5d4j4+SFMJ8LLgPoxX9aVEu90+lVU27VUL2j5bawO0oT\\u002fWPotn9B0aXdI+ePzxEPXCzD5\\u002fcqfmBZnEPjsnQms5drg+Zk77gytBnT4AAAAAAAAAAAAAAAAAAAAAAAAAAAAAAAAAAAAAAAAAAAAAAAAAAAAAAAAAAAAAAAAAAAAAAAAAAAAAAAAAAAAAAAAAAAAAAAAAAAAAAAAAAAAAAAAAAAAAAAAAAAAAAAAAAAAAAAAAAAAAAAAAAAAAOLUtXlK\\u002fqD6F0\\u002f6TGq27Pr2FprZsq8U+mdGmmJ+wzT5\\u002fzsTXoPHSPogFxh\\u002fkKdc+66ftrpVl2z6qGexLZwfgPl\\u002fLKhlgxOE+eiKhG5Zm4T4474oItlLhPiiFT5T4KeE+X\\u002fDM6bsF4T78hM\\u002fHIN\\u002fgPqFrhvjst+A+UCz115aP4D5tLZ+aM2bgPs5jToSxO+A+RoEZdv4P4D44OXCfa8bfPrWIvzONad8+3tr1QFIN3z4NAnuvy6LePpYvn9aQYd4+gKdS0C563T5NI+pIBi7gPu0m\\u002fYe0keI+NGYeqZHM5D6FLr2rryTnPsSy+cSBh+k+jpmoPTb66z5ySjEFlHvuPkY8M94HhvA+rAT24szV8T4D2AFeHi3zPmqCf1jji\\u002fQ+nK9n8T3y9T7Rr6\\u002fXS1\\u002f3PvSXkty81fg+P4X\\u002fS7VK+j71Jcm3pOX7PmiiJD\\u002f4D\\u002f0+ssh\\u002fF\\u002fIO+D6qnfhT\\u002f0XzPsFQdJQxi+w+H4kLOjxa4j79M6nFI6HPPgAAAAAAAAAAAAAAAAAAAAAAAAAAAAAAAAAAAAAAAAAAAAAAAAAAAADcy\\u002fh9HHWKPkuhITm+VPQ+8DVqATKbBD\\u002fHMLuxHXkPP3shg2copRQ\\u002fB4jkaDXqGz+vjNQYeW0YPy5jur0omAQ\\u002fAAAAAAAAAAAAAAAAAAAAAAAAAAAAAAAAu19zw3L09z5Z9\\u002fhwXMsQPyAeDDYlt+0+AAAAAAAAAAAAAAAAAAAAAAAAAAAAAAAAjk2ZoHDODD8dCrSbosQnPwoTOZ5z8jA\\u002fohTecxyXIT8XZaOlxy4EPwAAAAAAAAAAAAAAAAAAAABdrUWHdOfsPq+5T47skBE\\u002fZqUbMTYcFD8unzgKWAAOP08hUpk8Dwg\\u002fAotBJlP4+z4AAAAAAAAAAAAAAAAAAAAAAAAAAAAAAAAAAAAAAAAAALRrzro1NPA+h0\\u002fz8apRET+TKmoezikVP7UXqpqx3BM\\u002frKufA6zNFD+jsey41tIQP8xiJk5KF+s+AAAAAAAAAAAAAAAAAAAAAAAAAAAAAAAASrWBgfq28T7LubBe0XURP4GjQ4h5yhQ\\u002f7J3PPqIdFD\\u002fWk9lr2A4VPxgNdk6bxBI\\u002fB8pqNdFzBz8ZT79CTz32PgAAAAAAAAAAdWPi42Uk5j6RtLnK+U70PjkOqqE0SgA\\u002fb6fIReLS+D7ktdwCvaLnPgAAAAAAAAAAAAAAAAAAAAAAAAAAAAAAAGaHJgvIPco+DN998kTx3T6hiMH+FQHnPvCuVBL0ou4+612Ei82s8z73O7ye0K\\u002fyPolDkooWjPA+8v9wxBSB7T6b1DJx29DpPtdZWeT\\u002fROY++qnRjhas4j5XQKLz8BnfPvy1qpS4gt0+SnHX0\\u002fZ72z7ydE3vT6DZPv5s9uy+xdc+lxW6WA731T5GC09R5TDUPt9Lzsq3c9I+KgTuqPi+0D5CBaHyzCTOPj5l29ZN28o+SdjiOxihxz4+XdlU0XTEPia3I5PtWME+tkOzC6+DvD5OjrJhC7G2PvakTuwwBLA+EalvNALLrD76iN35DzywPsSWPMGxSLE+beFMe+qKsj4t58HWIL6zPiMX2LOk9LQ+hh0o+HIptj7Gup6V8l23PoJvZWZHkbg+c6bHyEfFuT4\\u002f1JzhWfO6PisSBSj5M7w+9kmn5MkrvT5ZrmMkzi+\\u002fPkkJMLVxR70+sWOgbhIAxT4AAAAAAAAAAA==\"},\"type\":\"scatter\",\"xaxis\":\"x2\",\"yaxis\":\"y2\"},{\"fill\":\"tonexty\",\"fillcolor\":\"rgba(255, 102, 146, 0.1)\",\"hovertemplate\":\"Expiry: 2025-09-12 10:00:00\\u003cbr\\u003eStrike: %{x:.0f}\\u003cbr\\u003eDensity: %{y:.6f}\\u003cextra\\u003e\\u003c\\u002fextra\\u003e\",\"line\":{\"color\":\"#FF6692\",\"width\":2},\"mode\":\"lines\",\"name\":\"RN Density - 2025-09-12\",\"x\":{\"dtype\":\"f8\",\"bdata\":\"AAAAAABq+EBr628PbHP4QNbW3x7YfPhAQMJPLkSG+ECrrb89sI\\u002f4QBaZL00cmfhAgYSfXIii+EDrbw9s9Kv4QFZbf3tgtfhAwUbvisy++EAsMl+aOMj4QJYdz6mk0fhAAQk\\u002fuRDb+EBs9K7IfOT4QNffHtjo7fhAQsuO51T3+ECstv72wAD5QBeibgYtCvlAgo3eFZkT+UDteE4lBR35QFdkvjRxJvlAwk8uRN0v+UAtO55TSTn5QJgmDmO1QvlAAxJ+ciFM+UBt\\u002fe2BjVX5QNjoXZH5XvlAQ9TNoGVo+UCuvz2w0XH5QBirrb89e\\u002flAg5Ydz6mE+UDugY3eFY75QFlt\\u002fe2Bl\\u002flAxFht\\u002fe2g+UAuRN0MWqr5QJkvTRzGs\\u002flABBu9KzK9+UBvBi07nsb5QNnxnEoK0PlARN0MWnbZ+UCvyHxp4uL5QBq07HhO7PlAhJ9ciLr1+UDvisyXJv\\u002f5QFp2PKeSCPpAxWGstv4R+kAwTRzGahv6QJo4jNXWJPpABST85EIu+kBwD2z0rjf6QNv62wMbQfpAReZLE4dK+kCw0bsi81P6QBu9KzJfXfpAhqibQctm+kDwkwtRN3D6QFt\\u002fe2CjefpAxmrrbw+D+kAxVlt\\u002fe4z6QJxBy47nlfpABi07nlOf+kBxGKutv6j6QNwDG70rsvpAR++KzJe7+kCy2vrbA8X6QBzGautvzvpAh7Ha+tvX+kDynEoKSOH6QF2Iuhm06vpAx3MqKSD0+kAyX5o4jP36QJ1KCkj4BvtACDZ6V2QQ+0ByIepm0Bn7QN0MWnY8I\\u002ftASPjJhags+0Cz4zmVFDb7QB7PqaSAP\\u002ftAiLoZtOxI+0DzpYnDWFL7QF6R+dLEW\\u002ftAyXxp4jBl+0AzaNnxnG77QJ5TSQEJePtACT+5EHWB+0B0Kikg4Yr7QN4VmS9NlPtASQEJP7md+0C07HhOJaf7QB\\u002fY6F2RsPtAisNYbf25+0D0rsh8acP7QF+aOIzVzPtAyoWom0HW+0A1cRirrd\\u002f7QKBciLoZ6ftACkj4yYXy+0B1M2jZ8fv7QOAe2OhdBfxASwpI+MkO\\u002fEC19bcHNhj8QCDhJxeiIfxAi8yXJg4r\\u002fED2twc2ejT8QGCjd0XmPfxAy47nVFJH\\u002fEA2eldkvlD8QKFlx3MqWvxADFE3g5Zj\\u002fEB2PKeSAm38QOEnF6JudvxATBOHsdp\\u002f\\u002fEC2\\u002fvbARon8QCLqZtCykvxAjNXW3x6c\\u002fED3wEbviqX8QGKstv72rvxAzJcmDmO4\\u002fEA3g5Ydz8H8QKJuBi07y\\u002fxADVp2PKfU\\u002fEB4ReZLE978QOIwVlt\\u002f5\\u002fxATRzGauvw\\u002fEC4BzZ6V\\u002fr8QCPzpYnDA\\u002f1Ajt4VmS8N\\u002fUD4yYWomxb9QGO19bcHIP1AzqBlx3Mp\\u002fUA4jNXW3zL9QKN3ReZLPP1ADmO19bdF\\u002fUB5TiUFJE\\u002f9QOQ5lRSQWP1ATiUFJPxh\\u002fUC5EHUzaGv9QCT85ELUdP1Aj+dUUkB+\\u002fUD60sRhrIf9QGS+NHEYkf1Az6mkgISa\\u002fUA6lRSQ8KP9QKSAhJ9crf1AEGz0rsi2\\u002fUB6V2S+NMD9QOVC1M2gyf1AUC5E3QzT\\u002fUC6GbTseNz9QCUFJPzk5f1AkPCTC1Hv\\u002fUD72wMbvfj9QGbHcyopAv5A0LLjOZUL\\u002fkA7nlNJARX+QKaJw1htHv5AEXUzaNkn\\u002fkB8YKN3RTH+QOZLE4exOv5AUTeDlh1E\\u002fkC8IvOliU3+QCYOY7X1Vv5AkfnSxGFg\\u002fkD85ELUzWn+QGfQsuM5c\\u002f5A0rsi86V8\\u002fkA8p5ICEob+QKeSAhJ+j\\u002f5AEn5yIeqY\\u002fkB9aeIwVqL+QOhUUkDCq\\u002f5AUkDCTy61\\u002fkC9KzJfmr7+QCgXom4GyP5AkgISfnLR\\u002fkD97YGN3tr+QGjZ8ZxK5P5A08RhrLbt\\u002fkA+sNG7Ivf+QKibQcuOAP9AE4ex2voJ\\u002f0B+ciHqZhP\\u002fQOldkfnSHP9AVEkBCT8m\\u002f0C+NHEYqy\\u002f\\u002fQCkg4ScXOf9AlAtRN4NC\\u002f0D\\u002f9sBG70v\\u002fQGriMFZbVf9A1M2gZcde\\u002f0A\\u002fuRB1M2j\\u002fQKqkgISfcf9AFJDwkwt7\\u002f0B\\u002fe2Cjd4T\\u002fQOpm0LLjjf9AVVJAwk+X\\u002f0DAPbDRu6D\\u002fQCopIOEnqv9AlRSQ8JOz\\u002f0AAAAAAAL3\\u002fQA==\"},\"y\":{\"dtype\":\"f8\",\"bdata\":\"AAAAAAAAAABoXCQBJ7DpPk00t8sdL+U+j0uTL1TF6D6bAkP+XDnqPgHZ6FeVSOw+BeK1VhA37j78WWV\\u002fmBvwPmNYZZa8HfE+DWJ8qsMj8j5wHTCxMy3zPnuDkIctOvQ+DQuBwahK9T7ENX\\u002fbpl72PoCsxi4mdvc+KMMgaSWR+D6JISDmoa\\u002f5PunugoKY0fo+CH3A8AX3+z6CG\\u002f7n5B\\u002f9PnBEGvUvTP4+WkaR0eB7\\u002fz5VjA3Id1cAPyGZTeKp8gA\\u002fqENnRIGPAT\\u002fYcQWO+S0CP+5tAIIIzgI\\u002fv9V8+LVvAz8uOyqvwxIEP6cb+y\\u002f0twQ\\u002f3WNYYUlcBT86Ete3wQoGP4DVZDEmmgY\\u002fFTzx8EejBz\\u002fzsRPeCRwEP+gzhJrjav8+MQv7nLnv9j7+8I3nSFnsPv46\\u002f38OLNY+AAAAAAAAAAAAAAAAAAAAAAAAAAAAAAAAbdlmReMJwj48PhhpzMvgPsXYmcNY\\u002f+w+KpKsE8Sz9D5zgmpHqvf6PlcjtzrbpgA\\u002f9pgqCULaAz97zSb+WBYHP7RzblI7WQo\\u002fHwxADMKoDT\\u002fI9vdb93YQP0p9VAIEPhI\\u002f7MSUPapTET9ckU5QEDsQPyTve9z0Uw4\\u002fin4X78skDD8aQtoKXfAJP5++VQHUtAc\\u002fGRYUv+1yBT9CV9aKyyoDPxoxUReF3AA\\u002fG1MzUxgS\\u002fT6EG3DiFFz4PncX+egFq\\u002fM+ZFyM3fht7T7CL+ITjh3mPri5fpGOBOA+u0Q5SkQq0z4vPAClzm65PgAAAAAAAAAAAAAAAAAAAAAAAAAAAAAAAF\\u002fTSDsISMA+Pa\\u002fai3ds5z4Ixq8FkIT1PgqDr8iibf8+XR8QHamRBD+5nk9mPO4JP8ffwBUQNQ0\\u002f20mGDa04DT8klzDjy9cNPy4ZZ0a5SQ4\\u002fdO0zXTfODj834dtjqy4PP2cQxqxZAhA\\u002fIZHZYD1aDT\\u002fHBoYuCbIJP9Wj3MeCRgY\\u002fTxdJu3O\\u002fAj8emmuxaqr+PrN8z3rTA\\u002fc+wY87X+1n8j6yotMgxDYCPwZDzIQORgo\\u002fyq23zh5JET975DhmInQVP5m1\\u002fafDbBk\\u002ft7v+LWglHj\\u002ftzKfShEMfP9g1h52Mxhw\\u002f+NrEA7IJGz8Ir1rRlhYZPw4LBpCWMRc\\u002fplIHcshBFT\\u002fi5zImLmgTPxdoT98ajRA\\u002fjJLmZtYeCz+30Lt81TkFP998c5JjkP4+Bg756JsD8z4J7XbNcXvZPgAAAAAAAAAA\\u002fIoLyfFw2D5HJYrfqLvnPoIWTJmRJ\\u002fI+RiBA7vFW+D4fUVEZY0X+PpMGHr3alAI\\u002ffzso7J1VAz\\u002fmk8AOQFsCP0FjctDsxgE\\u002f9mJKKZUXAT8WbiBh728AP3COh2OZjf8+skwqw3I9\\u002fj7+My4Ccu78Pkk7nGZnoPs+hECGFwxW+j52URfzpwX5PhY9NTZc1Pc+jTo9xlw49j5sWr+nyGP2Pjlyv+3DRvo+7i8Kr8+B\\u002fT7kw9cLIXAAP3Vj5yOAFQI\\u002f4RwzWii4Az+AKinv9lUFPyyCEPtE7wY\\u002fqJAsWtmDCD+MZizmYBMKP6rhIYiengs\\u002fV\\u002fGPHjQiDT+GFMfWUaoOP6721IgaBBA\\u002f1x\\u002fDSe8LDz+I6KVDIC0OP6SvreeKRw0\\u002fKsZEIitlDD8NPFIocoMLP0cjkqMrowo\\u002fME3ZRjvECT+AkdnRwOYIP24E0\\u002f7JCgg\\u002fBghvdmcwBz+jezBnp1cGPzGIX\\u002feWgAU\\u002fEp9gR0GrBD9o08oTs9cDP3+BZN7tBQM\\u002fu3Ek7xY2Aj\\u002fYkdG4yWcBP05M+aaenAA\\u002fGHHAMH6d\\u002fz6\\u002fBShVdin+PuSjiKh\\u002fgP0+eLjGvmLE\\u002fD677wt+eQ\\u002f8PmLWmyKyWvs+1dVaz\\u002fen+j4ccHVjzPb5Ps6OQERWR\\u002fk+MUDO646Z+D7DqSBue+33PhyiJ\\u002fMcQ\\u002fc+VNUZzXSa9j5+RKD5g\\u002fP1PubasgxLTvU+KuO\\u002f+8mq9D5gJ2E9AAn0Pv4mwlLtaPM+VJbLSJDK8j7E8\\u002f+i5y3yPlEIUNrxkvE+ulxCKK358D5zjmUyF2LwPrw3ePhcmO8++L6H49tv7j6ZFqqwuErtPhlDzrqoKOw+m39chacK6z6\\u002fSobk7uzpPoWIw5d43eg+nK0jeP+n5z50L01meA\\u002fnPl0bVd4vPOQ+T3LIlNjJ6T4AAAAAAAAAAA==\"},\"type\":\"scatter\",\"xaxis\":\"x2\",\"yaxis\":\"y2\"},{\"fill\":\"tonexty\",\"fillcolor\":\"rgba(182, 232, 128, 0.1)\",\"hovertemplate\":\"Expiry: 2025-09-26 10:00:00\\u003cbr\\u003eStrike: %{x:.0f}\\u003cbr\\u003eDensity: %{y:.6f}\\u003cextra\\u003e\\u003c\\u002fextra\\u003e\",\"line\":{\"color\":\"#B6E880\",\"width\":2},\"mode\":\"lines\",\"name\":\"RN Density - 2025-09-26\",\"x\":{\"dtype\":\"f8\",\"bdata\":\"AAAAAACI00DNlyYOY2XVQJkvTRzGQtdAZsdzKikg2UAyX5o4jP3aQP\\u002f2wEbv2txAzI7nVFK43kBME4ex2krgQDJfmjiMOeFAGKutvz0o4kD\\u002f9sBG7xbjQOVC1M2gBeRAzI7nVFL05ECy2vrbA+PlQJgmDmO10eZAfnIh6mbA50BkvjRxGK\\u002foQEsKSPjJnelAMVZbf3uM6kAXom4GLXvrQP7tgY3eaexA5DmVFJBY7UDKhaibQUfuQLDRuyLzNe9AzI7nVFIS8EC+NHEYq4nwQLLa+tsDAfFApYCEn1x48UCYJg5jte\\u002fxQIvMlyYOZ\\u002fJAfnIh6mbe8kByGKutv1XzQGS+NHEYzfNAWGS+NHFE9EBLCkj4ybv0QD6w0bsiM\\u002fVAMVZbf3uq9UAk\\u002fORC1CH2QBeibgYtmfZACkj4yYUQ90D+7YGN3of3QPGTC1E3\\u002f\\u002fdA5DmVFJB2+EDX3x7Y6O34QMqFqJtBZflAvSsyX5rc+UCw0bsi81P6QKR3ReZLy\\u002fpAlx3PqaRC+0CKw1ht\\u002fbn7QH1p4jBWMfxAcA9s9K6o\\u002fEBjtfW3ByD9QFZbf3tgl\\u002f1ASgEJP7kO\\u002fkA9p5ICEob+QDBNHMZq\\u002ff5AI\\u002fOlicN0\\u002f0AWmS9NHOz\\u002fQISfXIi6MQBBfnIh6mZtAEF4ReZLE6kAQXIYq62\\u002f5ABBa+tvD2wgAUFkvjRxGFwBQV6R+dLElwFBWGS+NHHTAUFRN4OWHQ8CQUsKSPjJSgJBRN0MWnaGAkE+sNG7IsICQTeDlh3P\\u002fQJBMVZbf3s5A0ErKSDhJ3UDQST85ELUsANBHs+ppIDsA0EXom4GLSgEQRF1M2jZYwRBCkj4yYWfBEEEG70rMtsEQf7tgY3eFgVB98BG74pSBUHxkwtRN44FQepm0LLjyQVB5DmVFJAFBkHdDFp2PEEGQdffHtjofAZB0bLjOZW4BkHKhaibQfQGQcRYbf3tLwdBvSsyX5prB0G3\\u002fvbARqcHQbDRuyLz4gdBqqSAhJ8eCEGkd0XmS1oIQZ1KCkj4lQhBlx3PqaTRCEGQ8JMLUQ0JQYrDWG39SAlBg5Ydz6mECUF9aeIwVsAJQXc8p5IC\\u002fAlBcA9s9K43CkFq4jBWW3MKQWO19bcHrwpBXYi6GbTqCkFWW397YCYLQVAuRN0MYgtBSgEJP7mdC0FD1M2gZdkLQT2nkgISFQxBNnpXZL5QDEEwTRzGaowMQSkg4ScXyAxBI\\u002fOlicMDDUEdxmrrbz8NQRaZL00cew1BEGz0rsi2DUEJP7kQdfINQQMSfnIhLg5B\\u002fORC1M1pDkH2twc2eqUOQfCKzJcm4Q5B6V2R+dIcD0HjMFZbf1gPQdwDG70rlA9B1tbfHtjPD0HoVFJAwgUQQWS+NHGYIxBB4icXom5BEEFekfnSRF8QQdv62wMbfRBBWGS+NPGaEEHUzaBlx7gQQVE3g5ad1hBBzqBlx3P0EEFLCkj4SRIRQchzKikgMBFBRN0MWvZNEUHBRu+KzGsRQT6w0buiiRFBuxm07HinEUE3g5YdT8URQbTseE4l4xFBMVZbf\\u002fsAEkGuvz2w0R4SQSspIOGnPBJBp5ICEn5aEkEk\\u002fORCVHgSQaFlx3MqlhJBHs+ppAC0EkGbOIzV1tESQReibgat7xJBlAtRN4MNE0ERdTNoWSsTQY7eFZkvSRNBCkj4yQVnE0GHsdr624QTQQQbvSuyohNBgYSfXIjAE0H+7YGNXt4TQXpXZL40\\u002fBNB98BG7woaFEF0Kikg4TcUQfGTC1G3VRRBbv3tgY1zFEHqZtCyY5EUQWfQsuM5rxRB5DmVFBDNFEFho3dF5uoUQd0MWna8CBVBWnY8p5ImFUHX3x7YaEQVQVRJAQk\\u002fYhVB0bLjORWAFUFNHMZq650VQcqFqJvBuxVBR++KzJfZFUHEWG39bfcVQUHCTy5EFRZBvSsyXxozFkE6lRSQ8FAWQbf+9sDGbhZBNGjZ8ZyMFkGw0bsic6oWQS07nlNJyBZBqqSAhB\\u002fmFkEnDmO19QMXQaR3RebLIRdBIOEnF6I\\u002fF0GdSgpIeF0XQRq07HhOexdBlx3PqSSZF0EUh7Ha+rYXQZDwkwvR1BdBDVp2PKfyF0GKw1htfRAYQQctO55TLhhBg5YdzylMGEEAAAAAAGoYQQ==\"},\"y\":{\"dtype\":\"f8\",\"bdata\":\"AAAAAAAAAADuVIV6uHvEPlKFQtOPK8A+fgW3Hkbxuz6VXOfDrxmoPgAAAAAAAAAAAAAAAAAAAAAAAAAAAAAAAAAAAAAAAAAAAAAAAAAAAADryEduz5SuPtdvX+fUkbQ+YAAkIC7zbj4AAAAAAAAAAAAAAAAAAAAAAAAAAAAAAAAAAAAAAAAAACapvmvX49Q+\\u002fRdYZO0E8j67j9kObCryPqQkbhUhWtE+AAAAAAAAAAAAAAAAAAAAAAAAAAAAAAAAKNVTcKH4wD5ikyN8RUKxPlOPMOb1OrY+sdTbQdGdtT5kklsZEey0Pkh3IbdgIrk+zi+W0LfYyj5mLqoP+lPYPi3axX4+Dtg+qbmlW3g3yD4AAAAAAAAAAD3ORGkFkpw+AZ2pkApwwT7bLnqLo5bRPgwrQxVr8No+4tPGTm5u5j7p1rVSygPbPnkiZVH6cKY+1zgKn76w7T6OqwKNqwfrPgsrvR4T8+g+92L3Txpv6z6rTC7o8uz2PgAAAAAAAAAAn4ciCT1o\\u002fz5+KMs4j5\\u002fyPj9roxrJovk+J80vBmhJ+D6yb1ka+2n2PnBGVoH3wOI+4wZt5C6T4z4JFeuI0LYDPwAAAAAAAAAAnkHmSA+g+j7zD0vo0qT6PgAAAAAAAAAA7GQFbN6pDj8AAAAAAAAAABCrr+5cc\\u002fM+GYl004tl4D7oE0Qt3LfVPoA0s16rrZs+AAAAAAAAAAAAAAAAAAAAAAAAAAAAAAAAAAAAAAAAAACBWtxAoqajPoLjIafozbg+K6Bthpxiwj5yRaxwKonJPpluuCvJiMQ+qouz6ETatj5wLrWUB9agPgAAAAAAAAAAAAAAAAAAAAAAAAAAAAAAAAAAAAAAAAAAAAAAAAAAAAAAAAAAAAAAAPo0h6agTpI+PgumeW7Joj7QNCaCQgeoPiSCr16jVa0+VYs7uTknsT7sHItZtJCzPrDhb3KdUbY+LFssraMupz64\\u002fgpKqP5vPgAAAAAAAAAAAAAAAAAAAAAAAAAAAAAAAAAAAAAAAAAAAAAAAAAAAAAAAAAAAAAAALw0lDvErZ0+DyMUUMI7sT4iTXJ\\u002fm+iyPk\\u002f3fdxcp6o+4sI5mztpoz72whOH9biXPiaErBE6doE+AAAAAAAAAAAAAAAAAAAAAAAAAAAAAAAAAAAAAAAAAAAAAAAAAAAAAAAAAAAAAAAAAAAAAAAAAAAAAAAAAAAAAAAAAAAAAAAAAAAAAAAAAAAAAAAAAAAAAAAAAAAAAAAAAAAAAAAAAAAAAAAAAAAAAAAAAAAAAAAAAAAAAAAAAAAAAAAAAAAAAAAAAAAAAAAAAAAAAAAAAAAAAAAAAAAAAAAAAAAAAAAAAAAAAAAAAAAAAAAAAAAAAAAAAAAAAAAAAAAAAAAAAAAPCVw+3S41PtJlFbtJPHM+FeEAXfCZgT6YmEQG7qKIPrH4MzSK3I4+eLydZgcJkj6MyjiJf72UPowminDRqpI+XL0t3jYakD6r1WJ6MOaLPhuJt0jM3oc+cAJDP58zhD5vTsj0ttCAPnv5OlQXYns+7x7thvyOdT5TorZstkNwPluYU0hfzGU+FkxqIVwYXz4MDHnuFjFgPmIcO3LlOF8+L2CM9KS+Xj4bvxLe\\u002fhtePnQWRQFDil0+zJwdJbP5XD44cw5fJW5cPr8I9g5G5ls+zc1ush1iWz5ILvk1WuFaPslXf3zLY1o+DEh0PUTpWT6pLMJblHFZPoLTZGOR\\u002fFg+dwpY4BCKWD7WDzLc8BlYPtm5RPYNrFc+Bn\\u002fzdkpAVz4VDm\\u002fljNZWPlWlTUuzblY+62NarawIVj6T+MWSX6RVPmEaF5a5QVU+aYDUUajgVD6teUD2F4FUPsKVwAUAI1Q+qiOXsEzGUz7U4qCk8mpTPtNiQ2TpEFM+KMufBye4Uj5D25I8oGBSPtzyClpPClI+qXH2ti61UT4sf3ZrNGFRPmUbi3dgDlE++j3ex6u8UD60rqIdEmxQPl01CzqPHFA+M0RB40ucTz5BqaI2oQFPPq5hbS8aaU4+em2hzbbSTT5IdabNgz5NPut8uLEtrEw+zdTVx\\u002fwcTD4tSHV8MYxLPnJwMsFpC0s+8AWzcQVZSj5d\\u002fl6r72lKPsUCvlsgrEc+ZUnSg89yTz4AAAAAAAAAAA==\"},\"type\":\"scatter\",\"xaxis\":\"x2\",\"yaxis\":\"y2\"},{\"fill\":\"tonexty\",\"fillcolor\":\"rgba(255, 151, 255, 0.1)\",\"hovertemplate\":\"Expiry: 2025-10-31 09:00:00\\u003cbr\\u003eStrike: %{x:.0f}\\u003cbr\\u003eDensity: %{y:.6f}\\u003cextra\\u003e\\u003c\\u002fextra\\u003e\",\"line\":{\"color\":\"#FF97FF\",\"width\":2},\"mode\":\"lines\",\"name\":\"RN Density - 2025-10-31\",\"x\":{\"dtype\":\"f8\",\"bdata\":\"AAAAAACI40APbPSuyPLjQB\\u002fY6F2RXeRALkTdDFrI5EA+sNG7IjPlQE0cxmrrneVAXYi6GbQI5kBs9K7IfHPmQHxgo3dF3uZAi8yXJg5J50CaOIzV1rPnQKqkgISfHuhAuRB1M2iJ6EDJfGniMPToQNjoXZH5XulA6FRSQMLJ6UD3wEbvijTqQAYtO55Tn+pAFpkvTRwK60AlBST85HTrQDVxGKut3+tARN0MWnZK7EBUSQEJP7XsQGO19bcHIO1AciHqZtCK7UCCjd4VmfXtQJL50sRhYO5AoWXHcyrL7kCw0bsi8zXvQMA9sNG7oO9A6FRSQMIF8EDvisyXJjvwQPfARu+KcPBA\\u002f\\u002fbARu+l8EAGLTueU9vwQA5jtfW3EPFAFpkvTRxG8UAez6mkgHvxQCUFJPzksPFALTueU0nm8UA1cRirrRvyQDynkgISUfJARN0MWnaG8kBME4ex2rvyQFRJAQk\\u002f8fJAXH97YKMm80BjtfW3B1zzQGvrbw9skfNAciHqZtDG80B6V2S+NPzzQIKN3hWZMfRAisNYbf1m9ECS+dLEYZz0QJkvTRzG0fRAoWXHcyoH9UCom0HLjjz1QLDRuyLzcfVAuAc2elen9UDAPbDRu9z1QMhzKikgEvZAz6mkgIRH9kDX3x7Y6Hz2QN4VmS9NsvZA5ksTh7Hn9kDugY3eFR33QPa3BzZ6UvdA\\u002fu2Bjd6H90AFJPzkQr33QA1adjyn8vdAFJDwkwso+EAcxmrrb134QCT85ELUkvhALDJfmjjI+EA0aNnxnP34QDueU0kBM\\u002flAQ9TNoGVo+UBKCkj4yZ35QFJAwk8u0\\u002flAWnY8p5II+kBirLb+9j36QGriMFZbc\\u002fpAcRirrb+o+kB5TiUFJN76QIGEn1yIE\\u002ftAiLoZtOxI+0CQ8JMLUX77QJgmDmO1s\\u002ftAoFyIuhnp+0CnkgISfh78QK\\u002fIfGniU\\u002fxAt\\u002f72wEaJ\\u002fEC+NHEYq778QMZq628P9PxAzqBlx3Mp\\u002fUDW1t8e2F79QN0MWnY8lP1A5ULUzaDJ\\u002fUDteE4lBf\\u002f9QPSuyHxpNP5A\\u002fORC1M1p\\u002fkAEG70rMp\\u002f+QAxRN4OW1P5AE4ex2voJ\\u002f0AbvSsyXz\\u002f\\u002fQCPzpYnDdP9AKikg4Seq\\u002f0AyX5o4jN\\u002f\\u002fQJ1KCkh4CgBBoWXHcyolAEGkgISf3D8AQaibQcuOWgBBrLb+9kB1AEGw0bsi848AQbTseE6lqgBBuAc2elfFAEG8IvOlCeAAQcA9sNG7+gBBxFht\\u002fW0VAUHIcyopIDABQcyO51TSSgFBz6mkgIRlAUHTxGGsNoABQdffHtjomgFB2vrbA5u1AUHeFZkvTdABQeIwVlv\\u002f6gFB5ksTh7EFAkHqZtCyYyACQe6Bjd4VOwJB8pxKCshVAkH2twc2enACQfrSxGEsiwJB\\u002fu2Bjd6lAkECCT+5kMACQQUk\\u002fORC2wJBCT+5EPX1AkENWnY8pxADQRB1M2hZKwNBFJDwkwtGA0EYq62\\u002fvWADQRzGautvewNBIOEnFyKWA0Ek\\u002fORC1LADQSgXom6GywNBLDJfmjjmA0EwTRzG6gAEQTRo2fGcGwRBOIOWHU82BEE7nlNJAVEEQT+5EHWzawRBQ9TNoGWGBEFH74rMF6EEQUoKSPjJuwRBTiUFJHzWBEFSQMJPLvEEQVZbf3vgCwVBWnY8p5ImBUFekfnSREEFQWKstv72WwVBZsdzKql2BUFq4jBWW5EFQW397YENrAVBcRirrb\\u002fGBUF1M2jZceEFQXlOJQUk\\u002fAVBfWniMNYWBkGBhJ9ciDEGQYWfXIg6TAZBiLoZtOxmBkGM1dbfnoEGQZDwkwtRnAZBlAtRNwO3BkGYJg5jtdEGQZxBy45n7AZBoFyIuhkHB0Gjd0XmyyEHQaeSAhJ+PAdBq62\\u002fPTBXB0GvyHxp4nEHQbPjOZWUjAdBt\\u002f72wEanB0G7GbTs+MEHQb40cRir3AdBwk8uRF33B0HGautvDxIIQcqFqJvBLAhBzqBlx3NHCEHSuyLzJWIIQdbW3x7YfAhB2fGcSoqXCEHdDFp2PLIIQeEnF6LuzAhB5ULUzaDnCEHpXZH5UgIJQe14TiUFHQlB8ZMLUbc3CUH0rsh8aVIJQfjJhagbbQlB\\u002fORC1M2HCUEAAAAAgKIJQQ==\"},\"y\":{\"dtype\":\"f8\",\"bdata\":\"AAAAAAAAAAANv1B0hTqoPhhnUwZIhKE+Ki5p1s\\u002fToj6tzOjaNrShPg35avZD7KA+JEfwqMJtnz7JRnZXPIecPvI9jjKXA5k+1Dn0NR7YlD7OmEEBTieQPiqhkmdWoYQ+qqL3XlkOdz5ZLUd16eR6PlyQRwCPpn4++h1oD6Ifgz44HMk9cmyIPnCEGDv6dY8+7S4pHtYklD5E48N18IaZPm5avTMD6p8+5HcnSk++oz63+z+35vqnPkg9pNbQbK0+174m+RNYsD5EN0CbrhCxPvuUbYJWCrI+6Zzzzrv+sj6+Irn+4gC0PmBHWiXZC7U+HOj7oTQhtj5OL74HZkC3PjWW+6oUarg+yCfoPJqcuT69KclaMN66PkN6Vd6WF7w+zc5aOEM1vj6JvpedrU7APpkSxQq2mcE+HPu3dAACwz7LucvRj4jEPlhLEWMRMMY+LZLb08r6xz5e58B9UevJPkwlY41mBMw+tOk2hXdIzj5C6q0A5l3QPslcuXDLrdE+8PM3pJ4J0z4eOBZAXn\\u002fUPm+FiDMUENY+yX3lOxu41z6voupW7ovZPmEP6F+0Pds+7KILE01o3D6iaCsTDajdPmZF9xr5394+bZwBz8kI4D73o0KqaqTgPvlynZhQH+E+nt9VJz9t4T4kXBvUs7XhPp9\\u002f6SUi5uE+e8+KkCQj4j6tu3R9uejhPjU9sdvD0OM+\\u002fOg3GeFR5z7AxduAWNLqPu1ASFId0u4+JhcV+Ihf8T7D3B63kCv0Pifd1pC1nfE+pp\\u002fIPgMu5j5myFjEQl\\u002foPicK4zACRvk+4BtP0PrbAT8AAAAAAAAAAB71fHs0tP0+f8TcEioIAD95sZGCVnPwPgUoix0lt+g+YpqdPLas9D4hgsfzurv6Phz0n\\u002fgJV\\u002fk+ZVcnaCE4+D4Io\\u002f4PnYf1PkLJ+zkZxPM+C5qjCF3\\u002f6D6WW4WVFxzqPn2nqMPoHA4\\u002fDWcq7m7O\\u002fz4g5tgIvlisPrYuS7bm3uI+nFPzAH4oAz\\u002f86yHI6CgHP1SHeSoJUvk+9tTZLl6V5D7gkWH3w13qPsEm\\u002f8FAhfA+pywSz2CP8D40\\u002fb31\\u002f47tPkJaiPJ\\u002f\\u002fO0+AD90f6BE8j7v6O\\u002fgfb\\u002f0Pij650y+ivQ+8WUp+Ywm9T44TaKRGeLvPlYaAoy47do+5b8aBRVF0z6qHM3KIwXvPuEdo6DlP\\u002fg+AAAAAAAAAAAAAAAAAAAAAI3FsqaTq7Q+E+Hr\\u002fCfW7j5HrSoxnXH1Psh6ez5KK+o+W\\u002fmhjqok3j64dmhE4P3ZPq7Y3byLk9c+uFUKI0b51D4sa0TAY63SPt35tReqjNA+etBTbX4jzT5Eppihib\\u002fIPuYkx4YS0MQ+HdkGXcIxwT4TARhIYRm8PqpaJ7AZiLU+Uviob1xCsz6d7kFI7j69PlGarJ\\u002fzMcI+\\u002f0HhnWqUxT4vcc8l2UXIPuEemPQEScs+KF+mq4D9yj6CdU9U1APGPp4016d+X8I++I6k+ieZvT5TRknQ5WW3PktWYUqpALE+sUE6YnVIrT43G4+O5MeuPjhg+rdQzq4+l7cHmuccrz6Mn6608j2vPqylBDDHU68+vLxvl+RXrz41nICwY0+vPpg5irkHOq8+\\u002fGKAwoAhrz5eqWUiOu2uPgFusyu8A68+P5LNEToxrD41+v11Uw2pPq8vG0ofRaY+pXQ3Q96koz52hVzagjShPrsZ7ytu2Z0+2MvK+oqVmT5aSFyBY5eVPmfWXLdx15E+c\\u002fAo6QK0jD6ohT7fnfSFPoJCUd7gY4A+U6m10bJogT4DFf+0YNqBPmGH4KxMZoI+iyt1\\u002f2Degj7cqTeGb0+DPohX71Z2toM+nIzqb+0UhD744HjVU2qEPmIDnv+duYQ+gcpDhPD5hD7xTwp3UE6FPtwe9YPVJIU+R4VPcVZShD5VdtyaBKqDPoZa2yJdAIM+zMohm4Rggj41FdbUAMeBPtUGgxBONIE+oLM6dsingD5SM6T1fyGAPuoN8LrfP38+VBoHPJhOfj6IPoPEM019Pg66COOV\\u002f3w+O3vy7N\\u002fyfD62kql\\u002fGNR8PuzkUuXst3w+Zp6asWOafD6P79yi1nd8PpPLB3wAZHw+rRYSw8QUfD6LSBbmCaB8PtlCdumH+Xk+uKuxSdWegT4AAAAAAAAAAA==\"},\"type\":\"scatter\",\"xaxis\":\"x2\",\"yaxis\":\"y2\"},{\"fill\":\"tonexty\",\"fillcolor\":\"rgba(254, 203, 82, 0.1)\",\"hovertemplate\":\"Expiry: 2025-12-26 09:00:00\\u003cbr\\u003eStrike: %{x:.0f}\\u003cbr\\u003eDensity: %{y:.6f}\\u003cextra\\u003e\\u003c\\u002fextra\\u003e\",\"line\":{\"color\":\"#FECB52\",\"width\":2},\"mode\":\"lines\",\"name\":\"RN Density - 2025-12-26\",\"x\":{\"dtype\":\"f8\",\"bdata\":\"AAAAAACI00DNlyYOY2XVQJkvTRzGQtdAZsdzKikg2UAyX5o4jP3aQP\\u002f2wEbv2txAzI7nVFK43kBME4ex2krgQDJfmjiMOeFAGKutvz0o4kD\\u002f9sBG7xbjQOVC1M2gBeRAzI7nVFL05ECy2vrbA+PlQJgmDmO10eZAfnIh6mbA50BkvjRxGK\\u002foQEsKSPjJnelAMVZbf3uM6kAXom4GLXvrQP7tgY3eaexA5DmVFJBY7UDKhaibQUfuQLDRuyLzNe9AzI7nVFIS8EC+NHEYq4nwQLLa+tsDAfFApYCEn1x48UCYJg5jte\\u002fxQIvMlyYOZ\\u002fJAfnIh6mbe8kByGKutv1XzQGS+NHEYzfNAWGS+NHFE9EBLCkj4ybv0QD6w0bsiM\\u002fVAMVZbf3uq9UAk\\u002fORC1CH2QBeibgYtmfZACkj4yYUQ90D+7YGN3of3QPGTC1E3\\u002f\\u002fdA5DmVFJB2+EDX3x7Y6O34QMqFqJtBZflAvSsyX5rc+UCw0bsi81P6QKR3ReZLy\\u002fpAlx3PqaRC+0CKw1ht\\u002fbn7QH1p4jBWMfxAcA9s9K6o\\u002fEBjtfW3ByD9QFZbf3tgl\\u002f1ASgEJP7kO\\u002fkA9p5ICEob+QDBNHMZq\\u002ff5AI\\u002fOlicN0\\u002f0AWmS9NHOz\\u002fQISfXIi6MQBBfnIh6mZtAEF4ReZLE6kAQXIYq62\\u002f5ABBa+tvD2wgAUFkvjRxGFwBQV6R+dLElwFBWGS+NHHTAUFRN4OWHQ8CQUsKSPjJSgJBRN0MWnaGAkE+sNG7IsICQTeDlh3P\\u002fQJBMVZbf3s5A0ErKSDhJ3UDQST85ELUsANBHs+ppIDsA0EXom4GLSgEQRF1M2jZYwRBCkj4yYWfBEEEG70rMtsEQf7tgY3eFgVB98BG74pSBUHxkwtRN44FQepm0LLjyQVB5DmVFJAFBkHdDFp2PEEGQdffHtjofAZB0bLjOZW4BkHKhaibQfQGQcRYbf3tLwdBvSsyX5prB0G3\\u002fvbARqcHQbDRuyLz4gdBqqSAhJ8eCEGkd0XmS1oIQZ1KCkj4lQhBlx3PqaTRCEGQ8JMLUQ0JQYrDWG39SAlBg5Ydz6mECUF9aeIwVsAJQXc8p5IC\\u002fAlBcA9s9K43CkFq4jBWW3MKQWO19bcHrwpBXYi6GbTqCkFWW397YCYLQVAuRN0MYgtBSgEJP7mdC0FD1M2gZdkLQT2nkgISFQxBNnpXZL5QDEEwTRzGaowMQSkg4ScXyAxBI\\u002fOlicMDDUEdxmrrbz8NQRaZL00cew1BEGz0rsi2DUEJP7kQdfINQQMSfnIhLg5B\\u002fORC1M1pDkH2twc2eqUOQfCKzJcm4Q5B6V2R+dIcD0HjMFZbf1gPQdwDG70rlA9B1tbfHtjPD0HoVFJAwgUQQWS+NHGYIxBB4icXom5BEEFekfnSRF8QQdv62wMbfRBBWGS+NPGaEEHUzaBlx7gQQVE3g5ad1hBBzqBlx3P0EEFLCkj4SRIRQchzKikgMBFBRN0MWvZNEUHBRu+KzGsRQT6w0buiiRFBuxm07HinEUE3g5YdT8URQbTseE4l4xFBMVZbf\\u002fsAEkGuvz2w0R4SQSspIOGnPBJBp5ICEn5aEkEk\\u002fORCVHgSQaFlx3MqlhJBHs+ppAC0EkGbOIzV1tESQReibgat7xJBlAtRN4MNE0ERdTNoWSsTQY7eFZkvSRNBCkj4yQVnE0GHsdr624QTQQQbvSuyohNBgYSfXIjAE0H+7YGNXt4TQXpXZL40\\u002fBNB98BG7woaFEF0Kikg4TcUQfGTC1G3VRRBbv3tgY1zFEHqZtCyY5EUQWfQsuM5rxRB5DmVFBDNFEFho3dF5uoUQd0MWna8CBVBWnY8p5ImFUHX3x7YaEQVQVRJAQk\\u002fYhVB0bLjORWAFUFNHMZq650VQcqFqJvBuxVBR++KzJfZFUHEWG39bfcVQUHCTy5EFRZBvSsyXxozFkE6lRSQ8FAWQbf+9sDGbhZBNGjZ8ZyMFkGw0bsic6oWQS07nlNJyBZBqqSAhB\\u002fmFkEnDmO19QMXQaR3RebLIRdBIOEnF6I\\u002fF0GdSgpIeF0XQRq07HhOexdBlx3PqSSZF0EUh7Ha+rYXQZDwkwvR1BdBDVp2PKfyF0GKw1htfRAYQQctO55TLhhBg5YdzylMGEEAAAAAAGoYQQ==\"},\"y\":{\"dtype\":\"f8\",\"bdata\":\"AAAAAAAAAAB90EqsgcFGPnWJw+UasVA+J71d1Dh1Yj7Klm6NJmFxPm3fH2MhE4E+jJZTZqCRiD5k4cr0jhePPoAwuiA0LpI+2hK3iTytkj6r1YOEtt+JPqu25VXvOX0+PXRvDpzCgD4G9vZy7ICFPgd+ECLTO5A+RcE4BUBvmj6Gu4VMx0+jPkqvIO1lHqU+Z+qCppX9pj6a7YHbEsWnPkCwVgdnEqc+wmhFmI2gpD7bezIKXMKwPmn3s9PX1rs+lY106e5Jwz7T5vTGFqTFPkleXYXgz8g+Nz2eYmiRyD4Cd0tSAWDEPoOR5c3V978+0z5m721Byz5jLrU3UI3WPgYLtkeVzts+tDtteD+z2z4C4aiM+eDaPnanxa0YAOA+Ar12aDB34z7oLfM\\u002fRGHnPqMFyJSiQ+s+mFR0bDoe8D4UzbMzd9vwPk\\u002fGEQdxWPA+BEs\\u002fhP5j7z4s1aqS5HvxPuazMP4FgPM+SZi2ZX5K9D7\\u002fy2hFAnfzPvEHZ536cfI+8O5+bETi8j7JMApQ2oTzPpcMPRjev\\u002fM+J7q0AYo38z4+ZoLcoZjyPj2cnBpwz\\u002fE+RTaofjfr8D5WD6qrDdDvPn2UWO0WQuw+NQgwd1eX6D6M4jwzAH3mPoS\\u002f3TsXQeY+7hqtMcW05T4\\u002fyzEaUqziPkkt5+4Ocd4+7Dpfxr4T2j5wkqWy+wXcPs0QyfIHNd0+eAYfSA282T60dRQu9JHTPppYblrELc4+Ft7FuFG1yj64YN6+svDHPjTYxdzLWsU+OHiwAEUZwz76T2SYdPHAPvYXEYrcr78+HqoW8eQQvj6sak5ZIyy8PofzOGaBKLo+iNgcKbySuD4Y2sOUEhu1PvnwWTtIC7A+Wwl4djypqD4SfLAMqmWiPpV8fdAqKJo+yqQmg9yYkz5cxhP4pL2VPj0zSIPrOpY+Q3E8rqKflj54ZJ0tRZSWPrnkm\\u002fqfR5Y+2GAjZnqikz5yfzFwNVKRPm7JAvyXl44+rPuSBxgdiz6Yva42ctuHPreHVZ0ylYY+GbuQz7HEhT5VnCWqXseEPl9VxHkuvIM+UDz299Tkgj4kaKYS8QSBPjDMqUN02nw+IQlydjjLeD7\\u002f7KxxxS11PiNNU3dwD3I+oyieFMvgbj6Y5KWTgc5qPriifoJTMGc+8sCuoWMVZD5tVSyrk1dhPmHqcxa8XF4+iNB4tUeGYj6l7nyJiPZkPs5kEKPy4mY+5ZiPjW4maD74d2EL7o5pPha9uoZ1NWY+gvSIlkBVYj5JYtrBn2pePpzQogkh0Fg+AFyluDTtUz4dHxmfQzhPPm6r\\u002fl11n0c+lH9YFTrhQD4MoTfHQUo2Pqvyfn9l6yU+8I2lw20CGz75HLV9K0wuPtGgQEiffTQ+tJbDOvGeOT7HFzCp5dU9PoUeo3PssUA+C9HEj6YlQj7Gl692fU5DPqTM5RmxOkQ+tRo5wZzbRD6G+GwED5FFPjUhyDmsTkM+6SE9M3DbQD5e+4Edr4k9PsdBDv+guTk+g56MKh5QNj5qT6yRMz0zPoN3nFh2ezA+OQlKRtD7Kz7tjnPWkKYnPrHdFI6lUyM+v0EJytRzIT4bAop+TxYjPhtZyxe34yM+R+RLA\\u002fm1JD6h2hydGFYlPpQOPRlC1iU+MtXTYBw1Jj4S39yxT3YmPhWImT\\u002finCY+SHUhEDCpJj5ERaHjj6YmPhFPI4pxKCY+pm81zeecJT5NAz8VqRElPt\\u002f\\u002f8DYnhCQ+Al9OTgn2Iz7rjD3l5GcjPpio3oEW2iI+9oG6xqdOIj5pbO3i0sAhPre6UzIeRSE+I+o4HRCHID5dFK5FBO8ePurMnzXSGR0+z3cJGYtaGz7zLwWn\\u002fLsZPo2LiP1dOBg+8csICpfOFj6FdCIognwVPnjgWztxQBQ+tIR9KMkYEz5l2GVWDgQSPgbbAC7kABE+rLIdmgoOED77Gc4NrFQOPpeIxMRtqQw+ob16N14YCz4K+dBGp58JPsR9b9acPQg+p1O3y6zwBj4YI\\u002fUNYrcFPjTg14ZrkAQ+bNX7IIZ6Az4yUMXJmHQCPgU6WGxofQE+6loEApCUAD628+Kr4m3\\u002fPVAL1Mrh1\\u002f09gzB1MvUn\\u002fD1nv+EAdkL7PaZ0qlh1zPc97pscBh1F\\u002fj0AAAAAAAAAAA==\"},\"type\":\"scatter\",\"xaxis\":\"x2\",\"yaxis\":\"y2\"},{\"colorscale\":[[0.0,\"#440154\"],[0.1111111111111111,\"#482878\"],[0.2222222222222222,\"#3e4989\"],[0.3333333333333333,\"#31688e\"],[0.4444444444444444,\"#26828e\"],[0.5555555555555556,\"#1f9e89\"],[0.6666666666666666,\"#35b779\"],[0.7777777777777778,\"#6ece58\"],[0.8888888888888888,\"#b5de2b\"],[1.0,\"#fde725\"]],\"hovertemplate\":\"Strike: %{x:.0f}\\u003cbr\\u003eDays to Expiry: %{y:.1f}\\u003cbr\\u003eIV: %{z:.1f}%\\u003cextra\\u003e\\u003c\\u002fextra\\u003e\",\"name\":\"IV Surface\",\"x\":{\"dtype\":\"f8\",\"bdata\":\"AAAAAACI00A\\u002fNNaHxhrbQD801ofGVuFAXk7Byykg5UB+aKwPjenoQJ2Cl1PwsuxAXk7Byyk+8EBu27Zt2yLyQH5orA+NB\\u002fRAjfWhsT7s9UCdgpdT8ND3QK0PjfWhtflAvJyCl1Oa+0DMKXg5BX\\u002f9QNy2bdu2Y\\u002f9A9qGxPjSkAEF+aKwPjZYBQQUvp+DliAJBjfWhsT57A0EVvJyCl20EQZ2Cl1PwXwVBJUmSJElSBkGtD431oUQHQTTWh8b6NghBvJyCl1MpCUFEY31orBsKQcwpeDkFDgtBVPByCl4ADEHctm3btvIMQWN9aKwP5Q1B60NjfWjXDkFzCl5OwckPQX5orA8NXhBBwsspeDnXEEEFL6fgZVARQUmSJEmSyRFBjfWhsb5CEkHRWB8a67sSQRW8nIIXNRNBWR8a60OuE0GdgpdTcCcUQeHlFLycoBRBJUmSJMkZFUFprA+N9ZIVQa0PjfUhDBZB8HIKXk6FFkE01ofGev4WQXg5BS+ndxdBvJyCl9PwF0EAAAAAAGoYQQAAAAAAiNNAPzTWh8Ya20A\\u002fNNaHxlbhQF5OwcspIOVAfmisD43p6ECdgpdT8LLsQF5OwcspPvBAbtu2bdsi8kB+aKwPjQf0QI31obE+7PVAnYKXU\\u002fDQ90CtD431obX5QLycgpdTmvtAzCl4OQV\\u002f\\u002fUDctm3btmP\\u002fQPahsT40pABBfmisD42WAUEFL6fg5YgCQY31obE+ewNBFbycgpdtBEGdgpdT8F8FQSVJkiRJUgZBrQ+N9aFEB0E01ofG+jYIQbycgpdTKQlBRGN9aKwbCkHMKXg5BQ4LQVTwcgpeAAxB3LZt27byDEFjfWisD+UNQetDY31o1w5BcwpeTsHJD0F+aKwPDV4QQcLLKXg51xBBBS+n4GVQEUFJkiRJkskRQY31obG+QhJB0VgfGuu7EkEVvJyCFzUTQVkfGutDrhNBnYKXU3AnFEHh5RS8nKAUQSVJkiTJGRVBaawPjfWSFUGtD431IQwWQfByCl5OhRZBNNaHxnr+FkF4OQUvp3cXQbycgpfT8BdBAAAAAABqGEEAAAAAAIjTQD801ofGGttAPzTWh8ZW4UBeTsHLKSDlQH5orA+N6ehAnYKXU\\u002fCy7EBeTsHLKT7wQG7btm3bIvJAfmisD40H9ECN9aGxPuz1QJ2Cl1Pw0PdArQ+N9aG1+UC8nIKXU5r7QMwpeDkFf\\u002f1A3LZt27Zj\\u002f0D2obE+NKQAQX5orA+NlgFBBS+n4OWIAkGN9aGxPnsDQRW8nIKXbQRBnYKXU\\u002fBfBUElSZIkSVIGQa0PjfWhRAdBNNaHxvo2CEG8nIKXUykJQURjfWisGwpBzCl4OQUOC0FU8HIKXgAMQdy2bdu28gxBY31orA\\u002flDUHrQ2N9aNcOQXMKXk7ByQ9BfmisDw1eEEHCyyl4OdcQQQUvp+BlUBFBSZIkSZLJEUGN9aGxvkISQdFYHxrruxJBFbycghc1E0FZHxrrQ64TQZ2Cl1NwJxRB4eUUvJygFEElSZIkyRkVQWmsD431khVBrQ+N9SEMFkHwcgpeToUWQTTWh8Z6\\u002fhZBeDkFL6d3F0G8nIKX0\\u002fAXQQAAAAAAahhBAAAAAACI00A\\u002fNNaHxhrbQD801ofGVuFAXk7Byykg5UB+aKwPjenoQJ2Cl1PwsuxAXk7Byyk+8EBu27Zt2yLyQH5orA+NB\\u002fRAjfWhsT7s9UCdgpdT8ND3QK0PjfWhtflAvJyCl1Oa+0DMKXg5BX\\u002f9QNy2bdu2Y\\u002f9A9qGxPjSkAEF+aKwPjZYBQQUvp+DliAJBjfWhsT57A0EVvJyCl20EQZ2Cl1PwXwVBJUmSJElSBkGtD431oUQHQTTWh8b6NghBvJyCl1MpCUFEY31orBsKQcwpeDkFDgtBVPByCl4ADEHctm3btvIMQWN9aKwP5Q1B60NjfWjXDkFzCl5OwckPQX5orA8NXhBBwsspeDnXEEEFL6fgZVARQUmSJEmSyRFBjfWhsb5CEkHRWB8a67sSQRW8nIIXNRNBWR8a60OuE0GdgpdTcCcUQeHlFLycoBRBJUmSJMkZFUFprA+N9ZIVQa0PjfUhDBZB8HIKXk6FFkE01ofGev4WQXg5BS+ndxdBvJyCl9PwF0EAAAAAAGoYQQAAAAAAiNNAPzTWh8Ya20A\\u002fNNaHxlbhQF5OwcspIOVAfmisD43p6ECdgpdT8LLsQF5OwcspPvBAbtu2bdsi8kB+aKwPjQf0QI31obE+7PVAnYKXU\\u002fDQ90CtD431obX5QLycgpdTmvtAzCl4OQV\\u002f\\u002fUDctm3btmP\\u002fQPahsT40pABBfmisD42WAUEFL6fg5YgCQY31obE+ewNBFbycgpdtBEGdgpdT8F8FQSVJkiRJUgZBrQ+N9aFEB0E01ofG+jYIQbycgpdTKQlBRGN9aKwbCkHMKXg5BQ4LQVTwcgpeAAxB3LZt27byDEFjfWisD+UNQetDY31o1w5BcwpeTsHJD0F+aKwPDV4QQcLLKXg51xBBBS+n4GVQEUFJkiRJkskRQY31obG+QhJB0VgfGuu7EkEVvJyCFzUTQVkfGutDrhNBnYKXU3AnFEHh5RS8nKAUQSVJkiTJGRVBaawPjfWSFUGtD431IQwWQfByCl5OhRZBNNaHxnr+FkF4OQUvp3cXQbycgpfT8BdBAAAAAABqGEEAAAAAAIjTQD801ofGGttAPzTWh8ZW4UBeTsHLKSDlQH5orA+N6ehAnYKXU\\u002fCy7EBeTsHLKT7wQG7btm3bIvJAfmisD40H9ECN9aGxPuz1QJ2Cl1Pw0PdArQ+N9aG1+UC8nIKXU5r7QMwpeDkFf\\u002f1A3LZt27Zj\\u002f0D2obE+NKQAQX5orA+NlgFBBS+n4OWIAkGN9aGxPnsDQRW8nIKXbQRBnYKXU\\u002fBfBUElSZIkSVIGQa0PjfWhRAdBNNaHxvo2CEG8nIKXUykJQURjfWisGwpBzCl4OQUOC0FU8HIKXgAMQdy2bdu28gxBY31orA\\u002flDUHrQ2N9aNcOQXMKXk7ByQ9BfmisDw1eEEHCyyl4OdcQQQUvp+BlUBFBSZIkSZLJEUGN9aGxvkISQdFYHxrruxJBFbycghc1E0FZHxrrQ64TQZ2Cl1NwJxRB4eUUvJygFEElSZIkyRkVQWmsD431khVBrQ+N9SEMFkHwcgpeToUWQTTWh8Z6\\u002fhZBeDkFL6d3F0G8nIKX0\\u002fAXQQAAAAAAahhBAAAAAACI00A\\u002fNNaHxhrbQD801ofGVuFAXk7Byykg5UB+aKwPjenoQJ2Cl1PwsuxAXk7Byyk+8EBu27Zt2yLyQH5orA+NB\\u002fRAjfWhsT7s9UCdgpdT8ND3QK0PjfWhtflAvJyCl1Oa+0DMKXg5BX\\u002f9QNy2bdu2Y\\u002f9A9qGxPjSkAEF+aKwPjZYBQQUvp+DliAJBjfWhsT57A0EVvJyCl20EQZ2Cl1PwXwVBJUmSJElSBkGtD431oUQHQTTWh8b6NghBvJyCl1MpCUFEY31orBsKQcwpeDkFDgtBVPByCl4ADEHctm3btvIMQWN9aKwP5Q1B60NjfWjXDkFzCl5OwckPQX5orA8NXhBBwsspeDnXEEEFL6fgZVARQUmSJEmSyRFBjfWhsb5CEkHRWB8a67sSQRW8nIIXNRNBWR8a60OuE0GdgpdTcCcUQeHlFLycoBRBJUmSJMkZFUFprA+N9ZIVQa0PjfUhDBZB8HIKXk6FFkE01ofGev4WQXg5BS+ndxdBvJyCl9PwF0EAAAAAAGoYQQAAAAAAiNNAPzTWh8Ya20A\\u002fNNaHxlbhQF5OwcspIOVAfmisD43p6ECdgpdT8LLsQF5OwcspPvBAbtu2bdsi8kB+aKwPjQf0QI31obE+7PVAnYKXU\\u002fDQ90CtD431obX5QLycgpdTmvtAzCl4OQV\\u002f\\u002fUDctm3btmP\\u002fQPahsT40pABBfmisD42WAUEFL6fg5YgCQY31obE+ewNBFbycgpdtBEGdgpdT8F8FQSVJkiRJUgZBrQ+N9aFEB0E01ofG+jYIQbycgpdTKQlBRGN9aKwbCkHMKXg5BQ4LQVTwcgpeAAxB3LZt27byDEFjfWisD+UNQetDY31o1w5BcwpeTsHJD0F+aKwPDV4QQcLLKXg51xBBBS+n4GVQEUFJkiRJkskRQY31obG+QhJB0VgfGuu7EkEVvJyCFzUTQVkfGutDrhNBnYKXU3AnFEHh5RS8nKAUQSVJkiTJGRVBaawPjfWSFUGtD431IQwWQfByCl5OhRZBNNaHxnr+FkF4OQUvp3cXQbycgpfT8BdBAAAAAABqGEEAAAAAAIjTQD801ofGGttAPzTWh8ZW4UBeTsHLKSDlQH5orA+N6ehAnYKXU\\u002fCy7EBeTsHLKT7wQG7btm3bIvJAfmisD40H9ECN9aGxPuz1QJ2Cl1Pw0PdArQ+N9aG1+UC8nIKXU5r7QMwpeDkFf\\u002f1A3LZt27Zj\\u002f0D2obE+NKQAQX5orA+NlgFBBS+n4OWIAkGN9aGxPnsDQRW8nIKXbQRBnYKXU\\u002fBfBUElSZIkSVIGQa0PjfWhRAdBNNaHxvo2CEG8nIKXUykJQURjfWisGwpBzCl4OQUOC0FU8HIKXgAMQdy2bdu28gxBY31orA\\u002flDUHrQ2N9aNcOQXMKXk7ByQ9BfmisDw1eEEHCyyl4OdcQQQUvp+BlUBFBSZIkSZLJEUGN9aGxvkISQdFYHxrruxJBFbycghc1E0FZHxrrQ64TQZ2Cl1NwJxRB4eUUvJygFEElSZIkyRkVQWmsD431khVBrQ+N9SEMFkHwcgpeToUWQTTWh8Z6\\u002fhZBeDkFL6d3F0G8nIKX0\\u002fAXQQAAAAAAahhBAAAAAACI00A\\u002fNNaHxhrbQD801ofGVuFAXk7Byykg5UB+aKwPjenoQJ2Cl1PwsuxAXk7Byyk+8EBu27Zt2yLyQH5orA+NB\\u002fRAjfWhsT7s9UCdgpdT8ND3QK0PjfWhtflAvJyCl1Oa+0DMKXg5BX\\u002f9QNy2bdu2Y\\u002f9A9qGxPjSkAEF+aKwPjZYBQQUvp+DliAJBjfWhsT57A0EVvJyCl20EQZ2Cl1PwXwVBJUmSJElSBkGtD431oUQHQTTWh8b6NghBvJyCl1MpCUFEY31orBsKQcwpeDkFDgtBVPByCl4ADEHctm3btvIMQWN9aKwP5Q1B60NjfWjXDkFzCl5OwckPQX5orA8NXhBBwsspeDnXEEEFL6fgZVARQUmSJEmSyRFBjfWhsb5CEkHRWB8a67sSQRW8nIIXNRNBWR8a60OuE0GdgpdTcCcUQeHlFLycoBRBJUmSJMkZFUFprA+N9ZIVQa0PjfUhDBZB8HIKXk6FFkE01ofGev4WQXg5BS+ndxdBvJyCl9PwF0EAAAAAAGoYQQ==\",\"shape\":\"10, 50\"},\"y\":{\"dtype\":\"f8\",\"bdata\":\"AAAAAAAAAAAAAAAAAAAAAAAAAAAAAAAAAAAAAAAAAAAAAAAAAAAAAAAAAAAAAAAAAAAAAAAAAAAAAAAAAAAAAAAAAAAAAAAAAAAAAAAAAAAAAAAAAAAAAAAAAAAAAAAAAAAAAAAAAAAAAAAAAAAAAAAAAAAAAAAAAAAAAAAAAAAAAAAAAAAAAAAAAAAAAAAAAAAAAAAAAAAAAAAAAAAAAAAAAAAAAAAAAAAAAAAAAAAAAAAAAAAAAAAAAAAAAAAAAAAAAAAAAAAAAAAAAAAAAAAAAAAAAAAAAAAAAAAAAAAAAAAAAAAAAAAAAAAAAAAAAAAAAAAAAAAAAAAAAAAAAAAAAAAAAAAAAAAAAAAAAAAAAAAAAAAAAAAAAAAAAAAAAAAAAAAAAAAAAAAAAAAAAAAAAAAAAAAAAAAAAAAAAAAAAAAAAAAAAAAAAAAAAAAAAAAAAAAAAAAAAAAAAAAAAAAAAAAAAAAAAAAAAAAAAAAAAAAAAAAAAAAAAAAAAAAAAAAAAAAAAAAAAAAAAAAAAAAAAAAAAPA\\u002fAAAAAAAA8D8AAAAAAADwPwAAAAAAAPA\\u002fAAAAAAAA8D8AAAAAAADwPwAAAAAAAPA\\u002fAAAAAAAA8D8AAAAAAADwPwAAAAAAAPA\\u002fAAAAAAAA8D8AAAAAAADwPwAAAAAAAPA\\u002fAAAAAAAA8D8AAAAAAADwPwAAAAAAAPA\\u002fAAAAAAAA8D8AAAAAAADwPwAAAAAAAPA\\u002fAAAAAAAA8D8AAAAAAADwPwAAAAAAAPA\\u002fAAAAAAAA8D8AAAAAAADwPwAAAAAAAPA\\u002fAAAAAAAA8D8AAAAAAADwPwAAAAAAAPA\\u002fAAAAAAAA8D8AAAAAAADwPwAAAAAAAPA\\u002fAAAAAAAA8D8AAAAAAADwPwAAAAAAAPA\\u002fAAAAAAAA8D8AAAAAAADwPwAAAAAAAPA\\u002fAAAAAAAA8D8AAAAAAADwPwAAAAAAAPA\\u002fAAAAAAAA8D8AAAAAAADwPwAAAAAAAPA\\u002fAAAAAAAA8D8AAAAAAADwPwAAAAAAAPA\\u002fAAAAAAAA8D8AAAAAAADwPwAAAAAAAPA\\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\",\"shape\":\"10, 50\"},\"z\":{\"dtype\":\"f8\",\"bdata\":\"YGsBt16ts8C49yo3dx+rwN+Ex\\u002f6xn6HAXdcMEo4IlcCGZlZoPtiFwLvhF7En73DAsHVArjBQMsC\\u002fWP0BnJxZQPqVRZ8Y3WBAo6xbBIupXkB5djP6IudaQLg4ry4pPVFASioCBONCQEDt8AYXJj9LQHHsSaYRQ1FApK5Uy3auUUDkXtxzvJBSQBjVfV2NilJAXR\\u002fZHOWIUkD+fZAD1IhSQDPOgPMzi1JAbFAm9xSYUkAkiAlmh7dSQNn4speb8VJABSar42FOU0Alk3qh6tVTQLjDqShGkFRAOTvB0ISFVUAjfUnxtr1WQPAMy+HsQFhAIW7O+TYXWkAxJNyQpUhcQKCyfP5I3V5AcU4czZjuYEA4M8zdN6hiQGpJEt2Jn2RAw9Ky9pbYZkD\\u002fEHJWZ1dpQN1FFCgDIGxAHLNdl3I2b0A9TQnoXk9xQNme+352LnNAQ+9nJoQ6dUBbXzD0i3V3QP4PN\\u002f6R4XlABCJeWpqAfEBbtoceqVR\\u002fQO32SjDhL4FAsXQ1G\\u002fXRgkDoZPRakpGEQGlWJpj+muBA8X5hNXYP2UCSFKxSNV\\u002fSQN8JZy5EAMpAfc79I0iawUDuSlVIi4S2QOn07jMvuKpA0CH6402bnECTjjYM6YKKQEA3y\\u002fosRXRArY4i46+UW0DghVmhlv1MQDL8TPFtPkJAeS+C1aTYRUDBPJDSzc9PQHn99n8YmGLAv3fKNrrUjsBAyQUByTamwPC4lwSp4LfA84VZs\\u002fLZxcBgB5yOpgfSwG+L2gSSqtvAko+n8A0c5MA6SXAkUgnswF5tHdgi5\\u002fLACFY9UwzO+MCektGM\\u002fdH\\u002fwI7rCUfHBQTBw+sesKvJCMHlo0QG+EAOwQL3Cyf8OxLBCtIaRny9FcESUJ1iIqsZwRLe4X4UCx7Bf3SbTrxxIcH5bvVfOh0kwe8UpnQXCyfB45zUjWY+KsFTPaisOrotwWEWJGnTwDDB1dDt\\u002f97LMsFJ6USbyf80wf36vLscXjfBLqHp4WHoOcEed16OIqA8wQcYr0Hohj\\u002fBmo83Ph5PQcHvE5lf1PNCwaPmRUVbskTBWNWHr3eLRsFH3HIDE\\u002fOkQI+TH2ZiDqBAir51xBURmEDd\\u002fJSow5WRQDLAUGPy+ohAnMx2McI1gUAMNmZbmAJ3QBCeciiXC25Aqbgp45F\\u002fY0BkWJte7exZQODRdKo2C1JA0nwvdVYJSUAVEZ5UcyFAQEf+NAqk\\u002f0JAtsfJ8mhhUkCZYB0IwcV1QCjksQ6345FAyiR+5UtzpUB0pC3T7zi1QL8YNk2biMJA6133vnKuzUBwUcrsmU3WQGT04xsK7t9ALMwSXZL\\u002f5UD5HnZKwmPtQHE5ZR5xI\\u002fNAGCRfzR9m+ECUD4Dlk4v+QAWeDw260gJBzPRJj7PiBkE6rBrTiX4LQS6yFhmIVxBBpt4WA40+E0GIq2NUvXgWQdfo0rmCChpBsGY64Eb4HUGG+je6OSMhQf+xpBG5fCNBxUHOTNYKJkHbkR9Cxs8oQUmKA8i9zStBFBPltPEGL0Efipdvyz4xQeY6pg7xGTNB4Q\\u002fUIgQWNUEPfVYXHzQ3QXr2YldcdTlBHvAuTtbaO0EF3u9mp2U+QRWabQZ1i0BB+aiZhoU6y8C+OQSGUmvEwMpcuaClrr3ALuJippG+tMDSr0Pw24+rwJ8kJuJ+GKHAo5ZNsSs0k8ALMv0nql6CwNAMlcZqRGnAUseAHvbzIsD+vd6p+FBKQBV2vuvJVUdAnZIqDcG7PkC5\\u002fY7lcX9BQN41OPj\\u002fgkZAM9EIPT6EQUAkcB3SV5kywFZ7x8Xlb2HA24pGfYv0dcDCF\\u002fYvrSyFwCmnnacW2JHAyvAh0+Ggm8CDMrhvmyekwALAuEjKIKzAim+Da571ssDnZos+Gdu4wCplrk512L\\u002fAsESTJqkCxMBM+Zb1p7zIwOxf\\u002f+wGJs7AEcS08kol0sC5QLlbEpvVwLWt251BetnAwZJqpcDI3cDNO1qvO0bhwA3yA9um5ePA\\u002fK\\u002fZy5XF5sB\\u002fuQJ4\\u002fOjpwHNSptXOUu3AX991bQCD8MAgIf0+w4LywG6QfNopqvTAO88HO6769sB1f7JbynX5wBBDkDf4HPzA9Lu0ybHx\\u002fsAQxpmGuPoAwcAqkP7XlALBAV1HSvRHBMHNLUlnyhQGwYNYCH3uZGNA\\u002fz5JqpiDZEAvXTk+glRjQCFlFLwtTWFAIzNOU3rFX0ChWC\\u002f3LjhfQMk17pIXgV1Abv1juUbvWUAf7GBknClWQMY9vOu4ilJANsGbXJYMTUCLN3LjVbpFQNNyAPM340BAvNV1pD1NQUCO1fXNSPJFQI77IHJpp0pAOEPaHNuyUEB4qJVKg5FSQI+7k7PJvVNAizSbIIDWU0DdSiNQ1LxTQGa9tM0oy1NArICAWeLVU0DT9BlOP+FTQPmEroVV9VNAPpxr2joaVEC\\u002fpX4mBVhUQJsMFUTKtlRA8TtcDaA+VUDgnoFcnPdVQIegsgvV6VZABKwc9V8dWEB2LO3yUppZQPyMUd\\u002fDaFtArzh3lMiQXUBczUV2Ow1gQBcP3mDyhmFAGhcb95M5Y0D0mhMmKyllQDJQ3trCWWdAZuyRAmbPaUAfJUWKH45sQOuvDl\\u002f6mW9ALaECt4B7cUD+yB\\u002fSn1RzQCwqavdfWnVAhh9tncaOd0DQA7Q62fN5QNIxykWdi3xAVQQ7NRhYf0CAOeqDHgWBwG42cJo\\u002fXHPASGnpEHdeYcBBHgblvLA2wF5scrykQ0hAh5XjsqoNVUBixQPT7XdXQKH038wvwVVAKlK+rgRKUkBosvncDGtOQMCDwc\\u002fFj0hAtQcudL79Q0CrnaQ+QRhBQLp1\\u002fZHln0BAJxUoC8WrQkBjVkdkNwFGQGVnWAlqQklACufL6WzcTEBbbW5u\\u002f7tQQOgj41zv3lNA3Znhq2UrWEDtUQfHwfVdQGbn+IwxyWJAjkkfiNSqZ0DUkMWK+cltQEY\\u002fXSVoqHJABmrmPsQ0d0BbqeXsKJ98QPYuIQVXfoFAMfTxuDUxhUC81Fh\\u002fvHKJQOmAyUV3TY5AitTb\\u002fPjlkUDEfktEXPyUQEmX7W8rb5hAU\\u002fZ7dqxDnEADOlinkj+gQEd0ovdtk6JACZZ5JwsgpUBhizoyDeinQGJAQhMX7qpAJqHtxcs0rkDfzMwiZ9+wQCGL0cZgx7JAZIGzTKTTtECtJSEygwW3QBHuyPROXrlAlVBZElnfu0BFw4AI84m+QBbediq3r8BA5JRzZyPLmsDh20gS8VqTwL3O3jHHwIrAfB12Ur5mgcB9pf7DH690wC91iPAQDGXAVr5iyDuOTcDVWGmWoIQbQFD78hSmz0NAGcaTg3SSSEBEnzSkebxGQA\\u002fuhY4LUUNA79+v2skYQUDWORJhprJAQETHgXFwHkJA9FlLueEWREBlkNhUIhhEQHh\\u002fU+rDcj9ANvT8LEFHIkAERc3vxY4\\u002fwOrEoxGE3VfA9sh44XtsZ8BqI9ctnYJzwFwjmcWYqX3A4CzxYCU8hcD3XUmW5h2NwM6P4oNOUJPAQDYq3Wr1mMCpn3PZjpGfwKtkm30AnKPAWNh14gP+p8CEKYXcdPiswG+rglZ7SrHAgi+ZSpZutMBRICTrXO23wDx9wdigy7vAyaIH2hkHwMBUvNWO81zCwOwKGlvG6cTAO44jD\\u002fuvx8DnRUF7+rHKwKMxwm8t8s3Ai6h6Xn650MD20ZSZaJvSwOYUV9EJoNTALvHobZbI1sCr5nHXQhbZwDB1GXZDitvAkRwHsswl3sBRLrF5CXXgwFK4HoXrGWBA9AL+Cyc7YEBzkbFVtQBeQAKUM+1Wi1pAH3fiFKDWVkD3gsWy299UQB9QcKb0y1JA41CSBzIjUEBRRxgKKxVMQGgTs4dGq0hAEcBjwDyIRUAVsU\\u002fzEP9CQA4zoHJoO0FATBjad4SwQEDG7KC\\u002fjhdBQNSjuXU6wEJAFUUPWmOfREAluCOz6KVGQGacTmOHLkhA5FYgZXg7SkCk64bvcv9LQBBrLyPsW01AXHniYOfxTkDefxL+p2pQQFEU0NwbAlFAz\\u002fzAJQaMUUDWd5TsM0NSQEhBakyk9VJA4E7+t3WaU0BCyl70Xi5UQLOcXfoWp1RAh83JBmD1VECuiUTLUhNVQMSpYcJMG1VA8KPRSL4tVUD670d+2lVVQAbNptAUiFVAv2qXTU+5VUAUWS3+7eZVQKixsEY9EVZAF4KXMIo4VkAB2FfFIV1WQALBZw5Rf1ZAtko9FWWfVkC7gk7jqr1WQK92EYJv2lZALjT8+v\\u002f1VkDXyIRXqRBXQERCIaG4KldAFK5H4XpEV0DrBkPhFI9aQFnPMb3QTlhAzySPQFiBVkDGegw9991UQD9NPEkNHFNA++CmIskjUUAERPWA6qROQCFuePSydEtAsUGj0Y60SEBNAbNge3tGQM9e2ehAkkRAeDt+gIIVQ0AiPU9wFRJCQMEnThwUf0FA7MWYI6yJQUBl94E\\u002f3Q5CQN2ezYLWxkJAVG8F+JK1Q0CF9onC76REQFAb+TMvr0VAhw\\u002faopzRRkBoiNUybftHQPS+YkfhC0lAKidPScYMSkDgiID6VQJLQBWg25Rs80tA5Rx9KP\\u002foTECDyvGnBexNQCZ0xgV4BU9AfvJDGicfUEAhdGETwM9QQJIkgucCmVFAbmnsj2t\\u002fUkBOqOYFdodTQMlGt0KetVRAgKqkP2AOVkAIOfX1N5ZXQP1X716hUVlA+WzZcxhFW0CV3fktGXVdQGwPl4Yf5l9ADbR7u1NOYUCbpjB8ls5iQC2SDQIWdmRAkam1SRBHZkCQH8xPw0NoQP4m9BBtbmpApfLQiUvJbEBTtQW3nFZvQOrQmkpPDHFAAAAAAAAQWUCAT4Msqb9VQN4k+PTtv1NA9YwCXetDUkCM8D1TtY5QQKtCyK4VQ05AoyXnlW6mS0AWsS9CE71JQOCrTMSY1kdAhG+LOrFURkCXlygCgEVFQK1q3WbKn0RAoX6K7jU2RECRVzvuJPpDQIC4qFen\\u002fENApmNSLnMcRECoDQR4V1FEQCrkyrOvs0RATQmOEo8fRUAPgCGM\\u002fI5FQFwDiVY4KEZA0UUpJL3LRkAwXlC7v1RHQCYRWNgx2UdAIAACkeZYSEDjazcBEN1IQEdLX\\u002fkpZ0lAVydYAbTqSUCbvxS6PGJKQCWyQ8e44kpAD3OzIZBuS0B73u6St\\u002fRLQEjxWgwqaUxA3+\\u002fq+XXSTECuQbCh1jpNQDIsePv3pE1AmOEYI20LTkDwOdisbmlOQA+k6Hjxv05AdOvSqN4RT0DERcR4tWFPQCNceGdIsU9A7J294BsBUEBH36KWdSpQQL91ybaRVFBA0X0m2k9\\u002fUED2E6+Zj6pQQKxUWI4w1lBAalwXURICUUCuR+F6FC5RQA==\",\"shape\":\"10, 50\"},\"type\":\"surface\",\"scene\":\"scene\"},{\"hovertemplate\":\"Expiry: %{x}\\u003cbr\\u003eAvg IV: %{y:.1f}%\\u003cextra\\u003e\\u003c\\u002fextra\\u003e\",\"marker\":{\"color\":\"lightblue\"},\"name\":\"Avg IV\",\"x\":[\"2025-08-22\",\"2025-08-23\",\"2025-08-24\",\"2025-08-25\",\"2025-08-29\",\"2025-09-05\",\"2025-09-12\",\"2025-09-26\",\"2025-10-31\",\"2025-12-26\"],\"y\":[63.009210526315776,42.39874999999999,37.034666666666666,33.98571428571429,56.93919999999999,40.160000000000004,35.45,56.250000000000014,42.81634146341464,51.990526315789474],\"type\":\"bar\",\"xaxis\":\"x3\",\"yaxis\":\"y3\"},{\"hovertemplate\":\"Expiry: %{x}\\u003cbr\\u003eIV Std: %{y:.1f}%\\u003cextra\\u003e\\u003c\\u002fextra\\u003e\",\"marker\":{\"color\":\"orange\"},\"name\":\"IV Std Dev\",\"x\":[\"2025-08-22\",\"2025-08-23\",\"2025-08-24\",\"2025-08-25\",\"2025-08-29\",\"2025-09-05\",\"2025-09-12\",\"2025-09-26\",\"2025-10-31\",\"2025-12-26\"],\"y\":[20.993491771145468,6.789352762782326,6.597661067041528,4.498089617168785,26.561256810625505,11.15268897748751,2.5893946601247086,25.45818555985481,11.490014701236124,13.312047164992757],\"yaxis\":\"y3\",\"type\":\"bar\",\"xaxis\":\"x3\"}],                        {\"template\":{\"data\":{\"histogram2dcontour\":[{\"type\":\"histogram2dcontour\",\"colorbar\":{\"outlinewidth\":0,\"ticks\":\"\"},\"colorscale\":[[0.0,\"#0d0887\"],[0.1111111111111111,\"#46039f\"],[0.2222222222222222,\"#7201a8\"],[0.3333333333333333,\"#9c179e\"],[0.4444444444444444,\"#bd3786\"],[0.5555555555555556,\"#d8576b\"],[0.6666666666666666,\"#ed7953\"],[0.7777777777777778,\"#fb9f3a\"],[0.8888888888888888,\"#fdca26\"],[1.0,\"#f0f921\"]]}],\"choropleth\":[{\"type\":\"choropleth\",\"colorbar\":{\"outlinewidth\":0,\"ticks\":\"\"}}],\"histogram2d\":[{\"type\":\"histogram2d\",\"colorbar\":{\"outlinewidth\":0,\"ticks\":\"\"},\"colorscale\":[[0.0,\"#0d0887\"],[0.1111111111111111,\"#46039f\"],[0.2222222222222222,\"#7201a8\"],[0.3333333333333333,\"#9c179e\"],[0.4444444444444444,\"#bd3786\"],[0.5555555555555556,\"#d8576b\"],[0.6666666666666666,\"#ed7953\"],[0.7777777777777778,\"#fb9f3a\"],[0.8888888888888888,\"#fdca26\"],[1.0,\"#f0f921\"]]}],\"heatmap\":[{\"type\":\"heatmap\",\"colorbar\":{\"outlinewidth\":0,\"ticks\":\"\"},\"colorscale\":[[0.0,\"#0d0887\"],[0.1111111111111111,\"#46039f\"],[0.2222222222222222,\"#7201a8\"],[0.3333333333333333,\"#9c179e\"],[0.4444444444444444,\"#bd3786\"],[0.5555555555555556,\"#d8576b\"],[0.6666666666666666,\"#ed7953\"],[0.7777777777777778,\"#fb9f3a\"],[0.8888888888888888,\"#fdca26\"],[1.0,\"#f0f921\"]]}],\"contourcarpet\":[{\"type\":\"contourcarpet\",\"colorbar\":{\"outlinewidth\":0,\"ticks\":\"\"}}],\"contour\":[{\"type\":\"contour\",\"colorbar\":{\"outlinewidth\":0,\"ticks\":\"\"},\"colorscale\":[[0.0,\"#0d0887\"],[0.1111111111111111,\"#46039f\"],[0.2222222222222222,\"#7201a8\"],[0.3333333333333333,\"#9c179e\"],[0.4444444444444444,\"#bd3786\"],[0.5555555555555556,\"#d8576b\"],[0.6666666666666666,\"#ed7953\"],[0.7777777777777778,\"#fb9f3a\"],[0.8888888888888888,\"#fdca26\"],[1.0,\"#f0f921\"]]}],\"surface\":[{\"type\":\"surface\",\"colorbar\":{\"outlinewidth\":0,\"ticks\":\"\"},\"colorscale\":[[0.0,\"#0d0887\"],[0.1111111111111111,\"#46039f\"],[0.2222222222222222,\"#7201a8\"],[0.3333333333333333,\"#9c179e\"],[0.4444444444444444,\"#bd3786\"],[0.5555555555555556,\"#d8576b\"],[0.6666666666666666,\"#ed7953\"],[0.7777777777777778,\"#fb9f3a\"],[0.8888888888888888,\"#fdca26\"],[1.0,\"#f0f921\"]]}],\"mesh3d\":[{\"type\":\"mesh3d\",\"colorbar\":{\"outlinewidth\":0,\"ticks\":\"\"}}],\"scatter\":[{\"fillpattern\":{\"fillmode\":\"overlay\",\"size\":10,\"solidity\":0.2},\"type\":\"scatter\"}],\"parcoords\":[{\"type\":\"parcoords\",\"line\":{\"colorbar\":{\"outlinewidth\":0,\"ticks\":\"\"}}}],\"scatterpolargl\":[{\"type\":\"scatterpolargl\",\"marker\":{\"colorbar\":{\"outlinewidth\":0,\"ticks\":\"\"}}}],\"bar\":[{\"error_x\":{\"color\":\"#2a3f5f\"},\"error_y\":{\"color\":\"#2a3f5f\"},\"marker\":{\"line\":{\"color\":\"#E5ECF6\",\"width\":0.5},\"pattern\":{\"fillmode\":\"overlay\",\"size\":10,\"solidity\":0.2}},\"type\":\"bar\"}],\"scattergeo\":[{\"type\":\"scattergeo\",\"marker\":{\"colorbar\":{\"outlinewidth\":0,\"ticks\":\"\"}}}],\"scatterpolar\":[{\"type\":\"scatterpolar\",\"marker\":{\"colorbar\":{\"outlinewidth\":0,\"ticks\":\"\"}}}],\"histogram\":[{\"marker\":{\"pattern\":{\"fillmode\":\"overlay\",\"size\":10,\"solidity\":0.2}},\"type\":\"histogram\"}],\"scattergl\":[{\"type\":\"scattergl\",\"marker\":{\"colorbar\":{\"outlinewidth\":0,\"ticks\":\"\"}}}],\"scatter3d\":[{\"type\":\"scatter3d\",\"line\":{\"colorbar\":{\"outlinewidth\":0,\"ticks\":\"\"}},\"marker\":{\"colorbar\":{\"outlinewidth\":0,\"ticks\":\"\"}}}],\"scattermap\":[{\"type\":\"scattermap\",\"marker\":{\"colorbar\":{\"outlinewidth\":0,\"ticks\":\"\"}}}],\"scattermapbox\":[{\"type\":\"scattermapbox\",\"marker\":{\"colorbar\":{\"outlinewidth\":0,\"ticks\":\"\"}}}],\"scatterternary\":[{\"type\":\"scatterternary\",\"marker\":{\"colorbar\":{\"outlinewidth\":0,\"ticks\":\"\"}}}],\"scattercarpet\":[{\"type\":\"scattercarpet\",\"marker\":{\"colorbar\":{\"outlinewidth\":0,\"ticks\":\"\"}}}],\"carpet\":[{\"aaxis\":{\"endlinecolor\":\"#2a3f5f\",\"gridcolor\":\"white\",\"linecolor\":\"white\",\"minorgridcolor\":\"white\",\"startlinecolor\":\"#2a3f5f\"},\"baxis\":{\"endlinecolor\":\"#2a3f5f\",\"gridcolor\":\"white\",\"linecolor\":\"white\",\"minorgridcolor\":\"white\",\"startlinecolor\":\"#2a3f5f\"},\"type\":\"carpet\"}],\"table\":[{\"cells\":{\"fill\":{\"color\":\"#EBF0F8\"},\"line\":{\"color\":\"white\"}},\"header\":{\"fill\":{\"color\":\"#C8D4E3\"},\"line\":{\"color\":\"white\"}},\"type\":\"table\"}],\"barpolar\":[{\"marker\":{\"line\":{\"color\":\"#E5ECF6\",\"width\":0.5},\"pattern\":{\"fillmode\":\"overlay\",\"size\":10,\"solidity\":0.2}},\"type\":\"barpolar\"}],\"pie\":[{\"automargin\":true,\"type\":\"pie\"}]},\"layout\":{\"autotypenumbers\":\"strict\",\"colorway\":[\"#636efa\",\"#EF553B\",\"#00cc96\",\"#ab63fa\",\"#FFA15A\",\"#19d3f3\",\"#FF6692\",\"#B6E880\",\"#FF97FF\",\"#FECB52\"],\"font\":{\"color\":\"#2a3f5f\"},\"hovermode\":\"closest\",\"hoverlabel\":{\"align\":\"left\"},\"paper_bgcolor\":\"white\",\"plot_bgcolor\":\"#E5ECF6\",\"polar\":{\"bgcolor\":\"#E5ECF6\",\"angularaxis\":{\"gridcolor\":\"white\",\"linecolor\":\"white\",\"ticks\":\"\"},\"radialaxis\":{\"gridcolor\":\"white\",\"linecolor\":\"white\",\"ticks\":\"\"}},\"ternary\":{\"bgcolor\":\"#E5ECF6\",\"aaxis\":{\"gridcolor\":\"white\",\"linecolor\":\"white\",\"ticks\":\"\"},\"baxis\":{\"gridcolor\":\"white\",\"linecolor\":\"white\",\"ticks\":\"\"},\"caxis\":{\"gridcolor\":\"white\",\"linecolor\":\"white\",\"ticks\":\"\"}},\"coloraxis\":{\"colorbar\":{\"outlinewidth\":0,\"ticks\":\"\"}},\"colorscale\":{\"sequential\":[[0.0,\"#0d0887\"],[0.1111111111111111,\"#46039f\"],[0.2222222222222222,\"#7201a8\"],[0.3333333333333333,\"#9c179e\"],[0.4444444444444444,\"#bd3786\"],[0.5555555555555556,\"#d8576b\"],[0.6666666666666666,\"#ed7953\"],[0.7777777777777778,\"#fb9f3a\"],[0.8888888888888888,\"#fdca26\"],[1.0,\"#f0f921\"]],\"sequentialminus\":[[0.0,\"#0d0887\"],[0.1111111111111111,\"#46039f\"],[0.2222222222222222,\"#7201a8\"],[0.3333333333333333,\"#9c179e\"],[0.4444444444444444,\"#bd3786\"],[0.5555555555555556,\"#d8576b\"],[0.6666666666666666,\"#ed7953\"],[0.7777777777777778,\"#fb9f3a\"],[0.8888888888888888,\"#fdca26\"],[1.0,\"#f0f921\"]],\"diverging\":[[0,\"#8e0152\"],[0.1,\"#c51b7d\"],[0.2,\"#de77ae\"],[0.3,\"#f1b6da\"],[0.4,\"#fde0ef\"],[0.5,\"#f7f7f7\"],[0.6,\"#e6f5d0\"],[0.7,\"#b8e186\"],[0.8,\"#7fbc41\"],[0.9,\"#4d9221\"],[1,\"#276419\"]]},\"xaxis\":{\"gridcolor\":\"white\",\"linecolor\":\"white\",\"ticks\":\"\",\"title\":{\"standoff\":15},\"zerolinecolor\":\"white\",\"automargin\":true,\"zerolinewidth\":2},\"yaxis\":{\"gridcolor\":\"white\",\"linecolor\":\"white\",\"ticks\":\"\",\"title\":{\"standoff\":15},\"zerolinecolor\":\"white\",\"automargin\":true,\"zerolinewidth\":2},\"scene\":{\"xaxis\":{\"backgroundcolor\":\"#E5ECF6\",\"gridcolor\":\"white\",\"linecolor\":\"white\",\"showbackground\":true,\"ticks\":\"\",\"zerolinecolor\":\"white\",\"gridwidth\":2},\"yaxis\":{\"backgroundcolor\":\"#E5ECF6\",\"gridcolor\":\"white\",\"linecolor\":\"white\",\"showbackground\":true,\"ticks\":\"\",\"zerolinecolor\":\"white\",\"gridwidth\":2},\"zaxis\":{\"backgroundcolor\":\"#E5ECF6\",\"gridcolor\":\"white\",\"linecolor\":\"white\",\"showbackground\":true,\"ticks\":\"\",\"zerolinecolor\":\"white\",\"gridwidth\":2}},\"shapedefaults\":{\"line\":{\"color\":\"#2a3f5f\"}},\"annotationdefaults\":{\"arrowcolor\":\"#2a3f5f\",\"arrowhead\":0,\"arrowwidth\":1},\"geo\":{\"bgcolor\":\"white\",\"landcolor\":\"#E5ECF6\",\"subunitcolor\":\"white\",\"showland\":true,\"showlakes\":true,\"lakecolor\":\"white\"},\"title\":{\"x\":0.05},\"mapbox\":{\"style\":\"light\"}}},\"xaxis\":{\"anchor\":\"y\",\"domain\":[0.0,0.46],\"title\":{\"text\":\"Strike Price\"}},\"yaxis\":{\"anchor\":\"x\",\"domain\":[0.56,1.0],\"title\":{\"text\":\"Implied Volatility (%)\"}},\"xaxis2\":{\"anchor\":\"y2\",\"domain\":[0.54,1.0],\"title\":{\"text\":\"Strike Price\"}},\"yaxis2\":{\"anchor\":\"x2\",\"domain\":[0.56,1.0],\"title\":{\"text\":\"Risk-Neutral Density\"}},\"scene\":{\"domain\":{\"x\":[0.0,0.46],\"y\":[0.0,0.44]},\"xaxis\":{\"title\":{\"text\":\"Strike Price\"}},\"yaxis\":{\"title\":{\"text\":\"Days to Expiry\"}},\"zaxis\":{\"title\":{\"text\":\"Implied Volatility (%)\"}}},\"xaxis3\":{\"anchor\":\"y3\",\"domain\":[0.54,1.0],\"title\":{\"text\":\"Expiry\"}},\"yaxis3\":{\"anchor\":\"x3\",\"domain\":[0.0,0.44],\"title\":{\"text\":\"Average IV (%)\"}},\"annotations\":[{\"font\":{\"size\":16},\"showarrow\":false,\"text\":\"IV Smiles (All Expiries)\",\"x\":0.23,\"xanchor\":\"center\",\"xref\":\"paper\",\"y\":1.0,\"yanchor\":\"bottom\",\"yref\":\"paper\"},{\"font\":{\"size\":16},\"showarrow\":false,\"text\":\"Risk-Neutral Densities\",\"x\":0.77,\"xanchor\":\"center\",\"xref\":\"paper\",\"y\":1.0,\"yanchor\":\"bottom\",\"yref\":\"paper\"},{\"font\":{\"size\":16},\"showarrow\":false,\"text\":\"IV Surface (3D)\",\"x\":0.23,\"xanchor\":\"center\",\"xref\":\"paper\",\"y\":0.44,\"yanchor\":\"bottom\",\"yref\":\"paper\"},{\"font\":{\"size\":16},\"showarrow\":false,\"text\":\"Summary Statistics\",\"x\":0.77,\"xanchor\":\"center\",\"xref\":\"paper\",\"y\":0.44,\"yanchor\":\"bottom\",\"yref\":\"paper\"},{\"showarrow\":false,\"text\":\"Spot: $113455\",\"x\":113455.47,\"xanchor\":\"left\",\"xref\":\"x\",\"y\":1,\"yanchor\":\"top\",\"yref\":\"y domain\"},{\"showarrow\":false,\"text\":\"Spot: $113455\",\"x\":113455.47,\"xanchor\":\"left\",\"xref\":\"x2\",\"y\":1,\"yanchor\":\"top\",\"yref\":\"y2 domain\"}],\"shapes\":[{\"line\":{\"color\":\"green\",\"dash\":\"dash\"},\"type\":\"line\",\"x0\":113455.47,\"x1\":113455.47,\"xref\":\"x\",\"y0\":0,\"y1\":1,\"yref\":\"y domain\"},{\"line\":{\"color\":\"green\",\"dash\":\"dash\"},\"type\":\"line\",\"x0\":113455.47,\"x1\":113455.47,\"xref\":\"x2\",\"y0\":0,\"y1\":1,\"yref\":\"y2 domain\"}],\"title\":{\"text\":\"Interactive Options Analysis Dashboard - 10 Expiries\"},\"legend\":{\"x\":1.05,\"y\":1},\"font\":{\"size\":12},\"height\":1000,\"showlegend\":true},                        {\"responsive\": true}                    ).then(function(){\n",
       "                            \n",
       "var gd = document.getElementById('4c2b52ee-54b8-4567-a939-bb2c415fe50f');\n",
       "var x = new MutationObserver(function (mutations, observer) {{\n",
       "        var display = window.getComputedStyle(gd).display;\n",
       "        if (!display || display === 'none') {{\n",
       "            console.log([gd, 'removed!']);\n",
       "            Plotly.purge(gd);\n",
       "            observer.disconnect();\n",
       "        }}\n",
       "}});\n",
       "\n",
       "// Listen for the removal of the full notebook cells\n",
       "var notebookContainer = gd.closest('#notebook-container');\n",
       "if (notebookContainer) {{\n",
       "    x.observe(notebookContainer, {childList: true});\n",
       "}}\n",
       "\n",
       "// Listen for the clearing of the current output cell\n",
       "var outputEl = gd.closest('.output');\n",
       "if (outputEl) {{\n",
       "    x.observe(outputEl, {childList: true});\n",
       "}}\n",
       "\n",
       "                        })                };            </script>        </div>"
      ]
     },
     "metadata": {},
     "output_type": "display_data"
    },
    {
     "name": "stdout",
     "output_type": "stream",
     "text": [
      "\n",
      "📊 Creating Volatility Term Structure...\n"
     ]
    },
    {
     "data": {
      "application/vnd.plotly.v1+json": {
       "config": {
        "plotlyServerURL": "https://plot.ly"
       },
       "data": [
        {
         "hovertemplate": "Expiry: 2025-08-22 10:00:00<br>Days to Expiry: 0.0<br>ATM IV: 32.7%<extra></extra>",
         "marker": {
          "color": "blue",
          "size": 10
         },
         "mode": "markers+text",
         "name": "ATM IV - 2025-08-22",
         "text": [
          "2025-08-22"
         ],
         "textposition": "top center",
         "type": "scatter",
         "x": [
          0
         ],
         "y": [
          32.74
         ]
        },
        {
         "hovertemplate": "Expiry: 2025-08-23 10:00:00<br>Days to Expiry: 1.0<br>ATM IV: 36.6%<extra></extra>",
         "marker": {
          "color": "blue",
          "size": 10
         },
         "mode": "markers+text",
         "name": "ATM IV - 2025-08-23",
         "text": [
          "2025-08-23"
         ],
         "textposition": "top center",
         "type": "scatter",
         "x": [
          1
         ],
         "y": [
          36.6
         ]
        },
        {
         "hovertemplate": "Expiry: 2025-08-24 10:00:00<br>Days to Expiry: 2.0<br>ATM IV: 32.3%<extra></extra>",
         "marker": {
          "color": "blue",
          "size": 10
         },
         "mode": "markers+text",
         "name": "ATM IV - 2025-08-24",
         "text": [
          "2025-08-24"
         ],
         "textposition": "top center",
         "type": "scatter",
         "x": [
          2
         ],
         "y": [
          32.34
         ]
        },
        {
         "hovertemplate": "Expiry: 2025-08-25 10:00:00<br>Days to Expiry: 3.0<br>ATM IV: 30.8%<extra></extra>",
         "marker": {
          "color": "blue",
          "size": 10
         },
         "mode": "markers+text",
         "name": "ATM IV - 2025-08-25",
         "text": [
          "2025-08-25"
         ],
         "textposition": "top center",
         "type": "scatter",
         "x": [
          3
         ],
         "y": [
          30.81
         ]
        },
        {
         "hovertemplate": "Expiry: 2025-08-29 10:00:00<br>Days to Expiry: 7.0<br>ATM IV: 33.8%<extra></extra>",
         "marker": {
          "color": "blue",
          "size": 10
         },
         "mode": "markers+text",
         "name": "ATM IV - 2025-08-29",
         "text": [
          "2025-08-29"
         ],
         "textposition": "top center",
         "type": "scatter",
         "x": [
          7
         ],
         "y": [
          33.82
         ]
        },
        {
         "hovertemplate": "Expiry: 2025-09-05 10:00:00<br>Days to Expiry: 14.0<br>ATM IV: 34.2%<extra></extra>",
         "marker": {
          "color": "blue",
          "size": 10
         },
         "mode": "markers+text",
         "name": "ATM IV - 2025-09-05",
         "text": [
          "2025-09-05"
         ],
         "textposition": "top center",
         "type": "scatter",
         "x": [
          14
         ],
         "y": [
          34.24
         ]
        },
        {
         "hovertemplate": "Expiry: 2025-09-12 10:00:00<br>Days to Expiry: 21.0<br>ATM IV: 34.2%<extra></extra>",
         "marker": {
          "color": "blue",
          "size": 10
         },
         "mode": "markers+text",
         "name": "ATM IV - 2025-09-12",
         "text": [
          "2025-09-12"
         ],
         "textposition": "top center",
         "type": "scatter",
         "x": [
          21
         ],
         "y": [
          34.22
         ]
        },
        {
         "hovertemplate": "Expiry: 2025-09-26 10:00:00<br>Days to Expiry: 35.0<br>ATM IV: 34.2%<extra></extra>",
         "marker": {
          "color": "blue",
          "size": 10
         },
         "mode": "markers+text",
         "name": "ATM IV - 2025-09-26",
         "text": [
          "2025-09-26"
         ],
         "textposition": "top center",
         "type": "scatter",
         "x": [
          35
         ],
         "y": [
          34.16
         ]
        },
        {
         "hovertemplate": "Expiry: 2025-10-31 09:00:00<br>Days to Expiry: 70.0<br>ATM IV: 36.0%<extra></extra>",
         "marker": {
          "color": "blue",
          "size": 10
         },
         "mode": "markers+text",
         "name": "ATM IV - 2025-10-31",
         "text": [
          "2025-10-31"
         ],
         "textposition": "top center",
         "type": "scatter",
         "x": [
          70
         ],
         "y": [
          35.95
         ]
        },
        {
         "hovertemplate": "Expiry: 2025-12-26 09:00:00<br>Days to Expiry: 126.0<br>ATM IV: 40.3%<extra></extra>",
         "marker": {
          "color": "blue",
          "size": 10
         },
         "mode": "markers+text",
         "name": "ATM IV - 2025-12-26",
         "text": [
          "2025-12-26"
         ],
         "textposition": "top center",
         "type": "scatter",
         "x": [
          126
         ],
         "y": [
          40.26
         ]
        }
       ],
       "layout": {
        "height": 500,
        "showlegend": false,
        "template": {
         "data": {
          "bar": [
           {
            "error_x": {
             "color": "#2a3f5f"
            },
            "error_y": {
             "color": "#2a3f5f"
            },
            "marker": {
             "line": {
              "color": "#E5ECF6",
              "width": 0.5
             },
             "pattern": {
              "fillmode": "overlay",
              "size": 10,
              "solidity": 0.2
             }
            },
            "type": "bar"
           }
          ],
          "barpolar": [
           {
            "marker": {
             "line": {
              "color": "#E5ECF6",
              "width": 0.5
             },
             "pattern": {
              "fillmode": "overlay",
              "size": 10,
              "solidity": 0.2
             }
            },
            "type": "barpolar"
           }
          ],
          "carpet": [
           {
            "aaxis": {
             "endlinecolor": "#2a3f5f",
             "gridcolor": "white",
             "linecolor": "white",
             "minorgridcolor": "white",
             "startlinecolor": "#2a3f5f"
            },
            "baxis": {
             "endlinecolor": "#2a3f5f",
             "gridcolor": "white",
             "linecolor": "white",
             "minorgridcolor": "white",
             "startlinecolor": "#2a3f5f"
            },
            "type": "carpet"
           }
          ],
          "choropleth": [
           {
            "colorbar": {
             "outlinewidth": 0,
             "ticks": ""
            },
            "type": "choropleth"
           }
          ],
          "contour": [
           {
            "colorbar": {
             "outlinewidth": 0,
             "ticks": ""
            },
            "colorscale": [
             [
              0,
              "#0d0887"
             ],
             [
              0.1111111111111111,
              "#46039f"
             ],
             [
              0.2222222222222222,
              "#7201a8"
             ],
             [
              0.3333333333333333,
              "#9c179e"
             ],
             [
              0.4444444444444444,
              "#bd3786"
             ],
             [
              0.5555555555555556,
              "#d8576b"
             ],
             [
              0.6666666666666666,
              "#ed7953"
             ],
             [
              0.7777777777777778,
              "#fb9f3a"
             ],
             [
              0.8888888888888888,
              "#fdca26"
             ],
             [
              1,
              "#f0f921"
             ]
            ],
            "type": "contour"
           }
          ],
          "contourcarpet": [
           {
            "colorbar": {
             "outlinewidth": 0,
             "ticks": ""
            },
            "type": "contourcarpet"
           }
          ],
          "heatmap": [
           {
            "colorbar": {
             "outlinewidth": 0,
             "ticks": ""
            },
            "colorscale": [
             [
              0,
              "#0d0887"
             ],
             [
              0.1111111111111111,
              "#46039f"
             ],
             [
              0.2222222222222222,
              "#7201a8"
             ],
             [
              0.3333333333333333,
              "#9c179e"
             ],
             [
              0.4444444444444444,
              "#bd3786"
             ],
             [
              0.5555555555555556,
              "#d8576b"
             ],
             [
              0.6666666666666666,
              "#ed7953"
             ],
             [
              0.7777777777777778,
              "#fb9f3a"
             ],
             [
              0.8888888888888888,
              "#fdca26"
             ],
             [
              1,
              "#f0f921"
             ]
            ],
            "type": "heatmap"
           }
          ],
          "histogram": [
           {
            "marker": {
             "pattern": {
              "fillmode": "overlay",
              "size": 10,
              "solidity": 0.2
             }
            },
            "type": "histogram"
           }
          ],
          "histogram2d": [
           {
            "colorbar": {
             "outlinewidth": 0,
             "ticks": ""
            },
            "colorscale": [
             [
              0,
              "#0d0887"
             ],
             [
              0.1111111111111111,
              "#46039f"
             ],
             [
              0.2222222222222222,
              "#7201a8"
             ],
             [
              0.3333333333333333,
              "#9c179e"
             ],
             [
              0.4444444444444444,
              "#bd3786"
             ],
             [
              0.5555555555555556,
              "#d8576b"
             ],
             [
              0.6666666666666666,
              "#ed7953"
             ],
             [
              0.7777777777777778,
              "#fb9f3a"
             ],
             [
              0.8888888888888888,
              "#fdca26"
             ],
             [
              1,
              "#f0f921"
             ]
            ],
            "type": "histogram2d"
           }
          ],
          "histogram2dcontour": [
           {
            "colorbar": {
             "outlinewidth": 0,
             "ticks": ""
            },
            "colorscale": [
             [
              0,
              "#0d0887"
             ],
             [
              0.1111111111111111,
              "#46039f"
             ],
             [
              0.2222222222222222,
              "#7201a8"
             ],
             [
              0.3333333333333333,
              "#9c179e"
             ],
             [
              0.4444444444444444,
              "#bd3786"
             ],
             [
              0.5555555555555556,
              "#d8576b"
             ],
             [
              0.6666666666666666,
              "#ed7953"
             ],
             [
              0.7777777777777778,
              "#fb9f3a"
             ],
             [
              0.8888888888888888,
              "#fdca26"
             ],
             [
              1,
              "#f0f921"
             ]
            ],
            "type": "histogram2dcontour"
           }
          ],
          "mesh3d": [
           {
            "colorbar": {
             "outlinewidth": 0,
             "ticks": ""
            },
            "type": "mesh3d"
           }
          ],
          "parcoords": [
           {
            "line": {
             "colorbar": {
              "outlinewidth": 0,
              "ticks": ""
             }
            },
            "type": "parcoords"
           }
          ],
          "pie": [
           {
            "automargin": true,
            "type": "pie"
           }
          ],
          "scatter": [
           {
            "fillpattern": {
             "fillmode": "overlay",
             "size": 10,
             "solidity": 0.2
            },
            "type": "scatter"
           }
          ],
          "scatter3d": [
           {
            "line": {
             "colorbar": {
              "outlinewidth": 0,
              "ticks": ""
             }
            },
            "marker": {
             "colorbar": {
              "outlinewidth": 0,
              "ticks": ""
             }
            },
            "type": "scatter3d"
           }
          ],
          "scattercarpet": [
           {
            "marker": {
             "colorbar": {
              "outlinewidth": 0,
              "ticks": ""
             }
            },
            "type": "scattercarpet"
           }
          ],
          "scattergeo": [
           {
            "marker": {
             "colorbar": {
              "outlinewidth": 0,
              "ticks": ""
             }
            },
            "type": "scattergeo"
           }
          ],
          "scattergl": [
           {
            "marker": {
             "colorbar": {
              "outlinewidth": 0,
              "ticks": ""
             }
            },
            "type": "scattergl"
           }
          ],
          "scattermap": [
           {
            "marker": {
             "colorbar": {
              "outlinewidth": 0,
              "ticks": ""
             }
            },
            "type": "scattermap"
           }
          ],
          "scattermapbox": [
           {
            "marker": {
             "colorbar": {
              "outlinewidth": 0,
              "ticks": ""
             }
            },
            "type": "scattermapbox"
           }
          ],
          "scatterpolar": [
           {
            "marker": {
             "colorbar": {
              "outlinewidth": 0,
              "ticks": ""
             }
            },
            "type": "scatterpolar"
           }
          ],
          "scatterpolargl": [
           {
            "marker": {
             "colorbar": {
              "outlinewidth": 0,
              "ticks": ""
             }
            },
            "type": "scatterpolargl"
           }
          ],
          "scatterternary": [
           {
            "marker": {
             "colorbar": {
              "outlinewidth": 0,
              "ticks": ""
             }
            },
            "type": "scatterternary"
           }
          ],
          "surface": [
           {
            "colorbar": {
             "outlinewidth": 0,
             "ticks": ""
            },
            "colorscale": [
             [
              0,
              "#0d0887"
             ],
             [
              0.1111111111111111,
              "#46039f"
             ],
             [
              0.2222222222222222,
              "#7201a8"
             ],
             [
              0.3333333333333333,
              "#9c179e"
             ],
             [
              0.4444444444444444,
              "#bd3786"
             ],
             [
              0.5555555555555556,
              "#d8576b"
             ],
             [
              0.6666666666666666,
              "#ed7953"
             ],
             [
              0.7777777777777778,
              "#fb9f3a"
             ],
             [
              0.8888888888888888,
              "#fdca26"
             ],
             [
              1,
              "#f0f921"
             ]
            ],
            "type": "surface"
           }
          ],
          "table": [
           {
            "cells": {
             "fill": {
              "color": "#EBF0F8"
             },
             "line": {
              "color": "white"
             }
            },
            "header": {
             "fill": {
              "color": "#C8D4E3"
             },
             "line": {
              "color": "white"
             }
            },
            "type": "table"
           }
          ]
         },
         "layout": {
          "annotationdefaults": {
           "arrowcolor": "#2a3f5f",
           "arrowhead": 0,
           "arrowwidth": 1
          },
          "autotypenumbers": "strict",
          "coloraxis": {
           "colorbar": {
            "outlinewidth": 0,
            "ticks": ""
           }
          },
          "colorscale": {
           "diverging": [
            [
             0,
             "#8e0152"
            ],
            [
             0.1,
             "#c51b7d"
            ],
            [
             0.2,
             "#de77ae"
            ],
            [
             0.3,
             "#f1b6da"
            ],
            [
             0.4,
             "#fde0ef"
            ],
            [
             0.5,
             "#f7f7f7"
            ],
            [
             0.6,
             "#e6f5d0"
            ],
            [
             0.7,
             "#b8e186"
            ],
            [
             0.8,
             "#7fbc41"
            ],
            [
             0.9,
             "#4d9221"
            ],
            [
             1,
             "#276419"
            ]
           ],
           "sequential": [
            [
             0,
             "#0d0887"
            ],
            [
             0.1111111111111111,
             "#46039f"
            ],
            [
             0.2222222222222222,
             "#7201a8"
            ],
            [
             0.3333333333333333,
             "#9c179e"
            ],
            [
             0.4444444444444444,
             "#bd3786"
            ],
            [
             0.5555555555555556,
             "#d8576b"
            ],
            [
             0.6666666666666666,
             "#ed7953"
            ],
            [
             0.7777777777777778,
             "#fb9f3a"
            ],
            [
             0.8888888888888888,
             "#fdca26"
            ],
            [
             1,
             "#f0f921"
            ]
           ],
           "sequentialminus": [
            [
             0,
             "#0d0887"
            ],
            [
             0.1111111111111111,
             "#46039f"
            ],
            [
             0.2222222222222222,
             "#7201a8"
            ],
            [
             0.3333333333333333,
             "#9c179e"
            ],
            [
             0.4444444444444444,
             "#bd3786"
            ],
            [
             0.5555555555555556,
             "#d8576b"
            ],
            [
             0.6666666666666666,
             "#ed7953"
            ],
            [
             0.7777777777777778,
             "#fb9f3a"
            ],
            [
             0.8888888888888888,
             "#fdca26"
            ],
            [
             1,
             "#f0f921"
            ]
           ]
          },
          "colorway": [
           "#636efa",
           "#EF553B",
           "#00cc96",
           "#ab63fa",
           "#FFA15A",
           "#19d3f3",
           "#FF6692",
           "#B6E880",
           "#FF97FF",
           "#FECB52"
          ],
          "font": {
           "color": "#2a3f5f"
          },
          "geo": {
           "bgcolor": "white",
           "lakecolor": "white",
           "landcolor": "#E5ECF6",
           "showlakes": true,
           "showland": true,
           "subunitcolor": "white"
          },
          "hoverlabel": {
           "align": "left"
          },
          "hovermode": "closest",
          "mapbox": {
           "style": "light"
          },
          "paper_bgcolor": "white",
          "plot_bgcolor": "#E5ECF6",
          "polar": {
           "angularaxis": {
            "gridcolor": "white",
            "linecolor": "white",
            "ticks": ""
           },
           "bgcolor": "#E5ECF6",
           "radialaxis": {
            "gridcolor": "white",
            "linecolor": "white",
            "ticks": ""
           }
          },
          "scene": {
           "xaxis": {
            "backgroundcolor": "#E5ECF6",
            "gridcolor": "white",
            "gridwidth": 2,
            "linecolor": "white",
            "showbackground": true,
            "ticks": "",
            "zerolinecolor": "white"
           },
           "yaxis": {
            "backgroundcolor": "#E5ECF6",
            "gridcolor": "white",
            "gridwidth": 2,
            "linecolor": "white",
            "showbackground": true,
            "ticks": "",
            "zerolinecolor": "white"
           },
           "zaxis": {
            "backgroundcolor": "#E5ECF6",
            "gridcolor": "white",
            "gridwidth": 2,
            "linecolor": "white",
            "showbackground": true,
            "ticks": "",
            "zerolinecolor": "white"
           }
          },
          "shapedefaults": {
           "line": {
            "color": "#2a3f5f"
           }
          },
          "ternary": {
           "aaxis": {
            "gridcolor": "white",
            "linecolor": "white",
            "ticks": ""
           },
           "baxis": {
            "gridcolor": "white",
            "linecolor": "white",
            "ticks": ""
           },
           "bgcolor": "#E5ECF6",
           "caxis": {
            "gridcolor": "white",
            "linecolor": "white",
            "ticks": ""
           }
          },
          "title": {
           "x": 0.05
          },
          "xaxis": {
           "automargin": true,
           "gridcolor": "white",
           "linecolor": "white",
           "ticks": "",
           "title": {
            "standoff": 15
           },
           "zerolinecolor": "white",
           "zerolinewidth": 2
          },
          "yaxis": {
           "automargin": true,
           "gridcolor": "white",
           "linecolor": "white",
           "ticks": "",
           "title": {
            "standoff": 15
           },
           "zerolinecolor": "white",
           "zerolinewidth": 2
          }
         }
        },
        "title": {
         "text": "Volatility Term Structure (ATM)"
        },
        "xaxis": {
         "title": {
          "text": "Days to Expiry"
         }
        },
        "yaxis": {
         "title": {
          "text": "Implied Volatility (%)"
         }
        }
       }
      },
      "text/html": [
       "<div>            <script src=\"https://cdnjs.cloudflare.com/ajax/libs/mathjax/2.7.5/MathJax.js?config=TeX-AMS-MML_SVG\"></script><script type=\"text/javascript\">if (window.MathJax && window.MathJax.Hub && window.MathJax.Hub.Config) {window.MathJax.Hub.Config({SVG: {font: \"STIX-Web\"}});}</script>                <script type=\"text/javascript\">window.PlotlyConfig = {MathJaxConfig: 'local'};</script>\n",
       "        <script charset=\"utf-8\" src=\"https://cdn.plot.ly/plotly-3.1.0.min.js\" integrity=\"sha256-Ei4740bWZhaUTQuD6q9yQlgVCMPBz6CZWhevDYPv93A=\" crossorigin=\"anonymous\"></script>                <div id=\"f0d3a0cf-c61e-4607-9e0c-057e62d11c0c\" class=\"plotly-graph-div\" style=\"height:500px; width:100%;\"></div>            <script type=\"text/javascript\">                window.PLOTLYENV=window.PLOTLYENV || {};                                if (document.getElementById(\"f0d3a0cf-c61e-4607-9e0c-057e62d11c0c\")) {                    Plotly.newPlot(                        \"f0d3a0cf-c61e-4607-9e0c-057e62d11c0c\",                        [{\"hovertemplate\":\"Expiry: 2025-08-22 10:00:00\\u003cbr\\u003eDays to Expiry: 0.0\\u003cbr\\u003eATM IV: 32.7%\\u003cextra\\u003e\\u003c\\u002fextra\\u003e\",\"marker\":{\"color\":\"blue\",\"size\":10},\"mode\":\"markers+text\",\"name\":\"ATM IV - 2025-08-22\",\"text\":[\"2025-08-22\"],\"textposition\":\"top center\",\"x\":[0.0],\"y\":[32.74],\"type\":\"scatter\"},{\"hovertemplate\":\"Expiry: 2025-08-23 10:00:00\\u003cbr\\u003eDays to Expiry: 1.0\\u003cbr\\u003eATM IV: 36.6%\\u003cextra\\u003e\\u003c\\u002fextra\\u003e\",\"marker\":{\"color\":\"blue\",\"size\":10},\"mode\":\"markers+text\",\"name\":\"ATM IV - 2025-08-23\",\"text\":[\"2025-08-23\"],\"textposition\":\"top center\",\"x\":[1.0],\"y\":[36.6],\"type\":\"scatter\"},{\"hovertemplate\":\"Expiry: 2025-08-24 10:00:00\\u003cbr\\u003eDays to Expiry: 2.0\\u003cbr\\u003eATM IV: 32.3%\\u003cextra\\u003e\\u003c\\u002fextra\\u003e\",\"marker\":{\"color\":\"blue\",\"size\":10},\"mode\":\"markers+text\",\"name\":\"ATM IV - 2025-08-24\",\"text\":[\"2025-08-24\"],\"textposition\":\"top center\",\"x\":[2.0],\"y\":[32.34],\"type\":\"scatter\"},{\"hovertemplate\":\"Expiry: 2025-08-25 10:00:00\\u003cbr\\u003eDays to Expiry: 3.0\\u003cbr\\u003eATM IV: 30.8%\\u003cextra\\u003e\\u003c\\u002fextra\\u003e\",\"marker\":{\"color\":\"blue\",\"size\":10},\"mode\":\"markers+text\",\"name\":\"ATM IV - 2025-08-25\",\"text\":[\"2025-08-25\"],\"textposition\":\"top center\",\"x\":[3.0],\"y\":[30.81],\"type\":\"scatter\"},{\"hovertemplate\":\"Expiry: 2025-08-29 10:00:00\\u003cbr\\u003eDays to Expiry: 7.0\\u003cbr\\u003eATM IV: 33.8%\\u003cextra\\u003e\\u003c\\u002fextra\\u003e\",\"marker\":{\"color\":\"blue\",\"size\":10},\"mode\":\"markers+text\",\"name\":\"ATM IV - 2025-08-29\",\"text\":[\"2025-08-29\"],\"textposition\":\"top center\",\"x\":[7.0],\"y\":[33.82],\"type\":\"scatter\"},{\"hovertemplate\":\"Expiry: 2025-09-05 10:00:00\\u003cbr\\u003eDays to Expiry: 14.0\\u003cbr\\u003eATM IV: 34.2%\\u003cextra\\u003e\\u003c\\u002fextra\\u003e\",\"marker\":{\"color\":\"blue\",\"size\":10},\"mode\":\"markers+text\",\"name\":\"ATM IV - 2025-09-05\",\"text\":[\"2025-09-05\"],\"textposition\":\"top center\",\"x\":[14.0],\"y\":[34.24],\"type\":\"scatter\"},{\"hovertemplate\":\"Expiry: 2025-09-12 10:00:00\\u003cbr\\u003eDays to Expiry: 21.0\\u003cbr\\u003eATM IV: 34.2%\\u003cextra\\u003e\\u003c\\u002fextra\\u003e\",\"marker\":{\"color\":\"blue\",\"size\":10},\"mode\":\"markers+text\",\"name\":\"ATM IV - 2025-09-12\",\"text\":[\"2025-09-12\"],\"textposition\":\"top center\",\"x\":[21.0],\"y\":[34.22],\"type\":\"scatter\"},{\"hovertemplate\":\"Expiry: 2025-09-26 10:00:00\\u003cbr\\u003eDays to Expiry: 35.0\\u003cbr\\u003eATM IV: 34.2%\\u003cextra\\u003e\\u003c\\u002fextra\\u003e\",\"marker\":{\"color\":\"blue\",\"size\":10},\"mode\":\"markers+text\",\"name\":\"ATM IV - 2025-09-26\",\"text\":[\"2025-09-26\"],\"textposition\":\"top center\",\"x\":[35.0],\"y\":[34.16],\"type\":\"scatter\"},{\"hovertemplate\":\"Expiry: 2025-10-31 09:00:00\\u003cbr\\u003eDays to Expiry: 70.0\\u003cbr\\u003eATM IV: 36.0%\\u003cextra\\u003e\\u003c\\u002fextra\\u003e\",\"marker\":{\"color\":\"blue\",\"size\":10},\"mode\":\"markers+text\",\"name\":\"ATM IV - 2025-10-31\",\"text\":[\"2025-10-31\"],\"textposition\":\"top center\",\"x\":[70.0],\"y\":[35.95],\"type\":\"scatter\"},{\"hovertemplate\":\"Expiry: 2025-12-26 09:00:00\\u003cbr\\u003eDays to Expiry: 126.0\\u003cbr\\u003eATM IV: 40.3%\\u003cextra\\u003e\\u003c\\u002fextra\\u003e\",\"marker\":{\"color\":\"blue\",\"size\":10},\"mode\":\"markers+text\",\"name\":\"ATM IV - 2025-12-26\",\"text\":[\"2025-12-26\"],\"textposition\":\"top center\",\"x\":[126.0],\"y\":[40.26],\"type\":\"scatter\"}],                        {\"template\":{\"data\":{\"histogram2dcontour\":[{\"type\":\"histogram2dcontour\",\"colorbar\":{\"outlinewidth\":0,\"ticks\":\"\"},\"colorscale\":[[0.0,\"#0d0887\"],[0.1111111111111111,\"#46039f\"],[0.2222222222222222,\"#7201a8\"],[0.3333333333333333,\"#9c179e\"],[0.4444444444444444,\"#bd3786\"],[0.5555555555555556,\"#d8576b\"],[0.6666666666666666,\"#ed7953\"],[0.7777777777777778,\"#fb9f3a\"],[0.8888888888888888,\"#fdca26\"],[1.0,\"#f0f921\"]]}],\"choropleth\":[{\"type\":\"choropleth\",\"colorbar\":{\"outlinewidth\":0,\"ticks\":\"\"}}],\"histogram2d\":[{\"type\":\"histogram2d\",\"colorbar\":{\"outlinewidth\":0,\"ticks\":\"\"},\"colorscale\":[[0.0,\"#0d0887\"],[0.1111111111111111,\"#46039f\"],[0.2222222222222222,\"#7201a8\"],[0.3333333333333333,\"#9c179e\"],[0.4444444444444444,\"#bd3786\"],[0.5555555555555556,\"#d8576b\"],[0.6666666666666666,\"#ed7953\"],[0.7777777777777778,\"#fb9f3a\"],[0.8888888888888888,\"#fdca26\"],[1.0,\"#f0f921\"]]}],\"heatmap\":[{\"type\":\"heatmap\",\"colorbar\":{\"outlinewidth\":0,\"ticks\":\"\"},\"colorscale\":[[0.0,\"#0d0887\"],[0.1111111111111111,\"#46039f\"],[0.2222222222222222,\"#7201a8\"],[0.3333333333333333,\"#9c179e\"],[0.4444444444444444,\"#bd3786\"],[0.5555555555555556,\"#d8576b\"],[0.6666666666666666,\"#ed7953\"],[0.7777777777777778,\"#fb9f3a\"],[0.8888888888888888,\"#fdca26\"],[1.0,\"#f0f921\"]]}],\"contourcarpet\":[{\"type\":\"contourcarpet\",\"colorbar\":{\"outlinewidth\":0,\"ticks\":\"\"}}],\"contour\":[{\"type\":\"contour\",\"colorbar\":{\"outlinewidth\":0,\"ticks\":\"\"},\"colorscale\":[[0.0,\"#0d0887\"],[0.1111111111111111,\"#46039f\"],[0.2222222222222222,\"#7201a8\"],[0.3333333333333333,\"#9c179e\"],[0.4444444444444444,\"#bd3786\"],[0.5555555555555556,\"#d8576b\"],[0.6666666666666666,\"#ed7953\"],[0.7777777777777778,\"#fb9f3a\"],[0.8888888888888888,\"#fdca26\"],[1.0,\"#f0f921\"]]}],\"surface\":[{\"type\":\"surface\",\"colorbar\":{\"outlinewidth\":0,\"ticks\":\"\"},\"colorscale\":[[0.0,\"#0d0887\"],[0.1111111111111111,\"#46039f\"],[0.2222222222222222,\"#7201a8\"],[0.3333333333333333,\"#9c179e\"],[0.4444444444444444,\"#bd3786\"],[0.5555555555555556,\"#d8576b\"],[0.6666666666666666,\"#ed7953\"],[0.7777777777777778,\"#fb9f3a\"],[0.8888888888888888,\"#fdca26\"],[1.0,\"#f0f921\"]]}],\"mesh3d\":[{\"type\":\"mesh3d\",\"colorbar\":{\"outlinewidth\":0,\"ticks\":\"\"}}],\"scatter\":[{\"fillpattern\":{\"fillmode\":\"overlay\",\"size\":10,\"solidity\":0.2},\"type\":\"scatter\"}],\"parcoords\":[{\"type\":\"parcoords\",\"line\":{\"colorbar\":{\"outlinewidth\":0,\"ticks\":\"\"}}}],\"scatterpolargl\":[{\"type\":\"scatterpolargl\",\"marker\":{\"colorbar\":{\"outlinewidth\":0,\"ticks\":\"\"}}}],\"bar\":[{\"error_x\":{\"color\":\"#2a3f5f\"},\"error_y\":{\"color\":\"#2a3f5f\"},\"marker\":{\"line\":{\"color\":\"#E5ECF6\",\"width\":0.5},\"pattern\":{\"fillmode\":\"overlay\",\"size\":10,\"solidity\":0.2}},\"type\":\"bar\"}],\"scattergeo\":[{\"type\":\"scattergeo\",\"marker\":{\"colorbar\":{\"outlinewidth\":0,\"ticks\":\"\"}}}],\"scatterpolar\":[{\"type\":\"scatterpolar\",\"marker\":{\"colorbar\":{\"outlinewidth\":0,\"ticks\":\"\"}}}],\"histogram\":[{\"marker\":{\"pattern\":{\"fillmode\":\"overlay\",\"size\":10,\"solidity\":0.2}},\"type\":\"histogram\"}],\"scattergl\":[{\"type\":\"scattergl\",\"marker\":{\"colorbar\":{\"outlinewidth\":0,\"ticks\":\"\"}}}],\"scatter3d\":[{\"type\":\"scatter3d\",\"line\":{\"colorbar\":{\"outlinewidth\":0,\"ticks\":\"\"}},\"marker\":{\"colorbar\":{\"outlinewidth\":0,\"ticks\":\"\"}}}],\"scattermap\":[{\"type\":\"scattermap\",\"marker\":{\"colorbar\":{\"outlinewidth\":0,\"ticks\":\"\"}}}],\"scattermapbox\":[{\"type\":\"scattermapbox\",\"marker\":{\"colorbar\":{\"outlinewidth\":0,\"ticks\":\"\"}}}],\"scatterternary\":[{\"type\":\"scatterternary\",\"marker\":{\"colorbar\":{\"outlinewidth\":0,\"ticks\":\"\"}}}],\"scattercarpet\":[{\"type\":\"scattercarpet\",\"marker\":{\"colorbar\":{\"outlinewidth\":0,\"ticks\":\"\"}}}],\"carpet\":[{\"aaxis\":{\"endlinecolor\":\"#2a3f5f\",\"gridcolor\":\"white\",\"linecolor\":\"white\",\"minorgridcolor\":\"white\",\"startlinecolor\":\"#2a3f5f\"},\"baxis\":{\"endlinecolor\":\"#2a3f5f\",\"gridcolor\":\"white\",\"linecolor\":\"white\",\"minorgridcolor\":\"white\",\"startlinecolor\":\"#2a3f5f\"},\"type\":\"carpet\"}],\"table\":[{\"cells\":{\"fill\":{\"color\":\"#EBF0F8\"},\"line\":{\"color\":\"white\"}},\"header\":{\"fill\":{\"color\":\"#C8D4E3\"},\"line\":{\"color\":\"white\"}},\"type\":\"table\"}],\"barpolar\":[{\"marker\":{\"line\":{\"color\":\"#E5ECF6\",\"width\":0.5},\"pattern\":{\"fillmode\":\"overlay\",\"size\":10,\"solidity\":0.2}},\"type\":\"barpolar\"}],\"pie\":[{\"automargin\":true,\"type\":\"pie\"}]},\"layout\":{\"autotypenumbers\":\"strict\",\"colorway\":[\"#636efa\",\"#EF553B\",\"#00cc96\",\"#ab63fa\",\"#FFA15A\",\"#19d3f3\",\"#FF6692\",\"#B6E880\",\"#FF97FF\",\"#FECB52\"],\"font\":{\"color\":\"#2a3f5f\"},\"hovermode\":\"closest\",\"hoverlabel\":{\"align\":\"left\"},\"paper_bgcolor\":\"white\",\"plot_bgcolor\":\"#E5ECF6\",\"polar\":{\"bgcolor\":\"#E5ECF6\",\"angularaxis\":{\"gridcolor\":\"white\",\"linecolor\":\"white\",\"ticks\":\"\"},\"radialaxis\":{\"gridcolor\":\"white\",\"linecolor\":\"white\",\"ticks\":\"\"}},\"ternary\":{\"bgcolor\":\"#E5ECF6\",\"aaxis\":{\"gridcolor\":\"white\",\"linecolor\":\"white\",\"ticks\":\"\"},\"baxis\":{\"gridcolor\":\"white\",\"linecolor\":\"white\",\"ticks\":\"\"},\"caxis\":{\"gridcolor\":\"white\",\"linecolor\":\"white\",\"ticks\":\"\"}},\"coloraxis\":{\"colorbar\":{\"outlinewidth\":0,\"ticks\":\"\"}},\"colorscale\":{\"sequential\":[[0.0,\"#0d0887\"],[0.1111111111111111,\"#46039f\"],[0.2222222222222222,\"#7201a8\"],[0.3333333333333333,\"#9c179e\"],[0.4444444444444444,\"#bd3786\"],[0.5555555555555556,\"#d8576b\"],[0.6666666666666666,\"#ed7953\"],[0.7777777777777778,\"#fb9f3a\"],[0.8888888888888888,\"#fdca26\"],[1.0,\"#f0f921\"]],\"sequentialminus\":[[0.0,\"#0d0887\"],[0.1111111111111111,\"#46039f\"],[0.2222222222222222,\"#7201a8\"],[0.3333333333333333,\"#9c179e\"],[0.4444444444444444,\"#bd3786\"],[0.5555555555555556,\"#d8576b\"],[0.6666666666666666,\"#ed7953\"],[0.7777777777777778,\"#fb9f3a\"],[0.8888888888888888,\"#fdca26\"],[1.0,\"#f0f921\"]],\"diverging\":[[0,\"#8e0152\"],[0.1,\"#c51b7d\"],[0.2,\"#de77ae\"],[0.3,\"#f1b6da\"],[0.4,\"#fde0ef\"],[0.5,\"#f7f7f7\"],[0.6,\"#e6f5d0\"],[0.7,\"#b8e186\"],[0.8,\"#7fbc41\"],[0.9,\"#4d9221\"],[1,\"#276419\"]]},\"xaxis\":{\"gridcolor\":\"white\",\"linecolor\":\"white\",\"ticks\":\"\",\"title\":{\"standoff\":15},\"zerolinecolor\":\"white\",\"automargin\":true,\"zerolinewidth\":2},\"yaxis\":{\"gridcolor\":\"white\",\"linecolor\":\"white\",\"ticks\":\"\",\"title\":{\"standoff\":15},\"zerolinecolor\":\"white\",\"automargin\":true,\"zerolinewidth\":2},\"scene\":{\"xaxis\":{\"backgroundcolor\":\"#E5ECF6\",\"gridcolor\":\"white\",\"linecolor\":\"white\",\"showbackground\":true,\"ticks\":\"\",\"zerolinecolor\":\"white\",\"gridwidth\":2},\"yaxis\":{\"backgroundcolor\":\"#E5ECF6\",\"gridcolor\":\"white\",\"linecolor\":\"white\",\"showbackground\":true,\"ticks\":\"\",\"zerolinecolor\":\"white\",\"gridwidth\":2},\"zaxis\":{\"backgroundcolor\":\"#E5ECF6\",\"gridcolor\":\"white\",\"linecolor\":\"white\",\"showbackground\":true,\"ticks\":\"\",\"zerolinecolor\":\"white\",\"gridwidth\":2}},\"shapedefaults\":{\"line\":{\"color\":\"#2a3f5f\"}},\"annotationdefaults\":{\"arrowcolor\":\"#2a3f5f\",\"arrowhead\":0,\"arrowwidth\":1},\"geo\":{\"bgcolor\":\"white\",\"landcolor\":\"#E5ECF6\",\"subunitcolor\":\"white\",\"showland\":true,\"showlakes\":true,\"lakecolor\":\"white\"},\"title\":{\"x\":0.05},\"mapbox\":{\"style\":\"light\"}}},\"title\":{\"text\":\"Volatility Term Structure (ATM)\"},\"xaxis\":{\"title\":{\"text\":\"Days to Expiry\"}},\"yaxis\":{\"title\":{\"text\":\"Implied Volatility (%)\"}},\"height\":500,\"showlegend\":false},                        {\"responsive\": true}                    ).then(function(){\n",
       "                            \n",
       "var gd = document.getElementById('f0d3a0cf-c61e-4607-9e0c-057e62d11c0c');\n",
       "var x = new MutationObserver(function (mutations, observer) {{\n",
       "        var display = window.getComputedStyle(gd).display;\n",
       "        if (!display || display === 'none') {{\n",
       "            console.log([gd, 'removed!']);\n",
       "            Plotly.purge(gd);\n",
       "            observer.disconnect();\n",
       "        }}\n",
       "}});\n",
       "\n",
       "// Listen for the removal of the full notebook cells\n",
       "var notebookContainer = gd.closest('#notebook-container');\n",
       "if (notebookContainer) {{\n",
       "    x.observe(notebookContainer, {childList: true});\n",
       "}}\n",
       "\n",
       "// Listen for the clearing of the current output cell\n",
       "var outputEl = gd.closest('.output');\n",
       "if (outputEl) {{\n",
       "    x.observe(outputEl, {childList: true});\n",
       "}}\n",
       "\n",
       "                        })                };            </script>        </div>"
      ]
     },
     "metadata": {},
     "output_type": "display_data"
    }
   ],
   "source": [
    "# Interactive Plotly Dashboard\n",
    "import plotly.graph_objects as go\n",
    "from plotly.subplots import make_subplots\n",
    "import plotly.express as px\n",
    "from plotly.offline import init_notebook_mode\n",
    "init_notebook_mode(connected=True)\n",
    "\n",
    "def create_interactive_dashboard(results):\n",
    "    \"\"\"Create interactive Plotly dashboard for options analysis\"\"\"\n",
    "    \n",
    "    if not results:\n",
    "        print(\"No analysis results available. Please run the main analysis first.\")\n",
    "        return\n",
    "    \n",
    "    print(f\"Creating interactive dashboard with {len(results)} expiries...\")\n",
    "    \n",
    "    # Create subplot with secondary y-axis\n",
    "    fig = make_subplots(\n",
    "        rows=2, cols=2,\n",
    "        subplot_titles=('IV Smiles (All Expiries)', 'Risk-Neutral Densities', \n",
    "                       'IV Surface (3D)', 'Summary Statistics'),\n",
    "        specs=[[{'type': 'scatter'}, {'type': 'scatter'}],\n",
    "               [{'type': 'surface'}, {'type': 'bar'}]],\n",
    "        vertical_spacing=0.12,\n",
    "        horizontal_spacing=0.08\n",
    "    )\n",
    "    \n",
    "    # Color palette for different expiries\n",
    "    colors = px.colors.qualitative.Plotly\n",
    "    \n",
    "    # 1. IV Smiles for all expiries\n",
    "    for i, result in enumerate(results):\n",
    "        color = colors[i % len(colors)]\n",
    "        \n",
    "        # Market IV points\n",
    "        fig.add_trace(\n",
    "            go.Scatter(\n",
    "                x=result['strikes'],\n",
    "                y=result['ivs']*100,\n",
    "                mode='markers',\n",
    "                name=f\"Market IV - {result['expiry_str'][:10]}\",\n",
    "                marker=dict(color=color, size=6),\n",
    "                showlegend=True,\n",
    "                hovertemplate=f\"Expiry: {result['expiry_str']}<br>\" +\n",
    "                            \"Strike: %{x:.0f}<br>\" +\n",
    "                            \"IV: %{y:.1f}%<extra></extra>\"\n",
    "            ),\n",
    "            row=1, col=1\n",
    "        )\n",
    "        \n",
    "        # Interpolated IV curve\n",
    "        iv_interp = CubicSpline(result['strikes'], result['ivs'], bc_type='natural')(result['K_dense'])\n",
    "        fig.add_trace(\n",
    "            go.Scatter(\n",
    "                x=result['K_dense'],\n",
    "                y=iv_interp*100,\n",
    "                mode='lines',\n",
    "                name=f\"IV Curve - {result['expiry_str'][:10]}\",\n",
    "                line=dict(color=color, width=2),\n",
    "                showlegend=False,\n",
    "                hovertemplate=f\"Expiry: {result['expiry_str']}<br>\" +\n",
    "                            \"Strike: %{x:.0f}<br>\" +\n",
    "                            \"IV: %{y:.1f}%<extra></extra>\"\n",
    "            ),\n",
    "            row=1, col=1\n",
    "        )\n",
    "    \n",
    "    # Add spot price line to IV plot\n",
    "    if results:\n",
    "        spot = results[0]['spot']\n",
    "        fig.add_vline(x=spot, line_dash=\"dash\", line_color=\"green\", \n",
    "                     annotation_text=f\"Spot: ${spot:.0f}\", row=1, col=1)\n",
    "    \n",
    "    # 2. Risk-Neutral Densities\n",
    "    for i, result in enumerate(results):\n",
    "        color = colors[i % len(colors)]\n",
    "        \n",
    "        fig.add_trace(\n",
    "            go.Scatter(\n",
    "                x=result['K_dense'],\n",
    "                y=result['rn_density'],\n",
    "                mode='lines',\n",
    "                name=f\"RN Density - {result['expiry_str'][:10]}\",\n",
    "                line=dict(color=color, width=2),\n",
    "                fill='tonexty' if i > 0 else 'tozeroy',\n",
    "                fillcolor=f\"rgba{tuple(list(px.colors.hex_to_rgb(color)) + [0.1])}\",\n",
    "                hovertemplate=f\"Expiry: {result['expiry_str']}<br>\" +\n",
    "                            \"Strike: %{x:.0f}<br>\" +\n",
    "                            \"Density: %{y:.6f}<extra></extra>\"\n",
    "            ),\n",
    "            row=1, col=2\n",
    "        )\n",
    "    \n",
    "    # Add spot price line to density plot\n",
    "    if results:\n",
    "        fig.add_vline(x=spot, line_dash=\"dash\", line_color=\"green\", \n",
    "                     annotation_text=f\"Spot: ${spot:.0f}\", row=1, col=2)\n",
    "    \n",
    "    # 3. IV Surface (3D)\n",
    "    if len(results) >= 2:\n",
    "        # Prepare data for 3D surface\n",
    "        expiry_days = []\n",
    "        strike_grid = []\n",
    "        iv_grid = []\n",
    "        \n",
    "        # Get common strike range\n",
    "        min_strike = min([r['strikes'].min() for r in results])\n",
    "        max_strike = max([r['strikes'].max() for r in results])\n",
    "        common_strikes = np.linspace(min_strike, max_strike, 50)\n",
    "        \n",
    "        for result in results:\n",
    "            # Calculate days to expiry (simplified)\n",
    "            expiry_day = (result['expiry'] - results[0]['expiry']) / (1000 * 60 * 60 * 24)\n",
    "            expiry_days.append(expiry_day)\n",
    "            \n",
    "            # Interpolate IV for common strikes\n",
    "            iv_spline = CubicSpline(result['strikes'], result['ivs'], bc_type='natural')\n",
    "            iv_values = iv_spline(common_strikes) * 100\n",
    "            \n",
    "            strike_grid.append(common_strikes)\n",
    "            iv_grid.append(iv_values)\n",
    "        \n",
    "        # Convert to meshgrid format\n",
    "        X, Y = np.meshgrid(common_strikes, expiry_days)\n",
    "        Z = np.array(iv_grid)\n",
    "        \n",
    "        fig.add_trace(\n",
    "            go.Surface(\n",
    "                x=X,\n",
    "                y=Y,\n",
    "                z=Z,\n",
    "                colorscale='Viridis',\n",
    "                name='IV Surface',\n",
    "                hovertemplate=\"Strike: %{x:.0f}<br>\" +\n",
    "                            \"Days to Expiry: %{y:.1f}<br>\" +\n",
    "                            \"IV: %{z:.1f}%<extra></extra>\"\n",
    "            ),\n",
    "            row=2, col=1\n",
    "        )\n",
    "    \n",
    "    # 4. Summary Statistics\n",
    "    expiry_labels = [r['expiry_str'][:10] for r in results]\n",
    "    avg_ivs = [r['ivs'].mean() * 100 for r in results]\n",
    "    iv_ranges = [r['ivs'].std() * 100 for r in results]\n",
    "    \n",
    "    fig.add_trace(\n",
    "        go.Bar(\n",
    "            x=expiry_labels,\n",
    "            y=avg_ivs,\n",
    "            name='Avg IV',\n",
    "            marker_color='lightblue',\n",
    "            hovertemplate=\"Expiry: %{x}<br>\" +\n",
    "                        \"Avg IV: %{y:.1f}%<extra></extra>\"\n",
    "        ),\n",
    "        row=2, col=2\n",
    "    )\n",
    "    \n",
    "    fig.add_trace(\n",
    "        go.Bar(\n",
    "            x=expiry_labels,\n",
    "            y=iv_ranges,\n",
    "            name='IV Std Dev',\n",
    "            marker_color='orange',\n",
    "            yaxis='y2',\n",
    "            hovertemplate=\"Expiry: %{x}<br>\" +\n",
    "                        \"IV Std: %{y:.1f}%<extra></extra>\"\n",
    "        ),\n",
    "        row=2, col=2\n",
    "    )\n",
    "    \n",
    "    # Update layout\n",
    "    fig.update_layout(\n",
    "        height=1000,\n",
    "        title_text=f\"Interactive Options Analysis Dashboard - {len(results)} Expiries\",\n",
    "        showlegend=True,\n",
    "        legend=dict(x=1.05, y=1),\n",
    "        font=dict(size=12)\n",
    "    )\n",
    "    \n",
    "    # Update subplot titles and axes\n",
    "    fig.update_xaxes(title_text=\"Strike Price\", row=1, col=1)\n",
    "    fig.update_yaxes(title_text=\"Implied Volatility (%)\", row=1, col=1)\n",
    "    \n",
    "    fig.update_xaxes(title_text=\"Strike Price\", row=1, col=2)\n",
    "    fig.update_yaxes(title_text=\"Risk-Neutral Density\", row=1, col=2)\n",
    "    \n",
    "    if len(results) >= 2:\n",
    "        fig.update_layout(scene=dict(\n",
    "            xaxis_title=\"Strike Price\",\n",
    "            yaxis_title=\"Days to Expiry\",\n",
    "            zaxis_title=\"Implied Volatility (%)\"\n",
    "        ))\n",
    "    \n",
    "    fig.update_xaxes(title_text=\"Expiry\", row=2, col=2)\n",
    "    fig.update_yaxes(title_text=\"Average IV (%)\", row=2, col=2)\n",
    "    \n",
    "    return fig\n",
    "\n",
    "# Create and display dashboard\n",
    "if 'analysis_results' in globals():\n",
    "    dashboard = create_interactive_dashboard(analysis_results)\n",
    "    dashboard.show()\n",
    "    \n",
    "    # Additional analysis: Create volatility term structure\n",
    "    print(\"\\n📊 Creating Volatility Term Structure...\")\n",
    "    \n",
    "    fig_term = go.Figure()\n",
    "    \n",
    "    for result in analysis_results:\n",
    "        # Calculate ATM IV (closest to spot)\n",
    "        spot = result['spot']\n",
    "        atm_idx = np.argmin(np.abs(result['strikes'] - spot))\n",
    "        atm_iv = result['ivs'][atm_idx] * 100\n",
    "        \n",
    "        # Calculate days to expiry\n",
    "        days_to_expiry = (result['expiry'] - analysis_results[0]['expiry']) / (1000 * 60 * 60 * 24)\n",
    "        \n",
    "        fig_term.add_trace(go.Scatter(\n",
    "            x=[days_to_expiry],\n",
    "            y=[atm_iv],\n",
    "            mode='markers+text',\n",
    "            marker=dict(size=10, color='blue'),\n",
    "            text=[result['expiry_str'][:10]],\n",
    "            textposition='top center',\n",
    "            name=f\"ATM IV - {result['expiry_str'][:10]}\",\n",
    "            hovertemplate=f\"Expiry: {result['expiry_str']}<br>\" +\n",
    "                        f\"Days to Expiry: {days_to_expiry:.1f}<br>\" +\n",
    "                        f\"ATM IV: {atm_iv:.1f}%<extra></extra>\"\n",
    "        ))\n",
    "    \n",
    "    fig_term.update_layout(\n",
    "        title=\"Volatility Term Structure (ATM)\",\n",
    "        xaxis_title=\"Days to Expiry\",\n",
    "        yaxis_title=\"Implied Volatility (%)\",\n",
    "        height=500,\n",
    "        showlegend=False\n",
    "    )\n",
    "    \n",
    "    fig_term.show()\n",
    "    \n",
    "else:\n",
    "    print(\"⚠️ No analysis results found. Please run the main analysis cell first.\")"
   ]
  },
  {
   "cell_type": "code",
   "execution_count": 6,
   "id": "adb6491a",
   "metadata": {},
   "outputs": [
    {
     "name": "stdout",
     "output_type": "stream",
     "text": [
      "🏗️ Constructing volatility surface from 10 expiries...\n",
      "📊 Surface data: 307 points across 10 expiries\n",
      "\n",
      "📈 Volatility Surface Statistics:\n",
      "   Strike range: $20000 - $400000\n",
      "   Time range: 0.0 - 126.0 days\n",
      "   IV range: 29.5% - 145.3%\n",
      "   Moneyness range: 0.18 - 3.53\n",
      "\n",
      "⏰ ATM Term Structure:\n",
      "   2025-08-22: 32.7% (0.0 days)\n",
      "   2025-08-23: 36.6% (1.0 days)\n",
      "   2025-08-24: 32.3% (2.0 days)\n",
      "   2025-08-25: 30.8% (3.0 days)\n",
      "   2025-08-29: 33.8% (7.0 days)\n",
      "   2025-09-05: 34.2% (14.0 days)\n",
      "   2025-09-12: 34.2% (21.0 days)\n",
      "   2025-09-26: 34.2% (35.0 days)\n",
      "   2025-10-31: 36.0% (70.0 days)\n",
      "   2025-12-26: 40.3% (126.0 days)\n"
     ]
    },
    {
     "data": {
      "application/vnd.plotly.v1+json": {
       "config": {
        "plotlyServerURL": "https://plot.ly"
       },
       "data": [
        {
         "colorbar": {
          "title": {
           "text": "Implied Volatility (%)"
          },
          "x": 0.45
         },
         "colorscale": [
          [
           0,
           "#440154"
          ],
          [
           0.1111111111111111,
           "#482878"
          ],
          [
           0.2222222222222222,
           "#3e4989"
          ],
          [
           0.3333333333333333,
           "#31688e"
          ],
          [
           0.4444444444444444,
           "#26828e"
          ],
          [
           0.5555555555555556,
           "#1f9e89"
          ],
          [
           0.6666666666666666,
           "#35b779"
          ],
          [
           0.7777777777777778,
           "#6ece58"
          ],
          [
           0.8888888888888888,
           "#b5de2b"
          ],
          [
           1,
           "#fde725"
          ]
         ],
         "hovertemplate": "Strike: %{x:.0f}<br>Days to Expiry: %{y:.1f}<br>IV: %{z:.1f}%<extra></extra>",
         "name": "IV Surface",
         "scene": "scene",
         "type": "surface",
         "x": {
          "bdata": "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",
          "dtype": "f8",
          "shape": "20, 50"
         },
         "y": {
          "bdata": "AAAAAAAAAAAAAAAAAAAAAAAAAAAAAAAAAAAAAAAAAAAAAAAAAAAAAAAAAAAAAAAAAAAAAAAAAAAAAAAAAAAAAAAAAAAAAAAAAAAAAAAAAAAAAAAAAAAAAAAAAAAAAAAAAAAAAAAAAAAAAAAAAAAAAAAAAAAAAAAAAAAAAAAAAAAAAAAAAAAAAAAAAAAAAAAAAAAAAAAAAAAAAAAAAAAAAAAAAAAAAAAAAAAAAAAAAAAAAAAAAAAAAAAAAAAAAAAAAAAAAAAAAAAAAAAAAAAAAAAAAAAAAAAAAAAAAAAAAAAAAAAAAAAAAAAAAAAAAAAAAAAAAAAAAAAAAAAAAAAAAAAAAAAAAAAAAAAAAAAAAAAAAAAAAAAAAAAAAAAAAAAAAAAAAAAAAAAAAAAAAAAAAAAAAAAAAAAAAAAAAAAAAAAAAAAAAAAAAAAAAAAAAAAAAAAAAAAAAAAAAAAAAAAAAAAAAAAAAAAAAAAAAAAAAAAAAAAAAAAAAAAAAAAAAAAAAAAAAAAAAAAAAAAAAAAAAGwor6G8hhpAbCivobyGGkBsKK+hvIYaQGwor6G8hhpAbCivobyGGkBsKK+hvIYaQGwor6G8hhpAbCivobyGGkBsKK+hvIYaQGwor6G8hhpAbCivobyGGkBsKK+hvIYaQGwor6G8hhpAbCivobyGGkBsKK+hvIYaQGwor6G8hhpAbCivobyGGkBsKK+hvIYaQGwor6G8hhpAbCivobyGGkBsKK+hvIYaQGwor6G8hhpAbCivobyGGkBsKK+hvIYaQGwor6G8hhpAbCivobyGGkBsKK+hvIYaQGwor6G8hhpAbCivobyGGkBsKK+hvIYaQGwor6G8hhpAbCivobyGGkBsKK+hvIYaQGwor6G8hhpAbCivobyGGkBsKK+hvIYaQGwor6G8hhpAbCivobyGGkBsKK+hvIYaQGwor6G8hhpAbCivobyGGkBsKK+hvIYaQGwor6G8hhpAbCivobyGGkBsKK+hvIYaQGwor6G8hhpAbCivobyGGkBsKK+hvIYaQGwor6G8hhpAbCivobyGGkBsKK+hvIYqQGwor6G8hipAbCivobyGKkBsKK+hvIYqQGwor6G8hipAbCivobyGKkBsKK+hvIYqQGwor6G8hipAbCivobyGKkBsKK+hvIYqQGwor6G8hipAbCivobyGKkBsKK+hvIYqQGwor6G8hipAbCivobyGKkBsKK+hvIYqQGwor6G8hipAbCivobyGKkBsKK+hvIYqQGwor6G8hipAbCivobyGKkBsKK+hvIYqQGwor6G8hipAbCivobyGKkBsKK+hvIYqQGwor6G8hipAbCivobyGKkBsKK+hvIYqQGwor6G8hipAbCivobyGKkBsKK+hvIYqQGwor6G8hipAbCivobyGKkBsKK+hvIYqQGwor6G8hipAbCivobyGKkBsKK+hvIYqQGwor6G8hipAbCivobyGKkBsKK+hvIYqQGwor6G8hipAbCivobyGKkBsKK+hvIYqQGwor6G8hipAbCivobyGKkBsKK+hvIYqQGwor6G8hipAbCivobyGKkBsKK+hvIYqQGwor6G8hipAUV5DeQ3lM0BRXkN5DeUzQFFeQ3kN5TNAUV5DeQ3lM0BRXkN5DeUzQFFeQ3kN5TNAUV5DeQ3lM0BRXkN5DeUzQFFeQ3kN5TNAUV5DeQ3lM0BRXkN5DeUzQFFeQ3kN5TNAUV5DeQ3lM0BRXkN5DeUzQFFeQ3kN5TNAUV5DeQ3lM0BRXkN5DeUzQFFeQ3kN5TNAUV5DeQ3lM0BRXkN5DeUzQFFeQ3kN5TNAUV5DeQ3lM0BRXkN5DeUzQFFeQ3kN5TNAUV5DeQ3lM0BRXkN5DeUzQFFeQ3kN5TNAUV5DeQ3lM0BRXkN5DeUzQFFeQ3kN5TNAUV5DeQ3lM0BRXkN5DeUzQFFeQ3kN5TNAUV5DeQ3lM0BRXkN5DeUzQFFeQ3kN5TNAUV5DeQ3lM0BRXkN5DeUzQFFeQ3kN5TNAUV5DeQ3lM0BRXkN5DeUzQFFeQ3kN5TNAUV5DeQ3lM0BRXkN5DeUzQFFeQ3kN5TNAUV5DeQ3lM0BRXkN5DeUzQFFeQ3kN5TNAUV5DeQ3lM0BRXkN5DeUzQGwor6G8hjpAbCivobyGOkBsKK+hvIY6QGwor6G8hjpAbCivobyGOkBsKK+hvIY6QGwor6G8hjpAbCivobyGOkBsKK+hvIY6QGwor6G8hjpAbCivobyGOkBsKK+hvIY6QGwor6G8hjpAbCivobyGOkBsKK+hvIY6QGwor6G8hjpAbCivobyGOkBsKK+hvIY6QGwor6G8hjpAbCivobyGOkBsKK+hvIY6QGwor6G8hjpAbCivobyGOkBsKK+hvIY6QGwor6G8hjpAbCivobyGOkBsKK+hvIY6QGwor6G8hjpAbCivobyGOkBsKK+hvIY6QGwor6G8hjpAbCivobyGOkBsKK+hvIY6QGwor6G8hjpAbCivobyGOkBsKK+hvIY6QGwor6G8hjpAbCivobyGOkBsKK+hvIY6QGwor6G8hjpAbCivobyGOkBsKK+hvIY6QGwor6G8hjpAbCivobyGOkBsKK+hvIY6QGwor6G8hjpAbCivobyGOkBsKK+hvIY6QGwor6G8hjpAbCivobyGOkBEeQ3lNZRAQER5DeU1lEBARHkN5TWUQEBEeQ3lNZRAQER5DeU1lEBARHkN5TWUQEBEeQ3lNZRAQER5DeU1lEBARHkN5TWUQEBEeQ3lNZRAQER5DeU1lEBARHkN5TWUQEBEeQ3lNZRAQER5DeU1lEBARHkN5TWUQEBEeQ3lNZRAQER5DeU1lEBARHkN5TWUQEBEeQ3lNZRAQER5DeU1lEBARHkN5TWUQEBEeQ3lNZRAQER5DeU1lEBARHkN5TWUQEBEeQ3lNZRAQER5DeU1lEBARHkN5TWUQEBEeQ3lNZRAQER5DeU1lEBARHkN5TWUQEBEeQ3lNZRAQER5DeU1lEBARHkN5TWUQEBEeQ3lNZRAQER5DeU1lEBARHkN5TWUQEBEeQ3lNZRAQER5DeU1lEBARHkN5TWUQEBEeQ3lNZRAQER5DeU1lEBARHkN5TWUQEBEeQ3lNZRAQER5DeU1lEBARHkN5TWUQEBEeQ3lNZRAQER5DeU1lEBARHkN5TWUQEBEeQ3lNZRAQER5DeU1lEBAUV5DeQ3lQ0BRXkN5DeVDQFFeQ3kN5UNAUV5DeQ3lQ0BRXkN5DeVDQFFeQ3kN5UNAUV5DeQ3lQ0BRXkN5DeVDQFFeQ3kN5UNAUV5DeQ3lQ0BRXkN5DeVDQFFeQ3kN5UNAUV5DeQ3lQ0BRXkN5DeVDQFFeQ3kN5UNAUV5DeQ3lQ0BRXkN5DeVDQFFeQ3kN5UNAUV5DeQ3lQ0BRXkN5DeVDQFFeQ3kN5UNAUV5DeQ3lQ0BRXkN5DeVDQFFeQ3kN5UNAUV5DeQ3lQ0BRXkN5DeVDQFFeQ3kN5UNAUV5DeQ3lQ0BRXkN5DeVDQFFeQ3kN5UNAUV5DeQ3lQ0BRXkN5DeVDQFFeQ3kN5UNAUV5DeQ3lQ0BRXkN5DeVDQFFeQ3kN5UNAUV5DeQ3lQ0BRXkN5DeVDQFFeQ3kN5UNAUV5DeQ3lQ0BRXkN5DeVDQFFeQ3kN5UNAUV5DeQ3lQ0BRXkN5DeVDQFFeQ3kN5UNAUV5DeQ3lQ0BRXkN5DeVDQFFeQ3kN5UNAUV5DeQ3lQ0BRXkN5DeVDQF5DeQ3lNUdAXkN5DeU1R0BeQ3kN5TVHQF5DeQ3lNUdAXkN5DeU1R0BeQ3kN5TVHQF5DeQ3lNUdAXkN5DeU1R0BeQ3kN5TVHQF5DeQ3lNUdAXkN5DeU1R0BeQ3kN5TVHQF5DeQ3lNUdAXkN5DeU1R0BeQ3kN5TVHQF5DeQ3lNUdAXkN5DeU1R0BeQ3kN5TVHQF5DeQ3lNUdAXkN5DeU1R0BeQ3kN5TVHQF5DeQ3lNUdAXkN5DeU1R0BeQ3kN5TVHQF5DeQ3lNUdAXkN5DeU1R0BeQ3kN5TVHQF5DeQ3lNUdAXkN5DeU1R0BeQ3kN5TVHQF5DeQ3lNUdAXkN5DeU1R0BeQ3kN5TVHQF5DeQ3lNUdAXkN5DeU1R0BeQ3kN5TVHQF5DeQ3lNUdAXkN5DeU1R0BeQ3kN5TVHQF5DeQ3lNUdAXkN5DeU1R0BeQ3kN5TVHQF5DeQ3lNUdAXkN5DeU1R0BeQ3kN5TVHQF5DeQ3lNUdAXkN5DeU1R0BeQ3kN5TVHQF5DeQ3lNUdAXkN5DeU1R0BsKK+hvIZKQGwor6G8hkpAbCivobyGSkBsKK+hvIZKQGwor6G8hkpAbCivobyGSkBsKK+hvIZKQGwor6G8hkpAbCivobyGSkBsKK+hvIZKQGwor6G8hkpAbCivobyGSkBsKK+hvIZKQGwor6G8hkpAbCivobyGSkBsKK+hvIZKQGwor6G8hkpAbCivobyGSkBsKK+hvIZKQGwor6G8hkpAbCivobyGSkBsKK+hvIZKQGwor6G8hkpAbCivobyGSkBsKK+hvIZKQGwor6G8hkpAbCivobyGSkBsKK+hvIZKQGwor6G8hkpAbCivobyGSkBsKK+hvIZKQGwor6G8hkpAbCivobyGSkBsKK+hvIZKQGwor6G8hkpAbCivobyGSkBsKK+hvIZKQGwor6G8hkpAbCivobyGSkBsKK+hvIZKQGwor6G8hkpAbCivobyGSkBsKK+hvIZKQGwor6G8hkpAbCivobyGSkBsKK+hvIZKQGwor6G8hkpAbCivobyGSkBsKK+hvIZKQGwor6G8hkpAeg3lNZTXTUB6DeU1lNdNQHoN5TWU101Aeg3lNZTXTUB6DeU1lNdNQHoN5TWU101Aeg3lNZTXTUB6DeU1lNdNQHoN5TWU101Aeg3lNZTXTUB6DeU1lNdNQHoN5TWU101Aeg3lNZTXTUB6DeU1lNdNQHoN5TWU101Aeg3lNZTXTUB6DeU1lNdNQHoN5TWU101Aeg3lNZTXTUB6DeU1lNdNQHoN5TWU101Aeg3lNZTXTUB6DeU1lNdNQHoN5TWU101Aeg3lNZTXTUB6DeU1lNdNQHoN5TWU101Aeg3lNZTXTUB6DeU1lNdNQHoN5TWU101Aeg3lNZTXTUB6DeU1lNdNQHoN5TWU101Aeg3lNZTXTUB6DeU1lNdNQHoN5TWU101Aeg3lNZTXTUB6DeU1lNdNQHoN5TWU101Aeg3lNZTXTUB6DeU1lNdNQHoN5TWU101Aeg3lNZTXTUB6DeU1lNdNQHoN5TWU101Aeg3lNZTXTUB6DeU1lNdNQHoN5TWU101Aeg3lNZTXTUB6DeU1lNdNQER5DeU1lFBARHkN5TWUUEBEeQ3lNZRQQER5DeU1lFBARHkN5TWUUEBEeQ3lNZRQQER5DeU1lFBARHkN5TWUUEBEeQ3lNZRQQER5DeU1lFBARHkN5TWUUEBEeQ3lNZRQQER5DeU1lFBARHkN5TWUUEBEeQ3lNZRQQER5DeU1lFBARHkN5TWUUEBEeQ3lNZRQQER5DeU1lFBARHkN5TWUUEBEeQ3lNZRQQER5DeU1lFBARHkN5TWUUEBEeQ3lNZRQQER5DeU1lFBARHkN5TWUUEBEeQ3lNZRQQER5DeU1lFBARHkN5TWUUEBEeQ3lNZRQQER5DeU1lFBARHkN5TWUUEBEeQ3lNZRQQER5DeU1lFBARHkN5TWUUEBEeQ3lNZRQQER5DeU1lFBARHkN5TWUUEBEeQ3lNZRQQER5DeU1lFBARHkN5TWUUEBEeQ3lNZRQQER5DeU1lFBARHkN5TWUUEBEeQ3lNZRQQER5DeU1lFBARHkN5TWUUEBEeQ3lNZRQQER5DeU1lFBARHkN5TWUUEDKayivoTxSQMprKK+hPFJAymsor6E8UkDKayivoTxSQMprKK+hPFJAymsor6E8UkDKayivoTxSQMprKK+hPFJAymsor6E8UkDKayivoTxSQMprKK+hPFJAymsor6E8UkDKayivoTxSQMprKK+hPFJAymsor6E8UkDKayivoTxSQMprKK+hPFJAymsor6E8UkDKayivoTxSQMprKK+hPFJAymsor6E8UkDKayivoTxSQMprKK+hPFJAymsor6E8UkDKayivoTxSQMprKK+hPFJAymsor6E8UkDKayivoTxSQMprKK+hPFJAymsor6E8UkDKayivoTxSQMprKK+hPFJAymsor6E8UkDKayivoTxSQMprKK+hPFJAymsor6E8UkDKayivoTxSQMprKK+hPFJAymsor6E8UkDKayivoTxSQMprKK+hPFJAymsor6E8UkDKayivoTxSQMprKK+hPFJAymsor6E8UkDKayivoTxSQMprKK+hPFJAymsor6E8UkDKayivoTxSQMprKK+hPFJAUV5DeQ3lU0BRXkN5DeVTQFFeQ3kN5VNAUV5DeQ3lU0BRXkN5DeVTQFFeQ3kN5VNAUV5DeQ3lU0BRXkN5DeVTQFFeQ3kN5VNAUV5DeQ3lU0BRXkN5DeVTQFFeQ3kN5VNAUV5DeQ3lU0BRXkN5DeVTQFFeQ3kN5VNAUV5DeQ3lU0BRXkN5DeVTQFFeQ3kN5VNAUV5DeQ3lU0BRXkN5DeVTQFFeQ3kN5VNAUV5DeQ3lU0BRXkN5DeVTQFFeQ3kN5VNAUV5DeQ3lU0BRXkN5DeVTQFFeQ3kN5VNAUV5DeQ3lU0BRXkN5DeVTQFFeQ3kN5VNAUV5DeQ3lU0BRXkN5DeVTQFFeQ3kN5VNAUV5DeQ3lU0BRXkN5DeVTQFFeQ3kN5VNAUV5DeQ3lU0BRXkN5DeVTQFFeQ3kN5VNAUV5DeQ3lU0BRXkN5DeVTQFFeQ3kN5VNAUV5DeQ3lU0BRXkN5DeVTQFFeQ3kN5VNAUV5DeQ3lU0BRXkN5DeVTQFFeQ3kN5VNAUV5DeQ3lU0BRXkN5DeVTQNhQXkN5jVVA2FBeQ3mNVUDYUF5DeY1VQNhQXkN5jVVA2FBeQ3mNVUDYUF5DeY1VQNhQXkN5jVVA2FBeQ3mNVUDYUF5DeY1VQNhQXkN5jVVA2FBeQ3mNVUDYUF5DeY1VQNhQXkN5jVVA2FBeQ3mNVUDYUF5DeY1VQNhQXkN5jVVA2FBeQ3mNVUDYUF5DeY1VQNhQXkN5jVVA2FBeQ3mNVUDYUF5DeY1VQNhQXkN5jVVA2FBeQ3mNVUDYUF5DeY1VQNhQXkN5jVVA2FBeQ3mNVUDYUF5DeY1VQNhQXkN5jVVA2FBeQ3mNVUDYUF5DeY1VQNhQXkN5jVVA2FBeQ3mNVUDYUF5DeY1VQNhQXkN5jVVA2FBeQ3mNVUDYUF5DeY1VQNhQXkN5jVVA2FBeQ3mNVUDYUF5DeY1VQNhQXkN5jVVA2FBeQ3mNVUDYUF5DeY1VQNhQXkN5jVVA2FBeQ3mNVUDYUF5DeY1VQNhQXkN5jVVA2FBeQ3mNVUDYUF5DeY1VQNhQXkN5jVVA2FBeQ3mNVUBeQ3kN5TVXQF5DeQ3lNVdAXkN5DeU1V0BeQ3kN5TVXQF5DeQ3lNVdAXkN5DeU1V0BeQ3kN5TVXQF5DeQ3lNVdAXkN5DeU1V0BeQ3kN5TVXQF5DeQ3lNVdAXkN5DeU1V0BeQ3kN5TVXQF5DeQ3lNVdAXkN5DeU1V0BeQ3kN5TVXQF5DeQ3lNVdAXkN5DeU1V0BeQ3kN5TVXQF5DeQ3lNVdAXkN5DeU1V0BeQ3kN5TVXQF5DeQ3lNVdAXkN5DeU1V0BeQ3kN5TVXQF5DeQ3lNVdAXkN5DeU1V0BeQ3kN5TVXQF5DeQ3lNVdAXkN5DeU1V0BeQ3kN5TVXQF5DeQ3lNVdAXkN5DeU1V0BeQ3kN5TVXQF5DeQ3lNVdAXkN5DeU1V0BeQ3kN5TVXQF5DeQ3lNVdAXkN5DeU1V0BeQ3kN5TVXQF5DeQ3lNVdAXkN5DeU1V0BeQ3kN5TVXQF5DeQ3lNVdAXkN5DeU1V0BeQ3kN5TVXQF5DeQ3lNVdAXkN5DeU1V0BeQ3kN5TVXQF5DeQ3lNVdA5TWU11DeWEDlNZTXUN5YQOU1lNdQ3lhA5TWU11DeWEDlNZTXUN5YQOU1lNdQ3lhA5TWU11DeWEDlNZTXUN5YQOU1lNdQ3lhA5TWU11DeWEDlNZTXUN5YQOU1lNdQ3lhA5TWU11DeWEDlNZTXUN5YQOU1lNdQ3lhA5TWU11DeWEDlNZTXUN5YQOU1lNdQ3lhA5TWU11DeWEDlNZTXUN5YQOU1lNdQ3lhA5TWU11DeWEDlNZTXUN5YQOU1lNdQ3lhA5TWU11DeWEDlNZTXUN5YQOU1lNdQ3lhA5TWU11DeWEDlNZTXUN5YQOU1lNdQ3lhA5TWU11DeWEDlNZTXUN5YQOU1lNdQ3lhA5TWU11DeWEDlNZTXUN5YQOU1lNdQ3lhA5TWU11DeWEDlNZTXUN5YQOU1lNdQ3lhA5TWU11DeWEDlNZTXUN5YQOU1lNdQ3lhA5TWU11DeWEDlNZTXUN5YQOU1lNdQ3lhA5TWU11DeWEDlNZTXUN5YQOU1lNdQ3lhA5TWU11DeWEDlNZTXUN5YQGwor6G8hlpAbCivobyGWkBsKK+hvIZaQGwor6G8hlpAbCivobyGWkBsKK+hvIZaQGwor6G8hlpAbCivobyGWkBsKK+hvIZaQGwor6G8hlpAbCivobyGWkBsKK+hvIZaQGwor6G8hlpAbCivobyGWkBsKK+hvIZaQGwor6G8hlpAbCivobyGWkBsKK+hvIZaQGwor6G8hlpAbCivobyGWkBsKK+hvIZaQGwor6G8hlpAbCivobyGWkBsKK+hvIZaQGwor6G8hlpAbCivobyGWkBsKK+hvIZaQGwor6G8hlpAbCivobyGWkBsKK+hvIZaQGwor6G8hlpAbCivobyGWkBsKK+hvIZaQGwor6G8hlpAbCivobyGWkBsKK+hvIZaQGwor6G8hlpAbCivobyGWkBsKK+hvIZaQGwor6G8hlpAbCivobyGWkBsKK+hvIZaQGwor6G8hlpAbCivobyGWkBsKK+hvIZaQGwor6G8hlpAbCivobyGWkBsKK+hvIZaQGwor6G8hlpAbCivobyGWkDzGsprKC9cQPMaymsoL1xA8xrKaygvXEDzGsprKC9cQPMaymsoL1xA8xrKaygvXEDzGsprKC9cQPMaymsoL1xA8xrKaygvXEDzGsprKC9cQPMaymsoL1xA8xrKaygvXEDzGsprKC9cQPMaymsoL1xA8xrKaygvXEDzGsprKC9cQPMaymsoL1xA8xrKaygvXEDzGsprKC9cQPMaymsoL1xA8xrKaygvXEDzGsprKC9cQPMaymsoL1xA8xrKaygvXEDzGsprKC9cQPMaymsoL1xA8xrKaygvXEDzGsprKC9cQPMaymsoL1xA8xrKaygvXEDzGsprKC9cQPMaymsoL1xA8xrKaygvXEDzGsprKC9cQPMaymsoL1xA8xrKaygvXEDzGsprKC9cQPMaymsoL1xA8xrKaygvXEDzGsprKC9cQPMaymsoL1xA8xrKaygvXEDzGsprKC9cQPMaymsoL1xA8xrKaygvXEDzGsprKC9cQPMaymsoL1xA8xrKaygvXEDzGsprKC9cQPMaymsoL1xAeg3lNZTXXUB6DeU1lNddQHoN5TWU111Aeg3lNZTXXUB6DeU1lNddQHoN5TWU111Aeg3lNZTXXUB6DeU1lNddQHoN5TWU111Aeg3lNZTXXUB6DeU1lNddQHoN5TWU111Aeg3lNZTXXUB6DeU1lNddQHoN5TWU111Aeg3lNZTXXUB6DeU1lNddQHoN5TWU111Aeg3lNZTXXUB6DeU1lNddQHoN5TWU111Aeg3lNZTXXUB6DeU1lNddQHoN5TWU111Aeg3lNZTXXUB6DeU1lNddQHoN5TWU111Aeg3lNZTXXUB6DeU1lNddQHoN5TWU111Aeg3lNZTXXUB6DeU1lNddQHoN5TWU111Aeg3lNZTXXUB6DeU1lNddQHoN5TWU111Aeg3lNZTXXUB6DeU1lNddQHoN5TWU111Aeg3lNZTXXUB6DeU1lNddQHoN5TWU111Aeg3lNZTXXUB6DeU1lNddQHoN5TWU111Aeg3lNZTXXUB6DeU1lNddQHoN5TWU111Aeg3lNZTXXUB6DeU1lNddQAAAAAAAgF9AAAAAAACAX0AAAAAAAIBfQAAAAAAAgF9AAAAAAACAX0AAAAAAAIBfQAAAAAAAgF9AAAAAAACAX0AAAAAAAIBfQAAAAAAAgF9AAAAAAACAX0AAAAAAAIBfQAAAAAAAgF9AAAAAAACAX0AAAAAAAIBfQAAAAAAAgF9AAAAAAACAX0AAAAAAAIBfQAAAAAAAgF9AAAAAAACAX0AAAAAAAIBfQAAAAAAAgF9AAAAAAACAX0AAAAAAAIBfQAAAAAAAgF9AAAAAAACAX0AAAAAAAIBfQAAAAAAAgF9AAAAAAACAX0AAAAAAAIBfQAAAAAAAgF9AAAAAAACAX0AAAAAAAIBfQAAAAAAAgF9AAAAAAACAX0AAAAAAAIBfQAAAAAAAgF9AAAAAAACAX0AAAAAAAIBfQAAAAAAAgF9AAAAAAACAX0AAAAAAAIBfQAAAAAAAgF9AAAAAAACAX0AAAAAAAIBfQAAAAAAAgF9AAAAAAACAX0AAAAAAAIBfQAAAAAAAgF9AAAAAAACAX0A=",
          "dtype": "f8",
          "shape": "20, 50"
         },
         "z": {
          "bdata": "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",
          "dtype": "f8",
          "shape": "20, 50"
         }
        },
        {
         "hovertemplate": "Expiry: 2025-08-22 10:00:00<br>Strike: %{x:.0f}<br>IV: %{y:.1f}%<extra></extra>",
         "line": {
          "color": "#636EFA",
          "width": 2
         },
         "marker": {
          "color": "#636EFA",
          "size": 6
         },
         "mode": "markers+lines",
         "name": "2025-08-22",
         "type": "scatter",
         "x": {
          "bdata": "AAAAAAD59UAAAAAAgDH3QAAAAAAAavhAAAAAAADn+EAAAAAAAGT5QAAAAACAovlAAAAAAADh+UAAAAAAAF76QAAAAACAnPpAAAAAAADb+kAAAAAAgBn7QAAAAAAAWPtAAAAAAICW+0AAAAAAANX7QAAAAACAE/xAAAAAAABS/EAAAAAAgJD8QAAAAAAAz/xAAAAAAIAN/UAAAAAAAEz9QAAAAACAiv1AAAAAAADJ/UAAAAAAgAf+QAAAAAAARv5AAAAAAICE/kAAAAAAAMP+QAAAAACAAf9AAAAAAABA/0AAAAAAgH7/QAAAAAAAvf9AAAAAAAAdAEEAAAAAwHoAQQAAAAAAFwFBAAAAAECzAUEAAAAAgE8CQQAAAADA6wJBAAAAAACIA0EAAAAAQCQEQQ==",
          "dtype": "f8"
         },
         "xaxis": "x",
         "y": {
          "bdata": "SOF6FK6HXkBmZmZmZsZbQB+F61G43lhA7FG4HoXLVUC4HoXrUThTQIXrUbgexVFAuB6F61EIUEBlZmZmZmZLQKRwPQrXI0lAMzMzMzNzRkAAAAAAACBEQArXo3A9KkJAH4XrUbheQECkcD0K1+M9QHE9Ctej8D1AAAAAAACAP0AfhetRuL5BQGZmZmZmxkNAhetRuB4FR0AUrkfhenRJQJqZmZmZmUtAW4/C9SgcTUBmZmZmZuZOQGZmZmZmtlBAMzMzMzNDUUAzMzMzM0NRQDMzMzMzQ1FAMzMzMzNDUUAzMzMzM0NRQDMzMzMzQ1FAMzMzMzNDUUAfhetRuG5RQArXo3A9elJAKVyPwvWIUkApXI/C9YhSQClcj8L1iFJAKVyPwvWIUkApXI/C9YhSQA==",
          "dtype": "f8"
         },
         "yaxis": "y"
        },
        {
         "hovertemplate": "Expiry: 2025-08-23 10:00:00<br>Strike: %{x:.0f}<br>IV: %{y:.1f}%<extra></extra>",
         "line": {
          "color": "#EF553B",
          "width": 2
         },
         "marker": {
          "color": "#EF553B",
          "size": 6
         },
         "mode": "markers+lines",
         "name": "2025-08-23",
         "type": "scatter",
         "x": {
          "bdata": "AAAAAADh+UAAAAAAAF76QAAAAACAnPpAAAAAAADb+kAAAAAAgBn7QAAAAAAAWPtAAAAAAICW+0AAAAAAANX7QAAAAACAE/xAAAAAAABS/EAAAAAAgJD8QAAAAAAAz/xAAAAAAIAN/UAAAAAAAEz9QAAAAAAAyf1AAAAAAABG/kA=",
          "dtype": "f8"
         },
         "xaxis": "x",
         "y": {
          "bdata": "UrgehesRTEB8FK5H4TpJQI/C9Shcj0dA16NwPQoXRkD2KFyPwpVEQIXrUbgeJUNAzczMzMxMQkAK16NwPWpBQBSuR+F6VEFA4XoUrkdhQUDsUbgehQtCQNejcD0KF0NAAAAAAADgRECPwvUoXG9FQK5H4XoULkdA9ihcj8J1S0A=",
          "dtype": "f8"
         },
         "yaxis": "y"
        },
        {
         "hovertemplate": "Expiry: 2025-08-24 10:00:00<br>Strike: %{x:.0f}<br>IV: %{y:.1f}%<extra></extra>",
         "line": {
          "color": "#00CC96",
          "width": 2
         },
         "marker": {
          "color": "#00CC96",
          "size": 6
         },
         "mode": "markers+lines",
         "name": "2025-08-24",
         "type": "scatter",
         "x": {
          "bdata": "AAAAAABk+UAAAAAAAOH5QAAAAAAAXvpAAAAAAICc+kAAAAAAANv6QAAAAACAGftAAAAAAABY+0AAAAAAgJb7QAAAAAAA1ftAAAAAAIAT/EAAAAAAAFL8QAAAAACAkPxAAAAAAADP/EAAAAAAAEz9QAAAAAAAyf1A",
          "dtype": "f8"
         },
         "xaxis": "x",
         "y": {
          "bdata": "kML1KFzPSkD2KFyPwhVIQPYoXI/CVUVASOF6FK4HREDXo3A9CtdCQArXo3A9ykFA9ihcj8LVQEDsUbgehStAQDMzMzMzMz9A9Shcj8L1PkDgehSuR+E+QOxRuB6F6z5ArUfhehTuP0AzMzMzM1NCQLgehetRmENA",
          "dtype": "f8"
         },
         "yaxis": "y"
        },
        {
         "hovertemplate": "Expiry: 2025-08-25 10:00:00<br>Strike: %{x:.0f}<br>IV: %{y:.1f}%<extra></extra>",
         "line": {
          "color": "#AB63FA",
          "width": 2
         },
         "marker": {
          "color": "#AB63FA",
          "size": 6
         },
         "mode": "markers+lines",
         "name": "2025-08-25",
         "type": "scatter",
         "x": {
          "bdata": "AAAAAADh+UAAAAAAAF76QAAAAACAnPpAAAAAAADb+kAAAAAAgBn7QAAAAAAAWPtAAAAAAICW+0AAAAAAANX7QAAAAACAE/xAAAAAAABS/EAAAAAAgJD8QAAAAAAAz/xAAAAAAABM/UAAAAAAAMn9QA==",
          "dtype": "f8"
         },
         "xaxis": "x",
         "y": {
          "bdata": "uB6F61F4RkCuR+F6FA5EQHsUrkfh+kJAzczMzMzsQUApXI/C9ehAQK5H4XoUDkBAj8L1KFzPPkB7FK5H4bo9QPcoXI/CdT1A9yhcj8J1PUBxPQrXo/A9QD4K16Nw/T5AH4XrUbjeQEBxPQrXo3BCQA==",
          "dtype": "f8"
         },
         "yaxis": "y"
        },
        {
         "hovertemplate": "Expiry: 2025-08-29 10:00:00<br>Strike: %{x:.0f}<br>IV: %{y:.1f}%<extra></extra>",
         "line": {
          "color": "#FFA15A",
          "width": 2
         },
         "marker": {
          "color": "#FFA15A",
          "size": 6
         },
         "mode": "markers+lines",
         "name": "2025-08-29",
         "type": "scatter",
         "x": {
          "bdata": "AAAAAACI40AAAAAAAGroQAAAAAAATO1AAAAAAAAX8UAAAAAAAIjzQAAAAACAwPRAAAAAAAD59UAAAAAAAHb2QAAAAAAA8/ZAAAAAAIAx90AAAAAAAHD3QAAAAAAA7fdAAAAAAABq+EAAAAAAAOf4QAAAAAAAZPlAAAAAAICi+UAAAAAAAOH5QAAAAAAAXvpAAAAAAADb+kAAAAAAgBn7QAAAAAAAWPtAAAAAAICW+0AAAAAAANX7QAAAAACAE/xAAAAAAABS/EAAAAAAgJD8QAAAAAAAz/xAAAAAAIAN/UAAAAAAAEz9QAAAAACAiv1AAAAAAADJ/UAAAAAAgAf+QAAAAAAARv5AAAAAAICE/kAAAAAAAMP+QAAAAACAAf9AAAAAAABA/0AAAAAAgH7/QAAAAAAAvf9AAAAAAAAdAEEAAAAAgFsAQQAAAADAegBBAAAAAACaAEEAAAAAABcBQQAAAABAswFBAAAAAIBPAkEAAAAAAIgDQQAAAACAwARBAAAAAAD5BUEAAAAAgDEHQQ==",
          "dtype": "f8"
         },
         "xaxis": "x",
         "y": {
          "bdata": "CtejcD0qYkAoXI/C9fhfQJqZmZmZGV9AFK5H4XoUXEDNzMzMzAxXQDMzMzMz41RA4XoUrkdxUkAzMzMzM3NRQOxRuB6FW1BAPArXo3C9T0BSuB6F67FOQPYoXI/ClUxAtx6F61GYSkDsUbgehatIQGZmZmZm5kZAAAAAAAAARkDD9ShcjyJFQB+F61G4nkNAZmZmZmZGQkBSuB6F69FBQClcj8L1SEFAKVyPwvXoQEBI4XoUrodAQArXo3A9SkBAKVyPwvVIQEAK16NwPUpAQI/C9ShcT0BAuB6F61F4QEDhehSuR+FAQClcj8L1aEFAw/UoXI8CQkAAAAAAAGBCQOF6FK5H4UJAUrgeheuRQ0ApXI/C9UhEQArXo3A9CkVAexSuR+F6RUBmZmZmZmZGQNejcD0Kd0dAMzMzMzOzSEAUrkfhetRJQFuPwvUoPEpAw/UoXI+CSkDhehSuRwFOQM3MzMzM/FBA4XoUrkcxUkD2KFyPwsVTQPYoXI/CxVNA9ihcj8LFU0CF61G4HtVTQA==",
          "dtype": "f8"
         },
         "yaxis": "y"
        },
        {
         "hovertemplate": "Expiry: 2025-09-05 10:00:00<br>Strike: %{x:.0f}<br>IV: %{y:.1f}%<extra></extra>",
         "line": {
          "color": "#19D3F3",
          "width": 2
         },
         "marker": {
          "color": "#19D3F3",
          "size": 6
         },
         "mode": "markers+lines",
         "name": "2025-09-05",
         "type": "scatter",
         "x": {
          "bdata": "AAAAAACI80AAAAAAgMD0QAAAAAAA+fVAAAAAAIAx90AAAAAAAGr4QAAAAACAovlAAAAAAABe+kAAAAAAANv6QAAAAACAGftAAAAAAABY+0AAAAAAgJb7QAAAAAAA1ftAAAAAAIAT/EAAAAAAAFL8QAAAAACAkPxAAAAAAADP/EAAAAAAgA39QAAAAAAATP1AAAAAAICK/UAAAAAAAMn9QAAAAACAB/5AAAAAAABG/kAAAAAAgIT+QAAAAAAAw/5AAAAAAABA/0AAAAAAAL3/QAAAAADAegBBAAAAAAAXAUE=",
          "dtype": "f8"
         },
         "xaxis": "x",
         "y": {
          "bdata": "zczMzMw8U0BxPQrXowBRQKVwPQrXQ05Aw/UoXI9iSkBSuB6F6/FGQAAAAAAAIERA9ihcj8LVQkAK16NwPepBQI/C9Shcr0FASOF6FK5nQUAfhetRuB5BQDMzMzMzs0BAhetRuB6lQEBxPQrXo5BAQDMzMzMzk0BAXI/C9SicQEDD9Shcj4JAQIXrUbgehUBApHA9CtejQECF61G4HqVAQIXrUbgexUBAcT0K16MQQUCkcD0K12NBQOF6FK5HwUFAFK5H4Xp0QkDhehSuR0FDQI/C9Shcb0VA7FG4HoWLR0A=",
          "dtype": "f8"
         },
         "yaxis": "y"
        },
        {
         "hovertemplate": "Expiry: 2025-09-12 10:00:00<br>Strike: %{x:.0f}<br>IV: %{y:.1f}%<extra></extra>",
         "line": {
          "color": "#FF6692",
          "width": 2
         },
         "marker": {
          "color": "#FF6692",
          "size": 6
         },
         "mode": "markers+lines",
         "name": "2025-09-12",
         "type": "scatter",
         "x": {
          "bdata": "AAAAAABq+EAAAAAAgKL5QAAAAAAA4flAAAAAAABe+kAAAAAAANv6QAAAAACAGftAAAAAAABY+0AAAAAAgJb7QAAAAAAA1ftAAAAAAIAT/EAAAAAAAFL8QAAAAACAkPxAAAAAAADP/EAAAAAAAEz9QAAAAAAAyf1AAAAAAICE/kAAAAAAAL3/QA==",
          "dtype": "f8"
         },
         "xaxis": "x",
         "y": {
          "bdata": "16NwPQqXRUDsUbgehWtDQPYoXI/CFUNApHA9CtdjQkDD9Shcj+JBQMP1KFyPokFAexSuR+FaQUBcj8L1KBxBQClcj8L16EBAXI/C9Si8QEDNzMzMzKxAQI/C9Shcr0BArkfhehSuQEBxPQrXo7BAQB+F61G4vkBA16NwPQo3QUCF61G4HoVCQA==",
          "dtype": "f8"
         },
         "yaxis": "y"
        },
        {
         "hovertemplate": "Expiry: 2025-09-26 10:00:00<br>Strike: %{x:.0f}<br>IV: %{y:.1f}%<extra></extra>",
         "line": {
          "color": "#B6E880",
          "width": 2
         },
         "marker": {
          "color": "#B6E880",
          "size": 6
         },
         "mode": "markers+lines",
         "name": "2025-09-26",
         "type": "scatter",
         "x": {
          "bdata": "AAAAAACI00AAAAAAAEzdQAAAAAAAiONAAAAAAABq6EAAAAAAANvqQAAAAAAATO1AAAAAAAC970AAAAAAABfxQAAAAACAT/JAAAAAAACI80AAAAAAgMD0QAAAAAAA+fVAAAAAAIAx90AAAAAAAO33QAAAAAAAavhAAAAAAICi+UAAAAAAAF76QAAAAAAA2/pAAAAAAABY+0AAAAAAANX7QAAAAACAE/xAAAAAAABS/EAAAAAAAM/8QAAAAAAATP1AAAAAAADJ/UAAAAAAAEb+QAAAAACAhP5AAAAAAADD/kAAAAAAAED/QAAAAAAAvf9AAAAAAAAdAEEAAAAAgFsAQQAAAADAegBBAAAAAACaAEEAAAAAgNgAQQAAAAAAFwFBAAAAAECzAUEAAAAAgE8CQQAAAAAAiANBAAAAAIDABEEAAAAAAPkFQQAAAACAMQdBAAAAAABqCEEAAAAAgKIJQQAAAAAA2wpBAAAAAABMDUEAAAAAAL0PQQAAAAAAFxFBAAAAAIBPEkEAAAAAAGoYQQ==",
          "dtype": "f8"
         },
         "xaxis": "x",
         "y": {
          "bdata": "UrgehesZYEB7FK5H4QpgQDMzMzMz41tAFK5H4Xp0V0BmZmZmZuZUQB+F61G43lRAMzMzMzNjU0DsUbgehYtRQBSuR+F61E9A4XoUrkcBTUC3HoXrUdhKQDMzMzMzk0hAcT0K16NwRkAfhetRuF5FQAAAAAAAoERAFK5H4XoUQ0BSuB6F61FCQKRwPQrX40FA7FG4HoVrQUAUrkfhehRBQM3MzMzM7EBAXI/C9SjcQECuR+F6FK5AQI/C9Shcr0BAj8L1KFyvQEBSuB6F67FAQLgehetRuEBA16NwPQrXQEDsUbgehQtBQEjhehSuR0FAzczMzMzMQUDD9ShcjyJCQIXrUbgeRUJAhetRuB6lQkCPwvUoXA9DQDMzMzMzc0NASOF6FK7nREAAAAAAAEBGQGZmZmZmRkhA61G4HoXrSkBbj8L1KNxMQM3MzMzMzE5AFK5H4XqUUEAfhetRuD5RQFyPwvUoHFJAMzMzMzPTU0DD9Shcj/JUQFK4HoXrIVVAPQrXo3CNVUAUrkfhekRXQA==",
          "dtype": "f8"
         },
         "yaxis": "y"
        },
        {
         "hovertemplate": "Expiry: 2025-10-31 09:00:00<br>Strike: %{x:.0f}<br>IV: %{y:.1f}%<extra></extra>",
         "line": {
          "color": "#FF97FF",
          "width": 2
         },
         "marker": {
          "color": "#FF97FF",
          "size": 6
         },
         "mode": "markers+lines",
         "name": "2025-10-31",
         "type": "scatter",
         "x": {
          "bdata": "AAAAAACI40AAAAAAAGroQAAAAAAATO1AAAAAAAAX8UAAAAAAAIjzQAAAAACAwPRAAAAAAAD59UAAAAAAgDH3QAAAAAAAavhAAAAAAADn+EAAAAAAAGT5QAAAAACAovlAAAAAAADh+UAAAAAAAF76QAAAAAAA2/pAAAAAAABY+0AAAAAAANX7QAAAAACAE/xAAAAAAABS/EAAAAAAAM/8QAAAAAAATP1AAAAAAADJ/UAAAAAAAEb+QAAAAAAAw/5AAAAAAABA/0AAAAAAAL3/QAAAAAAAHQBBAAAAAIBbAEEAAAAAwHoAQQAAAAAAmgBBAAAAAIDYAEEAAAAAABcBQQAAAABAswFBAAAAAIBPAkEAAAAAwOsCQQAAAAAAiANBAAAAAIDABEEAAAAAAPkFQQAAAACAMQdBAAAAAABqCEEAAAAAgKIJQQ==",
          "dtype": "f8"
         },
         "xaxis": "x",
         "y": {
          "bdata": "rkfhehSOVUDsUbgehVtTQPYoXI/C1VBA7FG4HoUrTUDgehSuR2FJQOxRuB6Fy0dArkfhehRuRkBxPQrXozBFQClcj8L1CERASOF6FK6nQ0ApXI/C9UhDQMP1KFyPIkNA16NwPQr3QkBxPQrXo7BCQArXo3A9akJArkfhehQuQkCamZmZmflBQD0K16Nw3UFAAAAAAADAQUCF61G4HqVBQMP1KFyPgkFAw/UoXI+CQUCkcD0K14NBQKRwPQrXg0FAZmZmZmaGQUCamZmZmZlBQD0K16NwvUFAAAAAAADgQUCamZmZmflBQOxRuB6FC0JAXI/C9SgcQkApXI/C9UhCQIXrUbge5UJApHA9CteDQ0DsUbgehQtEQDMzMzMzs0RArkfhehQORkBxPQrXo5BHQNejcD0K90hA4XoUrkdBSkB7FK5H4XpLQA==",
          "dtype": "f8"
         },
         "yaxis": "y"
        },
        {
         "hovertemplate": "Expiry: 2025-12-26 09:00:00<br>Strike: %{x:.0f}<br>IV: %{y:.1f}%<extra></extra>",
         "line": {
          "color": "#FECB52",
          "width": 2
         },
         "marker": {
          "color": "#FECB52",
          "size": 6
         },
         "mode": "markers+lines",
         "name": "2025-12-26",
         "type": "scatter",
         "x": {
          "bdata": "AAAAAACI00AAAAAAAEzdQAAAAAAAiONAAAAAAABq6EAAAAAAAEztQAAAAAAAve9AAAAAAAAX8UAAAAAAgE/yQAAAAAAAiPNAAAAAAIDA9EAAAAAAAPn1QAAAAACAMfdAAAAAAABq+EAAAAAAgKL5QAAAAAAA2/pAAAAAAIAT/EAAAAAAAEz9QAAAAACAhP5AAAAAAAC9/0AAAAAAwHoAQQAAAAAAFwFBAAAAAECzAUEAAAAAgE8CQQAAAAAAiANBAAAAAIDABEEAAAAAAPkFQQAAAACAMQdBAAAAAABqCEEAAAAAgKIJQQAAAAAA2wpBAAAAAIATDEEAAAAAAEwNQQAAAAAAvQ9BAAAAAAAXEUEAAAAAgE8SQQAAAAAAiBNBAAAAAIDAFEEAAAAAAGoYQQ==",
          "dtype": "f8"
         },
         "xaxis": "x",
         "y": {
          "bdata": "AAAAAAAQWUBSuB6F6wFVQOF6FK5H8VJAFK5H4XrEUEAVrkfhetRNQF2PwvUoHExAPQrXo3C9SkBwPQrXo5BJQOxRuB6FS0hAPQrXo3A9R0DsUbgehUtGQOxRuB6Fi0VAzczMzMwMRUCF61G4HqVEQFyPwvUoXERA4XoUrkchREA9CtejcP1DQBSuR+F69ENA4XoUrkcBREAUrkfhehREQPYoXI/CNURAmpmZmZlZRECamZmZmZlEQIXrUbgeJUVAPQrXo3C9RUAzMzMzM5NGQArXo3A9SkdAFK5H4Xr0R0CamZmZmZlIQAvXo3A9SklAFa5H4Xr0SUCPwvUoXI9KQK5H4XoU7ktAKVyPwvUITUD2KFyPwhVOQLgehetR+E5AZmZmZmbGT0CuR+F6FC5RQA==",
          "dtype": "f8"
         },
         "yaxis": "y"
        },
        {
         "hovertemplate": "Spot Price: $113455<extra></extra>",
         "line": {
          "color": "red",
          "dash": "dash",
          "width": 2
         },
         "mode": "lines",
         "name": "Spot: $113455",
         "showlegend": false,
         "type": "scatter",
         "x": [
          113455.47,
          113455.47
         ],
         "xaxis": "x",
         "y": [
          29.460000000000004,
          145.32
         ],
         "yaxis": "y"
        },
        {
         "hovertemplate": "Days to Expiry: %{x:.1f}<br>ATM IV: %{y:.1f}%<extra></extra>",
         "line": {
          "color": "blue",
          "width": 3
         },
         "marker": {
          "color": "blue",
          "size": 10
         },
         "mode": "markers+lines+text",
         "name": "ATM IV Term Structure",
         "text": [
          "2025-08-22",
          "2025-08-23",
          "2025-08-24",
          "2025-08-25",
          "2025-08-29",
          "2025-09-05",
          "2025-09-12",
          "2025-09-26",
          "2025-10-31",
          "2025-12-26"
         ],
         "textposition": "top center",
         "type": "scatter",
         "x": {
          "bdata": "AAAAAAAAAAAAAAAAAADwPwAAAAAAAABAAAAAAAAACEAAAAAAAAAcQAAAAAAAACxAAAAAAAAANUAAAAAAAIBBQAAAAAAAgFFAAAAAAACAX0A=",
          "dtype": "f8"
         },
         "xaxis": "x2",
         "y": {
          "bdata": "H4XrUbheQEDNzMzMzExCQOxRuB6FK0BAj8L1KFzPPkApXI/C9ehAQB+F61G4HkFAXI/C9SgcQUAUrkfhehRBQJqZmZmZ+UFA4XoUrkchREA=",
          "dtype": "f8"
         },
         "yaxis": "y2"
        },
        {
         "colorscale": [
          [
           0,
           "#0d0887"
          ],
          [
           0.1111111111111111,
           "#46039f"
          ],
          [
           0.2222222222222222,
           "#7201a8"
          ],
          [
           0.3333333333333333,
           "#9c179e"
          ],
          [
           0.4444444444444444,
           "#bd3786"
          ],
          [
           0.5555555555555556,
           "#d8576b"
          ],
          [
           0.6666666666666666,
           "#ed7953"
          ],
          [
           0.7777777777777778,
           "#fb9f3a"
          ],
          [
           0.8888888888888888,
           "#fdca26"
          ],
          [
           1,
           "#f0f921"
          ]
         ],
         "hovertemplate": "Moneyness: %{x:.2f}<br>Days to Expiry: %{y:.1f}<br>IV: %{z:.1f}%<extra></extra>",
         "name": "Moneyness Surface",
         "scene": "scene2",
         "showscale": false,
         "type": "surface",
         "x": {
          "bdata": "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",
          "dtype": "f8",
          "shape": "20, 50"
         },
         "y": {
          "bdata": "AAAAAAAAAAAAAAAAAAAAAAAAAAAAAAAAAAAAAAAAAAAAAAAAAAAAAAAAAAAAAAAAAAAAAAAAAAAAAAAAAAAAAAAAAAAAAAAAAAAAAAAAAAAAAAAAAAAAAAAAAAAAAAAAAAAAAAAAAAAAAAAAAAAAAAAAAAAAAAAAAAAAAAAAAAAAAAAAAAAAAAAAAAAAAAAAAAAAAAAAAAAAAAAAAAAAAAAAAAAAAAAAAAAAAAAAAAAAAAAAAAAAAAAAAAAAAAAAAAAAAAAAAAAAAAAAAAAAAAAAAAAAAAAAAAAAAAAAAAAAAAAAAAAAAAAAAAAAAAAAAAAAAAAAAAAAAAAAAAAAAAAAAAAAAAAAAAAAAAAAAAAAAAAAAAAAAAAAAAAAAAAAAAAAAAAAAAAAAAAAAAAAAAAAAAAAAAAAAAAAAAAAAAAAAAAAAAAAAAAAAAAAAAAAAAAAAAAAAAAAAAAAAAAAAAAAAAAAAAAAAAAAAAAAAAAAAAAAAAAAAAAAAAAAAAAAAAAAAAAAAAAAAAAAAAAAAGwor6G8hhpAbCivobyGGkBsKK+hvIYaQGwor6G8hhpAbCivobyGGkBsKK+hvIYaQGwor6G8hhpAbCivobyGGkBsKK+hvIYaQGwor6G8hhpAbCivobyGGkBsKK+hvIYaQGwor6G8hhpAbCivobyGGkBsKK+hvIYaQGwor6G8hhpAbCivobyGGkBsKK+hvIYaQGwor6G8hhpAbCivobyGGkBsKK+hvIYaQGwor6G8hhpAbCivobyGGkBsKK+hvIYaQGwor6G8hhpAbCivobyGGkBsKK+hvIYaQGwor6G8hhpAbCivobyGGkBsKK+hvIYaQGwor6G8hhpAbCivobyGGkBsKK+hvIYaQGwor6G8hhpAbCivobyGGkBsKK+hvIYaQGwor6G8hhpAbCivobyGGkBsKK+hvIYaQGwor6G8hhpAbCivobyGGkBsKK+hvIYaQGwor6G8hhpAbCivobyGGkBsKK+hvIYaQGwor6G8hhpAbCivobyGGkBsKK+hvIYaQGwor6G8hhpAbCivobyGGkBsKK+hvIYqQGwor6G8hipAbCivobyGKkBsKK+hvIYqQGwor6G8hipAbCivobyGKkBsKK+hvIYqQGwor6G8hipAbCivobyGKkBsKK+hvIYqQGwor6G8hipAbCivobyGKkBsKK+hvIYqQGwor6G8hipAbCivobyGKkBsKK+hvIYqQGwor6G8hipAbCivobyGKkBsKK+hvIYqQGwor6G8hipAbCivobyGKkBsKK+hvIYqQGwor6G8hipAbCivobyGKkBsKK+hvIYqQGwor6G8hipAbCivobyGKkBsKK+hvIYqQGwor6G8hipAbCivobyGKkBsKK+hvIYqQGwor6G8hipAbCivobyGKkBsKK+hvIYqQGwor6G8hipAbCivobyGKkBsKK+hvIYqQGwor6G8hipAbCivobyGKkBsKK+hvIYqQGwor6G8hipAbCivobyGKkBsKK+hvIYqQGwor6G8hipAbCivobyGKkBsKK+hvIYqQGwor6G8hipAbCivobyGKkBsKK+hvIYqQGwor6G8hipAUV5DeQ3lM0BRXkN5DeUzQFFeQ3kN5TNAUV5DeQ3lM0BRXkN5DeUzQFFeQ3kN5TNAUV5DeQ3lM0BRXkN5DeUzQFFeQ3kN5TNAUV5DeQ3lM0BRXkN5DeUzQFFeQ3kN5TNAUV5DeQ3lM0BRXkN5DeUzQFFeQ3kN5TNAUV5DeQ3lM0BRXkN5DeUzQFFeQ3kN5TNAUV5DeQ3lM0BRXkN5DeUzQFFeQ3kN5TNAUV5DeQ3lM0BRXkN5DeUzQFFeQ3kN5TNAUV5DeQ3lM0BRXkN5DeUzQFFeQ3kN5TNAUV5DeQ3lM0BRXkN5DeUzQFFeQ3kN5TNAUV5DeQ3lM0BRXkN5DeUzQFFeQ3kN5TNAUV5DeQ3lM0BRXkN5DeUzQFFeQ3kN5TNAUV5DeQ3lM0BRXkN5DeUzQFFeQ3kN5TNAUV5DeQ3lM0BRXkN5DeUzQFFeQ3kN5TNAUV5DeQ3lM0BRXkN5DeUzQFFeQ3kN5TNAUV5DeQ3lM0BRXkN5DeUzQFFeQ3kN5TNAUV5DeQ3lM0BRXkN5DeUzQGwor6G8hjpAbCivobyGOkBsKK+hvIY6QGwor6G8hjpAbCivobyGOkBsKK+hvIY6QGwor6G8hjpAbCivobyGOkBsKK+hvIY6QGwor6G8hjpAbCivobyGOkBsKK+hvIY6QGwor6G8hjpAbCivobyGOkBsKK+hvIY6QGwor6G8hjpAbCivobyGOkBsKK+hvIY6QGwor6G8hjpAbCivobyGOkBsKK+hvIY6QGwor6G8hjpAbCivobyGOkBsKK+hvIY6QGwor6G8hjpAbCivobyGOkBsKK+hvIY6QGwor6G8hjpAbCivobyGOkBsKK+hvIY6QGwor6G8hjpAbCivobyGOkBsKK+hvIY6QGwor6G8hjpAbCivobyGOkBsKK+hvIY6QGwor6G8hjpAbCivobyGOkBsKK+hvIY6QGwor6G8hjpAbCivobyGOkBsKK+hvIY6QGwor6G8hjpAbCivobyGOkBsKK+hvIY6QGwor6G8hjpAbCivobyGOkBsKK+hvIY6QGwor6G8hjpAbCivobyGOkBEeQ3lNZRAQER5DeU1lEBARHkN5TWUQEBEeQ3lNZRAQER5DeU1lEBARHkN5TWUQEBEeQ3lNZRAQER5DeU1lEBARHkN5TWUQEBEeQ3lNZRAQER5DeU1lEBARHkN5TWUQEBEeQ3lNZRAQER5DeU1lEBARHkN5TWUQEBEeQ3lNZRAQER5DeU1lEBARHkN5TWUQEBEeQ3lNZRAQER5DeU1lEBARHkN5TWUQEBEeQ3lNZRAQER5DeU1lEBARHkN5TWUQEBEeQ3lNZRAQER5DeU1lEBARHkN5TWUQEBEeQ3lNZRAQER5DeU1lEBARHkN5TWUQEBEeQ3lNZRAQER5DeU1lEBARHkN5TWUQEBEeQ3lNZRAQER5DeU1lEBARHkN5TWUQEBEeQ3lNZRAQER5DeU1lEBARHkN5TWUQEBEeQ3lNZRAQER5DeU1lEBARHkN5TWUQEBEeQ3lNZRAQER5DeU1lEBARHkN5TWUQEBEeQ3lNZRAQER5DeU1lEBARHkN5TWUQEBEeQ3lNZRAQER5DeU1lEBAUV5DeQ3lQ0BRXkN5DeVDQFFeQ3kN5UNAUV5DeQ3lQ0BRXkN5DeVDQFFeQ3kN5UNAUV5DeQ3lQ0BRXkN5DeVDQFFeQ3kN5UNAUV5DeQ3lQ0BRXkN5DeVDQFFeQ3kN5UNAUV5DeQ3lQ0BRXkN5DeVDQFFeQ3kN5UNAUV5DeQ3lQ0BRXkN5DeVDQFFeQ3kN5UNAUV5DeQ3lQ0BRXkN5DeVDQFFeQ3kN5UNAUV5DeQ3lQ0BRXkN5DeVDQFFeQ3kN5UNAUV5DeQ3lQ0BRXkN5DeVDQFFeQ3kN5UNAUV5DeQ3lQ0BRXkN5DeVDQFFeQ3kN5UNAUV5DeQ3lQ0BRXkN5DeVDQFFeQ3kN5UNAUV5DeQ3lQ0BRXkN5DeVDQFFeQ3kN5UNAUV5DeQ3lQ0BRXkN5DeVDQFFeQ3kN5UNAUV5DeQ3lQ0BRXkN5DeVDQFFeQ3kN5UNAUV5DeQ3lQ0BRXkN5DeVDQFFeQ3kN5UNAUV5DeQ3lQ0BRXkN5DeVDQFFeQ3kN5UNAUV5DeQ3lQ0BRXkN5DeVDQF5DeQ3lNUdAXkN5DeU1R0BeQ3kN5TVHQF5DeQ3lNUdAXkN5DeU1R0BeQ3kN5TVHQF5DeQ3lNUdAXkN5DeU1R0BeQ3kN5TVHQF5DeQ3lNUdAXkN5DeU1R0BeQ3kN5TVHQF5DeQ3lNUdAXkN5DeU1R0BeQ3kN5TVHQF5DeQ3lNUdAXkN5DeU1R0BeQ3kN5TVHQF5DeQ3lNUdAXkN5DeU1R0BeQ3kN5TVHQF5DeQ3lNUdAXkN5DeU1R0BeQ3kN5TVHQF5DeQ3lNUdAXkN5DeU1R0BeQ3kN5TVHQF5DeQ3lNUdAXkN5DeU1R0BeQ3kN5TVHQF5DeQ3lNUdAXkN5DeU1R0BeQ3kN5TVHQF5DeQ3lNUdAXkN5DeU1R0BeQ3kN5TVHQF5DeQ3lNUdAXkN5DeU1R0BeQ3kN5TVHQF5DeQ3lNUdAXkN5DeU1R0BeQ3kN5TVHQF5DeQ3lNUdAXkN5DeU1R0BeQ3kN5TVHQF5DeQ3lNUdAXkN5DeU1R0BeQ3kN5TVHQF5DeQ3lNUdAXkN5DeU1R0BsKK+hvIZKQGwor6G8hkpAbCivobyGSkBsKK+hvIZKQGwor6G8hkpAbCivobyGSkBsKK+hvIZKQGwor6G8hkpAbCivobyGSkBsKK+hvIZKQGwor6G8hkpAbCivobyGSkBsKK+hvIZKQGwor6G8hkpAbCivobyGSkBsKK+hvIZKQGwor6G8hkpAbCivobyGSkBsKK+hvIZKQGwor6G8hkpAbCivobyGSkBsKK+hvIZKQGwor6G8hkpAbCivobyGSkBsKK+hvIZKQGwor6G8hkpAbCivobyGSkBsKK+hvIZKQGwor6G8hkpAbCivobyGSkBsKK+hvIZKQGwor6G8hkpAbCivobyGSkBsKK+hvIZKQGwor6G8hkpAbCivobyGSkBsKK+hvIZKQGwor6G8hkpAbCivobyGSkBsKK+hvIZKQGwor6G8hkpAbCivobyGSkBsKK+hvIZKQGwor6G8hkpAbCivobyGSkBsKK+hvIZKQGwor6G8hkpAbCivobyGSkBsKK+hvIZKQGwor6G8hkpAeg3lNZTXTUB6DeU1lNdNQHoN5TWU101Aeg3lNZTXTUB6DeU1lNdNQHoN5TWU101Aeg3lNZTXTUB6DeU1lNdNQHoN5TWU101Aeg3lNZTXTUB6DeU1lNdNQHoN5TWU101Aeg3lNZTXTUB6DeU1lNdNQHoN5TWU101Aeg3lNZTXTUB6DeU1lNdNQHoN5TWU101Aeg3lNZTXTUB6DeU1lNdNQHoN5TWU101Aeg3lNZTXTUB6DeU1lNdNQHoN5TWU101Aeg3lNZTXTUB6DeU1lNdNQHoN5TWU101Aeg3lNZTXTUB6DeU1lNdNQHoN5TWU101Aeg3lNZTXTUB6DeU1lNdNQHoN5TWU101Aeg3lNZTXTUB6DeU1lNdNQHoN5TWU101Aeg3lNZTXTUB6DeU1lNdNQHoN5TWU101Aeg3lNZTXTUB6DeU1lNdNQHoN5TWU101Aeg3lNZTXTUB6DeU1lNdNQHoN5TWU101Aeg3lNZTXTUB6DeU1lNdNQHoN5TWU101Aeg3lNZTXTUB6DeU1lNdNQER5DeU1lFBARHkN5TWUUEBEeQ3lNZRQQER5DeU1lFBARHkN5TWUUEBEeQ3lNZRQQER5DeU1lFBARHkN5TWUUEBEeQ3lNZRQQER5DeU1lFBARHkN5TWUUEBEeQ3lNZRQQER5DeU1lFBARHkN5TWUUEBEeQ3lNZRQQER5DeU1lFBARHkN5TWUUEBEeQ3lNZRQQER5DeU1lFBARHkN5TWUUEBEeQ3lNZRQQER5DeU1lFBARHkN5TWUUEBEeQ3lNZRQQER5DeU1lFBARHkN5TWUUEBEeQ3lNZRQQER5DeU1lFBARHkN5TWUUEBEeQ3lNZRQQER5DeU1lFBARHkN5TWUUEBEeQ3lNZRQQER5DeU1lFBARHkN5TWUUEBEeQ3lNZRQQER5DeU1lFBARHkN5TWUUEBEeQ3lNZRQQER5DeU1lFBARHkN5TWUUEBEeQ3lNZRQQER5DeU1lFBARHkN5TWUUEBEeQ3lNZRQQER5DeU1lFBARHkN5TWUUEBEeQ3lNZRQQER5DeU1lFBARHkN5TWUUEDKayivoTxSQMprKK+hPFJAymsor6E8UkDKayivoTxSQMprKK+hPFJAymsor6E8UkDKayivoTxSQMprKK+hPFJAymsor6E8UkDKayivoTxSQMprKK+hPFJAymsor6E8UkDKayivoTxSQMprKK+hPFJAymsor6E8UkDKayivoTxSQMprKK+hPFJAymsor6E8UkDKayivoTxSQMprKK+hPFJAymsor6E8UkDKayivoTxSQMprKK+hPFJAymsor6E8UkDKayivoTxSQMprKK+hPFJAymsor6E8UkDKayivoTxSQMprKK+hPFJAymsor6E8UkDKayivoTxSQMprKK+hPFJAymsor6E8UkDKayivoTxSQMprKK+hPFJAymsor6E8UkDKayivoTxSQMprKK+hPFJAymsor6E8UkDKayivoTxSQMprKK+hPFJAymsor6E8UkDKayivoTxSQMprKK+hPFJAymsor6E8UkDKayivoTxSQMprKK+hPFJAymsor6E8UkDKayivoTxSQMprKK+hPFJAUV5DeQ3lU0BRXkN5DeVTQFFeQ3kN5VNAUV5DeQ3lU0BRXkN5DeVTQFFeQ3kN5VNAUV5DeQ3lU0BRXkN5DeVTQFFeQ3kN5VNAUV5DeQ3lU0BRXkN5DeVTQFFeQ3kN5VNAUV5DeQ3lU0BRXkN5DeVTQFFeQ3kN5VNAUV5DeQ3lU0BRXkN5DeVTQFFeQ3kN5VNAUV5DeQ3lU0BRXkN5DeVTQFFeQ3kN5VNAUV5DeQ3lU0BRXkN5DeVTQFFeQ3kN5VNAUV5DeQ3lU0BRXkN5DeVTQFFeQ3kN5VNAUV5DeQ3lU0BRXkN5DeVTQFFeQ3kN5VNAUV5DeQ3lU0BRXkN5DeVTQFFeQ3kN5VNAUV5DeQ3lU0BRXkN5DeVTQFFeQ3kN5VNAUV5DeQ3lU0BRXkN5DeVTQFFeQ3kN5VNAUV5DeQ3lU0BRXkN5DeVTQFFeQ3kN5VNAUV5DeQ3lU0BRXkN5DeVTQFFeQ3kN5VNAUV5DeQ3lU0BRXkN5DeVTQFFeQ3kN5VNAUV5DeQ3lU0BRXkN5DeVTQNhQXkN5jVVA2FBeQ3mNVUDYUF5DeY1VQNhQXkN5jVVA2FBeQ3mNVUDYUF5DeY1VQNhQXkN5jVVA2FBeQ3mNVUDYUF5DeY1VQNhQXkN5jVVA2FBeQ3mNVUDYUF5DeY1VQNhQXkN5jVVA2FBeQ3mNVUDYUF5DeY1VQNhQXkN5jVVA2FBeQ3mNVUDYUF5DeY1VQNhQXkN5jVVA2FBeQ3mNVUDYUF5DeY1VQNhQXkN5jVVA2FBeQ3mNVUDYUF5DeY1VQNhQXkN5jVVA2FBeQ3mNVUDYUF5DeY1VQNhQXkN5jVVA2FBeQ3mNVUDYUF5DeY1VQNhQXkN5jVVA2FBeQ3mNVUDYUF5DeY1VQNhQXkN5jVVA2FBeQ3mNVUDYUF5DeY1VQNhQXkN5jVVA2FBeQ3mNVUDYUF5DeY1VQNhQXkN5jVVA2FBeQ3mNVUDYUF5DeY1VQNhQXkN5jVVA2FBeQ3mNVUDYUF5DeY1VQNhQXkN5jVVA2FBeQ3mNVUDYUF5DeY1VQNhQXkN5jVVA2FBeQ3mNVUBeQ3kN5TVXQF5DeQ3lNVdAXkN5DeU1V0BeQ3kN5TVXQF5DeQ3lNVdAXkN5DeU1V0BeQ3kN5TVXQF5DeQ3lNVdAXkN5DeU1V0BeQ3kN5TVXQF5DeQ3lNVdAXkN5DeU1V0BeQ3kN5TVXQF5DeQ3lNVdAXkN5DeU1V0BeQ3kN5TVXQF5DeQ3lNVdAXkN5DeU1V0BeQ3kN5TVXQF5DeQ3lNVdAXkN5DeU1V0BeQ3kN5TVXQF5DeQ3lNVdAXkN5DeU1V0BeQ3kN5TVXQF5DeQ3lNVdAXkN5DeU1V0BeQ3kN5TVXQF5DeQ3lNVdAXkN5DeU1V0BeQ3kN5TVXQF5DeQ3lNVdAXkN5DeU1V0BeQ3kN5TVXQF5DeQ3lNVdAXkN5DeU1V0BeQ3kN5TVXQF5DeQ3lNVdAXkN5DeU1V0BeQ3kN5TVXQF5DeQ3lNVdAXkN5DeU1V0BeQ3kN5TVXQF5DeQ3lNVdAXkN5DeU1V0BeQ3kN5TVXQF5DeQ3lNVdAXkN5DeU1V0BeQ3kN5TVXQF5DeQ3lNVdA5TWU11DeWEDlNZTXUN5YQOU1lNdQ3lhA5TWU11DeWEDlNZTXUN5YQOU1lNdQ3lhA5TWU11DeWEDlNZTXUN5YQOU1lNdQ3lhA5TWU11DeWEDlNZTXUN5YQOU1lNdQ3lhA5TWU11DeWEDlNZTXUN5YQOU1lNdQ3lhA5TWU11DeWEDlNZTXUN5YQOU1lNdQ3lhA5TWU11DeWEDlNZTXUN5YQOU1lNdQ3lhA5TWU11DeWEDlNZTXUN5YQOU1lNdQ3lhA5TWU11DeWEDlNZTXUN5YQOU1lNdQ3lhA5TWU11DeWEDlNZTXUN5YQOU1lNdQ3lhA5TWU11DeWEDlNZTXUN5YQOU1lNdQ3lhA5TWU11DeWEDlNZTXUN5YQOU1lNdQ3lhA5TWU11DeWEDlNZTXUN5YQOU1lNdQ3lhA5TWU11DeWEDlNZTXUN5YQOU1lNdQ3lhA5TWU11DeWEDlNZTXUN5YQOU1lNdQ3lhA5TWU11DeWEDlNZTXUN5YQOU1lNdQ3lhA5TWU11DeWEDlNZTXUN5YQGwor6G8hlpAbCivobyGWkBsKK+hvIZaQGwor6G8hlpAbCivobyGWkBsKK+hvIZaQGwor6G8hlpAbCivobyGWkBsKK+hvIZaQGwor6G8hlpAbCivobyGWkBsKK+hvIZaQGwor6G8hlpAbCivobyGWkBsKK+hvIZaQGwor6G8hlpAbCivobyGWkBsKK+hvIZaQGwor6G8hlpAbCivobyGWkBsKK+hvIZaQGwor6G8hlpAbCivobyGWkBsKK+hvIZaQGwor6G8hlpAbCivobyGWkBsKK+hvIZaQGwor6G8hlpAbCivobyGWkBsKK+hvIZaQGwor6G8hlpAbCivobyGWkBsKK+hvIZaQGwor6G8hlpAbCivobyGWkBsKK+hvIZaQGwor6G8hlpAbCivobyGWkBsKK+hvIZaQGwor6G8hlpAbCivobyGWkBsKK+hvIZaQGwor6G8hlpAbCivobyGWkBsKK+hvIZaQGwor6G8hlpAbCivobyGWkBsKK+hvIZaQGwor6G8hlpAbCivobyGWkDzGsprKC9cQPMaymsoL1xA8xrKaygvXEDzGsprKC9cQPMaymsoL1xA8xrKaygvXEDzGsprKC9cQPMaymsoL1xA8xrKaygvXEDzGsprKC9cQPMaymsoL1xA8xrKaygvXEDzGsprKC9cQPMaymsoL1xA8xrKaygvXEDzGsprKC9cQPMaymsoL1xA8xrKaygvXEDzGsprKC9cQPMaymsoL1xA8xrKaygvXEDzGsprKC9cQPMaymsoL1xA8xrKaygvXEDzGsprKC9cQPMaymsoL1xA8xrKaygvXEDzGsprKC9cQPMaymsoL1xA8xrKaygvXEDzGsprKC9cQPMaymsoL1xA8xrKaygvXEDzGsprKC9cQPMaymsoL1xA8xrKaygvXEDzGsprKC9cQPMaymsoL1xA8xrKaygvXEDzGsprKC9cQPMaymsoL1xA8xrKaygvXEDzGsprKC9cQPMaymsoL1xA8xrKaygvXEDzGsprKC9cQPMaymsoL1xA8xrKaygvXEDzGsprKC9cQPMaymsoL1xAeg3lNZTXXUB6DeU1lNddQHoN5TWU111Aeg3lNZTXXUB6DeU1lNddQHoN5TWU111Aeg3lNZTXXUB6DeU1lNddQHoN5TWU111Aeg3lNZTXXUB6DeU1lNddQHoN5TWU111Aeg3lNZTXXUB6DeU1lNddQHoN5TWU111Aeg3lNZTXXUB6DeU1lNddQHoN5TWU111Aeg3lNZTXXUB6DeU1lNddQHoN5TWU111Aeg3lNZTXXUB6DeU1lNddQHoN5TWU111Aeg3lNZTXXUB6DeU1lNddQHoN5TWU111Aeg3lNZTXXUB6DeU1lNddQHoN5TWU111Aeg3lNZTXXUB6DeU1lNddQHoN5TWU111Aeg3lNZTXXUB6DeU1lNddQHoN5TWU111Aeg3lNZTXXUB6DeU1lNddQHoN5TWU111Aeg3lNZTXXUB6DeU1lNddQHoN5TWU111Aeg3lNZTXXUB6DeU1lNddQHoN5TWU111Aeg3lNZTXXUB6DeU1lNddQHoN5TWU111Aeg3lNZTXXUB6DeU1lNddQAAAAAAAgF9AAAAAAACAX0AAAAAAAIBfQAAAAAAAgF9AAAAAAACAX0AAAAAAAIBfQAAAAAAAgF9AAAAAAACAX0AAAAAAAIBfQAAAAAAAgF9AAAAAAACAX0AAAAAAAIBfQAAAAAAAgF9AAAAAAACAX0AAAAAAAIBfQAAAAAAAgF9AAAAAAACAX0AAAAAAAIBfQAAAAAAAgF9AAAAAAACAX0AAAAAAAIBfQAAAAAAAgF9AAAAAAACAX0AAAAAAAIBfQAAAAAAAgF9AAAAAAACAX0AAAAAAAIBfQAAAAAAAgF9AAAAAAACAX0AAAAAAAIBfQAAAAAAAgF9AAAAAAACAX0AAAAAAAIBfQAAAAAAAgF9AAAAAAACAX0AAAAAAAIBfQAAAAAAAgF9AAAAAAACAX0AAAAAAAIBfQAAAAAAAgF9AAAAAAACAX0AAAAAAAIBfQAAAAAAAgF9AAAAAAACAX0AAAAAAAIBfQAAAAAAAgF9AAAAAAACAX0AAAAAAAIBfQAAAAAAAgF9AAAAAAACAX0A=",
          "dtype": "f8",
          "shape": "20, 50"
         },
         "z": {
          "bdata": "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",
          "dtype": "f8",
          "shape": "20, 50"
         }
        }
       ],
       "layout": {
        "annotations": [
         {
          "font": {
           "size": 16
          },
          "showarrow": false,
          "text": "Volatility Surface (3D)",
          "x": 0.225,
          "xanchor": "center",
          "xref": "paper",
          "y": 1,
          "yanchor": "bottom",
          "yref": "paper"
         },
         {
          "font": {
           "size": 16
          },
          "showarrow": false,
          "text": "IV vs Strike (by Expiry)",
          "x": 0.775,
          "xanchor": "center",
          "xref": "paper",
          "y": 1,
          "yanchor": "bottom",
          "yref": "paper"
         },
         {
          "font": {
           "size": 16
          },
          "showarrow": false,
          "text": "Term Structure (ATM)",
          "x": 0.225,
          "xanchor": "center",
          "xref": "paper",
          "y": 0.425,
          "yanchor": "bottom",
          "yref": "paper"
         },
         {
          "font": {
           "size": 16
          },
          "showarrow": false,
          "text": "Moneyness Surface",
          "x": 0.775,
          "xanchor": "center",
          "xref": "paper",
          "y": 0.425,
          "yanchor": "bottom",
          "yref": "paper"
         }
        ],
        "height": 1200,
        "scene": {
         "camera": {
          "eye": {
           "x": 1.5,
           "y": 1.5,
           "z": 1.5
          }
         },
         "domain": {
          "x": [
           0,
           0.45
          ],
          "y": [
           0.575,
           1
          ]
         },
         "xaxis": {
          "title": {
           "text": "Strike Price ($)"
          }
         },
         "yaxis": {
          "title": {
           "text": "Days to Expiry"
          }
         },
         "zaxis": {
          "title": {
           "text": "Implied Volatility (%)"
          }
         }
        },
        "scene2": {
         "camera": {
          "eye": {
           "x": 1.5,
           "y": 1.5,
           "z": 1.5
          }
         },
         "domain": {
          "x": [
           0.55,
           1
          ],
          "y": [
           0,
           0.425
          ]
         },
         "xaxis": {
          "title": {
           "text": "Moneyness (K/S)"
          }
         },
         "yaxis": {
          "title": {
           "text": "Days to Expiry"
          }
         },
         "zaxis": {
          "title": {
           "text": "Implied Volatility (%)"
          }
         }
        },
        "showlegend": true,
        "template": {
         "data": {
          "bar": [
           {
            "error_x": {
             "color": "#2a3f5f"
            },
            "error_y": {
             "color": "#2a3f5f"
            },
            "marker": {
             "line": {
              "color": "#E5ECF6",
              "width": 0.5
             },
             "pattern": {
              "fillmode": "overlay",
              "size": 10,
              "solidity": 0.2
             }
            },
            "type": "bar"
           }
          ],
          "barpolar": [
           {
            "marker": {
             "line": {
              "color": "#E5ECF6",
              "width": 0.5
             },
             "pattern": {
              "fillmode": "overlay",
              "size": 10,
              "solidity": 0.2
             }
            },
            "type": "barpolar"
           }
          ],
          "carpet": [
           {
            "aaxis": {
             "endlinecolor": "#2a3f5f",
             "gridcolor": "white",
             "linecolor": "white",
             "minorgridcolor": "white",
             "startlinecolor": "#2a3f5f"
            },
            "baxis": {
             "endlinecolor": "#2a3f5f",
             "gridcolor": "white",
             "linecolor": "white",
             "minorgridcolor": "white",
             "startlinecolor": "#2a3f5f"
            },
            "type": "carpet"
           }
          ],
          "choropleth": [
           {
            "colorbar": {
             "outlinewidth": 0,
             "ticks": ""
            },
            "type": "choropleth"
           }
          ],
          "contour": [
           {
            "colorbar": {
             "outlinewidth": 0,
             "ticks": ""
            },
            "colorscale": [
             [
              0,
              "#0d0887"
             ],
             [
              0.1111111111111111,
              "#46039f"
             ],
             [
              0.2222222222222222,
              "#7201a8"
             ],
             [
              0.3333333333333333,
              "#9c179e"
             ],
             [
              0.4444444444444444,
              "#bd3786"
             ],
             [
              0.5555555555555556,
              "#d8576b"
             ],
             [
              0.6666666666666666,
              "#ed7953"
             ],
             [
              0.7777777777777778,
              "#fb9f3a"
             ],
             [
              0.8888888888888888,
              "#fdca26"
             ],
             [
              1,
              "#f0f921"
             ]
            ],
            "type": "contour"
           }
          ],
          "contourcarpet": [
           {
            "colorbar": {
             "outlinewidth": 0,
             "ticks": ""
            },
            "type": "contourcarpet"
           }
          ],
          "heatmap": [
           {
            "colorbar": {
             "outlinewidth": 0,
             "ticks": ""
            },
            "colorscale": [
             [
              0,
              "#0d0887"
             ],
             [
              0.1111111111111111,
              "#46039f"
             ],
             [
              0.2222222222222222,
              "#7201a8"
             ],
             [
              0.3333333333333333,
              "#9c179e"
             ],
             [
              0.4444444444444444,
              "#bd3786"
             ],
             [
              0.5555555555555556,
              "#d8576b"
             ],
             [
              0.6666666666666666,
              "#ed7953"
             ],
             [
              0.7777777777777778,
              "#fb9f3a"
             ],
             [
              0.8888888888888888,
              "#fdca26"
             ],
             [
              1,
              "#f0f921"
             ]
            ],
            "type": "heatmap"
           }
          ],
          "histogram": [
           {
            "marker": {
             "pattern": {
              "fillmode": "overlay",
              "size": 10,
              "solidity": 0.2
             }
            },
            "type": "histogram"
           }
          ],
          "histogram2d": [
           {
            "colorbar": {
             "outlinewidth": 0,
             "ticks": ""
            },
            "colorscale": [
             [
              0,
              "#0d0887"
             ],
             [
              0.1111111111111111,
              "#46039f"
             ],
             [
              0.2222222222222222,
              "#7201a8"
             ],
             [
              0.3333333333333333,
              "#9c179e"
             ],
             [
              0.4444444444444444,
              "#bd3786"
             ],
             [
              0.5555555555555556,
              "#d8576b"
             ],
             [
              0.6666666666666666,
              "#ed7953"
             ],
             [
              0.7777777777777778,
              "#fb9f3a"
             ],
             [
              0.8888888888888888,
              "#fdca26"
             ],
             [
              1,
              "#f0f921"
             ]
            ],
            "type": "histogram2d"
           }
          ],
          "histogram2dcontour": [
           {
            "colorbar": {
             "outlinewidth": 0,
             "ticks": ""
            },
            "colorscale": [
             [
              0,
              "#0d0887"
             ],
             [
              0.1111111111111111,
              "#46039f"
             ],
             [
              0.2222222222222222,
              "#7201a8"
             ],
             [
              0.3333333333333333,
              "#9c179e"
             ],
             [
              0.4444444444444444,
              "#bd3786"
             ],
             [
              0.5555555555555556,
              "#d8576b"
             ],
             [
              0.6666666666666666,
              "#ed7953"
             ],
             [
              0.7777777777777778,
              "#fb9f3a"
             ],
             [
              0.8888888888888888,
              "#fdca26"
             ],
             [
              1,
              "#f0f921"
             ]
            ],
            "type": "histogram2dcontour"
           }
          ],
          "mesh3d": [
           {
            "colorbar": {
             "outlinewidth": 0,
             "ticks": ""
            },
            "type": "mesh3d"
           }
          ],
          "parcoords": [
           {
            "line": {
             "colorbar": {
              "outlinewidth": 0,
              "ticks": ""
             }
            },
            "type": "parcoords"
           }
          ],
          "pie": [
           {
            "automargin": true,
            "type": "pie"
           }
          ],
          "scatter": [
           {
            "fillpattern": {
             "fillmode": "overlay",
             "size": 10,
             "solidity": 0.2
            },
            "type": "scatter"
           }
          ],
          "scatter3d": [
           {
            "line": {
             "colorbar": {
              "outlinewidth": 0,
              "ticks": ""
             }
            },
            "marker": {
             "colorbar": {
              "outlinewidth": 0,
              "ticks": ""
             }
            },
            "type": "scatter3d"
           }
          ],
          "scattercarpet": [
           {
            "marker": {
             "colorbar": {
              "outlinewidth": 0,
              "ticks": ""
             }
            },
            "type": "scattercarpet"
           }
          ],
          "scattergeo": [
           {
            "marker": {
             "colorbar": {
              "outlinewidth": 0,
              "ticks": ""
             }
            },
            "type": "scattergeo"
           }
          ],
          "scattergl": [
           {
            "marker": {
             "colorbar": {
              "outlinewidth": 0,
              "ticks": ""
             }
            },
            "type": "scattergl"
           }
          ],
          "scattermap": [
           {
            "marker": {
             "colorbar": {
              "outlinewidth": 0,
              "ticks": ""
             }
            },
            "type": "scattermap"
           }
          ],
          "scattermapbox": [
           {
            "marker": {
             "colorbar": {
              "outlinewidth": 0,
              "ticks": ""
             }
            },
            "type": "scattermapbox"
           }
          ],
          "scatterpolar": [
           {
            "marker": {
             "colorbar": {
              "outlinewidth": 0,
              "ticks": ""
             }
            },
            "type": "scatterpolar"
           }
          ],
          "scatterpolargl": [
           {
            "marker": {
             "colorbar": {
              "outlinewidth": 0,
              "ticks": ""
             }
            },
            "type": "scatterpolargl"
           }
          ],
          "scatterternary": [
           {
            "marker": {
             "colorbar": {
              "outlinewidth": 0,
              "ticks": ""
             }
            },
            "type": "scatterternary"
           }
          ],
          "surface": [
           {
            "colorbar": {
             "outlinewidth": 0,
             "ticks": ""
            },
            "colorscale": [
             [
              0,
              "#0d0887"
             ],
             [
              0.1111111111111111,
              "#46039f"
             ],
             [
              0.2222222222222222,
              "#7201a8"
             ],
             [
              0.3333333333333333,
              "#9c179e"
             ],
             [
              0.4444444444444444,
              "#bd3786"
             ],
             [
              0.5555555555555556,
              "#d8576b"
             ],
             [
              0.6666666666666666,
              "#ed7953"
             ],
             [
              0.7777777777777778,
              "#fb9f3a"
             ],
             [
              0.8888888888888888,
              "#fdca26"
             ],
             [
              1,
              "#f0f921"
             ]
            ],
            "type": "surface"
           }
          ],
          "table": [
           {
            "cells": {
             "fill": {
              "color": "#EBF0F8"
             },
             "line": {
              "color": "white"
             }
            },
            "header": {
             "fill": {
              "color": "#C8D4E3"
             },
             "line": {
              "color": "white"
             }
            },
            "type": "table"
           }
          ]
         },
         "layout": {
          "annotationdefaults": {
           "arrowcolor": "#2a3f5f",
           "arrowhead": 0,
           "arrowwidth": 1
          },
          "autotypenumbers": "strict",
          "coloraxis": {
           "colorbar": {
            "outlinewidth": 0,
            "ticks": ""
           }
          },
          "colorscale": {
           "diverging": [
            [
             0,
             "#8e0152"
            ],
            [
             0.1,
             "#c51b7d"
            ],
            [
             0.2,
             "#de77ae"
            ],
            [
             0.3,
             "#f1b6da"
            ],
            [
             0.4,
             "#fde0ef"
            ],
            [
             0.5,
             "#f7f7f7"
            ],
            [
             0.6,
             "#e6f5d0"
            ],
            [
             0.7,
             "#b8e186"
            ],
            [
             0.8,
             "#7fbc41"
            ],
            [
             0.9,
             "#4d9221"
            ],
            [
             1,
             "#276419"
            ]
           ],
           "sequential": [
            [
             0,
             "#0d0887"
            ],
            [
             0.1111111111111111,
             "#46039f"
            ],
            [
             0.2222222222222222,
             "#7201a8"
            ],
            [
             0.3333333333333333,
             "#9c179e"
            ],
            [
             0.4444444444444444,
             "#bd3786"
            ],
            [
             0.5555555555555556,
             "#d8576b"
            ],
            [
             0.6666666666666666,
             "#ed7953"
            ],
            [
             0.7777777777777778,
             "#fb9f3a"
            ],
            [
             0.8888888888888888,
             "#fdca26"
            ],
            [
             1,
             "#f0f921"
            ]
           ],
           "sequentialminus": [
            [
             0,
             "#0d0887"
            ],
            [
             0.1111111111111111,
             "#46039f"
            ],
            [
             0.2222222222222222,
             "#7201a8"
            ],
            [
             0.3333333333333333,
             "#9c179e"
            ],
            [
             0.4444444444444444,
             "#bd3786"
            ],
            [
             0.5555555555555556,
             "#d8576b"
            ],
            [
             0.6666666666666666,
             "#ed7953"
            ],
            [
             0.7777777777777778,
             "#fb9f3a"
            ],
            [
             0.8888888888888888,
             "#fdca26"
            ],
            [
             1,
             "#f0f921"
            ]
           ]
          },
          "colorway": [
           "#636efa",
           "#EF553B",
           "#00cc96",
           "#ab63fa",
           "#FFA15A",
           "#19d3f3",
           "#FF6692",
           "#B6E880",
           "#FF97FF",
           "#FECB52"
          ],
          "font": {
           "color": "#2a3f5f"
          },
          "geo": {
           "bgcolor": "white",
           "lakecolor": "white",
           "landcolor": "#E5ECF6",
           "showlakes": true,
           "showland": true,
           "subunitcolor": "white"
          },
          "hoverlabel": {
           "align": "left"
          },
          "hovermode": "closest",
          "mapbox": {
           "style": "light"
          },
          "paper_bgcolor": "white",
          "plot_bgcolor": "#E5ECF6",
          "polar": {
           "angularaxis": {
            "gridcolor": "white",
            "linecolor": "white",
            "ticks": ""
           },
           "bgcolor": "#E5ECF6",
           "radialaxis": {
            "gridcolor": "white",
            "linecolor": "white",
            "ticks": ""
           }
          },
          "scene": {
           "xaxis": {
            "backgroundcolor": "#E5ECF6",
            "gridcolor": "white",
            "gridwidth": 2,
            "linecolor": "white",
            "showbackground": true,
            "ticks": "",
            "zerolinecolor": "white"
           },
           "yaxis": {
            "backgroundcolor": "#E5ECF6",
            "gridcolor": "white",
            "gridwidth": 2,
            "linecolor": "white",
            "showbackground": true,
            "ticks": "",
            "zerolinecolor": "white"
           },
           "zaxis": {
            "backgroundcolor": "#E5ECF6",
            "gridcolor": "white",
            "gridwidth": 2,
            "linecolor": "white",
            "showbackground": true,
            "ticks": "",
            "zerolinecolor": "white"
           }
          },
          "shapedefaults": {
           "line": {
            "color": "#2a3f5f"
           }
          },
          "ternary": {
           "aaxis": {
            "gridcolor": "white",
            "linecolor": "white",
            "ticks": ""
           },
           "baxis": {
            "gridcolor": "white",
            "linecolor": "white",
            "ticks": ""
           },
           "bgcolor": "#E5ECF6",
           "caxis": {
            "gridcolor": "white",
            "linecolor": "white",
            "ticks": ""
           }
          },
          "title": {
           "x": 0.05
          },
          "xaxis": {
           "automargin": true,
           "gridcolor": "white",
           "linecolor": "white",
           "ticks": "",
           "title": {
            "standoff": 15
           },
           "zerolinecolor": "white",
           "zerolinewidth": 2
          },
          "yaxis": {
           "automargin": true,
           "gridcolor": "white",
           "linecolor": "white",
           "ticks": "",
           "title": {
            "standoff": 15
           },
           "zerolinecolor": "white",
           "zerolinewidth": 2
          }
         }
        },
        "title": {
         "text": "Comprehensive Volatility Surface Analysis - 10 Expiries"
        },
        "xaxis": {
         "anchor": "y",
         "domain": [
          0.55,
          1
         ],
         "title": {
          "text": "Strike Price ($)"
         }
        },
        "xaxis2": {
         "anchor": "y2",
         "domain": [
          0,
          0.45
         ],
         "title": {
          "text": "Days to Expiry"
         }
        },
        "yaxis": {
         "anchor": "x",
         "domain": [
          0.575,
          1
         ],
         "title": {
          "text": "Implied Volatility (%)"
         }
        },
        "yaxis2": {
         "anchor": "x2",
         "domain": [
          0,
          0.425
         ],
         "title": {
          "text": "ATM Implied Volatility (%)"
         }
        }
       }
      },
      "text/html": [
       "<div>            <script src=\"https://cdnjs.cloudflare.com/ajax/libs/mathjax/2.7.5/MathJax.js?config=TeX-AMS-MML_SVG\"></script><script type=\"text/javascript\">if (window.MathJax && window.MathJax.Hub && window.MathJax.Hub.Config) {window.MathJax.Hub.Config({SVG: {font: \"STIX-Web\"}});}</script>                <script type=\"text/javascript\">window.PlotlyConfig = {MathJaxConfig: 'local'};</script>\n",
       "        <script charset=\"utf-8\" src=\"https://cdn.plot.ly/plotly-3.1.0.min.js\" integrity=\"sha256-Ei4740bWZhaUTQuD6q9yQlgVCMPBz6CZWhevDYPv93A=\" crossorigin=\"anonymous\"></script>                <div id=\"0a8d4441-b2db-4ba2-bd7c-9cdf1e88954e\" class=\"plotly-graph-div\" style=\"height:1200px; width:100%;\"></div>            <script type=\"text/javascript\">                window.PLOTLYENV=window.PLOTLYENV || {};                                if (document.getElementById(\"0a8d4441-b2db-4ba2-bd7c-9cdf1e88954e\")) {                    Plotly.newPlot(                        \"0a8d4441-b2db-4ba2-bd7c-9cdf1e88954e\",                        [{\"colorbar\":{\"title\":{\"text\":\"Implied Volatility (%)\"},\"x\":0.45},\"colorscale\":[[0.0,\"#440154\"],[0.1111111111111111,\"#482878\"],[0.2222222222222222,\"#3e4989\"],[0.3333333333333333,\"#31688e\"],[0.4444444444444444,\"#26828e\"],[0.5555555555555556,\"#1f9e89\"],[0.6666666666666666,\"#35b779\"],[0.7777777777777778,\"#6ece58\"],[0.8888888888888888,\"#b5de2b\"],[1.0,\"#fde725\"]],\"hovertemplate\":\"Strike: %{x:.0f}\\u003cbr\\u003eDays to Expiry: %{y:.1f}\\u003cbr\\u003eIV: %{z:.1f}%\\u003cextra\\u003e\\u003c\\u002fextra\\u003e\",\"name\":\"IV Surface\",\"x\":{\"dtype\":\"f8\",\"bdata\":\"AAAAAACI00A\\u002fNNaHxhrbQD801ofGVuFAXk7Byykg5UB+aKwPjenoQJ2Cl1PwsuxAXk7Byyk+8EBu27Zt2yLyQH5orA+NB\\u002fRAjfWhsT7s9UCdgpdT8ND3QK0PjfWhtflAvJyCl1Oa+0DMKXg5BX\\u002f9QNy2bdu2Y\\u002f9A9qGxPjSkAEF+aKwPjZYBQQUvp+DliAJBjfWhsT57A0EVvJyCl20EQZ2Cl1PwXwVBJUmSJElSBkGtD431oUQHQTTWh8b6NghBvJyCl1MpCUFEY31orBsKQcwpeDkFDgtBVPByCl4ADEHctm3btvIMQWN9aKwP5Q1B60NjfWjXDkFzCl5OwckPQX5orA8NXhBBwsspeDnXEEEFL6fgZVARQUmSJEmSyRFBjfWhsb5CEkHRWB8a67sSQRW8nIIXNRNBWR8a60OuE0GdgpdTcCcUQeHlFLycoBRBJUmSJMkZFUFprA+N9ZIVQa0PjfUhDBZB8HIKXk6FFkE01ofGev4WQXg5BS+ndxdBvJyCl9PwF0EAAAAAAGoYQQAAAAAAiNNAPzTWh8Ya20A\\u002fNNaHxlbhQF5OwcspIOVAfmisD43p6ECdgpdT8LLsQF5OwcspPvBAbtu2bdsi8kB+aKwPjQf0QI31obE+7PVAnYKXU\\u002fDQ90CtD431obX5QLycgpdTmvtAzCl4OQV\\u002f\\u002fUDctm3btmP\\u002fQPahsT40pABBfmisD42WAUEFL6fg5YgCQY31obE+ewNBFbycgpdtBEGdgpdT8F8FQSVJkiRJUgZBrQ+N9aFEB0E01ofG+jYIQbycgpdTKQlBRGN9aKwbCkHMKXg5BQ4LQVTwcgpeAAxB3LZt27byDEFjfWisD+UNQetDY31o1w5BcwpeTsHJD0F+aKwPDV4QQcLLKXg51xBBBS+n4GVQEUFJkiRJkskRQY31obG+QhJB0VgfGuu7EkEVvJyCFzUTQVkfGutDrhNBnYKXU3AnFEHh5RS8nKAUQSVJkiTJGRVBaawPjfWSFUGtD431IQwWQfByCl5OhRZBNNaHxnr+FkF4OQUvp3cXQbycgpfT8BdBAAAAAABqGEEAAAAAAIjTQD801ofGGttAPzTWh8ZW4UBeTsHLKSDlQH5orA+N6ehAnYKXU\\u002fCy7EBeTsHLKT7wQG7btm3bIvJAfmisD40H9ECN9aGxPuz1QJ2Cl1Pw0PdArQ+N9aG1+UC8nIKXU5r7QMwpeDkFf\\u002f1A3LZt27Zj\\u002f0D2obE+NKQAQX5orA+NlgFBBS+n4OWIAkGN9aGxPnsDQRW8nIKXbQRBnYKXU\\u002fBfBUElSZIkSVIGQa0PjfWhRAdBNNaHxvo2CEG8nIKXUykJQURjfWisGwpBzCl4OQUOC0FU8HIKXgAMQdy2bdu28gxBY31orA\\u002flDUHrQ2N9aNcOQXMKXk7ByQ9BfmisDw1eEEHCyyl4OdcQQQUvp+BlUBFBSZIkSZLJEUGN9aGxvkISQdFYHxrruxJBFbycghc1E0FZHxrrQ64TQZ2Cl1NwJxRB4eUUvJygFEElSZIkyRkVQWmsD431khVBrQ+N9SEMFkHwcgpeToUWQTTWh8Z6\\u002fhZBeDkFL6d3F0G8nIKX0\\u002fAXQQAAAAAAahhBAAAAAACI00A\\u002fNNaHxhrbQD801ofGVuFAXk7Byykg5UB+aKwPjenoQJ2Cl1PwsuxAXk7Byyk+8EBu27Zt2yLyQH5orA+NB\\u002fRAjfWhsT7s9UCdgpdT8ND3QK0PjfWhtflAvJyCl1Oa+0DMKXg5BX\\u002f9QNy2bdu2Y\\u002f9A9qGxPjSkAEF+aKwPjZYBQQUvp+DliAJBjfWhsT57A0EVvJyCl20EQZ2Cl1PwXwVBJUmSJElSBkGtD431oUQHQTTWh8b6NghBvJyCl1MpCUFEY31orBsKQcwpeDkFDgtBVPByCl4ADEHctm3btvIMQWN9aKwP5Q1B60NjfWjXDkFzCl5OwckPQX5orA8NXhBBwsspeDnXEEEFL6fgZVARQUmSJEmSyRFBjfWhsb5CEkHRWB8a67sSQRW8nIIXNRNBWR8a60OuE0GdgpdTcCcUQeHlFLycoBRBJUmSJMkZFUFprA+N9ZIVQa0PjfUhDBZB8HIKXk6FFkE01ofGev4WQXg5BS+ndxdBvJyCl9PwF0EAAAAAAGoYQQAAAAAAiNNAPzTWh8Ya20A\\u002fNNaHxlbhQF5OwcspIOVAfmisD43p6ECdgpdT8LLsQF5OwcspPvBAbtu2bdsi8kB+aKwPjQf0QI31obE+7PVAnYKXU\\u002fDQ90CtD431obX5QLycgpdTmvtAzCl4OQV\\u002f\\u002fUDctm3btmP\\u002fQPahsT40pABBfmisD42WAUEFL6fg5YgCQY31obE+ewNBFbycgpdtBEGdgpdT8F8FQSVJkiRJUgZBrQ+N9aFEB0E01ofG+jYIQbycgpdTKQlBRGN9aKwbCkHMKXg5BQ4LQVTwcgpeAAxB3LZt27byDEFjfWisD+UNQetDY31o1w5BcwpeTsHJD0F+aKwPDV4QQcLLKXg51xBBBS+n4GVQEUFJkiRJkskRQY31obG+QhJB0VgfGuu7EkEVvJyCFzUTQVkfGutDrhNBnYKXU3AnFEHh5RS8nKAUQSVJkiTJGRVBaawPjfWSFUGtD431IQwWQfByCl5OhRZBNNaHxnr+FkF4OQUvp3cXQbycgpfT8BdBAAAAAABqGEEAAAAAAIjTQD801ofGGttAPzTWh8ZW4UBeTsHLKSDlQH5orA+N6ehAnYKXU\\u002fCy7EBeTsHLKT7wQG7btm3bIvJAfmisD40H9ECN9aGxPuz1QJ2Cl1Pw0PdArQ+N9aG1+UC8nIKXU5r7QMwpeDkFf\\u002f1A3LZt27Zj\\u002f0D2obE+NKQAQX5orA+NlgFBBS+n4OWIAkGN9aGxPnsDQRW8nIKXbQRBnYKXU\\u002fBfBUElSZIkSVIGQa0PjfWhRAdBNNaHxvo2CEG8nIKXUykJQURjfWisGwpBzCl4OQUOC0FU8HIKXgAMQdy2bdu28gxBY31orA\\u002flDUHrQ2N9aNcOQXMKXk7ByQ9BfmisDw1eEEHCyyl4OdcQQQUvp+BlUBFBSZIkSZLJEUGN9aGxvkISQdFYHxrruxJBFbycghc1E0FZHxrrQ64TQZ2Cl1NwJxRB4eUUvJygFEElSZIkyRkVQWmsD431khVBrQ+N9SEMFkHwcgpeToUWQTTWh8Z6\\u002fhZBeDkFL6d3F0G8nIKX0\\u002fAXQQAAAAAAahhBAAAAAACI00A\\u002fNNaHxhrbQD801ofGVuFAXk7Byykg5UB+aKwPjenoQJ2Cl1PwsuxAXk7Byyk+8EBu27Zt2yLyQH5orA+NB\\u002fRAjfWhsT7s9UCdgpdT8ND3QK0PjfWhtflAvJyCl1Oa+0DMKXg5BX\\u002f9QNy2bdu2Y\\u002f9A9qGxPjSkAEF+aKwPjZYBQQUvp+DliAJBjfWhsT57A0EVvJyCl20EQZ2Cl1PwXwVBJUmSJElSBkGtD431oUQHQTTWh8b6NghBvJyCl1MpCUFEY31orBsKQcwpeDkFDgtBVPByCl4ADEHctm3btvIMQWN9aKwP5Q1B60NjfWjXDkFzCl5OwckPQX5orA8NXhBBwsspeDnXEEEFL6fgZVARQUmSJEmSyRFBjfWhsb5CEkHRWB8a67sSQRW8nIIXNRNBWR8a60OuE0GdgpdTcCcUQeHlFLycoBRBJUmSJMkZFUFprA+N9ZIVQa0PjfUhDBZB8HIKXk6FFkE01ofGev4WQXg5BS+ndxdBvJyCl9PwF0EAAAAAAGoYQQAAAAAAiNNAPzTWh8Ya20A\\u002fNNaHxlbhQF5OwcspIOVAfmisD43p6ECdgpdT8LLsQF5OwcspPvBAbtu2bdsi8kB+aKwPjQf0QI31obE+7PVAnYKXU\\u002fDQ90CtD431obX5QLycgpdTmvtAzCl4OQV\\u002f\\u002fUDctm3btmP\\u002fQPahsT40pABBfmisD42WAUEFL6fg5YgCQY31obE+ewNBFbycgpdtBEGdgpdT8F8FQSVJkiRJUgZBrQ+N9aFEB0E01ofG+jYIQbycgpdTKQlBRGN9aKwbCkHMKXg5BQ4LQVTwcgpeAAxB3LZt27byDEFjfWisD+UNQetDY31o1w5BcwpeTsHJD0F+aKwPDV4QQcLLKXg51xBBBS+n4GVQEUFJkiRJkskRQY31obG+QhJB0VgfGuu7EkEVvJyCFzUTQVkfGutDrhNBnYKXU3AnFEHh5RS8nKAUQSVJkiTJGRVBaawPjfWSFUGtD431IQwWQfByCl5OhRZBNNaHxnr+FkF4OQUvp3cXQbycgpfT8BdBAAAAAABqGEEAAAAAAIjTQD801ofGGttAPzTWh8ZW4UBeTsHLKSDlQH5orA+N6ehAnYKXU\\u002fCy7EBeTsHLKT7wQG7btm3bIvJAfmisD40H9ECN9aGxPuz1QJ2Cl1Pw0PdArQ+N9aG1+UC8nIKXU5r7QMwpeDkFf\\u002f1A3LZt27Zj\\u002f0D2obE+NKQAQX5orA+NlgFBBS+n4OWIAkGN9aGxPnsDQRW8nIKXbQRBnYKXU\\u002fBfBUElSZIkSVIGQa0PjfWhRAdBNNaHxvo2CEG8nIKXUykJQURjfWisGwpBzCl4OQUOC0FU8HIKXgAMQdy2bdu28gxBY31orA\\u002flDUHrQ2N9aNcOQXMKXk7ByQ9BfmisDw1eEEHCyyl4OdcQQQUvp+BlUBFBSZIkSZLJEUGN9aGxvkISQdFYHxrruxJBFbycghc1E0FZHxrrQ64TQZ2Cl1NwJxRB4eUUvJygFEElSZIkyRkVQWmsD431khVBrQ+N9SEMFkHwcgpeToUWQTTWh8Z6\\u002fhZBeDkFL6d3F0G8nIKX0\\u002fAXQQAAAAAAahhBAAAAAACI00A\\u002fNNaHxhrbQD801ofGVuFAXk7Byykg5UB+aKwPjenoQJ2Cl1PwsuxAXk7Byyk+8EBu27Zt2yLyQH5orA+NB\\u002fRAjfWhsT7s9UCdgpdT8ND3QK0PjfWhtflAvJyCl1Oa+0DMKXg5BX\\u002f9QNy2bdu2Y\\u002f9A9qGxPjSkAEF+aKwPjZYBQQUvp+DliAJBjfWhsT57A0EVvJyCl20EQZ2Cl1PwXwVBJUmSJElSBkGtD431oUQHQTTWh8b6NghBvJyCl1MpCUFEY31orBsKQcwpeDkFDgtBVPByCl4ADEHctm3btvIMQWN9aKwP5Q1B60NjfWjXDkFzCl5OwckPQX5orA8NXhBBwsspeDnXEEEFL6fgZVARQUmSJEmSyRFBjfWhsb5CEkHRWB8a67sSQRW8nIIXNRNBWR8a60OuE0GdgpdTcCcUQeHlFLycoBRBJUmSJMkZFUFprA+N9ZIVQa0PjfUhDBZB8HIKXk6FFkE01ofGev4WQXg5BS+ndxdBvJyCl9PwF0EAAAAAAGoYQQAAAAAAiNNAPzTWh8Ya20A\\u002fNNaHxlbhQF5OwcspIOVAfmisD43p6ECdgpdT8LLsQF5OwcspPvBAbtu2bdsi8kB+aKwPjQf0QI31obE+7PVAnYKXU\\u002fDQ90CtD431obX5QLycgpdTmvtAzCl4OQV\\u002f\\u002fUDctm3btmP\\u002fQPahsT40pABBfmisD42WAUEFL6fg5YgCQY31obE+ewNBFbycgpdtBEGdgpdT8F8FQSVJkiRJUgZBrQ+N9aFEB0E01ofG+jYIQbycgpdTKQlBRGN9aKwbCkHMKXg5BQ4LQVTwcgpeAAxB3LZt27byDEFjfWisD+UNQetDY31o1w5BcwpeTsHJD0F+aKwPDV4QQcLLKXg51xBBBS+n4GVQEUFJkiRJkskRQY31obG+QhJB0VgfGuu7EkEVvJyCFzUTQVkfGutDrhNBnYKXU3AnFEHh5RS8nKAUQSVJkiTJGRVBaawPjfWSFUGtD431IQwWQfByCl5OhRZBNNaHxnr+FkF4OQUvp3cXQbycgpfT8BdBAAAAAABqGEEAAAAAAIjTQD801ofGGttAPzTWh8ZW4UBeTsHLKSDlQH5orA+N6ehAnYKXU\\u002fCy7EBeTsHLKT7wQG7btm3bIvJAfmisD40H9ECN9aGxPuz1QJ2Cl1Pw0PdArQ+N9aG1+UC8nIKXU5r7QMwpeDkFf\\u002f1A3LZt27Zj\\u002f0D2obE+NKQAQX5orA+NlgFBBS+n4OWIAkGN9aGxPnsDQRW8nIKXbQRBnYKXU\\u002fBfBUElSZIkSVIGQa0PjfWhRAdBNNaHxvo2CEG8nIKXUykJQURjfWisGwpBzCl4OQUOC0FU8HIKXgAMQdy2bdu28gxBY31orA\\u002flDUHrQ2N9aNcOQXMKXk7ByQ9BfmisDw1eEEHCyyl4OdcQQQUvp+BlUBFBSZIkSZLJEUGN9aGxvkISQdFYHxrruxJBFbycghc1E0FZHxrrQ64TQZ2Cl1NwJxRB4eUUvJygFEElSZIkyRkVQWmsD431khVBrQ+N9SEMFkHwcgpeToUWQTTWh8Z6\\u002fhZBeDkFL6d3F0G8nIKX0\\u002fAXQQAAAAAAahhBAAAAAACI00A\\u002fNNaHxhrbQD801ofGVuFAXk7Byykg5UB+aKwPjenoQJ2Cl1PwsuxAXk7Byyk+8EBu27Zt2yLyQH5orA+NB\\u002fRAjfWhsT7s9UCdgpdT8ND3QK0PjfWhtflAvJyCl1Oa+0DMKXg5BX\\u002f9QNy2bdu2Y\\u002f9A9qGxPjSkAEF+aKwPjZYBQQUvp+DliAJBjfWhsT57A0EVvJyCl20EQZ2Cl1PwXwVBJUmSJElSBkGtD431oUQHQTTWh8b6NghBvJyCl1MpCUFEY31orBsKQcwpeDkFDgtBVPByCl4ADEHctm3btvIMQWN9aKwP5Q1B60NjfWjXDkFzCl5OwckPQX5orA8NXhBBwsspeDnXEEEFL6fgZVARQUmSJEmSyRFBjfWhsb5CEkHRWB8a67sSQRW8nIIXNRNBWR8a60OuE0GdgpdTcCcUQeHlFLycoBRBJUmSJMkZFUFprA+N9ZIVQa0PjfUhDBZB8HIKXk6FFkE01ofGev4WQXg5BS+ndxdBvJyCl9PwF0EAAAAAAGoYQQAAAAAAiNNAPzTWh8Ya20A\\u002fNNaHxlbhQF5OwcspIOVAfmisD43p6ECdgpdT8LLsQF5OwcspPvBAbtu2bdsi8kB+aKwPjQf0QI31obE+7PVAnYKXU\\u002fDQ90CtD431obX5QLycgpdTmvtAzCl4OQV\\u002f\\u002fUDctm3btmP\\u002fQPahsT40pABBfmisD42WAUEFL6fg5YgCQY31obE+ewNBFbycgpdtBEGdgpdT8F8FQSVJkiRJUgZBrQ+N9aFEB0E01ofG+jYIQbycgpdTKQlBRGN9aKwbCkHMKXg5BQ4LQVTwcgpeAAxB3LZt27byDEFjfWisD+UNQetDY31o1w5BcwpeTsHJD0F+aKwPDV4QQcLLKXg51xBBBS+n4GVQEUFJkiRJkskRQY31obG+QhJB0VgfGuu7EkEVvJyCFzUTQVkfGutDrhNBnYKXU3AnFEHh5RS8nKAUQSVJkiTJGRVBaawPjfWSFUGtD431IQwWQfByCl5OhRZBNNaHxnr+FkF4OQUvp3cXQbycgpfT8BdBAAAAAABqGEEAAAAAAIjTQD801ofGGttAPzTWh8ZW4UBeTsHLKSDlQH5orA+N6ehAnYKXU\\u002fCy7EBeTsHLKT7wQG7btm3bIvJAfmisD40H9ECN9aGxPuz1QJ2Cl1Pw0PdArQ+N9aG1+UC8nIKXU5r7QMwpeDkFf\\u002f1A3LZt27Zj\\u002f0D2obE+NKQAQX5orA+NlgFBBS+n4OWIAkGN9aGxPnsDQRW8nIKXbQRBnYKXU\\u002fBfBUElSZIkSVIGQa0PjfWhRAdBNNaHxvo2CEG8nIKXUykJQURjfWisGwpBzCl4OQUOC0FU8HIKXgAMQdy2bdu28gxBY31orA\\u002flDUHrQ2N9aNcOQXMKXk7ByQ9BfmisDw1eEEHCyyl4OdcQQQUvp+BlUBFBSZIkSZLJEUGN9aGxvkISQdFYHxrruxJBFbycghc1E0FZHxrrQ64TQZ2Cl1NwJxRB4eUUvJygFEElSZIkyRkVQWmsD431khVBrQ+N9SEMFkHwcgpeToUWQTTWh8Z6\\u002fhZBeDkFL6d3F0G8nIKX0\\u002fAXQQAAAAAAahhBAAAAAACI00A\\u002fNNaHxhrbQD801ofGVuFAXk7Byykg5UB+aKwPjenoQJ2Cl1PwsuxAXk7Byyk+8EBu27Zt2yLyQH5orA+NB\\u002fRAjfWhsT7s9UCdgpdT8ND3QK0PjfWhtflAvJyCl1Oa+0DMKXg5BX\\u002f9QNy2bdu2Y\\u002f9A9qGxPjSkAEF+aKwPjZYBQQUvp+DliAJBjfWhsT57A0EVvJyCl20EQZ2Cl1PwXwVBJUmSJElSBkGtD431oUQHQTTWh8b6NghBvJyCl1MpCUFEY31orBsKQcwpeDkFDgtBVPByCl4ADEHctm3btvIMQWN9aKwP5Q1B60NjfWjXDkFzCl5OwckPQX5orA8NXhBBwsspeDnXEEEFL6fgZVARQUmSJEmSyRFBjfWhsb5CEkHRWB8a67sSQRW8nIIXNRNBWR8a60OuE0GdgpdTcCcUQeHlFLycoBRBJUmSJMkZFUFprA+N9ZIVQa0PjfUhDBZB8HIKXk6FFkE01ofGev4WQXg5BS+ndxdBvJyCl9PwF0EAAAAAAGoYQQAAAAAAiNNAPzTWh8Ya20A\\u002fNNaHxlbhQF5OwcspIOVAfmisD43p6ECdgpdT8LLsQF5OwcspPvBAbtu2bdsi8kB+aKwPjQf0QI31obE+7PVAnYKXU\\u002fDQ90CtD431obX5QLycgpdTmvtAzCl4OQV\\u002f\\u002fUDctm3btmP\\u002fQPahsT40pABBfmisD42WAUEFL6fg5YgCQY31obE+ewNBFbycgpdtBEGdgpdT8F8FQSVJkiRJUgZBrQ+N9aFEB0E01ofG+jYIQbycgpdTKQlBRGN9aKwbCkHMKXg5BQ4LQVTwcgpeAAxB3LZt27byDEFjfWisD+UNQetDY31o1w5BcwpeTsHJD0F+aKwPDV4QQcLLKXg51xBBBS+n4GVQEUFJkiRJkskRQY31obG+QhJB0VgfGuu7EkEVvJyCFzUTQVkfGutDrhNBnYKXU3AnFEHh5RS8nKAUQSVJkiTJGRVBaawPjfWSFUGtD431IQwWQfByCl5OhRZBNNaHxnr+FkF4OQUvp3cXQbycgpfT8BdBAAAAAABqGEEAAAAAAIjTQD801ofGGttAPzTWh8ZW4UBeTsHLKSDlQH5orA+N6ehAnYKXU\\u002fCy7EBeTsHLKT7wQG7btm3bIvJAfmisD40H9ECN9aGxPuz1QJ2Cl1Pw0PdArQ+N9aG1+UC8nIKXU5r7QMwpeDkFf\\u002f1A3LZt27Zj\\u002f0D2obE+NKQAQX5orA+NlgFBBS+n4OWIAkGN9aGxPnsDQRW8nIKXbQRBnYKXU\\u002fBfBUElSZIkSVIGQa0PjfWhRAdBNNaHxvo2CEG8nIKXUykJQURjfWisGwpBzCl4OQUOC0FU8HIKXgAMQdy2bdu28gxBY31orA\\u002flDUHrQ2N9aNcOQXMKXk7ByQ9BfmisDw1eEEHCyyl4OdcQQQUvp+BlUBFBSZIkSZLJEUGN9aGxvkISQdFYHxrruxJBFbycghc1E0FZHxrrQ64TQZ2Cl1NwJxRB4eUUvJygFEElSZIkyRkVQWmsD431khVBrQ+N9SEMFkHwcgpeToUWQTTWh8Z6\\u002fhZBeDkFL6d3F0G8nIKX0\\u002fAXQQAAAAAAahhBAAAAAACI00A\\u002fNNaHxhrbQD801ofGVuFAXk7Byykg5UB+aKwPjenoQJ2Cl1PwsuxAXk7Byyk+8EBu27Zt2yLyQH5orA+NB\\u002fRAjfWhsT7s9UCdgpdT8ND3QK0PjfWhtflAvJyCl1Oa+0DMKXg5BX\\u002f9QNy2bdu2Y\\u002f9A9qGxPjSkAEF+aKwPjZYBQQUvp+DliAJBjfWhsT57A0EVvJyCl20EQZ2Cl1PwXwVBJUmSJElSBkGtD431oUQHQTTWh8b6NghBvJyCl1MpCUFEY31orBsKQcwpeDkFDgtBVPByCl4ADEHctm3btvIMQWN9aKwP5Q1B60NjfWjXDkFzCl5OwckPQX5orA8NXhBBwsspeDnXEEEFL6fgZVARQUmSJEmSyRFBjfWhsb5CEkHRWB8a67sSQRW8nIIXNRNBWR8a60OuE0GdgpdTcCcUQeHlFLycoBRBJUmSJMkZFUFprA+N9ZIVQa0PjfUhDBZB8HIKXk6FFkE01ofGev4WQXg5BS+ndxdBvJyCl9PwF0EAAAAAAGoYQQAAAAAAiNNAPzTWh8Ya20A\\u002fNNaHxlbhQF5OwcspIOVAfmisD43p6ECdgpdT8LLsQF5OwcspPvBAbtu2bdsi8kB+aKwPjQf0QI31obE+7PVAnYKXU\\u002fDQ90CtD431obX5QLycgpdTmvtAzCl4OQV\\u002f\\u002fUDctm3btmP\\u002fQPahsT40pABBfmisD42WAUEFL6fg5YgCQY31obE+ewNBFbycgpdtBEGdgpdT8F8FQSVJkiRJUgZBrQ+N9aFEB0E01ofG+jYIQbycgpdTKQlBRGN9aKwbCkHMKXg5BQ4LQVTwcgpeAAxB3LZt27byDEFjfWisD+UNQetDY31o1w5BcwpeTsHJD0F+aKwPDV4QQcLLKXg51xBBBS+n4GVQEUFJkiRJkskRQY31obG+QhJB0VgfGuu7EkEVvJyCFzUTQVkfGutDrhNBnYKXU3AnFEHh5RS8nKAUQSVJkiTJGRVBaawPjfWSFUGtD431IQwWQfByCl5OhRZBNNaHxnr+FkF4OQUvp3cXQbycgpfT8BdBAAAAAABqGEE=\",\"shape\":\"20, 50\"},\"y\":{\"dtype\":\"f8\",\"bdata\":\"AAAAAAAAAAAAAAAAAAAAAAAAAAAAAAAAAAAAAAAAAAAAAAAAAAAAAAAAAAAAAAAAAAAAAAAAAAAAAAAAAAAAAAAAAAAAAAAAAAAAAAAAAAAAAAAAAAAAAAAAAAAAAAAAAAAAAAAAAAAAAAAAAAAAAAAAAAAAAAAAAAAAAAAAAAAAAAAAAAAAAAAAAAAAAAAAAAAAAAAAAAAAAAAAAAAAAAAAAAAAAAAAAAAAAAAAAAAAAAAAAAAAAAAAAAAAAAAAAAAAAAAAAAAAAAAAAAAAAAAAAAAAAAAAAAAAAAAAAAAAAAAAAAAAAAAAAAAAAAAAAAAAAAAAAAAAAAAAAAAAAAAAAAAAAAAAAAAAAAAAAAAAAAAAAAAAAAAAAAAAAAAAAAAAAAAAAAAAAAAAAAAAAAAAAAAAAAAAAAAAAAAAAAAAAAAAAAAAAAAAAAAAAAAAAAAAAAAAAAAAAAAAAAAAAAAAAAAAAAAAAAAAAAAAAAAAAAAAAAAAAAAAAAAAAAAAAAAAAAAAAAAAAAAAAAAAAGwor6G8hhpAbCivobyGGkBsKK+hvIYaQGwor6G8hhpAbCivobyGGkBsKK+hvIYaQGwor6G8hhpAbCivobyGGkBsKK+hvIYaQGwor6G8hhpAbCivobyGGkBsKK+hvIYaQGwor6G8hhpAbCivobyGGkBsKK+hvIYaQGwor6G8hhpAbCivobyGGkBsKK+hvIYaQGwor6G8hhpAbCivobyGGkBsKK+hvIYaQGwor6G8hhpAbCivobyGGkBsKK+hvIYaQGwor6G8hhpAbCivobyGGkBsKK+hvIYaQGwor6G8hhpAbCivobyGGkBsKK+hvIYaQGwor6G8hhpAbCivobyGGkBsKK+hvIYaQGwor6G8hhpAbCivobyGGkBsKK+hvIYaQGwor6G8hhpAbCivobyGGkBsKK+hvIYaQGwor6G8hhpAbCivobyGGkBsKK+hvIYaQGwor6G8hhpAbCivobyGGkBsKK+hvIYaQGwor6G8hhpAbCivobyGGkBsKK+hvIYaQGwor6G8hhpAbCivobyGGkBsKK+hvIYqQGwor6G8hipAbCivobyGKkBsKK+hvIYqQGwor6G8hipAbCivobyGKkBsKK+hvIYqQGwor6G8hipAbCivobyGKkBsKK+hvIYqQGwor6G8hipAbCivobyGKkBsKK+hvIYqQGwor6G8hipAbCivobyGKkBsKK+hvIYqQGwor6G8hipAbCivobyGKkBsKK+hvIYqQGwor6G8hipAbCivobyGKkBsKK+hvIYqQGwor6G8hipAbCivobyGKkBsKK+hvIYqQGwor6G8hipAbCivobyGKkBsKK+hvIYqQGwor6G8hipAbCivobyGKkBsKK+hvIYqQGwor6G8hipAbCivobyGKkBsKK+hvIYqQGwor6G8hipAbCivobyGKkBsKK+hvIYqQGwor6G8hipAbCivobyGKkBsKK+hvIYqQGwor6G8hipAbCivobyGKkBsKK+hvIYqQGwor6G8hipAbCivobyGKkBsKK+hvIYqQGwor6G8hipAbCivobyGKkBsKK+hvIYqQGwor6G8hipAUV5DeQ3lM0BRXkN5DeUzQFFeQ3kN5TNAUV5DeQ3lM0BRXkN5DeUzQFFeQ3kN5TNAUV5DeQ3lM0BRXkN5DeUzQFFeQ3kN5TNAUV5DeQ3lM0BRXkN5DeUzQFFeQ3kN5TNAUV5DeQ3lM0BRXkN5DeUzQFFeQ3kN5TNAUV5DeQ3lM0BRXkN5DeUzQFFeQ3kN5TNAUV5DeQ3lM0BRXkN5DeUzQFFeQ3kN5TNAUV5DeQ3lM0BRXkN5DeUzQFFeQ3kN5TNAUV5DeQ3lM0BRXkN5DeUzQFFeQ3kN5TNAUV5DeQ3lM0BRXkN5DeUzQFFeQ3kN5TNAUV5DeQ3lM0BRXkN5DeUzQFFeQ3kN5TNAUV5DeQ3lM0BRXkN5DeUzQFFeQ3kN5TNAUV5DeQ3lM0BRXkN5DeUzQFFeQ3kN5TNAUV5DeQ3lM0BRXkN5DeUzQFFeQ3kN5TNAUV5DeQ3lM0BRXkN5DeUzQFFeQ3kN5TNAUV5DeQ3lM0BRXkN5DeUzQFFeQ3kN5TNAUV5DeQ3lM0BRXkN5DeUzQGwor6G8hjpAbCivobyGOkBsKK+hvIY6QGwor6G8hjpAbCivobyGOkBsKK+hvIY6QGwor6G8hjpAbCivobyGOkBsKK+hvIY6QGwor6G8hjpAbCivobyGOkBsKK+hvIY6QGwor6G8hjpAbCivobyGOkBsKK+hvIY6QGwor6G8hjpAbCivobyGOkBsKK+hvIY6QGwor6G8hjpAbCivobyGOkBsKK+hvIY6QGwor6G8hjpAbCivobyGOkBsKK+hvIY6QGwor6G8hjpAbCivobyGOkBsKK+hvIY6QGwor6G8hjpAbCivobyGOkBsKK+hvIY6QGwor6G8hjpAbCivobyGOkBsKK+hvIY6QGwor6G8hjpAbCivobyGOkBsKK+hvIY6QGwor6G8hjpAbCivobyGOkBsKK+hvIY6QGwor6G8hjpAbCivobyGOkBsKK+hvIY6QGwor6G8hjpAbCivobyGOkBsKK+hvIY6QGwor6G8hjpAbCivobyGOkBsKK+hvIY6QGwor6G8hjpAbCivobyGOkBEeQ3lNZRAQER5DeU1lEBARHkN5TWUQEBEeQ3lNZRAQER5DeU1lEBARHkN5TWUQEBEeQ3lNZRAQER5DeU1lEBARHkN5TWUQEBEeQ3lNZRAQER5DeU1lEBARHkN5TWUQEBEeQ3lNZRAQER5DeU1lEBARHkN5TWUQEBEeQ3lNZRAQER5DeU1lEBARHkN5TWUQEBEeQ3lNZRAQER5DeU1lEBARHkN5TWUQEBEeQ3lNZRAQER5DeU1lEBARHkN5TWUQEBEeQ3lNZRAQER5DeU1lEBARHkN5TWUQEBEeQ3lNZRAQER5DeU1lEBARHkN5TWUQEBEeQ3lNZRAQER5DeU1lEBARHkN5TWUQEBEeQ3lNZRAQER5DeU1lEBARHkN5TWUQEBEeQ3lNZRAQER5DeU1lEBARHkN5TWUQEBEeQ3lNZRAQER5DeU1lEBARHkN5TWUQEBEeQ3lNZRAQER5DeU1lEBARHkN5TWUQEBEeQ3lNZRAQER5DeU1lEBARHkN5TWUQEBEeQ3lNZRAQER5DeU1lEBAUV5DeQ3lQ0BRXkN5DeVDQFFeQ3kN5UNAUV5DeQ3lQ0BRXkN5DeVDQFFeQ3kN5UNAUV5DeQ3lQ0BRXkN5DeVDQFFeQ3kN5UNAUV5DeQ3lQ0BRXkN5DeVDQFFeQ3kN5UNAUV5DeQ3lQ0BRXkN5DeVDQFFeQ3kN5UNAUV5DeQ3lQ0BRXkN5DeVDQFFeQ3kN5UNAUV5DeQ3lQ0BRXkN5DeVDQFFeQ3kN5UNAUV5DeQ3lQ0BRXkN5DeVDQFFeQ3kN5UNAUV5DeQ3lQ0BRXkN5DeVDQFFeQ3kN5UNAUV5DeQ3lQ0BRXkN5DeVDQFFeQ3kN5UNAUV5DeQ3lQ0BRXkN5DeVDQFFeQ3kN5UNAUV5DeQ3lQ0BRXkN5DeVDQFFeQ3kN5UNAUV5DeQ3lQ0BRXkN5DeVDQFFeQ3kN5UNAUV5DeQ3lQ0BRXkN5DeVDQFFeQ3kN5UNAUV5DeQ3lQ0BRXkN5DeVDQFFeQ3kN5UNAUV5DeQ3lQ0BRXkN5DeVDQFFeQ3kN5UNAUV5DeQ3lQ0BRXkN5DeVDQF5DeQ3lNUdAXkN5DeU1R0BeQ3kN5TVHQF5DeQ3lNUdAXkN5DeU1R0BeQ3kN5TVHQF5DeQ3lNUdAXkN5DeU1R0BeQ3kN5TVHQF5DeQ3lNUdAXkN5DeU1R0BeQ3kN5TVHQF5DeQ3lNUdAXkN5DeU1R0BeQ3kN5TVHQF5DeQ3lNUdAXkN5DeU1R0BeQ3kN5TVHQF5DeQ3lNUdAXkN5DeU1R0BeQ3kN5TVHQF5DeQ3lNUdAXkN5DeU1R0BeQ3kN5TVHQF5DeQ3lNUdAXkN5DeU1R0BeQ3kN5TVHQF5DeQ3lNUdAXkN5DeU1R0BeQ3kN5TVHQF5DeQ3lNUdAXkN5DeU1R0BeQ3kN5TVHQF5DeQ3lNUdAXkN5DeU1R0BeQ3kN5TVHQF5DeQ3lNUdAXkN5DeU1R0BeQ3kN5TVHQF5DeQ3lNUdAXkN5DeU1R0BeQ3kN5TVHQF5DeQ3lNUdAXkN5DeU1R0BeQ3kN5TVHQF5DeQ3lNUdAXkN5DeU1R0BeQ3kN5TVHQF5DeQ3lNUdAXkN5DeU1R0BsKK+hvIZKQGwor6G8hkpAbCivobyGSkBsKK+hvIZKQGwor6G8hkpAbCivobyGSkBsKK+hvIZKQGwor6G8hkpAbCivobyGSkBsKK+hvIZKQGwor6G8hkpAbCivobyGSkBsKK+hvIZKQGwor6G8hkpAbCivobyGSkBsKK+hvIZKQGwor6G8hkpAbCivobyGSkBsKK+hvIZKQGwor6G8hkpAbCivobyGSkBsKK+hvIZKQGwor6G8hkpAbCivobyGSkBsKK+hvIZKQGwor6G8hkpAbCivobyGSkBsKK+hvIZKQGwor6G8hkpAbCivobyGSkBsKK+hvIZKQGwor6G8hkpAbCivobyGSkBsKK+hvIZKQGwor6G8hkpAbCivobyGSkBsKK+hvIZKQGwor6G8hkpAbCivobyGSkBsKK+hvIZKQGwor6G8hkpAbCivobyGSkBsKK+hvIZKQGwor6G8hkpAbCivobyGSkBsKK+hvIZKQGwor6G8hkpAbCivobyGSkBsKK+hvIZKQGwor6G8hkpAeg3lNZTXTUB6DeU1lNdNQHoN5TWU101Aeg3lNZTXTUB6DeU1lNdNQHoN5TWU101Aeg3lNZTXTUB6DeU1lNdNQHoN5TWU101Aeg3lNZTXTUB6DeU1lNdNQHoN5TWU101Aeg3lNZTXTUB6DeU1lNdNQHoN5TWU101Aeg3lNZTXTUB6DeU1lNdNQHoN5TWU101Aeg3lNZTXTUB6DeU1lNdNQHoN5TWU101Aeg3lNZTXTUB6DeU1lNdNQHoN5TWU101Aeg3lNZTXTUB6DeU1lNdNQHoN5TWU101Aeg3lNZTXTUB6DeU1lNdNQHoN5TWU101Aeg3lNZTXTUB6DeU1lNdNQHoN5TWU101Aeg3lNZTXTUB6DeU1lNdNQHoN5TWU101Aeg3lNZTXTUB6DeU1lNdNQHoN5TWU101Aeg3lNZTXTUB6DeU1lNdNQHoN5TWU101Aeg3lNZTXTUB6DeU1lNdNQHoN5TWU101Aeg3lNZTXTUB6DeU1lNdNQHoN5TWU101Aeg3lNZTXTUB6DeU1lNdNQER5DeU1lFBARHkN5TWUUEBEeQ3lNZRQQER5DeU1lFBARHkN5TWUUEBEeQ3lNZRQQER5DeU1lFBARHkN5TWUUEBEeQ3lNZRQQER5DeU1lFBARHkN5TWUUEBEeQ3lNZRQQER5DeU1lFBARHkN5TWUUEBEeQ3lNZRQQER5DeU1lFBARHkN5TWUUEBEeQ3lNZRQQER5DeU1lFBARHkN5TWUUEBEeQ3lNZRQQER5DeU1lFBARHkN5TWUUEBEeQ3lNZRQQER5DeU1lFBARHkN5TWUUEBEeQ3lNZRQQER5DeU1lFBARHkN5TWUUEBEeQ3lNZRQQER5DeU1lFBARHkN5TWUUEBEeQ3lNZRQQER5DeU1lFBARHkN5TWUUEBEeQ3lNZRQQER5DeU1lFBARHkN5TWUUEBEeQ3lNZRQQER5DeU1lFBARHkN5TWUUEBEeQ3lNZRQQER5DeU1lFBARHkN5TWUUEBEeQ3lNZRQQER5DeU1lFBARHkN5TWUUEBEeQ3lNZRQQER5DeU1lFBARHkN5TWUUEDKayivoTxSQMprKK+hPFJAymsor6E8UkDKayivoTxSQMprKK+hPFJAymsor6E8UkDKayivoTxSQMprKK+hPFJAymsor6E8UkDKayivoTxSQMprKK+hPFJAymsor6E8UkDKayivoTxSQMprKK+hPFJAymsor6E8UkDKayivoTxSQMprKK+hPFJAymsor6E8UkDKayivoTxSQMprKK+hPFJAymsor6E8UkDKayivoTxSQMprKK+hPFJAymsor6E8UkDKayivoTxSQMprKK+hPFJAymsor6E8UkDKayivoTxSQMprKK+hPFJAymsor6E8UkDKayivoTxSQMprKK+hPFJAymsor6E8UkDKayivoTxSQMprKK+hPFJAymsor6E8UkDKayivoTxSQMprKK+hPFJAymsor6E8UkDKayivoTxSQMprKK+hPFJAymsor6E8UkDKayivoTxSQMprKK+hPFJAymsor6E8UkDKayivoTxSQMprKK+hPFJAymsor6E8UkDKayivoTxSQMprKK+hPFJAUV5DeQ3lU0BRXkN5DeVTQFFeQ3kN5VNAUV5DeQ3lU0BRXkN5DeVTQFFeQ3kN5VNAUV5DeQ3lU0BRXkN5DeVTQFFeQ3kN5VNAUV5DeQ3lU0BRXkN5DeVTQFFeQ3kN5VNAUV5DeQ3lU0BRXkN5DeVTQFFeQ3kN5VNAUV5DeQ3lU0BRXkN5DeVTQFFeQ3kN5VNAUV5DeQ3lU0BRXkN5DeVTQFFeQ3kN5VNAUV5DeQ3lU0BRXkN5DeVTQFFeQ3kN5VNAUV5DeQ3lU0BRXkN5DeVTQFFeQ3kN5VNAUV5DeQ3lU0BRXkN5DeVTQFFeQ3kN5VNAUV5DeQ3lU0BRXkN5DeVTQFFeQ3kN5VNAUV5DeQ3lU0BRXkN5DeVTQFFeQ3kN5VNAUV5DeQ3lU0BRXkN5DeVTQFFeQ3kN5VNAUV5DeQ3lU0BRXkN5DeVTQFFeQ3kN5VNAUV5DeQ3lU0BRXkN5DeVTQFFeQ3kN5VNAUV5DeQ3lU0BRXkN5DeVTQFFeQ3kN5VNAUV5DeQ3lU0BRXkN5DeVTQNhQXkN5jVVA2FBeQ3mNVUDYUF5DeY1VQNhQXkN5jVVA2FBeQ3mNVUDYUF5DeY1VQNhQXkN5jVVA2FBeQ3mNVUDYUF5DeY1VQNhQXkN5jVVA2FBeQ3mNVUDYUF5DeY1VQNhQXkN5jVVA2FBeQ3mNVUDYUF5DeY1VQNhQXkN5jVVA2FBeQ3mNVUDYUF5DeY1VQNhQXkN5jVVA2FBeQ3mNVUDYUF5DeY1VQNhQXkN5jVVA2FBeQ3mNVUDYUF5DeY1VQNhQXkN5jVVA2FBeQ3mNVUDYUF5DeY1VQNhQXkN5jVVA2FBeQ3mNVUDYUF5DeY1VQNhQXkN5jVVA2FBeQ3mNVUDYUF5DeY1VQNhQXkN5jVVA2FBeQ3mNVUDYUF5DeY1VQNhQXkN5jVVA2FBeQ3mNVUDYUF5DeY1VQNhQXkN5jVVA2FBeQ3mNVUDYUF5DeY1VQNhQXkN5jVVA2FBeQ3mNVUDYUF5DeY1VQNhQXkN5jVVA2FBeQ3mNVUDYUF5DeY1VQNhQXkN5jVVA2FBeQ3mNVUBeQ3kN5TVXQF5DeQ3lNVdAXkN5DeU1V0BeQ3kN5TVXQF5DeQ3lNVdAXkN5DeU1V0BeQ3kN5TVXQF5DeQ3lNVdAXkN5DeU1V0BeQ3kN5TVXQF5DeQ3lNVdAXkN5DeU1V0BeQ3kN5TVXQF5DeQ3lNVdAXkN5DeU1V0BeQ3kN5TVXQF5DeQ3lNVdAXkN5DeU1V0BeQ3kN5TVXQF5DeQ3lNVdAXkN5DeU1V0BeQ3kN5TVXQF5DeQ3lNVdAXkN5DeU1V0BeQ3kN5TVXQF5DeQ3lNVdAXkN5DeU1V0BeQ3kN5TVXQF5DeQ3lNVdAXkN5DeU1V0BeQ3kN5TVXQF5DeQ3lNVdAXkN5DeU1V0BeQ3kN5TVXQF5DeQ3lNVdAXkN5DeU1V0BeQ3kN5TVXQF5DeQ3lNVdAXkN5DeU1V0BeQ3kN5TVXQF5DeQ3lNVdAXkN5DeU1V0BeQ3kN5TVXQF5DeQ3lNVdAXkN5DeU1V0BeQ3kN5TVXQF5DeQ3lNVdAXkN5DeU1V0BeQ3kN5TVXQF5DeQ3lNVdA5TWU11DeWEDlNZTXUN5YQOU1lNdQ3lhA5TWU11DeWEDlNZTXUN5YQOU1lNdQ3lhA5TWU11DeWEDlNZTXUN5YQOU1lNdQ3lhA5TWU11DeWEDlNZTXUN5YQOU1lNdQ3lhA5TWU11DeWEDlNZTXUN5YQOU1lNdQ3lhA5TWU11DeWEDlNZTXUN5YQOU1lNdQ3lhA5TWU11DeWEDlNZTXUN5YQOU1lNdQ3lhA5TWU11DeWEDlNZTXUN5YQOU1lNdQ3lhA5TWU11DeWEDlNZTXUN5YQOU1lNdQ3lhA5TWU11DeWEDlNZTXUN5YQOU1lNdQ3lhA5TWU11DeWEDlNZTXUN5YQOU1lNdQ3lhA5TWU11DeWEDlNZTXUN5YQOU1lNdQ3lhA5TWU11DeWEDlNZTXUN5YQOU1lNdQ3lhA5TWU11DeWEDlNZTXUN5YQOU1lNdQ3lhA5TWU11DeWEDlNZTXUN5YQOU1lNdQ3lhA5TWU11DeWEDlNZTXUN5YQOU1lNdQ3lhA5TWU11DeWEDlNZTXUN5YQGwor6G8hlpAbCivobyGWkBsKK+hvIZaQGwor6G8hlpAbCivobyGWkBsKK+hvIZaQGwor6G8hlpAbCivobyGWkBsKK+hvIZaQGwor6G8hlpAbCivobyGWkBsKK+hvIZaQGwor6G8hlpAbCivobyGWkBsKK+hvIZaQGwor6G8hlpAbCivobyGWkBsKK+hvIZaQGwor6G8hlpAbCivobyGWkBsKK+hvIZaQGwor6G8hlpAbCivobyGWkBsKK+hvIZaQGwor6G8hlpAbCivobyGWkBsKK+hvIZaQGwor6G8hlpAbCivobyGWkBsKK+hvIZaQGwor6G8hlpAbCivobyGWkBsKK+hvIZaQGwor6G8hlpAbCivobyGWkBsKK+hvIZaQGwor6G8hlpAbCivobyGWkBsKK+hvIZaQGwor6G8hlpAbCivobyGWkBsKK+hvIZaQGwor6G8hlpAbCivobyGWkBsKK+hvIZaQGwor6G8hlpAbCivobyGWkBsKK+hvIZaQGwor6G8hlpAbCivobyGWkDzGsprKC9cQPMaymsoL1xA8xrKaygvXEDzGsprKC9cQPMaymsoL1xA8xrKaygvXEDzGsprKC9cQPMaymsoL1xA8xrKaygvXEDzGsprKC9cQPMaymsoL1xA8xrKaygvXEDzGsprKC9cQPMaymsoL1xA8xrKaygvXEDzGsprKC9cQPMaymsoL1xA8xrKaygvXEDzGsprKC9cQPMaymsoL1xA8xrKaygvXEDzGsprKC9cQPMaymsoL1xA8xrKaygvXEDzGsprKC9cQPMaymsoL1xA8xrKaygvXEDzGsprKC9cQPMaymsoL1xA8xrKaygvXEDzGsprKC9cQPMaymsoL1xA8xrKaygvXEDzGsprKC9cQPMaymsoL1xA8xrKaygvXEDzGsprKC9cQPMaymsoL1xA8xrKaygvXEDzGsprKC9cQPMaymsoL1xA8xrKaygvXEDzGsprKC9cQPMaymsoL1xA8xrKaygvXEDzGsprKC9cQPMaymsoL1xA8xrKaygvXEDzGsprKC9cQPMaymsoL1xAeg3lNZTXXUB6DeU1lNddQHoN5TWU111Aeg3lNZTXXUB6DeU1lNddQHoN5TWU111Aeg3lNZTXXUB6DeU1lNddQHoN5TWU111Aeg3lNZTXXUB6DeU1lNddQHoN5TWU111Aeg3lNZTXXUB6DeU1lNddQHoN5TWU111Aeg3lNZTXXUB6DeU1lNddQHoN5TWU111Aeg3lNZTXXUB6DeU1lNddQHoN5TWU111Aeg3lNZTXXUB6DeU1lNddQHoN5TWU111Aeg3lNZTXXUB6DeU1lNddQHoN5TWU111Aeg3lNZTXXUB6DeU1lNddQHoN5TWU111Aeg3lNZTXXUB6DeU1lNddQHoN5TWU111Aeg3lNZTXXUB6DeU1lNddQHoN5TWU111Aeg3lNZTXXUB6DeU1lNddQHoN5TWU111Aeg3lNZTXXUB6DeU1lNddQHoN5TWU111Aeg3lNZTXXUB6DeU1lNddQHoN5TWU111Aeg3lNZTXXUB6DeU1lNddQHoN5TWU111Aeg3lNZTXXUB6DeU1lNddQAAAAAAAgF9AAAAAAACAX0AAAAAAAIBfQAAAAAAAgF9AAAAAAACAX0AAAAAAAIBfQAAAAAAAgF9AAAAAAACAX0AAAAAAAIBfQAAAAAAAgF9AAAAAAACAX0AAAAAAAIBfQAAAAAAAgF9AAAAAAACAX0AAAAAAAIBfQAAAAAAAgF9AAAAAAACAX0AAAAAAAIBfQAAAAAAAgF9AAAAAAACAX0AAAAAAAIBfQAAAAAAAgF9AAAAAAACAX0AAAAAAAIBfQAAAAAAAgF9AAAAAAACAX0AAAAAAAIBfQAAAAAAAgF9AAAAAAACAX0AAAAAAAIBfQAAAAAAAgF9AAAAAAACAX0AAAAAAAIBfQAAAAAAAgF9AAAAAAACAX0AAAAAAAIBfQAAAAAAAgF9AAAAAAACAX0AAAAAAAIBfQAAAAAAAgF9AAAAAAACAX0AAAAAAAIBfQAAAAAAAgF9AAAAAAACAX0AAAAAAAIBfQAAAAAAAgF9AAAAAAACAX0AAAAAAAIBfQAAAAAAAgF9AAAAAAACAX0A=\",\"shape\":\"20, 50\"},\"z\":{\"dtype\":\"f8\",\"bdata\":\"AAAAAAAA+H8AAAAAAAD4fwAAAAAAAPh\\u002fAAAAAAAA+H8AAAAAAAD4fwAAAAAAAPh\\u002fAAAAAAAA+H8AAAAAAAD4fwAAAAAAAPh\\u002fAAAAAAAA+H+v+Iqv+EpaQCOdkOz0PFFA3wpso2JIQECtXuPAvTRLQDMzMzMzQ1FA0Tx117G1UUAUkp2eQYZSQClcj8L1iFJAKVyPwvWIUkAAAAAAAAD4fwAAAAAAAPh\\u002fAAAAAAAA+H8AAAAAAAD4fwAAAAAAAPh\\u002fAAAAAAAA+H8AAAAAAAD4fwAAAAAAAPh\\u002fAAAAAAAA+H8AAAAAAAD4fwAAAAAAAPh\\u002fAAAAAAAA+H8AAAAAAAD4fwAAAAAAAPh\\u002fAAAAAAAA+H8AAAAAAAD4fwAAAAAAAPh\\u002fAAAAAAAA+H8AAAAAAAD4fwAAAAAAAPh\\u002fAAAAAAAA+H8AAAAAAAD4fwAAAAAAAPh\\u002fAAAAAAAA+H8AAAAAAAD4fwAAAAAAAPh\\u002fAAAAAAAA+H8AAAAAAAD4fwAAAAAAAPh\\u002fAAAAAAAA+H8AAAAAAAD4fwAAAAAAAPh\\u002fAAAAAAAA+H8AAAAAAAD4f3xz9M3R32FAQBrHXkUvYEBE\\u002flmeiVBfQFa+dc0Yk11AUxFLRSyVWkCHZ\\u002fHM5clWQIuVrN+wLVNA1q0JsLFPTkAkuf2ssNtFQM1dEJACvUBA4AU+q81PQUCC16XO1KRGQEyiXX3uR0tAu\\u002ftOGUnOUECJNbcNI8NRQLtN70m6nVNA\\u002f61fz45cUkDspMoYFrVTQHhcOwGwulNAtKmaWsO7U0DMRkykFpxTQOXj\\u002fe1pfFNAAAAAAAAA+H8AAAAAAAD4fwAAAAAAAPh\\u002fAAAAAAAA+H8AAAAAAAD4fwAAAAAAAPh\\u002fAAAAAAAA+H8AAAAAAAD4fwAAAAAAAPh\\u002fAAAAAAAA+H8AAAAAAAD4fwAAAAAAAPh\\u002fAAAAAAAA+H8AAAAAAAD4fwAAAAAAAPh\\u002fAAAAAAAA+H8AAAAAAAD4fwAAAAAAAPh\\u002fAAAAAAAA+H8AAAAAAAD4fwAAAAAAAPh\\u002fAAAAAAAA+H8AAAAAAAD4fwAAAAAAAPh\\u002fAAAAAAAA+H8AAAAAAAD4fwAAAAAAAPh\\u002fAAAAAAAA+H\\u002fXTgCsPoBgQPpCIj+8i11AWQZ9i+LTXEAGDSBaethaQNmwUxUHxFdAxEfJjAC6UkBSnSOOTx1PQKz3nuHdcUtAFYsRD3I6RECRQhTqGhNBQFqR4wrmp0BARrhz9Xx9REBYa2PTh9FIQLDDyQhjvE1A2kDojJ8WUED\\u002fINg6zs5RQJKFsC3S3VBA\\u002fp5b4tSTUkBSDj5iVMxSQJ8QC7bL6VJAhp8I0NqWU0ByBESIERZUQG7ew1CzM1RAeZYUN3dWVECv9M6Ag3hUQHdsiMMgmVRAkQk6DXR5VECoputWx1lUQAAAAAAAAPh\\u002fAAAAAAAA+H8AAAAAAAD4fwAAAAAAAPh\\u002fAAAAAAAA+H8AAAAAAAD4fwAAAAAAAPh\\u002fAAAAAAAA+H8AAAAAAAD4fwAAAAAAAPh\\u002fAAAAAAAA+H8AAAAAAAD4fwAAAAAAAPh\\u002fAAAAAAAA+H8AAAAAAAD4fwAAAAAAAPh\\u002fAAAAAAAA+H8AAAAAAAD4fwAAAAAAAPh\\u002fAAAAAAAA+H8AAAAAAAD4f9IjFfrNKWFAczChA6L+XkDMfiVNTodbQHW5qetqZVpAqNBvXuJtWEBHOqfU7npVQEedrYYC\\u002f1BA0vv1qwnSTEAiSgTuaLxJQDvQJIfDbUNAiJfN9G0ZQUDbzP1XQLJAQMUreXMFHkRAVhGIx6n0RkCPiief7qNKQFeYMhg41ExAh+iBV8T\\u002fT0CAC2U+7NJPQNj9S0noT1FAe73fHtuWUUC6LYnYC91RQOiYloy2lVJAsVVznq48U0ATI+Fhd+BTQMjRvULkT1RAEizLiIFpVEBqdPiJAI1UQD8j\\u002f7eDslRAdYG5AZDUVECp33NLnPZUQN49LpWoGFVAFJzo3rQ6VUBJ+qIowVxVQFHMJ3bRVlVAAAAAAAAA+H8AAAAAAAD4fwAAAAAAAPh\\u002fAAAAAAAA+H8AAAAAAAD4fwAAAAAAAPh\\u002fAAAAAAAA+H8AAAAAAAD4fwAAAAAAAPh\\u002fAAAAAAAA+H8AAAAAAAD4fwAAAAAAAPh\\u002fAAAAAAAA+H8AAAAAAAD4fwAAAAAAAPh\\u002fBEzD7D63YEBg30ER3SlgQI6n+jHA\\u002flxAoLooW+CCWUBKVlEXKPlXQKGuMVH+AlZAtsP6k9YxU0CvwwKOMgNPQHfN19MLBktAl5xp+vMGSECzMBy36C5DQH4I9L98NkFAyxCeVybmQEBYMh7HTTVEQFW3rLvLF0VAblGFNXqLR0BhT+obwqBKQBCPUznsYUxAMcZJ2fHmTkCsKCpVA7tPQFYc0IXuUlBA1EoH+0vQUEApXu1ZMKhRQHvk0R9ZN1JA2wvebILiUkDm4oHdv4xTQHpyCAC3FFRAMCHl4COEVEBiIt5UlKpUQLRTUonxvFRAZAotw03mVEAFsOk4kA5VQDsOpIKcMFVAcGxezKhSVUClyhgWtXRVQNoo01\\u002fBllVAEIeNqc24VUBE5Ufz2dpVQHpDAj3m\\u002fFVAr6G8hvIeVkATjxXfLjRWQAAAAAAAAPh\\u002fAAAAAAAA+H8AAAAAAAD4fwAAAAAAAPh\\u002fAAAAAAAA+H8AAAAAAAD4fwAAAAAAAPh\\u002fAAAAAAAA+H8AAAAAAAD4f3+6TED+MmBA3DXdUNhTXkCpHlRg3v5aQHL2K2lyfldAHvP4QuWMVUDo4r5fPYRTQMBFLnNI11BAGpmfNV7ATEAdn7n7DTpJQE8YJHB7AEdAR5P7\\u002f1YTQ0Bj6RcGAlhBQLGgDTtVMUFA6zjDGpZMREBUXdGv7TpDQBkHsSM5\\u002f0RAxq6HcNsDSUDuL24alxJJQLcm\\u002fUg8BU5A1NfLEYq9TEBg9oDZAx5OQNzPCjsYh09ABzcfPtCtUEB4XDsBsD5RQJwqGt9M3VFABcJIO1aIUkAQmeyrkzJTQCwTU72J2VNA4MEvnvZIVECVcAx\\u002fY7hUQLIY8SCn61RABEplVQT+VECSIuv66RVVQGCgYfyaP1VALh7Y\\u002fUtpVUAAm44DqYxVQDX5SE21rlVAalcDl8HQVUCgtb3gzfJVQNUTeCraFFZACnIydOY2VkBA0Oy98lhWQHUupwf\\u002felZAqoxhUQudVkDf6hubF79WQBVJ1uQj4VZASaeQLjADV0AAAAAAAAD4fwAAAAAAAPh\\u002fB8kRTaPTX0A6HswGQodfQMhj12rR51xA6iReJSPhWUAgJeXPc19WQOEp1ZY\\u002fU1RAAOBLXB1rUkCvhXbfUHxPQC6xeVi8tEtAyjM4xcZfSEAUc6QDLFBGQNA\\u002f56cuD0NASMo7TId5QUDI8aWy6WJBQErriw9XFERArNc4cC+VQkCkxqoZdHpEQCsOJcX0ZkdA+URDVHm7R0AFd66er\\u002ftNQMUaIWFqL0tAXL1nn5CwTEBqedhPYSVOQJsXDJHp+U9AZzNWQuyBUEAf2YV+zBlRQFo15+lK71FAZgyLWoiZUkBw4y7LxUNTQDqdO3xjwVNA8EsYXdAwVECUQPPUXZdUQBZE9h7DrFRAZ3VqUyC\\u002fVECVh0tHitxUQGQFwkg7BlVAA2YPmD0wVUAx2VcnVVZVQGY3EnFheFVAnJXMum2aVUDR84YEerxVQAZSQU6G3lVAPLD7l5IAVkBxDrbhniJWQKZscCurRFZA28oqdbdmVkAQKeW+w4hWQEaHnwjQqlZAe+VZUtzMVkDzIZN9dfJWQBtX1VpvTl9AtimB9pi4XkC066yQqLRbQHUTrBBjGllAqhMzu7OYVUCb6rGXh49TQGpCggY94FFA7dzxCggCT0C6bKZvyyBLQGm+bo+790dA2c0kl9yfRUAI6yOIwAtDQC6rX5IMm0FADBihnY6NQUCoxGenhtBDQLNR9PG2dUJAxpXUpxYjRECQbcIZDspFQFaB808RDkdAUsdf9CLyTUA9qmyGlC5KQNRMs8S6r0tAfGEKF1oKTUBb272rOLJOQBysx+nSr09AxnsTsclvUEDGHHZBi39RQNDzGbLIKVJA2sq9IgbUUkDMNIQzSUdTQILjYBS2tlNAoskdFxoVVEDGFhGGWjFUQBdIhbq3Q1RARVpmriFhVEAU2Nyv0opUQAbgbnfKtlRAWagQZdnfVECOBsuu5QFVQMRkhfjxI1VA+sI\\u002fQv5FVUAuIfqLCmhVQGR\\u002ftNUWilVAmt1uHyOsVUDOOylpL85VQASa47I78FVAOPid\\u002fEcSVkBuVlhGVDRWQKO0EpBgVlZA2ySZLuSAVkAu5ZhoO8leQDI1Nubv6V1AoHOCtn+BWkDKgLutWedXQDQCgabz0VRAVauOmM\\u002fLUkBmNQiGwXxRQASI8QInjU5AUy6k0wJ9SkAHSaVZsI9HQH+GqzLnY0VAHilkfGsOQ0ASjIPYkbxBQFA+nIgzuEFABJ5DP7aMQ0B7CWaJnFhCQD2KkcmXwUNAdJ6H27QIRUCyvaNLqWBGQKAXEUqW6E1Acv3eEVwuSUBL3P7p5K5KQI5JPN5S70tAGDol40pjTUBq8eJOzVtOQNw8QseNi09Ae4aVyYMUUUA726gJCbpRQEWyTHpGZFJAXszM6i7NUkATe6nLmzxTQLJSSFnWklNAdukr7fG1U0DHGqAhT8hTQPUsgRW55VNAxKr3FmoPVEAJWs5WVz1UQL0\\u002f5lubaFRAttWD7GmLVEDsMz42dq1UQCCS+H+Cz1RAVvCyyY7xVECMTm0TmxNVQMGsJ12nNVVA9griprNXVUAraZzwv3lVQGDHVjrMm1VAlSURhNi9VUAzRnCSjuRVQMInn99SD1ZAQnNcdgdEXkCtQOvVRhtdQPMnJcwmoFlAtgiR0zC0VkC98M6RMwtUQBBsa5kXCFJAYSiOBUYZUUAdM\\u002fH6RRhOQFWPSPEtzUlApdPbI6UnR0CsNqyJoGFFQDRnpHAWEUNA+GynHhfeQUCUZJdz2OJBQGB3H9flSENARMHXIII7QkC1fk7rGGBDQFKmmGkLhERAEPpTR0GzRUDqoA7qoM5NQCS4w6xhQkhAw2tKDw+uSUCgMW6lS9RKQNiYjBpdFExAKZKsyUcKTUBWJM+cWnpOQIKye3qPrlBApcI3YUlKUUCwmdvRhvRRQPBjFaIUU1JApBLygoHCUkDB23KbkhBTQCW8RlSJOlNAd+26iOZMU0Cl\\u002f5t8UGpTQHN9En4BlFNAC9QtNuTDU0Blc4RE5+9TQN6kPCruFFRAEwP3c\\u002fo2VEBJYbG9BllUQH6\\u002fawcTe1RAtB0mUR+dVEDoe+CaK79UQB7amuQ34VRAUjhVLkQDVUCIlg94UCVVQIpnR\\u002fY4SFVAGkl2Q\\u002f1yVUCpKqWQwZ1VQFQBIITTvl1AKUygxZ1MXEBuM9q7fdFYQKOQZvkHgVVAsDIASiiDU0Aenzf9tqlRQFwbFIXKtVBANt7w8mSjTUBY8OwOWR1JQEJeEu6Zv0ZA2uas4FlfRUBKpeRkwRNDQN1Ny2Sc\\u002f0FA2IqSXn0NQkC8UPtuFQVDQAt5SbhnHkJALHMLDZr+QkAwrqn3Yf9DQGw2BEPZBUVAKKvljRH8TEDVcqhHZ1ZHQHgGHCRHlEhAshmgbES5SUCX9\\u002fNRb8VKQOjwEwFau0tAZHyb\\u002fnGuTUCK3mErm0hQQA6qxriJ2lBAYtMddHp8UUCA+11Z+thRQDaqOjpnSFJAz2Sd3U6OUkDVjmG7IL9SQCbA1e990VJAVNK24+fuUkAiUC3lmBhTQA1OjRVxSlNADKciLTN3U0AFdPVncp5TQDvSr7F+wFNAcDBq+4riU0CkjiRFlwRUQNrs3o6jJlRAEEuZ2K9IVEBEqVMivGpUQHoHDmzIjFRAr2XItdSuVEBxak2np9ZUQP9LfPRrAVVAjy2rQTAsVUBmj+ORnzldQKZXVbX0fVtA6z6Pq9QCWEArNzjbL7NUQC1VQLWjNFNArg4bLIJvUUBYDpoET1JQQE6J8OqDLk1A7XQrcwutSEBjqYilInZGQAeXrTcTXUVAdVtPM5UpQ0C6YtB6pjBCQBuxjUkiOEJAGSrXBkXBQkD6K6b0FypCQJxWOthf4kJAGvLP8kzEQ0CUi8rzgatEQGW1vDGCKUxAk1N2bg\\u002fPRkBv3GW5eOBHQGbn9vBE7EhAocfOsF\\u002fsSUDxwO5fSuJKQHLUZ2CJ4kxAIRWQuE3FT0B6kVUQympQQPJqZitgAlFAEpOmEOBeUUBv2rwsvchRQN7txx8LDFJARc2DNeNCUkDWkvBWFVZSQASl0Up\\u002fc1JA0iJITDCdUkAQyOz0\\u002fdBSQNSYvmnH\\u002fVJAmmjSYXMmU0BjoWjvAkpTQJf\\u002fIjkPbFNAzF3dghuOU0ACvJfMJ7BTQDcaUhY00lNAbHgMYED0U0Ch1sapTBZUQMmLJAtSOlRAWW1TWBZlVEDnToKl2o9UQHYwsfKeulRAeh2nn2u0XEAhYwqlS69aQGZKRJsrNFdA+QMFqPxjVECsd4AgH+ZSQD9+\\u002flpNNVFAqAJACKfdT0BnNPDiorlMQPilqu8mjEhAO6fU7gpyRkA0R66OzFpFQLcnbxJcV0NAjviulBZ1QkBf14g0x2JCQHYDs550fUJA2Jgof8VoQkDCpDd3uxxDQA7BUHYx5UNAuH\\u002fshv+4RECiv5PV8lZLQN+jJ8SCxUZAwptNULGtR0A1O6uQHbhIQEbl+cClpklAlt4ZcJCcSkCALDTCoBZMQDBtXBpl+U5AyPHIzxT2T0CEAq\\u002fiRYhQQKQq78fF5FBAfWPnbnlGUUDtdvJhx4lRQFNWrnefwFFAhmULvqzaUUC0d+yxFvhRQNAkeJJtI1JAEkJM1IpXUkDXEh5JVIRSQEKccEq\\u002frVJAinAhLYfTUkC\\u002fztt2k\\u002fVSQPUslsCfF1NAKotQCqw5U0Bf6QpUuFtTQJRHxZ3EfVNAyqV\\u002f59CfU0Cwjiq8wMhTQD9wWQmF81NAzlGIVkkeVEBdM7ejDUlUQI2raq03L1xAnG6\\u002flKLgWUDiVfmKgmVWQMXQ0XTJFFRAKZrAi5qXUkDO7eGJGPtQQJ7oSwewFk9Af9\\u002fv2sFETEAE1ylsQmtIQBOlIDjzbUZAY\\u002feu5YVYRUD6847xIoVDQGKOja6GuUJAov2DH2yNQkBJPAVsKT5CQLYFqwlzp0JADIqrPFxKQ0ADkNH5FQZEQN1zDhp9xkRA38lqeWOESkAu9NgZ9rtGQLp3sauSe0dAiPqSJ1aFSEDqAiXR62BJQDr8RIDWVkpAj4QAJLhKS0A+xSh8fC1OQJzA5n6VFk9AFpr3mSsOUEA2wjd\\u002fq2pQQI3sEbE1xFBA\\u002fP8cpIMHUUBj39i5Wz5RQDY4JiVEX1FAZEoHGa58UUDTntdx+qlRQBS8q7MX3lFA2ox9KOEKUkDqzw4zCzVSQNBdIH\\u002f\\u002fXFJA552UtBd\\u002fUkAc\\u002fE7+I6FSQFFaCUgww1JAh7jDkTzlUkC8Fn7bSAdTQAiwASBrLFNAl5EwbS9XU0Amc1+684FTQLZUjge4rFNARDa9VHzXU0CgOS67A6pbQBh6dIT5EVlAX2GuetmWVUCSnZ5BlsVTQKe8APcVSVJAXl3FuOPAUECWzlcGuU9OQJiK79Lgz0tADwip6F1KSEDromyB22lGQJCnrzw\\u002fVkVAPsCu0OmyQ0DeDMo6nftCQOcjfwoRuEJAWNXxF72IQkCTci2UIOZCQIEvI0N4dkNA+F5SffomREACaDCt+tNEQB3UQR3UsUlAe0SKb2myRkBAvd5vj11HQNy5er6OUkhAjiBQ4TEbSUDU3PkJHw5KQAB\\u002fMvOjkkpATR313ZNhTUByjwQuFjdOQFBjgKIiKE9Aj7MAbSLhT0CcdTzz8UFQQAuJR+Y\\u002fhVBAcWgD\\u002fBe8UEDmCkGM2+NQQBQdIoBFAVFA1Bg3UYcwUUAXNguTpGRRQNwG3QdukVFAkgOtG1e8UUB4kb5nS+RRQA9tTfKbCFJARMsHPKgqUkB5KcKFtExSQK6HfM\\u002fAblJA5OU2Gc2QUkDwsgfR2bpSQH6UNh6e5VJADXZla2IQU0CcV5S4JjtTQCw5wwXrZVNAs8fxyM8kW0CUhSl0UENYQLZt27ZtG1VAYGprDmN2U0Al30BikfpRQO7MqOeuhlBAjLRjBcKITUCwNe\\u002fK\\u002f1pLQBs5KGV5KUhAxKC4ysNlRkC+V7CT+FNFQICMzq+w4ENAvrYy3uk6Q0ArSnr1teJCQGlu3sNQ00JAct+vHs4kQ0D31JpJlKJDQOwt0wDfR0RAJlxSQHjhREBa3hjBRN9IQIhxij+NokZAxgIMNIw\\u002fR0AweWJVxx9IQDI+e\\u002fF31UhALARP0M+2SUBYpoe5VDtKQFp1wT+rlUxASF4i3ZZXTUBykhER7jNOQLHikdvt7E5AVf3Nalx\\u002fT0AaEnIo\\u002fAJQQIDxLT7UOVBAlt1b83JoUEDE7zzn3IVQQNeSljAUt1BAGbBqcjHrUEDegDzn+hdRQDo3SwSjQ1FAH8VcUJdrUUA3PAYwIJJRQGyawHkstFFAofh6wzjWUUDWVjUNRfhRQEfU3jSEHlJA1rUNgkhJUkBmlzzPDHRSQPR4axzRnlJAg1qaaZXJUkASPMm2WfRSQMZVtdabn1pAblJFLpF6V0CDOqiDOsxUQCw3ONsvJ1NAowGBzQysUUAxNSe1bz9QQISabwTLwUxAyODuwh7mSkAk\\u002f2lRwg9IQJyeBBSsYUZA6wex6rFRRUDCWO6Odw5EQJ9gm4E2ekNAnB1NcLMbQ0B4B8tv5B1DQFj94JYMY0NAbHoSULDOQ0CBPMmY92dEQEtQdNP17kRAmOjvZLUMSEAPt7cDioRGQExIOfiIIUdAhDhK7P\\u002fsR0DXW6YBvo9IQIMrpJaAX0lAr83cfwXkSUBpzY2hwslLQBwtQIwXeExAlsGif7k\\u002fTUB2jSCb1vJNQHMPI+\\u002fUek5AUjY51XABT0Ae9bAAIW9PQIxg7bQU2k9AdMJXTnQKUEDaDPYPoT1QQBwqylG+cVBA4fqbxoeeUEC20biMdMpQQMf4+jjj8lBArYYMhdcaUUCTaXm3sD1RQMjHMwG9X1FAn\\u002fW1mC6CUUAu1+Tl8qxRQL24EzO311FATJpCgHsCUkDbe3HNPy1SQGpdoBoEWFJA+T7PZ8iCUkDZ43jkZxpaQIHgCDxd9VZAUAd1UAd9VEDRHEzogNhSQDKyR8TWUFFAY93kNx\\u002fCT0BoWx6oIURMQOCL7ro9cUpAZL33DO\\u002f+R0B0nFBdlF1GQBm4sUFrT0VAiHzS\\u002fdE8REB\\u002fCgQlg7lDQLkA4ax1ZkNAiKC3G3hoQ0CMuUPLIqFDQOAfilbM+kNAbeGTsQ2BREBvRJZmc\\u002fxEQNXyxggmOkdAlPzkx4ZmRkDSjWa8hQNHQNj3MYM4ukdAennREQRKSEDbUvlcMQhJQAf1MUa2jElAdyVaA9r9SkDx+107mJhLQLjwM+6ES0xAlJ91H0\\u002fuTECQIXhzTXZNQG9Ijlnp\\u002fE1APAcGhZlqTkAJxn2wSdhOQDTTAlshIE9AuA2r3luIT0A8SFNilvBPQON0+6UUJVBAuEsYbAFRUEBvLJkhL3pQQFW6qm0jolBAujgy9TTHUEDwluw+QelQQIb4u0mdEFFAFdrqlmE7UUCkuxnkJWZRQDKdSDHqkFFAwn53fq67UUBRYKbLcuZRQOBB1Rg3EVJA7HE88jOVWUCUbsxJKXBWQBzUQR3ULVRATz+MU\\u002fyJUkCy6xKrdvJQQGRQewVfBU9AmTR2z3b6S0DuXD1fRwVKQKN7hcgb7kdATJqcpnxZRkBGaLKYJE1FQOYZJxeVa0RAYLRsyM\\u002f4Q0DW43TpN7FDQJc5pMcLs0NAv3Wm\\u002fzjfQ0BVxQFd6CZEQFiGXsojmkRAlDi4+fAJRUAS\\u002fZ2slmdGQBpCEoyDSEZAWNOTgILlRkAqtxkacYdHQDfwEPR2C0hAM3pOI+KwSEBgHIcMZzVJQIZ9JmXxMUpAxcp76hi5SkDaH8VcUFdLQLKxyqPH6UtArjPN98VxTECNWuPdYfhMQFoZWwkSZk1AJtjSNMLTTUA5x8EZOy1OQL4Bap11lU5AQTwSIbD9TkDL3bUKQ1dPQHWL75Ycr09AF2A3CnsBUED97UhWbylQQOIH6zK5UFBA3hmTrUd0UEBt+8H6C59QQPzc8EfQyVBAi74flZT0UEAaoE7iWB9RQKmBfS8dSlFAN2OsfOF0UUDHRNvJpZ9RQAAAAAAAEFlAqPyPV\\u002fXqVUDqoA7qoN5TQM1hzL53O1JAMiXekRaUUEBmwxHTnkhOQMwNzvbLsEtAIDaVhpy7SUDiOROESN1HQCSY6O9kVUZAdBiz791KRUB4OQUvp6BEQEBe1WscOERA8sYIJvr7Q0Cm0pBzn\\u002f1DQPIxCTRPHURAymp5YwRTREBDKynjObNEQLWu3OBsH0VAUAd1UAeVRUCghz9QgCpGQN4YwUR\\u002fx0ZAfXYBsalUR0CKr\\u002fiKr9hHQIqho+mSWUhAtkPc0hfeSECU1fLGCGZJQKIO6qAO6klA\\u002fk5WyxtjSkDQwx8oQOVKQMxFInw+bUtAq2w4YtrzS0B4K7CNimFMQEXqJ7k6z0xAP7uA2FQ6TUDD9Shcj6JNQEcw0d\\u002fJCk5A0dF0yVxkTkB6f65VNrxOQH8nq+WNEU9ASkPOfXZhT0AVX\\u002fEVX7FPQMUcmV62AlBAVP7Hq3otUEDj3\\u002fb4PlhQQHLBJUYDg1BAAaNUk8etUECQhIPgi9hQQB9msi1QA1FArkfhehQuUUA=\",\"shape\":\"20, 50\"},\"type\":\"surface\",\"scene\":\"scene\"},{\"hovertemplate\":\"Expiry: 2025-08-22 10:00:00\\u003cbr\\u003eStrike: %{x:.0f}\\u003cbr\\u003eIV: %{y:.1f}%\\u003cextra\\u003e\\u003c\\u002fextra\\u003e\",\"line\":{\"color\":\"#636EFA\",\"width\":2},\"marker\":{\"color\":\"#636EFA\",\"size\":6},\"mode\":\"markers+lines\",\"name\":\"2025-08-22\",\"x\":{\"dtype\":\"f8\",\"bdata\":\"AAAAAAD59UAAAAAAgDH3QAAAAAAAavhAAAAAAADn+EAAAAAAAGT5QAAAAACAovlAAAAAAADh+UAAAAAAAF76QAAAAACAnPpAAAAAAADb+kAAAAAAgBn7QAAAAAAAWPtAAAAAAICW+0AAAAAAANX7QAAAAACAE\\u002fxAAAAAAABS\\u002fEAAAAAAgJD8QAAAAAAAz\\u002fxAAAAAAIAN\\u002fUAAAAAAAEz9QAAAAACAiv1AAAAAAADJ\\u002fUAAAAAAgAf+QAAAAAAARv5AAAAAAICE\\u002fkAAAAAAAMP+QAAAAACAAf9AAAAAAABA\\u002f0AAAAAAgH7\\u002fQAAAAAAAvf9AAAAAAAAdAEEAAAAAwHoAQQAAAAAAFwFBAAAAAECzAUEAAAAAgE8CQQAAAADA6wJBAAAAAACIA0EAAAAAQCQEQQ==\"},\"y\":{\"dtype\":\"f8\",\"bdata\":\"SOF6FK6HXkBmZmZmZsZbQB+F61G43lhA7FG4HoXLVUC4HoXrUThTQIXrUbgexVFAuB6F61EIUEBlZmZmZmZLQKRwPQrXI0lAMzMzMzNzRkAAAAAAACBEQArXo3A9KkJAH4XrUbheQECkcD0K1+M9QHE9Ctej8D1AAAAAAACAP0AfhetRuL5BQGZmZmZmxkNAhetRuB4FR0AUrkfhenRJQJqZmZmZmUtAW4\\u002fC9SgcTUBmZmZmZuZOQGZmZmZmtlBAMzMzMzNDUUAzMzMzM0NRQDMzMzMzQ1FAMzMzMzNDUUAzMzMzM0NRQDMzMzMzQ1FAMzMzMzNDUUAfhetRuG5RQArXo3A9elJAKVyPwvWIUkApXI\\u002fC9YhSQClcj8L1iFJAKVyPwvWIUkApXI\\u002fC9YhSQA==\"},\"type\":\"scatter\",\"xaxis\":\"x\",\"yaxis\":\"y\"},{\"hovertemplate\":\"Expiry: 2025-08-23 10:00:00\\u003cbr\\u003eStrike: %{x:.0f}\\u003cbr\\u003eIV: %{y:.1f}%\\u003cextra\\u003e\\u003c\\u002fextra\\u003e\",\"line\":{\"color\":\"#EF553B\",\"width\":2},\"marker\":{\"color\":\"#EF553B\",\"size\":6},\"mode\":\"markers+lines\",\"name\":\"2025-08-23\",\"x\":{\"dtype\":\"f8\",\"bdata\":\"AAAAAADh+UAAAAAAAF76QAAAAACAnPpAAAAAAADb+kAAAAAAgBn7QAAAAAAAWPtAAAAAAICW+0AAAAAAANX7QAAAAACAE\\u002fxAAAAAAABS\\u002fEAAAAAAgJD8QAAAAAAAz\\u002fxAAAAAAIAN\\u002fUAAAAAAAEz9QAAAAAAAyf1AAAAAAABG\\u002fkA=\"},\"y\":{\"dtype\":\"f8\",\"bdata\":\"UrgehesRTEB8FK5H4TpJQI\\u002fC9Shcj0dA16NwPQoXRkD2KFyPwpVEQIXrUbgeJUNAzczMzMxMQkAK16NwPWpBQBSuR+F6VEFA4XoUrkdhQUDsUbgehQtCQNejcD0KF0NAAAAAAADgRECPwvUoXG9FQK5H4XoULkdA9ihcj8J1S0A=\"},\"type\":\"scatter\",\"xaxis\":\"x\",\"yaxis\":\"y\"},{\"hovertemplate\":\"Expiry: 2025-08-24 10:00:00\\u003cbr\\u003eStrike: %{x:.0f}\\u003cbr\\u003eIV: %{y:.1f}%\\u003cextra\\u003e\\u003c\\u002fextra\\u003e\",\"line\":{\"color\":\"#00CC96\",\"width\":2},\"marker\":{\"color\":\"#00CC96\",\"size\":6},\"mode\":\"markers+lines\",\"name\":\"2025-08-24\",\"x\":{\"dtype\":\"f8\",\"bdata\":\"AAAAAABk+UAAAAAAAOH5QAAAAAAAXvpAAAAAAICc+kAAAAAAANv6QAAAAACAGftAAAAAAABY+0AAAAAAgJb7QAAAAAAA1ftAAAAAAIAT\\u002fEAAAAAAAFL8QAAAAACAkPxAAAAAAADP\\u002fEAAAAAAAEz9QAAAAAAAyf1A\"},\"y\":{\"dtype\":\"f8\",\"bdata\":\"kML1KFzPSkD2KFyPwhVIQPYoXI\\u002fCVUVASOF6FK4HREDXo3A9CtdCQArXo3A9ykFA9ihcj8LVQEDsUbgehStAQDMzMzMzMz9A9Shcj8L1PkDgehSuR+E+QOxRuB6F6z5ArUfhehTuP0AzMzMzM1NCQLgehetRmENA\"},\"type\":\"scatter\",\"xaxis\":\"x\",\"yaxis\":\"y\"},{\"hovertemplate\":\"Expiry: 2025-08-25 10:00:00\\u003cbr\\u003eStrike: %{x:.0f}\\u003cbr\\u003eIV: %{y:.1f}%\\u003cextra\\u003e\\u003c\\u002fextra\\u003e\",\"line\":{\"color\":\"#AB63FA\",\"width\":2},\"marker\":{\"color\":\"#AB63FA\",\"size\":6},\"mode\":\"markers+lines\",\"name\":\"2025-08-25\",\"x\":{\"dtype\":\"f8\",\"bdata\":\"AAAAAADh+UAAAAAAAF76QAAAAACAnPpAAAAAAADb+kAAAAAAgBn7QAAAAAAAWPtAAAAAAICW+0AAAAAAANX7QAAAAACAE\\u002fxAAAAAAABS\\u002fEAAAAAAgJD8QAAAAAAAz\\u002fxAAAAAAABM\\u002fUAAAAAAAMn9QA==\"},\"y\":{\"dtype\":\"f8\",\"bdata\":\"uB6F61F4RkCuR+F6FA5EQHsUrkfh+kJAzczMzMzsQUApXI\\u002fC9ehAQK5H4XoUDkBAj8L1KFzPPkB7FK5H4bo9QPcoXI\\u002fCdT1A9yhcj8J1PUBxPQrXo\\u002fA9QD4K16Nw\\u002fT5AH4XrUbjeQEBxPQrXo3BCQA==\"},\"type\":\"scatter\",\"xaxis\":\"x\",\"yaxis\":\"y\"},{\"hovertemplate\":\"Expiry: 2025-08-29 10:00:00\\u003cbr\\u003eStrike: %{x:.0f}\\u003cbr\\u003eIV: %{y:.1f}%\\u003cextra\\u003e\\u003c\\u002fextra\\u003e\",\"line\":{\"color\":\"#FFA15A\",\"width\":2},\"marker\":{\"color\":\"#FFA15A\",\"size\":6},\"mode\":\"markers+lines\",\"name\":\"2025-08-29\",\"x\":{\"dtype\":\"f8\",\"bdata\":\"AAAAAACI40AAAAAAAGroQAAAAAAATO1AAAAAAAAX8UAAAAAAAIjzQAAAAACAwPRAAAAAAAD59UAAAAAAAHb2QAAAAAAA8\\u002fZAAAAAAIAx90AAAAAAAHD3QAAAAAAA7fdAAAAAAABq+EAAAAAAAOf4QAAAAAAAZPlAAAAAAICi+UAAAAAAAOH5QAAAAAAAXvpAAAAAAADb+kAAAAAAgBn7QAAAAAAAWPtAAAAAAICW+0AAAAAAANX7QAAAAACAE\\u002fxAAAAAAABS\\u002fEAAAAAAgJD8QAAAAAAAz\\u002fxAAAAAAIAN\\u002fUAAAAAAAEz9QAAAAACAiv1AAAAAAADJ\\u002fUAAAAAAgAf+QAAAAAAARv5AAAAAAICE\\u002fkAAAAAAAMP+QAAAAACAAf9AAAAAAABA\\u002f0AAAAAAgH7\\u002fQAAAAAAAvf9AAAAAAAAdAEEAAAAAgFsAQQAAAADAegBBAAAAAACaAEEAAAAAABcBQQAAAABAswFBAAAAAIBPAkEAAAAAAIgDQQAAAACAwARBAAAAAAD5BUEAAAAAgDEHQQ==\"},\"y\":{\"dtype\":\"f8\",\"bdata\":\"CtejcD0qYkAoXI\\u002fC9fhfQJqZmZmZGV9AFK5H4XoUXEDNzMzMzAxXQDMzMzMz41RA4XoUrkdxUkAzMzMzM3NRQOxRuB6FW1BAPArXo3C9T0BSuB6F67FOQPYoXI\\u002fClUxAtx6F61GYSkDsUbgehatIQGZmZmZm5kZAAAAAAAAARkDD9ShcjyJFQB+F61G4nkNAZmZmZmZGQkBSuB6F69FBQClcj8L1SEFAKVyPwvXoQEBI4XoUrodAQArXo3A9SkBAKVyPwvVIQEAK16NwPUpAQI\\u002fC9ShcT0BAuB6F61F4QEDhehSuR+FAQClcj8L1aEFAw\\u002fUoXI8CQkAAAAAAAGBCQOF6FK5H4UJAUrgeheuRQ0ApXI\\u002fC9UhEQArXo3A9CkVAexSuR+F6RUBmZmZmZmZGQNejcD0Kd0dAMzMzMzOzSEAUrkfhetRJQFuPwvUoPEpAw\\u002fUoXI+CSkDhehSuRwFOQM3MzMzM\\u002fFBA4XoUrkcxUkD2KFyPwsVTQPYoXI\\u002fCxVNA9ihcj8LFU0CF61G4HtVTQA==\"},\"type\":\"scatter\",\"xaxis\":\"x\",\"yaxis\":\"y\"},{\"hovertemplate\":\"Expiry: 2025-09-05 10:00:00\\u003cbr\\u003eStrike: %{x:.0f}\\u003cbr\\u003eIV: %{y:.1f}%\\u003cextra\\u003e\\u003c\\u002fextra\\u003e\",\"line\":{\"color\":\"#19D3F3\",\"width\":2},\"marker\":{\"color\":\"#19D3F3\",\"size\":6},\"mode\":\"markers+lines\",\"name\":\"2025-09-05\",\"x\":{\"dtype\":\"f8\",\"bdata\":\"AAAAAACI80AAAAAAgMD0QAAAAAAA+fVAAAAAAIAx90AAAAAAAGr4QAAAAACAovlAAAAAAABe+kAAAAAAANv6QAAAAACAGftAAAAAAABY+0AAAAAAgJb7QAAAAAAA1ftAAAAAAIAT\\u002fEAAAAAAAFL8QAAAAACAkPxAAAAAAADP\\u002fEAAAAAAgA39QAAAAAAATP1AAAAAAICK\\u002fUAAAAAAAMn9QAAAAACAB\\u002f5AAAAAAABG\\u002fkAAAAAAgIT+QAAAAAAAw\\u002f5AAAAAAABA\\u002f0AAAAAAAL3\\u002fQAAAAADAegBBAAAAAAAXAUE=\"},\"y\":{\"dtype\":\"f8\",\"bdata\":\"zczMzMw8U0BxPQrXowBRQKVwPQrXQ05Aw\\u002fUoXI9iSkBSuB6F6\\u002fFGQAAAAAAAIERA9ihcj8LVQkAK16NwPepBQI\\u002fC9Shcr0FASOF6FK5nQUAfhetRuB5BQDMzMzMzs0BAhetRuB6lQEBxPQrXo5BAQDMzMzMzk0BAXI\\u002fC9SicQEDD9Shcj4JAQIXrUbgehUBApHA9CtejQECF61G4HqVAQIXrUbgexUBAcT0K16MQQUCkcD0K12NBQOF6FK5HwUFAFK5H4Xp0QkDhehSuR0FDQI\\u002fC9Shcb0VA7FG4HoWLR0A=\"},\"type\":\"scatter\",\"xaxis\":\"x\",\"yaxis\":\"y\"},{\"hovertemplate\":\"Expiry: 2025-09-12 10:00:00\\u003cbr\\u003eStrike: %{x:.0f}\\u003cbr\\u003eIV: %{y:.1f}%\\u003cextra\\u003e\\u003c\\u002fextra\\u003e\",\"line\":{\"color\":\"#FF6692\",\"width\":2},\"marker\":{\"color\":\"#FF6692\",\"size\":6},\"mode\":\"markers+lines\",\"name\":\"2025-09-12\",\"x\":{\"dtype\":\"f8\",\"bdata\":\"AAAAAABq+EAAAAAAgKL5QAAAAAAA4flAAAAAAABe+kAAAAAAANv6QAAAAACAGftAAAAAAABY+0AAAAAAgJb7QAAAAAAA1ftAAAAAAIAT\\u002fEAAAAAAAFL8QAAAAACAkPxAAAAAAADP\\u002fEAAAAAAAEz9QAAAAAAAyf1AAAAAAICE\\u002fkAAAAAAAL3\\u002fQA==\"},\"y\":{\"dtype\":\"f8\",\"bdata\":\"16NwPQqXRUDsUbgehWtDQPYoXI\\u002fCFUNApHA9CtdjQkDD9Shcj+JBQMP1KFyPokFAexSuR+FaQUBcj8L1KBxBQClcj8L16EBAXI\\u002fC9Si8QEDNzMzMzKxAQI\\u002fC9Shcr0BArkfhehSuQEBxPQrXo7BAQB+F61G4vkBA16NwPQo3QUCF61G4HoVCQA==\"},\"type\":\"scatter\",\"xaxis\":\"x\",\"yaxis\":\"y\"},{\"hovertemplate\":\"Expiry: 2025-09-26 10:00:00\\u003cbr\\u003eStrike: %{x:.0f}\\u003cbr\\u003eIV: %{y:.1f}%\\u003cextra\\u003e\\u003c\\u002fextra\\u003e\",\"line\":{\"color\":\"#B6E880\",\"width\":2},\"marker\":{\"color\":\"#B6E880\",\"size\":6},\"mode\":\"markers+lines\",\"name\":\"2025-09-26\",\"x\":{\"dtype\":\"f8\",\"bdata\":\"AAAAAACI00AAAAAAAEzdQAAAAAAAiONAAAAAAABq6EAAAAAAANvqQAAAAAAATO1AAAAAAAC970AAAAAAABfxQAAAAACAT\\u002fJAAAAAAACI80AAAAAAgMD0QAAAAAAA+fVAAAAAAIAx90AAAAAAAO33QAAAAAAAavhAAAAAAICi+UAAAAAAAF76QAAAAAAA2\\u002fpAAAAAAABY+0AAAAAAANX7QAAAAACAE\\u002fxAAAAAAABS\\u002fEAAAAAAAM\\u002f8QAAAAAAATP1AAAAAAADJ\\u002fUAAAAAAAEb+QAAAAACAhP5AAAAAAADD\\u002fkAAAAAAAED\\u002fQAAAAAAAvf9AAAAAAAAdAEEAAAAAgFsAQQAAAADAegBBAAAAAACaAEEAAAAAgNgAQQAAAAAAFwFBAAAAAECzAUEAAAAAgE8CQQAAAAAAiANBAAAAAIDABEEAAAAAAPkFQQAAAACAMQdBAAAAAABqCEEAAAAAgKIJQQAAAAAA2wpBAAAAAABMDUEAAAAAAL0PQQAAAAAAFxFBAAAAAIBPEkEAAAAAAGoYQQ==\"},\"y\":{\"dtype\":\"f8\",\"bdata\":\"UrgehesZYEB7FK5H4QpgQDMzMzMz41tAFK5H4Xp0V0BmZmZmZuZUQB+F61G43lRAMzMzMzNjU0DsUbgehYtRQBSuR+F61E9A4XoUrkcBTUC3HoXrUdhKQDMzMzMzk0hAcT0K16NwRkAfhetRuF5FQAAAAAAAoERAFK5H4XoUQ0BSuB6F61FCQKRwPQrX40FA7FG4HoVrQUAUrkfhehRBQM3MzMzM7EBAXI\\u002fC9SjcQECuR+F6FK5AQI\\u002fC9Shcr0BAj8L1KFyvQEBSuB6F67FAQLgehetRuEBA16NwPQrXQEDsUbgehQtBQEjhehSuR0FAzczMzMzMQUDD9ShcjyJCQIXrUbgeRUJAhetRuB6lQkCPwvUoXA9DQDMzMzMzc0NASOF6FK7nREAAAAAAAEBGQGZmZmZmRkhA61G4HoXrSkBbj8L1KNxMQM3MzMzMzE5AFK5H4XqUUEAfhetRuD5RQFyPwvUoHFJAMzMzMzPTU0DD9Shcj\\u002fJUQFK4HoXrIVVAPQrXo3CNVUAUrkfhekRXQA==\"},\"type\":\"scatter\",\"xaxis\":\"x\",\"yaxis\":\"y\"},{\"hovertemplate\":\"Expiry: 2025-10-31 09:00:00\\u003cbr\\u003eStrike: %{x:.0f}\\u003cbr\\u003eIV: %{y:.1f}%\\u003cextra\\u003e\\u003c\\u002fextra\\u003e\",\"line\":{\"color\":\"#FF97FF\",\"width\":2},\"marker\":{\"color\":\"#FF97FF\",\"size\":6},\"mode\":\"markers+lines\",\"name\":\"2025-10-31\",\"x\":{\"dtype\":\"f8\",\"bdata\":\"AAAAAACI40AAAAAAAGroQAAAAAAATO1AAAAAAAAX8UAAAAAAAIjzQAAAAACAwPRAAAAAAAD59UAAAAAAgDH3QAAAAAAAavhAAAAAAADn+EAAAAAAAGT5QAAAAACAovlAAAAAAADh+UAAAAAAAF76QAAAAAAA2\\u002fpAAAAAAABY+0AAAAAAANX7QAAAAACAE\\u002fxAAAAAAABS\\u002fEAAAAAAAM\\u002f8QAAAAAAATP1AAAAAAADJ\\u002fUAAAAAAAEb+QAAAAAAAw\\u002f5AAAAAAABA\\u002f0AAAAAAAL3\\u002fQAAAAAAAHQBBAAAAAIBbAEEAAAAAwHoAQQAAAAAAmgBBAAAAAIDYAEEAAAAAABcBQQAAAABAswFBAAAAAIBPAkEAAAAAwOsCQQAAAAAAiANBAAAAAIDABEEAAAAAAPkFQQAAAACAMQdBAAAAAABqCEEAAAAAgKIJQQ==\"},\"y\":{\"dtype\":\"f8\",\"bdata\":\"rkfhehSOVUDsUbgehVtTQPYoXI\\u002fC1VBA7FG4HoUrTUDgehSuR2FJQOxRuB6Fy0dArkfhehRuRkBxPQrXozBFQClcj8L1CERASOF6FK6nQ0ApXI\\u002fC9UhDQMP1KFyPIkNA16NwPQr3QkBxPQrXo7BCQArXo3A9akJArkfhehQuQkCamZmZmflBQD0K16Nw3UFAAAAAAADAQUCF61G4HqVBQMP1KFyPgkFAw\\u002fUoXI+CQUCkcD0K14NBQKRwPQrXg0FAZmZmZmaGQUCamZmZmZlBQD0K16NwvUFAAAAAAADgQUCamZmZmflBQOxRuB6FC0JAXI\\u002fC9SgcQkApXI\\u002fC9UhCQIXrUbge5UJApHA9CteDQ0DsUbgehQtEQDMzMzMzs0RArkfhehQORkBxPQrXo5BHQNejcD0K90hA4XoUrkdBSkB7FK5H4XpLQA==\"},\"type\":\"scatter\",\"xaxis\":\"x\",\"yaxis\":\"y\"},{\"hovertemplate\":\"Expiry: 2025-12-26 09:00:00\\u003cbr\\u003eStrike: %{x:.0f}\\u003cbr\\u003eIV: %{y:.1f}%\\u003cextra\\u003e\\u003c\\u002fextra\\u003e\",\"line\":{\"color\":\"#FECB52\",\"width\":2},\"marker\":{\"color\":\"#FECB52\",\"size\":6},\"mode\":\"markers+lines\",\"name\":\"2025-12-26\",\"x\":{\"dtype\":\"f8\",\"bdata\":\"AAAAAACI00AAAAAAAEzdQAAAAAAAiONAAAAAAABq6EAAAAAAAEztQAAAAAAAve9AAAAAAAAX8UAAAAAAgE\\u002fyQAAAAAAAiPNAAAAAAIDA9EAAAAAAAPn1QAAAAACAMfdAAAAAAABq+EAAAAAAgKL5QAAAAAAA2\\u002fpAAAAAAIAT\\u002fEAAAAAAAEz9QAAAAACAhP5AAAAAAAC9\\u002f0AAAAAAwHoAQQAAAAAAFwFBAAAAAECzAUEAAAAAgE8CQQAAAAAAiANBAAAAAIDABEEAAAAAAPkFQQAAAACAMQdBAAAAAABqCEEAAAAAgKIJQQAAAAAA2wpBAAAAAIATDEEAAAAAAEwNQQAAAAAAvQ9BAAAAAAAXEUEAAAAAgE8SQQAAAAAAiBNBAAAAAIDAFEEAAAAAAGoYQQ==\"},\"y\":{\"dtype\":\"f8\",\"bdata\":\"AAAAAAAQWUBSuB6F6wFVQOF6FK5H8VJAFK5H4XrEUEAVrkfhetRNQF2PwvUoHExAPQrXo3C9SkBwPQrXo5BJQOxRuB6FS0hAPQrXo3A9R0DsUbgehUtGQOxRuB6Fi0VAzczMzMwMRUCF61G4HqVEQFyPwvUoXERA4XoUrkchREA9CtejcP1DQBSuR+F69ENA4XoUrkcBREAUrkfhehREQPYoXI\\u002fCNURAmpmZmZlZRECamZmZmZlEQIXrUbgeJUVAPQrXo3C9RUAzMzMzM5NGQArXo3A9SkdAFK5H4Xr0R0CamZmZmZlIQAvXo3A9SklAFa5H4Xr0SUCPwvUoXI9KQK5H4XoU7ktAKVyPwvUITUD2KFyPwhVOQLgehetR+E5AZmZmZmbGT0CuR+F6FC5RQA==\"},\"type\":\"scatter\",\"xaxis\":\"x\",\"yaxis\":\"y\"},{\"hovertemplate\":\"Spot Price: $113455\\u003cextra\\u003e\\u003c\\u002fextra\\u003e\",\"line\":{\"color\":\"red\",\"dash\":\"dash\",\"width\":2},\"mode\":\"lines\",\"name\":\"Spot: $113455\",\"showlegend\":false,\"x\":[113455.47,113455.47],\"y\":[29.460000000000004,145.32],\"type\":\"scatter\",\"xaxis\":\"x\",\"yaxis\":\"y\"},{\"hovertemplate\":\"Days to Expiry: %{x:.1f}\\u003cbr\\u003eATM IV: %{y:.1f}%\\u003cextra\\u003e\\u003c\\u002fextra\\u003e\",\"line\":{\"color\":\"blue\",\"width\":3},\"marker\":{\"color\":\"blue\",\"size\":10},\"mode\":\"markers+lines+text\",\"name\":\"ATM IV Term Structure\",\"text\":[\"2025-08-22\",\"2025-08-23\",\"2025-08-24\",\"2025-08-25\",\"2025-08-29\",\"2025-09-05\",\"2025-09-12\",\"2025-09-26\",\"2025-10-31\",\"2025-12-26\"],\"textposition\":\"top center\",\"x\":{\"dtype\":\"f8\",\"bdata\":\"AAAAAAAAAAAAAAAAAADwPwAAAAAAAABAAAAAAAAACEAAAAAAAAAcQAAAAAAAACxAAAAAAAAANUAAAAAAAIBBQAAAAAAAgFFAAAAAAACAX0A=\"},\"y\":{\"dtype\":\"f8\",\"bdata\":\"H4XrUbheQEDNzMzMzExCQOxRuB6FK0BAj8L1KFzPPkApXI\\u002fC9ehAQB+F61G4HkFAXI\\u002fC9SgcQUAUrkfhehRBQJqZmZmZ+UFA4XoUrkchREA=\"},\"type\":\"scatter\",\"xaxis\":\"x2\",\"yaxis\":\"y2\"},{\"colorscale\":[[0.0,\"#0d0887\"],[0.1111111111111111,\"#46039f\"],[0.2222222222222222,\"#7201a8\"],[0.3333333333333333,\"#9c179e\"],[0.4444444444444444,\"#bd3786\"],[0.5555555555555556,\"#d8576b\"],[0.6666666666666666,\"#ed7953\"],[0.7777777777777778,\"#fb9f3a\"],[0.8888888888888888,\"#fdca26\"],[1.0,\"#f0f921\"]],\"hovertemplate\":\"Moneyness: %{x:.2f}\\u003cbr\\u003eDays to Expiry: %{y:.1f}\\u003cbr\\u003eIV: %{z:.1f}%\\u003cextra\\u003e\\u003c\\u002fextra\\u003e\",\"name\":\"Moneyness Surface\",\"showscale\":false,\"x\":{\"dtype\":\"f8\",\"bdata\":\"uo6q+VyQxj9\\u002foV9vLVDPPyJaivL+B9Q\\u002fhONkLedn2D\\u002fnbD9oz8fcPyT7jNHbk+A\\u002f1j\\u002f67s\\u002fD4j+IhGcMxPPkPzjJ1Cm4I+c\\u002f6g1CR6xT6T+aUq9koIPrP0yXHIKUs+0\\u002f\\u002ftuJn4jj7z9XkHtevgnxP7AyMm24IfI\\u002fCNXoe7I58z9hd5+KrFH0P7oZVpmmafU\\u002fErwMqKCB9j9rXsO2mpn3P8MAesWUsfg\\u002fHKMw1I7J+T91RefiiOH6P83nnfGC+fs\\u002fJopUAH0R\\u002fT9\\u002fLAsPdyn+P9fOwR1xQf8\\u002fmDg8lrUsAEDFiZedsrgAQPHa8qSvRAFAHSxOrKzQAUBKfamzqVwCQHbOBLum6AJAoh9gwqN0A0DPcLvJoAAEQPvBFtGdjARAJxNy2JoYBUBUZM3fl6QFQIC1KOeUMAZArAaE7pG8BkDYV9\\u002f1jkgHQAWpOv2L1AdAMfqVBIlgCEBdS\\u002fELhuwIQIqcTBODeAlAtu2nGoAECkDiPgMifZAKQA+QXil6HAtAO+G5MHeoC0BoMhU4dDQMQLqOqvlckMY\\u002ff6Ffby1Qzz8iWory\\u002fgfUP4TjZC3nZ9g\\u002f52w\\u002faM\\u002fH3D8k+4zR25PgP9Y\\u002f+u7Pw+I\\u002fiIRnDMTz5D84ydQpuCPnP+oNQkesU+k\\u002fmlKvZKCD6z9MlxyClLPtP\\u002f7biZ+I4+8\\u002fV5B7Xr4J8T+wMjJtuCHyPwjV6HuyOfM\\u002fYXefiqxR9D+6GVaZpmn1PxK8DKiggfY\\u002fa17DtpqZ9z\\u002fDAHrFlLH4PxyjMNSOyfk\\u002fdUXn4ojh+j\\u002fN553xgvn7PyaKVAB9Ef0\\u002ffywLD3cp\\u002fj\\u002fXzsEdcUH\\u002fP5g4PJa1LABAxYmXnbK4AEDx2vKkr0QBQB0sTqys0AFASn2ps6lcAkB2zgS7pugCQKIfYMKjdANAz3C7yaAABED7wRbRnYwEQCcTctiaGAVAVGTN35ekBUCAtSjnlDAGQKwGhO6RvAZA2Fff9Y5IB0AFqTr9i9QHQDH6lQSJYAhAXUvxC4bsCECKnEwTg3gJQLbtpxqABApA4j4DIn2QCkAPkF4pehwLQDvhuTB3qAtAaDIVOHQ0DEC6jqr5XJDGP3+hX28tUM8\\u002fIlqK8v4H1D+E42Qt52fYP+dsP2jPx9w\\u002fJPuM0duT4D\\u002fWP\\u002fruz8PiP4iEZwzE8+Q\\u002fOMnUKbgj5z\\u002fqDUJHrFPpP5pSr2Sgg+s\\u002fTJccgpSz7T\\u002f+24mfiOPvP1eQe16+CfE\\u002fsDIybbgh8j8I1eh7sjnzP2F3n4qsUfQ\\u002fuhlWmaZp9T8SvAyooIH2P2tew7aamfc\\u002fwwB6xZSx+D8cozDUjsn5P3VF5+KI4fo\\u002fzeed8YL5+z8milQAfRH9P38sCw93Kf4\\u002f187BHXFB\\u002fz+YODyWtSwAQMWJl52yuABA8drypK9EAUAdLE6srNABQEp9qbOpXAJAds4Eu6boAkCiH2DCo3QDQM9wu8mgAARA+8EW0Z2MBEAnE3LYmhgFQFRkzd+XpAVAgLUo55QwBkCsBoTukbwGQNhX3\\u002fWOSAdABak6\\u002fYvUB0Ax+pUEiWAIQF1L8QuG7AhAipxME4N4CUC27acagAQKQOI+AyJ9kApAD5BeKXocC0A74bkwd6gLQGgyFTh0NAxAuo6q+VyQxj9\\u002foV9vLVDPPyJaivL+B9Q\\u002fhONkLedn2D\\u002fnbD9oz8fcPyT7jNHbk+A\\u002f1j\\u002f67s\\u002fD4j+IhGcMxPPkPzjJ1Cm4I+c\\u002f6g1CR6xT6T+aUq9koIPrP0yXHIKUs+0\\u002f\\u002ftuJn4jj7z9XkHtevgnxP7AyMm24IfI\\u002fCNXoe7I58z9hd5+KrFH0P7oZVpmmafU\\u002fErwMqKCB9j9rXsO2mpn3P8MAesWUsfg\\u002fHKMw1I7J+T91RefiiOH6P83nnfGC+fs\\u002fJopUAH0R\\u002fT9\\u002fLAsPdyn+P9fOwR1xQf8\\u002fmDg8lrUsAEDFiZedsrgAQPHa8qSvRAFAHSxOrKzQAUBKfamzqVwCQHbOBLum6AJAoh9gwqN0A0DPcLvJoAAEQPvBFtGdjARAJxNy2JoYBUBUZM3fl6QFQIC1KOeUMAZArAaE7pG8BkDYV9\\u002f1jkgHQAWpOv2L1AdAMfqVBIlgCEBdS\\u002fELhuwIQIqcTBODeAlAtu2nGoAECkDiPgMifZAKQA+QXil6HAtAO+G5MHeoC0BoMhU4dDQMQLqOqvlckMY\\u002ff6Ffby1Qzz8iWory\\u002fgfUP4TjZC3nZ9g\\u002f52w\\u002faM\\u002fH3D8k+4zR25PgP9Y\\u002f+u7Pw+I\\u002fiIRnDMTz5D84ydQpuCPnP+oNQkesU+k\\u002fmlKvZKCD6z9MlxyClLPtP\\u002f7biZ+I4+8\\u002fV5B7Xr4J8T+wMjJtuCHyPwjV6HuyOfM\\u002fYXefiqxR9D+6GVaZpmn1PxK8DKiggfY\\u002fa17DtpqZ9z\\u002fDAHrFlLH4PxyjMNSOyfk\\u002fdUXn4ojh+j\\u002fN553xgvn7PyaKVAB9Ef0\\u002ffywLD3cp\\u002fj\\u002fXzsEdcUH\\u002fP5g4PJa1LABAxYmXnbK4AEDx2vKkr0QBQB0sTqys0AFASn2ps6lcAkB2zgS7pugCQKIfYMKjdANAz3C7yaAABED7wRbRnYwEQCcTctiaGAVAVGTN35ekBUCAtSjnlDAGQKwGhO6RvAZA2Fff9Y5IB0AFqTr9i9QHQDH6lQSJYAhAXUvxC4bsCECKnEwTg3gJQLbtpxqABApA4j4DIn2QCkAPkF4pehwLQDvhuTB3qAtAaDIVOHQ0DEC6jqr5XJDGP3+hX28tUM8\\u002fIlqK8v4H1D+E42Qt52fYP+dsP2jPx9w\\u002fJPuM0duT4D\\u002fWP\\u002fruz8PiP4iEZwzE8+Q\\u002fOMnUKbgj5z\\u002fqDUJHrFPpP5pSr2Sgg+s\\u002fTJccgpSz7T\\u002f+24mfiOPvP1eQe16+CfE\\u002fsDIybbgh8j8I1eh7sjnzP2F3n4qsUfQ\\u002fuhlWmaZp9T8SvAyooIH2P2tew7aamfc\\u002fwwB6xZSx+D8cozDUjsn5P3VF5+KI4fo\\u002fzeed8YL5+z8milQAfRH9P38sCw93Kf4\\u002f187BHXFB\\u002fz+YODyWtSwAQMWJl52yuABA8drypK9EAUAdLE6srNABQEp9qbOpXAJAds4Eu6boAkCiH2DCo3QDQM9wu8mgAARA+8EW0Z2MBEAnE3LYmhgFQFRkzd+XpAVAgLUo55QwBkCsBoTukbwGQNhX3\\u002fWOSAdABak6\\u002fYvUB0Ax+pUEiWAIQF1L8QuG7AhAipxME4N4CUC27acagAQKQOI+AyJ9kApAD5BeKXocC0A74bkwd6gLQGgyFTh0NAxAuo6q+VyQxj9\\u002foV9vLVDPPyJaivL+B9Q\\u002fhONkLedn2D\\u002fnbD9oz8fcPyT7jNHbk+A\\u002f1j\\u002f67s\\u002fD4j+IhGcMxPPkPzjJ1Cm4I+c\\u002f6g1CR6xT6T+aUq9koIPrP0yXHIKUs+0\\u002f\\u002ftuJn4jj7z9XkHtevgnxP7AyMm24IfI\\u002fCNXoe7I58z9hd5+KrFH0P7oZVpmmafU\\u002fErwMqKCB9j9rXsO2mpn3P8MAesWUsfg\\u002fHKMw1I7J+T91RefiiOH6P83nnfGC+fs\\u002fJopUAH0R\\u002fT9\\u002fLAsPdyn+P9fOwR1xQf8\\u002fmDg8lrUsAEDFiZedsrgAQPHa8qSvRAFAHSxOrKzQAUBKfamzqVwCQHbOBLum6AJAoh9gwqN0A0DPcLvJoAAEQPvBFtGdjARAJxNy2JoYBUBUZM3fl6QFQIC1KOeUMAZArAaE7pG8BkDYV9\\u002f1jkgHQAWpOv2L1AdAMfqVBIlgCEBdS\\u002fELhuwIQIqcTBODeAlAtu2nGoAECkDiPgMifZAKQA+QXil6HAtAO+G5MHeoC0BoMhU4dDQMQLqOqvlckMY\\u002ff6Ffby1Qzz8iWory\\u002fgfUP4TjZC3nZ9g\\u002f52w\\u002faM\\u002fH3D8k+4zR25PgP9Y\\u002f+u7Pw+I\\u002fiIRnDMTz5D84ydQpuCPnP+oNQkesU+k\\u002fmlKvZKCD6z9MlxyClLPtP\\u002f7biZ+I4+8\\u002fV5B7Xr4J8T+wMjJtuCHyPwjV6HuyOfM\\u002fYXefiqxR9D+6GVaZpmn1PxK8DKiggfY\\u002fa17DtpqZ9z\\u002fDAHrFlLH4PxyjMNSOyfk\\u002fdUXn4ojh+j\\u002fN553xgvn7PyaKVAB9Ef0\\u002ffywLD3cp\\u002fj\\u002fXzsEdcUH\\u002fP5g4PJa1LABAxYmXnbK4AEDx2vKkr0QBQB0sTqys0AFASn2ps6lcAkB2zgS7pugCQKIfYMKjdANAz3C7yaAABED7wRbRnYwEQCcTctiaGAVAVGTN35ekBUCAtSjnlDAGQKwGhO6RvAZA2Fff9Y5IB0AFqTr9i9QHQDH6lQSJYAhAXUvxC4bsCECKnEwTg3gJQLbtpxqABApA4j4DIn2QCkAPkF4pehwLQDvhuTB3qAtAaDIVOHQ0DEC6jqr5XJDGP3+hX28tUM8\\u002fIlqK8v4H1D+E42Qt52fYP+dsP2jPx9w\\u002fJPuM0duT4D\\u002fWP\\u002fruz8PiP4iEZwzE8+Q\\u002fOMnUKbgj5z\\u002fqDUJHrFPpP5pSr2Sgg+s\\u002fTJccgpSz7T\\u002f+24mfiOPvP1eQe16+CfE\\u002fsDIybbgh8j8I1eh7sjnzP2F3n4qsUfQ\\u002fuhlWmaZp9T8SvAyooIH2P2tew7aamfc\\u002fwwB6xZSx+D8cozDUjsn5P3VF5+KI4fo\\u002fzeed8YL5+z8milQAfRH9P38sCw93Kf4\\u002f187BHXFB\\u002fz+YODyWtSwAQMWJl52yuABA8drypK9EAUAdLE6srNABQEp9qbOpXAJAds4Eu6boAkCiH2DCo3QDQM9wu8mgAARA+8EW0Z2MBEAnE3LYmhgFQFRkzd+XpAVAgLUo55QwBkCsBoTukbwGQNhX3\\u002fWOSAdABak6\\u002fYvUB0Ax+pUEiWAIQF1L8QuG7AhAipxME4N4CUC27acagAQKQOI+AyJ9kApAD5BeKXocC0A74bkwd6gLQGgyFTh0NAxAuo6q+VyQxj9\\u002foV9vLVDPPyJaivL+B9Q\\u002fhONkLedn2D\\u002fnbD9oz8fcPyT7jNHbk+A\\u002f1j\\u002f67s\\u002fD4j+IhGcMxPPkPzjJ1Cm4I+c\\u002f6g1CR6xT6T+aUq9koIPrP0yXHIKUs+0\\u002f\\u002ftuJn4jj7z9XkHtevgnxP7AyMm24IfI\\u002fCNXoe7I58z9hd5+KrFH0P7oZVpmmafU\\u002fErwMqKCB9j9rXsO2mpn3P8MAesWUsfg\\u002fHKMw1I7J+T91RefiiOH6P83nnfGC+fs\\u002fJopUAH0R\\u002fT9\\u002fLAsPdyn+P9fOwR1xQf8\\u002fmDg8lrUsAEDFiZedsrgAQPHa8qSvRAFAHSxOrKzQAUBKfamzqVwCQHbOBLum6AJAoh9gwqN0A0DPcLvJoAAEQPvBFtGdjARAJxNy2JoYBUBUZM3fl6QFQIC1KOeUMAZArAaE7pG8BkDYV9\\u002f1jkgHQAWpOv2L1AdAMfqVBIlgCEBdS\\u002fELhuwIQIqcTBODeAlAtu2nGoAECkDiPgMifZAKQA+QXil6HAtAO+G5MHeoC0BoMhU4dDQMQLqOqvlckMY\\u002ff6Ffby1Qzz8iWory\\u002fgfUP4TjZC3nZ9g\\u002f52w\\u002faM\\u002fH3D8k+4zR25PgP9Y\\u002f+u7Pw+I\\u002fiIRnDMTz5D84ydQpuCPnP+oNQkesU+k\\u002fmlKvZKCD6z9MlxyClLPtP\\u002f7biZ+I4+8\\u002fV5B7Xr4J8T+wMjJtuCHyPwjV6HuyOfM\\u002fYXefiqxR9D+6GVaZpmn1PxK8DKiggfY\\u002fa17DtpqZ9z\\u002fDAHrFlLH4PxyjMNSOyfk\\u002fdUXn4ojh+j\\u002fN553xgvn7PyaKVAB9Ef0\\u002ffywLD3cp\\u002fj\\u002fXzsEdcUH\\u002fP5g4PJa1LABAxYmXnbK4AEDx2vKkr0QBQB0sTqys0AFASn2ps6lcAkB2zgS7pugCQKIfYMKjdANAz3C7yaAABED7wRbRnYwEQCcTctiaGAVAVGTN35ekBUCAtSjnlDAGQKwGhO6RvAZA2Fff9Y5IB0AFqTr9i9QHQDH6lQSJYAhAXUvxC4bsCECKnEwTg3gJQLbtpxqABApA4j4DIn2QCkAPkF4pehwLQDvhuTB3qAtAaDIVOHQ0DEC6jqr5XJDGP3+hX28tUM8\\u002fIlqK8v4H1D+E42Qt52fYP+dsP2jPx9w\\u002fJPuM0duT4D\\u002fWP\\u002fruz8PiP4iEZwzE8+Q\\u002fOMnUKbgj5z\\u002fqDUJHrFPpP5pSr2Sgg+s\\u002fTJccgpSz7T\\u002f+24mfiOPvP1eQe16+CfE\\u002fsDIybbgh8j8I1eh7sjnzP2F3n4qsUfQ\\u002fuhlWmaZp9T8SvAyooIH2P2tew7aamfc\\u002fwwB6xZSx+D8cozDUjsn5P3VF5+KI4fo\\u002fzeed8YL5+z8milQAfRH9P38sCw93Kf4\\u002f187BHXFB\\u002fz+YODyWtSwAQMWJl52yuABA8drypK9EAUAdLE6srNABQEp9qbOpXAJAds4Eu6boAkCiH2DCo3QDQM9wu8mgAARA+8EW0Z2MBEAnE3LYmhgFQFRkzd+XpAVAgLUo55QwBkCsBoTukbwGQNhX3\\u002fWOSAdABak6\\u002fYvUB0Ax+pUEiWAIQF1L8QuG7AhAipxME4N4CUC27acagAQKQOI+AyJ9kApAD5BeKXocC0A74bkwd6gLQGgyFTh0NAxAuo6q+VyQxj9\\u002foV9vLVDPPyJaivL+B9Q\\u002fhONkLedn2D\\u002fnbD9oz8fcPyT7jNHbk+A\\u002f1j\\u002f67s\\u002fD4j+IhGcMxPPkPzjJ1Cm4I+c\\u002f6g1CR6xT6T+aUq9koIPrP0yXHIKUs+0\\u002f\\u002ftuJn4jj7z9XkHtevgnxP7AyMm24IfI\\u002fCNXoe7I58z9hd5+KrFH0P7oZVpmmafU\\u002fErwMqKCB9j9rXsO2mpn3P8MAesWUsfg\\u002fHKMw1I7J+T91RefiiOH6P83nnfGC+fs\\u002fJopUAH0R\\u002fT9\\u002fLAsPdyn+P9fOwR1xQf8\\u002fmDg8lrUsAEDFiZedsrgAQPHa8qSvRAFAHSxOrKzQAUBKfamzqVwCQHbOBLum6AJAoh9gwqN0A0DPcLvJoAAEQPvBFtGdjARAJxNy2JoYBUBUZM3fl6QFQIC1KOeUMAZArAaE7pG8BkDYV9\\u002f1jkgHQAWpOv2L1AdAMfqVBIlgCEBdS\\u002fELhuwIQIqcTBODeAlAtu2nGoAECkDiPgMifZAKQA+QXil6HAtAO+G5MHeoC0BoMhU4dDQMQLqOqvlckMY\\u002ff6Ffby1Qzz8iWory\\u002fgfUP4TjZC3nZ9g\\u002f52w\\u002faM\\u002fH3D8k+4zR25PgP9Y\\u002f+u7Pw+I\\u002fiIRnDMTz5D84ydQpuCPnP+oNQkesU+k\\u002fmlKvZKCD6z9MlxyClLPtP\\u002f7biZ+I4+8\\u002fV5B7Xr4J8T+wMjJtuCHyPwjV6HuyOfM\\u002fYXefiqxR9D+6GVaZpmn1PxK8DKiggfY\\u002fa17DtpqZ9z\\u002fDAHrFlLH4PxyjMNSOyfk\\u002fdUXn4ojh+j\\u002fN553xgvn7PyaKVAB9Ef0\\u002ffywLD3cp\\u002fj\\u002fXzsEdcUH\\u002fP5g4PJa1LABAxYmXnbK4AEDx2vKkr0QBQB0sTqys0AFASn2ps6lcAkB2zgS7pugCQKIfYMKjdANAz3C7yaAABED7wRbRnYwEQCcTctiaGAVAVGTN35ekBUCAtSjnlDAGQKwGhO6RvAZA2Fff9Y5IB0AFqTr9i9QHQDH6lQSJYAhAXUvxC4bsCECKnEwTg3gJQLbtpxqABApA4j4DIn2QCkAPkF4pehwLQDvhuTB3qAtAaDIVOHQ0DEC6jqr5XJDGP3+hX28tUM8\\u002fIlqK8v4H1D+E42Qt52fYP+dsP2jPx9w\\u002fJPuM0duT4D\\u002fWP\\u002fruz8PiP4iEZwzE8+Q\\u002fOMnUKbgj5z\\u002fqDUJHrFPpP5pSr2Sgg+s\\u002fTJccgpSz7T\\u002f+24mfiOPvP1eQe16+CfE\\u002fsDIybbgh8j8I1eh7sjnzP2F3n4qsUfQ\\u002fuhlWmaZp9T8SvAyooIH2P2tew7aamfc\\u002fwwB6xZSx+D8cozDUjsn5P3VF5+KI4fo\\u002fzeed8YL5+z8milQAfRH9P38sCw93Kf4\\u002f187BHXFB\\u002fz+YODyWtSwAQMWJl52yuABA8drypK9EAUAdLE6srNABQEp9qbOpXAJAds4Eu6boAkCiH2DCo3QDQM9wu8mgAARA+8EW0Z2MBEAnE3LYmhgFQFRkzd+XpAVAgLUo55QwBkCsBoTukbwGQNhX3\\u002fWOSAdABak6\\u002fYvUB0Ax+pUEiWAIQF1L8QuG7AhAipxME4N4CUC27acagAQKQOI+AyJ9kApAD5BeKXocC0A74bkwd6gLQGgyFTh0NAxAuo6q+VyQxj9\\u002foV9vLVDPPyJaivL+B9Q\\u002fhONkLedn2D\\u002fnbD9oz8fcPyT7jNHbk+A\\u002f1j\\u002f67s\\u002fD4j+IhGcMxPPkPzjJ1Cm4I+c\\u002f6g1CR6xT6T+aUq9koIPrP0yXHIKUs+0\\u002f\\u002ftuJn4jj7z9XkHtevgnxP7AyMm24IfI\\u002fCNXoe7I58z9hd5+KrFH0P7oZVpmmafU\\u002fErwMqKCB9j9rXsO2mpn3P8MAesWUsfg\\u002fHKMw1I7J+T91RefiiOH6P83nnfGC+fs\\u002fJopUAH0R\\u002fT9\\u002fLAsPdyn+P9fOwR1xQf8\\u002fmDg8lrUsAEDFiZedsrgAQPHa8qSvRAFAHSxOrKzQAUBKfamzqVwCQHbOBLum6AJAoh9gwqN0A0DPcLvJoAAEQPvBFtGdjARAJxNy2JoYBUBUZM3fl6QFQIC1KOeUMAZArAaE7pG8BkDYV9\\u002f1jkgHQAWpOv2L1AdAMfqVBIlgCEBdS\\u002fELhuwIQIqcTBODeAlAtu2nGoAECkDiPgMifZAKQA+QXil6HAtAO+G5MHeoC0BoMhU4dDQMQLqOqvlckMY\\u002ff6Ffby1Qzz8iWory\\u002fgfUP4TjZC3nZ9g\\u002f52w\\u002faM\\u002fH3D8k+4zR25PgP9Y\\u002f+u7Pw+I\\u002fiIRnDMTz5D84ydQpuCPnP+oNQkesU+k\\u002fmlKvZKCD6z9MlxyClLPtP\\u002f7biZ+I4+8\\u002fV5B7Xr4J8T+wMjJtuCHyPwjV6HuyOfM\\u002fYXefiqxR9D+6GVaZpmn1PxK8DKiggfY\\u002fa17DtpqZ9z\\u002fDAHrFlLH4PxyjMNSOyfk\\u002fdUXn4ojh+j\\u002fN553xgvn7PyaKVAB9Ef0\\u002ffywLD3cp\\u002fj\\u002fXzsEdcUH\\u002fP5g4PJa1LABAxYmXnbK4AEDx2vKkr0QBQB0sTqys0AFASn2ps6lcAkB2zgS7pugCQKIfYMKjdANAz3C7yaAABED7wRbRnYwEQCcTctiaGAVAVGTN35ekBUCAtSjnlDAGQKwGhO6RvAZA2Fff9Y5IB0AFqTr9i9QHQDH6lQSJYAhAXUvxC4bsCECKnEwTg3gJQLbtpxqABApA4j4DIn2QCkAPkF4pehwLQDvhuTB3qAtAaDIVOHQ0DEC6jqr5XJDGP3+hX28tUM8\\u002fIlqK8v4H1D+E42Qt52fYP+dsP2jPx9w\\u002fJPuM0duT4D\\u002fWP\\u002fruz8PiP4iEZwzE8+Q\\u002fOMnUKbgj5z\\u002fqDUJHrFPpP5pSr2Sgg+s\\u002fTJccgpSz7T\\u002f+24mfiOPvP1eQe16+CfE\\u002fsDIybbgh8j8I1eh7sjnzP2F3n4qsUfQ\\u002fuhlWmaZp9T8SvAyooIH2P2tew7aamfc\\u002fwwB6xZSx+D8cozDUjsn5P3VF5+KI4fo\\u002fzeed8YL5+z8milQAfRH9P38sCw93Kf4\\u002f187BHXFB\\u002fz+YODyWtSwAQMWJl52yuABA8drypK9EAUAdLE6srNABQEp9qbOpXAJAds4Eu6boAkCiH2DCo3QDQM9wu8mgAARA+8EW0Z2MBEAnE3LYmhgFQFRkzd+XpAVAgLUo55QwBkCsBoTukbwGQNhX3\\u002fWOSAdABak6\\u002fYvUB0Ax+pUEiWAIQF1L8QuG7AhAipxME4N4CUC27acagAQKQOI+AyJ9kApAD5BeKXocC0A74bkwd6gLQGgyFTh0NAxAuo6q+VyQxj9\\u002foV9vLVDPPyJaivL+B9Q\\u002fhONkLedn2D\\u002fnbD9oz8fcPyT7jNHbk+A\\u002f1j\\u002f67s\\u002fD4j+IhGcMxPPkPzjJ1Cm4I+c\\u002f6g1CR6xT6T+aUq9koIPrP0yXHIKUs+0\\u002f\\u002ftuJn4jj7z9XkHtevgnxP7AyMm24IfI\\u002fCNXoe7I58z9hd5+KrFH0P7oZVpmmafU\\u002fErwMqKCB9j9rXsO2mpn3P8MAesWUsfg\\u002fHKMw1I7J+T91RefiiOH6P83nnfGC+fs\\u002fJopUAH0R\\u002fT9\\u002fLAsPdyn+P9fOwR1xQf8\\u002fmDg8lrUsAEDFiZedsrgAQPHa8qSvRAFAHSxOrKzQAUBKfamzqVwCQHbOBLum6AJAoh9gwqN0A0DPcLvJoAAEQPvBFtGdjARAJxNy2JoYBUBUZM3fl6QFQIC1KOeUMAZArAaE7pG8BkDYV9\\u002f1jkgHQAWpOv2L1AdAMfqVBIlgCEBdS\\u002fELhuwIQIqcTBODeAlAtu2nGoAECkDiPgMifZAKQA+QXil6HAtAO+G5MHeoC0BoMhU4dDQMQLqOqvlckMY\\u002ff6Ffby1Qzz8iWory\\u002fgfUP4TjZC3nZ9g\\u002f52w\\u002faM\\u002fH3D8k+4zR25PgP9Y\\u002f+u7Pw+I\\u002fiIRnDMTz5D84ydQpuCPnP+oNQkesU+k\\u002fmlKvZKCD6z9MlxyClLPtP\\u002f7biZ+I4+8\\u002fV5B7Xr4J8T+wMjJtuCHyPwjV6HuyOfM\\u002fYXefiqxR9D+6GVaZpmn1PxK8DKiggfY\\u002fa17DtpqZ9z\\u002fDAHrFlLH4PxyjMNSOyfk\\u002fdUXn4ojh+j\\u002fN553xgvn7PyaKVAB9Ef0\\u002ffywLD3cp\\u002fj\\u002fXzsEdcUH\\u002fP5g4PJa1LABAxYmXnbK4AEDx2vKkr0QBQB0sTqys0AFASn2ps6lcAkB2zgS7pugCQKIfYMKjdANAz3C7yaAABED7wRbRnYwEQCcTctiaGAVAVGTN35ekBUCAtSjnlDAGQKwGhO6RvAZA2Fff9Y5IB0AFqTr9i9QHQDH6lQSJYAhAXUvxC4bsCECKnEwTg3gJQLbtpxqABApA4j4DIn2QCkAPkF4pehwLQDvhuTB3qAtAaDIVOHQ0DEA=\",\"shape\":\"20, 50\"},\"y\":{\"dtype\":\"f8\",\"bdata\":\"AAAAAAAAAAAAAAAAAAAAAAAAAAAAAAAAAAAAAAAAAAAAAAAAAAAAAAAAAAAAAAAAAAAAAAAAAAAAAAAAAAAAAAAAAAAAAAAAAAAAAAAAAAAAAAAAAAAAAAAAAAAAAAAAAAAAAAAAAAAAAAAAAAAAAAAAAAAAAAAAAAAAAAAAAAAAAAAAAAAAAAAAAAAAAAAAAAAAAAAAAAAAAAAAAAAAAAAAAAAAAAAAAAAAAAAAAAAAAAAAAAAAAAAAAAAAAAAAAAAAAAAAAAAAAAAAAAAAAAAAAAAAAAAAAAAAAAAAAAAAAAAAAAAAAAAAAAAAAAAAAAAAAAAAAAAAAAAAAAAAAAAAAAAAAAAAAAAAAAAAAAAAAAAAAAAAAAAAAAAAAAAAAAAAAAAAAAAAAAAAAAAAAAAAAAAAAAAAAAAAAAAAAAAAAAAAAAAAAAAAAAAAAAAAAAAAAAAAAAAAAAAAAAAAAAAAAAAAAAAAAAAAAAAAAAAAAAAAAAAAAAAAAAAAAAAAAAAAAAAAAAAAAAAAAAAAAGwor6G8hhpAbCivobyGGkBsKK+hvIYaQGwor6G8hhpAbCivobyGGkBsKK+hvIYaQGwor6G8hhpAbCivobyGGkBsKK+hvIYaQGwor6G8hhpAbCivobyGGkBsKK+hvIYaQGwor6G8hhpAbCivobyGGkBsKK+hvIYaQGwor6G8hhpAbCivobyGGkBsKK+hvIYaQGwor6G8hhpAbCivobyGGkBsKK+hvIYaQGwor6G8hhpAbCivobyGGkBsKK+hvIYaQGwor6G8hhpAbCivobyGGkBsKK+hvIYaQGwor6G8hhpAbCivobyGGkBsKK+hvIYaQGwor6G8hhpAbCivobyGGkBsKK+hvIYaQGwor6G8hhpAbCivobyGGkBsKK+hvIYaQGwor6G8hhpAbCivobyGGkBsKK+hvIYaQGwor6G8hhpAbCivobyGGkBsKK+hvIYaQGwor6G8hhpAbCivobyGGkBsKK+hvIYaQGwor6G8hhpAbCivobyGGkBsKK+hvIYaQGwor6G8hhpAbCivobyGGkBsKK+hvIYqQGwor6G8hipAbCivobyGKkBsKK+hvIYqQGwor6G8hipAbCivobyGKkBsKK+hvIYqQGwor6G8hipAbCivobyGKkBsKK+hvIYqQGwor6G8hipAbCivobyGKkBsKK+hvIYqQGwor6G8hipAbCivobyGKkBsKK+hvIYqQGwor6G8hipAbCivobyGKkBsKK+hvIYqQGwor6G8hipAbCivobyGKkBsKK+hvIYqQGwor6G8hipAbCivobyGKkBsKK+hvIYqQGwor6G8hipAbCivobyGKkBsKK+hvIYqQGwor6G8hipAbCivobyGKkBsKK+hvIYqQGwor6G8hipAbCivobyGKkBsKK+hvIYqQGwor6G8hipAbCivobyGKkBsKK+hvIYqQGwor6G8hipAbCivobyGKkBsKK+hvIYqQGwor6G8hipAbCivobyGKkBsKK+hvIYqQGwor6G8hipAbCivobyGKkBsKK+hvIYqQGwor6G8hipAbCivobyGKkBsKK+hvIYqQGwor6G8hipAUV5DeQ3lM0BRXkN5DeUzQFFeQ3kN5TNAUV5DeQ3lM0BRXkN5DeUzQFFeQ3kN5TNAUV5DeQ3lM0BRXkN5DeUzQFFeQ3kN5TNAUV5DeQ3lM0BRXkN5DeUzQFFeQ3kN5TNAUV5DeQ3lM0BRXkN5DeUzQFFeQ3kN5TNAUV5DeQ3lM0BRXkN5DeUzQFFeQ3kN5TNAUV5DeQ3lM0BRXkN5DeUzQFFeQ3kN5TNAUV5DeQ3lM0BRXkN5DeUzQFFeQ3kN5TNAUV5DeQ3lM0BRXkN5DeUzQFFeQ3kN5TNAUV5DeQ3lM0BRXkN5DeUzQFFeQ3kN5TNAUV5DeQ3lM0BRXkN5DeUzQFFeQ3kN5TNAUV5DeQ3lM0BRXkN5DeUzQFFeQ3kN5TNAUV5DeQ3lM0BRXkN5DeUzQFFeQ3kN5TNAUV5DeQ3lM0BRXkN5DeUzQFFeQ3kN5TNAUV5DeQ3lM0BRXkN5DeUzQFFeQ3kN5TNAUV5DeQ3lM0BRXkN5DeUzQFFeQ3kN5TNAUV5DeQ3lM0BRXkN5DeUzQGwor6G8hjpAbCivobyGOkBsKK+hvIY6QGwor6G8hjpAbCivobyGOkBsKK+hvIY6QGwor6G8hjpAbCivobyGOkBsKK+hvIY6QGwor6G8hjpAbCivobyGOkBsKK+hvIY6QGwor6G8hjpAbCivobyGOkBsKK+hvIY6QGwor6G8hjpAbCivobyGOkBsKK+hvIY6QGwor6G8hjpAbCivobyGOkBsKK+hvIY6QGwor6G8hjpAbCivobyGOkBsKK+hvIY6QGwor6G8hjpAbCivobyGOkBsKK+hvIY6QGwor6G8hjpAbCivobyGOkBsKK+hvIY6QGwor6G8hjpAbCivobyGOkBsKK+hvIY6QGwor6G8hjpAbCivobyGOkBsKK+hvIY6QGwor6G8hjpAbCivobyGOkBsKK+hvIY6QGwor6G8hjpAbCivobyGOkBsKK+hvIY6QGwor6G8hjpAbCivobyGOkBsKK+hvIY6QGwor6G8hjpAbCivobyGOkBsKK+hvIY6QGwor6G8hjpAbCivobyGOkBEeQ3lNZRAQER5DeU1lEBARHkN5TWUQEBEeQ3lNZRAQER5DeU1lEBARHkN5TWUQEBEeQ3lNZRAQER5DeU1lEBARHkN5TWUQEBEeQ3lNZRAQER5DeU1lEBARHkN5TWUQEBEeQ3lNZRAQER5DeU1lEBARHkN5TWUQEBEeQ3lNZRAQER5DeU1lEBARHkN5TWUQEBEeQ3lNZRAQER5DeU1lEBARHkN5TWUQEBEeQ3lNZRAQER5DeU1lEBARHkN5TWUQEBEeQ3lNZRAQER5DeU1lEBARHkN5TWUQEBEeQ3lNZRAQER5DeU1lEBARHkN5TWUQEBEeQ3lNZRAQER5DeU1lEBARHkN5TWUQEBEeQ3lNZRAQER5DeU1lEBARHkN5TWUQEBEeQ3lNZRAQER5DeU1lEBARHkN5TWUQEBEeQ3lNZRAQER5DeU1lEBARHkN5TWUQEBEeQ3lNZRAQER5DeU1lEBARHkN5TWUQEBEeQ3lNZRAQER5DeU1lEBARHkN5TWUQEBEeQ3lNZRAQER5DeU1lEBAUV5DeQ3lQ0BRXkN5DeVDQFFeQ3kN5UNAUV5DeQ3lQ0BRXkN5DeVDQFFeQ3kN5UNAUV5DeQ3lQ0BRXkN5DeVDQFFeQ3kN5UNAUV5DeQ3lQ0BRXkN5DeVDQFFeQ3kN5UNAUV5DeQ3lQ0BRXkN5DeVDQFFeQ3kN5UNAUV5DeQ3lQ0BRXkN5DeVDQFFeQ3kN5UNAUV5DeQ3lQ0BRXkN5DeVDQFFeQ3kN5UNAUV5DeQ3lQ0BRXkN5DeVDQFFeQ3kN5UNAUV5DeQ3lQ0BRXkN5DeVDQFFeQ3kN5UNAUV5DeQ3lQ0BRXkN5DeVDQFFeQ3kN5UNAUV5DeQ3lQ0BRXkN5DeVDQFFeQ3kN5UNAUV5DeQ3lQ0BRXkN5DeVDQFFeQ3kN5UNAUV5DeQ3lQ0BRXkN5DeVDQFFeQ3kN5UNAUV5DeQ3lQ0BRXkN5DeVDQFFeQ3kN5UNAUV5DeQ3lQ0BRXkN5DeVDQFFeQ3kN5UNAUV5DeQ3lQ0BRXkN5DeVDQFFeQ3kN5UNAUV5DeQ3lQ0BRXkN5DeVDQF5DeQ3lNUdAXkN5DeU1R0BeQ3kN5TVHQF5DeQ3lNUdAXkN5DeU1R0BeQ3kN5TVHQF5DeQ3lNUdAXkN5DeU1R0BeQ3kN5TVHQF5DeQ3lNUdAXkN5DeU1R0BeQ3kN5TVHQF5DeQ3lNUdAXkN5DeU1R0BeQ3kN5TVHQF5DeQ3lNUdAXkN5DeU1R0BeQ3kN5TVHQF5DeQ3lNUdAXkN5DeU1R0BeQ3kN5TVHQF5DeQ3lNUdAXkN5DeU1R0BeQ3kN5TVHQF5DeQ3lNUdAXkN5DeU1R0BeQ3kN5TVHQF5DeQ3lNUdAXkN5DeU1R0BeQ3kN5TVHQF5DeQ3lNUdAXkN5DeU1R0BeQ3kN5TVHQF5DeQ3lNUdAXkN5DeU1R0BeQ3kN5TVHQF5DeQ3lNUdAXkN5DeU1R0BeQ3kN5TVHQF5DeQ3lNUdAXkN5DeU1R0BeQ3kN5TVHQF5DeQ3lNUdAXkN5DeU1R0BeQ3kN5TVHQF5DeQ3lNUdAXkN5DeU1R0BeQ3kN5TVHQF5DeQ3lNUdAXkN5DeU1R0BsKK+hvIZKQGwor6G8hkpAbCivobyGSkBsKK+hvIZKQGwor6G8hkpAbCivobyGSkBsKK+hvIZKQGwor6G8hkpAbCivobyGSkBsKK+hvIZKQGwor6G8hkpAbCivobyGSkBsKK+hvIZKQGwor6G8hkpAbCivobyGSkBsKK+hvIZKQGwor6G8hkpAbCivobyGSkBsKK+hvIZKQGwor6G8hkpAbCivobyGSkBsKK+hvIZKQGwor6G8hkpAbCivobyGSkBsKK+hvIZKQGwor6G8hkpAbCivobyGSkBsKK+hvIZKQGwor6G8hkpAbCivobyGSkBsKK+hvIZKQGwor6G8hkpAbCivobyGSkBsKK+hvIZKQGwor6G8hkpAbCivobyGSkBsKK+hvIZKQGwor6G8hkpAbCivobyGSkBsKK+hvIZKQGwor6G8hkpAbCivobyGSkBsKK+hvIZKQGwor6G8hkpAbCivobyGSkBsKK+hvIZKQGwor6G8hkpAbCivobyGSkBsKK+hvIZKQGwor6G8hkpAeg3lNZTXTUB6DeU1lNdNQHoN5TWU101Aeg3lNZTXTUB6DeU1lNdNQHoN5TWU101Aeg3lNZTXTUB6DeU1lNdNQHoN5TWU101Aeg3lNZTXTUB6DeU1lNdNQHoN5TWU101Aeg3lNZTXTUB6DeU1lNdNQHoN5TWU101Aeg3lNZTXTUB6DeU1lNdNQHoN5TWU101Aeg3lNZTXTUB6DeU1lNdNQHoN5TWU101Aeg3lNZTXTUB6DeU1lNdNQHoN5TWU101Aeg3lNZTXTUB6DeU1lNdNQHoN5TWU101Aeg3lNZTXTUB6DeU1lNdNQHoN5TWU101Aeg3lNZTXTUB6DeU1lNdNQHoN5TWU101Aeg3lNZTXTUB6DeU1lNdNQHoN5TWU101Aeg3lNZTXTUB6DeU1lNdNQHoN5TWU101Aeg3lNZTXTUB6DeU1lNdNQHoN5TWU101Aeg3lNZTXTUB6DeU1lNdNQHoN5TWU101Aeg3lNZTXTUB6DeU1lNdNQHoN5TWU101Aeg3lNZTXTUB6DeU1lNdNQER5DeU1lFBARHkN5TWUUEBEeQ3lNZRQQER5DeU1lFBARHkN5TWUUEBEeQ3lNZRQQER5DeU1lFBARHkN5TWUUEBEeQ3lNZRQQER5DeU1lFBARHkN5TWUUEBEeQ3lNZRQQER5DeU1lFBARHkN5TWUUEBEeQ3lNZRQQER5DeU1lFBARHkN5TWUUEBEeQ3lNZRQQER5DeU1lFBARHkN5TWUUEBEeQ3lNZRQQER5DeU1lFBARHkN5TWUUEBEeQ3lNZRQQER5DeU1lFBARHkN5TWUUEBEeQ3lNZRQQER5DeU1lFBARHkN5TWUUEBEeQ3lNZRQQER5DeU1lFBARHkN5TWUUEBEeQ3lNZRQQER5DeU1lFBARHkN5TWUUEBEeQ3lNZRQQER5DeU1lFBARHkN5TWUUEBEeQ3lNZRQQER5DeU1lFBARHkN5TWUUEBEeQ3lNZRQQER5DeU1lFBARHkN5TWUUEBEeQ3lNZRQQER5DeU1lFBARHkN5TWUUEBEeQ3lNZRQQER5DeU1lFBARHkN5TWUUEDKayivoTxSQMprKK+hPFJAymsor6E8UkDKayivoTxSQMprKK+hPFJAymsor6E8UkDKayivoTxSQMprKK+hPFJAymsor6E8UkDKayivoTxSQMprKK+hPFJAymsor6E8UkDKayivoTxSQMprKK+hPFJAymsor6E8UkDKayivoTxSQMprKK+hPFJAymsor6E8UkDKayivoTxSQMprKK+hPFJAymsor6E8UkDKayivoTxSQMprKK+hPFJAymsor6E8UkDKayivoTxSQMprKK+hPFJAymsor6E8UkDKayivoTxSQMprKK+hPFJAymsor6E8UkDKayivoTxSQMprKK+hPFJAymsor6E8UkDKayivoTxSQMprKK+hPFJAymsor6E8UkDKayivoTxSQMprKK+hPFJAymsor6E8UkDKayivoTxSQMprKK+hPFJAymsor6E8UkDKayivoTxSQMprKK+hPFJAymsor6E8UkDKayivoTxSQMprKK+hPFJAymsor6E8UkDKayivoTxSQMprKK+hPFJAUV5DeQ3lU0BRXkN5DeVTQFFeQ3kN5VNAUV5DeQ3lU0BRXkN5DeVTQFFeQ3kN5VNAUV5DeQ3lU0BRXkN5DeVTQFFeQ3kN5VNAUV5DeQ3lU0BRXkN5DeVTQFFeQ3kN5VNAUV5DeQ3lU0BRXkN5DeVTQFFeQ3kN5VNAUV5DeQ3lU0BRXkN5DeVTQFFeQ3kN5VNAUV5DeQ3lU0BRXkN5DeVTQFFeQ3kN5VNAUV5DeQ3lU0BRXkN5DeVTQFFeQ3kN5VNAUV5DeQ3lU0BRXkN5DeVTQFFeQ3kN5VNAUV5DeQ3lU0BRXkN5DeVTQFFeQ3kN5VNAUV5DeQ3lU0BRXkN5DeVTQFFeQ3kN5VNAUV5DeQ3lU0BRXkN5DeVTQFFeQ3kN5VNAUV5DeQ3lU0BRXkN5DeVTQFFeQ3kN5VNAUV5DeQ3lU0BRXkN5DeVTQFFeQ3kN5VNAUV5DeQ3lU0BRXkN5DeVTQFFeQ3kN5VNAUV5DeQ3lU0BRXkN5DeVTQFFeQ3kN5VNAUV5DeQ3lU0BRXkN5DeVTQNhQXkN5jVVA2FBeQ3mNVUDYUF5DeY1VQNhQXkN5jVVA2FBeQ3mNVUDYUF5DeY1VQNhQXkN5jVVA2FBeQ3mNVUDYUF5DeY1VQNhQXkN5jVVA2FBeQ3mNVUDYUF5DeY1VQNhQXkN5jVVA2FBeQ3mNVUDYUF5DeY1VQNhQXkN5jVVA2FBeQ3mNVUDYUF5DeY1VQNhQXkN5jVVA2FBeQ3mNVUDYUF5DeY1VQNhQXkN5jVVA2FBeQ3mNVUDYUF5DeY1VQNhQXkN5jVVA2FBeQ3mNVUDYUF5DeY1VQNhQXkN5jVVA2FBeQ3mNVUDYUF5DeY1VQNhQXkN5jVVA2FBeQ3mNVUDYUF5DeY1VQNhQXkN5jVVA2FBeQ3mNVUDYUF5DeY1VQNhQXkN5jVVA2FBeQ3mNVUDYUF5DeY1VQNhQXkN5jVVA2FBeQ3mNVUDYUF5DeY1VQNhQXkN5jVVA2FBeQ3mNVUDYUF5DeY1VQNhQXkN5jVVA2FBeQ3mNVUDYUF5DeY1VQNhQXkN5jVVA2FBeQ3mNVUBeQ3kN5TVXQF5DeQ3lNVdAXkN5DeU1V0BeQ3kN5TVXQF5DeQ3lNVdAXkN5DeU1V0BeQ3kN5TVXQF5DeQ3lNVdAXkN5DeU1V0BeQ3kN5TVXQF5DeQ3lNVdAXkN5DeU1V0BeQ3kN5TVXQF5DeQ3lNVdAXkN5DeU1V0BeQ3kN5TVXQF5DeQ3lNVdAXkN5DeU1V0BeQ3kN5TVXQF5DeQ3lNVdAXkN5DeU1V0BeQ3kN5TVXQF5DeQ3lNVdAXkN5DeU1V0BeQ3kN5TVXQF5DeQ3lNVdAXkN5DeU1V0BeQ3kN5TVXQF5DeQ3lNVdAXkN5DeU1V0BeQ3kN5TVXQF5DeQ3lNVdAXkN5DeU1V0BeQ3kN5TVXQF5DeQ3lNVdAXkN5DeU1V0BeQ3kN5TVXQF5DeQ3lNVdAXkN5DeU1V0BeQ3kN5TVXQF5DeQ3lNVdAXkN5DeU1V0BeQ3kN5TVXQF5DeQ3lNVdAXkN5DeU1V0BeQ3kN5TVXQF5DeQ3lNVdAXkN5DeU1V0BeQ3kN5TVXQF5DeQ3lNVdA5TWU11DeWEDlNZTXUN5YQOU1lNdQ3lhA5TWU11DeWEDlNZTXUN5YQOU1lNdQ3lhA5TWU11DeWEDlNZTXUN5YQOU1lNdQ3lhA5TWU11DeWEDlNZTXUN5YQOU1lNdQ3lhA5TWU11DeWEDlNZTXUN5YQOU1lNdQ3lhA5TWU11DeWEDlNZTXUN5YQOU1lNdQ3lhA5TWU11DeWEDlNZTXUN5YQOU1lNdQ3lhA5TWU11DeWEDlNZTXUN5YQOU1lNdQ3lhA5TWU11DeWEDlNZTXUN5YQOU1lNdQ3lhA5TWU11DeWEDlNZTXUN5YQOU1lNdQ3lhA5TWU11DeWEDlNZTXUN5YQOU1lNdQ3lhA5TWU11DeWEDlNZTXUN5YQOU1lNdQ3lhA5TWU11DeWEDlNZTXUN5YQOU1lNdQ3lhA5TWU11DeWEDlNZTXUN5YQOU1lNdQ3lhA5TWU11DeWEDlNZTXUN5YQOU1lNdQ3lhA5TWU11DeWEDlNZTXUN5YQOU1lNdQ3lhA5TWU11DeWEDlNZTXUN5YQGwor6G8hlpAbCivobyGWkBsKK+hvIZaQGwor6G8hlpAbCivobyGWkBsKK+hvIZaQGwor6G8hlpAbCivobyGWkBsKK+hvIZaQGwor6G8hlpAbCivobyGWkBsKK+hvIZaQGwor6G8hlpAbCivobyGWkBsKK+hvIZaQGwor6G8hlpAbCivobyGWkBsKK+hvIZaQGwor6G8hlpAbCivobyGWkBsKK+hvIZaQGwor6G8hlpAbCivobyGWkBsKK+hvIZaQGwor6G8hlpAbCivobyGWkBsKK+hvIZaQGwor6G8hlpAbCivobyGWkBsKK+hvIZaQGwor6G8hlpAbCivobyGWkBsKK+hvIZaQGwor6G8hlpAbCivobyGWkBsKK+hvIZaQGwor6G8hlpAbCivobyGWkBsKK+hvIZaQGwor6G8hlpAbCivobyGWkBsKK+hvIZaQGwor6G8hlpAbCivobyGWkBsKK+hvIZaQGwor6G8hlpAbCivobyGWkBsKK+hvIZaQGwor6G8hlpAbCivobyGWkDzGsprKC9cQPMaymsoL1xA8xrKaygvXEDzGsprKC9cQPMaymsoL1xA8xrKaygvXEDzGsprKC9cQPMaymsoL1xA8xrKaygvXEDzGsprKC9cQPMaymsoL1xA8xrKaygvXEDzGsprKC9cQPMaymsoL1xA8xrKaygvXEDzGsprKC9cQPMaymsoL1xA8xrKaygvXEDzGsprKC9cQPMaymsoL1xA8xrKaygvXEDzGsprKC9cQPMaymsoL1xA8xrKaygvXEDzGsprKC9cQPMaymsoL1xA8xrKaygvXEDzGsprKC9cQPMaymsoL1xA8xrKaygvXEDzGsprKC9cQPMaymsoL1xA8xrKaygvXEDzGsprKC9cQPMaymsoL1xA8xrKaygvXEDzGsprKC9cQPMaymsoL1xA8xrKaygvXEDzGsprKC9cQPMaymsoL1xA8xrKaygvXEDzGsprKC9cQPMaymsoL1xA8xrKaygvXEDzGsprKC9cQPMaymsoL1xA8xrKaygvXEDzGsprKC9cQPMaymsoL1xAeg3lNZTXXUB6DeU1lNddQHoN5TWU111Aeg3lNZTXXUB6DeU1lNddQHoN5TWU111Aeg3lNZTXXUB6DeU1lNddQHoN5TWU111Aeg3lNZTXXUB6DeU1lNddQHoN5TWU111Aeg3lNZTXXUB6DeU1lNddQHoN5TWU111Aeg3lNZTXXUB6DeU1lNddQHoN5TWU111Aeg3lNZTXXUB6DeU1lNddQHoN5TWU111Aeg3lNZTXXUB6DeU1lNddQHoN5TWU111Aeg3lNZTXXUB6DeU1lNddQHoN5TWU111Aeg3lNZTXXUB6DeU1lNddQHoN5TWU111Aeg3lNZTXXUB6DeU1lNddQHoN5TWU111Aeg3lNZTXXUB6DeU1lNddQHoN5TWU111Aeg3lNZTXXUB6DeU1lNddQHoN5TWU111Aeg3lNZTXXUB6DeU1lNddQHoN5TWU111Aeg3lNZTXXUB6DeU1lNddQHoN5TWU111Aeg3lNZTXXUB6DeU1lNddQHoN5TWU111Aeg3lNZTXXUB6DeU1lNddQAAAAAAAgF9AAAAAAACAX0AAAAAAAIBfQAAAAAAAgF9AAAAAAACAX0AAAAAAAIBfQAAAAAAAgF9AAAAAAACAX0AAAAAAAIBfQAAAAAAAgF9AAAAAAACAX0AAAAAAAIBfQAAAAAAAgF9AAAAAAACAX0AAAAAAAIBfQAAAAAAAgF9AAAAAAACAX0AAAAAAAIBfQAAAAAAAgF9AAAAAAACAX0AAAAAAAIBfQAAAAAAAgF9AAAAAAACAX0AAAAAAAIBfQAAAAAAAgF9AAAAAAACAX0AAAAAAAIBfQAAAAAAAgF9AAAAAAACAX0AAAAAAAIBfQAAAAAAAgF9AAAAAAACAX0AAAAAAAIBfQAAAAAAAgF9AAAAAAACAX0AAAAAAAIBfQAAAAAAAgF9AAAAAAACAX0AAAAAAAIBfQAAAAAAAgF9AAAAAAACAX0AAAAAAAIBfQAAAAAAAgF9AAAAAAACAX0AAAAAAAIBfQAAAAAAAgF9AAAAAAACAX0AAAAAAAIBfQAAAAAAAgF9AAAAAAACAX0A=\",\"shape\":\"20, 50\"},\"z\":{\"dtype\":\"f8\",\"bdata\":\"AAAAAAAA+H8AAAAAAAD4fwAAAAAAAPh\\u002fAAAAAAAA+H8AAAAAAAD4fwAAAAAAAPh\\u002fAAAAAAAA+H8AAAAAAAD4fwAAAAAAAPh\\u002fAAAAAAAA+H+0+Iqv+EpaQDCdkOz0PFFA4wpso2JIQECcXuPAvTRLQDMzMzMzQ1FAzjx117G1UUAUkp2eQYZSQClcj8L1iFJAKVyPwvWIUkAAAAAAAAD4fwAAAAAAAPh\\u002fAAAAAAAA+H8AAAAAAAD4fwAAAAAAAPh\\u002fAAAAAAAA+H8AAAAAAAD4fwAAAAAAAPh\\u002fAAAAAAAA+H8AAAAAAAD4fwAAAAAAAPh\\u002fAAAAAAAA+H8AAAAAAAD4fwAAAAAAAPh\\u002fAAAAAAAA+H8AAAAAAAD4fwAAAAAAAPh\\u002fAAAAAAAA+H8AAAAAAAD4fwAAAAAAAPh\\u002fAAAAAAAA+H8AAAAAAAD4fwAAAAAAAPh\\u002fAAAAAAAA+H8AAAAAAAD4fwAAAAAAAPh\\u002fAAAAAAAA+H8AAAAAAAD4fwAAAAAAAPh\\u002fAAAAAAAA+H8AAAAAAAD4fwAAAAAAAPh\\u002fAAAAAAAA+H8AAAAAAAD4fwK\\u002fIKhNzWFA1gXVVondX0AMmdZCML9dQO5b3EXek1xA6YrzuGUKWkAOZN3SySNWQE8CpjpdmVJAwIL5addFTUApuf2ssNtFQHJjTYyEv0BA3AU+q81PQUCIX\\u002fNz9kNGQPIOiui+LUtAcZboZLCPUEAQgobKUhBSQNy4y3LxzFJA3LjLcvHMUkDPCQEYoM1SQJvkIoaJ2VJAs6maWsO7U0DMRkykFpxTQOTj\\u002fe1pfFNAAAAAAAAA+H8AAAAAAAD4fwAAAAAAAPh\\u002fAAAAAAAA+H8AAAAAAAD4fwAAAAAAAPh\\u002fAAAAAAAA+H8AAAAAAAD4fwAAAAAAAPh\\u002fAAAAAAAA+H8AAAAAAAD4fwAAAAAAAPh\\u002fAAAAAAAA+H8AAAAAAAD4fwAAAAAAAPh\\u002fAAAAAAAA+H8AAAAAAAD4fwAAAAAAAPh\\u002fAAAAAAAA+H8AAAAAAAD4fwAAAAAAAPh\\u002fAAAAAAAA+H8AAAAAAAD4fwAAAAAAAPh\\u002fAAAAAAAA+H8AAAAAAAD4fwAAAAAAAPh\\u002fAAAAAAAA+H9DtYzAhFJgQAkOuNF54F1AjrFWIuobW0ARVfVyWldYQJX4k8PKklVAs0ZvsfS7UkBeWB28UylPQCSvEU8oFElA0blJMxslRECSQhTqGhNBQNcGNnDyskBATFUc0IUOQ0AP+8rJDXxGQN5sgoqtOklApkx0GsRiSkAlIK75QbxLQKbz59i\\u002fFU1AJschuD1vTkComluXu8hPQBS3SrsckVBA1KDnqts9UUCUioSamupRQFZ0IYpZl1JAFV6+eRhEU0DWR1tp1\\u002fBTQHZsiMMgmVRAjgk6DXR5VECmputWx1lUQAAAAAAAAPh\\u002fAAAAAAAA+H8AAAAAAAD4fwAAAAAAAPh\\u002fAAAAAAAA+H8AAAAAAAD4fwAAAAAAAPh\\u002fAAAAAAAA+H8AAAAAAAD4fwAAAAAAAPh\\u002fAAAAAAAA+H8AAAAAAAD4fwAAAAAAAPh\\u002fAAAAAAAA+H8AAAAAAAD4fwAAAAAAAPh\\u002fAAAAAAAA+H8AAAAAAAD4fwAAAAAAAPh\\u002fAAAAAAAA+H8AAAAAAAD4f8EolGVGX2BACPXGG\\u002f35XUCMmGVsbTVbQBA8BL3dcFhAxpbe2PDMVUAEutDda1NTQETdwuLm2VBABwFqz8PATEAJxsfnTZ9HQD7QJIfDbUNAiZfN9G0ZQUBgxEYaQbNAQL5PFRgkOEJASSg628PvQ0B\\u002f4f+FWvREQLqaxTDx+EVA8lOL24f9RkAuDVGGHgJIQGTGFjG1BklAnH\\u002fc20sLSkDUOKKG4g9LQA7yZzF5FExARast3A8ZTUAISRI1cydOQIgcTBTxgE9ABfjCeTdtUEDG4V9p9hlRQIbL\\u002fFi1xlFARrWZSHRzUkAHnzY4MyBTQMeI0yfyzFNAh3JwF7F5VEBIXA0HcCZVQFDMJ3bRVlVAAAAAAAAA+H8AAAAAAAD4fwAAAAAAAPh\\u002fAAAAAAAA+H8AAAAAAAD4fwAAAAAAAPh\\u002fAAAAAAAA+H8AAAAAAAD4fwAAAAAAAPh\\u002fAAAAAAAA+H8AAAAAAAD4fwAAAAAAAPh\\u002fAAAAAAAA+H8AAAAAAAD4fwAAAAAAAPh\\u002fQJybCghsYEAF3NVlgBNeQIp\\u002fdLbwTltAC\\u002frZQkbMWEBLHcxHwVJWQIpAvkw82VNAZRi\\u002f5udkUkAeYU+tmcRNQLxB+D\\u002fY2UlAEpPS5eMgRkC2MBy36C5DQECOsZOkJ0FA\\u002fcVN41KwQEBUyb2LXcVBQFhnIakNkkNAHPszHlJiRUCulyMUSwJHQCZWdfxFj0hAGMprKK\\u002fRSUCauFC\\u002fqgxLQDaRym2GxktACHeunq\\u002fzS0Digd2\\u002flERMQE4+UlOtiExAuPrG5sXMTEAitzt63hBNQIxzsA33VE1ASF3D3g6nTUCCFomJpatOQLnPTjQ8sE9AekSKb2laUEAWIe3EtNxQQLH9TxoAX1FAT9qyb0vhUUDrthXFlmNSQPffrvZN\\u002fFJAuMlL5gypU0B4s+jVy1VUQDidhcWKAlVA+IYitUmvVUATjxXfLjRWQAAAAAAAAPh\\u002fAAAAAAAA+H8AAAAAAAD4fwAAAAAAAPh\\u002fAAAAAAAA+H8AAAAAAAD4fwAAAAAAAPh\\u002fAAAAAAAA+H8AAAAAAAD4fxA646cgRV5AFp9D9MBTXUBCMUOp6ZRbQBBeyMXGQFhARtSXPLGqVECPcrOPJStTQIyxViLqi1BA5XPFoPVcTEDY4lBSTN9IQAA+9EYnp0VA9io8JVQJQ0C2jQSmnjhBQJIjmkaHr0BANOMtHHpGQUDlNCIOMdxCQHMIPTkE4ERA6C5Fyv6pRkDKcNCrMXRIQBtILFIzUkpAsOpykFnTS0DEvYtdlVxNQPdbv54dMU9A77S60+oeUECqxPJY+8RQQBBUbNWcb1FAGisQRtoZUkCjdLy2zqZSQFkjmZc7FlNAPMZOkp5tU0CN98LG+39TQHi4dKTIklNARjbrpXm8U0AUtGGnKuZTQAYVWzXnCVRAOnMVf\\u002fMrVEBw0c\\u002fI\\u002f01UQKYvihIMcFRA241EXBiSVEAP7P6lJLRUQERKue8w1lRAeqhzOT34VECvBi6DSRpVQORk6MxVPFVAGsOiFmJeVUCWu7FGWrhVQDKYFJylOlZAaJvUUuLkVkAAAAAAAAD4fwAAAAAAAPh\\u002fB8kRTaPTX0D0nfUPv69eQMhj12rR51xA7CReJSPhWUAhJeXPc19WQOEp1ZY\\u002fU1RAAOBLXB1rUkCwhXbfUHxPQDKxeVi8tEtAhG5n81FWSEBNpSXk7FtFQHCq0BR5BUNADHhzU7BcQUAqY1jUQsxAQJNKZS7rJ0FAqdc4cC+VQkDmz7AR2lxEQBKvkpGALkZA+ERDVHm7R0AVQ4RVo7pJQMEaIWFqL0tAWL1nn5CwTECrYwAJnBROQPiXa7dt1E9AeXVjFcODUEAe2YV+zBlRQIGKrZrzxFFAi2FRCzFvUkA4eu9A9w9TQO0ozCFkf1NAoteoAtHuU0CvmlcQPQdUQAHMy0SaGVRAi0d6q4A8VEBZxfCsMWZUQETtlu0xjFRAeUtRNz6uVECvqQuBStBUQOMHxspW8lRAGGaAFGMUVUBOxDpebzZVQIMi9ad7WFVAuICv8Yd6VUDt3mk7lJxVQCQ9JIWgvlVAWJvezqzgVUBrUwLtMRFWQJnth3JIXFZAxocN+F6nVkDzIZN9dfJWQBtX1VpvTl9A\\u002fG3Qbq+2XEC066yQqLRbQHYTrBBjGllAqhMzu7OYVUCc6rGXh49TQB49vXrU11FAlidFxUWdTkC\\u002fbKZvyyBLQCL5nb1G7kdAm52P21cwRUAJ6yOIwAtDQKSBFNoZiEFAdwYcJEf0QEDP51J4GjlBQLNR9PG2dUJAXsRtM1v7Q0D\\u002ffuTAb5JFQFSB808RDkdA7b\\u002fbeBX5SEA6qmyGlC5KQNFMs8S6r0tAvksy0JT5TEC49tLuf4VOQLJJLmKYuE9AxXsTsclvUEAOmeyrkxpRQBlwkBzRxFFAmfpOZ3s6UkBS7mKlV5tSQKQf19m0rVJAI3Qq69jJUkDx8aDsifNSQOjRXQAFGFNAHjAYShE6U0BTjtKTHVxTQIjsjN0pflNAvkpHJzagU0D0qAFxQsJTQCgHvLpO5FNAXmV2BFsGVECTwzBOZyhUQJrt8YdGc1RAx4d3DV2+VED2If2ScwlVQCS8ghiKVFVAUVYInqCfVUB\\u002f8I0jt+pVQK2KE6nNNVZA2ySZLuSAVkAu5ZhoO8leQCKYjQvnuFtAoHOCtn+BWkDLgLutWedXQDQCgabz0VRAVauOmM\\u002fLUkBokTuvcyVRQNzL2cBUwE1AVi6k0wJ9SkDAg9SHO4ZHQNisboP\\u002fBUVAHylkfGsOQ0A8i7Vgg7NBQMSp33NLHEFAYu73y2JQQUB6CWaJnFhCQNW4KlXcmUNAdJ6H27QIRUCxvaNLqWBGQJ56wBMbDUhAcP3eEVwuSUBI3P7p5K5KQNAzZJeN3ktAd1U6JpI2TUDekECPOWZOQNo8QseNi09Am6crvTNwUEBEzNGskvVQQEZz4m7PQVFAuqDaKjFXUUCIHlEs4oBRQI22JBPYo1FAwxTfXOTFUUD4cpmm8OdRQCzRU\\u002fD8CVJAYi8OOgksUkCXjciDFU5SQJ3tW51EilJAyofhIlvVUkD4IWeocSBTQCW87C2Ia1NAU1Zys562U0CC8Pc4tQFUQK+Kfb7LTFRA3CQDROKXVEAKv4jJ+OJUQDhZDk8PLlVAZvOT1CV5VUCUjRlaPMRVQMInn99SD1ZAQnNcdgdEXkA0JlEZszNbQJHBg188rVhAtwiR0zC0VkC+8M6RMwtUQA9sa5kXCFJAs+W54xJzUEAhcG68Y+NMQFiPSPEtzUlAXw4LUjAeR0AWvE0rp9tEQDVnpHAWEUNANAtEtOPYQUASTaPDT0RBQPb0nB+rZ0FAQsHXIII7QkBNred2XThDQFKmmGkLhERADvpTR0GzRUBPNaWuICFHQCG4w6xhQkhAwGtKDw+uSUDiG5ZehsNKQDa0oV2k50tALNZb9DMSTUA+vo27LDdOQN07qeRTYU9Ac\\u002fDDcI7QT0D8PDHcng1QQDGb6yWrL1BAZvmlb7dRUECcV2C5w3NQQJ7txbJCoVBAzYdLOFnsUED6IdG9bzdRQCi8VkOGglFAVFbcyJzNUUCE8GFOsxhSQLGK59PJY1JA3iRtWeCuUkAMv\\u002fLe9vlSQDpZeGQNRVNAaPP96SOQU0CWjYNvOttTQMMnCfVQJlRA8cGOemdxVEAfXBQAfrxUQE32mYWUB1VAepAfC6tSVUCpKqWQwZ1VQFQBIITTvl1ARrQUJ3+uWkA6ZwnKKp5XQKKQZvkHgVVAMCrPBy5lU0Bm2\\u002f\\u002fmYnBRQPlzcDBkgU9AZxQDuHIGTEBa8OwOWR1JQPyYQRwltkZAVMss006xREBMpeRkwRNDQPKqXuPA\\u002fUFAX\\u002fBmE1RsQUCJ+0Fz835BQAt5SbhnHkJAJQTVy9TnQkAwrqn3Yf9DQGs2BEPZBUVAAfCJSSY1RkDScqhHZ1ZHQHcGHCRHlEhA9APIJX+oSUAw5J\\u002flmahKQHsbd1kuvktANd+ub4LXTEBBQ\\u002fDd4zJNQKv\\u002fZHH8dk1AnQ9rm64GTkD5Q3am25xOQFJ4gbEIM09AsKyMvDXJT0CG8MtjsS9QQLOKUenHelBA4iTXbt7FUEAOv1z09BBRQDxZ4nkLXFFAavNn\\u002fyGnUUCYje2EOPJRQMYncwpPPVJA88H4j2WIUkAhXH4VfNNSQE72A5uSHlNAfJCJIKlpU0CqKg+mv7RTQNjElCvW\\u002f1NABl8asexKVEA0+Z82A5ZUQGGTJbwZ4VRAjy2rQTAsVUBmj+ORnzldQFpC2DRLKVpATvXM1\\u002fYYV0AtNzjbL7NUQD\\u002fDu7PB\\u002f1JAdnTskvYKUUACkJR3mI5OQH52AbGpdEtA8HQrcwutSEBCc\\u002fMehnpGQIWLXOaQnkRAdltPM5UpQ0C7YtB6pjBCQAyLWoj5o0FA9zGDOEqsQUD5K6b0FypCQJpWOthf4kJAGPLP8kzEQ0CSi8rzgatEQL\\u002fQV3DOrUVAkFN2bg\\u002fPRkBt3GW5eOBHQGTn9vBE7EhAoMfOsF\\u002fsSUDwwO5fSuJKQCZTaBlukktAs6xg5zH3S0AQ4WvyXo1MQGwVd\\u002f2LI01AxkmCCLm5TUAifo0T5k9OQH6ymB4T5k5A2uajKUB8T0CajVeaNglQQMgn3R9NVFBA9cFipWOfUEAkXOgqeupQQFL2bbCQNVFAgJDzNaeAUUCtKnm7vctRQNrE\\u002fkDUFlJACV+ExuphUkA2+QlMAa1SQGSTj9EX+FJAki0VVy5DU0DAx5rcRI5TQOxhIGJb2VNAGvyl53EkVEBJlittiG9UQHYwsfKeulRAeh2nn2u0XEBs0JtCF6RZQGGDkOXCk1ZA+gMFqPxjVEDAMx2jtrlSQAbkz8HB0FBAVvxpFEAqTkDaBcSm0kBLQPulqu8mjEhAG3E\\u002faG52RkDkKLH\\u002fU6lEQLknbxJcV0NAjviulBZ1QkDyGsprKO9BQDmkxwsz9UFA2Jgof8VoQkDApDd3uxxDQA7BUHYx5UNAt3\\u002fshv+4REALIQnGQaRFQN2jJ8SCxUZAwZtNULGtR0A0O6uQHbhIQETl+cClpklAld4ZcJCcSkDSsUvaKz9LQBjbkComuktApnvCSpkZTEDEp4HcEG1MQJRPjmqW1kxA8YOZdcNsTUBMuKSA8AJOQKjsr4sdmU5AAiG7lkovT0BdVcahd8VPQN3EaFbSLVBACl\\u002fu2+h4UEA4+XNh\\u002f8NQQGaT+eYVD1FAlC1\\u002fbCxaUUDBxwTyQqVRQO9hindZ8FFAHfwP\\u002fW87UkBLlpWChoZSQHgwGwid0VJApsqgjbMcU0DUZCYTymdTQAL\\u002fq5jgslNAMJkxHvf9U0BdM7ejDUlUQI2raq03L1xAgF5fUOMeWUC8zrxWFgtWQMbQ0XTJFFRAP1ZdDjJrUkCVU7PwjJZQQKloP7HnxU1ANpWGnPsMS0AH1ylsQmtIQPNui7FWckZARMYFGRe0RED8847xIoVDQGKOja6GuUJA2Ko5T1c6QkBJPAVsKT5CQLUFqwlzp0JADIqrPFxKQ0ACkNH5FQZEQNtzDhp9xkRAWXG6G7WaRUAq9NgZ9rtGQLl3sauSe0dAiPqSJ1aFSEDoAiXR62BJQDn8RIDWVkpAL3WmJlLpSkCtzC00aGpLQETdgWO74UtAnqyWN0ZITEC2wO2w\\u002fpxMQOBOdrOL8ExA\\u002fhHUTRRGTUB18rvt+rVNQM8mx\\u002fgnTE5AK1vSA1XiTkCGj90OgnhPQPFh9IxXB1BAIPx5Em5SUEBNlv+XhJ1QQHswhR2b6FBAqMoKo7EzUUDWZJAoyH5RQAT\\u002fFa7eyVFAMpmbM\\u002fUUUkBgMyG5C2BSQIzNpj4iq1JAumcsxDj2UkDoAbJJT0FTQBacN89ljFNARDa9VHzXU0CgOS67A6pbQJPsIl6vmVhAKqsiEI9\\u002fVUCTnZ5BlsVTQL14nXmtHFJAJsOWH1hcUED+1BROj2FNQJIkSZIk2UpAEgip6F1KSEDLbNf6Pm5GQKNjWjLavkRAPsCu0OmyQ0DeDMo6nftCQL86qTKGhUJAWNXxF72IQkCSci2UIOZCQIEvI0N4dkNA915SffomREAAaDCt+tNEQKbBa3EokUVAeESKb2myRkA\\u002fvd5vj11HQNu5er6OUkhAjSBQ4TEbSUDT3PkJHw5KQP9+MvOjkkpA51m2d3QRS0CGYdcGNphLQG\\u002ffcpxQCUxAwp5aM4lyTED73q3ANs5MQMYFGRdkIE1A\\u002fPVqigZ0TUAaucgkj8lNQDl8Jr8XH05AVZXpcF+VTkCwyfR7jCtPQA3+\\u002f4a5wU9ANZkFSfMrUEBhM4vOCXdQQJDNEFQgwlBAvWeW2TYNUUDrARxfTVhRQBicoeRjo1FARjYnanruUUB00KzvkDlSQKFqMnWnhFJA0AS4+r3PUkD+nj2A1BpTQCw5wwXrZVNAs8fxyM8kW0CneuZrexRYQLdt27ZtG1VAX2prDmN2U0A6m93kKM5RQLYyek4jIlBAUkHq6jb9TEDuswuITaVKQB45KGV5KUhAo2ojRCdqRkBcXNnqyM9EQIGMzq+w4ENAv7Yy3uk6Q0CkyhgWtdBCQGhu3sNQ00JAcd+vHs4kQ0D21JpJlKJDQOwt0wDfR0RAJFxSQHjhRED0ER3Hm4dFQIdxij+NokZAxAIMNIw\\u002fR0AueWJVxx9IQDE+e\\u002fF31UhAKgRP0M+2SUBWpoe5VDtKQNL+gJCKvkpAZHR+hQU+S0DMIuypNcNLQJnhY9XlMExAdKTIun6aTECvY4u9TfxMQAovIeXgU01A1kpEfcmjTUAZnV9hgfdNQDZgvfsJTU5AVSMblpKiTkBz5ngwG\\u002fhOQDY4F\\u002fTDdE9ASDaRf3gFUEB20BYFj1BQQKRqnIqlm1BA0QQiELzmUED\\u002fnqeV0jFRQC05LRvpfFFAW9OyoP\\u002fHUUCJbTgmFhNSQLcHvqssXlJA5KFDMUOpUkASPMm2WfRSQMZVtdabn1pAXmdeK4uNV0CEOqiDOsxUQC03ONsvJ1NAuL0dUKR\\u002fUUCMRLv63M9PQKWtv4femExASkPOfXZxSkAm\\u002f2lRwg9IQHtob40PZkZAY8sPLI7uREDEWO6Odw5EQJ9gm4E2ekNAnB1NcLMbQ0B4B8tv5B1DQFj94JYMY0NAa3oSULDOQ0CCPMmY92dEQElQdNP17kRAQmLOHA9+RUAOt7cDioRGQEpIOfiIIUdAgjhK7P\\u002fsR0DWW6YBvo9IQIMrpJaAX0lArs3cfwXkSUDoQchjsGlKQECHJQTV40pAPQkoWNNrS0D3JN3iyupLQMPjVA57WExAKKo2QnTCTEBi6Gi6ZCpNQAyWokY+gk1AG3RMS0bXTUDmj2\\u002fjLidOQDREVDj8ek5AUgey0oTQTkBwyg9tDSZPQI6NbQeWe09ArFDLoR7RT0CLbaI7FCpQQLgHKMEqdVBA5qGtRkHAUEAUPDPMVwtRQELWuFFuVlFAb3A+14ShUUCeCsRcm+xRQMukSeKxN1JA+T7PZ8iCUkDZ43jkZxpaQMxDxOQDAldAUQd1UAd9VEDSHEzogNhSQDbgXbsfMVFAqyOCWHNbT0BpWx6oIURMQKbSkHOfPUpAZb33DO\\u002f+R0BTZrvW92FGQGk6Rm1TDUVAiHzS\\u002fdE8RECACgQlg7lDQLkA4ax1ZkNAh6C3G3hoQ0CLuUPLIqFDQOAfilbM+kNAbOGTsQ2BREBuRJZmc\\u002fxEQAYfMSoMekVAk\\u002fzkx4ZmRkDRjWa8hQNHQNT3MYM4ukdAennREQRKSEDbUvlcMQhJQAb1MUa2jElAyh2BLyMTSkDopust05BKQBocz9aiEUtAFp7RKqGZS0AiJ84bYBJMQO\\u002flRUcQgExA2q+kyWnqTEBc6kxNpFJNQMAagENVsE1Aasi5zy4ITkAquXexq1pOQPXUmkmUqk5AUetID3f+TkBvrqap\\u002f1NPQIxxBESIqU9AqzRi3hD\\u002fT0Dk+1+8TCpQQHTdjgkRVVBA+z45fcaZUEAo2b4C3eRQQFZzRIjzL1FAhA3KDQp7UUCyp0+TIMZRQOBB1Rg3EVJA7HE88jOVWUA6ICqefHZWQB3UQR3ULVRAUD+MU\\u002fyJUkC1Ap4mm+JQQGt+kfyn5U5AmjR2z3b6S0DuXD1fRwVKQKV7hcgb7kdALGQHIOBdRkBvqXyuGCxFQOcZJxeVa0RAX7RsyM\\u002f4Q0DW43TpN7FDQJc5pMcLs0NAvnWm\\u002fzjfQ0BVxQFd6CZEQFeGXsojmkRAkji4+fAJRUArE1O9iYdFQBhCEoyDSEZAWNOTgILlRkAptxkacYdHQDfwEPR2C0hAMXpOI+KwSEBeHIcMZzVJQK\\u002f5OfuVvElA00u2Ruk9SkD2LnZVcrdKQPOweKlwP0tA7jJ7\\u002fW7HS0BNKb9U9TlMQBnoNoClp0xAi7USUV8STUAQ8LrUmXpNQHOfXUBs3k1AHU2XzEU2TkDG+tBYH45OQDr+ohcR3k5ABRrGr\\u002fktT0Btkj3m8YFPQItVm4B6109AVIx8jYEWUEDkbavaRUFQQHJP2icKbFBAAjEJdc6WUECREjjCksFQQGsQ0L54CVFAmKpVRI9UUUDHRNvJpZ9RQAAAAAAAEFlAqPyPV\\u002fXqVUDqoA7qoN5TQM5hzL53O1JAMyXekRaUUEBnwxHTnkhOQMwNzvbLsEtAIDaVhpy7SUDkOROESN1HQCSY6O9kVUZAdBiz791KRUB4OQUvp6BEQEBe1WscOERA88YIJvr7Q0Cm0pBzn\\u002f1DQPIxCTRPHURAymp5YwRTREBCKynjObNEQLSu3OBsH0VATwd1UAeVRUCfhz9QgCpGQN4YwUR\\u002fx0ZAfHYBsalUR0CKr\\u002fiKr9hHQIqho+mSWUhAtkPc0hfeSECU1fLGCGZJQKAO6qAO6klA\\u002f05WyxtjSkDQwx8oQOVKQMxFInw+bUtArGw4YtrzS0B4K7CNimFMQEPqJ7k6z0xAP7uA2FQ6TUDC9Shcj6JNQEYw0d\\u002fJCk5A0dF0yVxkTkB6f65VNrxOQH8nq+WNEU9ASkPOfXZhT0AVX\\u002fEVX7FPQMQcmV62AlBAU\\u002f7Hq3otUEDi3\\u002fb4PlhQQHLBJUYDg1BAAKNUk8etUECQhIPgi9hQQB9msi1QA1FArkfhehQuUUA=\",\"shape\":\"20, 50\"},\"type\":\"surface\",\"scene\":\"scene2\"}],                        {\"template\":{\"data\":{\"histogram2dcontour\":[{\"type\":\"histogram2dcontour\",\"colorbar\":{\"outlinewidth\":0,\"ticks\":\"\"},\"colorscale\":[[0.0,\"#0d0887\"],[0.1111111111111111,\"#46039f\"],[0.2222222222222222,\"#7201a8\"],[0.3333333333333333,\"#9c179e\"],[0.4444444444444444,\"#bd3786\"],[0.5555555555555556,\"#d8576b\"],[0.6666666666666666,\"#ed7953\"],[0.7777777777777778,\"#fb9f3a\"],[0.8888888888888888,\"#fdca26\"],[1.0,\"#f0f921\"]]}],\"choropleth\":[{\"type\":\"choropleth\",\"colorbar\":{\"outlinewidth\":0,\"ticks\":\"\"}}],\"histogram2d\":[{\"type\":\"histogram2d\",\"colorbar\":{\"outlinewidth\":0,\"ticks\":\"\"},\"colorscale\":[[0.0,\"#0d0887\"],[0.1111111111111111,\"#46039f\"],[0.2222222222222222,\"#7201a8\"],[0.3333333333333333,\"#9c179e\"],[0.4444444444444444,\"#bd3786\"],[0.5555555555555556,\"#d8576b\"],[0.6666666666666666,\"#ed7953\"],[0.7777777777777778,\"#fb9f3a\"],[0.8888888888888888,\"#fdca26\"],[1.0,\"#f0f921\"]]}],\"heatmap\":[{\"type\":\"heatmap\",\"colorbar\":{\"outlinewidth\":0,\"ticks\":\"\"},\"colorscale\":[[0.0,\"#0d0887\"],[0.1111111111111111,\"#46039f\"],[0.2222222222222222,\"#7201a8\"],[0.3333333333333333,\"#9c179e\"],[0.4444444444444444,\"#bd3786\"],[0.5555555555555556,\"#d8576b\"],[0.6666666666666666,\"#ed7953\"],[0.7777777777777778,\"#fb9f3a\"],[0.8888888888888888,\"#fdca26\"],[1.0,\"#f0f921\"]]}],\"contourcarpet\":[{\"type\":\"contourcarpet\",\"colorbar\":{\"outlinewidth\":0,\"ticks\":\"\"}}],\"contour\":[{\"type\":\"contour\",\"colorbar\":{\"outlinewidth\":0,\"ticks\":\"\"},\"colorscale\":[[0.0,\"#0d0887\"],[0.1111111111111111,\"#46039f\"],[0.2222222222222222,\"#7201a8\"],[0.3333333333333333,\"#9c179e\"],[0.4444444444444444,\"#bd3786\"],[0.5555555555555556,\"#d8576b\"],[0.6666666666666666,\"#ed7953\"],[0.7777777777777778,\"#fb9f3a\"],[0.8888888888888888,\"#fdca26\"],[1.0,\"#f0f921\"]]}],\"surface\":[{\"type\":\"surface\",\"colorbar\":{\"outlinewidth\":0,\"ticks\":\"\"},\"colorscale\":[[0.0,\"#0d0887\"],[0.1111111111111111,\"#46039f\"],[0.2222222222222222,\"#7201a8\"],[0.3333333333333333,\"#9c179e\"],[0.4444444444444444,\"#bd3786\"],[0.5555555555555556,\"#d8576b\"],[0.6666666666666666,\"#ed7953\"],[0.7777777777777778,\"#fb9f3a\"],[0.8888888888888888,\"#fdca26\"],[1.0,\"#f0f921\"]]}],\"mesh3d\":[{\"type\":\"mesh3d\",\"colorbar\":{\"outlinewidth\":0,\"ticks\":\"\"}}],\"scatter\":[{\"fillpattern\":{\"fillmode\":\"overlay\",\"size\":10,\"solidity\":0.2},\"type\":\"scatter\"}],\"parcoords\":[{\"type\":\"parcoords\",\"line\":{\"colorbar\":{\"outlinewidth\":0,\"ticks\":\"\"}}}],\"scatterpolargl\":[{\"type\":\"scatterpolargl\",\"marker\":{\"colorbar\":{\"outlinewidth\":0,\"ticks\":\"\"}}}],\"bar\":[{\"error_x\":{\"color\":\"#2a3f5f\"},\"error_y\":{\"color\":\"#2a3f5f\"},\"marker\":{\"line\":{\"color\":\"#E5ECF6\",\"width\":0.5},\"pattern\":{\"fillmode\":\"overlay\",\"size\":10,\"solidity\":0.2}},\"type\":\"bar\"}],\"scattergeo\":[{\"type\":\"scattergeo\",\"marker\":{\"colorbar\":{\"outlinewidth\":0,\"ticks\":\"\"}}}],\"scatterpolar\":[{\"type\":\"scatterpolar\",\"marker\":{\"colorbar\":{\"outlinewidth\":0,\"ticks\":\"\"}}}],\"histogram\":[{\"marker\":{\"pattern\":{\"fillmode\":\"overlay\",\"size\":10,\"solidity\":0.2}},\"type\":\"histogram\"}],\"scattergl\":[{\"type\":\"scattergl\",\"marker\":{\"colorbar\":{\"outlinewidth\":0,\"ticks\":\"\"}}}],\"scatter3d\":[{\"type\":\"scatter3d\",\"line\":{\"colorbar\":{\"outlinewidth\":0,\"ticks\":\"\"}},\"marker\":{\"colorbar\":{\"outlinewidth\":0,\"ticks\":\"\"}}}],\"scattermap\":[{\"type\":\"scattermap\",\"marker\":{\"colorbar\":{\"outlinewidth\":0,\"ticks\":\"\"}}}],\"scattermapbox\":[{\"type\":\"scattermapbox\",\"marker\":{\"colorbar\":{\"outlinewidth\":0,\"ticks\":\"\"}}}],\"scatterternary\":[{\"type\":\"scatterternary\",\"marker\":{\"colorbar\":{\"outlinewidth\":0,\"ticks\":\"\"}}}],\"scattercarpet\":[{\"type\":\"scattercarpet\",\"marker\":{\"colorbar\":{\"outlinewidth\":0,\"ticks\":\"\"}}}],\"carpet\":[{\"aaxis\":{\"endlinecolor\":\"#2a3f5f\",\"gridcolor\":\"white\",\"linecolor\":\"white\",\"minorgridcolor\":\"white\",\"startlinecolor\":\"#2a3f5f\"},\"baxis\":{\"endlinecolor\":\"#2a3f5f\",\"gridcolor\":\"white\",\"linecolor\":\"white\",\"minorgridcolor\":\"white\",\"startlinecolor\":\"#2a3f5f\"},\"type\":\"carpet\"}],\"table\":[{\"cells\":{\"fill\":{\"color\":\"#EBF0F8\"},\"line\":{\"color\":\"white\"}},\"header\":{\"fill\":{\"color\":\"#C8D4E3\"},\"line\":{\"color\":\"white\"}},\"type\":\"table\"}],\"barpolar\":[{\"marker\":{\"line\":{\"color\":\"#E5ECF6\",\"width\":0.5},\"pattern\":{\"fillmode\":\"overlay\",\"size\":10,\"solidity\":0.2}},\"type\":\"barpolar\"}],\"pie\":[{\"automargin\":true,\"type\":\"pie\"}]},\"layout\":{\"autotypenumbers\":\"strict\",\"colorway\":[\"#636efa\",\"#EF553B\",\"#00cc96\",\"#ab63fa\",\"#FFA15A\",\"#19d3f3\",\"#FF6692\",\"#B6E880\",\"#FF97FF\",\"#FECB52\"],\"font\":{\"color\":\"#2a3f5f\"},\"hovermode\":\"closest\",\"hoverlabel\":{\"align\":\"left\"},\"paper_bgcolor\":\"white\",\"plot_bgcolor\":\"#E5ECF6\",\"polar\":{\"bgcolor\":\"#E5ECF6\",\"angularaxis\":{\"gridcolor\":\"white\",\"linecolor\":\"white\",\"ticks\":\"\"},\"radialaxis\":{\"gridcolor\":\"white\",\"linecolor\":\"white\",\"ticks\":\"\"}},\"ternary\":{\"bgcolor\":\"#E5ECF6\",\"aaxis\":{\"gridcolor\":\"white\",\"linecolor\":\"white\",\"ticks\":\"\"},\"baxis\":{\"gridcolor\":\"white\",\"linecolor\":\"white\",\"ticks\":\"\"},\"caxis\":{\"gridcolor\":\"white\",\"linecolor\":\"white\",\"ticks\":\"\"}},\"coloraxis\":{\"colorbar\":{\"outlinewidth\":0,\"ticks\":\"\"}},\"colorscale\":{\"sequential\":[[0.0,\"#0d0887\"],[0.1111111111111111,\"#46039f\"],[0.2222222222222222,\"#7201a8\"],[0.3333333333333333,\"#9c179e\"],[0.4444444444444444,\"#bd3786\"],[0.5555555555555556,\"#d8576b\"],[0.6666666666666666,\"#ed7953\"],[0.7777777777777778,\"#fb9f3a\"],[0.8888888888888888,\"#fdca26\"],[1.0,\"#f0f921\"]],\"sequentialminus\":[[0.0,\"#0d0887\"],[0.1111111111111111,\"#46039f\"],[0.2222222222222222,\"#7201a8\"],[0.3333333333333333,\"#9c179e\"],[0.4444444444444444,\"#bd3786\"],[0.5555555555555556,\"#d8576b\"],[0.6666666666666666,\"#ed7953\"],[0.7777777777777778,\"#fb9f3a\"],[0.8888888888888888,\"#fdca26\"],[1.0,\"#f0f921\"]],\"diverging\":[[0,\"#8e0152\"],[0.1,\"#c51b7d\"],[0.2,\"#de77ae\"],[0.3,\"#f1b6da\"],[0.4,\"#fde0ef\"],[0.5,\"#f7f7f7\"],[0.6,\"#e6f5d0\"],[0.7,\"#b8e186\"],[0.8,\"#7fbc41\"],[0.9,\"#4d9221\"],[1,\"#276419\"]]},\"xaxis\":{\"gridcolor\":\"white\",\"linecolor\":\"white\",\"ticks\":\"\",\"title\":{\"standoff\":15},\"zerolinecolor\":\"white\",\"automargin\":true,\"zerolinewidth\":2},\"yaxis\":{\"gridcolor\":\"white\",\"linecolor\":\"white\",\"ticks\":\"\",\"title\":{\"standoff\":15},\"zerolinecolor\":\"white\",\"automargin\":true,\"zerolinewidth\":2},\"scene\":{\"xaxis\":{\"backgroundcolor\":\"#E5ECF6\",\"gridcolor\":\"white\",\"linecolor\":\"white\",\"showbackground\":true,\"ticks\":\"\",\"zerolinecolor\":\"white\",\"gridwidth\":2},\"yaxis\":{\"backgroundcolor\":\"#E5ECF6\",\"gridcolor\":\"white\",\"linecolor\":\"white\",\"showbackground\":true,\"ticks\":\"\",\"zerolinecolor\":\"white\",\"gridwidth\":2},\"zaxis\":{\"backgroundcolor\":\"#E5ECF6\",\"gridcolor\":\"white\",\"linecolor\":\"white\",\"showbackground\":true,\"ticks\":\"\",\"zerolinecolor\":\"white\",\"gridwidth\":2}},\"shapedefaults\":{\"line\":{\"color\":\"#2a3f5f\"}},\"annotationdefaults\":{\"arrowcolor\":\"#2a3f5f\",\"arrowhead\":0,\"arrowwidth\":1},\"geo\":{\"bgcolor\":\"white\",\"landcolor\":\"#E5ECF6\",\"subunitcolor\":\"white\",\"showland\":true,\"showlakes\":true,\"lakecolor\":\"white\"},\"title\":{\"x\":0.05},\"mapbox\":{\"style\":\"light\"}}},\"scene\":{\"domain\":{\"x\":[0.0,0.45],\"y\":[0.575,1.0]},\"camera\":{\"eye\":{\"x\":1.5,\"y\":1.5,\"z\":1.5}},\"xaxis\":{\"title\":{\"text\":\"Strike Price ($)\"}},\"yaxis\":{\"title\":{\"text\":\"Days to Expiry\"}},\"zaxis\":{\"title\":{\"text\":\"Implied Volatility (%)\"}}},\"xaxis\":{\"anchor\":\"y\",\"domain\":[0.55,1.0],\"title\":{\"text\":\"Strike Price ($)\"}},\"yaxis\":{\"anchor\":\"x\",\"domain\":[0.575,1.0],\"title\":{\"text\":\"Implied Volatility (%)\"}},\"xaxis2\":{\"anchor\":\"y2\",\"domain\":[0.0,0.45],\"title\":{\"text\":\"Days to Expiry\"}},\"yaxis2\":{\"anchor\":\"x2\",\"domain\":[0.0,0.425],\"title\":{\"text\":\"ATM Implied Volatility (%)\"}},\"scene2\":{\"domain\":{\"x\":[0.55,1.0],\"y\":[0.0,0.425]},\"camera\":{\"eye\":{\"x\":1.5,\"y\":1.5,\"z\":1.5}},\"xaxis\":{\"title\":{\"text\":\"Moneyness (K\\u002fS)\"}},\"yaxis\":{\"title\":{\"text\":\"Days to Expiry\"}},\"zaxis\":{\"title\":{\"text\":\"Implied Volatility (%)\"}}},\"annotations\":[{\"font\":{\"size\":16},\"showarrow\":false,\"text\":\"Volatility Surface (3D)\",\"x\":0.225,\"xanchor\":\"center\",\"xref\":\"paper\",\"y\":1.0,\"yanchor\":\"bottom\",\"yref\":\"paper\"},{\"font\":{\"size\":16},\"showarrow\":false,\"text\":\"IV vs Strike (by Expiry)\",\"x\":0.775,\"xanchor\":\"center\",\"xref\":\"paper\",\"y\":1.0,\"yanchor\":\"bottom\",\"yref\":\"paper\"},{\"font\":{\"size\":16},\"showarrow\":false,\"text\":\"Term Structure (ATM)\",\"x\":0.225,\"xanchor\":\"center\",\"xref\":\"paper\",\"y\":0.425,\"yanchor\":\"bottom\",\"yref\":\"paper\"},{\"font\":{\"size\":16},\"showarrow\":false,\"text\":\"Moneyness Surface\",\"x\":0.775,\"xanchor\":\"center\",\"xref\":\"paper\",\"y\":0.425,\"yanchor\":\"bottom\",\"yref\":\"paper\"}],\"title\":{\"text\":\"Comprehensive Volatility Surface Analysis - 10 Expiries\"},\"height\":1200,\"showlegend\":true},                        {\"responsive\": true}                    ).then(function(){\n",
       "                            \n",
       "var gd = document.getElementById('0a8d4441-b2db-4ba2-bd7c-9cdf1e88954e');\n",
       "var x = new MutationObserver(function (mutations, observer) {{\n",
       "        var display = window.getComputedStyle(gd).display;\n",
       "        if (!display || display === 'none') {{\n",
       "            console.log([gd, 'removed!']);\n",
       "            Plotly.purge(gd);\n",
       "            observer.disconnect();\n",
       "        }}\n",
       "}});\n",
       "\n",
       "// Listen for the removal of the full notebook cells\n",
       "var notebookContainer = gd.closest('#notebook-container');\n",
       "if (notebookContainer) {{\n",
       "    x.observe(notebookContainer, {childList: true});\n",
       "}}\n",
       "\n",
       "// Listen for the clearing of the current output cell\n",
       "var outputEl = gd.closest('.output');\n",
       "if (outputEl) {{\n",
       "    x.observe(outputEl, {childList: true});\n",
       "}}\n",
       "\n",
       "                        })                };            </script>        </div>"
      ]
     },
     "metadata": {},
     "output_type": "display_data"
    },
    {
     "name": "stdout",
     "output_type": "stream",
     "text": [
      "\n",
      "💾 Surface data saved to: volatility_surface_data.csv\n"
     ]
    }
   ],
   "source": [
    "# Volatility Surface Construction from Daily Distributions\n",
    "import plotly.graph_objects as go\n",
    "from plotly.subplots import make_subplots\n",
    "import pandas as pd\n",
    "\n",
    "def create_volatility_surface(results):\n",
    "    \"\"\"Create comprehensive volatility surface from daily PDF distributions\"\"\"\n",
    "    \n",
    "    if not results or len(results) < 2:\n",
    "        print(\"Need at least 2 expiries to create a surface. Please run the main analysis first.\")\n",
    "        return None\n",
    "    \n",
    "    print(f\"🏗️ Constructing volatility surface from {len(results)} expiries...\")\n",
    "    \n",
    "    # Extract data for surface construction\n",
    "    surface_data = []\n",
    "    \n",
    "    for result in results:\n",
    "        expiry_str = result['expiry_str']\n",
    "        strikes = result['strikes']\n",
    "        ivs = result['ivs']\n",
    "        spot = result['spot']\n",
    "        \n",
    "        # Calculate days to expiry\n",
    "        days_to_expiry = (result['expiry'] - results[0]['expiry']) / (1000 * 60 * 60 * 24)\n",
    "        \n",
    "        # Calculate moneyness (Strike/Spot)\n",
    "        moneyness = strikes / spot\n",
    "        \n",
    "        for strike, iv, money in zip(strikes, ivs, moneyness):\n",
    "            surface_data.append({\n",
    "                'expiry_str': expiry_str,\n",
    "                'days_to_expiry': days_to_expiry,\n",
    "                'strike': strike,\n",
    "                'iv': iv * 100,  # Convert to percentage\n",
    "                'moneyness': money,\n",
    "                'spot': spot\n",
    "            })\n",
    "    \n",
    "    # Convert to DataFrame for easier manipulation\n",
    "    df = pd.DataFrame(surface_data)\n",
    "    \n",
    "    print(f\"📊 Surface data: {len(df)} points across {len(results)} expiries\")\n",
    "    \n",
    "    # Create meshgrid for surface plot\n",
    "    # Use common strike range across all expiries\n",
    "    min_strike = df['strike'].min()\n",
    "    max_strike = df['strike'].max()\n",
    "    min_days = df['days_to_expiry'].min()\n",
    "    max_days = df['days_to_expiry'].max()\n",
    "    \n",
    "    # Create regular grid\n",
    "    strike_grid = np.linspace(min_strike, max_strike, 50)\n",
    "    days_grid = np.linspace(min_days, max_days, 20)\n",
    "    X, Y = np.meshgrid(strike_grid, days_grid)\n",
    "    \n",
    "    # Interpolate IV values onto the grid\n",
    "    from scipy.interpolate import griddata\n",
    "    \n",
    "    points = df[['strike', 'days_to_expiry']].values\n",
    "    values = df['iv'].values\n",
    "    \n",
    "    Z = griddata(points, values, (X, Y), method='linear', fill_value=np.nan)\n",
    "    \n",
    "    # Create comprehensive figure with multiple views\n",
    "    fig = make_subplots(\n",
    "        rows=2, cols=2,\n",
    "        subplot_titles=(\n",
    "            'Volatility Surface (3D)', \n",
    "            'IV vs Strike (by Expiry)', \n",
    "            'Term Structure (ATM)', \n",
    "            'Moneyness Surface'\n",
    "        ),\n",
    "        specs=[\n",
    "            [{'type': 'surface'}, {'type': 'scatter'}],\n",
    "            [{'type': 'scatter'}, {'type': 'surface'}]\n",
    "        ],\n",
    "        vertical_spacing=0.15,\n",
    "        horizontal_spacing=0.1\n",
    "    )\n",
    "    \n",
    "    # 1. Main 3D Volatility Surface\n",
    "    surface = go.Surface(\n",
    "        x=X,\n",
    "        y=Y,\n",
    "        z=Z,\n",
    "        colorscale='Viridis',\n",
    "        name='IV Surface',\n",
    "        colorbar=dict(\n",
    "            title=\"Implied Volatility (%)\",\n",
    "            x=0.45\n",
    "        ),\n",
    "        hovertemplate=\"Strike: %{x:.0f}<br>\" +\n",
    "                    \"Days to Expiry: %{y:.1f}<br>\" +\n",
    "                    \"IV: %{z:.1f}%<extra></extra>\"\n",
    "    )\n",
    "    \n",
    "    fig.add_trace(surface, row=1, col=1)\n",
    "    \n",
    "    # 2. IV vs Strike colored by expiry\n",
    "    colors = px.colors.qualitative.Plotly\n",
    "    for i, result in enumerate(results):\n",
    "        color = colors[i % len(colors)]\n",
    "        fig.add_trace(\n",
    "            go.Scatter(\n",
    "                x=result['strikes'],\n",
    "                y=result['ivs'] * 100,\n",
    "                mode='markers+lines',\n",
    "                name=f\"{result['expiry_str'][:10]}\",\n",
    "                marker=dict(color=color, size=6),\n",
    "                line=dict(color=color, width=2),\n",
    "                hovertemplate=f\"Expiry: {result['expiry_str']}<br>\" +\n",
    "                            \"Strike: %{x:.0f}<br>\" +\n",
    "                            \"IV: %{y:.1f}%<extra></extra>\"\n",
    "            ),\n",
    "            row=1, col=2\n",
    "        )\n",
    "    \n",
    "    # Add spot line to IV plot\n",
    "    if results:\n",
    "        spot = results[0]['spot']\n",
    "        fig.add_trace(\n",
    "            go.Scatter(\n",
    "                x=[spot, spot],\n",
    "                y=[df['iv'].min(), df['iv'].max()],\n",
    "                mode='lines',\n",
    "                line=dict(color='red', dash='dash', width=2),\n",
    "                name=f'Spot: ${spot:.0f}',\n",
    "                showlegend=False,\n",
    "                hovertemplate=f\"Spot Price: ${spot:.0f}<extra></extra>\"\n",
    "            ),\n",
    "            row=1, col=2\n",
    "        )\n",
    "    \n",
    "    # 3. Term Structure (ATM IV)\n",
    "    atm_data = []\n",
    "    for result in results:\n",
    "        spot = result['spot']\n",
    "        strikes = result['strikes']\n",
    "        ivs = result['ivs']\n",
    "        \n",
    "        # Find ATM IV (closest to spot)\n",
    "        atm_idx = np.argmin(np.abs(strikes - spot))\n",
    "        atm_iv = ivs[atm_idx] * 100\n",
    "        \n",
    "        days_to_expiry = (result['expiry'] - results[0]['expiry']) / (1000 * 60 * 60 * 24)\n",
    "        \n",
    "        atm_data.append({\n",
    "            'days': days_to_expiry,\n",
    "            'atm_iv': atm_iv,\n",
    "            'expiry_str': result['expiry_str'][:10]\n",
    "        })\n",
    "    \n",
    "    atm_df = pd.DataFrame(atm_data)\n",
    "    \n",
    "    fig.add_trace(\n",
    "        go.Scatter(\n",
    "            x=atm_df['days'],\n",
    "            y=atm_df['atm_iv'],\n",
    "            mode='markers+lines+text',\n",
    "            text=atm_df['expiry_str'],\n",
    "            textposition='top center',\n",
    "            marker=dict(size=10, color='blue'),\n",
    "            line=dict(color='blue', width=3),\n",
    "            name='ATM IV Term Structure',\n",
    "            hovertemplate=\"Days to Expiry: %{x:.1f}<br>\" +\n",
    "                        \"ATM IV: %{y:.1f}%<extra></extra>\"\n",
    "        ),\n",
    "        row=2, col=1\n",
    "    )\n",
    "    \n",
    "    # 4. Moneyness Surface\n",
    "    # Create moneyness grid\n",
    "    min_moneyness = df['moneyness'].min()\n",
    "    max_moneyness = df['moneyness'].max()\n",
    "    moneyness_grid = np.linspace(min_moneyness, max_moneyness, 50)\n",
    "    X_money, Y_money = np.meshgrid(moneyness_grid, days_grid)\n",
    "    \n",
    "    # Interpolate using moneyness\n",
    "    points_money = df[['moneyness', 'days_to_expiry']].values\n",
    "    Z_money = griddata(points_money, values, (X_money, Y_money), method='linear', fill_value=np.nan)\n",
    "    \n",
    "    fig.add_trace(\n",
    "        go.Surface(\n",
    "            x=X_money,\n",
    "            y=Y_money,\n",
    "            z=Z_money,\n",
    "            colorscale='Plasma',\n",
    "            name='Moneyness Surface',\n",
    "            showscale=False,\n",
    "            hovertemplate=\"Moneyness: %{x:.2f}<br>\" +\n",
    "                        \"Days to Expiry: %{y:.1f}<br>\" +\n",
    "                        \"IV: %{z:.1f}%<extra></extra>\"\n",
    "        ),\n",
    "        row=2, col=2\n",
    "    )\n",
    "    \n",
    "    # Update layout for each subplot\n",
    "    fig.update_layout(\n",
    "        height=1200,\n",
    "        title_text=f\"Comprehensive Volatility Surface Analysis - {len(results)} Expiries\",\n",
    "        showlegend=True,\n",
    "        scene=dict(\n",
    "            xaxis_title=\"Strike Price ($)\",\n",
    "            yaxis_title=\"Days to Expiry\",\n",
    "            zaxis_title=\"Implied Volatility (%)\",\n",
    "            camera=dict(eye=dict(x=1.5, y=1.5, z=1.5))\n",
    "        ),\n",
    "        scene2=dict(\n",
    "            xaxis_title=\"Moneyness (K/S)\",\n",
    "            yaxis_title=\"Days to Expiry\", \n",
    "            zaxis_title=\"Implied Volatility (%)\",\n",
    "            camera=dict(eye=dict(x=1.5, y=1.5, z=1.5))\n",
    "        )\n",
    "    )\n",
    "    \n",
    "    # Update subplot axes\n",
    "    fig.update_xaxes(title_text=\"Strike Price ($)\", row=1, col=2)\n",
    "    fig.update_yaxes(title_text=\"Implied Volatility (%)\", row=1, col=2)\n",
    "    \n",
    "    fig.update_xaxes(title_text=\"Days to Expiry\", row=2, col=1)\n",
    "    fig.update_yaxes(title_text=\"ATM Implied Volatility (%)\", row=2, col=1)\n",
    "    \n",
    "    # Print surface statistics\n",
    "    print(f\"\\n📈 Volatility Surface Statistics:\")\n",
    "    print(f\"   Strike range: ${min_strike:.0f} - ${max_strike:.0f}\")\n",
    "    print(f\"   Time range: {min_days:.1f} - {max_days:.1f} days\")\n",
    "    print(f\"   IV range: {df['iv'].min():.1f}% - {df['iv'].max():.1f}%\")\n",
    "    print(f\"   Moneyness range: {min_moneyness:.2f} - {max_moneyness:.2f}\")\n",
    "    \n",
    "    # Print term structure\n",
    "    print(f\"\\n⏰ ATM Term Structure:\")\n",
    "    for _, row in atm_df.iterrows():\n",
    "        print(f\"   {row['expiry_str']}: {row['atm_iv']:.1f}% ({row['days']:.1f} days)\")\n",
    "    \n",
    "    return fig, df\n",
    "\n",
    "# Create volatility surface if analysis results exist\n",
    "if 'analysis_results' in globals():\n",
    "    vol_surface_fig, surface_df = create_volatility_surface(analysis_results)\n",
    "    if vol_surface_fig:\n",
    "        vol_surface_fig.show()\n",
    "        \n",
    "        # Save surface data to CSV for further analysis\n",
    "        surface_df.to_csv('volatility_surface_data.csv', index=False)\n",
    "        print(f\"\\n💾 Surface data saved to: volatility_surface_data.csv\")\n",
    "else:\n",
    "    print(\"⚠️ No analysis results found. Please run the main analysis cell first.\")"
   ]
  },
  {
   "cell_type": "markdown",
   "id": "2d34ff55",
   "metadata": {},
   "source": [
    "# 📚 Volatility Surface Construction - Detailed Methodology\n",
    "\n",
    "## Overview\n",
    "A **volatility surface** is a 3D representation showing how implied volatility varies across two dimensions:\n",
    "- **X-axis**: Strike prices (or moneyness)\n",
    "- **Y-axis**: Time to expiry\n",
    "- **Z-axis**: Implied volatility levels\n",
    "\n",
    "## 🔧 Step-by-Step Construction Process\n",
    "\n",
    "### 1. **Data Collection & Organization**\n",
    "```\n",
    "For each expiry date:\n",
    "├── Fetch all available call options\n",
    "├── Extract strike prices and implied volatilities\n",
    "├── Calculate days to expiry\n",
    "└── Store in structured format\n",
    "```\n",
    "\n",
    "### 2. **Data Transformation**\n",
    "```python\n",
    "# Convert raw data into surface-ready format\n",
    "surface_data = []\n",
    "for each_expiry:\n",
    "    for each_strike_iv_pair:\n",
    "        surface_data.append({\n",
    "            'strike': strike_price,\n",
    "            'days_to_expiry': time_dimension,\n",
    "            'iv': implied_volatility,\n",
    "            'moneyness': strike/spot_price\n",
    "        })\n",
    "```\n",
    "\n",
    "### 3. **Grid Creation**\n",
    "```python\n",
    "# Create regular grids for interpolation\n",
    "strike_grid = np.linspace(min_strike, max_strike, 50)  # 50 points\n",
    "time_grid = np.linspace(min_days, max_days, 20)       # 20 points\n",
    "X, Y = np.meshgrid(strike_grid, time_grid)            # 50x20 = 1000 points\n",
    "```\n",
    "\n",
    "### 4. **Surface Interpolation**\n",
    "```python\n",
    "# Use scipy.interpolate.griddata for smooth surface\n",
    "from scipy.interpolate import griddata\n",
    "\n",
    "# Input: Scattered market data points\n",
    "points = [(strike₁, time₁), (strike₂, time₂), ...]\n",
    "values = [iv₁, iv₂, iv₃, ...]\n",
    "\n",
    "# Output: Regular grid of interpolated values\n",
    "Z = griddata(points, values, (X, Y), method='linear')\n",
    "```\n",
    "\n",
    "## 🎯 Key Technical Concepts\n",
    "\n",
    "### **1. Interpolation Methods**\n",
    "- **Linear**: Fast, preserves monotonicity\n",
    "- **Cubic**: Smooth but can oscillate\n",
    "- **Nearest**: No smoothing, preserves market data\n",
    "\n",
    "### **2. Moneyness Normalization**\n",
    "```\n",
    "Moneyness = Strike Price / Spot Price\n",
    "- 1.0 = At-the-money (ATM)\n",
    "- < 1.0 = In-the-money (ITM)  \n",
    "- > 1.0 = Out-of-the-money (OTM)\n",
    "```\n",
    "\n",
    "### **3. Time Dimension**\n",
    "```\n",
    "Days to Expiry = (Expiry Timestamp - Current Time) / (24 * 60 * 60 * 1000)\n",
    "```\n",
    "\n",
    "### **4. Surface Quality Checks**\n",
    "- **No Arbitrage**: Surface should be smooth without sharp discontinuities\n",
    "- **Boundary Conditions**: Reasonable behavior at extremes\n",
    "- **Data Density**: Sufficient points for reliable interpolation\n",
    "\n",
    "## 📊 Multiple Surface Views\n",
    "\n",
    "### **1. Strike-Based Surface**\n",
    "- X: Absolute strike prices ($20K, $100K, $200K, etc.)\n",
    "- Y: Time to expiry (0, 7, 30, 90 days, etc.)\n",
    "- Z: Implied volatility (30%, 50%, 100%, etc.)\n",
    "\n",
    "### **2. Moneyness Surface**\n",
    "- X: Moneyness ratios (0.8, 1.0, 1.2, etc.)\n",
    "- Y: Time to expiry\n",
    "- Z: Implied volatility\n",
    "- **Advantage**: Normalized view, easier to compare across different spot levels\n",
    "\n",
    "### **3. Term Structure**\n",
    "- X: Time to expiry\n",
    "- Y: ATM implied volatility\n",
    "- **Shows**: How volatility expectations change over time\n",
    "\n",
    "## ⚙️ Implementation Details\n",
    "\n",
    "### **Data Filtering**\n",
    "```python\n",
    "# Remove outliers and ensure data quality\n",
    "valid_data = data[\n",
    "    (data['iv'] > 0.05) &     # Minimum 5% IV\n",
    "    (data['iv'] < 3.0) &      # Maximum 300% IV\n",
    "    (data['moneyness'] > 0.5) & # Strike > 50% of spot\n",
    "    (data['moneyness'] < 2.0)   # Strike < 200% of spot\n",
    "]\n",
    "```\n",
    "\n",
    "### **Surface Smoothing**\n",
    "```python\n",
    "# Apply smoothing to reduce noise\n",
    "from scipy.ndimage import gaussian_filter\n",
    "Z_smooth = gaussian_filter(Z, sigma=1.0)\n",
    "```\n",
    "\n",
    "### **Gap Filling**\n",
    "```python\n",
    "# Handle missing data points\n",
    "Z_filled = griddata(points, values, (X, Y), \n",
    "                   method='linear', \n",
    "                   fill_value=np.nan)\n",
    "```\n",
    "\n",
    "## 🎨 Visualization Components\n",
    "\n",
    "### **4-Panel Dashboard**\n",
    "1. **Main 3D Surface**: Interactive surface plot\n",
    "2. **IV Smiles**: Individual smile curves by expiry\n",
    "3. **Term Structure**: ATM IV evolution over time\n",
    "4. **Moneyness View**: Normalized surface\n",
    "\n",
    "### **Interactive Features**\n",
    "- **Hover tooltips**: Exact values at each point\n",
    "- **3D rotation**: Explore from different angles\n",
    "- **Zoom/Pan**: Focus on specific regions\n",
    "- **Color mapping**: Visual representation of IV levels\n",
    "\n",
    "## 🔍 Mathematical Foundation\n",
    "\n",
    "### **Surface Equation**\n",
    "```\n",
    "IV(K, T) = f(Strike, Time)\n",
    "where:\n",
    "- K = Strike price\n",
    "- T = Time to expiry\n",
    "- IV = Implied volatility\n",
    "```\n",
    "\n",
    "### **Interpolation Formula**\n",
    "```\n",
    "For point (x, y) on regular grid:\n",
    "IV(x, y) = Σ wᵢ × IVᵢ\n",
    "where wᵢ are interpolation weights\n",
    "```\n",
    "\n",
    "## 📈 Applications\n",
    "\n",
    "### **Trading Applications**\n",
    "- **Relative Value**: Compare options across strikes/expiries\n",
    "- **Arbitrage Detection**: Identify pricing inconsistencies\n",
    "- **Risk Management**: Understand volatility exposure\n",
    "\n",
    "### **Quantitative Applications**\n",
    "- **Model Calibration**: Fit stochastic volatility models\n",
    "- **Scenario Analysis**: Stress test portfolios\n",
    "- **Greeks Calculation**: Delta, gamma, vega surfaces\n",
    "\n",
    "## 🎯 Quality Metrics\n",
    "\n",
    "### **Surface Smoothness**\n",
    "```python\n",
    "# Calculate surface curvature\n",
    "d2z_dx2 = np.gradient(np.gradient(Z, axis=1), axis=1)\n",
    "d2z_dy2 = np.gradient(np.gradient(Z, axis=0), axis=0)\n",
    "curvature = np.abs(d2z_dx2) + np.abs(d2z_dy2)\n",
    "```\n",
    "\n",
    "### **Interpolation Error**\n",
    "```python\n",
    "# Cross-validation: Remove points and test interpolation\n",
    "from sklearn.model_selection import cross_val_score\n",
    "errors = []\n",
    "for holdout_point in market_data:\n",
    "    predicted = interpolate_without_point(holdout_point)\n",
    "    errors.append(abs(predicted - actual))\n",
    "```\n",
    "\n",
    "This comprehensive approach ensures we create a robust, high-quality volatility surface that accurately represents market conditions across all strikes and expiries!"
   ]
  },
  {
   "cell_type": "code",
   "execution_count": 7,
   "id": "81806c07",
   "metadata": {},
   "outputs": [
    {
     "name": "stdout",
     "output_type": "stream",
     "text": [
      "🔧 STEP-BY-STEP VOLATILITY SURFACE CONSTRUCTION\n",
      "============================================================\n",
      "\n",
      "📊 STEP 1: COLLECT & ORGANIZE DATA\n",
      "----------------------------------------\n",
      "Expiry 1: 2025-08-22\n",
      "  └─ 38 options, 0.0 days out\n",
      "  └─ Strike range: $90,000 - $165,000\n",
      "  └─ IV range: 29.9% - 122.1%\n",
      "Expiry 2: 2025-08-23\n",
      "  └─ 16 options, 1.0 days out\n",
      "  └─ Strike range: $106,000 - $124,000\n",
      "  └─ IV range: 34.7% - 56.1%\n",
      "Expiry 3: 2025-08-24\n",
      "  └─ 15 options, 2.0 days out\n",
      "  └─ Strike range: $104,000 - $122,000\n",
      "  └─ IV range: 30.9% - 53.6%\n",
      "Expiry 4: 2025-08-25\n",
      "  └─ 14 options, 3.0 days out\n",
      "  └─ Strike range: $106,000 - $122,000\n",
      "  └─ IV range: 29.5% - 44.9%\n",
      "Expiry 5: 2025-08-29\n",
      "  └─ 50 options, 7.0 days out\n",
      "  └─ Strike range: $40,000 - $190,000\n",
      "  └─ IV range: 32.6% - 145.3%\n",
      "Expiry 6: 2025-09-05\n",
      "  └─ 28 options, 14.0 days out\n",
      "  └─ Strike range: $80,000 - $140,000\n",
      "  └─ IV range: 33.0% - 77.0%\n",
      "Expiry 7: 2025-09-12\n",
      "  └─ 17 options, 21.0 days out\n",
      "  └─ Strike range: $100,000 - $130,000\n",
      "  └─ IV range: 33.4% - 43.2%\n",
      "Expiry 8: 2025-09-26\n",
      "  └─ 50 options, 35.0 days out\n",
      "  └─ Strike range: $20,000 - $400,000\n",
      "  └─ IV range: 33.4% - 128.8%\n",
      "Expiry 9: 2025-10-31\n",
      "  └─ 41 options, 70.0 days out\n",
      "  └─ Strike range: $40,000 - $210,000\n",
      "  └─ IV range: 35.0% - 86.2%\n",
      "Expiry 10: 2025-12-26\n",
      "  └─ 38 options, 126.0 days out\n",
      "  └─ Strike range: $20,000 - $400,000\n",
      "  └─ IV range: 39.9% - 100.2%\n",
      "\n",
      "✅ Total data points collected: 307\n",
      "   Strike range: $20,000 - $400,000\n",
      "   Time range: 0.0 - 126.0 days\n",
      "   IV range: 29.5% - 145.3%\n",
      "\n",
      "🔲 STEP 2: CREATE INTERPOLATION GRIDS\n",
      "----------------------------------------\n",
      "Strike grid: 30 points from $20,000 to $400,000\n",
      "Time grid: 15 points from 0.0 to 126.0 days\n",
      "Total grid points: 30 × 15 = 450\n",
      "Meshgrid shape: (15, 30)\n",
      "\n",
      "🔄 STEP 3: INTERPOLATE SCATTERED DATA TO REGULAR GRID\n",
      "----------------------------------------\n",
      "Input: 307 scattered market points\n",
      "Output: 450 regular grid points\n",
      "Interpolating using linear method...\n",
      "Successfully interpolated: 394/450 points (87.6%)\n",
      "\n",
      "📏 STEP 4: SURFACE QUALITY ANALYSIS\n",
      "----------------------------------------\n",
      "Surface IV statistics:\n",
      "  └─ Range: 33.5% - 138.8% (span: 105.3%)\n",
      "  └─ Mean: 67.1%\n",
      "  └─ Std Dev: 20.5%\n",
      "  └─ Surface smoothness metric: 6.13%/point\n",
      "\n",
      "🎨 STEP 5: CREATE SURFACE VISUALIZATION\n",
      "----------------------------------------\n",
      "✅ Surface visualization created!\n",
      "   Red dots: 307 original market data points\n",
      "   Blue surface: 30×15 interpolated grid\n",
      "\n",
      "💡 STEP 6: EXTRACT KEY INSIGHTS\n",
      "----------------------------------------\n",
      "ATM Term Structure:\n",
      "  └─   0.0 days:  32.7% IV\n",
      "  └─   1.0 days:  36.6% IV\n",
      "  └─   2.0 days:  32.3% IV\n",
      "  └─   3.0 days:  30.8% IV\n",
      "  └─   7.0 days:  33.8% IV\n",
      "  └─  14.0 days:  34.2% IV\n",
      "  └─  21.0 days:  34.2% IV\n",
      "  └─  35.0 days:  34.2% IV\n",
      "  └─  70.0 days:  36.0% IV\n",
      "  └─ 126.0 days:  40.3% IV\n",
      "\n",
      "Smile Characteristics (at spot $113,455):\n",
      "  └─ Near expiry (2025-08-22):\n",
      "     ├─ IV range: 29.9% - 122.1%\n",
      "     └─ Smile skew: 92.2%\n",
      "  └─ Far expiry (2025-12-26):\n",
      "     ├─ IV range: 39.9% - 100.2%\n",
      "     └─ Smile skew: 60.3%\n",
      "\n",
      "🎯 SURFACE CONSTRUCTION COMPLETE!\n",
      "============================================================\n"
     ]
    },
    {
     "data": {
      "application/vnd.plotly.v1+json": {
       "config": {
        "plotlyServerURL": "https://plot.ly"
       },
       "data": [
        {
         "colorbar": {
          "title": {
           "text": "Implied Volatility (%)"
          }
         },
         "colorscale": [
          [
           0,
           "#440154"
          ],
          [
           0.1111111111111111,
           "#482878"
          ],
          [
           0.2222222222222222,
           "#3e4989"
          ],
          [
           0.3333333333333333,
           "#31688e"
          ],
          [
           0.4444444444444444,
           "#26828e"
          ],
          [
           0.5555555555555556,
           "#1f9e89"
          ],
          [
           0.6666666666666666,
           "#35b779"
          ],
          [
           0.7777777777777778,
           "#6ece58"
          ],
          [
           0.8888888888888888,
           "#b5de2b"
          ],
          [
           1,
           "#fde725"
          ]
         ],
         "hovertemplate": "Strike: $%{x:,.0f}<br>Days: %{y:.1f}<br>IV: %{z:.1f}%<extra></extra>",
         "name": "Interpolated Surface",
         "opacity": 0.8,
         "type": "surface",
         "x": {
          "bdata": "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",
          "dtype": "f8",
          "shape": "15, 30"
         },
         "y": {
          "bdata": "AAAAAAAAAAAAAAAAAAAAAAAAAAAAAAAAAAAAAAAAAAAAAAAAAAAAAAAAAAAAAAAAAAAAAAAAAAAAAAAAAAAAAAAAAAAAAAAAAAAAAAAAAAAAAAAAAAAAAAAAAAAAAAAAAAAAAAAAAAAAAAAAAAAAAAAAAAAAAAAAAAAAAAAAAAAAAAAAAAAAAAAAAAAAAAAAAAAAAAAAAAAAAAAAAAAAAAAAAAAAAAAAAAAAAAAAAAAAAAAAAAAAAAAAAAAAAAAAAAAAAAAAAAAAAAAAAAAAAAAAAAAAAAAAAAAAAAAAAAAAAAAAAAAAAAAAAAAAAAAAAAAAAAAAIkAAAAAAAAAiQAAAAAAAACJAAAAAAAAAIkAAAAAAAAAiQAAAAAAAACJAAAAAAAAAIkAAAAAAAAAiQAAAAAAAACJAAAAAAAAAIkAAAAAAAAAiQAAAAAAAACJAAAAAAAAAIkAAAAAAAAAiQAAAAAAAACJAAAAAAAAAIkAAAAAAAAAiQAAAAAAAACJAAAAAAAAAIkAAAAAAAAAiQAAAAAAAACJAAAAAAAAAIkAAAAAAAAAiQAAAAAAAACJAAAAAAAAAIkAAAAAAAAAiQAAAAAAAACJAAAAAAAAAIkAAAAAAAAAiQAAAAAAAACJAAAAAAAAAMkAAAAAAAAAyQAAAAAAAADJAAAAAAAAAMkAAAAAAAAAyQAAAAAAAADJAAAAAAAAAMkAAAAAAAAAyQAAAAAAAADJAAAAAAAAAMkAAAAAAAAAyQAAAAAAAADJAAAAAAAAAMkAAAAAAAAAyQAAAAAAAADJAAAAAAAAAMkAAAAAAAAAyQAAAAAAAADJAAAAAAAAAMkAAAAAAAAAyQAAAAAAAADJAAAAAAAAAMkAAAAAAAAAyQAAAAAAAADJAAAAAAAAAMkAAAAAAAAAyQAAAAAAAADJAAAAAAAAAMkAAAAAAAAAyQAAAAAAAADJAAAAAAAAAO0AAAAAAAAA7QAAAAAAAADtAAAAAAAAAO0AAAAAAAAA7QAAAAAAAADtAAAAAAAAAO0AAAAAAAAA7QAAAAAAAADtAAAAAAAAAO0AAAAAAAAA7QAAAAAAAADtAAAAAAAAAO0AAAAAAAAA7QAAAAAAAADtAAAAAAAAAO0AAAAAAAAA7QAAAAAAAADtAAAAAAAAAO0AAAAAAAAA7QAAAAAAAADtAAAAAAAAAO0AAAAAAAAA7QAAAAAAAADtAAAAAAAAAO0AAAAAAAAA7QAAAAAAAADtAAAAAAAAAO0AAAAAAAAA7QAAAAAAAADtAAAAAAAAAQkAAAAAAAABCQAAAAAAAAEJAAAAAAAAAQkAAAAAAAABCQAAAAAAAAEJAAAAAAAAAQkAAAAAAAABCQAAAAAAAAEJAAAAAAAAAQkAAAAAAAABCQAAAAAAAAEJAAAAAAAAAQkAAAAAAAABCQAAAAAAAAEJAAAAAAAAAQkAAAAAAAABCQAAAAAAAAEJAAAAAAAAAQkAAAAAAAABCQAAAAAAAAEJAAAAAAAAAQkAAAAAAAABCQAAAAAAAAEJAAAAAAAAAQkAAAAAAAABCQAAAAAAAAEJAAAAAAAAAQkAAAAAAAABCQAAAAAAAAEJAAAAAAACARkAAAAAAAIBGQAAAAAAAgEZAAAAAAACARkAAAAAAAIBGQAAAAAAAgEZAAAAAAACARkAAAAAAAIBGQAAAAAAAgEZAAAAAAACARkAAAAAAAIBGQAAAAAAAgEZAAAAAAACARkAAAAAAAIBGQAAAAAAAgEZAAAAAAACARkAAAAAAAIBGQAAAAAAAgEZAAAAAAACARkAAAAAAAIBGQAAAAAAAgEZAAAAAAACARkAAAAAAAIBGQAAAAAAAgEZAAAAAAACARkAAAAAAAIBGQAAAAAAAgEZAAAAAAACARkAAAAAAAIBGQAAAAAAAgEZAAAAAAAAAS0AAAAAAAABLQAAAAAAAAEtAAAAAAAAAS0AAAAAAAABLQAAAAAAAAEtAAAAAAAAAS0AAAAAAAABLQAAAAAAAAEtAAAAAAAAAS0AAAAAAAABLQAAAAAAAAEtAAAAAAAAAS0AAAAAAAABLQAAAAAAAAEtAAAAAAAAAS0AAAAAAAABLQAAAAAAAAEtAAAAAAAAAS0AAAAAAAABLQAAAAAAAAEtAAAAAAAAAS0AAAAAAAABLQAAAAAAAAEtAAAAAAAAAS0AAAAAAAABLQAAAAAAAAEtAAAAAAAAAS0AAAAAAAABLQAAAAAAAAEtAAAAAAACAT0AAAAAAAIBPQAAAAAAAgE9AAAAAAACAT0AAAAAAAIBPQAAAAAAAgE9AAAAAAACAT0AAAAAAAIBPQAAAAAAAgE9AAAAAAACAT0AAAAAAAIBPQAAAAAAAgE9AAAAAAACAT0AAAAAAAIBPQAAAAAAAgE9AAAAAAACAT0AAAAAAAIBPQAAAAAAAgE9AAAAAAACAT0AAAAAAAIBPQAAAAAAAgE9AAAAAAACAT0AAAAAAAIBPQAAAAAAAgE9AAAAAAACAT0AAAAAAAIBPQAAAAAAAgE9AAAAAAACAT0AAAAAAAIBPQAAAAAAAgE9AAAAAAAAAUkAAAAAAAABSQAAAAAAAAFJAAAAAAAAAUkAAAAAAAABSQAAAAAAAAFJAAAAAAAAAUkAAAAAAAABSQAAAAAAAAFJAAAAAAAAAUkAAAAAAAABSQAAAAAAAAFJAAAAAAAAAUkAAAAAAAABSQAAAAAAAAFJAAAAAAAAAUkAAAAAAAABSQAAAAAAAAFJAAAAAAAAAUkAAAAAAAABSQAAAAAAAAFJAAAAAAAAAUkAAAAAAAABSQAAAAAAAAFJAAAAAAAAAUkAAAAAAAABSQAAAAAAAAFJAAAAAAAAAUkAAAAAAAABSQAAAAAAAAFJAAAAAAABAVEAAAAAAAEBUQAAAAAAAQFRAAAAAAABAVEAAAAAAAEBUQAAAAAAAQFRAAAAAAABAVEAAAAAAAEBUQAAAAAAAQFRAAAAAAABAVEAAAAAAAEBUQAAAAAAAQFRAAAAAAABAVEAAAAAAAEBUQAAAAAAAQFRAAAAAAABAVEAAAAAAAEBUQAAAAAAAQFRAAAAAAABAVEAAAAAAAEBUQAAAAAAAQFRAAAAAAABAVEAAAAAAAEBUQAAAAAAAQFRAAAAAAABAVEAAAAAAAEBUQAAAAAAAQFRAAAAAAABAVEAAAAAAAEBUQAAAAAAAQFRAAAAAAACAVkAAAAAAAIBWQAAAAAAAgFZAAAAAAACAVkAAAAAAAIBWQAAAAAAAgFZAAAAAAACAVkAAAAAAAIBWQAAAAAAAgFZAAAAAAACAVkAAAAAAAIBWQAAAAAAAgFZAAAAAAACAVkAAAAAAAIBWQAAAAAAAgFZAAAAAAACAVkAAAAAAAIBWQAAAAAAAgFZAAAAAAACAVkAAAAAAAIBWQAAAAAAAgFZAAAAAAACAVkAAAAAAAIBWQAAAAAAAgFZAAAAAAACAVkAAAAAAAIBWQAAAAAAAgFZAAAAAAACAVkAAAAAAAIBWQAAAAAAAgFZAAAAAAADAWEAAAAAAAMBYQAAAAAAAwFhAAAAAAADAWEAAAAAAAMBYQAAAAAAAwFhAAAAAAADAWEAAAAAAAMBYQAAAAAAAwFhAAAAAAADAWEAAAAAAAMBYQAAAAAAAwFhAAAAAAADAWEAAAAAAAMBYQAAAAAAAwFhAAAAAAADAWEAAAAAAAMBYQAAAAAAAwFhAAAAAAADAWEAAAAAAAMBYQAAAAAAAwFhAAAAAAADAWEAAAAAAAMBYQAAAAAAAwFhAAAAAAADAWEAAAAAAAMBYQAAAAAAAwFhAAAAAAADAWEAAAAAAAMBYQAAAAAAAwFhAAAAAAAAAW0AAAAAAAABbQAAAAAAAAFtAAAAAAAAAW0AAAAAAAABbQAAAAAAAAFtAAAAAAAAAW0AAAAAAAABbQAAAAAAAAFtAAAAAAAAAW0AAAAAAAABbQAAAAAAAAFtAAAAAAAAAW0AAAAAAAABbQAAAAAAAAFtAAAAAAAAAW0AAAAAAAABbQAAAAAAAAFtAAAAAAAAAW0AAAAAAAABbQAAAAAAAAFtAAAAAAAAAW0AAAAAAAABbQAAAAAAAAFtAAAAAAAAAW0AAAAAAAABbQAAAAAAAAFtAAAAAAAAAW0AAAAAAAABbQAAAAAAAAFtAAAAAAABAXUAAAAAAAEBdQAAAAAAAQF1AAAAAAABAXUAAAAAAAEBdQAAAAAAAQF1AAAAAAABAXUAAAAAAAEBdQAAAAAAAQF1AAAAAAABAXUAAAAAAAEBdQAAAAAAAQF1AAAAAAABAXUAAAAAAAEBdQAAAAAAAQF1AAAAAAABAXUAAAAAAAEBdQAAAAAAAQF1AAAAAAABAXUAAAAAAAEBdQAAAAAAAQF1AAAAAAABAXUAAAAAAAEBdQAAAAAAAQF1AAAAAAABAXUAAAAAAAEBdQAAAAAAAQF1AAAAAAABAXUAAAAAAAEBdQAAAAAAAQF1AAAAAAACAX0AAAAAAAIBfQAAAAAAAgF9AAAAAAACAX0AAAAAAAIBfQAAAAAAAgF9AAAAAAACAX0AAAAAAAIBfQAAAAAAAgF9AAAAAAACAX0AAAAAAAIBfQAAAAAAAgF9AAAAAAACAX0AAAAAAAIBfQAAAAAAAgF9AAAAAAACAX0AAAAAAAIBfQAAAAAAAgF9AAAAAAACAX0AAAAAAAIBfQAAAAAAAgF9AAAAAAACAX0AAAAAAAIBfQAAAAAAAgF9AAAAAAACAX0AAAAAAAIBfQAAAAAAAgF9AAAAAAACAX0AAAAAAAIBfQAAAAAAAgF9A",
          "dtype": "f8",
          "shape": "15, 30"
         },
         "z": {
          "bdata": "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",
          "dtype": "f8",
          "shape": "15, 30"
         }
        },
        {
         "hovertemplate": "Strike: $%{x:,.0f}<br>Days: %{y:.1f}<br>IV: %{z:.1f}%<br>Expiry: %{text}<extra></extra>",
         "marker": {
          "color": "red",
          "size": 4,
          "symbol": "circle"
         },
         "mode": "markers",
         "name": "Market Data",
         "text": [
          "2025-08-22",
          "2025-08-22",
          "2025-08-22",
          "2025-08-22",
          "2025-08-22",
          "2025-08-22",
          "2025-08-22",
          "2025-08-22",
          "2025-08-22",
          "2025-08-22",
          "2025-08-22",
          "2025-08-22",
          "2025-08-22",
          "2025-08-22",
          "2025-08-22",
          "2025-08-22",
          "2025-08-22",
          "2025-08-22",
          "2025-08-22",
          "2025-08-22",
          "2025-08-22",
          "2025-08-22",
          "2025-08-22",
          "2025-08-22",
          "2025-08-22",
          "2025-08-22",
          "2025-08-22",
          "2025-08-22",
          "2025-08-22",
          "2025-08-22",
          "2025-08-22",
          "2025-08-22",
          "2025-08-22",
          "2025-08-22",
          "2025-08-22",
          "2025-08-22",
          "2025-08-22",
          "2025-08-22",
          "2025-08-23",
          "2025-08-23",
          "2025-08-23",
          "2025-08-23",
          "2025-08-23",
          "2025-08-23",
          "2025-08-23",
          "2025-08-23",
          "2025-08-23",
          "2025-08-23",
          "2025-08-23",
          "2025-08-23",
          "2025-08-23",
          "2025-08-23",
          "2025-08-23",
          "2025-08-23",
          "2025-08-24",
          "2025-08-24",
          "2025-08-24",
          "2025-08-24",
          "2025-08-24",
          "2025-08-24",
          "2025-08-24",
          "2025-08-24",
          "2025-08-24",
          "2025-08-24",
          "2025-08-24",
          "2025-08-24",
          "2025-08-24",
          "2025-08-24",
          "2025-08-24",
          "2025-08-25",
          "2025-08-25",
          "2025-08-25",
          "2025-08-25",
          "2025-08-25",
          "2025-08-25",
          "2025-08-25",
          "2025-08-25",
          "2025-08-25",
          "2025-08-25",
          "2025-08-25",
          "2025-08-25",
          "2025-08-25",
          "2025-08-25",
          "2025-08-29",
          "2025-08-29",
          "2025-08-29",
          "2025-08-29",
          "2025-08-29",
          "2025-08-29",
          "2025-08-29",
          "2025-08-29",
          "2025-08-29",
          "2025-08-29",
          "2025-08-29",
          "2025-08-29",
          "2025-08-29",
          "2025-08-29",
          "2025-08-29",
          "2025-08-29",
          "2025-08-29",
          "2025-08-29",
          "2025-08-29",
          "2025-08-29",
          "2025-08-29",
          "2025-08-29",
          "2025-08-29",
          "2025-08-29",
          "2025-08-29",
          "2025-08-29",
          "2025-08-29",
          "2025-08-29",
          "2025-08-29",
          "2025-08-29",
          "2025-08-29",
          "2025-08-29",
          "2025-08-29",
          "2025-08-29",
          "2025-08-29",
          "2025-08-29",
          "2025-08-29",
          "2025-08-29",
          "2025-08-29",
          "2025-08-29",
          "2025-08-29",
          "2025-08-29",
          "2025-08-29",
          "2025-08-29",
          "2025-08-29",
          "2025-08-29",
          "2025-08-29",
          "2025-08-29",
          "2025-08-29",
          "2025-08-29",
          "2025-09-05",
          "2025-09-05",
          "2025-09-05",
          "2025-09-05",
          "2025-09-05",
          "2025-09-05",
          "2025-09-05",
          "2025-09-05",
          "2025-09-05",
          "2025-09-05",
          "2025-09-05",
          "2025-09-05",
          "2025-09-05",
          "2025-09-05",
          "2025-09-05",
          "2025-09-05",
          "2025-09-05",
          "2025-09-05",
          "2025-09-05",
          "2025-09-05",
          "2025-09-05",
          "2025-09-05",
          "2025-09-05",
          "2025-09-05",
          "2025-09-05",
          "2025-09-05",
          "2025-09-05",
          "2025-09-05",
          "2025-09-12",
          "2025-09-12",
          "2025-09-12",
          "2025-09-12",
          "2025-09-12",
          "2025-09-12",
          "2025-09-12",
          "2025-09-12",
          "2025-09-12",
          "2025-09-12",
          "2025-09-12",
          "2025-09-12",
          "2025-09-12",
          "2025-09-12",
          "2025-09-12",
          "2025-09-12",
          "2025-09-12",
          "2025-09-26",
          "2025-09-26",
          "2025-09-26",
          "2025-09-26",
          "2025-09-26",
          "2025-09-26",
          "2025-09-26",
          "2025-09-26",
          "2025-09-26",
          "2025-09-26",
          "2025-09-26",
          "2025-09-26",
          "2025-09-26",
          "2025-09-26",
          "2025-09-26",
          "2025-09-26",
          "2025-09-26",
          "2025-09-26",
          "2025-09-26",
          "2025-09-26",
          "2025-09-26",
          "2025-09-26",
          "2025-09-26",
          "2025-09-26",
          "2025-09-26",
          "2025-09-26",
          "2025-09-26",
          "2025-09-26",
          "2025-09-26",
          "2025-09-26",
          "2025-09-26",
          "2025-09-26",
          "2025-09-26",
          "2025-09-26",
          "2025-09-26",
          "2025-09-26",
          "2025-09-26",
          "2025-09-26",
          "2025-09-26",
          "2025-09-26",
          "2025-09-26",
          "2025-09-26",
          "2025-09-26",
          "2025-09-26",
          "2025-09-26",
          "2025-09-26",
          "2025-09-26",
          "2025-09-26",
          "2025-09-26",
          "2025-09-26",
          "2025-10-31",
          "2025-10-31",
          "2025-10-31",
          "2025-10-31",
          "2025-10-31",
          "2025-10-31",
          "2025-10-31",
          "2025-10-31",
          "2025-10-31",
          "2025-10-31",
          "2025-10-31",
          "2025-10-31",
          "2025-10-31",
          "2025-10-31",
          "2025-10-31",
          "2025-10-31",
          "2025-10-31",
          "2025-10-31",
          "2025-10-31",
          "2025-10-31",
          "2025-10-31",
          "2025-10-31",
          "2025-10-31",
          "2025-10-31",
          "2025-10-31",
          "2025-10-31",
          "2025-10-31",
          "2025-10-31",
          "2025-10-31",
          "2025-10-31",
          "2025-10-31",
          "2025-10-31",
          "2025-10-31",
          "2025-10-31",
          "2025-10-31",
          "2025-10-31",
          "2025-10-31",
          "2025-10-31",
          "2025-10-31",
          "2025-10-31",
          "2025-10-31",
          "2025-12-26",
          "2025-12-26",
          "2025-12-26",
          "2025-12-26",
          "2025-12-26",
          "2025-12-26",
          "2025-12-26",
          "2025-12-26",
          "2025-12-26",
          "2025-12-26",
          "2025-12-26",
          "2025-12-26",
          "2025-12-26",
          "2025-12-26",
          "2025-12-26",
          "2025-12-26",
          "2025-12-26",
          "2025-12-26",
          "2025-12-26",
          "2025-12-26",
          "2025-12-26",
          "2025-12-26",
          "2025-12-26",
          "2025-12-26",
          "2025-12-26",
          "2025-12-26",
          "2025-12-26",
          "2025-12-26",
          "2025-12-26",
          "2025-12-26",
          "2025-12-26",
          "2025-12-26",
          "2025-12-26",
          "2025-12-26",
          "2025-12-26",
          "2025-12-26",
          "2025-12-26",
          "2025-12-26"
         ],
         "type": "scatter3d",
         "x": {
          "bdata": "AAAAAAD59UAAAAAAgDH3QAAAAAAAavhAAAAAAADn+EAAAAAAAGT5QAAAAACAovlAAAAAAADh+UAAAAAAAF76QAAAAACAnPpAAAAAAADb+kAAAAAAgBn7QAAAAAAAWPtAAAAAAICW+0AAAAAAANX7QAAAAACAE/xAAAAAAABS/EAAAAAAgJD8QAAAAAAAz/xAAAAAAIAN/UAAAAAAAEz9QAAAAACAiv1AAAAAAADJ/UAAAAAAgAf+QAAAAAAARv5AAAAAAICE/kAAAAAAAMP+QAAAAACAAf9AAAAAAABA/0AAAAAAgH7/QAAAAAAAvf9AAAAAAAAdAEEAAAAAwHoAQQAAAAAAFwFBAAAAAECzAUEAAAAAgE8CQQAAAADA6wJBAAAAAACIA0EAAAAAQCQEQQAAAAAA4flAAAAAAABe+kAAAAAAgJz6QAAAAAAA2/pAAAAAAIAZ+0AAAAAAAFj7QAAAAACAlvtAAAAAAADV+0AAAAAAgBP8QAAAAAAAUvxAAAAAAICQ/EAAAAAAAM/8QAAAAACADf1AAAAAAABM/UAAAAAAAMn9QAAAAAAARv5AAAAAAABk+UAAAAAAAOH5QAAAAAAAXvpAAAAAAICc+kAAAAAAANv6QAAAAACAGftAAAAAAABY+0AAAAAAgJb7QAAAAAAA1ftAAAAAAIAT/EAAAAAAAFL8QAAAAACAkPxAAAAAAADP/EAAAAAAAEz9QAAAAAAAyf1AAAAAAADh+UAAAAAAAF76QAAAAACAnPpAAAAAAADb+kAAAAAAgBn7QAAAAAAAWPtAAAAAAICW+0AAAAAAANX7QAAAAACAE/xAAAAAAABS/EAAAAAAgJD8QAAAAAAAz/xAAAAAAABM/UAAAAAAAMn9QAAAAAAAiONAAAAAAABq6EAAAAAAAEztQAAAAAAAF/FAAAAAAACI80AAAAAAgMD0QAAAAAAA+fVAAAAAAAB29kAAAAAAAPP2QAAAAACAMfdAAAAAAABw90AAAAAAAO33QAAAAAAAavhAAAAAAADn+EAAAAAAAGT5QAAAAACAovlAAAAAAADh+UAAAAAAAF76QAAAAAAA2/pAAAAAAIAZ+0AAAAAAAFj7QAAAAACAlvtAAAAAAADV+0AAAAAAgBP8QAAAAAAAUvxAAAAAAICQ/EAAAAAAAM/8QAAAAACADf1AAAAAAABM/UAAAAAAgIr9QAAAAAAAyf1AAAAAAIAH/kAAAAAAAEb+QAAAAACAhP5AAAAAAADD/kAAAAAAgAH/QAAAAAAAQP9AAAAAAIB+/0AAAAAAAL3/QAAAAAAAHQBBAAAAAIBbAEEAAAAAwHoAQQAAAAAAmgBBAAAAAAAXAUEAAAAAQLMBQQAAAACATwJBAAAAAACIA0EAAAAAgMAEQQAAAAAA+QVBAAAAAIAxB0EAAAAAAIjzQAAAAACAwPRAAAAAAAD59UAAAAAAgDH3QAAAAAAAavhAAAAAAICi+UAAAAAAAF76QAAAAAAA2/pAAAAAAIAZ+0AAAAAAAFj7QAAAAACAlvtAAAAAAADV+0AAAAAAgBP8QAAAAAAAUvxAAAAAAICQ/EAAAAAAAM/8QAAAAACADf1AAAAAAABM/UAAAAAAgIr9QAAAAAAAyf1AAAAAAIAH/kAAAAAAAEb+QAAAAACAhP5AAAAAAADD/kAAAAAAAED/QAAAAAAAvf9AAAAAAMB6AEEAAAAAABcBQQAAAAAAavhAAAAAAICi+UAAAAAAAOH5QAAAAAAAXvpAAAAAAADb+kAAAAAAgBn7QAAAAAAAWPtAAAAAAICW+0AAAAAAANX7QAAAAACAE/xAAAAAAABS/EAAAAAAgJD8QAAAAAAAz/xAAAAAAABM/UAAAAAAAMn9QAAAAACAhP5AAAAAAAC9/0AAAAAAAIjTQAAAAAAATN1AAAAAAACI40AAAAAAAGroQAAAAAAA2+pAAAAAAABM7UAAAAAAAL3vQAAAAAAAF/FAAAAAAIBP8kAAAAAAAIjzQAAAAACAwPRAAAAAAAD59UAAAAAAgDH3QAAAAAAA7fdAAAAAAABq+EAAAAAAgKL5QAAAAAAAXvpAAAAAAADb+kAAAAAAAFj7QAAAAAAA1ftAAAAAAIAT/EAAAAAAAFL8QAAAAAAAz/xAAAAAAABM/UAAAAAAAMn9QAAAAAAARv5AAAAAAICE/kAAAAAAAMP+QAAAAAAAQP9AAAAAAAC9/0AAAAAAAB0AQQAAAACAWwBBAAAAAMB6AEEAAAAAAJoAQQAAAACA2ABBAAAAAAAXAUEAAAAAQLMBQQAAAACATwJBAAAAAACIA0EAAAAAgMAEQQAAAAAA+QVBAAAAAIAxB0EAAAAAAGoIQQAAAACAoglBAAAAAADbCkEAAAAAAEwNQQAAAAAAvQ9BAAAAAAAXEUEAAAAAgE8SQQAAAAAAahhBAAAAAACI40AAAAAAAGroQAAAAAAATO1AAAAAAAAX8UAAAAAAAIjzQAAAAACAwPRAAAAAAAD59UAAAAAAgDH3QAAAAAAAavhAAAAAAADn+EAAAAAAAGT5QAAAAACAovlAAAAAAADh+UAAAAAAAF76QAAAAAAA2/pAAAAAAABY+0AAAAAAANX7QAAAAACAE/xAAAAAAABS/EAAAAAAAM/8QAAAAAAATP1AAAAAAADJ/UAAAAAAAEb+QAAAAAAAw/5AAAAAAABA/0AAAAAAAL3/QAAAAAAAHQBBAAAAAIBbAEEAAAAAwHoAQQAAAAAAmgBBAAAAAIDYAEEAAAAAABcBQQAAAABAswFBAAAAAIBPAkEAAAAAwOsCQQAAAAAAiANBAAAAAIDABEEAAAAAAPkFQQAAAACAMQdBAAAAAABqCEEAAAAAgKIJQQAAAAAAiNNAAAAAAABM3UAAAAAAAIjjQAAAAAAAauhAAAAAAABM7UAAAAAAAL3vQAAAAAAAF/FAAAAAAIBP8kAAAAAAAIjzQAAAAACAwPRAAAAAAAD59UAAAAAAgDH3QAAAAAAAavhAAAAAAICi+UAAAAAAANv6QAAAAACAE/xAAAAAAABM/UAAAAAAgIT+QAAAAAAAvf9AAAAAAMB6AEEAAAAAABcBQQAAAABAswFBAAAAAIBPAkEAAAAAAIgDQQAAAACAwARBAAAAAAD5BUEAAAAAgDEHQQAAAAAAaghBAAAAAICiCUEAAAAAANsKQQAAAACAEwxBAAAAAABMDUEAAAAAAL0PQQAAAAAAFxFBAAAAAIBPEkEAAAAAAIgTQQAAAACAwBRBAAAAAABqGEE=",
          "dtype": "f8"
         },
         "y": {
          "bdata": "AAAAAAAAAAAAAAAAAAAAAAAAAAAAAAAAAAAAAAAAAAAAAAAAAAAAAAAAAAAAAAAAAAAAAAAAAAAAAAAAAAAAAAAAAAAAAAAAAAAAAAAAAAAAAAAAAAAAAAAAAAAAAAAAAAAAAAAAAAAAAAAAAAAAAAAAAAAAAAAAAAAAAAAAAAAAAAAAAAAAAAAAAAAAAAAAAAAAAAAAAAAAAAAAAAAAAAAAAAAAAAAAAAAAAAAAAAAAAAAAAAAAAAAAAAAAAAAAAAAAAAAAAAAAAAAAAAAAAAAAAAAAAAAAAAAAAAAAAAAAAAAAAAAAAAAAAAAAAAAAAAAAAAAAAAAAAAAAAAAAAAAAAAAAAAAAAAAAAAAAAAAAAAAAAAAAAAAAAAAAAAAAAAAAAAAAAAAAAAAAAAAAAAAAAAAAAPA/AAAAAAAA8D8AAAAAAADwPwAAAAAAAPA/AAAAAAAA8D8AAAAAAADwPwAAAAAAAPA/AAAAAAAA8D8AAAAAAADwPwAAAAAAAPA/AAAAAAAA8D8AAAAAAADwPwAAAAAAAPA/AAAAAAAA8D8AAAAAAADwPwAAAAAAAPA/AAAAAAAAAEAAAAAAAAAAQAAAAAAAAABAAAAAAAAAAEAAAAAAAAAAQAAAAAAAAABAAAAAAAAAAEAAAAAAAAAAQAAAAAAAAABAAAAAAAAAAEAAAAAAAAAAQAAAAAAAAABAAAAAAAAAAEAAAAAAAAAAQAAAAAAAAABAAAAAAAAACEAAAAAAAAAIQAAAAAAAAAhAAAAAAAAACEAAAAAAAAAIQAAAAAAAAAhAAAAAAAAACEAAAAAAAAAIQAAAAAAAAAhAAAAAAAAACEAAAAAAAAAIQAAAAAAAAAhAAAAAAAAACEAAAAAAAAAIQAAAAAAAABxAAAAAAAAAHEAAAAAAAAAcQAAAAAAAABxAAAAAAAAAHEAAAAAAAAAcQAAAAAAAABxAAAAAAAAAHEAAAAAAAAAcQAAAAAAAABxAAAAAAAAAHEAAAAAAAAAcQAAAAAAAABxAAAAAAAAAHEAAAAAAAAAcQAAAAAAAABxAAAAAAAAAHEAAAAAAAAAcQAAAAAAAABxAAAAAAAAAHEAAAAAAAAAcQAAAAAAAABxAAAAAAAAAHEAAAAAAAAAcQAAAAAAAABxAAAAAAAAAHEAAAAAAAAAcQAAAAAAAABxAAAAAAAAAHEAAAAAAAAAcQAAAAAAAABxAAAAAAAAAHEAAAAAAAAAcQAAAAAAAABxAAAAAAAAAHEAAAAAAAAAcQAAAAAAAABxAAAAAAAAAHEAAAAAAAAAcQAAAAAAAABxAAAAAAAAAHEAAAAAAAAAcQAAAAAAAABxAAAAAAAAAHEAAAAAAAAAcQAAAAAAAABxAAAAAAAAAHEAAAAAAAAAcQAAAAAAAABxAAAAAAAAAHEAAAAAAAAAsQAAAAAAAACxAAAAAAAAALEAAAAAAAAAsQAAAAAAAACxAAAAAAAAALEAAAAAAAAAsQAAAAAAAACxAAAAAAAAALEAAAAAAAAAsQAAAAAAAACxAAAAAAAAALEAAAAAAAAAsQAAAAAAAACxAAAAAAAAALEAAAAAAAAAsQAAAAAAAACxAAAAAAAAALEAAAAAAAAAsQAAAAAAAACxAAAAAAAAALEAAAAAAAAAsQAAAAAAAACxAAAAAAAAALEAAAAAAAAAsQAAAAAAAACxAAAAAAAAALEAAAAAAAAAsQAAAAAAAADVAAAAAAAAANUAAAAAAAAA1QAAAAAAAADVAAAAAAAAANUAAAAAAAAA1QAAAAAAAADVAAAAAAAAANUAAAAAAAAA1QAAAAAAAADVAAAAAAAAANUAAAAAAAAA1QAAAAAAAADVAAAAAAAAANUAAAAAAAAA1QAAAAAAAADVAAAAAAAAANUAAAAAAAIBBQAAAAAAAgEFAAAAAAACAQUAAAAAAAIBBQAAAAAAAgEFAAAAAAACAQUAAAAAAAIBBQAAAAAAAgEFAAAAAAACAQUAAAAAAAIBBQAAAAAAAgEFAAAAAAACAQUAAAAAAAIBBQAAAAAAAgEFAAAAAAACAQUAAAAAAAIBBQAAAAAAAgEFAAAAAAACAQUAAAAAAAIBBQAAAAAAAgEFAAAAAAACAQUAAAAAAAIBBQAAAAAAAgEFAAAAAAACAQUAAAAAAAIBBQAAAAAAAgEFAAAAAAACAQUAAAAAAAIBBQAAAAAAAgEFAAAAAAACAQUAAAAAAAIBBQAAAAAAAgEFAAAAAAACAQUAAAAAAAIBBQAAAAAAAgEFAAAAAAACAQUAAAAAAAIBBQAAAAAAAgEFAAAAAAACAQUAAAAAAAIBBQAAAAAAAgEFAAAAAAACAQUAAAAAAAIBBQAAAAAAAgEFAAAAAAACAQUAAAAAAAIBBQAAAAAAAgEFAAAAAAACAQUAAAAAAAIBBQAAAAAAAgEFAAAAAAACAUUAAAAAAAIBRQAAAAAAAgFFAAAAAAACAUUAAAAAAAIBRQAAAAAAAgFFAAAAAAACAUUAAAAAAAIBRQAAAAAAAgFFAAAAAAACAUUAAAAAAAIBRQAAAAAAAgFFAAAAAAACAUUAAAAAAAIBRQAAAAAAAgFFAAAAAAACAUUAAAAAAAIBRQAAAAAAAgFFAAAAAAACAUUAAAAAAAIBRQAAAAAAAgFFAAAAAAACAUUAAAAAAAIBRQAAAAAAAgFFAAAAAAACAUUAAAAAAAIBRQAAAAAAAgFFAAAAAAACAUUAAAAAAAIBRQAAAAAAAgFFAAAAAAACAUUAAAAAAAIBRQAAAAAAAgFFAAAAAAACAUUAAAAAAAIBRQAAAAAAAgFFAAAAAAACAUUAAAAAAAIBRQAAAAAAAgFFAAAAAAACAUUAAAAAAAIBRQAAAAAAAgF9AAAAAAACAX0AAAAAAAIBfQAAAAAAAgF9AAAAAAACAX0AAAAAAAIBfQAAAAAAAgF9AAAAAAACAX0AAAAAAAIBfQAAAAAAAgF9AAAAAAACAX0AAAAAAAIBfQAAAAAAAgF9AAAAAAACAX0AAAAAAAIBfQAAAAAAAgF9AAAAAAACAX0AAAAAAAIBfQAAAAAAAgF9AAAAAAACAX0AAAAAAAIBfQAAAAAAAgF9AAAAAAACAX0AAAAAAAIBfQAAAAAAAgF9AAAAAAACAX0AAAAAAAIBfQAAAAAAAgF9AAAAAAACAX0AAAAAAAIBfQAAAAAAAgF9AAAAAAACAX0AAAAAAAIBfQAAAAAAAgF9AAAAAAACAX0AAAAAAAIBfQAAAAAAAgF9AAAAAAACAX0A=",
          "dtype": "f8"
         },
         "z": {
          "bdata": "SOF6FK6HXkBmZmZmZsZbQB+F61G43lhA7FG4HoXLVUC4HoXrUThTQIXrUbgexVFAuB6F61EIUEBlZmZmZmZLQKRwPQrXI0lAMzMzMzNzRkAAAAAAACBEQArXo3A9KkJAH4XrUbheQECkcD0K1+M9QHE9Ctej8D1AAAAAAACAP0AfhetRuL5BQGZmZmZmxkNAhetRuB4FR0AUrkfhenRJQJqZmZmZmUtAW4/C9SgcTUBmZmZmZuZOQGZmZmZmtlBAMzMzMzNDUUAzMzMzM0NRQDMzMzMzQ1FAMzMzMzNDUUAzMzMzM0NRQDMzMzMzQ1FAMzMzMzNDUUAfhetRuG5RQArXo3A9elJAKVyPwvWIUkApXI/C9YhSQClcj8L1iFJAKVyPwvWIUkApXI/C9YhSQFK4HoXrEUxAfBSuR+E6SUCPwvUoXI9HQNejcD0KF0ZA9ihcj8KVRECF61G4HiVDQM3MzMzMTEJACtejcD1qQUAUrkfhelRBQOF6FK5HYUFA7FG4HoULQkDXo3A9ChdDQAAAAAAA4ERAj8L1KFxvRUCuR+F6FC5HQPYoXI/CdUtAkML1KFzPSkD2KFyPwhVIQPYoXI/CVUVASOF6FK4HREDXo3A9CtdCQArXo3A9ykFA9ihcj8LVQEDsUbgehStAQDMzMzMzMz9A9Shcj8L1PkDgehSuR+E+QOxRuB6F6z5ArUfhehTuP0AzMzMzM1NCQLgehetRmENAuB6F61F4RkCuR+F6FA5EQHsUrkfh+kJAzczMzMzsQUApXI/C9ehAQK5H4XoUDkBAj8L1KFzPPkB7FK5H4bo9QPcoXI/CdT1A9yhcj8J1PUBxPQrXo/A9QD4K16Nw/T5AH4XrUbjeQEBxPQrXo3BCQArXo3A9KmJAKFyPwvX4X0CamZmZmRlfQBSuR+F6FFxAzczMzMwMV0AzMzMzM+NUQOF6FK5HcVJAMzMzMzNzUUDsUbgehVtQQDwK16NwvU9AUrgeheuxTkD2KFyPwpVMQLcehetRmEpA7FG4HoWrSEBmZmZmZuZGQAAAAAAAAEZAw/UoXI8iRUAfhetRuJ5DQGZmZmZmRkJAUrgehevRQUApXI/C9UhBQClcj8L16EBASOF6FK6HQEAK16NwPUpAQClcj8L1SEBACtejcD1KQECPwvUoXE9AQLgehetReEBA4XoUrkfhQEApXI/C9WhBQMP1KFyPAkJAAAAAAABgQkDhehSuR+FCQFK4HoXrkUNAKVyPwvVIREAK16NwPQpFQHsUrkfhekVAZmZmZmZmRkDXo3A9CndHQDMzMzMzs0hAFK5H4XrUSUBbj8L1KDxKQMP1KFyPgkpA4XoUrkcBTkDNzMzMzPxQQOF6FK5HMVJA9ihcj8LFU0D2KFyPwsVTQPYoXI/CxVNAhetRuB7VU0DNzMzMzDxTQHE9CtejAFFApXA9CtdDTkDD9Shcj2JKQFK4HoXr8UZAAAAAAAAgRED2KFyPwtVCQArXo3A96kFAj8L1KFyvQUBI4XoUrmdBQB+F61G4HkFAMzMzMzOzQECF61G4HqVAQHE9CtejkEBAMzMzMzOTQEBcj8L1KJxAQMP1KFyPgkBAhetRuB6FQECkcD0K16NAQIXrUbgepUBAhetRuB7FQEBxPQrXoxBBQKRwPQrXY0FA4XoUrkfBQUAUrkfhenRCQOF6FK5HQUNAj8L1KFxvRUDsUbgehYtHQNejcD0Kl0VA7FG4HoVrQ0D2KFyPwhVDQKRwPQrXY0JAw/UoXI/iQUDD9Shcj6JBQHsUrkfhWkFAXI/C9SgcQUApXI/C9ehAQFyPwvUovEBAzczMzMysQECPwvUoXK9AQK5H4XoUrkBAcT0K16OwQEAfhetRuL5AQNejcD0KN0FAhetRuB6FQkBSuB6F6xlgQHsUrkfhCmBAMzMzMzPjW0AUrkfhenRXQGZmZmZm5lRAH4XrUbjeVEAzMzMzM2NTQOxRuB6Fi1FAFK5H4XrUT0DhehSuRwFNQLcehetR2EpAMzMzMzOTSEBxPQrXo3BGQB+F61G4XkVAAAAAAACgREAUrkfhehRDQFK4HoXrUUJApHA9CtfjQUDsUbgehWtBQBSuR+F6FEFAzczMzMzsQEBcj8L1KNxAQK5H4XoUrkBAj8L1KFyvQECPwvUoXK9AQFK4HoXrsUBAuB6F61G4QEDXo3A9CtdAQOxRuB6FC0FASOF6FK5HQUDNzMzMzMxBQMP1KFyPIkJAhetRuB5FQkCF61G4HqVCQI/C9ShcD0NAMzMzMzNzQ0BI4XoUrudEQAAAAAAAQEZAZmZmZmZGSEDrUbgehetKQFuPwvUo3ExAzczMzMzMTkAUrkfhepRQQB+F61G4PlFAXI/C9SgcUkAzMzMzM9NTQMP1KFyP8lRAUrgeheshVUA9CtejcI1VQBSuR+F6RFdArkfhehSOVUDsUbgehVtTQPYoXI/C1VBA7FG4HoUrTUDgehSuR2FJQOxRuB6Fy0dArkfhehRuRkBxPQrXozBFQClcj8L1CERASOF6FK6nQ0ApXI/C9UhDQMP1KFyPIkNA16NwPQr3QkBxPQrXo7BCQArXo3A9akJArkfhehQuQkCamZmZmflBQD0K16Nw3UFAAAAAAADAQUCF61G4HqVBQMP1KFyPgkFAw/UoXI+CQUCkcD0K14NBQKRwPQrXg0FAZmZmZmaGQUCamZmZmZlBQD0K16NwvUFAAAAAAADgQUCamZmZmflBQOxRuB6FC0JAXI/C9SgcQkApXI/C9UhCQIXrUbge5UJApHA9CteDQ0DsUbgehQtEQDMzMzMzs0RArkfhehQORkBxPQrXo5BHQNejcD0K90hA4XoUrkdBSkB7FK5H4XpLQAAAAAAAEFlAUrgehesBVUDhehSuR/FSQBSuR+F6xFBAFa5H4XrUTUBdj8L1KBxMQD0K16NwvUpAcD0K16OQSUDsUbgehUtIQD0K16NwPUdA7FG4HoVLRkDsUbgehYtFQM3MzMzMDEVAhetRuB6lREBcj8L1KFxEQOF6FK5HIURAPQrXo3D9Q0AUrkfhevRDQOF6FK5HAURAFK5H4XoURED2KFyPwjVEQJqZmZmZWURAmpmZmZmZRECF61G4HiVFQD0K16NwvUVAMzMzMzOTRkAK16NwPUpHQBSuR+F69EdAmpmZmZmZSEAL16NwPUpJQBWuR+F69ElAj8L1KFyPSkCuR+F6FO5LQClcj8L1CE1A9ihcj8IVTkC4HoXrUfhOQGZmZmZmxk9ArkfhehQuUUA=",
          "dtype": "f8"
         }
        }
       ],
       "layout": {
        "height": 700,
        "scene": {
         "camera": {
          "eye": {
           "x": 1.2,
           "y": 1.2,
           "z": 0.8
          }
         },
         "xaxis": {
          "title": {
           "text": "Strike Price ($)"
          }
         },
         "yaxis": {
          "title": {
           "text": "Days to Expiry"
          }
         },
         "zaxis": {
          "title": {
           "text": "Implied Volatility (%)"
          }
         }
        },
        "template": {
         "data": {
          "bar": [
           {
            "error_x": {
             "color": "#2a3f5f"
            },
            "error_y": {
             "color": "#2a3f5f"
            },
            "marker": {
             "line": {
              "color": "#E5ECF6",
              "width": 0.5
             },
             "pattern": {
              "fillmode": "overlay",
              "size": 10,
              "solidity": 0.2
             }
            },
            "type": "bar"
           }
          ],
          "barpolar": [
           {
            "marker": {
             "line": {
              "color": "#E5ECF6",
              "width": 0.5
             },
             "pattern": {
              "fillmode": "overlay",
              "size": 10,
              "solidity": 0.2
             }
            },
            "type": "barpolar"
           }
          ],
          "carpet": [
           {
            "aaxis": {
             "endlinecolor": "#2a3f5f",
             "gridcolor": "white",
             "linecolor": "white",
             "minorgridcolor": "white",
             "startlinecolor": "#2a3f5f"
            },
            "baxis": {
             "endlinecolor": "#2a3f5f",
             "gridcolor": "white",
             "linecolor": "white",
             "minorgridcolor": "white",
             "startlinecolor": "#2a3f5f"
            },
            "type": "carpet"
           }
          ],
          "choropleth": [
           {
            "colorbar": {
             "outlinewidth": 0,
             "ticks": ""
            },
            "type": "choropleth"
           }
          ],
          "contour": [
           {
            "colorbar": {
             "outlinewidth": 0,
             "ticks": ""
            },
            "colorscale": [
             [
              0,
              "#0d0887"
             ],
             [
              0.1111111111111111,
              "#46039f"
             ],
             [
              0.2222222222222222,
              "#7201a8"
             ],
             [
              0.3333333333333333,
              "#9c179e"
             ],
             [
              0.4444444444444444,
              "#bd3786"
             ],
             [
              0.5555555555555556,
              "#d8576b"
             ],
             [
              0.6666666666666666,
              "#ed7953"
             ],
             [
              0.7777777777777778,
              "#fb9f3a"
             ],
             [
              0.8888888888888888,
              "#fdca26"
             ],
             [
              1,
              "#f0f921"
             ]
            ],
            "type": "contour"
           }
          ],
          "contourcarpet": [
           {
            "colorbar": {
             "outlinewidth": 0,
             "ticks": ""
            },
            "type": "contourcarpet"
           }
          ],
          "heatmap": [
           {
            "colorbar": {
             "outlinewidth": 0,
             "ticks": ""
            },
            "colorscale": [
             [
              0,
              "#0d0887"
             ],
             [
              0.1111111111111111,
              "#46039f"
             ],
             [
              0.2222222222222222,
              "#7201a8"
             ],
             [
              0.3333333333333333,
              "#9c179e"
             ],
             [
              0.4444444444444444,
              "#bd3786"
             ],
             [
              0.5555555555555556,
              "#d8576b"
             ],
             [
              0.6666666666666666,
              "#ed7953"
             ],
             [
              0.7777777777777778,
              "#fb9f3a"
             ],
             [
              0.8888888888888888,
              "#fdca26"
             ],
             [
              1,
              "#f0f921"
             ]
            ],
            "type": "heatmap"
           }
          ],
          "histogram": [
           {
            "marker": {
             "pattern": {
              "fillmode": "overlay",
              "size": 10,
              "solidity": 0.2
             }
            },
            "type": "histogram"
           }
          ],
          "histogram2d": [
           {
            "colorbar": {
             "outlinewidth": 0,
             "ticks": ""
            },
            "colorscale": [
             [
              0,
              "#0d0887"
             ],
             [
              0.1111111111111111,
              "#46039f"
             ],
             [
              0.2222222222222222,
              "#7201a8"
             ],
             [
              0.3333333333333333,
              "#9c179e"
             ],
             [
              0.4444444444444444,
              "#bd3786"
             ],
             [
              0.5555555555555556,
              "#d8576b"
             ],
             [
              0.6666666666666666,
              "#ed7953"
             ],
             [
              0.7777777777777778,
              "#fb9f3a"
             ],
             [
              0.8888888888888888,
              "#fdca26"
             ],
             [
              1,
              "#f0f921"
             ]
            ],
            "type": "histogram2d"
           }
          ],
          "histogram2dcontour": [
           {
            "colorbar": {
             "outlinewidth": 0,
             "ticks": ""
            },
            "colorscale": [
             [
              0,
              "#0d0887"
             ],
             [
              0.1111111111111111,
              "#46039f"
             ],
             [
              0.2222222222222222,
              "#7201a8"
             ],
             [
              0.3333333333333333,
              "#9c179e"
             ],
             [
              0.4444444444444444,
              "#bd3786"
             ],
             [
              0.5555555555555556,
              "#d8576b"
             ],
             [
              0.6666666666666666,
              "#ed7953"
             ],
             [
              0.7777777777777778,
              "#fb9f3a"
             ],
             [
              0.8888888888888888,
              "#fdca26"
             ],
             [
              1,
              "#f0f921"
             ]
            ],
            "type": "histogram2dcontour"
           }
          ],
          "mesh3d": [
           {
            "colorbar": {
             "outlinewidth": 0,
             "ticks": ""
            },
            "type": "mesh3d"
           }
          ],
          "parcoords": [
           {
            "line": {
             "colorbar": {
              "outlinewidth": 0,
              "ticks": ""
             }
            },
            "type": "parcoords"
           }
          ],
          "pie": [
           {
            "automargin": true,
            "type": "pie"
           }
          ],
          "scatter": [
           {
            "fillpattern": {
             "fillmode": "overlay",
             "size": 10,
             "solidity": 0.2
            },
            "type": "scatter"
           }
          ],
          "scatter3d": [
           {
            "line": {
             "colorbar": {
              "outlinewidth": 0,
              "ticks": ""
             }
            },
            "marker": {
             "colorbar": {
              "outlinewidth": 0,
              "ticks": ""
             }
            },
            "type": "scatter3d"
           }
          ],
          "scattercarpet": [
           {
            "marker": {
             "colorbar": {
              "outlinewidth": 0,
              "ticks": ""
             }
            },
            "type": "scattercarpet"
           }
          ],
          "scattergeo": [
           {
            "marker": {
             "colorbar": {
              "outlinewidth": 0,
              "ticks": ""
             }
            },
            "type": "scattergeo"
           }
          ],
          "scattergl": [
           {
            "marker": {
             "colorbar": {
              "outlinewidth": 0,
              "ticks": ""
             }
            },
            "type": "scattergl"
           }
          ],
          "scattermap": [
           {
            "marker": {
             "colorbar": {
              "outlinewidth": 0,
              "ticks": ""
             }
            },
            "type": "scattermap"
           }
          ],
          "scattermapbox": [
           {
            "marker": {
             "colorbar": {
              "outlinewidth": 0,
              "ticks": ""
             }
            },
            "type": "scattermapbox"
           }
          ],
          "scatterpolar": [
           {
            "marker": {
             "colorbar": {
              "outlinewidth": 0,
              "ticks": ""
             }
            },
            "type": "scatterpolar"
           }
          ],
          "scatterpolargl": [
           {
            "marker": {
             "colorbar": {
              "outlinewidth": 0,
              "ticks": ""
             }
            },
            "type": "scatterpolargl"
           }
          ],
          "scatterternary": [
           {
            "marker": {
             "colorbar": {
              "outlinewidth": 0,
              "ticks": ""
             }
            },
            "type": "scatterternary"
           }
          ],
          "surface": [
           {
            "colorbar": {
             "outlinewidth": 0,
             "ticks": ""
            },
            "colorscale": [
             [
              0,
              "#0d0887"
             ],
             [
              0.1111111111111111,
              "#46039f"
             ],
             [
              0.2222222222222222,
              "#7201a8"
             ],
             [
              0.3333333333333333,
              "#9c179e"
             ],
             [
              0.4444444444444444,
              "#bd3786"
             ],
             [
              0.5555555555555556,
              "#d8576b"
             ],
             [
              0.6666666666666666,
              "#ed7953"
             ],
             [
              0.7777777777777778,
              "#fb9f3a"
             ],
             [
              0.8888888888888888,
              "#fdca26"
             ],
             [
              1,
              "#f0f921"
             ]
            ],
            "type": "surface"
           }
          ],
          "table": [
           {
            "cells": {
             "fill": {
              "color": "#EBF0F8"
             },
             "line": {
              "color": "white"
             }
            },
            "header": {
             "fill": {
              "color": "#C8D4E3"
             },
             "line": {
              "color": "white"
             }
            },
            "type": "table"
           }
          ]
         },
         "layout": {
          "annotationdefaults": {
           "arrowcolor": "#2a3f5f",
           "arrowhead": 0,
           "arrowwidth": 1
          },
          "autotypenumbers": "strict",
          "coloraxis": {
           "colorbar": {
            "outlinewidth": 0,
            "ticks": ""
           }
          },
          "colorscale": {
           "diverging": [
            [
             0,
             "#8e0152"
            ],
            [
             0.1,
             "#c51b7d"
            ],
            [
             0.2,
             "#de77ae"
            ],
            [
             0.3,
             "#f1b6da"
            ],
            [
             0.4,
             "#fde0ef"
            ],
            [
             0.5,
             "#f7f7f7"
            ],
            [
             0.6,
             "#e6f5d0"
            ],
            [
             0.7,
             "#b8e186"
            ],
            [
             0.8,
             "#7fbc41"
            ],
            [
             0.9,
             "#4d9221"
            ],
            [
             1,
             "#276419"
            ]
           ],
           "sequential": [
            [
             0,
             "#0d0887"
            ],
            [
             0.1111111111111111,
             "#46039f"
            ],
            [
             0.2222222222222222,
             "#7201a8"
            ],
            [
             0.3333333333333333,
             "#9c179e"
            ],
            [
             0.4444444444444444,
             "#bd3786"
            ],
            [
             0.5555555555555556,
             "#d8576b"
            ],
            [
             0.6666666666666666,
             "#ed7953"
            ],
            [
             0.7777777777777778,
             "#fb9f3a"
            ],
            [
             0.8888888888888888,
             "#fdca26"
            ],
            [
             1,
             "#f0f921"
            ]
           ],
           "sequentialminus": [
            [
             0,
             "#0d0887"
            ],
            [
             0.1111111111111111,
             "#46039f"
            ],
            [
             0.2222222222222222,
             "#7201a8"
            ],
            [
             0.3333333333333333,
             "#9c179e"
            ],
            [
             0.4444444444444444,
             "#bd3786"
            ],
            [
             0.5555555555555556,
             "#d8576b"
            ],
            [
             0.6666666666666666,
             "#ed7953"
            ],
            [
             0.7777777777777778,
             "#fb9f3a"
            ],
            [
             0.8888888888888888,
             "#fdca26"
            ],
            [
             1,
             "#f0f921"
            ]
           ]
          },
          "colorway": [
           "#636efa",
           "#EF553B",
           "#00cc96",
           "#ab63fa",
           "#FFA15A",
           "#19d3f3",
           "#FF6692",
           "#B6E880",
           "#FF97FF",
           "#FECB52"
          ],
          "font": {
           "color": "#2a3f5f"
          },
          "geo": {
           "bgcolor": "white",
           "lakecolor": "white",
           "landcolor": "#E5ECF6",
           "showlakes": true,
           "showland": true,
           "subunitcolor": "white"
          },
          "hoverlabel": {
           "align": "left"
          },
          "hovermode": "closest",
          "mapbox": {
           "style": "light"
          },
          "paper_bgcolor": "white",
          "plot_bgcolor": "#E5ECF6",
          "polar": {
           "angularaxis": {
            "gridcolor": "white",
            "linecolor": "white",
            "ticks": ""
           },
           "bgcolor": "#E5ECF6",
           "radialaxis": {
            "gridcolor": "white",
            "linecolor": "white",
            "ticks": ""
           }
          },
          "scene": {
           "xaxis": {
            "backgroundcolor": "#E5ECF6",
            "gridcolor": "white",
            "gridwidth": 2,
            "linecolor": "white",
            "showbackground": true,
            "ticks": "",
            "zerolinecolor": "white"
           },
           "yaxis": {
            "backgroundcolor": "#E5ECF6",
            "gridcolor": "white",
            "gridwidth": 2,
            "linecolor": "white",
            "showbackground": true,
            "ticks": "",
            "zerolinecolor": "white"
           },
           "zaxis": {
            "backgroundcolor": "#E5ECF6",
            "gridcolor": "white",
            "gridwidth": 2,
            "linecolor": "white",
            "showbackground": true,
            "ticks": "",
            "zerolinecolor": "white"
           }
          },
          "shapedefaults": {
           "line": {
            "color": "#2a3f5f"
           }
          },
          "ternary": {
           "aaxis": {
            "gridcolor": "white",
            "linecolor": "white",
            "ticks": ""
           },
           "baxis": {
            "gridcolor": "white",
            "linecolor": "white",
            "ticks": ""
           },
           "bgcolor": "#E5ECF6",
           "caxis": {
            "gridcolor": "white",
            "linecolor": "white",
            "ticks": ""
           }
          },
          "title": {
           "x": 0.05
          },
          "xaxis": {
           "automargin": true,
           "gridcolor": "white",
           "linecolor": "white",
           "ticks": "",
           "title": {
            "standoff": 15
           },
           "zerolinecolor": "white",
           "zerolinewidth": 2
          },
          "yaxis": {
           "automargin": true,
           "gridcolor": "white",
           "linecolor": "white",
           "ticks": "",
           "title": {
            "standoff": 15
           },
           "zerolinecolor": "white",
           "zerolinewidth": 2
          }
         }
        },
        "title": {
         "text": "Volatility Surface Construction Demo<br><sub>307 market points → 30×15 grid</sub>"
        }
       }
      },
      "text/html": [
       "<div>            <script src=\"https://cdnjs.cloudflare.com/ajax/libs/mathjax/2.7.5/MathJax.js?config=TeX-AMS-MML_SVG\"></script><script type=\"text/javascript\">if (window.MathJax && window.MathJax.Hub && window.MathJax.Hub.Config) {window.MathJax.Hub.Config({SVG: {font: \"STIX-Web\"}});}</script>                <script type=\"text/javascript\">window.PlotlyConfig = {MathJaxConfig: 'local'};</script>\n",
       "        <script charset=\"utf-8\" src=\"https://cdn.plot.ly/plotly-3.1.0.min.js\" integrity=\"sha256-Ei4740bWZhaUTQuD6q9yQlgVCMPBz6CZWhevDYPv93A=\" crossorigin=\"anonymous\"></script>                <div id=\"ad11bdfc-1963-40f0-a2cb-e711c247423f\" class=\"plotly-graph-div\" style=\"height:700px; width:100%;\"></div>            <script type=\"text/javascript\">                window.PLOTLYENV=window.PLOTLYENV || {};                                if (document.getElementById(\"ad11bdfc-1963-40f0-a2cb-e711c247423f\")) {                    Plotly.newPlot(                        \"ad11bdfc-1963-40f0-a2cb-e711c247423f\",                        [{\"colorbar\":{\"title\":{\"text\":\"Implied Volatility (%)\"}},\"colorscale\":[[0.0,\"#440154\"],[0.1111111111111111,\"#482878\"],[0.2222222222222222,\"#3e4989\"],[0.3333333333333333,\"#31688e\"],[0.4444444444444444,\"#26828e\"],[0.5555555555555556,\"#1f9e89\"],[0.6666666666666666,\"#35b779\"],[0.7777777777777778,\"#6ece58\"],[0.8888888888888888,\"#b5de2b\"],[1.0,\"#fde725\"]],\"hovertemplate\":\"Strike: $%{x:,.0f}\\u003cbr\\u003eDays: %{y:.1f}\\u003cbr\\u003eIV: %{z:.1f}%\\u003cextra\\u003e\\u003c\\u002fextra\\u003e\",\"name\":\"Interpolated Surface\",\"opacity\":0.8,\"x\":{\"dtype\":\"f8\",\"bdata\":\"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\",\"shape\":\"15, 30\"},\"y\":{\"dtype\":\"f8\",\"bdata\":\"AAAAAAAAAAAAAAAAAAAAAAAAAAAAAAAAAAAAAAAAAAAAAAAAAAAAAAAAAAAAAAAAAAAAAAAAAAAAAAAAAAAAAAAAAAAAAAAAAAAAAAAAAAAAAAAAAAAAAAAAAAAAAAAAAAAAAAAAAAAAAAAAAAAAAAAAAAAAAAAAAAAAAAAAAAAAAAAAAAAAAAAAAAAAAAAAAAAAAAAAAAAAAAAAAAAAAAAAAAAAAAAAAAAAAAAAAAAAAAAAAAAAAAAAAAAAAAAAAAAAAAAAAAAAAAAAAAAAAAAAAAAAAAAAAAAAAAAAAAAAAAAAAAAAAAAAAAAAAAAAAAAAAAAAIkAAAAAAAAAiQAAAAAAAACJAAAAAAAAAIkAAAAAAAAAiQAAAAAAAACJAAAAAAAAAIkAAAAAAAAAiQAAAAAAAACJAAAAAAAAAIkAAAAAAAAAiQAAAAAAAACJAAAAAAAAAIkAAAAAAAAAiQAAAAAAAACJAAAAAAAAAIkAAAAAAAAAiQAAAAAAAACJAAAAAAAAAIkAAAAAAAAAiQAAAAAAAACJAAAAAAAAAIkAAAAAAAAAiQAAAAAAAACJAAAAAAAAAIkAAAAAAAAAiQAAAAAAAACJAAAAAAAAAIkAAAAAAAAAiQAAAAAAAACJAAAAAAAAAMkAAAAAAAAAyQAAAAAAAADJAAAAAAAAAMkAAAAAAAAAyQAAAAAAAADJAAAAAAAAAMkAAAAAAAAAyQAAAAAAAADJAAAAAAAAAMkAAAAAAAAAyQAAAAAAAADJAAAAAAAAAMkAAAAAAAAAyQAAAAAAAADJAAAAAAAAAMkAAAAAAAAAyQAAAAAAAADJAAAAAAAAAMkAAAAAAAAAyQAAAAAAAADJAAAAAAAAAMkAAAAAAAAAyQAAAAAAAADJAAAAAAAAAMkAAAAAAAAAyQAAAAAAAADJAAAAAAAAAMkAAAAAAAAAyQAAAAAAAADJAAAAAAAAAO0AAAAAAAAA7QAAAAAAAADtAAAAAAAAAO0AAAAAAAAA7QAAAAAAAADtAAAAAAAAAO0AAAAAAAAA7QAAAAAAAADtAAAAAAAAAO0AAAAAAAAA7QAAAAAAAADtAAAAAAAAAO0AAAAAAAAA7QAAAAAAAADtAAAAAAAAAO0AAAAAAAAA7QAAAAAAAADtAAAAAAAAAO0AAAAAAAAA7QAAAAAAAADtAAAAAAAAAO0AAAAAAAAA7QAAAAAAAADtAAAAAAAAAO0AAAAAAAAA7QAAAAAAAADtAAAAAAAAAO0AAAAAAAAA7QAAAAAAAADtAAAAAAAAAQkAAAAAAAABCQAAAAAAAAEJAAAAAAAAAQkAAAAAAAABCQAAAAAAAAEJAAAAAAAAAQkAAAAAAAABCQAAAAAAAAEJAAAAAAAAAQkAAAAAAAABCQAAAAAAAAEJAAAAAAAAAQkAAAAAAAABCQAAAAAAAAEJAAAAAAAAAQkAAAAAAAABCQAAAAAAAAEJAAAAAAAAAQkAAAAAAAABCQAAAAAAAAEJAAAAAAAAAQkAAAAAAAABCQAAAAAAAAEJAAAAAAAAAQkAAAAAAAABCQAAAAAAAAEJAAAAAAAAAQkAAAAAAAABCQAAAAAAAAEJAAAAAAACARkAAAAAAAIBGQAAAAAAAgEZAAAAAAACARkAAAAAAAIBGQAAAAAAAgEZAAAAAAACARkAAAAAAAIBGQAAAAAAAgEZAAAAAAACARkAAAAAAAIBGQAAAAAAAgEZAAAAAAACARkAAAAAAAIBGQAAAAAAAgEZAAAAAAACARkAAAAAAAIBGQAAAAAAAgEZAAAAAAACARkAAAAAAAIBGQAAAAAAAgEZAAAAAAACARkAAAAAAAIBGQAAAAAAAgEZAAAAAAACARkAAAAAAAIBGQAAAAAAAgEZAAAAAAACARkAAAAAAAIBGQAAAAAAAgEZAAAAAAAAAS0AAAAAAAABLQAAAAAAAAEtAAAAAAAAAS0AAAAAAAABLQAAAAAAAAEtAAAAAAAAAS0AAAAAAAABLQAAAAAAAAEtAAAAAAAAAS0AAAAAAAABLQAAAAAAAAEtAAAAAAAAAS0AAAAAAAABLQAAAAAAAAEtAAAAAAAAAS0AAAAAAAABLQAAAAAAAAEtAAAAAAAAAS0AAAAAAAABLQAAAAAAAAEtAAAAAAAAAS0AAAAAAAABLQAAAAAAAAEtAAAAAAAAAS0AAAAAAAABLQAAAAAAAAEtAAAAAAAAAS0AAAAAAAABLQAAAAAAAAEtAAAAAAACAT0AAAAAAAIBPQAAAAAAAgE9AAAAAAACAT0AAAAAAAIBPQAAAAAAAgE9AAAAAAACAT0AAAAAAAIBPQAAAAAAAgE9AAAAAAACAT0AAAAAAAIBPQAAAAAAAgE9AAAAAAACAT0AAAAAAAIBPQAAAAAAAgE9AAAAAAACAT0AAAAAAAIBPQAAAAAAAgE9AAAAAAACAT0AAAAAAAIBPQAAAAAAAgE9AAAAAAACAT0AAAAAAAIBPQAAAAAAAgE9AAAAAAACAT0AAAAAAAIBPQAAAAAAAgE9AAAAAAACAT0AAAAAAAIBPQAAAAAAAgE9AAAAAAAAAUkAAAAAAAABSQAAAAAAAAFJAAAAAAAAAUkAAAAAAAABSQAAAAAAAAFJAAAAAAAAAUkAAAAAAAABSQAAAAAAAAFJAAAAAAAAAUkAAAAAAAABSQAAAAAAAAFJAAAAAAAAAUkAAAAAAAABSQAAAAAAAAFJAAAAAAAAAUkAAAAAAAABSQAAAAAAAAFJAAAAAAAAAUkAAAAAAAABSQAAAAAAAAFJAAAAAAAAAUkAAAAAAAABSQAAAAAAAAFJAAAAAAAAAUkAAAAAAAABSQAAAAAAAAFJAAAAAAAAAUkAAAAAAAABSQAAAAAAAAFJAAAAAAABAVEAAAAAAAEBUQAAAAAAAQFRAAAAAAABAVEAAAAAAAEBUQAAAAAAAQFRAAAAAAABAVEAAAAAAAEBUQAAAAAAAQFRAAAAAAABAVEAAAAAAAEBUQAAAAAAAQFRAAAAAAABAVEAAAAAAAEBUQAAAAAAAQFRAAAAAAABAVEAAAAAAAEBUQAAAAAAAQFRAAAAAAABAVEAAAAAAAEBUQAAAAAAAQFRAAAAAAABAVEAAAAAAAEBUQAAAAAAAQFRAAAAAAABAVEAAAAAAAEBUQAAAAAAAQFRAAAAAAABAVEAAAAAAAEBUQAAAAAAAQFRAAAAAAACAVkAAAAAAAIBWQAAAAAAAgFZAAAAAAACAVkAAAAAAAIBWQAAAAAAAgFZAAAAAAACAVkAAAAAAAIBWQAAAAAAAgFZAAAAAAACAVkAAAAAAAIBWQAAAAAAAgFZAAAAAAACAVkAAAAAAAIBWQAAAAAAAgFZAAAAAAACAVkAAAAAAAIBWQAAAAAAAgFZAAAAAAACAVkAAAAAAAIBWQAAAAAAAgFZAAAAAAACAVkAAAAAAAIBWQAAAAAAAgFZAAAAAAACAVkAAAAAAAIBWQAAAAAAAgFZAAAAAAACAVkAAAAAAAIBWQAAAAAAAgFZAAAAAAADAWEAAAAAAAMBYQAAAAAAAwFhAAAAAAADAWEAAAAAAAMBYQAAAAAAAwFhAAAAAAADAWEAAAAAAAMBYQAAAAAAAwFhAAAAAAADAWEAAAAAAAMBYQAAAAAAAwFhAAAAAAADAWEAAAAAAAMBYQAAAAAAAwFhAAAAAAADAWEAAAAAAAMBYQAAAAAAAwFhAAAAAAADAWEAAAAAAAMBYQAAAAAAAwFhAAAAAAADAWEAAAAAAAMBYQAAAAAAAwFhAAAAAAADAWEAAAAAAAMBYQAAAAAAAwFhAAAAAAADAWEAAAAAAAMBYQAAAAAAAwFhAAAAAAAAAW0AAAAAAAABbQAAAAAAAAFtAAAAAAAAAW0AAAAAAAABbQAAAAAAAAFtAAAAAAAAAW0AAAAAAAABbQAAAAAAAAFtAAAAAAAAAW0AAAAAAAABbQAAAAAAAAFtAAAAAAAAAW0AAAAAAAABbQAAAAAAAAFtAAAAAAAAAW0AAAAAAAABbQAAAAAAAAFtAAAAAAAAAW0AAAAAAAABbQAAAAAAAAFtAAAAAAAAAW0AAAAAAAABbQAAAAAAAAFtAAAAAAAAAW0AAAAAAAABbQAAAAAAAAFtAAAAAAAAAW0AAAAAAAABbQAAAAAAAAFtAAAAAAABAXUAAAAAAAEBdQAAAAAAAQF1AAAAAAABAXUAAAAAAAEBdQAAAAAAAQF1AAAAAAABAXUAAAAAAAEBdQAAAAAAAQF1AAAAAAABAXUAAAAAAAEBdQAAAAAAAQF1AAAAAAABAXUAAAAAAAEBdQAAAAAAAQF1AAAAAAABAXUAAAAAAAEBdQAAAAAAAQF1AAAAAAABAXUAAAAAAAEBdQAAAAAAAQF1AAAAAAABAXUAAAAAAAEBdQAAAAAAAQF1AAAAAAABAXUAAAAAAAEBdQAAAAAAAQF1AAAAAAABAXUAAAAAAAEBdQAAAAAAAQF1AAAAAAACAX0AAAAAAAIBfQAAAAAAAgF9AAAAAAACAX0AAAAAAAIBfQAAAAAAAgF9AAAAAAACAX0AAAAAAAIBfQAAAAAAAgF9AAAAAAACAX0AAAAAAAIBfQAAAAAAAgF9AAAAAAACAX0AAAAAAAIBfQAAAAAAAgF9AAAAAAACAX0AAAAAAAIBfQAAAAAAAgF9AAAAAAACAX0AAAAAAAIBfQAAAAAAAgF9AAAAAAACAX0AAAAAAAIBfQAAAAAAAgF9AAAAAAACAX0AAAAAAAIBfQAAAAAAAgF9AAAAAAACAX0AAAAAAAIBfQAAAAAAAgF9A\",\"shape\":\"15, 30\"},\"z\":{\"dtype\":\"f8\",\"bdata\":\"AAAAAAAA+H8AAAAAAAD4fwAAAAAAAPh\\u002fAAAAAAAA+H8AAAAAAAD4fwAAAAAAAPh\\u002fYCS1g9+rWUBQF8YTqLRCQMmuTZTsKlFAEh8IxYoLUkApXI\\u002fC9YhSQClcj8L1iFJAAAAAAAAA+H8AAAAAAAD4fwAAAAAAAPh\\u002fAAAAAAAA+H8AAAAAAAD4fwAAAAAAAPh\\u002fAAAAAAAA+H8AAAAAAAD4fwAAAAAAAPh\\u002fAAAAAAAA+H8AAAAAAAD4fwAAAAAAAPh\\u002fAAAAAAAA+H8AAAAAAAD4fwAAAAAAAPh\\u002fAAAAAAAA+H8AAAAAAAD4fwAAAAAAAPh\\u002fAAAAAAAA+H8AAAAAAAD4fxdUb3srgmBA3avrQINmXkC\\u002fmKQbNC1aQKJk1yZKhlNAcxugvq\\u002fsSkAX+bLMgmVBQEYqHm4D1EJAzT37MmhjTUA4bk1bmmRRQMlf98jQR1FAKKvljRFkU0Br6wcxfI5TQBVyrGUeDVRAzZke\\u002f7\\u002fkU0AAAAAAAAD4fwAAAAAAAPh\\u002fAAAAAAAA+H8AAAAAAAD4fwAAAAAAAPh\\u002fAAAAAAAA+H8AAAAAAAD4fwAAAAAAAPh\\u002fAAAAAAAA+H8AAAAAAAD4fwAAAAAAAPh\\u002fAAAAAAAA+H8AAAAAAAD4fwAAAAAAAPh\\u002fAAAAAAAA+H\\u002fqHTWxPVlhQDgwLJx4R15ADNLUR9AVW0Adirp6JRNXQM5k\\u002fbIDNFBAOoRRkAGzSEABmsG2I3RBQIbxBCrlO0FARfBVEYHESUBxjUTrGD5OQKDFRke5JVFAB3VQB3WsUUDGySDywCFSQLBqL9xhTFNAb+Fp36E3VED+tJQU+G5UQDBfO50BrFRATGiiIonlVEBocQmoEB9VQNC\\u002fze1\\u002fB1VAAAAAAAAA+H8AAAAAAAD4fwAAAAAAAPh\\u002fAAAAAAAA+H8AAAAAAAD4fwAAAAAAAPh\\u002fAAAAAAAA+H8AAAAAAAD4fwAAAAAAAPh\\u002fAAAAAAAA+H\\u002fnHFFo5JhgQHSwkkxmjFtACXCB3gfMV0AmSnZtosRTQBuiT4B5Vk1AbAbbjlBhRkC2pUkEyXVBQP0PUcOg\\u002f0BAvaKw75klRkByPu4f\\u002fbJJQK01yCXB1VBAzX12AbHpT0AhqDmzBbVQQAsWqXi47VFADcdSrZwKU0AchAcJXwxUQJUDw8KJp1RAK11zC0\\u002fLVEAuQ2NPXRFVQEpMytTkSlVAZlUxWmyEVUCCXpjf871VQJ5n\\u002f2R791VAunBm6gIxVkAAAAAAAAD4fwAAAAAAAPh\\u002fAAAAAAAA+H8AAAAAAAD4fwAAAAAAAPh\\u002ffuAHfuAPYEDMUSxJ9ZleQGz4MLbrBFlA3m6NI0TCVEB6cC2YbKxQQPaXt9aDjEpA\\u002fvHyMTcfRUDoP34iu5VBQPYgI9o2vUBAgfuie78EQ0CYN0Yw0U9HQDIhGt7fRlBAWmN4PW0sTEAaYnxJ9LZOQA3+HgCMtVBAV27ZMCq2UUBQjiRlQt9SQNJDD25s6FNA9NRgo7GkVEB8rX1dLvVUQOxnrvtuGlVAoGi0ruBgVUDVH0dl6J9VQPEorupv2VVADTIVcPcSVkAqO3z1fkxWQEZE43oGhlZAYk1KAI6\\u002fVkB+VrGFFflWQAKORs9aM1dAFpR0fPpqX0BDiqlFGflcQLngYyww91dAbHSU26W4U0CG2hysJNNPQPxfi9cV1UlAaHebcmD4REBGPdm9wsdBQO0xK5x\\u002f\\u002f0BAzD5x+TXGQkCl6JSoBpRFQGsZ2Cz9b09AfIGDS93PSkAOHUAz2DZNQAWRB66inU9AzTi+h2\\u002fPUEA8f2a3mUdSQKpaFnm2QlNAy+tnrvv+U0Bqy4+ysk1UQNqFwFDzclRAj4bGA2W5VECKXZ3dG\\u002f9UQKdmBGOjOFVAwm9r6CpyVUDeeNJtsqtVQPuBOfM55VVAGIugeMEeVkA0lAf+SFhWQGBtPC06mVZAMGfZ\\u002fDO2XkD5vjkSkdNbQAfJlqJ06VZA+3mbkwevUkDu4Pc6dWROQD7MteRODElARkAio2oaRUCkOjRZyvlBQHKzdodnUUFAFoI\\u002fd6yHQkDBTj4g\\u002fN9EQHbwe506Uk5Anp+OWU1zSUAC2AMdvLZLQN5wNA6A1U1A5BPdF9YvUEAncKgJ8a9RQIJxHYQAnVJA7xKXZg9ZU0BZ6aEHN6ZTQMmj0qV3y1NAfqTYWOkRVECfR0qPQF5UQF2kWtvWl1RAeK3BYF7RVECUtijm5QpVQLG\\u002fj2ttRFVAzcj28PR9VUDq0V12fLdVQL5MMosZ\\u002f1VASjo+fW0BXkDY4IpXGbtaQJU92PogdVVAi3+iS2mlUUBp29Id1sVNQH444PGHQ0hAPGl+Mi1ERUBDvv+3BCtCQPY0wnJPo0FAYsUN9SJJQkDdtOeX8StEQIDHHw54NE1AsPv0OxcfSED2kscGoDZKQL4D0zT0DkxASJ+YffBKT0AUYepbSBhRQFqIJI9K91FAFhZjwEWoUkBIB7Rcu\\u002f5SQLjB5Pr7I1NAVAZn\\u002fzVsU0CVRLO4cLpTQBPisFMK91NALusX2ZEwVEBL9H5eGWpUQGf95eOgo1RAgwZNaSjdVEAh23cOthxVQBwsKOn4ZFVAZA2j\\u002faZMXUC2AtycoaJZQIn4m+QEGVRAS4eirl4pUUDm1a0ANydNQLcvuvdLokdAKHBDX0pCRUDLpVfn8FtCQHy2DV439UFAgkH972wuQkC2g9\\u002fr1KlDQIuew361FkxAKuUbbR8jR0AcflSXmO1IQMY1Eq1jmEpAyhZ3yzQ2TkD\\u002fUSyun4BQQDKfK5qUUVFAPBkvGnz3UUA2JcaxP1dSQKbf9k+AfFJAoJlo5WLHUkCLQRzioBZTQMgfB8w9VlNA5ChuUcWPU0AAMtXWTMlTQBw7PFzUAlRAOESj4Vs8VECAum1slYJUQHoLHkfYylRAfuAHfuCXXECVJC3iKYpYQDF81oyIrVNAjlUgJWDaUEBj0Ijjl4hMQFiN+mN2i0dArjp7njM\\u002fRUAQXEU7U5pCQAA4WUkfR0JAfmXMpK+CQkAmwenCeNZDQJZ1Z+\\u002fy+EpAAImMqikWR0ANlLOIrqhIQNuUA8PCOUpASo5VGXkhTUDWhdwA7tFPQAm2MqXeq1BAYxz7c7JGUUD08AnyYapRQJX9CKUE1VFA7Sxqy48iUkAtVcCn4HFSQH5dXURxtVJAmmbEyfjuUkC2bytPgChTQNJ4ktQHYlNA4kiz7zGgU0DemWPKdOhTQNjqE6W3MFRAmLNs\\u002fhnjW0B0Rn4nsnFXQNr\\u002fEDUMQlNA0iOem2GLUEDgymPG+OlLQPfqOtCgdEdANgWz3Rw8RUDAi5w9O\\u002fBCQIW5pDQHmUJAe4mbWfLWQkCX\\u002fvOZHANEQKBMC2Aw20lAsHDiTSj7RkD+qRJ6xGNIQPHz9Ngh20lAzAU0Z70MTECuZ2ClnKJOQOHMObAoBlBAiR\\u002fHzeiVUEAa9NVLmPlQQIQbG\\u002fqILVFAOMBrsbx9UUB66MGNDc1RQNCmfoCDElJAUKQaQixOUkBsrYHHs4dSQIi26Ew7wVJAQSipTREGU0A7eVkoVE5TQDbKCQOXllNAsobRflMuW0BSaM9sOllWQI\\u002fC9Shc11JAFfIbEmM8UECqS8xaKFhLQJZIezzLXUdAvM\\u002fqHAY5RUBwu\\u002fM\\u002fI0ZDQAo78B\\u002fv6kJAd61qDjUrQ0AIPP5wwC9EQKojr9BtvUhAC0\\u002f7Dm3SRkDwv3Fr2h5IQAdT5u6AfElATH0StQH4SkCGSeRJS3NNQHLHgXblwE5AYEUmTz7KT0BA96GlzkhQQHI5LU8NhlBAhlNtl+nYUEDGe8NzOihRQMaj56mzblFABuJwul+tUUAi69c\\u002f5+ZRQKS27tCtI1JAnwefq\\u002fBrUkCaWE+GM7RSQJSp\\u002f2B2\\u002fFJAzFk2\\u002f4x5WkAyiiCywkBVQM3MzMzMbFJAr4AzEcnaT0C4hMM0LvRKQDamu6j1RkdARJoiXO81RUAg60pCC5xDQI+8OwvXPENAdNE5w3d\\u002fQ0B4eQhIZFxEQLP6UkGrn0dAZS0U0LGpRkDh1dBc8NlHQEzSDZpmGklAsJ3OAFD6SUBeK2ju+UNMQCL1j4x5dU1ArUu+AqtoTkDQ9Nv+CTBPQMKufkgjvU9A0uZufRY0UEATD8VZZ4NQQLygUNPjylBAvB\\u002fHMpMMUUDXKC64GkZRQAKW5C6NiVFA\\u002fuaUCdDRUUD3N0XkEhpSQPKI9b5VYlJA5iybf8bEWUB+wIhTWMlUQArXo3A9AlJAGO433g0WT0DEvboONJBKQNUD\\u002fBQgMEdAymRam9gyRUDRGqJE8\\u002fFDQCtjJn0VkENAcPUIeLrTQ0ChQYnF\\u002fIVEQL7R9rHogUZAwAstkfaARkDS6y9OBpVHQLKHysvoo0hAFlOLMtKDSUA2DeySqBRLQNxbqoBPIUxA+lFWthcHTUAd+3Oyds5NQHnyUYdqbk5APfTgxoYeT0C\\u002fRI1\\u002fKL1PQLKdufwTJ1BACglKSJZqUEBmJCqyKadQQGF12oxs71BAWsaKZ683UUBVFztC8n9RQFBo6xw1yFFAAAAAAAAQWUAmRMP7211UQEfhehSul1FA4vc6deQVTkDR9rHoOSxKQJ5GWO5pJEdAUS+S2sEvRUCBSvlG20dEQDnmpPnJ9ENAbBnYLP0nREC7s3d5CKhEQMiomiImZEVAG+pFUjtYRkDEAY8\\u002fHFBHQBY9h\\u002f1qLUhAeghIZFQNSUBcg1wSnO5JQCliQjS8v0pARljuaYSlS0BpAQxm42xMQBIZVVPEJE1A1RrkkuDUTUBYa5BLgnNOQFE1RUyIBk9AAAxm44yNT0DEAyAQCQ1QQL5U0OpLVVBAuaWAxY6dUEC09jCg0eVQQK5H4XoULlFA\",\"shape\":\"15, 30\"},\"type\":\"surface\"},{\"hovertemplate\":\"Strike: $%{x:,.0f}\\u003cbr\\u003eDays: %{y:.1f}\\u003cbr\\u003eIV: %{z:.1f}%\\u003cbr\\u003eExpiry: %{text}\\u003cextra\\u003e\\u003c\\u002fextra\\u003e\",\"marker\":{\"color\":\"red\",\"size\":4,\"symbol\":\"circle\"},\"mode\":\"markers\",\"name\":\"Market Data\",\"text\":[\"2025-08-22\",\"2025-08-22\",\"2025-08-22\",\"2025-08-22\",\"2025-08-22\",\"2025-08-22\",\"2025-08-22\",\"2025-08-22\",\"2025-08-22\",\"2025-08-22\",\"2025-08-22\",\"2025-08-22\",\"2025-08-22\",\"2025-08-22\",\"2025-08-22\",\"2025-08-22\",\"2025-08-22\",\"2025-08-22\",\"2025-08-22\",\"2025-08-22\",\"2025-08-22\",\"2025-08-22\",\"2025-08-22\",\"2025-08-22\",\"2025-08-22\",\"2025-08-22\",\"2025-08-22\",\"2025-08-22\",\"2025-08-22\",\"2025-08-22\",\"2025-08-22\",\"2025-08-22\",\"2025-08-22\",\"2025-08-22\",\"2025-08-22\",\"2025-08-22\",\"2025-08-22\",\"2025-08-22\",\"2025-08-23\",\"2025-08-23\",\"2025-08-23\",\"2025-08-23\",\"2025-08-23\",\"2025-08-23\",\"2025-08-23\",\"2025-08-23\",\"2025-08-23\",\"2025-08-23\",\"2025-08-23\",\"2025-08-23\",\"2025-08-23\",\"2025-08-23\",\"2025-08-23\",\"2025-08-23\",\"2025-08-24\",\"2025-08-24\",\"2025-08-24\",\"2025-08-24\",\"2025-08-24\",\"2025-08-24\",\"2025-08-24\",\"2025-08-24\",\"2025-08-24\",\"2025-08-24\",\"2025-08-24\",\"2025-08-24\",\"2025-08-24\",\"2025-08-24\",\"2025-08-24\",\"2025-08-25\",\"2025-08-25\",\"2025-08-25\",\"2025-08-25\",\"2025-08-25\",\"2025-08-25\",\"2025-08-25\",\"2025-08-25\",\"2025-08-25\",\"2025-08-25\",\"2025-08-25\",\"2025-08-25\",\"2025-08-25\",\"2025-08-25\",\"2025-08-29\",\"2025-08-29\",\"2025-08-29\",\"2025-08-29\",\"2025-08-29\",\"2025-08-29\",\"2025-08-29\",\"2025-08-29\",\"2025-08-29\",\"2025-08-29\",\"2025-08-29\",\"2025-08-29\",\"2025-08-29\",\"2025-08-29\",\"2025-08-29\",\"2025-08-29\",\"2025-08-29\",\"2025-08-29\",\"2025-08-29\",\"2025-08-29\",\"2025-08-29\",\"2025-08-29\",\"2025-08-29\",\"2025-08-29\",\"2025-08-29\",\"2025-08-29\",\"2025-08-29\",\"2025-08-29\",\"2025-08-29\",\"2025-08-29\",\"2025-08-29\",\"2025-08-29\",\"2025-08-29\",\"2025-08-29\",\"2025-08-29\",\"2025-08-29\",\"2025-08-29\",\"2025-08-29\",\"2025-08-29\",\"2025-08-29\",\"2025-08-29\",\"2025-08-29\",\"2025-08-29\",\"2025-08-29\",\"2025-08-29\",\"2025-08-29\",\"2025-08-29\",\"2025-08-29\",\"2025-08-29\",\"2025-08-29\",\"2025-09-05\",\"2025-09-05\",\"2025-09-05\",\"2025-09-05\",\"2025-09-05\",\"2025-09-05\",\"2025-09-05\",\"2025-09-05\",\"2025-09-05\",\"2025-09-05\",\"2025-09-05\",\"2025-09-05\",\"2025-09-05\",\"2025-09-05\",\"2025-09-05\",\"2025-09-05\",\"2025-09-05\",\"2025-09-05\",\"2025-09-05\",\"2025-09-05\",\"2025-09-05\",\"2025-09-05\",\"2025-09-05\",\"2025-09-05\",\"2025-09-05\",\"2025-09-05\",\"2025-09-05\",\"2025-09-05\",\"2025-09-12\",\"2025-09-12\",\"2025-09-12\",\"2025-09-12\",\"2025-09-12\",\"2025-09-12\",\"2025-09-12\",\"2025-09-12\",\"2025-09-12\",\"2025-09-12\",\"2025-09-12\",\"2025-09-12\",\"2025-09-12\",\"2025-09-12\",\"2025-09-12\",\"2025-09-12\",\"2025-09-12\",\"2025-09-26\",\"2025-09-26\",\"2025-09-26\",\"2025-09-26\",\"2025-09-26\",\"2025-09-26\",\"2025-09-26\",\"2025-09-26\",\"2025-09-26\",\"2025-09-26\",\"2025-09-26\",\"2025-09-26\",\"2025-09-26\",\"2025-09-26\",\"2025-09-26\",\"2025-09-26\",\"2025-09-26\",\"2025-09-26\",\"2025-09-26\",\"2025-09-26\",\"2025-09-26\",\"2025-09-26\",\"2025-09-26\",\"2025-09-26\",\"2025-09-26\",\"2025-09-26\",\"2025-09-26\",\"2025-09-26\",\"2025-09-26\",\"2025-09-26\",\"2025-09-26\",\"2025-09-26\",\"2025-09-26\",\"2025-09-26\",\"2025-09-26\",\"2025-09-26\",\"2025-09-26\",\"2025-09-26\",\"2025-09-26\",\"2025-09-26\",\"2025-09-26\",\"2025-09-26\",\"2025-09-26\",\"2025-09-26\",\"2025-09-26\",\"2025-09-26\",\"2025-09-26\",\"2025-09-26\",\"2025-09-26\",\"2025-09-26\",\"2025-10-31\",\"2025-10-31\",\"2025-10-31\",\"2025-10-31\",\"2025-10-31\",\"2025-10-31\",\"2025-10-31\",\"2025-10-31\",\"2025-10-31\",\"2025-10-31\",\"2025-10-31\",\"2025-10-31\",\"2025-10-31\",\"2025-10-31\",\"2025-10-31\",\"2025-10-31\",\"2025-10-31\",\"2025-10-31\",\"2025-10-31\",\"2025-10-31\",\"2025-10-31\",\"2025-10-31\",\"2025-10-31\",\"2025-10-31\",\"2025-10-31\",\"2025-10-31\",\"2025-10-31\",\"2025-10-31\",\"2025-10-31\",\"2025-10-31\",\"2025-10-31\",\"2025-10-31\",\"2025-10-31\",\"2025-10-31\",\"2025-10-31\",\"2025-10-31\",\"2025-10-31\",\"2025-10-31\",\"2025-10-31\",\"2025-10-31\",\"2025-10-31\",\"2025-12-26\",\"2025-12-26\",\"2025-12-26\",\"2025-12-26\",\"2025-12-26\",\"2025-12-26\",\"2025-12-26\",\"2025-12-26\",\"2025-12-26\",\"2025-12-26\",\"2025-12-26\",\"2025-12-26\",\"2025-12-26\",\"2025-12-26\",\"2025-12-26\",\"2025-12-26\",\"2025-12-26\",\"2025-12-26\",\"2025-12-26\",\"2025-12-26\",\"2025-12-26\",\"2025-12-26\",\"2025-12-26\",\"2025-12-26\",\"2025-12-26\",\"2025-12-26\",\"2025-12-26\",\"2025-12-26\",\"2025-12-26\",\"2025-12-26\",\"2025-12-26\",\"2025-12-26\",\"2025-12-26\",\"2025-12-26\",\"2025-12-26\",\"2025-12-26\",\"2025-12-26\",\"2025-12-26\"],\"x\":{\"dtype\":\"f8\",\"bdata\":\"AAAAAAD59UAAAAAAgDH3QAAAAAAAavhAAAAAAADn+EAAAAAAAGT5QAAAAACAovlAAAAAAADh+UAAAAAAAF76QAAAAACAnPpAAAAAAADb+kAAAAAAgBn7QAAAAAAAWPtAAAAAAICW+0AAAAAAANX7QAAAAACAE\\u002fxAAAAAAABS\\u002fEAAAAAAgJD8QAAAAAAAz\\u002fxAAAAAAIAN\\u002fUAAAAAAAEz9QAAAAACAiv1AAAAAAADJ\\u002fUAAAAAAgAf+QAAAAAAARv5AAAAAAICE\\u002fkAAAAAAAMP+QAAAAACAAf9AAAAAAABA\\u002f0AAAAAAgH7\\u002fQAAAAAAAvf9AAAAAAAAdAEEAAAAAwHoAQQAAAAAAFwFBAAAAAECzAUEAAAAAgE8CQQAAAADA6wJBAAAAAACIA0EAAAAAQCQEQQAAAAAA4flAAAAAAABe+kAAAAAAgJz6QAAAAAAA2\\u002fpAAAAAAIAZ+0AAAAAAAFj7QAAAAACAlvtAAAAAAADV+0AAAAAAgBP8QAAAAAAAUvxAAAAAAICQ\\u002fEAAAAAAAM\\u002f8QAAAAACADf1AAAAAAABM\\u002fUAAAAAAAMn9QAAAAAAARv5AAAAAAABk+UAAAAAAAOH5QAAAAAAAXvpAAAAAAICc+kAAAAAAANv6QAAAAACAGftAAAAAAABY+0AAAAAAgJb7QAAAAAAA1ftAAAAAAIAT\\u002fEAAAAAAAFL8QAAAAACAkPxAAAAAAADP\\u002fEAAAAAAAEz9QAAAAAAAyf1AAAAAAADh+UAAAAAAAF76QAAAAACAnPpAAAAAAADb+kAAAAAAgBn7QAAAAAAAWPtAAAAAAICW+0AAAAAAANX7QAAAAACAE\\u002fxAAAAAAABS\\u002fEAAAAAAgJD8QAAAAAAAz\\u002fxAAAAAAABM\\u002fUAAAAAAAMn9QAAAAAAAiONAAAAAAABq6EAAAAAAAEztQAAAAAAAF\\u002fFAAAAAAACI80AAAAAAgMD0QAAAAAAA+fVAAAAAAAB29kAAAAAAAPP2QAAAAACAMfdAAAAAAABw90AAAAAAAO33QAAAAAAAavhAAAAAAADn+EAAAAAAAGT5QAAAAACAovlAAAAAAADh+UAAAAAAAF76QAAAAAAA2\\u002fpAAAAAAIAZ+0AAAAAAAFj7QAAAAACAlvtAAAAAAADV+0AAAAAAgBP8QAAAAAAAUvxAAAAAAICQ\\u002fEAAAAAAAM\\u002f8QAAAAACADf1AAAAAAABM\\u002fUAAAAAAgIr9QAAAAAAAyf1AAAAAAIAH\\u002fkAAAAAAAEb+QAAAAACAhP5AAAAAAADD\\u002fkAAAAAAgAH\\u002fQAAAAAAAQP9AAAAAAIB+\\u002f0AAAAAAAL3\\u002fQAAAAAAAHQBBAAAAAIBbAEEAAAAAwHoAQQAAAAAAmgBBAAAAAAAXAUEAAAAAQLMBQQAAAACATwJBAAAAAACIA0EAAAAAgMAEQQAAAAAA+QVBAAAAAIAxB0EAAAAAAIjzQAAAAACAwPRAAAAAAAD59UAAAAAAgDH3QAAAAAAAavhAAAAAAICi+UAAAAAAAF76QAAAAAAA2\\u002fpAAAAAAIAZ+0AAAAAAAFj7QAAAAACAlvtAAAAAAADV+0AAAAAAgBP8QAAAAAAAUvxAAAAAAICQ\\u002fEAAAAAAAM\\u002f8QAAAAACADf1AAAAAAABM\\u002fUAAAAAAgIr9QAAAAAAAyf1AAAAAAIAH\\u002fkAAAAAAAEb+QAAAAACAhP5AAAAAAADD\\u002fkAAAAAAAED\\u002fQAAAAAAAvf9AAAAAAMB6AEEAAAAAABcBQQAAAAAAavhAAAAAAICi+UAAAAAAAOH5QAAAAAAAXvpAAAAAAADb+kAAAAAAgBn7QAAAAAAAWPtAAAAAAICW+0AAAAAAANX7QAAAAACAE\\u002fxAAAAAAABS\\u002fEAAAAAAgJD8QAAAAAAAz\\u002fxAAAAAAABM\\u002fUAAAAAAAMn9QAAAAACAhP5AAAAAAAC9\\u002f0AAAAAAAIjTQAAAAAAATN1AAAAAAACI40AAAAAAAGroQAAAAAAA2+pAAAAAAABM7UAAAAAAAL3vQAAAAAAAF\\u002fFAAAAAAIBP8kAAAAAAAIjzQAAAAACAwPRAAAAAAAD59UAAAAAAgDH3QAAAAAAA7fdAAAAAAABq+EAAAAAAgKL5QAAAAAAAXvpAAAAAAADb+kAAAAAAAFj7QAAAAAAA1ftAAAAAAIAT\\u002fEAAAAAAAFL8QAAAAAAAz\\u002fxAAAAAAABM\\u002fUAAAAAAAMn9QAAAAAAARv5AAAAAAICE\\u002fkAAAAAAAMP+QAAAAAAAQP9AAAAAAAC9\\u002f0AAAAAAAB0AQQAAAACAWwBBAAAAAMB6AEEAAAAAAJoAQQAAAACA2ABBAAAAAAAXAUEAAAAAQLMBQQAAAACATwJBAAAAAACIA0EAAAAAgMAEQQAAAAAA+QVBAAAAAIAxB0EAAAAAAGoIQQAAAACAoglBAAAAAADbCkEAAAAAAEwNQQAAAAAAvQ9BAAAAAAAXEUEAAAAAgE8SQQAAAAAAahhBAAAAAACI40AAAAAAAGroQAAAAAAATO1AAAAAAAAX8UAAAAAAAIjzQAAAAACAwPRAAAAAAAD59UAAAAAAgDH3QAAAAAAAavhAAAAAAADn+EAAAAAAAGT5QAAAAACAovlAAAAAAADh+UAAAAAAAF76QAAAAAAA2\\u002fpAAAAAAABY+0AAAAAAANX7QAAAAACAE\\u002fxAAAAAAABS\\u002fEAAAAAAAM\\u002f8QAAAAAAATP1AAAAAAADJ\\u002fUAAAAAAAEb+QAAAAAAAw\\u002f5AAAAAAABA\\u002f0AAAAAAAL3\\u002fQAAAAAAAHQBBAAAAAIBbAEEAAAAAwHoAQQAAAAAAmgBBAAAAAIDYAEEAAAAAABcBQQAAAABAswFBAAAAAIBPAkEAAAAAwOsCQQAAAAAAiANBAAAAAIDABEEAAAAAAPkFQQAAAACAMQdBAAAAAABqCEEAAAAAgKIJQQAAAAAAiNNAAAAAAABM3UAAAAAAAIjjQAAAAAAAauhAAAAAAABM7UAAAAAAAL3vQAAAAAAAF\\u002fFAAAAAAIBP8kAAAAAAAIjzQAAAAACAwPRAAAAAAAD59UAAAAAAgDH3QAAAAAAAavhAAAAAAICi+UAAAAAAANv6QAAAAACAE\\u002fxAAAAAAABM\\u002fUAAAAAAgIT+QAAAAAAAvf9AAAAAAMB6AEEAAAAAABcBQQAAAABAswFBAAAAAIBPAkEAAAAAAIgDQQAAAACAwARBAAAAAAD5BUEAAAAAgDEHQQAAAAAAaghBAAAAAICiCUEAAAAAANsKQQAAAACAEwxBAAAAAABMDUEAAAAAAL0PQQAAAAAAFxFBAAAAAIBPEkEAAAAAAIgTQQAAAACAwBRBAAAAAABqGEE=\"},\"y\":{\"dtype\":\"f8\",\"bdata\":\"AAAAAAAAAAAAAAAAAAAAAAAAAAAAAAAAAAAAAAAAAAAAAAAAAAAAAAAAAAAAAAAAAAAAAAAAAAAAAAAAAAAAAAAAAAAAAAAAAAAAAAAAAAAAAAAAAAAAAAAAAAAAAAAAAAAAAAAAAAAAAAAAAAAAAAAAAAAAAAAAAAAAAAAAAAAAAAAAAAAAAAAAAAAAAAAAAAAAAAAAAAAAAAAAAAAAAAAAAAAAAAAAAAAAAAAAAAAAAAAAAAAAAAAAAAAAAAAAAAAAAAAAAAAAAAAAAAAAAAAAAAAAAAAAAAAAAAAAAAAAAAAAAAAAAAAAAAAAAAAAAAAAAAAAAAAAAAAAAAAAAAAAAAAAAAAAAAAAAAAAAAAAAAAAAAAAAAAAAAAAAAAAAAAAAAAAAAAAAAAAAAAAAAAAAAAAAPA\\u002fAAAAAAAA8D8AAAAAAADwPwAAAAAAAPA\\u002fAAAAAAAA8D8AAAAAAADwPwAAAAAAAPA\\u002fAAAAAAAA8D8AAAAAAADwPwAAAAAAAPA\\u002fAAAAAAAA8D8AAAAAAADwPwAAAAAAAPA\\u002fAAAAAAAA8D8AAAAAAADwPwAAAAAAAPA\\u002fAAAAAAAAAEAAAAAAAAAAQAAAAAAAAABAAAAAAAAAAEAAAAAAAAAAQAAAAAAAAABAAAAAAAAAAEAAAAAAAAAAQAAAAAAAAABAAAAAAAAAAEAAAAAAAAAAQAAAAAAAAABAAAAAAAAAAEAAAAAAAAAAQAAAAAAAAABAAAAAAAAACEAAAAAAAAAIQAAAAAAAAAhAAAAAAAAACEAAAAAAAAAIQAAAAAAAAAhAAAAAAAAACEAAAAAAAAAIQAAAAAAAAAhAAAAAAAAACEAAAAAAAAAIQAAAAAAAAAhAAAAAAAAACEAAAAAAAAAIQAAAAAAAABxAAAAAAAAAHEAAAAAAAAAcQAAAAAAAABxAAAAAAAAAHEAAAAAAAAAcQAAAAAAAABxAAAAAAAAAHEAAAAAAAAAcQAAAAAAAABxAAAAAAAAAHEAAAAAAAAAcQAAAAAAAABxAAAAAAAAAHEAAAAAAAAAcQAAAAAAAABxAAAAAAAAAHEAAAAAAAAAcQAAAAAAAABxAAAAAAAAAHEAAAAAAAAAcQAAAAAAAABxAAAAAAAAAHEAAAAAAAAAcQAAAAAAAABxAAAAAAAAAHEAAAAAAAAAcQAAAAAAAABxAAAAAAAAAHEAAAAAAAAAcQAAAAAAAABxAAAAAAAAAHEAAAAAAAAAcQAAAAAAAABxAAAAAAAAAHEAAAAAAAAAcQAAAAAAAABxAAAAAAAAAHEAAAAAAAAAcQAAAAAAAABxAAAAAAAAAHEAAAAAAAAAcQAAAAAAAABxAAAAAAAAAHEAAAAAAAAAcQAAAAAAAABxAAAAAAAAAHEAAAAAAAAAcQAAAAAAAABxAAAAAAAAAHEAAAAAAAAAsQAAAAAAAACxAAAAAAAAALEAAAAAAAAAsQAAAAAAAACxAAAAAAAAALEAAAAAAAAAsQAAAAAAAACxAAAAAAAAALEAAAAAAAAAsQAAAAAAAACxAAAAAAAAALEAAAAAAAAAsQAAAAAAAACxAAAAAAAAALEAAAAAAAAAsQAAAAAAAACxAAAAAAAAALEAAAAAAAAAsQAAAAAAAACxAAAAAAAAALEAAAAAAAAAsQAAAAAAAACxAAAAAAAAALEAAAAAAAAAsQAAAAAAAACxAAAAAAAAALEAAAAAAAAAsQAAAAAAAADVAAAAAAAAANUAAAAAAAAA1QAAAAAAAADVAAAAAAAAANUAAAAAAAAA1QAAAAAAAADVAAAAAAAAANUAAAAAAAAA1QAAAAAAAADVAAAAAAAAANUAAAAAAAAA1QAAAAAAAADVAAAAAAAAANUAAAAAAAAA1QAAAAAAAADVAAAAAAAAANUAAAAAAAIBBQAAAAAAAgEFAAAAAAACAQUAAAAAAAIBBQAAAAAAAgEFAAAAAAACAQUAAAAAAAIBBQAAAAAAAgEFAAAAAAACAQUAAAAAAAIBBQAAAAAAAgEFAAAAAAACAQUAAAAAAAIBBQAAAAAAAgEFAAAAAAACAQUAAAAAAAIBBQAAAAAAAgEFAAAAAAACAQUAAAAAAAIBBQAAAAAAAgEFAAAAAAACAQUAAAAAAAIBBQAAAAAAAgEFAAAAAAACAQUAAAAAAAIBBQAAAAAAAgEFAAAAAAACAQUAAAAAAAIBBQAAAAAAAgEFAAAAAAACAQUAAAAAAAIBBQAAAAAAAgEFAAAAAAACAQUAAAAAAAIBBQAAAAAAAgEFAAAAAAACAQUAAAAAAAIBBQAAAAAAAgEFAAAAAAACAQUAAAAAAAIBBQAAAAAAAgEFAAAAAAACAQUAAAAAAAIBBQAAAAAAAgEFAAAAAAACAQUAAAAAAAIBBQAAAAAAAgEFAAAAAAACAQUAAAAAAAIBBQAAAAAAAgEFAAAAAAACAUUAAAAAAAIBRQAAAAAAAgFFAAAAAAACAUUAAAAAAAIBRQAAAAAAAgFFAAAAAAACAUUAAAAAAAIBRQAAAAAAAgFFAAAAAAACAUUAAAAAAAIBRQAAAAAAAgFFAAAAAAACAUUAAAAAAAIBRQAAAAAAAgFFAAAAAAACAUUAAAAAAAIBRQAAAAAAAgFFAAAAAAACAUUAAAAAAAIBRQAAAAAAAgFFAAAAAAACAUUAAAAAAAIBRQAAAAAAAgFFAAAAAAACAUUAAAAAAAIBRQAAAAAAAgFFAAAAAAACAUUAAAAAAAIBRQAAAAAAAgFFAAAAAAACAUUAAAAAAAIBRQAAAAAAAgFFAAAAAAACAUUAAAAAAAIBRQAAAAAAAgFFAAAAAAACAUUAAAAAAAIBRQAAAAAAAgFFAAAAAAACAUUAAAAAAAIBRQAAAAAAAgF9AAAAAAACAX0AAAAAAAIBfQAAAAAAAgF9AAAAAAACAX0AAAAAAAIBfQAAAAAAAgF9AAAAAAACAX0AAAAAAAIBfQAAAAAAAgF9AAAAAAACAX0AAAAAAAIBfQAAAAAAAgF9AAAAAAACAX0AAAAAAAIBfQAAAAAAAgF9AAAAAAACAX0AAAAAAAIBfQAAAAAAAgF9AAAAAAACAX0AAAAAAAIBfQAAAAAAAgF9AAAAAAACAX0AAAAAAAIBfQAAAAAAAgF9AAAAAAACAX0AAAAAAAIBfQAAAAAAAgF9AAAAAAACAX0AAAAAAAIBfQAAAAAAAgF9AAAAAAACAX0AAAAAAAIBfQAAAAAAAgF9AAAAAAACAX0AAAAAAAIBfQAAAAAAAgF9AAAAAAACAX0A=\"},\"z\":{\"dtype\":\"f8\",\"bdata\":\"SOF6FK6HXkBmZmZmZsZbQB+F61G43lhA7FG4HoXLVUC4HoXrUThTQIXrUbgexVFAuB6F61EIUEBlZmZmZmZLQKRwPQrXI0lAMzMzMzNzRkAAAAAAACBEQArXo3A9KkJAH4XrUbheQECkcD0K1+M9QHE9Ctej8D1AAAAAAACAP0AfhetRuL5BQGZmZmZmxkNAhetRuB4FR0AUrkfhenRJQJqZmZmZmUtAW4\\u002fC9SgcTUBmZmZmZuZOQGZmZmZmtlBAMzMzMzNDUUAzMzMzM0NRQDMzMzMzQ1FAMzMzMzNDUUAzMzMzM0NRQDMzMzMzQ1FAMzMzMzNDUUAfhetRuG5RQArXo3A9elJAKVyPwvWIUkApXI\\u002fC9YhSQClcj8L1iFJAKVyPwvWIUkApXI\\u002fC9YhSQFK4HoXrEUxAfBSuR+E6SUCPwvUoXI9HQNejcD0KF0ZA9ihcj8KVRECF61G4HiVDQM3MzMzMTEJACtejcD1qQUAUrkfhelRBQOF6FK5HYUFA7FG4HoULQkDXo3A9ChdDQAAAAAAA4ERAj8L1KFxvRUCuR+F6FC5HQPYoXI\\u002fCdUtAkML1KFzPSkD2KFyPwhVIQPYoXI\\u002fCVUVASOF6FK4HREDXo3A9CtdCQArXo3A9ykFA9ihcj8LVQEDsUbgehStAQDMzMzMzMz9A9Shcj8L1PkDgehSuR+E+QOxRuB6F6z5ArUfhehTuP0AzMzMzM1NCQLgehetRmENAuB6F61F4RkCuR+F6FA5EQHsUrkfh+kJAzczMzMzsQUApXI\\u002fC9ehAQK5H4XoUDkBAj8L1KFzPPkB7FK5H4bo9QPcoXI\\u002fCdT1A9yhcj8J1PUBxPQrXo\\u002fA9QD4K16Nw\\u002fT5AH4XrUbjeQEBxPQrXo3BCQArXo3A9KmJAKFyPwvX4X0CamZmZmRlfQBSuR+F6FFxAzczMzMwMV0AzMzMzM+NUQOF6FK5HcVJAMzMzMzNzUUDsUbgehVtQQDwK16NwvU9AUrgeheuxTkD2KFyPwpVMQLcehetRmEpA7FG4HoWrSEBmZmZmZuZGQAAAAAAAAEZAw\\u002fUoXI8iRUAfhetRuJ5DQGZmZmZmRkJAUrgehevRQUApXI\\u002fC9UhBQClcj8L16EBASOF6FK6HQEAK16NwPUpAQClcj8L1SEBACtejcD1KQECPwvUoXE9AQLgehetReEBA4XoUrkfhQEApXI\\u002fC9WhBQMP1KFyPAkJAAAAAAABgQkDhehSuR+FCQFK4HoXrkUNAKVyPwvVIREAK16NwPQpFQHsUrkfhekVAZmZmZmZmRkDXo3A9CndHQDMzMzMzs0hAFK5H4XrUSUBbj8L1KDxKQMP1KFyPgkpA4XoUrkcBTkDNzMzMzPxQQOF6FK5HMVJA9ihcj8LFU0D2KFyPwsVTQPYoXI\\u002fCxVNAhetRuB7VU0DNzMzMzDxTQHE9CtejAFFApXA9CtdDTkDD9Shcj2JKQFK4HoXr8UZAAAAAAAAgRED2KFyPwtVCQArXo3A96kFAj8L1KFyvQUBI4XoUrmdBQB+F61G4HkFAMzMzMzOzQECF61G4HqVAQHE9CtejkEBAMzMzMzOTQEBcj8L1KJxAQMP1KFyPgkBAhetRuB6FQECkcD0K16NAQIXrUbgepUBAhetRuB7FQEBxPQrXoxBBQKRwPQrXY0FA4XoUrkfBQUAUrkfhenRCQOF6FK5HQUNAj8L1KFxvRUDsUbgehYtHQNejcD0Kl0VA7FG4HoVrQ0D2KFyPwhVDQKRwPQrXY0JAw\\u002fUoXI\\u002fiQUDD9Shcj6JBQHsUrkfhWkFAXI\\u002fC9SgcQUApXI\\u002fC9ehAQFyPwvUovEBAzczMzMysQECPwvUoXK9AQK5H4XoUrkBAcT0K16OwQEAfhetRuL5AQNejcD0KN0FAhetRuB6FQkBSuB6F6xlgQHsUrkfhCmBAMzMzMzPjW0AUrkfhenRXQGZmZmZm5lRAH4XrUbjeVEAzMzMzM2NTQOxRuB6Fi1FAFK5H4XrUT0DhehSuRwFNQLcehetR2EpAMzMzMzOTSEBxPQrXo3BGQB+F61G4XkVAAAAAAACgREAUrkfhehRDQFK4HoXrUUJApHA9CtfjQUDsUbgehWtBQBSuR+F6FEFAzczMzMzsQEBcj8L1KNxAQK5H4XoUrkBAj8L1KFyvQECPwvUoXK9AQFK4HoXrsUBAuB6F61G4QEDXo3A9CtdAQOxRuB6FC0FASOF6FK5HQUDNzMzMzMxBQMP1KFyPIkJAhetRuB5FQkCF61G4HqVCQI\\u002fC9ShcD0NAMzMzMzNzQ0BI4XoUrudEQAAAAAAAQEZAZmZmZmZGSEDrUbgehetKQFuPwvUo3ExAzczMzMzMTkAUrkfhepRQQB+F61G4PlFAXI\\u002fC9SgcUkAzMzMzM9NTQMP1KFyP8lRAUrgeheshVUA9CtejcI1VQBSuR+F6RFdArkfhehSOVUDsUbgehVtTQPYoXI\\u002fC1VBA7FG4HoUrTUDgehSuR2FJQOxRuB6Fy0dArkfhehRuRkBxPQrXozBFQClcj8L1CERASOF6FK6nQ0ApXI\\u002fC9UhDQMP1KFyPIkNA16NwPQr3QkBxPQrXo7BCQArXo3A9akJArkfhehQuQkCamZmZmflBQD0K16Nw3UFAAAAAAADAQUCF61G4HqVBQMP1KFyPgkFAw\\u002fUoXI+CQUCkcD0K14NBQKRwPQrXg0FAZmZmZmaGQUCamZmZmZlBQD0K16NwvUFAAAAAAADgQUCamZmZmflBQOxRuB6FC0JAXI\\u002fC9SgcQkApXI\\u002fC9UhCQIXrUbge5UJApHA9CteDQ0DsUbgehQtEQDMzMzMzs0RArkfhehQORkBxPQrXo5BHQNejcD0K90hA4XoUrkdBSkB7FK5H4XpLQAAAAAAAEFlAUrgehesBVUDhehSuR\\u002fFSQBSuR+F6xFBAFa5H4XrUTUBdj8L1KBxMQD0K16NwvUpAcD0K16OQSUDsUbgehUtIQD0K16NwPUdA7FG4HoVLRkDsUbgehYtFQM3MzMzMDEVAhetRuB6lREBcj8L1KFxEQOF6FK5HIURAPQrXo3D9Q0AUrkfhevRDQOF6FK5HAURAFK5H4XoURED2KFyPwjVEQJqZmZmZWURAmpmZmZmZRECF61G4HiVFQD0K16NwvUVAMzMzMzOTRkAK16NwPUpHQBSuR+F69EdAmpmZmZmZSEAL16NwPUpJQBWuR+F69ElAj8L1KFyPSkCuR+F6FO5LQClcj8L1CE1A9ihcj8IVTkC4HoXrUfhOQGZmZmZmxk9ArkfhehQuUUA=\"},\"type\":\"scatter3d\"}],                        {\"template\":{\"data\":{\"histogram2dcontour\":[{\"type\":\"histogram2dcontour\",\"colorbar\":{\"outlinewidth\":0,\"ticks\":\"\"},\"colorscale\":[[0.0,\"#0d0887\"],[0.1111111111111111,\"#46039f\"],[0.2222222222222222,\"#7201a8\"],[0.3333333333333333,\"#9c179e\"],[0.4444444444444444,\"#bd3786\"],[0.5555555555555556,\"#d8576b\"],[0.6666666666666666,\"#ed7953\"],[0.7777777777777778,\"#fb9f3a\"],[0.8888888888888888,\"#fdca26\"],[1.0,\"#f0f921\"]]}],\"choropleth\":[{\"type\":\"choropleth\",\"colorbar\":{\"outlinewidth\":0,\"ticks\":\"\"}}],\"histogram2d\":[{\"type\":\"histogram2d\",\"colorbar\":{\"outlinewidth\":0,\"ticks\":\"\"},\"colorscale\":[[0.0,\"#0d0887\"],[0.1111111111111111,\"#46039f\"],[0.2222222222222222,\"#7201a8\"],[0.3333333333333333,\"#9c179e\"],[0.4444444444444444,\"#bd3786\"],[0.5555555555555556,\"#d8576b\"],[0.6666666666666666,\"#ed7953\"],[0.7777777777777778,\"#fb9f3a\"],[0.8888888888888888,\"#fdca26\"],[1.0,\"#f0f921\"]]}],\"heatmap\":[{\"type\":\"heatmap\",\"colorbar\":{\"outlinewidth\":0,\"ticks\":\"\"},\"colorscale\":[[0.0,\"#0d0887\"],[0.1111111111111111,\"#46039f\"],[0.2222222222222222,\"#7201a8\"],[0.3333333333333333,\"#9c179e\"],[0.4444444444444444,\"#bd3786\"],[0.5555555555555556,\"#d8576b\"],[0.6666666666666666,\"#ed7953\"],[0.7777777777777778,\"#fb9f3a\"],[0.8888888888888888,\"#fdca26\"],[1.0,\"#f0f921\"]]}],\"contourcarpet\":[{\"type\":\"contourcarpet\",\"colorbar\":{\"outlinewidth\":0,\"ticks\":\"\"}}],\"contour\":[{\"type\":\"contour\",\"colorbar\":{\"outlinewidth\":0,\"ticks\":\"\"},\"colorscale\":[[0.0,\"#0d0887\"],[0.1111111111111111,\"#46039f\"],[0.2222222222222222,\"#7201a8\"],[0.3333333333333333,\"#9c179e\"],[0.4444444444444444,\"#bd3786\"],[0.5555555555555556,\"#d8576b\"],[0.6666666666666666,\"#ed7953\"],[0.7777777777777778,\"#fb9f3a\"],[0.8888888888888888,\"#fdca26\"],[1.0,\"#f0f921\"]]}],\"surface\":[{\"type\":\"surface\",\"colorbar\":{\"outlinewidth\":0,\"ticks\":\"\"},\"colorscale\":[[0.0,\"#0d0887\"],[0.1111111111111111,\"#46039f\"],[0.2222222222222222,\"#7201a8\"],[0.3333333333333333,\"#9c179e\"],[0.4444444444444444,\"#bd3786\"],[0.5555555555555556,\"#d8576b\"],[0.6666666666666666,\"#ed7953\"],[0.7777777777777778,\"#fb9f3a\"],[0.8888888888888888,\"#fdca26\"],[1.0,\"#f0f921\"]]}],\"mesh3d\":[{\"type\":\"mesh3d\",\"colorbar\":{\"outlinewidth\":0,\"ticks\":\"\"}}],\"scatter\":[{\"fillpattern\":{\"fillmode\":\"overlay\",\"size\":10,\"solidity\":0.2},\"type\":\"scatter\"}],\"parcoords\":[{\"type\":\"parcoords\",\"line\":{\"colorbar\":{\"outlinewidth\":0,\"ticks\":\"\"}}}],\"scatterpolargl\":[{\"type\":\"scatterpolargl\",\"marker\":{\"colorbar\":{\"outlinewidth\":0,\"ticks\":\"\"}}}],\"bar\":[{\"error_x\":{\"color\":\"#2a3f5f\"},\"error_y\":{\"color\":\"#2a3f5f\"},\"marker\":{\"line\":{\"color\":\"#E5ECF6\",\"width\":0.5},\"pattern\":{\"fillmode\":\"overlay\",\"size\":10,\"solidity\":0.2}},\"type\":\"bar\"}],\"scattergeo\":[{\"type\":\"scattergeo\",\"marker\":{\"colorbar\":{\"outlinewidth\":0,\"ticks\":\"\"}}}],\"scatterpolar\":[{\"type\":\"scatterpolar\",\"marker\":{\"colorbar\":{\"outlinewidth\":0,\"ticks\":\"\"}}}],\"histogram\":[{\"marker\":{\"pattern\":{\"fillmode\":\"overlay\",\"size\":10,\"solidity\":0.2}},\"type\":\"histogram\"}],\"scattergl\":[{\"type\":\"scattergl\",\"marker\":{\"colorbar\":{\"outlinewidth\":0,\"ticks\":\"\"}}}],\"scatter3d\":[{\"type\":\"scatter3d\",\"line\":{\"colorbar\":{\"outlinewidth\":0,\"ticks\":\"\"}},\"marker\":{\"colorbar\":{\"outlinewidth\":0,\"ticks\":\"\"}}}],\"scattermap\":[{\"type\":\"scattermap\",\"marker\":{\"colorbar\":{\"outlinewidth\":0,\"ticks\":\"\"}}}],\"scattermapbox\":[{\"type\":\"scattermapbox\",\"marker\":{\"colorbar\":{\"outlinewidth\":0,\"ticks\":\"\"}}}],\"scatterternary\":[{\"type\":\"scatterternary\",\"marker\":{\"colorbar\":{\"outlinewidth\":0,\"ticks\":\"\"}}}],\"scattercarpet\":[{\"type\":\"scattercarpet\",\"marker\":{\"colorbar\":{\"outlinewidth\":0,\"ticks\":\"\"}}}],\"carpet\":[{\"aaxis\":{\"endlinecolor\":\"#2a3f5f\",\"gridcolor\":\"white\",\"linecolor\":\"white\",\"minorgridcolor\":\"white\",\"startlinecolor\":\"#2a3f5f\"},\"baxis\":{\"endlinecolor\":\"#2a3f5f\",\"gridcolor\":\"white\",\"linecolor\":\"white\",\"minorgridcolor\":\"white\",\"startlinecolor\":\"#2a3f5f\"},\"type\":\"carpet\"}],\"table\":[{\"cells\":{\"fill\":{\"color\":\"#EBF0F8\"},\"line\":{\"color\":\"white\"}},\"header\":{\"fill\":{\"color\":\"#C8D4E3\"},\"line\":{\"color\":\"white\"}},\"type\":\"table\"}],\"barpolar\":[{\"marker\":{\"line\":{\"color\":\"#E5ECF6\",\"width\":0.5},\"pattern\":{\"fillmode\":\"overlay\",\"size\":10,\"solidity\":0.2}},\"type\":\"barpolar\"}],\"pie\":[{\"automargin\":true,\"type\":\"pie\"}]},\"layout\":{\"autotypenumbers\":\"strict\",\"colorway\":[\"#636efa\",\"#EF553B\",\"#00cc96\",\"#ab63fa\",\"#FFA15A\",\"#19d3f3\",\"#FF6692\",\"#B6E880\",\"#FF97FF\",\"#FECB52\"],\"font\":{\"color\":\"#2a3f5f\"},\"hovermode\":\"closest\",\"hoverlabel\":{\"align\":\"left\"},\"paper_bgcolor\":\"white\",\"plot_bgcolor\":\"#E5ECF6\",\"polar\":{\"bgcolor\":\"#E5ECF6\",\"angularaxis\":{\"gridcolor\":\"white\",\"linecolor\":\"white\",\"ticks\":\"\"},\"radialaxis\":{\"gridcolor\":\"white\",\"linecolor\":\"white\",\"ticks\":\"\"}},\"ternary\":{\"bgcolor\":\"#E5ECF6\",\"aaxis\":{\"gridcolor\":\"white\",\"linecolor\":\"white\",\"ticks\":\"\"},\"baxis\":{\"gridcolor\":\"white\",\"linecolor\":\"white\",\"ticks\":\"\"},\"caxis\":{\"gridcolor\":\"white\",\"linecolor\":\"white\",\"ticks\":\"\"}},\"coloraxis\":{\"colorbar\":{\"outlinewidth\":0,\"ticks\":\"\"}},\"colorscale\":{\"sequential\":[[0.0,\"#0d0887\"],[0.1111111111111111,\"#46039f\"],[0.2222222222222222,\"#7201a8\"],[0.3333333333333333,\"#9c179e\"],[0.4444444444444444,\"#bd3786\"],[0.5555555555555556,\"#d8576b\"],[0.6666666666666666,\"#ed7953\"],[0.7777777777777778,\"#fb9f3a\"],[0.8888888888888888,\"#fdca26\"],[1.0,\"#f0f921\"]],\"sequentialminus\":[[0.0,\"#0d0887\"],[0.1111111111111111,\"#46039f\"],[0.2222222222222222,\"#7201a8\"],[0.3333333333333333,\"#9c179e\"],[0.4444444444444444,\"#bd3786\"],[0.5555555555555556,\"#d8576b\"],[0.6666666666666666,\"#ed7953\"],[0.7777777777777778,\"#fb9f3a\"],[0.8888888888888888,\"#fdca26\"],[1.0,\"#f0f921\"]],\"diverging\":[[0,\"#8e0152\"],[0.1,\"#c51b7d\"],[0.2,\"#de77ae\"],[0.3,\"#f1b6da\"],[0.4,\"#fde0ef\"],[0.5,\"#f7f7f7\"],[0.6,\"#e6f5d0\"],[0.7,\"#b8e186\"],[0.8,\"#7fbc41\"],[0.9,\"#4d9221\"],[1,\"#276419\"]]},\"xaxis\":{\"gridcolor\":\"white\",\"linecolor\":\"white\",\"ticks\":\"\",\"title\":{\"standoff\":15},\"zerolinecolor\":\"white\",\"automargin\":true,\"zerolinewidth\":2},\"yaxis\":{\"gridcolor\":\"white\",\"linecolor\":\"white\",\"ticks\":\"\",\"title\":{\"standoff\":15},\"zerolinecolor\":\"white\",\"automargin\":true,\"zerolinewidth\":2},\"scene\":{\"xaxis\":{\"backgroundcolor\":\"#E5ECF6\",\"gridcolor\":\"white\",\"linecolor\":\"white\",\"showbackground\":true,\"ticks\":\"\",\"zerolinecolor\":\"white\",\"gridwidth\":2},\"yaxis\":{\"backgroundcolor\":\"#E5ECF6\",\"gridcolor\":\"white\",\"linecolor\":\"white\",\"showbackground\":true,\"ticks\":\"\",\"zerolinecolor\":\"white\",\"gridwidth\":2},\"zaxis\":{\"backgroundcolor\":\"#E5ECF6\",\"gridcolor\":\"white\",\"linecolor\":\"white\",\"showbackground\":true,\"ticks\":\"\",\"zerolinecolor\":\"white\",\"gridwidth\":2}},\"shapedefaults\":{\"line\":{\"color\":\"#2a3f5f\"}},\"annotationdefaults\":{\"arrowcolor\":\"#2a3f5f\",\"arrowhead\":0,\"arrowwidth\":1},\"geo\":{\"bgcolor\":\"white\",\"landcolor\":\"#E5ECF6\",\"subunitcolor\":\"white\",\"showland\":true,\"showlakes\":true,\"lakecolor\":\"white\"},\"title\":{\"x\":0.05},\"mapbox\":{\"style\":\"light\"}}},\"scene\":{\"camera\":{\"eye\":{\"x\":1.2,\"y\":1.2,\"z\":0.8}},\"xaxis\":{\"title\":{\"text\":\"Strike Price ($)\"}},\"yaxis\":{\"title\":{\"text\":\"Days to Expiry\"}},\"zaxis\":{\"title\":{\"text\":\"Implied Volatility (%)\"}}},\"title\":{\"text\":\"Volatility Surface Construction Demo\\u003cbr\\u003e\\u003csub\\u003e307 market points \\u2192 30\\u00d715 grid\\u003c\\u002fsub\\u003e\"},\"height\":700},                        {\"responsive\": true}                    ).then(function(){\n",
       "                            \n",
       "var gd = document.getElementById('ad11bdfc-1963-40f0-a2cb-e711c247423f');\n",
       "var x = new MutationObserver(function (mutations, observer) {{\n",
       "        var display = window.getComputedStyle(gd).display;\n",
       "        if (!display || display === 'none') {{\n",
       "            console.log([gd, 'removed!']);\n",
       "            Plotly.purge(gd);\n",
       "            observer.disconnect();\n",
       "        }}\n",
       "}});\n",
       "\n",
       "// Listen for the removal of the full notebook cells\n",
       "var notebookContainer = gd.closest('#notebook-container');\n",
       "if (notebookContainer) {{\n",
       "    x.observe(notebookContainer, {childList: true});\n",
       "}}\n",
       "\n",
       "// Listen for the clearing of the current output cell\n",
       "var outputEl = gd.closest('.output');\n",
       "if (outputEl) {{\n",
       "    x.observe(outputEl, {childList: true});\n",
       "}}\n",
       "\n",
       "                        })                };            </script>        </div>"
      ]
     },
     "metadata": {},
     "output_type": "display_data"
    }
   ],
   "source": [
    "# 🛠️ Practical Example: Building a Volatility Surface Step-by-Step\n",
    "\n",
    "def demonstrate_surface_construction():\n",
    "    \"\"\"\n",
    "    Step-by-step demonstration of how we build the volatility surface\n",
    "    from our options data\n",
    "    \"\"\"\n",
    "    \n",
    "    if 'analysis_results' not in globals():\n",
    "        print(\"❌ Please run the main analysis first to generate data!\")\n",
    "        return\n",
    "    \n",
    "    print(\"🔧 STEP-BY-STEP VOLATILITY SURFACE CONSTRUCTION\")\n",
    "    print(\"=\" * 60)\n",
    "    \n",
    "    results = analysis_results\n",
    "    \n",
    "    # STEP 1: Data Collection and Organization\n",
    "    print(\"\\n📊 STEP 1: COLLECT & ORGANIZE DATA\")\n",
    "    print(\"-\" * 40)\n",
    "    \n",
    "    raw_data_points = []\n",
    "    for i, result in enumerate(results):\n",
    "        strikes = result['strikes']\n",
    "        ivs = result['ivs']\n",
    "        expiry_str = result['expiry_str']\n",
    "        days_to_expiry = (result['expiry'] - results[0]['expiry']) / (1000 * 60 * 60 * 24)\n",
    "        \n",
    "        print(f\"Expiry {i+1}: {expiry_str[:10]}\")\n",
    "        print(f\"  └─ {len(strikes)} options, {days_to_expiry:.1f} days out\")\n",
    "        print(f\"  └─ Strike range: ${strikes.min():,.0f} - ${strikes.max():,.0f}\")\n",
    "        print(f\"  └─ IV range: {ivs.min()*100:.1f}% - {ivs.max()*100:.1f}%\")\n",
    "        \n",
    "        # Store each individual option as a data point\n",
    "        for strike, iv in zip(strikes, ivs):\n",
    "            raw_data_points.append({\n",
    "                'strike': strike,\n",
    "                'days_to_expiry': days_to_expiry,\n",
    "                'iv_percent': iv * 100,\n",
    "                'expiry_str': expiry_str[:10],\n",
    "                'moneyness': strike / result['spot']\n",
    "            })\n",
    "    \n",
    "    # Convert to DataFrame\n",
    "    df_raw = pd.DataFrame(raw_data_points)\n",
    "    print(f\"\\n✅ Total data points collected: {len(df_raw)}\")\n",
    "    print(f\"   Strike range: ${df_raw['strike'].min():,.0f} - ${df_raw['strike'].max():,.0f}\")\n",
    "    print(f\"   Time range: {df_raw['days_to_expiry'].min():.1f} - {df_raw['days_to_expiry'].max():.1f} days\")\n",
    "    print(f\"   IV range: {df_raw['iv_percent'].min():.1f}% - {df_raw['iv_percent'].max():.1f}%\")\n",
    "    \n",
    "    # STEP 2: Create Regular Grids\n",
    "    print(\"\\n🔲 STEP 2: CREATE INTERPOLATION GRIDS\")\n",
    "    print(\"-\" * 40)\n",
    "    \n",
    "    # Strike grid\n",
    "    min_strike = df_raw['strike'].min()\n",
    "    max_strike = df_raw['strike'].max()\n",
    "    strike_points = 30  # Reduced for clarity\n",
    "    strike_grid = np.linspace(min_strike, max_strike, strike_points)\n",
    "    \n",
    "    # Time grid\n",
    "    min_days = df_raw['days_to_expiry'].min()\n",
    "    max_days = df_raw['days_to_expiry'].max()\n",
    "    time_points = 15  # Reduced for clarity\n",
    "    time_grid = np.linspace(min_days, max_days, time_points)\n",
    "    \n",
    "    print(f\"Strike grid: {strike_points} points from ${min_strike:,.0f} to ${max_strike:,.0f}\")\n",
    "    print(f\"Time grid: {time_points} points from {min_days:.1f} to {max_days:.1f} days\")\n",
    "    print(f\"Total grid points: {strike_points} × {time_points} = {strike_points * time_points}\")\n",
    "    \n",
    "    # Create meshgrid\n",
    "    X_grid, Y_grid = np.meshgrid(strike_grid, time_grid)\n",
    "    print(f\"Meshgrid shape: {X_grid.shape}\")\n",
    "    \n",
    "    # STEP 3: Interpolation Process\n",
    "    print(\"\\n🔄 STEP 3: INTERPOLATE SCATTERED DATA TO REGULAR GRID\")\n",
    "    print(\"-\" * 40)\n",
    "    \n",
    "    from scipy.interpolate import griddata\n",
    "    \n",
    "    # Prepare input data for interpolation\n",
    "    points_input = df_raw[['strike', 'days_to_expiry']].values\n",
    "    values_input = df_raw['iv_percent'].values\n",
    "    \n",
    "    print(f\"Input: {len(points_input)} scattered market points\")\n",
    "    print(f\"Output: {X_grid.size} regular grid points\")\n",
    "    \n",
    "    # Perform interpolation\n",
    "    print(\"Interpolating using linear method...\")\n",
    "    Z_interpolated = griddata(points_input, values_input, (X_grid, Y_grid), method='linear')\n",
    "    \n",
    "    # Count valid interpolated points\n",
    "    valid_points = np.sum(~np.isnan(Z_interpolated))\n",
    "    print(f\"Successfully interpolated: {valid_points}/{X_grid.size} points ({valid_points/X_grid.size*100:.1f}%)\")\n",
    "    \n",
    "    # STEP 4: Surface Quality Analysis\n",
    "    print(\"\\n📏 STEP 4: SURFACE QUALITY ANALYSIS\")\n",
    "    print(\"-\" * 40)\n",
    "    \n",
    "    # Calculate surface statistics\n",
    "    iv_range = np.nanmax(Z_interpolated) - np.nanmin(Z_interpolated)\n",
    "    iv_mean = np.nanmean(Z_interpolated)\n",
    "    iv_std = np.nanstd(Z_interpolated)\n",
    "    \n",
    "    print(f\"Surface IV statistics:\")\n",
    "    print(f\"  └─ Range: {np.nanmin(Z_interpolated):.1f}% - {np.nanmax(Z_interpolated):.1f}% (span: {iv_range:.1f}%)\")\n",
    "    print(f\"  └─ Mean: {iv_mean:.1f}%\")\n",
    "    print(f\"  └─ Std Dev: {iv_std:.1f}%\")\n",
    "    \n",
    "    # Calculate surface smoothness\n",
    "    grad_x = np.gradient(Z_interpolated, axis=1)\n",
    "    grad_y = np.gradient(Z_interpolated, axis=0)\n",
    "    smoothness = np.nanmean(np.sqrt(grad_x**2 + grad_y**2))\n",
    "    print(f\"  └─ Surface smoothness metric: {smoothness:.2f}%/point\")\n",
    "    \n",
    "    # STEP 5: Create Visualization\n",
    "    print(\"\\n🎨 STEP 5: CREATE SURFACE VISUALIZATION\")\n",
    "    print(\"-\" * 40)\n",
    "    \n",
    "    fig = go.Figure()\n",
    "    \n",
    "    # Add the interpolated surface\n",
    "    surface_trace = go.Surface(\n",
    "        x=X_grid,\n",
    "        y=Y_grid, \n",
    "        z=Z_interpolated,\n",
    "        colorscale='Viridis',\n",
    "        name='Interpolated Surface',\n",
    "        opacity=0.8,\n",
    "        colorbar=dict(title=\"Implied Volatility (%)\"),\n",
    "        hovertemplate=\"Strike: $%{x:,.0f}<br>\" +\n",
    "                     \"Days: %{y:.1f}<br>\" +\n",
    "                     \"IV: %{z:.1f}%<extra></extra>\"\n",
    "    )\n",
    "    fig.add_trace(surface_trace)\n",
    "    \n",
    "    # Add original market data points as scatter\n",
    "    scatter_trace = go.Scatter3d(\n",
    "        x=df_raw['strike'],\n",
    "        y=df_raw['days_to_expiry'],\n",
    "        z=df_raw['iv_percent'],\n",
    "        mode='markers',\n",
    "        marker=dict(\n",
    "            size=4,\n",
    "            color='red',\n",
    "            symbol='circle'\n",
    "        ),\n",
    "        name='Market Data',\n",
    "        hovertemplate=\"Strike: $%{x:,.0f}<br>\" +\n",
    "                     \"Days: %{y:.1f}<br>\" +\n",
    "                     \"IV: %{z:.1f}%<br>\" +\n",
    "                     \"Expiry: %{text}<extra></extra>\",\n",
    "        text=df_raw['expiry_str']\n",
    "    )\n",
    "    fig.add_trace(scatter_trace)\n",
    "    \n",
    "    # Update layout\n",
    "    fig.update_layout(\n",
    "        title=\"Volatility Surface Construction Demo<br>\" + \n",
    "              f\"<sub>{len(df_raw)} market points → {strike_points}×{time_points} grid</sub>\",\n",
    "        scene=dict(\n",
    "            xaxis_title=\"Strike Price ($)\",\n",
    "            yaxis_title=\"Days to Expiry\",\n",
    "            zaxis_title=\"Implied Volatility (%)\",\n",
    "            camera=dict(eye=dict(x=1.2, y=1.2, z=0.8))\n",
    "        ),\n",
    "        height=700\n",
    "    )\n",
    "    \n",
    "    print(\"✅ Surface visualization created!\")\n",
    "    print(f\"   Red dots: {len(df_raw)} original market data points\")\n",
    "    print(f\"   Blue surface: {strike_points}×{time_points} interpolated grid\")\n",
    "    \n",
    "    # STEP 6: Extract Key Insights\n",
    "    print(\"\\n💡 STEP 6: EXTRACT KEY INSIGHTS\")\n",
    "    print(\"-\" * 40)\n",
    "    \n",
    "    # Term structure analysis\n",
    "    atm_ivs = []\n",
    "    spot = results[0]['spot']\n",
    "    \n",
    "    for result in results:\n",
    "        strikes = result['strikes']\n",
    "        ivs = result['ivs']\n",
    "        atm_idx = np.argmin(np.abs(strikes - spot))\n",
    "        atm_iv = ivs[atm_idx] * 100\n",
    "        days = (result['expiry'] - results[0]['expiry']) / (1000 * 60 * 60 * 24)\n",
    "        atm_ivs.append((days, atm_iv))\n",
    "    \n",
    "    atm_ivs.sort()\n",
    "    print(\"ATM Term Structure:\")\n",
    "    for days, iv in atm_ivs:\n",
    "        print(f\"  └─ {days:5.1f} days: {iv:5.1f}% IV\")\n",
    "    \n",
    "    # Smile analysis\n",
    "    print(f\"\\nSmile Characteristics (at spot ${spot:,.0f}):\")\n",
    "    near_expiry = results[0]  # Shortest expiry\n",
    "    far_expiry = results[-1]  # Longest expiry\n",
    "    \n",
    "    print(f\"  └─ Near expiry ({near_expiry['expiry_str'][:10]}):\")\n",
    "    print(f\"     ├─ IV range: {near_expiry['ivs'].min()*100:.1f}% - {near_expiry['ivs'].max()*100:.1f}%\")\n",
    "    print(f\"     └─ Smile skew: {(near_expiry['ivs'].max() - near_expiry['ivs'].min())*100:.1f}%\")\n",
    "    \n",
    "    print(f\"  └─ Far expiry ({far_expiry['expiry_str'][:10]}):\")\n",
    "    print(f\"     ├─ IV range: {far_expiry['ivs'].min()*100:.1f}% - {far_expiry['ivs'].max()*100:.1f}%\")\n",
    "    print(f\"     └─ Smile skew: {(far_expiry['ivs'].max() - far_expiry['ivs'].min())*100:.1f}%\")\n",
    "    \n",
    "    print(\"\\n🎯 SURFACE CONSTRUCTION COMPLETE!\")\n",
    "    print(\"=\" * 60)\n",
    "    \n",
    "    return fig, df_raw\n",
    "\n",
    "# Run the demonstration\n",
    "demo_fig, demo_data = demonstrate_surface_construction()\n",
    "if demo_fig:\n",
    "    demo_fig.show()"
   ]
  },
  {
   "cell_type": "markdown",
   "id": "c1b30f01",
   "metadata": {},
   "source": [
    "# 🧮 Mathematical Foundation & Key Concepts Summary\n",
    "\n",
    "## 🔬 The Core Mathematical Process\n",
    "\n",
    "### **1. From Scattered Points to Continuous Surface**\n",
    "\n",
    "**Input**: Discrete market observations\n",
    "```\n",
    "{(Strike₁, Time₁, IV₁), (Strike₂, Time₂, IV₂), ..., (Strikeₙ, Timeₙ, IVₙ)}\n",
    "```\n",
    "\n",
    "**Output**: Continuous function\n",
    "```\n",
    "IV(K, T) = f(Strike, Time)\n",
    "```\n",
    "\n",
    "**Method**: Multivariate interpolation using scipy's `griddata`\n",
    "\n",
    "### **2. Interpolation Mathematics**\n",
    "\n",
    "#### **Linear Interpolation (Delaunay Triangulation)**\n",
    "```\n",
    "For point P inside triangle ABC:\n",
    "IV(P) = wₐ·IV(A) + wᵦ·IV(B) + wᶜ·IV(C)\n",
    "\n",
    "where wₐ + wᵦ + wᶜ = 1 (barycentric coordinates)\n",
    "```\n",
    "\n",
    "#### **Grid Construction**\n",
    "```python\n",
    "# Create regular meshgrid\n",
    "X = [K₁, K₂, ..., Kₘ]  # m strike points\n",
    "Y = [T₁, T₂, ..., Tₙ]  # n time points\n",
    "Grid = X × Y            # m×n interpolation points\n",
    "```\n",
    "\n",
    "### **3. Surface Quality Metrics**\n",
    "\n",
    "#### **Smoothness Calculation**\n",
    "```python\n",
    "# Surface gradient magnitude\n",
    "∇IV = √[(∂IV/∂K)² + (∂IV/∂T)²]\n",
    "\n",
    "# Curvature (second derivatives)\n",
    "κ = |∂²IV/∂K²| + |∂²IV/∂T²|\n",
    "```\n",
    "\n",
    "#### **No-Arbitrage Conditions**\n",
    "```\n",
    "1. ∂²C/∂K² ≥ 0  (Risk-neutral density must be non-negative)\n",
    "2. ∂C/∂T ≥ 0   (Time value decreases with time)\n",
    "3. C(K₁) ≥ C(K₂) for K₁ < K₂  (Call option monotonicity)\n",
    "```\n",
    "\n",
    "## 🎯 Why This Approach Works\n",
    "\n",
    "### **1. Market Data Preservation**\n",
    "- Original market points remain **exactly** at their observed values\n",
    "- Interpolation only fills gaps between known data\n",
    "- No smoothing that might remove important market signals\n",
    "\n",
    "### **2. Computational Efficiency**\n",
    "- Regular grid enables fast lookups: O(1) access time\n",
    "- Vectorized operations for entire surface calculations\n",
    "- GPU-friendly data structure for advanced computations\n",
    "\n",
    "### **3. Risk Management Applications**\n",
    "```python\n",
    "# Greeks calculation across entire surface\n",
    "Delta_surface = np.gradient(option_prices, strike_grid, axis=1)\n",
    "Gamma_surface = np.gradient(Delta_surface, strike_grid, axis=1)\n",
    "Theta_surface = np.gradient(option_prices, time_grid, axis=0)\n",
    "Vega_surface = option_prices * 0.01  # 1% vol move\n",
    "```\n",
    "\n",
    "## 📊 Surface Interpretation Guide\n",
    "\n",
    "### **Shape Analysis**\n",
    "\n",
    "#### **Volatility Smile/Skew**\n",
    "```\n",
    "- Symmetric smile: ∂²IV/∂K² > 0 everywhere\n",
    "- Volatility skew: ∂IV/∂K ≠ 0 (asymmetric)\n",
    "- Flat profile: ∂IV/∂K ≈ 0 (Black-Scholes world)\n",
    "```\n",
    "\n",
    "#### **Term Structure**\n",
    "```\n",
    "- Backwardation: ∂IV/∂T < 0 (short-term > long-term vol)\n",
    "- Contango: ∂IV/∂T > 0 (long-term > short-term vol)\n",
    "- Flat term: ∂IV/∂T ≈ 0 (constant vol across time)\n",
    "```\n",
    "\n",
    "### **Trading Insights**\n",
    "\n",
    "#### **Relative Value Identification**\n",
    "```python\n",
    "# Find overvalued/undervalued options\n",
    "surface_iv = interpolate_surface(strike, time)\n",
    "market_iv = get_market_quote(strike, time)\n",
    "relative_value = market_iv - surface_iv\n",
    "\n",
    "if relative_value > threshold:\n",
    "    print(\"Option appears overvalued\")\n",
    "elif relative_value < -threshold:\n",
    "    print(\"Option appears undervalued\")\n",
    "```\n",
    "\n",
    "#### **Arbitrage Detection**\n",
    "```python\n",
    "# Check for violations\n",
    "arbitrage_flags = []\n",
    "if np.any(np.diff(call_prices, axis=1) > 0):  # Call spread arbitrage\n",
    "    arbitrage_flags.append(\"Call spread violation\")\n",
    "if np.any(call_prices < intrinsic_values):     # Intrinsic value arbitrage\n",
    "    arbitrage_flags.append(\"Below intrinsic value\")\n",
    "```\n",
    "\n",
    "## 🔧 Implementation Best Practices\n",
    "\n",
    "### **1. Data Quality Control**\n",
    "```python\n",
    "def validate_data(strikes, ivs, expiries):\n",
    "    # Remove outliers\n",
    "    valid_mask = (ivs > 0.05) & (ivs < 5.0)  # 5% - 500% IV range\n",
    "    \n",
    "    # Check for sufficient data density\n",
    "    min_points_per_expiry = 4\n",
    "    \n",
    "    # Verify monotonicity where expected\n",
    "    # (e.g., call prices decreasing with strike)\n",
    "    \n",
    "    return strikes[valid_mask], ivs[valid_mask]\n",
    "```\n",
    "\n",
    "### **2. Interpolation Parameter Tuning**\n",
    "```python\n",
    "# Grid resolution trade-off\n",
    "coarse_grid = (20, 10)    # Fast, less accurate\n",
    "fine_grid = (100, 50)     # Slow, more accurate\n",
    "optimal_grid = (50, 25)   # Balanced approach\n",
    "\n",
    "# Boundary handling\n",
    "fill_value = np.nan       # Conservative (shows gaps)\n",
    "fill_value = 'extrapolate' # Aggressive (may create artifacts)\n",
    "```\n",
    "\n",
    "### **3. Surface Validation**\n",
    "```python\n",
    "def validate_surface(surface):\n",
    "    # Check for NaN values\n",
    "    nan_percentage = np.sum(np.isnan(surface)) / surface.size\n",
    "    \n",
    "    # Verify reasonable IV ranges\n",
    "    iv_range = (np.nanmin(surface), np.nanmax(surface))\n",
    "    \n",
    "    # Calculate surface metrics\n",
    "    smoothness = calculate_smoothness(surface)\n",
    "    \n",
    "    return {\n",
    "        'nan_percentage': nan_percentage,\n",
    "        'iv_range': iv_range,\n",
    "        'smoothness': smoothness\n",
    "    }\n",
    "```\n",
    "\n",
    "This mathematical framework ensures our volatility surface is both **theoretically sound** and **practically useful** for trading and risk management applications! 🚀"
   ]
  },
  {
   "cell_type": "code",
   "execution_count": 18,
   "id": "da6033d1",
   "metadata": {},
   "outputs": [
    {
     "name": "stdout",
     "output_type": "stream",
     "text": [
      "🌊 Creating Risk-Neutral Probability Visualizations...\n",
      "🌊 Creating 3D Risk-Neutral Probability Surface from 10 expiries...\n",
      "  📊 2025-08-22 10:00:00: 160 density points, 0.7 days\n",
      "  📊 2025-08-23 10:00:00: 200 density points, 1.7 days\n",
      "  📊 2025-08-24 10:00:00: 200 density points, 2.7 days\n",
      "  📊 2025-08-25 10:00:00: 200 density points, 3.7 days\n",
      "  📊 2025-08-29 10:00:00: 146 density points, 7.7 days\n",
      "  📊 2025-09-05 10:00:00: 200 density points, 14.7 days\n",
      "  📊 2025-09-12 10:00:00: 200 density points, 21.7 days\n",
      "  📊 2025-09-26 10:00:00: 69 density points, 35.7 days\n",
      "  📊 2025-10-31 09:00:00: 129 density points, 70.7 days\n",
      "  📊 2025-12-26 09:00:00: 69 density points, 126.7 days\n",
      "✅ Surface grid: 100 × 10 = 1000 points\n",
      "📈 Strike range: $20,000 - $149,925\n",
      "⏰ Time range: 0.7 - 126.7 days\n",
      "📊 Density range: -0.000009 - 0.000199\n"
     ]
    },
    {
     "data": {
      "application/vnd.plotly.v1+json": {
       "config": {
        "plotlyServerURL": "https://plot.ly"
       },
       "data": [
        {
         "colorbar": {
          "title": {
           "text": "Probability Density"
          },
          "x": 1.05
         },
         "colorscale": [
          [
           0,
           "#440154"
          ],
          [
           0.1111111111111111,
           "#482878"
          ],
          [
           0.2222222222222222,
           "#3e4989"
          ],
          [
           0.3333333333333333,
           "#31688e"
          ],
          [
           0.4444444444444444,
           "#26828e"
          ],
          [
           0.5555555555555556,
           "#1f9e89"
          ],
          [
           0.6666666666666666,
           "#35b779"
          ],
          [
           0.7777777777777778,
           "#6ece58"
          ],
          [
           0.8888888888888888,
           "#b5de2b"
          ],
          [
           1,
           "#fde725"
          ]
         ],
         "hovertemplate": "Days: %{x:.1f}<br>Strike: $%{y:,.0f}<br>Density: %{z:.6f}<extra></extra>",
         "opacity": 0.9,
         "showscale": true,
         "type": "surface",
         "x": {
          "bdata": "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",
          "dtype": "f8",
          "shape": "100, 10"
         },
         "y": {
          "bdata": "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",
          "dtype": "f8",
          "shape": "100, 10"
         },
         "z": {
          "bdata": "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",
          "dtype": "f8",
          "shape": "100, 10"
         }
        }
       ],
       "layout": {
        "font": {
         "size": 12
        },
        "height": 700,
        "scene": {
         "camera": {
          "eye": {
           "x": 1.5,
           "y": 1.5,
           "z": 1.2
          }
         },
         "xaxis": {
          "title": {
           "text": "Days to Expiry"
          }
         },
         "yaxis": {
          "title": {
           "text": "Strike Price ($)"
          }
         },
         "zaxis": {
          "title": {
           "text": "Probability Density"
          }
         }
        },
        "template": {
         "data": {
          "bar": [
           {
            "error_x": {
             "color": "#2a3f5f"
            },
            "error_y": {
             "color": "#2a3f5f"
            },
            "marker": {
             "line": {
              "color": "#E5ECF6",
              "width": 0.5
             },
             "pattern": {
              "fillmode": "overlay",
              "size": 10,
              "solidity": 0.2
             }
            },
            "type": "bar"
           }
          ],
          "barpolar": [
           {
            "marker": {
             "line": {
              "color": "#E5ECF6",
              "width": 0.5
             },
             "pattern": {
              "fillmode": "overlay",
              "size": 10,
              "solidity": 0.2
             }
            },
            "type": "barpolar"
           }
          ],
          "carpet": [
           {
            "aaxis": {
             "endlinecolor": "#2a3f5f",
             "gridcolor": "white",
             "linecolor": "white",
             "minorgridcolor": "white",
             "startlinecolor": "#2a3f5f"
            },
            "baxis": {
             "endlinecolor": "#2a3f5f",
             "gridcolor": "white",
             "linecolor": "white",
             "minorgridcolor": "white",
             "startlinecolor": "#2a3f5f"
            },
            "type": "carpet"
           }
          ],
          "choropleth": [
           {
            "colorbar": {
             "outlinewidth": 0,
             "ticks": ""
            },
            "type": "choropleth"
           }
          ],
          "contour": [
           {
            "colorbar": {
             "outlinewidth": 0,
             "ticks": ""
            },
            "colorscale": [
             [
              0,
              "#0d0887"
             ],
             [
              0.1111111111111111,
              "#46039f"
             ],
             [
              0.2222222222222222,
              "#7201a8"
             ],
             [
              0.3333333333333333,
              "#9c179e"
             ],
             [
              0.4444444444444444,
              "#bd3786"
             ],
             [
              0.5555555555555556,
              "#d8576b"
             ],
             [
              0.6666666666666666,
              "#ed7953"
             ],
             [
              0.7777777777777778,
              "#fb9f3a"
             ],
             [
              0.8888888888888888,
              "#fdca26"
             ],
             [
              1,
              "#f0f921"
             ]
            ],
            "type": "contour"
           }
          ],
          "contourcarpet": [
           {
            "colorbar": {
             "outlinewidth": 0,
             "ticks": ""
            },
            "type": "contourcarpet"
           }
          ],
          "heatmap": [
           {
            "colorbar": {
             "outlinewidth": 0,
             "ticks": ""
            },
            "colorscale": [
             [
              0,
              "#0d0887"
             ],
             [
              0.1111111111111111,
              "#46039f"
             ],
             [
              0.2222222222222222,
              "#7201a8"
             ],
             [
              0.3333333333333333,
              "#9c179e"
             ],
             [
              0.4444444444444444,
              "#bd3786"
             ],
             [
              0.5555555555555556,
              "#d8576b"
             ],
             [
              0.6666666666666666,
              "#ed7953"
             ],
             [
              0.7777777777777778,
              "#fb9f3a"
             ],
             [
              0.8888888888888888,
              "#fdca26"
             ],
             [
              1,
              "#f0f921"
             ]
            ],
            "type": "heatmap"
           }
          ],
          "histogram": [
           {
            "marker": {
             "pattern": {
              "fillmode": "overlay",
              "size": 10,
              "solidity": 0.2
             }
            },
            "type": "histogram"
           }
          ],
          "histogram2d": [
           {
            "colorbar": {
             "outlinewidth": 0,
             "ticks": ""
            },
            "colorscale": [
             [
              0,
              "#0d0887"
             ],
             [
              0.1111111111111111,
              "#46039f"
             ],
             [
              0.2222222222222222,
              "#7201a8"
             ],
             [
              0.3333333333333333,
              "#9c179e"
             ],
             [
              0.4444444444444444,
              "#bd3786"
             ],
             [
              0.5555555555555556,
              "#d8576b"
             ],
             [
              0.6666666666666666,
              "#ed7953"
             ],
             [
              0.7777777777777778,
              "#fb9f3a"
             ],
             [
              0.8888888888888888,
              "#fdca26"
             ],
             [
              1,
              "#f0f921"
             ]
            ],
            "type": "histogram2d"
           }
          ],
          "histogram2dcontour": [
           {
            "colorbar": {
             "outlinewidth": 0,
             "ticks": ""
            },
            "colorscale": [
             [
              0,
              "#0d0887"
             ],
             [
              0.1111111111111111,
              "#46039f"
             ],
             [
              0.2222222222222222,
              "#7201a8"
             ],
             [
              0.3333333333333333,
              "#9c179e"
             ],
             [
              0.4444444444444444,
              "#bd3786"
             ],
             [
              0.5555555555555556,
              "#d8576b"
             ],
             [
              0.6666666666666666,
              "#ed7953"
             ],
             [
              0.7777777777777778,
              "#fb9f3a"
             ],
             [
              0.8888888888888888,
              "#fdca26"
             ],
             [
              1,
              "#f0f921"
             ]
            ],
            "type": "histogram2dcontour"
           }
          ],
          "mesh3d": [
           {
            "colorbar": {
             "outlinewidth": 0,
             "ticks": ""
            },
            "type": "mesh3d"
           }
          ],
          "parcoords": [
           {
            "line": {
             "colorbar": {
              "outlinewidth": 0,
              "ticks": ""
             }
            },
            "type": "parcoords"
           }
          ],
          "pie": [
           {
            "automargin": true,
            "type": "pie"
           }
          ],
          "scatter": [
           {
            "fillpattern": {
             "fillmode": "overlay",
             "size": 10,
             "solidity": 0.2
            },
            "type": "scatter"
           }
          ],
          "scatter3d": [
           {
            "line": {
             "colorbar": {
              "outlinewidth": 0,
              "ticks": ""
             }
            },
            "marker": {
             "colorbar": {
              "outlinewidth": 0,
              "ticks": ""
             }
            },
            "type": "scatter3d"
           }
          ],
          "scattercarpet": [
           {
            "marker": {
             "colorbar": {
              "outlinewidth": 0,
              "ticks": ""
             }
            },
            "type": "scattercarpet"
           }
          ],
          "scattergeo": [
           {
            "marker": {
             "colorbar": {
              "outlinewidth": 0,
              "ticks": ""
             }
            },
            "type": "scattergeo"
           }
          ],
          "scattergl": [
           {
            "marker": {
             "colorbar": {
              "outlinewidth": 0,
              "ticks": ""
             }
            },
            "type": "scattergl"
           }
          ],
          "scattermap": [
           {
            "marker": {
             "colorbar": {
              "outlinewidth": 0,
              "ticks": ""
             }
            },
            "type": "scattermap"
           }
          ],
          "scattermapbox": [
           {
            "marker": {
             "colorbar": {
              "outlinewidth": 0,
              "ticks": ""
             }
            },
            "type": "scattermapbox"
           }
          ],
          "scatterpolar": [
           {
            "marker": {
             "colorbar": {
              "outlinewidth": 0,
              "ticks": ""
             }
            },
            "type": "scatterpolar"
           }
          ],
          "scatterpolargl": [
           {
            "marker": {
             "colorbar": {
              "outlinewidth": 0,
              "ticks": ""
             }
            },
            "type": "scatterpolargl"
           }
          ],
          "scatterternary": [
           {
            "marker": {
             "colorbar": {
              "outlinewidth": 0,
              "ticks": ""
             }
            },
            "type": "scatterternary"
           }
          ],
          "surface": [
           {
            "colorbar": {
             "outlinewidth": 0,
             "ticks": ""
            },
            "colorscale": [
             [
              0,
              "#0d0887"
             ],
             [
              0.1111111111111111,
              "#46039f"
             ],
             [
              0.2222222222222222,
              "#7201a8"
             ],
             [
              0.3333333333333333,
              "#9c179e"
             ],
             [
              0.4444444444444444,
              "#bd3786"
             ],
             [
              0.5555555555555556,
              "#d8576b"
             ],
             [
              0.6666666666666666,
              "#ed7953"
             ],
             [
              0.7777777777777778,
              "#fb9f3a"
             ],
             [
              0.8888888888888888,
              "#fdca26"
             ],
             [
              1,
              "#f0f921"
             ]
            ],
            "type": "surface"
           }
          ],
          "table": [
           {
            "cells": {
             "fill": {
              "color": "#EBF0F8"
             },
             "line": {
              "color": "white"
             }
            },
            "header": {
             "fill": {
              "color": "#C8D4E3"
             },
             "line": {
              "color": "white"
             }
            },
            "type": "table"
           }
          ]
         },
         "layout": {
          "annotationdefaults": {
           "arrowcolor": "#2a3f5f",
           "arrowhead": 0,
           "arrowwidth": 1
          },
          "autotypenumbers": "strict",
          "coloraxis": {
           "colorbar": {
            "outlinewidth": 0,
            "ticks": ""
           }
          },
          "colorscale": {
           "diverging": [
            [
             0,
             "#8e0152"
            ],
            [
             0.1,
             "#c51b7d"
            ],
            [
             0.2,
             "#de77ae"
            ],
            [
             0.3,
             "#f1b6da"
            ],
            [
             0.4,
             "#fde0ef"
            ],
            [
             0.5,
             "#f7f7f7"
            ],
            [
             0.6,
             "#e6f5d0"
            ],
            [
             0.7,
             "#b8e186"
            ],
            [
             0.8,
             "#7fbc41"
            ],
            [
             0.9,
             "#4d9221"
            ],
            [
             1,
             "#276419"
            ]
           ],
           "sequential": [
            [
             0,
             "#0d0887"
            ],
            [
             0.1111111111111111,
             "#46039f"
            ],
            [
             0.2222222222222222,
             "#7201a8"
            ],
            [
             0.3333333333333333,
             "#9c179e"
            ],
            [
             0.4444444444444444,
             "#bd3786"
            ],
            [
             0.5555555555555556,
             "#d8576b"
            ],
            [
             0.6666666666666666,
             "#ed7953"
            ],
            [
             0.7777777777777778,
             "#fb9f3a"
            ],
            [
             0.8888888888888888,
             "#fdca26"
            ],
            [
             1,
             "#f0f921"
            ]
           ],
           "sequentialminus": [
            [
             0,
             "#0d0887"
            ],
            [
             0.1111111111111111,
             "#46039f"
            ],
            [
             0.2222222222222222,
             "#7201a8"
            ],
            [
             0.3333333333333333,
             "#9c179e"
            ],
            [
             0.4444444444444444,
             "#bd3786"
            ],
            [
             0.5555555555555556,
             "#d8576b"
            ],
            [
             0.6666666666666666,
             "#ed7953"
            ],
            [
             0.7777777777777778,
             "#fb9f3a"
            ],
            [
             0.8888888888888888,
             "#fdca26"
            ],
            [
             1,
             "#f0f921"
            ]
           ]
          },
          "colorway": [
           "#636efa",
           "#EF553B",
           "#00cc96",
           "#ab63fa",
           "#FFA15A",
           "#19d3f3",
           "#FF6692",
           "#B6E880",
           "#FF97FF",
           "#FECB52"
          ],
          "font": {
           "color": "#2a3f5f"
          },
          "geo": {
           "bgcolor": "white",
           "lakecolor": "white",
           "landcolor": "#E5ECF6",
           "showlakes": true,
           "showland": true,
           "subunitcolor": "white"
          },
          "hoverlabel": {
           "align": "left"
          },
          "hovermode": "closest",
          "mapbox": {
           "style": "light"
          },
          "paper_bgcolor": "white",
          "plot_bgcolor": "#E5ECF6",
          "polar": {
           "angularaxis": {
            "gridcolor": "white",
            "linecolor": "white",
            "ticks": ""
           },
           "bgcolor": "#E5ECF6",
           "radialaxis": {
            "gridcolor": "white",
            "linecolor": "white",
            "ticks": ""
           }
          },
          "scene": {
           "xaxis": {
            "backgroundcolor": "#E5ECF6",
            "gridcolor": "white",
            "gridwidth": 2,
            "linecolor": "white",
            "showbackground": true,
            "ticks": "",
            "zerolinecolor": "white"
           },
           "yaxis": {
            "backgroundcolor": "#E5ECF6",
            "gridcolor": "white",
            "gridwidth": 2,
            "linecolor": "white",
            "showbackground": true,
            "ticks": "",
            "zerolinecolor": "white"
           },
           "zaxis": {
            "backgroundcolor": "#E5ECF6",
            "gridcolor": "white",
            "gridwidth": 2,
            "linecolor": "white",
            "showbackground": true,
            "ticks": "",
            "zerolinecolor": "white"
           }
          },
          "shapedefaults": {
           "line": {
            "color": "#2a3f5f"
           }
          },
          "ternary": {
           "aaxis": {
            "gridcolor": "white",
            "linecolor": "white",
            "ticks": ""
           },
           "baxis": {
            "gridcolor": "white",
            "linecolor": "white",
            "ticks": ""
           },
           "bgcolor": "#E5ECF6",
           "caxis": {
            "gridcolor": "white",
            "linecolor": "white",
            "ticks": ""
           }
          },
          "title": {
           "x": 0.05
          },
          "xaxis": {
           "automargin": true,
           "gridcolor": "white",
           "linecolor": "white",
           "ticks": "",
           "title": {
            "standoff": 15
           },
           "zerolinecolor": "white",
           "zerolinewidth": 2
          },
          "yaxis": {
           "automargin": true,
           "gridcolor": "white",
           "linecolor": "white",
           "ticks": "",
           "title": {
            "standoff": 15
           },
           "zerolinecolor": "white",
           "zerolinewidth": 2
          }
         }
        },
        "title": {
         "text": "🌊 Risk-Neutral Probability Surface Evolution<br><span style='font-size:12px'>Bitcoin Options - 10 Expiries - Surface shows probability density evolution</span>"
        }
       }
      },
      "text/html": [
       "<div>            <script src=\"https://cdnjs.cloudflare.com/ajax/libs/mathjax/2.7.5/MathJax.js?config=TeX-AMS-MML_SVG\"></script><script type=\"text/javascript\">if (window.MathJax && window.MathJax.Hub && window.MathJax.Hub.Config) {window.MathJax.Hub.Config({SVG: {font: \"STIX-Web\"}});}</script>                <script type=\"text/javascript\">window.PlotlyConfig = {MathJaxConfig: 'local'};</script>\n",
       "        <script charset=\"utf-8\" src=\"https://cdn.plot.ly/plotly-3.1.0.min.js\" integrity=\"sha256-Ei4740bWZhaUTQuD6q9yQlgVCMPBz6CZWhevDYPv93A=\" crossorigin=\"anonymous\"></script>                <div id=\"2ce3e05d-776b-481e-b332-cd2394983d6f\" class=\"plotly-graph-div\" style=\"height:700px; width:100%;\"></div>            <script type=\"text/javascript\">                window.PLOTLYENV=window.PLOTLYENV || {};                                if (document.getElementById(\"2ce3e05d-776b-481e-b332-cd2394983d6f\")) {                    Plotly.newPlot(                        \"2ce3e05d-776b-481e-b332-cd2394983d6f\",                        [{\"colorbar\":{\"title\":{\"text\":\"Probability Density\"},\"x\":1.05},\"colorscale\":[[0.0,\"#440154\"],[0.1111111111111111,\"#482878\"],[0.2222222222222222,\"#3e4989\"],[0.3333333333333333,\"#31688e\"],[0.4444444444444444,\"#26828e\"],[0.5555555555555556,\"#1f9e89\"],[0.6666666666666666,\"#35b779\"],[0.7777777777777778,\"#6ece58\"],[0.8888888888888888,\"#b5de2b\"],[1.0,\"#fde725\"]],\"hovertemplate\":\"Days: %{x:.1f}\\u003cbr\\u003eStrike: $%{y:,.0f}\\u003cbr\\u003eDensity: %{z:.6f}\\u003cextra\\u003e\\u003c\\u002fextra\\u003e\",\"opacity\":0.9,\"showscale\":true,\"x\":{\"dtype\":\"f8\",\"bdata\":\"Ask6Ebpo5T9xJwgHXbT6P7kThIMuWgVAuROEgy5aDUDcCcJBF60eQO4E4aCLVi1Ad4Jw0EWrNUA8QTjootVBQJ4gHHTRqlFAd40PdNGqX0ACyToRumjlP3EnCAddtPo\\u002fuROEgy5aBUC5E4SDLloNQNwJwkEXrR5A7gThoItWLUB3gnDQRas1QDxBOOii1UFAniAcdNGqUUB3jQ900apfQALJOhG6aOU\\u002fcScIB120+j+5E4SDLloFQLkThIMuWg1A3AnCQRetHkDuBOGgi1YtQHeCcNBFqzVAPEE46KLVQUCeIBx00apRQHeND3TRql9AAsk6Ebpo5T9xJwgHXbT6P7kThIMuWgVAuROEgy5aDUDcCcJBF60eQO4E4aCLVi1Ad4Jw0EWrNUA8QTjootVBQJ4gHHTRqlFAd40PdNGqX0ACyToRumjlP3EnCAddtPo\\u002fuROEgy5aBUC5E4SDLloNQNwJwkEXrR5A7gThoItWLUB3gnDQRas1QDxBOOii1UFAniAcdNGqUUB3jQ900apfQALJOhG6aOU\\u002fcScIB120+j+5E4SDLloFQLkThIMuWg1A3AnCQRetHkDuBOGgi1YtQHeCcNBFqzVAPEE46KLVQUCeIBx00apRQHeND3TRql9AAsk6Ebpo5T9xJwgHXbT6P7kThIMuWgVAuROEgy5aDUDcCcJBF60eQO4E4aCLVi1Ad4Jw0EWrNUA8QTjootVBQJ4gHHTRqlFAd40PdNGqX0ACyToRumjlP3EnCAddtPo\\u002fuROEgy5aBUC5E4SDLloNQNwJwkEXrR5A7gThoItWLUB3gnDQRas1QDxBOOii1UFAniAcdNGqUUB3jQ900apfQALJOhG6aOU\\u002fcScIB120+j+5E4SDLloFQLkThIMuWg1A3AnCQRetHkDuBOGgi1YtQHeCcNBFqzVAPEE46KLVQUCeIBx00apRQHeND3TRql9AAsk6Ebpo5T9xJwgHXbT6P7kThIMuWgVAuROEgy5aDUDcCcJBF60eQO4E4aCLVi1Ad4Jw0EWrNUA8QTjootVBQJ4gHHTRqlFAd40PdNGqX0ACyToRumjlP3EnCAddtPo\\u002fuROEgy5aBUC5E4SDLloNQNwJwkEXrR5A7gThoItWLUB3gnDQRas1QDxBOOii1UFAniAcdNGqUUB3jQ900apfQALJOhG6aOU\\u002fcScIB120+j+5E4SDLloFQLkThIMuWg1A3AnCQRetHkDuBOGgi1YtQHeCcNBFqzVAPEE46KLVQUCeIBx00apRQHeND3TRql9AAsk6Ebpo5T9xJwgHXbT6P7kThIMuWgVAuROEgy5aDUDcCcJBF60eQO4E4aCLVi1Ad4Jw0EWrNUA8QTjootVBQJ4gHHTRqlFAd40PdNGqX0ACyToRumjlP3EnCAddtPo\\u002fuROEgy5aBUC5E4SDLloNQNwJwkEXrR5A7gThoItWLUB3gnDQRas1QDxBOOii1UFAniAcdNGqUUB3jQ900apfQALJOhG6aOU\\u002fcScIB120+j+5E4SDLloFQLkThIMuWg1A3AnCQRetHkDuBOGgi1YtQHeCcNBFqzVAPEE46KLVQUCeIBx00apRQHeND3TRql9AAsk6Ebpo5T9xJwgHXbT6P7kThIMuWgVAuROEgy5aDUDcCcJBF60eQO4E4aCLVi1Ad4Jw0EWrNUA8QTjootVBQJ4gHHTRqlFAd40PdNGqX0ACyToRumjlP3EnCAddtPo\\u002fuROEgy5aBUC5E4SDLloNQNwJwkEXrR5A7gThoItWLUB3gnDQRas1QDxBOOii1UFAniAcdNGqUUB3jQ900apfQALJOhG6aOU\\u002fcScIB120+j+5E4SDLloFQLkThIMuWg1A3AnCQRetHkDuBOGgi1YtQHeCcNBFqzVAPEE46KLVQUCeIBx00apRQHeND3TRql9AAsk6Ebpo5T9xJwgHXbT6P7kThIMuWgVAuROEgy5aDUDcCcJBF60eQO4E4aCLVi1Ad4Jw0EWrNUA8QTjootVBQJ4gHHTRqlFAd40PdNGqX0ACyToRumjlP3EnCAddtPo\\u002fuROEgy5aBUC5E4SDLloNQNwJwkEXrR5A7gThoItWLUB3gnDQRas1QDxBOOii1UFAniAcdNGqUUB3jQ900apfQALJOhG6aOU\\u002fcScIB120+j+5E4SDLloFQLkThIMuWg1A3AnCQRetHkDuBOGgi1YtQHeCcNBFqzVAPEE46KLVQUCeIBx00apRQHeND3TRql9AAsk6Ebpo5T9xJwgHXbT6P7kThIMuWgVAuROEgy5aDUDcCcJBF60eQO4E4aCLVi1Ad4Jw0EWrNUA8QTjootVBQJ4gHHTRqlFAd40PdNGqX0ACyToRumjlP3EnCAddtPo\\u002fuROEgy5aBUC5E4SDLloNQNwJwkEXrR5A7gThoItWLUB3gnDQRas1QDxBOOii1UFAniAcdNGqUUB3jQ900apfQALJOhG6aOU\\u002fcScIB120+j+5E4SDLloFQLkThIMuWg1A3AnCQRetHkDuBOGgi1YtQHeCcNBFqzVAPEE46KLVQUCeIBx00apRQHeND3TRql9AAsk6Ebpo5T9xJwgHXbT6P7kThIMuWgVAuROEgy5aDUDcCcJBF60eQO4E4aCLVi1Ad4Jw0EWrNUA8QTjootVBQJ4gHHTRqlFAd40PdNGqX0ACyToRumjlP3EnCAddtPo\\u002fuROEgy5aBUC5E4SDLloNQNwJwkEXrR5A7gThoItWLUB3gnDQRas1QDxBOOii1UFAniAcdNGqUUB3jQ900apfQALJOhG6aOU\\u002fcScIB120+j+5E4SDLloFQLkThIMuWg1A3AnCQRetHkDuBOGgi1YtQHeCcNBFqzVAPEE46KLVQUCeIBx00apRQHeND3TRql9AAsk6Ebpo5T9xJwgHXbT6P7kThIMuWgVAuROEgy5aDUDcCcJBF60eQO4E4aCLVi1Ad4Jw0EWrNUA8QTjootVBQJ4gHHTRqlFAd40PdNGqX0ACyToRumjlP3EnCAddtPo\\u002fuROEgy5aBUC5E4SDLloNQNwJwkEXrR5A7gThoItWLUB3gnDQRas1QDxBOOii1UFAniAcdNGqUUB3jQ900apfQALJOhG6aOU\\u002fcScIB120+j+5E4SDLloFQLkThIMuWg1A3AnCQRetHkDuBOGgi1YtQHeCcNBFqzVAPEE46KLVQUCeIBx00apRQHeND3TRql9AAsk6Ebpo5T9xJwgHXbT6P7kThIMuWgVAuROEgy5aDUDcCcJBF60eQO4E4aCLVi1Ad4Jw0EWrNUA8QTjootVBQJ4gHHTRqlFAd40PdNGqX0ACyToRumjlP3EnCAddtPo\\u002fuROEgy5aBUC5E4SDLloNQNwJwkEXrR5A7gThoItWLUB3gnDQRas1QDxBOOii1UFAniAcdNGqUUB3jQ900apfQALJOhG6aOU\\u002fcScIB120+j+5E4SDLloFQLkThIMuWg1A3AnCQRetHkDuBOGgi1YtQHeCcNBFqzVAPEE46KLVQUCeIBx00apRQHeND3TRql9AAsk6Ebpo5T9xJwgHXbT6P7kThIMuWgVAuROEgy5aDUDcCcJBF60eQO4E4aCLVi1Ad4Jw0EWrNUA8QTjootVBQJ4gHHTRqlFAd40PdNGqX0ACyToRumjlP3EnCAddtPo\\u002fuROEgy5aBUC5E4SDLloNQNwJwkEXrR5A7gThoItWLUB3gnDQRas1QDxBOOii1UFAniAcdNGqUUB3jQ900apfQALJOhG6aOU\\u002fcScIB120+j+5E4SDLloFQLkThIMuWg1A3AnCQRetHkDuBOGgi1YtQHeCcNBFqzVAPEE46KLVQUCeIBx00apRQHeND3TRql9AAsk6Ebpo5T9xJwgHXbT6P7kThIMuWgVAuROEgy5aDUDcCcJBF60eQO4E4aCLVi1Ad4Jw0EWrNUA8QTjootVBQJ4gHHTRqlFAd40PdNGqX0ACyToRumjlP3EnCAddtPo\\u002fuROEgy5aBUC5E4SDLloNQNwJwkEXrR5A7gThoItWLUB3gnDQRas1QDxBOOii1UFAniAcdNGqUUB3jQ900apfQALJOhG6aOU\\u002fcScIB120+j+5E4SDLloFQLkThIMuWg1A3AnCQRetHkDuBOGgi1YtQHeCcNBFqzVAPEE46KLVQUCeIBx00apRQHeND3TRql9AAsk6Ebpo5T9xJwgHXbT6P7kThIMuWgVAuROEgy5aDUDcCcJBF60eQO4E4aCLVi1Ad4Jw0EWrNUA8QTjootVBQJ4gHHTRqlFAd40PdNGqX0ACyToRumjlP3EnCAddtPo\\u002fuROEgy5aBUC5E4SDLloNQNwJwkEXrR5A7gThoItWLUB3gnDQRas1QDxBOOii1UFAniAcdNGqUUB3jQ900apfQALJOhG6aOU\\u002fcScIB120+j+5E4SDLloFQLkThIMuWg1A3AnCQRetHkDuBOGgi1YtQHeCcNBFqzVAPEE46KLVQUCeIBx00apRQHeND3TRql9AAsk6Ebpo5T9xJwgHXbT6P7kThIMuWgVAuROEgy5aDUDcCcJBF60eQO4E4aCLVi1Ad4Jw0EWrNUA8QTjootVBQJ4gHHTRqlFAd40PdNGqX0ACyToRumjlP3EnCAddtPo\\u002fuROEgy5aBUC5E4SDLloNQNwJwkEXrR5A7gThoItWLUB3gnDQRas1QDxBOOii1UFAniAcdNGqUUB3jQ900apfQALJOhG6aOU\\u002fcScIB120+j+5E4SDLloFQLkThIMuWg1A3AnCQRetHkDuBOGgi1YtQHeCcNBFqzVAPEE46KLVQUCeIBx00apRQHeND3TRql9AAsk6Ebpo5T9xJwgHXbT6P7kThIMuWgVAuROEgy5aDUDcCcJBF60eQO4E4aCLVi1Ad4Jw0EWrNUA8QTjootVBQJ4gHHTRqlFAd40PdNGqX0ACyToRumjlP3EnCAddtPo\\u002fuROEgy5aBUC5E4SDLloNQNwJwkEXrR5A7gThoItWLUB3gnDQRas1QDxBOOii1UFAniAcdNGqUUB3jQ900apfQALJOhG6aOU\\u002fcScIB120+j+5E4SDLloFQLkThIMuWg1A3AnCQRetHkDuBOGgi1YtQHeCcNBFqzVAPEE46KLVQUCeIBx00apRQHeND3TRql9AAsk6Ebpo5T9xJwgHXbT6P7kThIMuWgVAuROEgy5aDUDcCcJBF60eQO4E4aCLVi1Ad4Jw0EWrNUA8QTjootVBQJ4gHHTRqlFAd40PdNGqX0ACyToRumjlP3EnCAddtPo\\u002fuROEgy5aBUC5E4SDLloNQNwJwkEXrR5A7gThoItWLUB3gnDQRas1QDxBOOii1UFAniAcdNGqUUB3jQ900apfQALJOhG6aOU\\u002fcScIB120+j+5E4SDLloFQLkThIMuWg1A3AnCQRetHkDuBOGgi1YtQHeCcNBFqzVAPEE46KLVQUCeIBx00apRQHeND3TRql9AAsk6Ebpo5T9xJwgHXbT6P7kThIMuWgVAuROEgy5aDUDcCcJBF60eQO4E4aCLVi1Ad4Jw0EWrNUA8QTjootVBQJ4gHHTRqlFAd40PdNGqX0ACyToRumjlP3EnCAddtPo\\u002fuROEgy5aBUC5E4SDLloNQNwJwkEXrR5A7gThoItWLUB3gnDQRas1QDxBOOii1UFAniAcdNGqUUB3jQ900apfQALJOhG6aOU\\u002fcScIB120+j+5E4SDLloFQLkThIMuWg1A3AnCQRetHkDuBOGgi1YtQHeCcNBFqzVAPEE46KLVQUCeIBx00apRQHeND3TRql9AAsk6Ebpo5T9xJwgHXbT6P7kThIMuWgVAuROEgy5aDUDcCcJBF60eQO4E4aCLVi1Ad4Jw0EWrNUA8QTjootVBQJ4gHHTRqlFAd40PdNGqX0ACyToRumjlP3EnCAddtPo\\u002fuROEgy5aBUC5E4SDLloNQNwJwkEXrR5A7gThoItWLUB3gnDQRas1QDxBOOii1UFAniAcdNGqUUB3jQ900apfQALJOhG6aOU\\u002fcScIB120+j+5E4SDLloFQLkThIMuWg1A3AnCQRetHkDuBOGgi1YtQHeCcNBFqzVAPEE46KLVQUCeIBx00apRQHeND3TRql9AAsk6Ebpo5T9xJwgHXbT6P7kThIMuWgVAuROEgy5aDUDcCcJBF60eQO4E4aCLVi1Ad4Jw0EWrNUA8QTjootVBQJ4gHHTRqlFAd40PdNGqX0ACyToRumjlP3EnCAddtPo\\u002fuROEgy5aBUC5E4SDLloNQNwJwkEXrR5A7gThoItWLUB3gnDQRas1QDxBOOii1UFAniAcdNGqUUB3jQ900apfQALJOhG6aOU\\u002fcScIB120+j+5E4SDLloFQLkThIMuWg1A3AnCQRetHkDuBOGgi1YtQHeCcNBFqzVAPEE46KLVQUCeIBx00apRQHeND3TRql9AAsk6Ebpo5T9xJwgHXbT6P7kThIMuWgVAuROEgy5aDUDcCcJBF60eQO4E4aCLVi1Ad4Jw0EWrNUA8QTjootVBQJ4gHHTRqlFAd40PdNGqX0ACyToRumjlP3EnCAddtPo\\u002fuROEgy5aBUC5E4SDLloNQNwJwkEXrR5A7gThoItWLUB3gnDQRas1QDxBOOii1UFAniAcdNGqUUB3jQ900apfQALJOhG6aOU\\u002fcScIB120+j+5E4SDLloFQLkThIMuWg1A3AnCQRetHkDuBOGgi1YtQHeCcNBFqzVAPEE46KLVQUCeIBx00apRQHeND3TRql9AAsk6Ebpo5T9xJwgHXbT6P7kThIMuWgVAuROEgy5aDUDcCcJBF60eQO4E4aCLVi1Ad4Jw0EWrNUA8QTjootVBQJ4gHHTRqlFAd40PdNGqX0ACyToRumjlP3EnCAddtPo\\u002fuROEgy5aBUC5E4SDLloNQNwJwkEXrR5A7gThoItWLUB3gnDQRas1QDxBOOii1UFAniAcdNGqUUB3jQ900apfQALJOhG6aOU\\u002fcScIB120+j+5E4SDLloFQLkThIMuWg1A3AnCQRetHkDuBOGgi1YtQHeCcNBFqzVAPEE46KLVQUCeIBx00apRQHeND3TRql9AAsk6Ebpo5T9xJwgHXbT6P7kThIMuWgVAuROEgy5aDUDcCcJBF60eQO4E4aCLVi1Ad4Jw0EWrNUA8QTjootVBQJ4gHHTRqlFAd40PdNGqX0ACyToRumjlP3EnCAddtPo\\u002fuROEgy5aBUC5E4SDLloNQNwJwkEXrR5A7gThoItWLUB3gnDQRas1QDxBOOii1UFAniAcdNGqUUB3jQ900apfQALJOhG6aOU\\u002fcScIB120+j+5E4SDLloFQLkThIMuWg1A3AnCQRetHkDuBOGgi1YtQHeCcNBFqzVAPEE46KLVQUCeIBx00apRQHeND3TRql9AAsk6Ebpo5T9xJwgHXbT6P7kThIMuWgVAuROEgy5aDUDcCcJBF60eQO4E4aCLVi1Ad4Jw0EWrNUA8QTjootVBQJ4gHHTRqlFAd40PdNGqX0ACyToRumjlP3EnCAddtPo\\u002fuROEgy5aBUC5E4SDLloNQNwJwkEXrR5A7gThoItWLUB3gnDQRas1QDxBOOii1UFAniAcdNGqUUB3jQ900apfQALJOhG6aOU\\u002fcScIB120+j+5E4SDLloFQLkThIMuWg1A3AnCQRetHkDuBOGgi1YtQHeCcNBFqzVAPEE46KLVQUCeIBx00apRQHeND3TRql9AAsk6Ebpo5T9xJwgHXbT6P7kThIMuWgVAuROEgy5aDUDcCcJBF60eQO4E4aCLVi1Ad4Jw0EWrNUA8QTjootVBQJ4gHHTRqlFAd40PdNGqX0ACyToRumjlP3EnCAddtPo\\u002fuROEgy5aBUC5E4SDLloNQNwJwkEXrR5A7gThoItWLUB3gnDQRas1QDxBOOii1UFAniAcdNGqUUB3jQ900apfQALJOhG6aOU\\u002fcScIB120+j+5E4SDLloFQLkThIMuWg1A3AnCQRetHkDuBOGgi1YtQHeCcNBFqzVAPEE46KLVQUCeIBx00apRQHeND3TRql9AAsk6Ebpo5T9xJwgHXbT6P7kThIMuWgVAuROEgy5aDUDcCcJBF60eQO4E4aCLVi1Ad4Jw0EWrNUA8QTjootVBQJ4gHHTRqlFAd40PdNGqX0ACyToRumjlP3EnCAddtPo\\u002fuROEgy5aBUC5E4SDLloNQNwJwkEXrR5A7gThoItWLUB3gnDQRas1QDxBOOii1UFAniAcdNGqUUB3jQ900apfQALJOhG6aOU\\u002fcScIB120+j+5E4SDLloFQLkThIMuWg1A3AnCQRetHkDuBOGgi1YtQHeCcNBFqzVAPEE46KLVQUCeIBx00apRQHeND3TRql9AAsk6Ebpo5T9xJwgHXbT6P7kThIMuWgVAuROEgy5aDUDcCcJBF60eQO4E4aCLVi1Ad4Jw0EWrNUA8QTjootVBQJ4gHHTRqlFAd40PdNGqX0ACyToRumjlP3EnCAddtPo\\u002fuROEgy5aBUC5E4SDLloNQNwJwkEXrR5A7gThoItWLUB3gnDQRas1QDxBOOii1UFAniAcdNGqUUB3jQ900apfQALJOhG6aOU\\u002fcScIB120+j+5E4SDLloFQLkThIMuWg1A3AnCQRetHkDuBOGgi1YtQHeCcNBFqzVAPEE46KLVQUCeIBx00apRQHeND3TRql9AAsk6Ebpo5T9xJwgHXbT6P7kThIMuWgVAuROEgy5aDUDcCcJBF60eQO4E4aCLVi1Ad4Jw0EWrNUA8QTjootVBQJ4gHHTRqlFAd40PdNGqX0ACyToRumjlP3EnCAddtPo\\u002fuROEgy5aBUC5E4SDLloNQNwJwkEXrR5A7gThoItWLUB3gnDQRas1QDxBOOii1UFAniAcdNGqUUB3jQ900apfQALJOhG6aOU\\u002fcScIB120+j+5E4SDLloFQLkThIMuWg1A3AnCQRetHkDuBOGgi1YtQHeCcNBFqzVAPEE46KLVQUCeIBx00apRQHeND3TRql9AAsk6Ebpo5T9xJwgHXbT6P7kThIMuWgVAuROEgy5aDUDcCcJBF60eQO4E4aCLVi1Ad4Jw0EWrNUA8QTjootVBQJ4gHHTRqlFAd40PdNGqX0ACyToRumjlP3EnCAddtPo\\u002fuROEgy5aBUC5E4SDLloNQNwJwkEXrR5A7gThoItWLUB3gnDQRas1QDxBOOii1UFAniAcdNGqUUB3jQ900apfQALJOhG6aOU\\u002fcScIB120+j+5E4SDLloFQLkThIMuWg1A3AnCQRetHkDuBOGgi1YtQHeCcNBFqzVAPEE46KLVQUCeIBx00apRQHeND3TRql9AAsk6Ebpo5T9xJwgHXbT6P7kThIMuWgVAuROEgy5aDUDcCcJBF60eQO4E4aCLVi1Ad4Jw0EWrNUA8QTjootVBQJ4gHHTRqlFAd40PdNGqX0ACyToRumjlP3EnCAddtPo\\u002fuROEgy5aBUC5E4SDLloNQNwJwkEXrR5A7gThoItWLUB3gnDQRas1QDxBOOii1UFAniAcdNGqUUB3jQ900apfQALJOhG6aOU\\u002fcScIB120+j+5E4SDLloFQLkThIMuWg1A3AnCQRetHkDuBOGgi1YtQHeCcNBFqzVAPEE46KLVQUCeIBx00apRQHeND3TRql9AAsk6Ebpo5T9xJwgHXbT6P7kThIMuWgVAuROEgy5aDUDcCcJBF60eQO4E4aCLVi1Ad4Jw0EWrNUA8QTjootVBQJ4gHHTRqlFAd40PdNGqX0ACyToRumjlP3EnCAddtPo\\u002fuROEgy5aBUC5E4SDLloNQNwJwkEXrR5A7gThoItWLUB3gnDQRas1QDxBOOii1UFAniAcdNGqUUB3jQ900apfQALJOhG6aOU\\u002fcScIB120+j+5E4SDLloFQLkThIMuWg1A3AnCQRetHkDuBOGgi1YtQHeCcNBFqzVAPEE46KLVQUCeIBx00apRQHeND3TRql9AAsk6Ebpo5T9xJwgHXbT6P7kThIMuWgVAuROEgy5aDUDcCcJBF60eQO4E4aCLVi1Ad4Jw0EWrNUA8QTjootVBQJ4gHHTRqlFAd40PdNGqX0ACyToRumjlP3EnCAddtPo\\u002fuROEgy5aBUC5E4SDLloNQNwJwkEXrR5A7gThoItWLUB3gnDQRas1QDxBOOii1UFAniAcdNGqUUB3jQ900apfQALJOhG6aOU\\u002fcScIB120+j+5E4SDLloFQLkThIMuWg1A3AnCQRetHkDuBOGgi1YtQHeCcNBFqzVAPEE46KLVQUCeIBx00apRQHeND3TRql9AAsk6Ebpo5T9xJwgHXbT6P7kThIMuWgVAuROEgy5aDUDcCcJBF60eQO4E4aCLVi1Ad4Jw0EWrNUA8QTjootVBQJ4gHHTRqlFAd40PdNGqX0ACyToRumjlP3EnCAddtPo\\u002fuROEgy5aBUC5E4SDLloNQNwJwkEXrR5A7gThoItWLUB3gnDQRas1QDxBOOii1UFAniAcdNGqUUB3jQ900apfQALJOhG6aOU\\u002fcScIB120+j+5E4SDLloFQLkThIMuWg1A3AnCQRetHkDuBOGgi1YtQHeCcNBFqzVAPEE46KLVQUCeIBx00apRQHeND3TRql9AAsk6Ebpo5T9xJwgHXbT6P7kThIMuWgVAuROEgy5aDUDcCcJBF60eQO4E4aCLVi1Ad4Jw0EWrNUA8QTjootVBQJ4gHHTRqlFAd40PdNGqX0A=\",\"shape\":\"100, 10\"},\"y\":{\"dtype\":\"f8\",\"bdata\":\"AAAAAACI00AAAAAAAIjTQAAAAAAAiNNAAAAAAACI00AAAAAAAIjTQAAAAAAAiNNAAAAAAACI00AAAAAAAIjTQAAAAAAAiNNAAAAAAACI00BJz\\u002fCsF9DUQEnP8KwX0NRASc\\u002fwrBfQ1EBJz\\u002fCsF9DUQEnP8KwX0NRASc\\u002fwrBfQ1EBJz\\u002fCsF9DUQEnP8KwX0NRASc\\u002fwrBfQ1EBJz\\u002fCsF9DUQJKe4VkvGNZAkp7hWS8Y1kCSnuFZLxjWQJKe4VkvGNZAkp7hWS8Y1kCSnuFZLxjWQJKe4VkvGNZAkp7hWS8Y1kCSnuFZLxjWQJKe4VkvGNZA2m3SBkdg10DabdIGR2DXQNpt0gZHYNdA2m3SBkdg10DabdIGR2DXQNpt0gZHYNdA2m3SBkdg10DabdIGR2DXQNpt0gZHYNdA2m3SBkdg10AjPcOzXqjYQCM9w7NeqNhAIz3Ds16o2EAjPcOzXqjYQCM9w7NeqNhAIz3Ds16o2EAjPcOzXqjYQCM9w7NeqNhAIz3Ds16o2EAjPcOzXqjYQGwMtGB28NlAbAy0YHbw2UBsDLRgdvDZQGwMtGB28NlAbAy0YHbw2UBsDLRgdvDZQGwMtGB28NlAbAy0YHbw2UBsDLRgdvDZQGwMtGB28NlAtdukDY4420C126QNjjjbQLXbpA2OONtAtdukDY4420C126QNjjjbQLXbpA2OONtAtdukDY4420C126QNjjjbQLXbpA2OONtAtdukDY4420D+qpW6pYDcQP6qlbqlgNxA\\u002fqqVuqWA3ED+qpW6pYDcQP6qlbqlgNxA\\u002fqqVuqWA3ED+qpW6pYDcQP6qlbqlgNxA\\u002fqqVuqWA3ED+qpW6pYDcQEZ6hme9yN1ARnqGZ73I3UBGeoZnvcjdQEZ6hme9yN1ARnqGZ73I3UBGeoZnvcjdQEZ6hme9yN1ARnqGZ73I3UBGeoZnvcjdQEZ6hme9yN1AkEl3FNUQ30CQSXcU1RDfQJBJdxTVEN9AkEl3FNUQ30CQSXcU1RDfQJBJdxTVEN9AkEl3FNUQ30CQSXcU1RDfQJBJdxTVEN9AkEl3FNUQ30BsDLRgdizgQGwMtGB2LOBAbAy0YHYs4EBsDLRgdizgQGwMtGB2LOBAbAy0YHYs4EBsDLRgdizgQGwMtGB2LOBAbAy0YHYs4EBsDLRgdizgQBB0LDeC0OBAEHQsN4LQ4EAQdCw3gtDgQBB0LDeC0OBAEHQsN4LQ4EAQdCw3gtDgQBB0LDeC0OBAEHQsN4LQ4EAQdCw3gtDgQBB0LDeC0OBAtdukDY504UC126QNjnThQLXbpA2OdOFAtdukDY504UC126QNjnThQLXbpA2OdOFAtdukDY504UC126QNjnThQLXbpA2OdOFAtdukDY504UBaQx3kmRjiQFpDHeSZGOJAWkMd5JkY4kBaQx3kmRjiQFpDHeSZGOJAWkMd5JkY4kBaQx3kmRjiQFpDHeSZGOJAWkMd5JkY4kBaQx3kmRjiQP6qlbqlvOJA\\u002fqqVuqW84kD+qpW6pbziQP6qlbqlvOJA\\u002fqqVuqW84kD+qpW6pbziQP6qlbqlvOJA\\u002fqqVuqW84kD+qpW6pbziQP6qlbqlvOJAohIOkbFg40CiEg6RsWDjQKISDpGxYONAohIOkbFg40CiEg6RsWDjQKISDpGxYONAohIOkbFg40CiEg6RsWDjQKISDpGxYONAohIOkbFg40BGeoZnvQTkQEZ6hme9BORARnqGZ70E5EBGeoZnvQTkQEZ6hme9BORARnqGZ70E5EBGeoZnvQTkQEZ6hme9BORARnqGZ70E5EBGeoZnvQTkQOvh\\u002fj3JqORA6+H+Pcmo5EDr4f49yajkQOvh\\u002fj3JqORA6+H+Pcmo5EDr4f49yajkQOvh\\u002fj3JqORA6+H+Pcmo5EDr4f49yajkQOvh\\u002fj3JqORAkEl3FNVM5UCQSXcU1UzlQJBJdxTVTOVAkEl3FNVM5UCQSXcU1UzlQJBJdxTVTOVAkEl3FNVM5UCQSXcU1UzlQJBJdxTVTOVAkEl3FNVM5UA0se\\u002fq4PDlQDSx7+rg8OVANLHv6uDw5UA0se\\u002fq4PDlQDSx7+rg8OVANLHv6uDw5UA0se\\u002fq4PDlQDSx7+rg8OVANLHv6uDw5UA0se\\u002fq4PDlQNgYaMHslOZA2BhoweyU5kDYGGjB7JTmQNgYaMHslOZA2BhoweyU5kDYGGjB7JTmQNgYaMHslOZA2BhoweyU5kDYGGjB7JTmQNgYaMHslOZAfIDgl\\u002fg450B8gOCX+DjnQHyA4Jf4OOdAfIDgl\\u002fg450B8gOCX+DjnQHyA4Jf4OOdAfIDgl\\u002fg450B8gOCX+DjnQHyA4Jf4OOdAfIDgl\\u002fg450Ah6FhuBN3nQCHoWG4E3edAIehYbgTd50Ah6FhuBN3nQCHoWG4E3edAIehYbgTd50Ah6FhuBN3nQCHoWG4E3edAIehYbgTd50Ah6FhuBN3nQMZP0UQQgehAxk\\u002fRRBCB6EDGT9FEEIHoQMZP0UQQgehAxk\\u002fRRBCB6EDGT9FEEIHoQMZP0UQQgehAxk\\u002fRRBCB6EDGT9FEEIHoQMZP0UQQgehAardJGxwl6UBqt0kbHCXpQGq3SRscJelAardJGxwl6UBqt0kbHCXpQGq3SRscJelAardJGxwl6UBqt0kbHCXpQGq3SRscJelAardJGxwl6UAOH8LxJ8npQA4fwvEnyelADh\\u002fC8SfJ6UAOH8LxJ8npQA4fwvEnyelADh\\u002fC8SfJ6UAOH8LxJ8npQA4fwvEnyelADh\\u002fC8SfJ6UAOH8LxJ8npQLOGOsgzbepAs4Y6yDNt6kCzhjrIM23qQLOGOsgzbepAs4Y6yDNt6kCzhjrIM23qQLOGOsgzbepAs4Y6yDNt6kCzhjrIM23qQLOGOsgzbepAV+6ynj8R60BX7rKePxHrQFfusp4\\u002fEetAV+6ynj8R60BX7rKePxHrQFfusp4\\u002fEetAV+6ynj8R60BX7rKePxHrQFfusp4\\u002fEetAV+6ynj8R60D7VSt1S7XrQPtVK3VLtetA+1UrdUu160D7VSt1S7XrQPtVK3VLtetA+1UrdUu160D7VSt1S7XrQPtVK3VLtetA+1UrdUu160D7VSt1S7XrQKC9o0tXWexAoL2jS1dZ7ECgvaNLV1nsQKC9o0tXWexAoL2jS1dZ7ECgvaNLV1nsQKC9o0tXWexAoL2jS1dZ7ECgvaNLV1nsQKC9o0tXWexARCUcImP97EBEJRwiY\\u002f3sQEQlHCJj\\u002fexARCUcImP97EBEJRwiY\\u002f3sQEQlHCJj\\u002fexARCUcImP97EBEJRwiY\\u002f3sQEQlHCJj\\u002fexARCUcImP97EDpjJT4bqHtQOmMlPhuoe1A6YyU+G6h7UDpjJT4bqHtQOmMlPhuoe1A6YyU+G6h7UDpjJT4bqHtQOmMlPhuoe1A6YyU+G6h7UDpjJT4bqHtQI30DM96Re5AjfQMz3pF7kCN9AzPekXuQI30DM96Re5AjfQMz3pF7kCN9AzPekXuQI30DM96Re5AjfQMz3pF7kCN9AzPekXuQI30DM96Re5AMVyFpYbp7kAxXIWlhunuQDFchaWG6e5AMVyFpYbp7kAxXIWlhunuQDFchaWG6e5AMVyFpYbp7kAxXIWlhunuQDFchaWG6e5AMVyFpYbp7kDWw\\u002f17ko3vQNbD\\u002fXuSje9A1sP9e5KN70DWw\\u002f17ko3vQNbD\\u002fXuSje9A1sP9e5KN70DWw\\u002f17ko3vQNbD\\u002fXuSje9A1sP9e5KN70DWw\\u002f17ko3vQL0VOynPGPBAvRU7Kc8Y8EC9FTspzxjwQL0VOynPGPBAvRU7Kc8Y8EC9FTspzxjwQL0VOynPGPBAvRU7Kc8Y8EC9FTspzxjwQL0VOynPGPBAkEl3FNVq8ECQSXcU1WrwQJBJdxTVavBAkEl3FNVq8ECQSXcU1WrwQJBJdxTVavBAkEl3FNVq8ECQSXcU1WrwQJBJdxTVavBAkEl3FNVq8EBifbP\\u002f2rzwQGJ9s\\u002f\\u002favPBAYn2z\\u002f9q88EBifbP\\u002f2rzwQGJ9s\\u002f\\u002favPBAYn2z\\u002f9q88EBifbP\\u002f2rzwQGJ9s\\u002f\\u002favPBAYn2z\\u002f9q88EBifbP\\u002f2rzwQDSx7+rgDvFANLHv6uAO8UA0se\\u002fq4A7xQDSx7+rgDvFANLHv6uAO8UA0se\\u002fq4A7xQDSx7+rgDvFANLHv6uAO8UA0se\\u002fq4A7xQDSx7+rgDvFABuUr1uZg8UAG5SvW5mDxQAblK9bmYPFABuUr1uZg8UAG5SvW5mDxQAblK9bmYPFABuUr1uZg8UAG5SvW5mDxQAblK9bmYPFABuUr1uZg8UDYGGjB7LLxQNgYaMHssvFA2Bhoweyy8UDYGGjB7LLxQNgYaMHssvFA2Bhoweyy8UDYGGjB7LLxQNgYaMHssvFA2Bhoweyy8UDYGGjB7LLxQKpMpKzyBPJAqkykrPIE8kCqTKSs8gTyQKpMpKzyBPJAqkykrPIE8kCqTKSs8gTyQKpMpKzyBPJAqkykrPIE8kCqTKSs8gTyQKpMpKzyBPJAfIDgl\\u002fhW8kB8gOCX+FbyQHyA4Jf4VvJAfIDgl\\u002fhW8kB8gOCX+FbyQHyA4Jf4VvJAfIDgl\\u002fhW8kB8gOCX+FbyQHyA4Jf4VvJAfIDgl\\u002fhW8kBOtByD\\u002fqjyQE60HIP+qPJATrQcg\\u002f6o8kBOtByD\\u002fqjyQE60HIP+qPJATrQcg\\u002f6o8kBOtByD\\u002fqjyQE60HIP+qPJATrQcg\\u002f6o8kBOtByD\\u002fqjyQCHoWG4E+\\u002fJAIehYbgT78kAh6FhuBPvyQCHoWG4E+\\u002fJAIehYbgT78kAh6FhuBPvyQCHoWG4E+\\u002fJAIehYbgT78kAh6FhuBPvyQCHoWG4E+\\u002fJA8xuVWQpN80DzG5VZCk3zQPMblVkKTfNA8xuVWQpN80DzG5VZCk3zQPMblVkKTfNA8xuVWQpN80DzG5VZCk3zQPMblVkKTfNA8xuVWQpN80DGT9FEEJ\\u002fzQMZP0UQQn\\u002fNAxk\\u002fRRBCf80DGT9FEEJ\\u002fzQMZP0UQQn\\u002fNAxk\\u002fRRBCf80DGT9FEEJ\\u002fzQMZP0UQQn\\u002fNAxk\\u002fRRBCf80DGT9FEEJ\\u002fzQJiDDTAW8fNAmIMNMBbx80CYgw0wFvHzQJiDDTAW8fNAmIMNMBbx80CYgw0wFvHzQJiDDTAW8fNAmIMNMBbx80CYgw0wFvHzQJiDDTAW8fNAardJGxxD9EBqt0kbHEP0QGq3SRscQ\\u002fRAardJGxxD9EBqt0kbHEP0QGq3SRscQ\\u002fRAardJGxxD9EBqt0kbHEP0QGq3SRscQ\\u002fRAardJGxxD9EA864UGIpX0QDzrhQYilfRAPOuFBiKV9EA864UGIpX0QDzrhQYilfRAPOuFBiKV9EA864UGIpX0QDzrhQYilfRAPOuFBiKV9EA864UGIpX0QA4fwvEn5\\u002fRADh\\u002fC8Sfn9EAOH8LxJ+f0QA4fwvEn5\\u002fRADh\\u002fC8Sfn9EAOH8LxJ+f0QA4fwvEn5\\u002fRADh\\u002fC8Sfn9EAOH8LxJ+f0QA4fwvEn5\\u002fRA4FL+3C059UDgUv7cLTn1QOBS\\u002ftwtOfVA4FL+3C059UDgUv7cLTn1QOBS\\u002ftwtOfVA4FL+3C059UDgUv7cLTn1QOBS\\u002ftwtOfVA4FL+3C059UCzhjrIM4v1QLOGOsgzi\\u002fVAs4Y6yDOL9UCzhjrIM4v1QLOGOsgzi\\u002fVAs4Y6yDOL9UCzhjrIM4v1QLOGOsgzi\\u002fVAs4Y6yDOL9UCzhjrIM4v1QIW6drM53fVAhbp2sznd9UCFunazOd31QIW6drM53fVAhbp2sznd9UCFunazOd31QIW6drM53fVAhbp2sznd9UCFunazOd31QIW6drM53fVAV+6ynj8v9kBX7rKePy\\u002f2QFfusp4\\u002fL\\u002fZAV+6ynj8v9kBX7rKePy\\u002f2QFfusp4\\u002fL\\u002fZAV+6ynj8v9kBX7rKePy\\u002f2QFfusp4\\u002fL\\u002fZAV+6ynj8v9kApIu+JRYH2QCki74lFgfZAKSLviUWB9kApIu+JRYH2QCki74lFgfZAKSLviUWB9kApIu+JRYH2QCki74lFgfZAKSLviUWB9kApIu+JRYH2QPtVK3VL0\\u002fZA+1UrdUvT9kD7VSt1S9P2QPtVK3VL0\\u002fZA+1UrdUvT9kD7VSt1S9P2QPtVK3VL0\\u002fZA+1UrdUvT9kD7VSt1S9P2QPtVK3VL0\\u002fZAzolnYFEl90DOiWdgUSX3QM6JZ2BRJfdAzolnYFEl90DOiWdgUSX3QM6JZ2BRJfdAzolnYFEl90DOiWdgUSX3QM6JZ2BRJfdAzolnYFEl90CgvaNLV3f3QKC9o0tXd\\u002fdAoL2jS1d390CgvaNLV3f3QKC9o0tXd\\u002fdAoL2jS1d390CgvaNLV3f3QKC9o0tXd\\u002fdAoL2jS1d390CgvaNLV3f3QHLx3zZdyfdAcvHfNl3J90By8d82Xcn3QHLx3zZdyfdAcvHfNl3J90By8d82Xcn3QHLx3zZdyfdAcvHfNl3J90By8d82Xcn3QHLx3zZdyfdARCUcImMb+EBEJRwiYxv4QEQlHCJjG\\u002fhARCUcImMb+EBEJRwiYxv4QEQlHCJjG\\u002fhARCUcImMb+EBEJRwiYxv4QEQlHCJjG\\u002fhARCUcImMb+EAWWVgNaW34QBZZWA1pbfhAFllYDWlt+EAWWVgNaW34QBZZWA1pbfhAFllYDWlt+EAWWVgNaW34QBZZWA1pbfhAFllYDWlt+EAWWVgNaW34QOmMlPhuv\\u002fhA6YyU+G6\\u002f+EDpjJT4br\\u002f4QOmMlPhuv\\u002fhA6YyU+G6\\u002f+EDpjJT4br\\u002f4QOmMlPhuv\\u002fhA6YyU+G6\\u002f+EDpjJT4br\\u002f4QOmMlPhuv\\u002fhAu8DQ43QR+UC7wNDjdBH5QLvA0ON0EflAu8DQ43QR+UC7wNDjdBH5QLvA0ON0EflAu8DQ43QR+UC7wNDjdBH5QLvA0ON0EflAu8DQ43QR+UCN9AzPemP5QI30DM96Y\\u002flAjfQMz3pj+UCN9AzPemP5QI30DM96Y\\u002flAjfQMz3pj+UCN9AzPemP5QI30DM96Y\\u002flAjfQMz3pj+UCN9AzPemP5QF8oSbqAtflAXyhJuoC1+UBfKEm6gLX5QF8oSbqAtflAXyhJuoC1+UBfKEm6gLX5QF8oSbqAtflAXyhJuoC1+UBfKEm6gLX5QF8oSbqAtflAMVyFpYYH+kAxXIWlhgf6QDFchaWGB\\u002fpAMVyFpYYH+kAxXIWlhgf6QDFchaWGB\\u002fpAMVyFpYYH+kAxXIWlhgf6QDFchaWGB\\u002fpAMVyFpYYH+kAEkMGQjFn6QASQwZCMWfpABJDBkIxZ+kAEkMGQjFn6QASQwZCMWfpABJDBkIxZ+kAEkMGQjFn6QASQwZCMWfpABJDBkIxZ+kAEkMGQjFn6QNbD\\u002fXuSq\\u002fpA1sP9e5Kr+kDWw\\u002f17kqv6QNbD\\u002fXuSq\\u002fpA1sP9e5Kr+kDWw\\u002f17kqv6QNbD\\u002fXuSq\\u002fpA1sP9e5Kr+kDWw\\u002f17kqv6QNbD\\u002fXuSq\\u002fpAqPc5Z5j9+kCo9zlnmP36QKj3OWeY\\u002ffpAqPc5Z5j9+kCo9zlnmP36QKj3OWeY\\u002ffpAqPc5Z5j9+kCo9zlnmP36QKj3OWeY\\u002ffpAqPc5Z5j9+kB6K3ZSnk\\u002f7QHordlKeT\\u002ftAeit2Up5P+0B6K3ZSnk\\u002f7QHordlKeT\\u002ftAeit2Up5P+0B6K3ZSnk\\u002f7QHordlKeT\\u002ftAeit2Up5P+0B6K3ZSnk\\u002f7QExfsj2koftATF+yPaSh+0BMX7I9pKH7QExfsj2koftATF+yPaSh+0BMX7I9pKH7QExfsj2koftATF+yPaSh+0BMX7I9pKH7QExfsj2koftAH5PuKKrz+0Afk+4oqvP7QB+T7iiq8\\u002ftAH5PuKKrz+0Afk+4oqvP7QB+T7iiq8\\u002ftAH5PuKKrz+0Afk+4oqvP7QB+T7iiq8\\u002ftAH5PuKKrz+0DxxioUsEX8QPHGKhSwRfxA8cYqFLBF\\u002fEDxxioUsEX8QPHGKhSwRfxA8cYqFLBF\\u002fEDxxioUsEX8QPHGKhSwRfxA8cYqFLBF\\u002fEDxxioUsEX8QMP6Zv+1l\\u002fxAw\\u002fpm\\u002f7WX\\u002fEDD+mb\\u002ftZf8QMP6Zv+1l\\u002fxAw\\u002fpm\\u002f7WX\\u002fEDD+mb\\u002ftZf8QMP6Zv+1l\\u002fxAw\\u002fpm\\u002f7WX\\u002fEDD+mb\\u002ftZf8QMP6Zv+1l\\u002fxAlS6j6rvp\\u002fECVLqPqu+n8QJUuo+q76fxAlS6j6rvp\\u002fECVLqPqu+n8QJUuo+q76fxAlS6j6rvp\\u002fECVLqPqu+n8QJUuo+q76fxAlS6j6rvp\\u002fEBnYt\\u002fVwTv9QGdi39XBO\\u002f1AZ2Lf1cE7\\u002fUBnYt\\u002fVwTv9QGdi39XBO\\u002f1AZ2Lf1cE7\\u002fUBnYt\\u002fVwTv9QGdi39XBO\\u002f1AZ2Lf1cE7\\u002fUBnYt\\u002fVwTv9QDqWG8HHjf1AOpYbwceN\\u002fUA6lhvBx439QDqWG8HHjf1AOpYbwceN\\u002fUA6lhvBx439QDqWG8HHjf1AOpYbwceN\\u002fUA6lhvBx439QDqWG8HHjf1ADMpXrM3f\\u002fUAMyleszd\\u002f9QAzKV6zN3\\u002f1ADMpXrM3f\\u002fUAMyleszd\\u002f9QAzKV6zN3\\u002f1ADMpXrM3f\\u002fUAMyleszd\\u002f9QAzKV6zN3\\u002f1ADMpXrM3f\\u002fUDe\\u002fZOX0zH+QN79k5fTMf5A3v2Tl9Mx\\u002fkDe\\u002fZOX0zH+QN79k5fTMf5A3v2Tl9Mx\\u002fkDe\\u002fZOX0zH+QN79k5fTMf5A3v2Tl9Mx\\u002fkDe\\u002fZOX0zH+QLAx0ILZg\\u002f5AsDHQgtmD\\u002fkCwMdCC2YP+QLAx0ILZg\\u002f5AsDHQgtmD\\u002fkCwMdCC2YP+QLAx0ILZg\\u002f5AsDHQgtmD\\u002fkCwMdCC2YP+QLAx0ILZg\\u002f5AgmUMbt\\u002fV\\u002fkCCZQxu39X+QIJlDG7f1f5AgmUMbt\\u002fV\\u002fkCCZQxu39X+QIJlDG7f1f5AgmUMbt\\u002fV\\u002fkCCZQxu39X+QIJlDG7f1f5AgmUMbt\\u002fV\\u002fkBVmUhZ5Sf\\u002fQFWZSFnlJ\\u002f9AVZlIWeUn\\u002f0BVmUhZ5Sf\\u002fQFWZSFnlJ\\u002f9AVZlIWeUn\\u002f0BVmUhZ5Sf\\u002fQFWZSFnlJ\\u002f9AVZlIWeUn\\u002f0BVmUhZ5Sf\\u002fQCfNhETref9AJ82EROt5\\u002f0AnzYRE63n\\u002fQCfNhETref9AJ82EROt5\\u002f0AnzYRE63n\\u002fQCfNhETref9AJ82EROt5\\u002f0AnzYRE63n\\u002fQCfNhETref9A+QDBL\\u002fHL\\u002f0D5AMEv8cv\\u002fQPkAwS\\u002fxy\\u002f9A+QDBL\\u002fHL\\u002f0D5AMEv8cv\\u002fQPkAwS\\u002fxy\\u002f9A+QDBL\\u002fHL\\u002f0D5AMEv8cv\\u002fQPkAwS\\u002fxy\\u002f9A+QDBL\\u002fHL\\u002f0Bmmn6N+w4AQWaafo37DgBBZpp+jfsOAEFmmn6N+w4AQWaafo37DgBBZpp+jfsOAEFmmn6N+w4AQWaafo37DgBBZpp+jfsOAEFmmn6N+w4AQU60HIP+NwBBTrQcg\\u002f43AEFOtByD\\u002fjcAQU60HIP+NwBBTrQcg\\u002f43AEFOtByD\\u002fjcAQU60HIP+NwBBTrQcg\\u002f43AEFOtByD\\u002fjcAQU60HIP+NwBBOM66eAFhAEE4zrp4AWEAQTjOungBYQBBOM66eAFhAEE4zrp4AWEAQTjOungBYQBBOM66eAFhAEE4zrp4AWEAQTjOungBYQBBOM66eAFhAEEh6FhuBIoAQSHoWG4EigBBIehYbgSKAEEh6FhuBIoAQSHoWG4EigBBIehYbgSKAEEh6FhuBIoAQSHoWG4EigBBIehYbgSKAEEh6FhuBIoAQQoC92MHswBBCgL3YwezAEEKAvdjB7MAQQoC92MHswBBCgL3YwezAEEKAvdjB7MAQQoC92MHswBBCgL3YwezAEEKAvdjB7MAQQoC92MHswBB8xuVWQrcAEHzG5VZCtwAQfMblVkK3ABB8xuVWQrcAEHzG5VZCtwAQfMblVkK3ABB8xuVWQrcAEHzG5VZCtwAQfMblVkK3ABB8xuVWQrcAEHcNTNPDQUBQdw1M08NBQFB3DUzTw0FAUHcNTNPDQUBQdw1M08NBQFB3DUzTw0FAUHcNTNPDQUBQdw1M08NBQFB3DUzTw0FAUHcNTNPDQUBQcZP0UQQLgFBxk\\u002fRRBAuAUHGT9FEEC4BQcZP0UQQLgFBxk\\u002fRRBAuAUHGT9FEEC4BQcZP0UQQLgFBxk\\u002fRRBAuAUHGT9FEEC4BQcZP0UQQLgFBrmlvOhNXAUGuaW86E1cBQa5pbzoTVwFBrmlvOhNXAUGuaW86E1cBQa5pbzoTVwFBrmlvOhNXAUGuaW86E1cBQa5pbzoTVwFBrmlvOhNXAUGYgw0wFoABQZiDDTAWgAFBmIMNMBaAAUGYgw0wFoABQZiDDTAWgAFBmIMNMBaAAUGYgw0wFoABQZiDDTAWgAFBmIMNMBaAAUGYgw0wFoABQYCdqyUZqQFBgJ2rJRmpAUGAnaslGakBQYCdqyUZqQFBgJ2rJRmpAUGAnaslGakBQYCdqyUZqQFBgJ2rJRmpAUGAnaslGakBQYCdqyUZqQFBardJGxzSAUFqt0kbHNIBQWq3SRsc0gFBardJGxzSAUFqt0kbHNIBQWq3SRsc0gFBardJGxzSAUFqt0kbHNIBQWq3SRsc0gFBardJGxzSAUFT0ecQH\\u002fsBQVPR5xAf+wFBU9HnEB\\u002f7AUFT0ecQH\\u002fsBQVPR5xAf+wFBU9HnEB\\u002f7AUFT0ecQH\\u002fsBQVPR5xAf+wFBU9HnEB\\u002f7AUFT0ecQH\\u002fsBQTzrhQYiJAJBPOuFBiIkAkE864UGIiQCQTzrhQYiJAJBPOuFBiIkAkE864UGIiQCQTzrhQYiJAJBPOuFBiIkAkE864UGIiQCQTzrhQYiJAJBJQUk\\u002fCRNAkElBST8JE0CQSUFJPwkTQJBJQUk\\u002fCRNAkElBST8JE0CQSUFJPwkTQJBJQUk\\u002fCRNAkElBST8JE0CQSUFJPwkTQJBJQUk\\u002fCRNAkE=\",\"shape\":\"100, 10\"},\"z\":{\"dtype\":\"f8\",\"bdata\":\"AAAAAAAAAAAAAAAAAAAAAAAAAAAAAAAAAAAAAAAAAAAAAAAAAAAAAAAAAAAAAAAAAAAAAAAAAAAAAAAAAAAAAAAAAAAAAAAAAAAAAAAAAAAAAAAAAAAAAAAAAAAAAAAAAAAAAAAAAAAAAAAAAAAAAAAAAAAAAAAAAAAAAAAAAAAAAAAAAAAAACllKJyjf8I+AAAAAAAAAAAzmQwfMc9DPgAAAAAAAAAAAAAAAAAAAAAAAAAAAAAAAAAAAAAAAAAAAAAAAAAAAAAAAAAAAAAAAAAAAAAAAAAA2ZrYCpLEwz4AAAAAAAAAAHYSGDSr4kg+AAAAAAAAAAAAAAAAAAAAAAAAAAAAAAAAAAAAAAAAAAAAAAAAAAAAAAAAAAAAAAAAAAAAAAAAAADVZ5EbC9y\\u002fPgAAAAAAAAAAuGQ8EZ+BUT4AAAAAAAAAAAAAAAAAAAAAAAAAAAAAAAAAAAAAAAAAAAAAAAAAAAAAAAAAAAAAAAAAAAAAAAAAAP471D0Rdb0+AAAAAAAAAACbW1WMWQBfPgAAAAAAAAAAAAAAAAAAAAAAAAAAAAAAAAAAAAAAAAAAAAAAAAAAAAAAAAAAAAAAAAAAAAAAAAAASouTtrEutj4AAAAAAAAAAGYBWQl062c+AAAAAAAAAAAAAAAAAAAAAAAAAAAAAAAAAAAAAAAAAAAAAAAAAAAAAAAAAAAAAAAAAAAAAAAAAADClkvhT+OjPgAAAAAAAAAAXcGtTyMVcz4AAAAAAAAAAAAAAAAAAAAAAAAAAAAAAAAAAAAAAAAAAAAAAAAAAAAAAAAAAAAAAAAAAAAAAAAAABAoAUhXyHM+AAAAAAAAAABK+iLPqNF+PgAAAAAAAAAAAAAAAAAAAAAAAAAAAAAAAAAAAAAAAAAAAAAAAAAAAAAAAAAAAAAAAAAAAAAAAAAAN7HmokiVaL4AAAAAAAAAAKohLntqBYU+AAAAAAAAAAAAAAAAAAAAAAAAAAAAAAAAAAAAAAAAAAAAAAAAAAAAAAAAAAAAAAAAAAAAAAAAAACvWmN61eVBPgAAAAAAAAAAWN9V6PzViT4AAAAAAAAAAAAAAAAAAAAAAAAAAAAAAAAAAAAAAAAAAAAAAAAAAAAAAAAAAAAAAAAAAAAAAAAAAIAiyguSoO29AAAAAAAAAAA4LcPPV1GOPgAAAAAAAAAAAAAAAAAAAAAAAAAAAAAAAAAAAAAAAAAAAAAAAAAAAAAAAAAAAAAAAAAAAAAAAAAANTSpaFBWUz4AAAAAAAAAADnrU0l8HJE+AAAAAAAAAAAAAAAAAAAAAAAAAAAAAAAAAAAAAAAAAAAAAAAAAAAAAAAAAAAAAAAAAAAAAAAAAAAPSJGvwrBkvgAAAAAAAAAAsIJBt1qykj4AAAAAAAAAAAAAAAAAAAAAAAAAAAAAAAAAAAAAAAAAAAAAAAAAAAAAAAAAAAAAAAAAAAAAAAAAAOiZ3yqlaF2+AAAAAAAAAAC65btbF9WSPgAAAAAAAAAAAAAAAAAAAAAAAAAAAAAAAAAAAAAAAAAAAAAAAAAAAAAAAAAAAAAAAAAAAAAAAAAAWHEhO79joT4AAAAAAAAAAAfdc4qbOY8+AAAAAAAAAAAAAAAAAAAAAAAAAAAAAAAAAAAAAAAAAAAAAAAAAAAAAAAAAAAAAAAAAAAAAAAAAADOCcG7AKqzPgAAAAAAAAAAeJ99McVvhT4AAAAAAAAAAAAAAAAAAAAAAAAAAAAAAAAAAAAAAAAAAGKFeOhsLFk+AAAAAAAAAAAAAAAAAAAAAMre6PW\\u002fnLQ+b4Joz3jQpz4u2fQxOUJ9PgAAAAAAAAAAAAAAAAAAAAAAAAAAAAAAAAAAAAAAAAAAKN8v9DbZoD4AAAAAAAAAAAAAAAAAAAAAYNb2l\\u002f4Pmz6YezZ+qgiiPt5K6XFmkX4+AAAAAAAAAAAAAAAAAAAAAAAAAAAAAAAAAAAAAAAAAAAWdSmBRqS1PgAAAAAAAAAAAAAAAAAAAABbq\\u002fyz1nV3vhc3Z5cDZKE+iqUMSvVPgj4AAAAAAAAAAAAAAAAAAAAAAAAAAAAAAAAAAAAAAAAAAA1C+bvCWMI+AAAAAAAAAAAAAAAAAAAAAMqVfgCfqj4+Szco7SUIoD7bnw9bZumFPgAAAAAAAAAAAAAAAAAAAAAAAAAAAAAAAAAAAAAAAAAAZ0B5QLALyz4AAAAAAAAAAAAAAAAAAAAAgBQdoHu4AT5\\u002f5RvSxIKbPk4Va4pf2Yw+AAAAAAAAAAAAAAAAAAAAAAAAAAAAAAAAAAAAAAAAAABi+FoI24\\u002fSPgAAAAAAAAAAAAAAAAAAAACEUSbPg5JlPmTTyKxDf5U+2Ce47BYDlD4AAAAAAAAAAAAAAAAAAAAAAAAAAAAAAAAAAAAAAAAAAFbQDgdlQ9g+AAAAAAAAAAAAAAAAAAAAAJ5kNn\\u002flVGi+3TyIMS8CjD4nVlruqgOcPgAAAAAAAAAAAAAAAAAAAAAAAAAAAAAAAAAAAAAAAAAAuPe22lxI3j4AAAAAAAAAAAAAAAAAAAAAg\\u002fXgLmschr5EilK14aV3PhkHu\\u002fX9aaI+AAAAAAAAAAAAAAAAAAAAAAAAAAAAAAAAAAAAAAAAAAAWkK\\u002fVJ\\u002ffbPgAAAAAAAAAAAAAAAAAAAAAqqG5PkEu2Pgwd7FJz1Hw+ykjkEoqHpD4AAAAAAAAAAAAAAAAAAAAAAAAAAAAAAAAAAAAAAAAAAIiUVPx779g+AAAAAAAAAAAAAAAAAAAAAIRtou7plt0+rTAf888Ygz7qKLJqEGmlPgAAAAAAAAAAAAAAAAAAAAAAAAAAAAAAAAAAAAAAAAAAEZEi1GSg1D4AAAAAAAAAAAAAAAAAAAAANbW3LWqk8D5i4gqy8u2LPmlwWERRxqY+AAAAAAAAAAAAAAAAAAAAAAAAAAAAAAAAAAAAAAAAAAAqLpuojNjNPgAAAAAAAAAAAAAAAAAAAACebke7DH\\u002f0PjfyDQhCeZQ+zWD418iIpz4AAAAAAAAAAAAAAAAAAAAAAAAAAAAAAAAAAAAAAAAAACWW+ok4774+AAAAAAAAAAAAAAAAAAAAAM7BQKYEdO4+Ky6asMU5nT5LRmxa\\u002fuWnPgAAAAAAAAAAAAAAAAAAAAAAAAAAAAAAAAAAAAAAAAAAI6f4nH\\u002f+VT4AAAAAAAAAAAAAAAAAAAAAu8aG5DuW1D50cXBzo0ekPmqJHKjASqc+AAAAAAAAAAAAAAAAAAAAAAAAAAAAAAAAAAAAAAAAAAAMNQPqXdhKPgAAAAAAAAAAAAAAAAAAAADGqMyKQ7+ePiKBUh0dvKs+TfDW5TmLpD4AAAAAAAAAAAAAAAAAAAAAAAAAAAAAAAAAAAAAAAAAAIoPZu82ERk+AAAAAAAAAAAAAAAAAAAAAFvz2\\u002f0+BWe+8To2tTyHsD5ETW4ll9OmPgAAAAAAAAAAAAAAAAAAAAAAAAAAAAAAAAAAAAAAAAAApaiaCH0u1j0AAAAAAAAAAAAAAAAAAAAAgOSNSnznHz7YIlCBocexPqyjOkoQsLA+AAAAAAAAAAAAAAAAAAAAAAAAAAAAAAAAAAAAAAAAAAB0jTfHZjmRvQAAAAAAAAAAAAAAAAAAAAD04ZtuSMaOvgoHUIj8RbM+9WF3d20HuD4AAAAAAAAAAAAAAAAAAAAAAAAAAAAAAAAAAAAAAAAAAAdSoknPY3i9AAAAAAAAAAAAAAAAAAAAAKSt6ODZB6o+B1GX2lHbtD72911AviXAPgAAAAAAAAAAAAAAAAAAAAAAAAAAAAAAAAAAAAAAAAAAAbb64iLqRL0AAAAAAAAAAAAAAAAAAAAA4i4V+84qwT6N6VGubYa2Ps2y117HecM+AAAAAAAAAAAAAAAAAAAAAAAAAAAAAAAAAAAAAAAAAAADyCDhtgURvQAAAAAAAAAAAAAAAAAAAABmfj1Ht2a2PtoOoToYSrg+VtCHhX0KxT4AAAAAAAAAAAAAAAAAAAAAAAAAAAAAAAAAAAAAAAAAAOIJ+LKnQjE9AAAAAAAAAAAAAAAAAAAAAM8fkzCjnbA+eBcXiSYquj7P1GLYEA7HPgAAAAAAAAAAAAAAAAAAAAAAAAAAAAAAAAAAAAAAAAAANnA64SFuez0AAAAAAAAAAAAAAAAAAAAACC\\u002f0Vvnltj7Y6JWnbQm8PvezgIhdBMk+AAAAAAAAAAAAAAAAAAAAAAAAAAAAAAAAAAAAAAAAAACey0NW+5SxPQAAAAAAAAAAAAAAAAAAAAC6mT9oSEG2Pq0hE\\u002fbAZr8+Iac1Mj\\u002fwyD4AAAAAAAAAAAAAAAAAAAAAAAAAAAAAAAAAAAAAAAAAAALHPoXrpNA9AAAAAAAAAAAAAAAAAAAAADKWpxDz77Q+q8ES4d2mwT57i9YBZAvHPgAAAAAAAAAAAAAAAAAAAAAAAAAAAAAAAAAAAAAAAAAASF9DHqnKCb4AAAAAAAAAAAAAAAAAAAAAdkRX8mPotD6oBdy\\u002fb97DPjelx\\u002fFYKcM+AAAAAAAAAAAAAAAAAAAAAAAAAAAAAAAAAAAAAAAAAAB\\u002fYE+F\\u002f9FQvgAAAAAAAAAAAAAAAAAAAAByleWFGIu3PjVvTPf9YMY+oXZGraizvz4AAAAAAAAAAAAAAAAAAAAAAAAAAAAAAAAAAAAAAAAAAIyWOpatKKQ+AAAAAAAAAAAAAAAAAAAAAFMVXKUTmsI+QgTS82w3yT6D1NHNsmrEPgAAAAAAAAAAAAAAAAAAAAAAAAAAAAAAAAAAAAAAAAAAxN5xs7AYwz4AAAAAAAAAAAAAAAAAAAAAKtPIH0M10D51G3bXPmvMPv\\u002fDMDnYi88+AAAAAAAAAAAAAAAAAAAAAAAAAAAAAAAAAAAAAAAAAACJdegXaK\\u002fQPgAAAAAAAAAAAAAAAAAAAAAMj\\u002f\\u002fUOMbXPlhZT7JJA9A+dnHJMtb21T4AAAAAAAAAAAAAAAAAAAAAAAAAAAAAAAAAAAAAAAAAAOQ4sXNBL9Q+FJtLo2ScJr4AAAAAAAAAAIUMi5rN1tk+oYJAzD8F0j5MXeOrO3LaPgAAAAAAAAAAAAAAAAAAAAAAAAAAAAAAAAAAAAAAAAAAdjQGwuzduj6C0K3RwQy\\u002fPgAAAAAAAAAAsig6W\\u002flV1T7ozNAMCi\\u002fUPnyWDl58Pdw+AAAAAAAAAAAAAAAAAAAAAAAAAAAAAAAAAAAAAAAAAACJE20zE6DivfYms\\u002fSdRdQ+AAAAAAAAAAD2YOcFbIzIPhNCb0lEl9Y+ss7Snk+42z4AAAAAAAAAAAAAAAAAAAAAAAAAAAAAAAAAAAAAAAAAAC7NgnqmgM89itZz8dXy4D4AAAAAAAAAAHvbUzB\\u002f7qU+HFOPsF9L2T6aExzyXqjaPgAAAAAAAAAAAAAAAAAAAAAAAAAAAAAAAAAAAAAAAAAA2K9E7JEq8r28SulkaEPhPgAAAAAAAAAAHhwx734NiL51acCnOr7bPgKGS283J9w+AAAAAAAAAAAAAAAAAAAAAAAAAAAAAAAAAAAAAAAAAAA0VJCVvA8ivl1Xy9\\u002fIadI+AAAAAAAAAAADfQcxE6GgPqaSQeBzk90+J9Fvhiwr4D4AAAAAAAAAAAAAAAAAAAAAAAAAAAAAAAAAAAAAAAAAAKn8Ve9NcvC9EZ0LPl6HjD4AAAAAAAAAANDhLCP6Z7o+QMm6Ckdv3z6k194hcYHiPgAAAAAAAAAAAAAAAAAAAAAAAAAAAAAAAAAAAAAAAAAAFouebAfozD51svvVbkTzPQAAAAAAAAAAXunNIM5ByT7\\u002f+tlCwqXgPkwNfgXsIeU+0DTMWipfwT4AAAAAAAAAAAAAAAAAAAAAAAAAAAAAAAANwGjy1a2ivrAv210UzLm9AAAAAAAAAABWcoeJH1zSPkKL\\u002fG35S+E+9EJ\\u002f9VnK5z6er99fn2raPgAAAAAAAAAAAAAAAAAAAAAAAAAAAAAAAKlFvDR6Z6q+bkp\\u002fheTlaL4AAAAAAAAAAIUgoFGC+9c+565lnZ254T6QPRKb5VzqPpU8yZIzsuY+AAAAAAAAAAAAAAAAAAAAAAAAAAAAAAAAMCTYQOk48T7IdWJ9xK3LPgAAAAAAAAAAM9+IboWL4j6ZZnSKmh7iPqEPlMfa0u0+7Iz71RQ\\u002f8T4AAAAAAAAAAAAAAAAAAAAAAAAAAAAAAAARiZoY4vjQPrNaHWeMReA+AAAAAAAAAACHNDWUsYjmPuK+hzTpB+I+fJrbPVJl8D6HZrw3gz2YvgAAAAAAAAAAAAAAAAAAAAAAAAAAAAAAAKLTfdXz8bA+G7MoAY0X4T4AAAAAAAAAAKGJszPyCOA+beXXSUQz5j4qamYvVtrwPq33ZHJesjM+AAAAAAAAAAAAAAAAAAAAAAAAAAAAAAAAi39jWP6X0T5W7F\\u002faLm7gPgAAAAAAAAAAMIxEZMJetT5ArKTCRbrrPuSq6ajDsfA+efcW9rQL0D0AAAAAAAAAAAAAAAAAAAAAAAAAAAAAAAA5AJXvj5rQPstczeX0W98+AAAAAAAAAACajX1O83HJPuetXhSkxfA+dD1z0GkY8D6jUuEz+4AtvgAAAAAAAAAAAAAAAAAAAAAAAAAAAAAAAIC0IO752Fa+CrwDdlJ93j4IbAkXpBTgPqcYlLuWHuw+PWToLQwk9D6kpwaqgVXvPlIWPxeWsOE+AAAAAAAAAAAAAAAAAAAAAAAAAAAAAAAABgYumjxS4T7iXCzEpTXpPsXmt+SNNfI+Isz3HKSY7j7X\\u002frioUMznPhEGifL\\u002flvA+sU9+pChW+D4AAAAAAAAAAAAAAAAAAAAAAAAAAAAAAABdJp6ta6vZPt0a0o6VIPI+Cr2zLwi0+z7ZZ\\u002fvYe83pPqDQOaggke4+ncTJX0cp8j6c6Vcz5oJbPgAAAAAAAAAAAAAAAAAAAAAAAAAAAAAAAKQ9aAVvHI6+yUeDWyA0+D66dYt5PhsDP9kmtvi3Aek+0QcxCQWwAj+Ur4ZfG3rzPib1VzSYZeC+AAAAAAAAAAC+XWYLpGXLPAAAAAAAAAAAcKIrpLRC6T5wyt856n34PgyUvwkq3P0+mWHZOTXz5j5K8jXwT7PgPsn9MBd+N\\u002fQ+1cjD5HUXET8kAylgDopDvIl4lgRyupw+tqfLu8lK8T6ZMMSVGYHwPovIHjhYhcQ+MhXwlB2q6z7xlENhF3LzPkzEcV5lKwA\\u002fctcyIPIj9D4sQ4BD0qC3vmazY59uagc+b+zP7RDG8z5g38S+f4YLP2kgBkYjNJk+0kOMaFcqnD7+CqAyG7wRP26urVp3IfY+flaivAip6D7IHqXMeGfzPuYlerU0wYq+9ouotBD3BT8v9g+af0YHPzzzW8SEQdc+gC8hcvJBAD9qVAcX3VAPPzPxl4ljegI\\u002f73C3XMh\\u002fwj6zExFShSr1Put4rySImfI+IDomUWpzAz\\u002fq2QW8ntcBPoW0LO5y3f4++6clc7I0CT99ehp1sx\\u002fzPgQHVVC7+fY+tE5PBys5uT58jnn3ldDmPuii5JtERfo+KAsFCT1+8j66G\\u002fovJWnxPiAz2UTjrSI\\u002f5\\u002f0hVhvUIj+qjAv+XyofP12WKxrGiAc\\u002fueRxlgzaDj8vNj7f6HEIP5\\u002frszC2LwA\\u002fZw+ji+Dz9z68pme36PbyPo8j7kXaAfo+vDFt4Vw7IL4WP4XCgBfoPkOsHIqVBgY\\u002f7qFRRTMfrL7m1P\\u002fcP\\u002fqqPmdlXn5r0As\\u002fWJugzGjF9T5YIODQiYT0PifSrcLfaPM+\\u002fjl9I8PFGT8JFFlQcmwXP86egZog+SA\\u002fhaNX+5PkIj9eDl2INykPPzZ4PVuWvRY\\u002fmZbw5SvPET9GeWq1ecrzPp28P3oYneM+l\\u002ftxhJm38z5SGTuO4GEkP+Qi3iJEGCA\\u002fIMrG6EHK0j6QUIWgI5UcP7zrg9EXoPA+KSK5EmigDD+K4uEj85IVP69JUzXZdPo+3OAxfoGyCT+ZPOPKk7PzPqBqbyRdRLa+JyMy8c8G9D6DyZ672RwqPyxiLXveFiI\\u002frmRB5oKM7D5oz38ZJfb4PvpoIJcsz8M+NAtxvJfB+D6\\u002fIiJWkUX0PsJQtZmLT\\u002fM+9J61737VED8kGCr3nVTjPvAr+nny7yU\\u002f30kTfqy+Bz9Uf\\u002fUWchYIP1D3C9XfW8U+\\u002fSgVjGGiAT+uLBYBU9r3Pvgc+9PCa9Q+yu9w1fzh8j5EJ0D+AKi2vmjKj\\u002f+2tZo+UOUK0v87wb1cpn4rOvQAP2K7W3sap\\u002fE+giwlMXGlFD96tx4Pnun3Pinawf60UvQ+nCc650plBj+sCDnkuG7yPoTXweX8mLU+dIDIGGAyGj+Sqd0HuGeTvRX0ruoUz\\u002fI+9Czp9tjO+T5iEN+aALiCvtK9oJy8XwY\\u002fpX1Pdc8x5T5telDKHTr8PrKcEedO4fE+qY7PYLeBDz96exwEa5EbPwAAAAAAAAAAAAAAAAAAAAD9gf4WuYPpPi6JJptnWBQ\\u002fsXCO7JrgDT\\u002f6iv7iJSnQPtZoiVyDVuQ+IsBR5ltE8T7rcNfFYSfivr8elqXZ1Pc+AAAAAAAAAAAAAAAAAAAAAEeVoSjPHAk\\u002fl0+AWSzS+T5vguNE70oGP2kdPEhU4fQ+9gdddqJx8D5+mES0U6rwPmk5C3x64Xc+AAAAAAAAAAAAAAAAAAAAAAAAAAAAAAAAi28FdC4q0r5kx4g3304AP9ghfN\\u002fwb\\u002f4+852NovTMAz+XK\\u002fEyqWPvPtq3VcYd3e8+xE3Wrfje9z4AAAAAAAAAAAAAAAAAAAAAAAAAAAAAAAAUZKg++4cFP2jY\\u002fVXP1GC++iyHSIVI+D7LALKFJSTnPiSjFCtQFu4+ssw675SN7T5\\u002fwfI4mpCfPgAAAAAAAAAAAAAAAAAAAAAAAAAAAAAAAKOjhD4OjQM\\u002fLeUT2z\\u002fo7T4LTtQgA6\\u002fyPosMXlWzRsY+gfnPPzEI9D5pCN+HAN3qPk\\u002fizzQeVLU+AAAAAAAAAAAAAAAAAAAAAAAAAAAAAAAAys60Cb6s+j4olJG43YHsPll+EKeTLes+Ebm2F2H\\u002f+z4LVRkbqJv0Pk\\u002fi+Emideg+0h0\\u002fy5+isj4AAAAAAAAAAAAAAAAAAAAAAAAAAAAAAABbhzhIJUTAPgSdKBdK3t0+AAAAAAAAAACmYQZe\\u002ftsAP6+TFSQpr\\u002fI+rUCiI4vY5j5uUk0ZDJvEPgAAAAAAAAAAAAAAAAAAAAAAAAAAAAAAAAlqYEqyXeY+5pTq6qgA1j4AAAAAAAAAAAM9NE8QCd8+xC7o22aN1j58FeZxmz7mPrSRnHopodk+AAAAAAAAAAAAAAAAAAAAAAAAAAAAAAAAL3b944ayzD4ebn0\\u002f8wvNPgAAAAAAAAAAxVZPT0Bh0z6kidgQ3D\\u002fmPp\\u002fhVg3uQ+Y+05Qt4nid5j4AAAAAAAAAAAAAAAAAAAAAAAAAAAAAAAAgf4PmEB+YPo2JM\\u002fNPZL4+AAAAAAAAAAC3O0\\u002fhQdQLPyy0BGfnxPM+9DN8wQEC5j4s+20QkEnnPgAAAAAAAAAAAAAAAAAAAAAAAAAAAAAAAJeAwXLMFQA\\u002fFsM09aFLsD4AAAAAAAAAAIt2JQiddAI\\u002fPBYpBW+rsL7DSH2dnXrkPjNNysimZdE+AAAAAAAAAAAAAAAAAAAAAAAAAAAAAAAAMc8tLfpSDD+gup81f221PgAAAAAAAAAAQRRaIKaCyb6O1IG+pt\\u002fSPnvfDR7VEuI+48J2bRO5Sb4AAAAAAAAAAAAAAAAAAAAAAAAAAAAAAAAaR7O9MRP5PtTObDGfnbo+AAAAAAAAAABsgEzynk7vPmcKrgAHrPU+7bW2fEdk3z7IUlkEhRHQvQAAAAAAAAAAAAAAAAAAAAAAAAAAAAAAADaMNd\\u002fA76A+LxQgiXRBvj4AAAAAAAAAAA+EFYy9TPE+kDuz3w9S5D4pNEVf3WHbPr4m4FkhrZA9AAAAAAAAAAAAAAAAAAAAAAAAAAAAAAAAsPsnTAXHgz4AAAAAAAAAAAAAAAAAAAAAnasrI\\u002fdX1z4C3NO2Zh3aPvLSK5OIGNo+KsChYdbT2T0AAAAAAAAAAAAAAAAAAAAAAAAAAAAAAAAKn1kVqwNQPgAAAAAAAAAAAAAAAAAAAAAsZcKeSdvVPsEK\\u002fQVCWNY+GrE1BRLH2z7C0rqeSM5avgAAAAAAAAAAAAAAAAAAAAAAAAAAAAAAAOl9gHkh4gU+AAAAAAAAAAAAAAAAAAAAAIZ\\u002fuLfoJMU+ApilhROw0j5qR\\u002f+FcTjdPjnX0S\\u002fv\\u002fcc+AAAAAAAAAAAAAAAAAAAAAAAAAAAAAAAAQ9K1Vq01070AAAAAAAAAAAAAAAAAAAAARYZR1jROkr4pyr8oDgXPPs20L\\u002fTaqtw+MBrcDVpeyT4AAAAAAAAAAAAAAAAAAAAAAAAAAAAAAACmwVZf04mxvQAAAAAAAAAAAAAAAAAAAABSdzcxNi9Svj3PiHxJdsg++5\\u002f1sOna2T4QFSqWduzAPgAAAAAAAAAAAAAAAAAAAAAAAAAAAAAAAOZyt0bKQXq9AAAAAAAAAAAAAAAAAAAAAOJ4KLuPV30+xwBc4MeTwj6CZ3tqmK7VPlKUt4gQ5LE+AAAAAAAAAAAAAAAAAAAAAAAAAAAAAAAAWOsryokUQL0AAAAAAAAAAAAAAAAAAAAASqYphB9vfr64UoUkGjy7PjtT0YqmjtE+9MeA\\u002f\\u002fyIgj4AAAAAAAAAAAAAAAAAAAAAAAAAAAAAAAAAAAAAAAAAAAAAAAAAAAAAAAAAAAAAAAAAAAAAAAAAAAAAAAAAAAAAAAAAAAAAAAA=\",\"shape\":\"100, 10\"},\"type\":\"surface\"}],                        {\"template\":{\"data\":{\"histogram2dcontour\":[{\"type\":\"histogram2dcontour\",\"colorbar\":{\"outlinewidth\":0,\"ticks\":\"\"},\"colorscale\":[[0.0,\"#0d0887\"],[0.1111111111111111,\"#46039f\"],[0.2222222222222222,\"#7201a8\"],[0.3333333333333333,\"#9c179e\"],[0.4444444444444444,\"#bd3786\"],[0.5555555555555556,\"#d8576b\"],[0.6666666666666666,\"#ed7953\"],[0.7777777777777778,\"#fb9f3a\"],[0.8888888888888888,\"#fdca26\"],[1.0,\"#f0f921\"]]}],\"choropleth\":[{\"type\":\"choropleth\",\"colorbar\":{\"outlinewidth\":0,\"ticks\":\"\"}}],\"histogram2d\":[{\"type\":\"histogram2d\",\"colorbar\":{\"outlinewidth\":0,\"ticks\":\"\"},\"colorscale\":[[0.0,\"#0d0887\"],[0.1111111111111111,\"#46039f\"],[0.2222222222222222,\"#7201a8\"],[0.3333333333333333,\"#9c179e\"],[0.4444444444444444,\"#bd3786\"],[0.5555555555555556,\"#d8576b\"],[0.6666666666666666,\"#ed7953\"],[0.7777777777777778,\"#fb9f3a\"],[0.8888888888888888,\"#fdca26\"],[1.0,\"#f0f921\"]]}],\"heatmap\":[{\"type\":\"heatmap\",\"colorbar\":{\"outlinewidth\":0,\"ticks\":\"\"},\"colorscale\":[[0.0,\"#0d0887\"],[0.1111111111111111,\"#46039f\"],[0.2222222222222222,\"#7201a8\"],[0.3333333333333333,\"#9c179e\"],[0.4444444444444444,\"#bd3786\"],[0.5555555555555556,\"#d8576b\"],[0.6666666666666666,\"#ed7953\"],[0.7777777777777778,\"#fb9f3a\"],[0.8888888888888888,\"#fdca26\"],[1.0,\"#f0f921\"]]}],\"contourcarpet\":[{\"type\":\"contourcarpet\",\"colorbar\":{\"outlinewidth\":0,\"ticks\":\"\"}}],\"contour\":[{\"type\":\"contour\",\"colorbar\":{\"outlinewidth\":0,\"ticks\":\"\"},\"colorscale\":[[0.0,\"#0d0887\"],[0.1111111111111111,\"#46039f\"],[0.2222222222222222,\"#7201a8\"],[0.3333333333333333,\"#9c179e\"],[0.4444444444444444,\"#bd3786\"],[0.5555555555555556,\"#d8576b\"],[0.6666666666666666,\"#ed7953\"],[0.7777777777777778,\"#fb9f3a\"],[0.8888888888888888,\"#fdca26\"],[1.0,\"#f0f921\"]]}],\"surface\":[{\"type\":\"surface\",\"colorbar\":{\"outlinewidth\":0,\"ticks\":\"\"},\"colorscale\":[[0.0,\"#0d0887\"],[0.1111111111111111,\"#46039f\"],[0.2222222222222222,\"#7201a8\"],[0.3333333333333333,\"#9c179e\"],[0.4444444444444444,\"#bd3786\"],[0.5555555555555556,\"#d8576b\"],[0.6666666666666666,\"#ed7953\"],[0.7777777777777778,\"#fb9f3a\"],[0.8888888888888888,\"#fdca26\"],[1.0,\"#f0f921\"]]}],\"mesh3d\":[{\"type\":\"mesh3d\",\"colorbar\":{\"outlinewidth\":0,\"ticks\":\"\"}}],\"scatter\":[{\"fillpattern\":{\"fillmode\":\"overlay\",\"size\":10,\"solidity\":0.2},\"type\":\"scatter\"}],\"parcoords\":[{\"type\":\"parcoords\",\"line\":{\"colorbar\":{\"outlinewidth\":0,\"ticks\":\"\"}}}],\"scatterpolargl\":[{\"type\":\"scatterpolargl\",\"marker\":{\"colorbar\":{\"outlinewidth\":0,\"ticks\":\"\"}}}],\"bar\":[{\"error_x\":{\"color\":\"#2a3f5f\"},\"error_y\":{\"color\":\"#2a3f5f\"},\"marker\":{\"line\":{\"color\":\"#E5ECF6\",\"width\":0.5},\"pattern\":{\"fillmode\":\"overlay\",\"size\":10,\"solidity\":0.2}},\"type\":\"bar\"}],\"scattergeo\":[{\"type\":\"scattergeo\",\"marker\":{\"colorbar\":{\"outlinewidth\":0,\"ticks\":\"\"}}}],\"scatterpolar\":[{\"type\":\"scatterpolar\",\"marker\":{\"colorbar\":{\"outlinewidth\":0,\"ticks\":\"\"}}}],\"histogram\":[{\"marker\":{\"pattern\":{\"fillmode\":\"overlay\",\"size\":10,\"solidity\":0.2}},\"type\":\"histogram\"}],\"scattergl\":[{\"type\":\"scattergl\",\"marker\":{\"colorbar\":{\"outlinewidth\":0,\"ticks\":\"\"}}}],\"scatter3d\":[{\"type\":\"scatter3d\",\"line\":{\"colorbar\":{\"outlinewidth\":0,\"ticks\":\"\"}},\"marker\":{\"colorbar\":{\"outlinewidth\":0,\"ticks\":\"\"}}}],\"scattermap\":[{\"type\":\"scattermap\",\"marker\":{\"colorbar\":{\"outlinewidth\":0,\"ticks\":\"\"}}}],\"scattermapbox\":[{\"type\":\"scattermapbox\",\"marker\":{\"colorbar\":{\"outlinewidth\":0,\"ticks\":\"\"}}}],\"scatterternary\":[{\"type\":\"scatterternary\",\"marker\":{\"colorbar\":{\"outlinewidth\":0,\"ticks\":\"\"}}}],\"scattercarpet\":[{\"type\":\"scattercarpet\",\"marker\":{\"colorbar\":{\"outlinewidth\":0,\"ticks\":\"\"}}}],\"carpet\":[{\"aaxis\":{\"endlinecolor\":\"#2a3f5f\",\"gridcolor\":\"white\",\"linecolor\":\"white\",\"minorgridcolor\":\"white\",\"startlinecolor\":\"#2a3f5f\"},\"baxis\":{\"endlinecolor\":\"#2a3f5f\",\"gridcolor\":\"white\",\"linecolor\":\"white\",\"minorgridcolor\":\"white\",\"startlinecolor\":\"#2a3f5f\"},\"type\":\"carpet\"}],\"table\":[{\"cells\":{\"fill\":{\"color\":\"#EBF0F8\"},\"line\":{\"color\":\"white\"}},\"header\":{\"fill\":{\"color\":\"#C8D4E3\"},\"line\":{\"color\":\"white\"}},\"type\":\"table\"}],\"barpolar\":[{\"marker\":{\"line\":{\"color\":\"#E5ECF6\",\"width\":0.5},\"pattern\":{\"fillmode\":\"overlay\",\"size\":10,\"solidity\":0.2}},\"type\":\"barpolar\"}],\"pie\":[{\"automargin\":true,\"type\":\"pie\"}]},\"layout\":{\"autotypenumbers\":\"strict\",\"colorway\":[\"#636efa\",\"#EF553B\",\"#00cc96\",\"#ab63fa\",\"#FFA15A\",\"#19d3f3\",\"#FF6692\",\"#B6E880\",\"#FF97FF\",\"#FECB52\"],\"font\":{\"color\":\"#2a3f5f\"},\"hovermode\":\"closest\",\"hoverlabel\":{\"align\":\"left\"},\"paper_bgcolor\":\"white\",\"plot_bgcolor\":\"#E5ECF6\",\"polar\":{\"bgcolor\":\"#E5ECF6\",\"angularaxis\":{\"gridcolor\":\"white\",\"linecolor\":\"white\",\"ticks\":\"\"},\"radialaxis\":{\"gridcolor\":\"white\",\"linecolor\":\"white\",\"ticks\":\"\"}},\"ternary\":{\"bgcolor\":\"#E5ECF6\",\"aaxis\":{\"gridcolor\":\"white\",\"linecolor\":\"white\",\"ticks\":\"\"},\"baxis\":{\"gridcolor\":\"white\",\"linecolor\":\"white\",\"ticks\":\"\"},\"caxis\":{\"gridcolor\":\"white\",\"linecolor\":\"white\",\"ticks\":\"\"}},\"coloraxis\":{\"colorbar\":{\"outlinewidth\":0,\"ticks\":\"\"}},\"colorscale\":{\"sequential\":[[0.0,\"#0d0887\"],[0.1111111111111111,\"#46039f\"],[0.2222222222222222,\"#7201a8\"],[0.3333333333333333,\"#9c179e\"],[0.4444444444444444,\"#bd3786\"],[0.5555555555555556,\"#d8576b\"],[0.6666666666666666,\"#ed7953\"],[0.7777777777777778,\"#fb9f3a\"],[0.8888888888888888,\"#fdca26\"],[1.0,\"#f0f921\"]],\"sequentialminus\":[[0.0,\"#0d0887\"],[0.1111111111111111,\"#46039f\"],[0.2222222222222222,\"#7201a8\"],[0.3333333333333333,\"#9c179e\"],[0.4444444444444444,\"#bd3786\"],[0.5555555555555556,\"#d8576b\"],[0.6666666666666666,\"#ed7953\"],[0.7777777777777778,\"#fb9f3a\"],[0.8888888888888888,\"#fdca26\"],[1.0,\"#f0f921\"]],\"diverging\":[[0,\"#8e0152\"],[0.1,\"#c51b7d\"],[0.2,\"#de77ae\"],[0.3,\"#f1b6da\"],[0.4,\"#fde0ef\"],[0.5,\"#f7f7f7\"],[0.6,\"#e6f5d0\"],[0.7,\"#b8e186\"],[0.8,\"#7fbc41\"],[0.9,\"#4d9221\"],[1,\"#276419\"]]},\"xaxis\":{\"gridcolor\":\"white\",\"linecolor\":\"white\",\"ticks\":\"\",\"title\":{\"standoff\":15},\"zerolinecolor\":\"white\",\"automargin\":true,\"zerolinewidth\":2},\"yaxis\":{\"gridcolor\":\"white\",\"linecolor\":\"white\",\"ticks\":\"\",\"title\":{\"standoff\":15},\"zerolinecolor\":\"white\",\"automargin\":true,\"zerolinewidth\":2},\"scene\":{\"xaxis\":{\"backgroundcolor\":\"#E5ECF6\",\"gridcolor\":\"white\",\"linecolor\":\"white\",\"showbackground\":true,\"ticks\":\"\",\"zerolinecolor\":\"white\",\"gridwidth\":2},\"yaxis\":{\"backgroundcolor\":\"#E5ECF6\",\"gridcolor\":\"white\",\"linecolor\":\"white\",\"showbackground\":true,\"ticks\":\"\",\"zerolinecolor\":\"white\",\"gridwidth\":2},\"zaxis\":{\"backgroundcolor\":\"#E5ECF6\",\"gridcolor\":\"white\",\"linecolor\":\"white\",\"showbackground\":true,\"ticks\":\"\",\"zerolinecolor\":\"white\",\"gridwidth\":2}},\"shapedefaults\":{\"line\":{\"color\":\"#2a3f5f\"}},\"annotationdefaults\":{\"arrowcolor\":\"#2a3f5f\",\"arrowhead\":0,\"arrowwidth\":1},\"geo\":{\"bgcolor\":\"white\",\"landcolor\":\"#E5ECF6\",\"subunitcolor\":\"white\",\"showland\":true,\"showlakes\":true,\"lakecolor\":\"white\"},\"title\":{\"x\":0.05},\"mapbox\":{\"style\":\"light\"}}},\"scene\":{\"camera\":{\"eye\":{\"x\":1.5,\"y\":1.5,\"z\":1.2}},\"xaxis\":{\"title\":{\"text\":\"Days to Expiry\"}},\"yaxis\":{\"title\":{\"text\":\"Strike Price ($)\"}},\"zaxis\":{\"title\":{\"text\":\"Probability Density\"}}},\"font\":{\"size\":12},\"title\":{\"text\":\"\\ud83c\\udf0a Risk-Neutral Probability Surface Evolution\\u003cbr\\u003e\\u003cspan style='font-size:12px'\\u003eBitcoin Options - 10 Expiries - Surface shows probability density evolution\\u003c\\u002fspan\\u003e\"},\"height\":700},                        {\"responsive\": true}                    ).then(function(){\n",
       "                            \n",
       "var gd = document.getElementById('2ce3e05d-776b-481e-b332-cd2394983d6f');\n",
       "var x = new MutationObserver(function (mutations, observer) {{\n",
       "        var display = window.getComputedStyle(gd).display;\n",
       "        if (!display || display === 'none') {{\n",
       "            console.log([gd, 'removed!']);\n",
       "            Plotly.purge(gd);\n",
       "            observer.disconnect();\n",
       "        }}\n",
       "}});\n",
       "\n",
       "// Listen for the removal of the full notebook cells\n",
       "var notebookContainer = gd.closest('#notebook-container');\n",
       "if (notebookContainer) {{\n",
       "    x.observe(notebookContainer, {childList: true});\n",
       "}}\n",
       "\n",
       "// Listen for the clearing of the current output cell\n",
       "var outputEl = gd.closest('.output');\n",
       "if (outputEl) {{\n",
       "    x.observe(outputEl, {childList: true});\n",
       "}}\n",
       "\n",
       "                        })                };            </script>        </div>"
      ]
     },
     "metadata": {},
     "output_type": "display_data"
    },
    {
     "name": "stdout",
     "output_type": "stream",
     "text": [
      "\n",
      "📊 Surface Analysis Summary:\n",
      "   • Grid Resolution: (100, 10)\n",
      "   • Peak Migration: 10 data points\n",
      "   • Density Range: -0.000009 - 0.000199\n",
      "\n",
      "📈 Creating 2D density evolution plot...\n"
     ]
    },
    {
     "data": {
      "application/vnd.plotly.v1+json": {
       "config": {
        "plotlyServerURL": "https://plot.ly"
       },
       "data": [
        {
         "hovertemplate": "Strike: $%{x:,.0f}<br>Density: %{y:.6f}<extra></extra>",
         "line": {
          "color": "rgba(68,1,84,0.8)",
          "width": 2
         },
         "mode": "lines",
         "name": "2025-08-22 10:00:00 (1d)",
         "type": "scatter",
         "x": {
          "bdata": "AAAAAAD59UCLzJcmjhD2QBaZL00cKPZAoWXHc6o/9kAsMl+aOFf2QLf+9sDGbvZAQsuO51SG9kDNlyYO4532QFdkvjRxtfZA4jBWW//M9kBt/e2BjeT2QPjJhagb/PZAg5Ydz6kT90AOY7X1Nyv3QJkvTRzGQvdAJPzkQlRa90CvyHxp4nH3QDqVFJBwifdAxWGstv6g90BQLkTdjLj3QNv62wMb0PdAZsdzKqnn90DwkwtRN//3QHxgo3fFFvhABi07nlMu+ECR+dLE4UX4QBzGautvXfhAp5ICEv50+EAyX5o4jIz4QL0rMl8apPhASPjJhai7+EDTxGGsNtP4QF6R+dLE6vhA6V2R+VIC+UB0Kikg4Rn5QP/2wEZvMflAisNYbf1I+UAUkPCTi2D5QKBciLoZePlAKikg4aeP+UC19bcHNqf5QEDCTy7EvvlAy47nVFLW+UBWW3974O35QOEnF6JuBfpAbPSuyPwc+kD3wEbvijT6QIKN3hUZTPpADVp2PKdj+kCYJg5jNXv6QCPzpYnDkvpArr89sFGq+kA4jNXW38H6QMRYbf1t2fpATiUFJPzw+kDZ8ZxKigj7QGS+NHEYIPtA74rMl6Y3+0B6V2S+NE/7QAUk/OTCZvtAkPCTC1F++0AbvSsy35X7QKaJw1htrftAMVZbf/vE+0C8IvOlidz7QEfviswX9PtA0rsi86UL/EBciLoZNCP8QOhUUkDCOvxAciHqZlBS/ED97YGN3mn8QIi6GbRsgfxAE4ex2vqY/ECeU0kBibD8QCkg4ScXyPxAtOx4TqXf/EA/uRB1M/f8QMqFqJvBDv1AVVJAwk8m/UDgHtjo3T39QGvrbw9sVf1A9rcHNvps/UCAhJ9ciIT9QAxRN4MWnP1Alh3PqaSz/UAh6mbQMsv9QKy2/vbA4v1AN4OWHU/6/UDCTy5E3RH+QE0cxmprKf5A2OhdkflA/kBjtfW3h1j+QO6Bjd4VcP5AeU4lBaSH/kAEG70rMp/+QI7nVFLAtv5AGrTseE7O/kCkgISf3OX+QDBNHMZq/f5Auhm07PgU/0BG5ksThyz/QNCy4zkVRP9AW397YKNb/0DmSxOHMXP/QHEYq62/iv9A/ORC1E2i/0CHsdr627n/QBJ+ciFq0f9AnUoKSPjo/0CUC1E3QwAAQdnxnEoKDABBH9joXdEXAEFkvjRxmCMAQaqkgIRfLwBB74rMlyY7AEE1cRir7UYAQXpXZL60UgBBwD2w0XteAEEFJPzkQmoAQUoKSPgJdgBBkPCTC9GBAEHW1t8emI0AQRu9KzJfmQBBYKN3RSalAEGmicNY7bAAQetvD2y0vABBMVZbf3vIAEF2PKeSQtQAQbwi86UJ4ABBAQk/udDrAEFH74rMl/cAQYzV1t9eAwFB0rsi8yUPAUEXom4G7RoBQVyIuhm0JgFBom4GLXsyAUHoVFJAQj4BQS07nlMJSgFBciHqZtBVAUG4BzZ6l2EBQf3tgY1ebQFBQ9TNoCV5AUGIuhm07IQBQc6gZcezkAFBE4ex2nqcAUFZbf3tQagBQZ5TSQEJtAFB5DmVFNC/AUEpIOEnl8sBQW4GLTte1wFBtOx4TiXjAUH60sRh7O4BQT+5EHWz+gFBhJ9ciHoGAkHKhaibQRICQQ9s9K4IHgJBVVJAws8pAkGaOIzVljUCQeAe2OhdQQJBJQUk/CRNAkE=",
          "dtype": "f8"
         },
         "y": {
          "bdata": "AAAAAAAAAACdcekwmqOSPpWm2YqLcrw+mQYrQmvFxz4MbasxfxTRPqrpKNPLRNY+aMLMKd2Q2z5r0YbOtXjgPgZDnJFpM+M+5gLqt6375T5p3Nxn4cToPir11RZjvus+i+0bcSc37j7bDbT9aGHxPkYpTeZpZ+k+gMBXGjpO1j4AAAAAAAAAAAAAAAAAAAAAAAAAAAAAAAAAAAAAAAAAAAAAAAAAAAAAAAAAAAAAAAAAAAAAAAAAAAAAAAAAAAAAAAAAAAAAAAAAAAAAAAAAAAAAAAAAAAAAAAAAAAAAAAAAAAAAAAAAAAAAAAAAAAAA3/MZMDVb1z5XxwroTj8AP0kGJi12hAo/nG8dcgAyAT9pusPd5GbzPv6M9WafKsk+AAAAAAAAAAAAAAAAAAAAAAAAAAAAAAAAAAAAAAAAAAAAAAAAAAAAAAAAAAAAAAAAVnpKnAwHFT93wig8PXkaP1RqTCYQyRE/U8w/l3I8CD8uRsFpCUX2PgAAAAAAAAAAAAAAAAAAAAAAAAAAAAAAAAAAAAAAAAAAAAAAAAAAAAAKpYKPOCLaPjMv+guXjAk/Kd8xVCefBj/+WT2bfKUBP6IEUybTcvs+mGa9rG+t9j78gAXvE4XxPjv/LEn0uec+iS8Oitgf2D4AAAAAAAAAAMq46N3QxxA/sCEH9AmwIj8kn76DAXwmP3K92cOQTRk/3VvZWvLS9j5zNK2P3PYGP7ZucGBtZR4/uwMnOZWZJj9AVCvIfikUPwAAAAAAAAAAAAAAAAAAAACWFufO4DkRP9Xw7GgpJCo/NVZ83KjVID8AAAAAAAAAAAAAAAAAAAAAAAAAAAAAAAAAAAAAAAAAADswCre/AfU+AAAAAAAAAAAAAAAAAAAAAAAAAAAAAAAAAAAAAAAAAAAh1OuccOb/Pk5VaTMFXhE/a0YTU7ucHz/wvXtnTAYYPwAAAAAAAAAAAAAAAAAAAAAAAAAAAAAAAAAAAAAAAAAAAAAAAAAAAAAAAAAAAAAAAAnYbildX+A+2+DmrqsC+z43MTWMoJrgPgAAAAAAAAAAAAAAAAAAAAB9FufOajWrPiQaBUVXgMs+ceetaqKmwj7+/zlbWd63PvB/rw70frA+tIgN+dmqsD4kIfVRRzKtPq1zYY89bbQ+HJBp7gIjuz7hAzSGjbLAPgcdN512I8Q+Bk8SyXlixj7MCz6SZnHOPvlioIWhc9U+NX4UDmQe2z4u2OR09m/gPm0zEElxQOM+OLbEczsd5j5ABdqtV7LoPnWVB1seN+w+qN99QESh6j68skIAUcvlPjKQ23rCwOE+9tfozqkU2z4RpycRdtLSPm/8+jOHLMU+d+FV6fxDoz4AAAAAAAAAAAAAAAAAAAAAAAAAAAAAAAAAAAAAAAAAAAAAAAAAAAAAAAAAAAAAAAAAAAAAAAAAAAAAAAAAAAAAAAAAAAAAAAAAAAAAAAAAAAAAAAAAAAAAAAAAAAAAAAAAAAAAAAAAAAAAAAAAAAAAAAAAAAAAAAAAAAAAAAAAAOy/5yToCKA+/Ekt/qEtuz6b7TqLzTjHPp/dhk+A/88+PjUePNoIzT6c8x7TWavKPjhfEop/Lsg+6rgXfwjExT7scFKOoV7DPttl35zfAcE+F5DwuI9ZvT60xnSbhb+4PtVOEyyVNLQ+LiDNBxx5rz4ie7sd65OmPl43nxmTP5w+9MeA//yIgj4=",
          "dtype": "f8"
         }
        },
        {
         "hovertemplate": "Strike: $%{x:,.0f}<br>Density: %{y:.6f}<extra></extra>",
         "line": {
          "color": "rgba(71,39,119,0.8)",
          "width": 2
         },
         "mode": "lines",
         "name": "2025-08-23 10:00:00 (2d)",
         "type": "scatter",
         "x": {
          "bdata": "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",
          "dtype": "f8"
         },
         "y": {
          "bdata": "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",
          "dtype": "f8"
         }
        },
        {
         "hovertemplate": "Strike: $%{x:,.0f}<br>Density: %{y:.6f}<extra></extra>",
         "line": {
          "color": "rgba(62,73,137,0.8)",
          "width": 2
         },
         "mode": "lines",
         "name": "2025-08-24 10:00:00 (3d)",
         "type": "scatter",
         "x": {
          "bdata": "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",
          "dtype": "f8"
         },
         "y": {
          "bdata": "AAAAAAAAAAAAAAAAAAAAAAAAAAAAAAAAAAAAAAAAAAAAAAAAAAAAAAAAAAAAAAAAAAAAAAAAAAAAAAAAAAAAAAAAAAAAAAAAAAAAAAAAAAAAAAAAAAAAAAAAAAAAAAAAAAAAAAAAAAAAAAAAAAAAAAAAAAAAAAAAAAAAAAAAAAAAAAAAAAAAAAAAAAAAAAAAAAAAAAAAAAAAAAAAAAAAAAAAAAAAAAAAAAAAAAAAAAAAAAAAAAAAAAAAAAAAAAAAAAAAAAAAAAAAAAAAAAAAAAAAAAAAAAAAAAAAAAAAAAAAAAAAAAAAAHgDs9K3kqA+rqkgEbHmvD7fsRz3zc/IPm0Dok4ZndE+cNONmk/Z1j6XwvzHmBzcPvSKKlSBs+A+EXCV401c4z50jZSGuQjmPiZqf7HJuOg+S2Sl2Its6z5zZI3N7SPuPhYQi1Oqb/A+shJ/7bLO8T7Iff6xpzHzPhqZU9n6jvQ+Td9Z2agp9j4k6SUNCNb3PsnOYiu5gPk+1g0x6bAu+z65QhoCm978PmjhJ0fgkP4+1Ls4/50iAD/biVx8Lv4AP4jRgzPp2QE/MTivK1m6Aj+jPFwNnY4DP+jpsobDvQQ/xoyz3ZMOBj/troYvD1kHPyyQt1oxpwg/D+GtSlr2CT/RGTwW+0YLP28trxnamQw/kz6/2FHrDT8upaN/E0kPP9ZDO0TuPxA/3aOCtR8nET8sHACgokwQPxk1WpFUNg0/u9QKfhQ2Cj9kDTn+TxcHP7HorG6O/AM/9w/H4z3dAD8CfNdd3HL7PoRCaTGbM/U+ba3JEO1v7T6mhzYT/QTiPgMa7FNrRJQ+mYcQ23so3z7bqxSZz0L5Pp4DK0H9PwQ/bEBPGIY0DD+TBO/4ow0SP4fX3vzVBhY/b3TzUxQEGj/AQLun2v4dP1GQUBEDCSE/wgRAecvrIj9a+oaBZ2UlP+Este066iQ/wvlmpDYZIj+w18Hl75IfP0QCWSl9qBo/vYOXDKTMFT+AjpUVTugQP9MtJgBM/wc/1NIz7TFq/D4TAP5n4rbgPgAAAAAAAAAAAAAAAAAAAAAAAAAAAAAAAPJPzVDt37o+J253MrIx/D7zE197qy4MP/KeDXnjCRU/fAeF9soFHD9MJk4d4YEhP1PnepYm/iQ/94bmY8yIKD/V3lgAo98rP58sDORv+C8/N7OrOWpRMD8FfAWZo+4sP+N7Xt71FCo/eJMmM4T+Jj9jnrtHh/YjPwT34ZtC6SA/8WridIm3Gz/v0DsCwZ0VP/e3PSIc7g4/Mm63GZn5Aj8oxwCKuNLmPgAAAAAAAAAAAAAAAAAAAAAAAAAAAAAAANw48LXmqaE+M9UArPp7sz7hVhd/ND6/Pq5jJkTeTsU+4e5Y51BHyz4H2mUKei7QPkrdzh+yYNQ+yrsqTN5s0j6z1HSP2hvlPrKao4YvDv4+GObt07+hBz8UYJ3vB0MQP0slMMhWqBQ/3vpA77INGT8uvv0zo28dP+FCyO/c5iA/Yy0UNPEVIz9iUfGn4zwlPzBFU2L3eSc//OjKHgdUKT/H48uoRh0qP1bPK8+7DSs/UXaz/lzyKz/sodBHAdksP5szBOf0vS0/eBF6hqeiLj8FvjC5loUvPxJM1n/6NTA/TO5HJJGhMD/rhq9njigxP9E/9iQLQjE/TSHv5vtwLz9CM6ivL8osP6TWi6x8CCo/LMsnFD5QJz+RJZ1tnJckPxuTy3cf4SE/h6HSbPtXHj+YiPxJo/AYP9JAhwH0ixM/VQNpvp5TDD+ZsJTdJZQBP4bjkFQjZes+AAAAAAAAAAAAAAAAAAAAAAAAAAAAAAAAAAAAAAAAAAAAAAAAAAAAAAAAAAAAAAAAAAAAAAAAAAAAAAAAAAAAAAAAAAAAAAAAAAAAAAAAAAAAAAAAAAAAAAAAAAAAAAAAAAAAAAAAAAAAAAAAAAAAAAAAAAAAAAAAAAAAAAAAAAAAAAAAAAAAAAAAAAAAAAAAAAAAAAAAAAAAAAAAAAAAAAAAAAAAAAAAAAAAAAAAAAAAAAAAAAAAAAAAAAAAAAAAAAAAAAAAAAAAAAAAAAAAAAAAAAAAAAAAAAAAAAAAAAAAAAAAAAAAAAAAAAAAAAAAuc6U8V2vuz6NIJy3uUV3PQ==",
          "dtype": "f8"
         }
        },
        {
         "hovertemplate": "Strike: $%{x:,.0f}<br>Density: %{y:.6f}<extra></extra>",
         "line": {
          "color": "rgba(48,103,141,0.8)",
          "width": 2
         },
         "mode": "lines",
         "name": "2025-08-25 10:00:00 (4d)",
         "type": "scatter",
         "x": {
          "bdata": "AAAAAADh+UAoF6JuBub5QFAuRN0M6/lAeEXmSxPw+UCgXIi6GfX5QMdzKikg+vlA74rMlyb/+UAXom4GLQT6QD+5EHUzCfpAZ9Cy4zkO+kCP51RSQBP6QLf+9sBGGPpA3xWZL00d+kAGLTueUyL6QC5E3QxaJ/pAVlt/e2As+kB+ciHqZjH6QKaJw1htNvpAzqBlx3M7+kD2twc2ekD6QB7PqaSARfpAReZLE4dK+kBt/e2BjU/6QJUUkPCTVPpAvSsyX5pZ+kDlQtTNoF76QA1adjynY/pANXEYq61o+kBdiLoZtG36QIWfXIi6cvpArLb+9sB3+kDUzaBlx3z6QPzkQtTNgfpAJPzkQtSG+kBME4ex2ov6QHQqKSDhkPpAnEHLjueV+kDEWG397Zr6QOtvD2z0n/pAE4ex2vqk+kA7nlNJAar6QGO19bcHr/pAi8yXJg60+kCz4zmVFLn6QNv62wMbvvpAAxJ+ciHD+kAqKSDhJ8j6QFJAwk8uzfpAeldkvjTS+kCibgYtO9f6QMqFqJtB3PpA8pxKCkjh+kAatOx4Tub6QELLjudU6/pAauIwVlvw+kCR+dLEYfX6QLkQdTNo+vpA4ScXom7/+kAJP7kQdQT7QDFWW397CftAWW397YEO+0CBhJ9ciBP7QKmbQcuOGPtA0LLjOZUd+0D4yYWomyL7QCDhJxeiJ/tASPjJhags+0BwD2z0rjH7QJgmDmO1NvtAwD2w0bs7+0DoVFJAwkD7QBBs9K7IRftAN4OWHc9K+0BfmjiM1U/7QIex2vrbVPtAr8h8aeJZ+0DX3x7Y6F77QP/2wEbvY/tAJw5jtfVo+0BOJQUk/G37QHY8p5ICc/tAnlNJAQl4+0DGautvD337QO6Bjd4VgvtAFpkvTRyH+0A+sNG7Ioz7QGbHcyopkftAjt4VmS+W+0C19bcHNpv7QN0MWnY8oPtABST85EKl+0AtO55TSar7QFVSQMJPr/tAfWniMFa0+0ClgISfXLn7QM2XJg5jvvtA9K7IfGnD+0Acxmrrb8j7QETdDFp2zftAbPSuyHzS+0CUC1E3g9f7QLwi86WJ3PtA5DmVFJDh+0AMUTeDlub7QDRo2fGc6/tAW397YKPw+0CDlh3PqfX7QKutvz2w+vtA08RhrLb/+0D72wMbvQT8QCPzpYnDCfxASwpI+MkO/EByIepm0BP8QJo4jNXWGPxAwk8uRN0d/EDqZtCy4yL8QBJ+ciHqJ/xAOpUUkPAs/EBirLb+9jH8QIrDWG39NvxAstr62wM8/EDa8ZxKCkH8QAEJP7kQRvxAKSDhJxdL/EBRN4OWHVD8QHlOJQUkVfxAoWXHcypa/EDJfGniMF/8QPGTC1E3ZPxAGKutvz1p/EBAwk8uRG78QGjZ8ZxKc/xAkPCTC1F4/EC4BzZ6V338QOAe2OhdgvxACDZ6V2SH/EAwTRzGaoz8QFhkvjRxkfxAf3tgo3eW/ECnkgISfpv8QM+ppICEoPxA98BG74ql/EAf2Ohdkar8QEfvisyXr/xAbwYtO560/ECXHc+ppLn8QL40cRirvvxA5ksTh7HD/EAOY7X1t8j8QDZ6V2S+zfxAXpH50sTS/ECGqJtBy9f8QK6/PbDR3PxA1tbfHtjh/ED+7YGN3ub8QCUFJPzk6/xATRzGauvw/EB1M2jZ8fX8QJ1KCkj4+vxAxWGstv7//EDteE4lBQX9QBWQ8JMLCv1APKeSAhIP/UBkvjRxGBT9QIzV1t8eGf1AtOx4TiUe/UDcAxu9KyP9QAQbvSsyKP1ALDJfmjgt/UBUSQEJPzL9QHxgo3dFN/1ApHdF5ks8/UDLjudUUkH9QPOlicNYRv1AG70rMl9L/UBD1M2gZVD9QGvrbw9sVf1AkwISfnJa/UC7GbTseF/9QOIwVlt/ZP1ACkj4yYVp/UAyX5o4jG79QFp2PKeSc/1Ago3eFZl4/UCqpICEn339QNK7IvOlgv1A+tLEYayH/UAi6mbQsoz9QEkBCT+5kf1AcRirrb+W/UCZL00cxpv9QMFG74rMoP1A6V2R+dKl/UARdTNo2ar9QDmM1dbfr/1AYaN3Rea0/UCIuhm07Ln9QLDRuyLzvv1A2OhdkfnD/UAAAAAAAMn9QA==",
          "dtype": "f8"
         },
         "y": {
          "bdata": "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",
          "dtype": "f8"
         }
        },
        {
         "hovertemplate": "Strike: $%{x:,.0f}<br>Density: %{y:.6f}<extra></extra>",
         "line": {
          "color": "rgba(37,130,142,0.8)",
          "width": 2
         },
         "mode": "lines",
         "name": "2025-08-29 10:00:00 (8d)",
         "type": "scatter",
         "x": {
          "bdata": "AAAAAACI40AsMl+aOObjQFdkvjRxRORAg5Ydz6mi5ECvyHxp4gDlQNv62wMbX+VABi07nlO95UAyX5o4jBvmQF6R+dLEeeZAisNYbf3X5kC19bcHNjbnQOEnF6JulOdADVp2PKfy50A4jNXW31DoQGS+NHEYr+hAkPCTC1EN6UC8IvOliWvpQOhUUkDCyelAE4ex2von6kA/uRB1M4bqQGvrbw9s5OpAlh3PqaRC60DCTy5E3aDrQO6Bjd4V/+tAGrTseE5d7EBG5ksTh7vsQHEYq62/Ge1AnUoKSPh37UDIfGniMNbtQPSuyHxpNO5AIOEnF6KS7kBME4ex2vDuQHhF5ksTT+9Ao3dF5kut70DoVFJAwgXwQP3tgY3eNPBAE4ex2vpj8EApIOEnF5PwQD+5EHUzwvBAVVJAwk/x8EBr628PbCDxQICEn1yIT/FAlh3PqaR+8UCstv72wK3xQMJPLkTd3PFA2OhdkfkL8kDugY3eFTvyQAQbvSsyavJAGrTseE6Z8kAwTRzGasjyQEbmSxOH9/JAW397YKMm80BxGKutv1XzQIex2vrbhPNAnUoKSPiz80Cy4zmVFOPzQMh8aeIwEvRA3hWZL01B9ED0rsh8aXD0QApI+MmFn/RAIOEnF6LO9EA2eldkvv30QEwTh7HaLPVAYqy2/vZb9UB4ReZLE4v1QI7eFZkvuvVAo3dF5kvp9UC5EHUzaBj2QM+ppICER/ZA5ULUzaB29kD62wMbvaX2QBB1M2jZ1PZAJg5jtfUD90A8p5ICEjP3QFJAwk8uYvdAaNnxnEqR90B+ciHqZsD3QJQLUTeD7/dAqqSAhJ8e+EDAPbDRu034QNbW3x7YfPhA628PbPSr+EABCT+5ENv4QBeibgYtCvlALTueU0k5+UBC1M2gZWj5QFht/e2Bl/lAbgYtO57G+UCEn1yIuvX5QJo4jNXWJPpAsNG7IvNT+kDGautvD4P6QNwDG70rsvpA8pxKCkjh+kAINnpXZBD7QB3PqaSAP/tAM2jZ8Zxu+0BJAQk/uZ37QF+aOIzVzPtAdTNo2fH7+0CLzJcmDiv8QKFlx3MqWvxAtv72wEaJ/EDMlyYOY7j8QOIwVlt/5/xA+MmFqJsW/UAOY7X1t0X9QCT85ELUdP1AOpUUkPCj/UBQLkTdDNP9QGXHcyopAv5Ae2Cjd0Ux/kCR+dLEYWD+QKeSAhJ+j/5AvSsyX5q+/kDTxGGstu3+QOldkfnSHP9A/vbARu9L/0AUkPCTC3v/QCopIOEnqv9AQMJPLkTZ/0Crrb89MAQAQTZ6V2S+GwBBwUbvikwzAEFME4ex2koAQdbfHthoYgBBYqy2/vZ5AEHseE4lhZEAQXhF5ksTqQBBAhJ+cqHAAEGO3hWZL9gAQRirrb+97wBBo3dF5ksHAUEuRN0M2h4BQbkQdTNoNgFBRN0MWvZNAUHPqaSAhGUBQVp2PKcSfQFB5ULUzaCUAUFwD2z0LqwBQfrbAxu9wwFBhqibQUvbAUEQdTNo2fIBQZxBy45nCgJBJg5jtfUhAkGy2vrbgzkCQQ==",
          "dtype": "f8"
         },
         "y": {
          "bdata": "AAAAAAAAAAAAAAAAAAAAAL6mrUFMIoI+0sLHgk/hnz60ogX6D9auPl2leYVBMbc+vtr5hVO5vz7sTkHXwHvEPg3YVBIQgsk+4ptxjzX8zj4Frflgo3fSPtEhvz84xdU+odqcDzU02T7vN5W2lqvdPrMcSmZA5N0+DTVW0fRW3D6KY9SDX9zaPtnjUyL369g+4AiN46Kb1j7KzlsqRtnTPn1GI3MJoNA+ilfov2HVyT5EIBPsOWvBPqs9VzWoEbA+AAAAAAAAAAAAAAAAAAAAAAAAAAAAAAAAAAAAAAAAAAAAAAAAAAAAAAAAAAAAAAAAAAAAAAAAAAAAAAAAAAAAAAAAAAAAAAAAAAAAAAAAAAAAAAAAAAAAAAAAAAAAAAAAAAAAAAAAAAAAAAAAAAAAAAAAAAAAAAAAAAAAAAAAAAAAAAAAAAAAAAAAAAAAAAAAAAAAAAAAAAAAAAAAAAAAAAAAAAAAAAAAAAAAAAAAAAAAAAAAAAAAAAAAAAAAAAAAAmI+9ySxlj5BBkAMrPm0PhanbIikeMI+8S9nARLpyj443wYZorfRPhbDZs6DxNY+V8nUx8CC0D7XO/ZO81XCPvcsgpd2c5o+AAAAAAAAAAAAAAAAAAAAAAAAAAAAAAAAAAAAAAAAAAAAAAAAAAAAAAAAAAAAAAAAAAAAAAAAAAAAAAAAAAAAAFnfBDpjIq0+8ruj2oDFzj4AAAAAAAAAAAAAAAAAAAAAAAAAAAAAAAAAAAAAAAAAAPXWvxGksvE+PYXvjdJg8T4AAAAAAAAAAAAAAAAAAAAAmRbmIDAnuj7cfgJU5cXNPrfU/skEMdo+Y+FoG7H5zj7hEY9jtp2gPpSGvyqFuaA+Pj1soKOv1j6rCRXlGevmPsuyVVH/zN4+S1Otv2ASJD4AAAAAAAAAAIDwe35uVdM+oU+/NOzS8D4wDd66xTXzPvaWe3Y3VOI+AAAAAAAAAADDXX19J53pPtHOmJ0TggI/BpRjsdUaCz8AAAAAAAAAAJDUwy3KKQA/N3cIkvDZCD8AAAAAAAAAALwP099WZAA/UFRwmSUuED9ed4wE1TMHPwAAAAAAAAAA8Ljxh/bx4z5g//TDVVH1PiqJWkIGKQc/R0Y2z8l0ED/aY47Ii2vmPutUN3EzbgU/AAAAAAAAAAAAAAAAAAAAAEQmqlwAigg/jkkBAno6CT9sAy3tRazzPgAAAAAAAAAArVSuvqUADz8AAAAAAAAAAAAAAAAAAAAA+6a7WzhHIz/N9LuMIaP3PgAAAAAAAAAAAAAAAAAAAAAAAAAAAAAAAKefsrior/U+oHoEX/Ng2j4AAAAAAAAAAAAAAAAAAAAAAAAAAAAAAADt9XffS00IP2+y8Mi3ShA/SLOTuNqRBD+9gI8kXFH7PhWQRoFkouY+AAAAAAAAAAAAAAAAAAAAAAAAAAAAAAAAAAAAAAAAAAAAAAAAAAAAAAAAAAAAAAAAAAAAAAAAAAAAAAAAAAAAAAAAAAAAAAAAAAAAAAAAAAAAAAAAAAAAAAAAAAAAAAAAAAAAAAAAAAAAAAAAAAAAAA==",
          "dtype": "f8"
         }
        },
        {
         "hovertemplate": "Strike: $%{x:,.0f}<br>Density: %{y:.6f}<extra></extra>",
         "line": {
          "color": "rgba(30,157,136,0.8)",
          "width": 2
         },
         "mode": "lines",
         "name": "2025-09-05 10:00:00 (15d)",
         "type": "scatter",
         "x": {
          "bdata": "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",
          "dtype": "f8"
         },
         "y": {
          "bdata": "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",
          "dtype": "f8"
         }
        },
        {
         "hovertemplate": "Strike: $%{x:,.0f}<br>Density: %{y:.6f}<extra></extra>",
         "line": {
          "color": "rgba(53,183,120,0.8)",
          "width": 2
         },
         "mode": "lines",
         "name": "2025-09-12 10:00:00 (22d)",
         "type": "scatter",
         "x": {
          "bdata": "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",
          "dtype": "f8"
         },
         "y": {
          "bdata": "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",
          "dtype": "f8"
         }
        },
        {
         "hovertemplate": "Strike: $%{x:,.0f}<br>Density: %{y:.6f}<extra></extra>",
         "line": {
          "color": "rgba(109,206,88,0.8)",
          "width": 2
         },
         "mode": "lines",
         "name": "2025-09-26 10:00:00 (36d)",
         "type": "scatter",
         "x": {
          "bdata": "AAAAAACI00DNlyYOY2XVQJkvTRzGQtdAZsdzKikg2UAyX5o4jP3aQP/2wEbv2txAzI7nVFK43kBME4ex2krgQDJfmjiMOeFAGKutvz0o4kD/9sBG7xbjQOVC1M2gBeRAzI7nVFL05ECy2vrbA+PlQJgmDmO10eZAfnIh6mbA50BkvjRxGK/oQEsKSPjJnelAMVZbf3uM6kAXom4GLXvrQP7tgY3eaexA5DmVFJBY7UDKhaibQUfuQLDRuyLzNe9AzI7nVFIS8EC+NHEYq4nwQLLa+tsDAfFApYCEn1x48UCYJg5jte/xQIvMlyYOZ/JAfnIh6mbe8kByGKutv1XzQGS+NHEYzfNAWGS+NHFE9EBLCkj4ybv0QD6w0bsiM/VAMVZbf3uq9UAk/ORC1CH2QBeibgYtmfZACkj4yYUQ90D+7YGN3of3QPGTC1E3//dA5DmVFJB2+EDX3x7Y6O34QMqFqJtBZflAvSsyX5rc+UCw0bsi81P6QKR3ReZLy/pAlx3PqaRC+0CKw1ht/bn7QH1p4jBWMfxAcA9s9K6o/EBjtfW3ByD9QFZbf3tgl/1ASgEJP7kO/kA9p5ICEob+QDBNHMZq/f5AI/OlicN0/0AWmS9NHOz/QISfXIi6MQBBfnIh6mZtAEF4ReZLE6kAQXIYq62/5ABBa+tvD2wgAUFkvjRxGFwBQV6R+dLElwFBWGS+NHHTAUFRN4OWHQ8CQUsKSPjJSgJB",
          "dtype": "f8"
         },
         "y": {
          "bdata": "AAAAAAAAAADuVIV6uHvEPlKFQtOPK8A+fgW3Hkbxuz6VXOfDrxmoPgAAAAAAAAAAAAAAAAAAAAAAAAAAAAAAAAAAAAAAAAAAAAAAAAAAAADryEduz5SuPtdvX+fUkbQ+YAAkIC7zbj4AAAAAAAAAAAAAAAAAAAAAAAAAAAAAAAAAAAAAAAAAACapvmvX49Q+/RdYZO0E8j67j9kObCryPqQkbhUhWtE+AAAAAAAAAAAAAAAAAAAAAAAAAAAAAAAAKNVTcKH4wD5ikyN8RUKxPlOPMOb1OrY+sdTbQdGdtT5kklsZEey0Pkh3IbdgIrk+zi+W0LfYyj5mLqoP+lPYPi3axX4+Dtg+qbmlW3g3yD4AAAAAAAAAAD3ORGkFkpw+AZ2pkApwwT7bLnqLo5bRPgwrQxVr8No+4tPGTm5u5j7p1rVSygPbPnkiZVH6cKY+1zgKn76w7T6OqwKNqwfrPgsrvR4T8+g+92L3Txpv6z6rTC7o8uz2PgAAAAAAAAAAn4ciCT1o/z5+KMs4j5/yPj9roxrJovk+J80vBmhJ+D6yb1ka+2n2PnBGVoH3wOI+4wZt5C6T4z4JFeuI0LYDPwAAAAAAAAAAnkHmSA+g+j7zD0vo0qT6PgAAAAAAAAAA7GQFbN6pDj8AAAAAAAAAABCrr+5cc/M+GYl004tl4D7oE0Qt3LfVPoA0s16rrZs+AAAAAAAAAAAAAAAAAAAAAAAAAAAAAAAA",
          "dtype": "f8"
         }
        },
        {
         "hovertemplate": "Strike: $%{x:,.0f}<br>Density: %{y:.6f}<extra></extra>",
         "line": {
          "color": "rgba(181,221,43,0.8)",
          "width": 2
         },
         "mode": "lines",
         "name": "2025-10-31 09:00:00 (71d)",
         "type": "scatter",
         "x": {
          "bdata": "AAAAAACI40APbPSuyPLjQB/Y6F2RXeRALkTdDFrI5EA+sNG7IjPlQE0cxmrrneVAXYi6GbQI5kBs9K7IfHPmQHxgo3dF3uZAi8yXJg5J50CaOIzV1rPnQKqkgISfHuhAuRB1M2iJ6EDJfGniMPToQNjoXZH5XulA6FRSQMLJ6UD3wEbvijTqQAYtO55Tn+pAFpkvTRwK60AlBST85HTrQDVxGKut3+tARN0MWnZK7EBUSQEJP7XsQGO19bcHIO1AciHqZtCK7UCCjd4VmfXtQJL50sRhYO5AoWXHcyrL7kCw0bsi8zXvQMA9sNG7oO9A6FRSQMIF8EDvisyXJjvwQPfARu+KcPBA//bARu+l8EAGLTueU9vwQA5jtfW3EPFAFpkvTRxG8UAez6mkgHvxQCUFJPzksPFALTueU0nm8UA1cRirrRvyQDynkgISUfJARN0MWnaG8kBME4ex2rvyQFRJAQk/8fJAXH97YKMm80BjtfW3B1zzQGvrbw9skfNAciHqZtDG80B6V2S+NPzzQIKN3hWZMfRAisNYbf1m9ECS+dLEYZz0QJkvTRzG0fRAoWXHcyoH9UCom0HLjjz1QLDRuyLzcfVAuAc2elen9UDAPbDRu9z1QMhzKikgEvZAz6mkgIRH9kDX3x7Y6Hz2QN4VmS9NsvZA5ksTh7Hn9kDugY3eFR33QPa3BzZ6UvdA/u2Bjd6H90AFJPzkQr33QA1adjyn8vdAFJDwkwso+EAcxmrrb134QCT85ELUkvhALDJfmjjI+EA0aNnxnP34QDueU0kBM/lAQ9TNoGVo+UBKCkj4yZ35QFJAwk8u0/lAWnY8p5II+kBirLb+9j36QGriMFZbc/pAcRirrb+o+kB5TiUFJN76QIGEn1yIE/tAiLoZtOxI+0CQ8JMLUX77QJgmDmO1s/tAoFyIuhnp+0CnkgISfh78QK/IfGniU/xAt/72wEaJ/EC+NHEYq778QMZq628P9PxAzqBlx3Mp/UDW1t8e2F79QN0MWnY8lP1A5ULUzaDJ/UDteE4lBf/9QPSuyHxpNP5A/ORC1M1p/kAEG70rMp/+QAxRN4OW1P5AE4ex2voJ/0AbvSsyXz//QCPzpYnDdP9AKikg4Seq/0AyX5o4jN//QJ1KCkh4CgBBoWXHcyolAEGkgISf3D8AQaibQcuOWgBBrLb+9kB1AEGw0bsi848AQbTseE6lqgBBuAc2elfFAEG8IvOlCeAAQcA9sNG7+gBBxFht/W0VAUHIcyopIDABQcyO51TSSgFBz6mkgIRlAUHTxGGsNoABQdffHtjomgFB2vrbA5u1AUHeFZkvTdABQeIwVlv/6gFB5ksTh7EFAkHqZtCyYyACQe6Bjd4VOwJB",
          "dtype": "f8"
         },
         "y": {
          "bdata": "AAAAAAAAAAANv1B0hTqoPhhnUwZIhKE+Ki5p1s/Toj6tzOjaNrShPg35avZD7KA+JEfwqMJtnz7JRnZXPIecPvI9jjKXA5k+1Dn0NR7YlD7OmEEBTieQPiqhkmdWoYQ+qqL3XlkOdz5ZLUd16eR6PlyQRwCPpn4++h1oD6Ifgz44HMk9cmyIPnCEGDv6dY8+7S4pHtYklD5E48N18IaZPm5avTMD6p8+5HcnSk++oz63+z+35vqnPkg9pNbQbK0+174m+RNYsD5EN0CbrhCxPvuUbYJWCrI+6Zzzzrv+sj6+Irn+4gC0PmBHWiXZC7U+HOj7oTQhtj5OL74HZkC3PjWW+6oUarg+yCfoPJqcuT69KclaMN66PkN6Vd6WF7w+zc5aOEM1vj6JvpedrU7APpkSxQq2mcE+HPu3dAACwz7LucvRj4jEPlhLEWMRMMY+LZLb08r6xz5e58B9UevJPkwlY41mBMw+tOk2hXdIzj5C6q0A5l3QPslcuXDLrdE+8PM3pJ4J0z4eOBZAXn/UPm+FiDMUENY+yX3lOxu41z6voupW7ovZPmEP6F+0Pds+7KILE01o3D6iaCsTDajdPmZF9xr5394+bZwBz8kI4D73o0KqaqTgPvlynZhQH+E+nt9VJz9t4T4kXBvUs7XhPp9/6SUi5uE+e8+KkCQj4j6tu3R9uejhPjU9sdvD0OM+/Og3GeFR5z7AxduAWNLqPu1ASFId0u4+JhcV+Ihf8T7D3B63kCv0Pifd1pC1nfE+pp/IPgMu5j5myFjEQl/oPicK4zACRvk+4BtP0PrbAT8AAAAAAAAAAB71fHs0tP0+f8TcEioIAD95sZGCVnPwPgUoix0lt+g+YpqdPLas9D4hgsfzurv6Phz0n/gJV/k+ZVcnaCE4+D4Io/4PnYf1PkLJ+zkZxPM+C5qjCF3/6D6WW4WVFxzqPn2nqMPoHA4/DWcq7m7O/z4g5tgIvlisPrYuS7bm3uI+nFPzAH4oAz/86yHI6CgHP1SHeSoJUvk+9tTZLl6V5D7gkWH3w13qPsEm/8FAhfA+pywSz2CP8D40/b31/47tPkJaiPJ//O0+AD90f6BE8j7v6O/gfb/0Pij650y+ivQ+8WUp+Ywm9T44TaKRGeLvPlYaAoy47do+5b8aBRVF0z6qHM3KIwXvPuEdo6DlP/g+AAAAAAAAAAAAAAAAAAAAAI3FsqaTq7Q+E+Hr/CfW7j5HrSoxnXH1Psh6ez5KK+o+W/mhjqok3j64dmhE4P3ZPq7Y3byLk9c+uFUKI0b51D4sa0TAY63SPt35tReqjNA+etBTbX4jzT5Eppihib/IPuYkx4YS0MQ+HdkGXcIxwT4TARhIYRm8PqpaJ7AZiLU+",
          "dtype": "f8"
         }
        },
        {
         "hovertemplate": "Strike: $%{x:,.0f}<br>Density: %{y:.6f}<extra></extra>",
         "line": {
          "color": "rgba(253,231,36,0.8)",
          "width": 2
         },
         "mode": "lines",
         "name": "2025-12-26 09:00:00 (127d)",
         "type": "scatter",
         "x": {
          "bdata": "AAAAAACI00DNlyYOY2XVQJkvTRzGQtdAZsdzKikg2UAyX5o4jP3aQP/2wEbv2txAzI7nVFK43kBME4ex2krgQDJfmjiMOeFAGKutvz0o4kD/9sBG7xbjQOVC1M2gBeRAzI7nVFL05ECy2vrbA+PlQJgmDmO10eZAfnIh6mbA50BkvjRxGK/oQEsKSPjJnelAMVZbf3uM6kAXom4GLXvrQP7tgY3eaexA5DmVFJBY7UDKhaibQUfuQLDRuyLzNe9AzI7nVFIS8EC+NHEYq4nwQLLa+tsDAfFApYCEn1x48UCYJg5jte/xQIvMlyYOZ/JAfnIh6mbe8kByGKutv1XzQGS+NHEYzfNAWGS+NHFE9EBLCkj4ybv0QD6w0bsiM/VAMVZbf3uq9UAk/ORC1CH2QBeibgYtmfZACkj4yYUQ90D+7YGN3of3QPGTC1E3//dA5DmVFJB2+EDX3x7Y6O34QMqFqJtBZflAvSsyX5rc+UCw0bsi81P6QKR3ReZLy/pAlx3PqaRC+0CKw1ht/bn7QH1p4jBWMfxAcA9s9K6o/EBjtfW3ByD9QFZbf3tgl/1ASgEJP7kO/kA9p5ICEob+QDBNHMZq/f5AI/OlicN0/0AWmS9NHOz/QISfXIi6MQBBfnIh6mZtAEF4ReZLE6kAQXIYq62/5ABBa+tvD2wgAUFkvjRxGFwBQV6R+dLElwFBWGS+NHHTAUFRN4OWHQ8CQUsKSPjJSgJB",
          "dtype": "f8"
         },
         "y": {
          "bdata": "AAAAAAAAAAB90EqsgcFGPnWJw+UasVA+J71d1Dh1Yj7Klm6NJmFxPm3fH2MhE4E+jJZTZqCRiD5k4cr0jhePPoAwuiA0LpI+2hK3iTytkj6r1YOEtt+JPqu25VXvOX0+PXRvDpzCgD4G9vZy7ICFPgd+ECLTO5A+RcE4BUBvmj6Gu4VMx0+jPkqvIO1lHqU+Z+qCppX9pj6a7YHbEsWnPkCwVgdnEqc+wmhFmI2gpD7bezIKXMKwPmn3s9PX1rs+lY106e5Jwz7T5vTGFqTFPkleXYXgz8g+Nz2eYmiRyD4Cd0tSAWDEPoOR5c3V978+0z5m721Byz5jLrU3UI3WPgYLtkeVzts+tDtteD+z2z4C4aiM+eDaPnanxa0YAOA+Ar12aDB34z7oLfM/RGHnPqMFyJSiQ+s+mFR0bDoe8D4UzbMzd9vwPk/GEQdxWPA+BEs/hP5j7z4s1aqS5HvxPuazMP4FgPM+SZi2ZX5K9D7/y2hFAnfzPvEHZ536cfI+8O5+bETi8j7JMApQ2oTzPpcMPRjev/M+J7q0AYo38z4+ZoLcoZjyPj2cnBpwz/E+RTaofjfr8D5WD6qrDdDvPn2UWO0WQuw+NQgwd1eX6D6M4jwzAH3mPoS/3TsXQeY+7hqtMcW05T4/yzEaUqziPkkt5+4Ocd4+7Dpfxr4T2j5wkqWy+wXcPs0QyfIHNd0+eAYfSA282T60dRQu9JHTPppYblrELc4+",
          "dtype": "f8"
         }
        }
       ],
       "layout": {
        "annotations": [
         {
          "showarrow": false,
          "text": "Current Spot: $113,455",
          "x": 113455.47,
          "xanchor": "center",
          "xref": "x",
          "y": 1,
          "yanchor": "bottom",
          "yref": "y domain"
         }
        ],
        "height": 500,
        "legend": {
         "orientation": "v",
         "x": 1.02,
         "xanchor": "left",
         "y": 1,
         "yanchor": "top"
        },
        "shapes": [
         {
          "line": {
           "color": "red",
           "dash": "dash"
          },
          "type": "line",
          "x0": 113455.47,
          "x1": 113455.47,
          "xref": "x",
          "y0": 0,
          "y1": 1,
          "yref": "y domain"
         }
        ],
        "showlegend": true,
        "template": {
         "data": {
          "bar": [
           {
            "error_x": {
             "color": "#2a3f5f"
            },
            "error_y": {
             "color": "#2a3f5f"
            },
            "marker": {
             "line": {
              "color": "#E5ECF6",
              "width": 0.5
             },
             "pattern": {
              "fillmode": "overlay",
              "size": 10,
              "solidity": 0.2
             }
            },
            "type": "bar"
           }
          ],
          "barpolar": [
           {
            "marker": {
             "line": {
              "color": "#E5ECF6",
              "width": 0.5
             },
             "pattern": {
              "fillmode": "overlay",
              "size": 10,
              "solidity": 0.2
             }
            },
            "type": "barpolar"
           }
          ],
          "carpet": [
           {
            "aaxis": {
             "endlinecolor": "#2a3f5f",
             "gridcolor": "white",
             "linecolor": "white",
             "minorgridcolor": "white",
             "startlinecolor": "#2a3f5f"
            },
            "baxis": {
             "endlinecolor": "#2a3f5f",
             "gridcolor": "white",
             "linecolor": "white",
             "minorgridcolor": "white",
             "startlinecolor": "#2a3f5f"
            },
            "type": "carpet"
           }
          ],
          "choropleth": [
           {
            "colorbar": {
             "outlinewidth": 0,
             "ticks": ""
            },
            "type": "choropleth"
           }
          ],
          "contour": [
           {
            "colorbar": {
             "outlinewidth": 0,
             "ticks": ""
            },
            "colorscale": [
             [
              0,
              "#0d0887"
             ],
             [
              0.1111111111111111,
              "#46039f"
             ],
             [
              0.2222222222222222,
              "#7201a8"
             ],
             [
              0.3333333333333333,
              "#9c179e"
             ],
             [
              0.4444444444444444,
              "#bd3786"
             ],
             [
              0.5555555555555556,
              "#d8576b"
             ],
             [
              0.6666666666666666,
              "#ed7953"
             ],
             [
              0.7777777777777778,
              "#fb9f3a"
             ],
             [
              0.8888888888888888,
              "#fdca26"
             ],
             [
              1,
              "#f0f921"
             ]
            ],
            "type": "contour"
           }
          ],
          "contourcarpet": [
           {
            "colorbar": {
             "outlinewidth": 0,
             "ticks": ""
            },
            "type": "contourcarpet"
           }
          ],
          "heatmap": [
           {
            "colorbar": {
             "outlinewidth": 0,
             "ticks": ""
            },
            "colorscale": [
             [
              0,
              "#0d0887"
             ],
             [
              0.1111111111111111,
              "#46039f"
             ],
             [
              0.2222222222222222,
              "#7201a8"
             ],
             [
              0.3333333333333333,
              "#9c179e"
             ],
             [
              0.4444444444444444,
              "#bd3786"
             ],
             [
              0.5555555555555556,
              "#d8576b"
             ],
             [
              0.6666666666666666,
              "#ed7953"
             ],
             [
              0.7777777777777778,
              "#fb9f3a"
             ],
             [
              0.8888888888888888,
              "#fdca26"
             ],
             [
              1,
              "#f0f921"
             ]
            ],
            "type": "heatmap"
           }
          ],
          "histogram": [
           {
            "marker": {
             "pattern": {
              "fillmode": "overlay",
              "size": 10,
              "solidity": 0.2
             }
            },
            "type": "histogram"
           }
          ],
          "histogram2d": [
           {
            "colorbar": {
             "outlinewidth": 0,
             "ticks": ""
            },
            "colorscale": [
             [
              0,
              "#0d0887"
             ],
             [
              0.1111111111111111,
              "#46039f"
             ],
             [
              0.2222222222222222,
              "#7201a8"
             ],
             [
              0.3333333333333333,
              "#9c179e"
             ],
             [
              0.4444444444444444,
              "#bd3786"
             ],
             [
              0.5555555555555556,
              "#d8576b"
             ],
             [
              0.6666666666666666,
              "#ed7953"
             ],
             [
              0.7777777777777778,
              "#fb9f3a"
             ],
             [
              0.8888888888888888,
              "#fdca26"
             ],
             [
              1,
              "#f0f921"
             ]
            ],
            "type": "histogram2d"
           }
          ],
          "histogram2dcontour": [
           {
            "colorbar": {
             "outlinewidth": 0,
             "ticks": ""
            },
            "colorscale": [
             [
              0,
              "#0d0887"
             ],
             [
              0.1111111111111111,
              "#46039f"
             ],
             [
              0.2222222222222222,
              "#7201a8"
             ],
             [
              0.3333333333333333,
              "#9c179e"
             ],
             [
              0.4444444444444444,
              "#bd3786"
             ],
             [
              0.5555555555555556,
              "#d8576b"
             ],
             [
              0.6666666666666666,
              "#ed7953"
             ],
             [
              0.7777777777777778,
              "#fb9f3a"
             ],
             [
              0.8888888888888888,
              "#fdca26"
             ],
             [
              1,
              "#f0f921"
             ]
            ],
            "type": "histogram2dcontour"
           }
          ],
          "mesh3d": [
           {
            "colorbar": {
             "outlinewidth": 0,
             "ticks": ""
            },
            "type": "mesh3d"
           }
          ],
          "parcoords": [
           {
            "line": {
             "colorbar": {
              "outlinewidth": 0,
              "ticks": ""
             }
            },
            "type": "parcoords"
           }
          ],
          "pie": [
           {
            "automargin": true,
            "type": "pie"
           }
          ],
          "scatter": [
           {
            "fillpattern": {
             "fillmode": "overlay",
             "size": 10,
             "solidity": 0.2
            },
            "type": "scatter"
           }
          ],
          "scatter3d": [
           {
            "line": {
             "colorbar": {
              "outlinewidth": 0,
              "ticks": ""
             }
            },
            "marker": {
             "colorbar": {
              "outlinewidth": 0,
              "ticks": ""
             }
            },
            "type": "scatter3d"
           }
          ],
          "scattercarpet": [
           {
            "marker": {
             "colorbar": {
              "outlinewidth": 0,
              "ticks": ""
             }
            },
            "type": "scattercarpet"
           }
          ],
          "scattergeo": [
           {
            "marker": {
             "colorbar": {
              "outlinewidth": 0,
              "ticks": ""
             }
            },
            "type": "scattergeo"
           }
          ],
          "scattergl": [
           {
            "marker": {
             "colorbar": {
              "outlinewidth": 0,
              "ticks": ""
             }
            },
            "type": "scattergl"
           }
          ],
          "scattermap": [
           {
            "marker": {
             "colorbar": {
              "outlinewidth": 0,
              "ticks": ""
             }
            },
            "type": "scattermap"
           }
          ],
          "scattermapbox": [
           {
            "marker": {
             "colorbar": {
              "outlinewidth": 0,
              "ticks": ""
             }
            },
            "type": "scattermapbox"
           }
          ],
          "scatterpolar": [
           {
            "marker": {
             "colorbar": {
              "outlinewidth": 0,
              "ticks": ""
             }
            },
            "type": "scatterpolar"
           }
          ],
          "scatterpolargl": [
           {
            "marker": {
             "colorbar": {
              "outlinewidth": 0,
              "ticks": ""
             }
            },
            "type": "scatterpolargl"
           }
          ],
          "scatterternary": [
           {
            "marker": {
             "colorbar": {
              "outlinewidth": 0,
              "ticks": ""
             }
            },
            "type": "scatterternary"
           }
          ],
          "surface": [
           {
            "colorbar": {
             "outlinewidth": 0,
             "ticks": ""
            },
            "colorscale": [
             [
              0,
              "#0d0887"
             ],
             [
              0.1111111111111111,
              "#46039f"
             ],
             [
              0.2222222222222222,
              "#7201a8"
             ],
             [
              0.3333333333333333,
              "#9c179e"
             ],
             [
              0.4444444444444444,
              "#bd3786"
             ],
             [
              0.5555555555555556,
              "#d8576b"
             ],
             [
              0.6666666666666666,
              "#ed7953"
             ],
             [
              0.7777777777777778,
              "#fb9f3a"
             ],
             [
              0.8888888888888888,
              "#fdca26"
             ],
             [
              1,
              "#f0f921"
             ]
            ],
            "type": "surface"
           }
          ],
          "table": [
           {
            "cells": {
             "fill": {
              "color": "#EBF0F8"
             },
             "line": {
              "color": "white"
             }
            },
            "header": {
             "fill": {
              "color": "#C8D4E3"
             },
             "line": {
              "color": "white"
             }
            },
            "type": "table"
           }
          ]
         },
         "layout": {
          "annotationdefaults": {
           "arrowcolor": "#2a3f5f",
           "arrowhead": 0,
           "arrowwidth": 1
          },
          "autotypenumbers": "strict",
          "coloraxis": {
           "colorbar": {
            "outlinewidth": 0,
            "ticks": ""
           }
          },
          "colorscale": {
           "diverging": [
            [
             0,
             "#8e0152"
            ],
            [
             0.1,
             "#c51b7d"
            ],
            [
             0.2,
             "#de77ae"
            ],
            [
             0.3,
             "#f1b6da"
            ],
            [
             0.4,
             "#fde0ef"
            ],
            [
             0.5,
             "#f7f7f7"
            ],
            [
             0.6,
             "#e6f5d0"
            ],
            [
             0.7,
             "#b8e186"
            ],
            [
             0.8,
             "#7fbc41"
            ],
            [
             0.9,
             "#4d9221"
            ],
            [
             1,
             "#276419"
            ]
           ],
           "sequential": [
            [
             0,
             "#0d0887"
            ],
            [
             0.1111111111111111,
             "#46039f"
            ],
            [
             0.2222222222222222,
             "#7201a8"
            ],
            [
             0.3333333333333333,
             "#9c179e"
            ],
            [
             0.4444444444444444,
             "#bd3786"
            ],
            [
             0.5555555555555556,
             "#d8576b"
            ],
            [
             0.6666666666666666,
             "#ed7953"
            ],
            [
             0.7777777777777778,
             "#fb9f3a"
            ],
            [
             0.8888888888888888,
             "#fdca26"
            ],
            [
             1,
             "#f0f921"
            ]
           ],
           "sequentialminus": [
            [
             0,
             "#0d0887"
            ],
            [
             0.1111111111111111,
             "#46039f"
            ],
            [
             0.2222222222222222,
             "#7201a8"
            ],
            [
             0.3333333333333333,
             "#9c179e"
            ],
            [
             0.4444444444444444,
             "#bd3786"
            ],
            [
             0.5555555555555556,
             "#d8576b"
            ],
            [
             0.6666666666666666,
             "#ed7953"
            ],
            [
             0.7777777777777778,
             "#fb9f3a"
            ],
            [
             0.8888888888888888,
             "#fdca26"
            ],
            [
             1,
             "#f0f921"
            ]
           ]
          },
          "colorway": [
           "#636efa",
           "#EF553B",
           "#00cc96",
           "#ab63fa",
           "#FFA15A",
           "#19d3f3",
           "#FF6692",
           "#B6E880",
           "#FF97FF",
           "#FECB52"
          ],
          "font": {
           "color": "#2a3f5f"
          },
          "geo": {
           "bgcolor": "white",
           "lakecolor": "white",
           "landcolor": "#E5ECF6",
           "showlakes": true,
           "showland": true,
           "subunitcolor": "white"
          },
          "hoverlabel": {
           "align": "left"
          },
          "hovermode": "closest",
          "mapbox": {
           "style": "light"
          },
          "paper_bgcolor": "white",
          "plot_bgcolor": "#E5ECF6",
          "polar": {
           "angularaxis": {
            "gridcolor": "white",
            "linecolor": "white",
            "ticks": ""
           },
           "bgcolor": "#E5ECF6",
           "radialaxis": {
            "gridcolor": "white",
            "linecolor": "white",
            "ticks": ""
           }
          },
          "scene": {
           "xaxis": {
            "backgroundcolor": "#E5ECF6",
            "gridcolor": "white",
            "gridwidth": 2,
            "linecolor": "white",
            "showbackground": true,
            "ticks": "",
            "zerolinecolor": "white"
           },
           "yaxis": {
            "backgroundcolor": "#E5ECF6",
            "gridcolor": "white",
            "gridwidth": 2,
            "linecolor": "white",
            "showbackground": true,
            "ticks": "",
            "zerolinecolor": "white"
           },
           "zaxis": {
            "backgroundcolor": "#E5ECF6",
            "gridcolor": "white",
            "gridwidth": 2,
            "linecolor": "white",
            "showbackground": true,
            "ticks": "",
            "zerolinecolor": "white"
           }
          },
          "shapedefaults": {
           "line": {
            "color": "#2a3f5f"
           }
          },
          "ternary": {
           "aaxis": {
            "gridcolor": "white",
            "linecolor": "white",
            "ticks": ""
           },
           "baxis": {
            "gridcolor": "white",
            "linecolor": "white",
            "ticks": ""
           },
           "bgcolor": "#E5ECF6",
           "caxis": {
            "gridcolor": "white",
            "linecolor": "white",
            "ticks": ""
           }
          },
          "title": {
           "x": 0.05
          },
          "xaxis": {
           "automargin": true,
           "gridcolor": "white",
           "linecolor": "white",
           "ticks": "",
           "title": {
            "standoff": 15
           },
           "zerolinecolor": "white",
           "zerolinewidth": 2
          },
          "yaxis": {
           "automargin": true,
           "gridcolor": "white",
           "linecolor": "white",
           "ticks": "",
           "title": {
            "standoff": 15
           },
           "zerolinecolor": "white",
           "zerolinewidth": 2
          }
         }
        },
        "title": {
         "text": "📈 Risk-Neutral Probability Density Evolution"
        },
        "xaxis": {
         "title": {
          "text": "Strike Price ($)"
         }
        },
        "yaxis": {
         "title": {
          "text": "Probability Density"
         }
        }
       }
      },
      "text/html": [
       "<div>            <script src=\"https://cdnjs.cloudflare.com/ajax/libs/mathjax/2.7.5/MathJax.js?config=TeX-AMS-MML_SVG\"></script><script type=\"text/javascript\">if (window.MathJax && window.MathJax.Hub && window.MathJax.Hub.Config) {window.MathJax.Hub.Config({SVG: {font: \"STIX-Web\"}});}</script>                <script type=\"text/javascript\">window.PlotlyConfig = {MathJaxConfig: 'local'};</script>\n",
       "        <script charset=\"utf-8\" src=\"https://cdn.plot.ly/plotly-3.1.0.min.js\" integrity=\"sha256-Ei4740bWZhaUTQuD6q9yQlgVCMPBz6CZWhevDYPv93A=\" crossorigin=\"anonymous\"></script>                <div id=\"f3f26aac-09ee-4362-a295-192a7af4bbbf\" class=\"plotly-graph-div\" style=\"height:500px; width:100%;\"></div>            <script type=\"text/javascript\">                window.PLOTLYENV=window.PLOTLYENV || {};                                if (document.getElementById(\"f3f26aac-09ee-4362-a295-192a7af4bbbf\")) {                    Plotly.newPlot(                        \"f3f26aac-09ee-4362-a295-192a7af4bbbf\",                        [{\"hovertemplate\":\"Strike: $%{x:,.0f}\\u003cbr\\u003eDensity: %{y:.6f}\\u003cextra\\u003e\\u003c\\u002fextra\\u003e\",\"line\":{\"color\":\"rgba(68,1,84,0.8)\",\"width\":2},\"mode\":\"lines\",\"name\":\"2025-08-22 10:00:00 (1d)\",\"x\":{\"dtype\":\"f8\",\"bdata\":\"AAAAAAD59UCLzJcmjhD2QBaZL00cKPZAoWXHc6o\\u002f9kAsMl+aOFf2QLf+9sDGbvZAQsuO51SG9kDNlyYO4532QFdkvjRxtfZA4jBWW\\u002f\\u002fM9kBt\\u002fe2BjeT2QPjJhagb\\u002fPZAg5Ydz6kT90AOY7X1Nyv3QJkvTRzGQvdAJPzkQlRa90CvyHxp4nH3QDqVFJBwifdAxWGstv6g90BQLkTdjLj3QNv62wMb0PdAZsdzKqnn90DwkwtRN\\u002f\\u002f3QHxgo3fFFvhABi07nlMu+ECR+dLE4UX4QBzGautvXfhAp5ICEv50+EAyX5o4jIz4QL0rMl8apPhASPjJhai7+EDTxGGsNtP4QF6R+dLE6vhA6V2R+VIC+UB0Kikg4Rn5QP\\u002f2wEZvMflAisNYbf1I+UAUkPCTi2D5QKBciLoZePlAKikg4aeP+UC19bcHNqf5QEDCTy7EvvlAy47nVFLW+UBWW3974O35QOEnF6JuBfpAbPSuyPwc+kD3wEbvijT6QIKN3hUZTPpADVp2PKdj+kCYJg5jNXv6QCPzpYnDkvpArr89sFGq+kA4jNXW38H6QMRYbf1t2fpATiUFJPzw+kDZ8ZxKigj7QGS+NHEYIPtA74rMl6Y3+0B6V2S+NE\\u002f7QAUk\\u002fOTCZvtAkPCTC1F++0AbvSsy35X7QKaJw1htrftAMVZbf\\u002fvE+0C8IvOlidz7QEfviswX9PtA0rsi86UL\\u002fEBciLoZNCP8QOhUUkDCOvxAciHqZlBS\\u002fED97YGN3mn8QIi6GbRsgfxAE4ex2vqY\\u002fECeU0kBibD8QCkg4ScXyPxAtOx4TqXf\\u002fEA\\u002fuRB1M\\u002ff8QMqFqJvBDv1AVVJAwk8m\\u002fUDgHtjo3T39QGvrbw9sVf1A9rcHNvps\\u002fUCAhJ9ciIT9QAxRN4MWnP1Alh3PqaSz\\u002fUAh6mbQMsv9QKy2\\u002fvbA4v1AN4OWHU\\u002f6\\u002fUDCTy5E3RH+QE0cxmprKf5A2OhdkflA\\u002fkBjtfW3h1j+QO6Bjd4VcP5AeU4lBaSH\\u002fkAEG70rMp\\u002f+QI7nVFLAtv5AGrTseE7O\\u002fkCkgISf3OX+QDBNHMZq\\u002ff5Auhm07PgU\\u002f0BG5ksThyz\\u002fQNCy4zkVRP9AW397YKNb\\u002f0DmSxOHMXP\\u002fQHEYq62\\u002fiv9A\\u002fORC1E2i\\u002f0CHsdr627n\\u002fQBJ+ciFq0f9AnUoKSPjo\\u002f0CUC1E3QwAAQdnxnEoKDABBH9joXdEXAEFkvjRxmCMAQaqkgIRfLwBB74rMlyY7AEE1cRir7UYAQXpXZL60UgBBwD2w0XteAEEFJPzkQmoAQUoKSPgJdgBBkPCTC9GBAEHW1t8emI0AQRu9KzJfmQBBYKN3RSalAEGmicNY7bAAQetvD2y0vABBMVZbf3vIAEF2PKeSQtQAQbwi86UJ4ABBAQk\\u002fudDrAEFH74rMl\\u002fcAQYzV1t9eAwFB0rsi8yUPAUEXom4G7RoBQVyIuhm0JgFBom4GLXsyAUHoVFJAQj4BQS07nlMJSgFBciHqZtBVAUG4BzZ6l2EBQf3tgY1ebQFBQ9TNoCV5AUGIuhm07IQBQc6gZcezkAFBE4ex2nqcAUFZbf3tQagBQZ5TSQEJtAFB5DmVFNC\\u002fAUEpIOEnl8sBQW4GLTte1wFBtOx4TiXjAUH60sRh7O4BQT+5EHWz+gFBhJ9ciHoGAkHKhaibQRICQQ9s9K4IHgJBVVJAws8pAkGaOIzVljUCQeAe2OhdQQJBJQUk\\u002fCRNAkE=\"},\"y\":{\"dtype\":\"f8\",\"bdata\":\"AAAAAAAAAACdcekwmqOSPpWm2YqLcrw+mQYrQmvFxz4MbasxfxTRPqrpKNPLRNY+aMLMKd2Q2z5r0YbOtXjgPgZDnJFpM+M+5gLqt6375T5p3Nxn4cToPir11RZjvus+i+0bcSc37j7bDbT9aGHxPkYpTeZpZ+k+gMBXGjpO1j4AAAAAAAAAAAAAAAAAAAAAAAAAAAAAAAAAAAAAAAAAAAAAAAAAAAAAAAAAAAAAAAAAAAAAAAAAAAAAAAAAAAAAAAAAAAAAAAAAAAAAAAAAAAAAAAAAAAAAAAAAAAAAAAAAAAAAAAAAAAAAAAAAAAAA3\\u002fMZMDVb1z5XxwroTj8AP0kGJi12hAo\\u002fnG8dcgAyAT9pusPd5GbzPv6M9WafKsk+AAAAAAAAAAAAAAAAAAAAAAAAAAAAAAAAAAAAAAAAAAAAAAAAAAAAAAAAAAAAAAAAVnpKnAwHFT93wig8PXkaP1RqTCYQyRE\\u002fU8w\\u002fl3I8CD8uRsFpCUX2PgAAAAAAAAAAAAAAAAAAAAAAAAAAAAAAAAAAAAAAAAAAAAAAAAAAAAAKpYKPOCLaPjMv+guXjAk\\u002fKd8xVCefBj\\u002f+WT2bfKUBP6IEUybTcvs+mGa9rG+t9j78gAXvE4XxPjv\\u002fLEn0uec+iS8Oitgf2D4AAAAAAAAAAMq46N3QxxA\\u002fsCEH9AmwIj8kn76DAXwmP3K92cOQTRk\\u002f3VvZWvLS9j5zNK2P3PYGP7ZucGBtZR4\\u002fuwMnOZWZJj9AVCvIfikUPwAAAAAAAAAAAAAAAAAAAACWFufO4DkRP9Xw7GgpJCo\\u002fNVZ83KjVID8AAAAAAAAAAAAAAAAAAAAAAAAAAAAAAAAAAAAAAAAAADswCre\\u002fAfU+AAAAAAAAAAAAAAAAAAAAAAAAAAAAAAAAAAAAAAAAAAAh1OuccOb\\u002fPk5VaTMFXhE\\u002fa0YTU7ucHz\\u002fwvXtnTAYYPwAAAAAAAAAAAAAAAAAAAAAAAAAAAAAAAAAAAAAAAAAAAAAAAAAAAAAAAAAAAAAAAAnYbildX+A+2+DmrqsC+z43MTWMoJrgPgAAAAAAAAAAAAAAAAAAAAB9FufOajWrPiQaBUVXgMs+ceetaqKmwj7+\\u002fzlbWd63PvB\\u002frw70frA+tIgN+dmqsD4kIfVRRzKtPq1zYY89bbQ+HJBp7gIjuz7hAzSGjbLAPgcdN512I8Q+Bk8SyXlixj7MCz6SZnHOPvlioIWhc9U+NX4UDmQe2z4u2OR09m\\u002fgPm0zEElxQOM+OLbEczsd5j5ABdqtV7LoPnWVB1seN+w+qN99QESh6j68skIAUcvlPjKQ23rCwOE+9tfozqkU2z4RpycRdtLSPm\\u002f8+jOHLMU+d+FV6fxDoz4AAAAAAAAAAAAAAAAAAAAAAAAAAAAAAAAAAAAAAAAAAAAAAAAAAAAAAAAAAAAAAAAAAAAAAAAAAAAAAAAAAAAAAAAAAAAAAAAAAAAAAAAAAAAAAAAAAAAAAAAAAAAAAAAAAAAAAAAAAAAAAAAAAAAAAAAAAAAAAAAAAAAAAAAAAOy\\u002f5yToCKA+\\u002fEkt\\u002fqEtuz6b7TqLzTjHPp\\u002fdhk+A\\u002f88+PjUePNoIzT6c8x7TWavKPjhfEop\\u002fLsg+6rgXfwjExT7scFKOoV7DPttl35zfAcE+F5DwuI9ZvT60xnSbhb+4PtVOEyyVNLQ+LiDNBxx5rz4ie7sd65OmPl43nxmTP5w+9MeA\\u002f\\u002fyIgj4=\"},\"type\":\"scatter\"},{\"hovertemplate\":\"Strike: $%{x:,.0f}\\u003cbr\\u003eDensity: %{y:.6f}\\u003cextra\\u003e\\u003c\\u002fextra\\u003e\",\"line\":{\"color\":\"rgba(71,39,119,0.8)\",\"width\":2},\"mode\":\"lines\",\"name\":\"2025-08-23 10:00:00 (2d)\",\"x\":{\"dtype\":\"f8\",\"bdata\":\"AAAAAADh+UANWnY8p+b5QBq07HhO7PlAJw5jtfXx+UAzaNnxnPf5QEDCTy5E\\u002fflATRzGausC+kBadjynkgj6QGfQsuM5DvpAdCopIOET+kCBhJ9ciBn6QI7eFZkvH\\u002fpAmjiM1dYk+kCnkgISfir6QLTseE4lMPpAwUbvisw1+kDOoGXHczv6QNv62wMbQfpA6FRSQMJG+kD0rsh8aUz6QAEJP7kQUvpADmO19bdX+kAbvSsyX136QCgXom4GY\\u002fpANXEYq61o+kBCy47nVG76QE4lBST8c\\u002fpAW397YKN5+kBo2fGcSn\\u002f6QHUzaNnxhPpAgo3eFZmK+kCP51RSQJD6QJxBy47nlfpAqZtBy46b+kC19bcHNqH6QMJPLkTdpvpAz6mkgISs+kDcAxu9K7L6QOldkfnSt\\u002fpA9rcHNnq9+kADEn5yIcP6QA9s9K7IyPpAHMZq62\\u002fO+kApIOEnF9T6QDZ6V2S+2fpAQ9TNoGXf+kBQLkTdDOX6QF2Iuhm06vpAauIwVlvw+kB2PKeSAvb6QIOWHc+p+\\u002fpAkPCTC1EB+0CdSgpI+Ab7QKqkgISfDPtAt\\u002f72wEYS+0DEWG397Rf7QNCy4zmVHftA3Qxadjwj+0DqZtCy4yj7QPfARu+KLvtABBu9KzI0+0ARdTNo2Tn7QB7PqaSAP\\u002ftAKikg4SdF+0A3g5Ydz0r7QETdDFp2UPtAUTeDlh1W+0BekfnSxFv7QGvrbw9sYftAeEXmSxNn+0CEn1yIumz7QJH50sRhcvtAnlNJAQl4+0Crrb89sH37QLgHNnpXg\\u002ftAxWGstv6I+0DSuyLzpY77QN8VmS9NlPtA628PbPSZ+0D4yYWom5\\u002f7QAUk\\u002fORCpftAEn5yIeqq+0Af2OhdkbD7QCwyX5o4tvtAOYzV1t+7+0BF5ksTh8H7QFJAwk8ux\\u002ftAX5o4jNXM+0Bs9K7IfNL7QHlOJQUk2PtAhqibQcvd+0CTAhJ+cuP7QKBciLoZ6ftArLb+9sDu+0C5EHUzaPT7QMZq628P+vtA08RhrLb\\u002f+0DgHtjoXQX8QO14TiUFC\\u002fxA+tLEYawQ\\u002fEAGLTueUxb8QBOHsdr6G\\u002fxAIOEnF6Ih\\u002fEAtO55TSSf8QDqVFJDwLPxAR++KzJcy\\u002fEBUSQEJPzj8QGCjd0XmPfxAbf3tgY1D\\u002fEB6V2S+NEn8QIex2vrbTvxAlAtRN4NU\\u002fEChZcdzKlr8QK6\\u002fPbDRX\\u002fxAuhm07Hhl\\u002fEDHcyopIGv8QNTNoGXHcPxA4ScXom52\\u002fEDugY3eFXz8QPvbAxu9gfxACDZ6V2SH\\u002fEAVkPCTC438QCLqZtCykvxALkTdDFqY\\u002fEA7nlNJAZ78QEj4yYWoo\\u002fxAVVJAwk+p\\u002fEBirLb+9q78QG8GLTuetPxAfGCjd0W6\\u002fECIuhm07L\\u002f8QJUUkPCTxfxAom4GLTvL\\u002fECvyHxp4tD8QLwi86WJ1vxAyXxp4jDc\\u002fEDW1t8e2OH8QOIwVlt\\u002f5\\u002fxA74rMlybt\\u002fED85ELUzfL8QAk\\u002fuRB1+PxAFpkvTRz+\\u002fEAj86WJwwP9QDBNHMZqCf1APKeSAhIP\\u002fUBJAQk\\u002fuRT9QFZbf3tgGv1AY7X1twcg\\u002fUBwD2z0riX9QH1p4jBWK\\u002f1AisNYbf0w\\u002fUCWHc+ppDb9QKN3ReZLPP1AsNG7IvNB\\u002fUC9KzJfmkf9QMqFqJtBTf1A198e2OhS\\u002fUDkOZUUkFj9QPCTC1E3Xv1A\\u002fe2Bjd5j\\u002fUAKSPjJhWn9QBeibgYtb\\u002f1AJPzkQtR0\\u002fUAxVlt\\u002fe3r9QD6w0bsigP1ASwpI+MmF\\u002fUBYZL40cYv9QGS+NHEYkf1AcRirrb+W\\u002fUB+ciHqZpz9QIvMlyYOov1AmCYOY7Wn\\u002fUClgISfXK39QLLa+tsDs\\u002f1AvjRxGKu4\\u002fUDLjudUUr79QNjoXZH5w\\u002f1A5ULUzaDJ\\u002fUDynEoKSM\\u002f9QP\\u002f2wEbv1P1ADFE3g5ba\\u002fUAYq62\\u002fPeD9QCUFJPzk5f1AMl+aOIzr\\u002fUA\\u002fuRB1M\\u002fH9QEwTh7Ha9v1AWW397YH8\\u002fUBmx3MqKQL+QHIh6mbQB\\u002f5Af3tgo3cN\\u002fkCM1dbfHhP+QJkvTRzGGP5AponDWG0e\\u002fkCz4zmVFCT+QMA9sNG7Kf5AzJcmDmMv\\u002fkDa8ZxKCjX+QOZLE4exOv5A86WJw1hA\\u002fkAAAAAAAEb+QA==\"},\"y\":{\"dtype\":\"f8\",\"bdata\":\"AAAAAAAAAAAAAAAAAAAAAAAAAAAAAAAAAAAAAAAAAAAAAAAAAAAAAAAAAAAAAAAAAAAAAAAAAAAAAAAAAAAAAAAAAAAAAAAAAAAAAAAAAAAAAAAAAAAAAAAAAAAAAAAAAAAAAAAAAAAAAAAAAAAAAAAAAAAAAAAAAAAAAAAAAAAAAAAAAAAAAAAAAAAAAAAAAAAAAAAAAAAAAAAAAAAAAAAAAAAAAAAAAAAAAAAAAAAAAAAAAAAAAAAAAAAAAAAAAAAAAAAAAAAAAAAAAAAAAAAAAAAAAAAA+yIVHZJ+gj4gPlxFS2zkPoyGG4DUUvQ+t6d3xhNx\\u002fj4+wMsmAlwEP+wps26QSgk\\u002f9+os+1ITDz+UNxPCkrQMP9FGVMy33Ag\\u002fgGXEcjVhBT94aj4RuMgBPwrSQldyZ\\u002fw+H9IhDWYz9T5I2k\\u002fNV\\u002fHrPqpvpoId7No+AAAAAAAAAAAAAAAAAAAAAAAAAAAAAAAAAAAAAAAAAAAAAAAAAAAAAAAAAAAAAAAAAAAAAAAAAAAAAAAAAAAAAAAAAAAAAAAAAAAAAAAAAAAAAAAAAAAAAAAAAAAAAAAAAAAAAAAAAAAAAAAAAAAAAAAAAAAAAAAAISBkloda4j499Dc+4sn6Pl11zX+daQY\\u002fiJXqP0xpDz+f\\u002f3eANjkUP8o6P62wwhg\\u002f9fl42GNIHT8uR4crCPYgP7+ujS06FyM\\u002fMGfWBB70JT\\u002fS+eVK2nQkP5xsc9Zm4SA\\u002fpuDNy7OTGz\\u002fOeAlt0BsVP+\\u002fa8uZYYg0\\u002fpg0iWrV7AD\\u002fosiDKuVDcPgAAAAAAAAAAAAAAAAAAAAAAAAAAAAAAAAAAAAAAAAAAAAAAAAAAAAAAAAAAAAAAAAAAAAAAAAAAb95bOenC2j5NIfsDiR4DP7GSfR6FfBE\\u002frrJKRWhtGT\\u002fNgefn2asgPwwQtHT5syQ\\u002fdX9isI55KD+1N0lWLTotP3V5OCEzBS0\\u002fNfqueiToKD8jWmIJ16UlP9hPGMjZJiI\\u002fL2q6KKpsHT+GMBanfYEWP07UCPyHKQ8\\u002fjRSUrWZbAT+vgw6CtZPaPgAAAAAAAAAAAAAAAAAAAAAAAAAAAAAAAAAAAAAAAAAAAAAAAAAAAABst+X8gaHqPtNLvDgAawE\\u002fuKz2XxI7DD92hg6sNIQTP3oB\\u002fOrK5Bg\\u002f8bmhl7NYHj+V0Z56z74hP1C8hkfj4CQ\\u002fe+Hxo0R0JT83eVBq7cciP\\u002f94OG7JvyA\\u002frTtPK4AXHT\\u002faaN\\u002facccYPxKlQ+AachQ\\u002f\\u002fCYQErQdED+j8k7YvZ4HP2Y2rDH6s\\u002f0+gHXDELjT6j4AAAAAAAAAAAAAAAAAAAAAJvfEu5AU9z5gj1MgG0oIP1zkRBkO6RI\\u002fpbsg6u+PGT9gm5zWxB0gPxrq3RX1ciM\\u002fz1fqos\\u002fCJj9P7BYxvCMqPxXHNjieQS0\\u002f6jdYkKyrMD\\u002fUCFJhMq8wP3Ogo9SK2Cg\\u002fzxL0AKvBIT+dCXDb0JMUP5BlwaslbPc+AAAAAAAAAAAAAAAAAAAAAAAAAAAAAAAAAAAAAAAAAAAAAAAAAAAAAAAAAAAAAAAAAAAAAAAAAAAAAAAAAAAAAAAAAAAAAAAAAAAAAAAAAAAAAAAAAAAAAAAAAAAAAAAAAAAAAAAAAAAAAAAAAAAAAAAAAAAAAAAAvvmOkg3Goj7JLktS6yYFP571NrM+zxI\\u002f1TzVtr+vEj+1Jfwu0p4TP9673OtiRBQ\\u002f6EyT0zv9FD+i2d5NjLAVP49Gy\\u002fEHZRY\\u002fzBjTnfEYFz83XZg20MwXPz+XhUCQgBg\\u002fK2HCgEg0GT+cpXVCBegZPzwqJ1TWmxo\\u002ff2CpVstPGz\\u002f8X6TW8wMcP73VNfphuBw\\u002fOKB2Kh9tHT86H+8IViIeP0jfEji11x4\\u002f5lB9c7mOHz+fOJjiECEgP0Y+SbbpgiA\\u002fFtPSqM\\u002fGID8+8n6EeOwfPyvhh8KddB4\\u002feBOrFYHyHD967z4MA3QbP7JmcUNK9Rk\\u002fijP8pD53GD+kZW9zg\\u002fkWP6Mf1bsUfBU\\u002fge45pdj+Ez9Ikp5AvYESP+iiq52wBBE\\u002fMt96mEUPDz\\u002ftWYc8DBUMP4sw4dGXGgk\\u002fANjYduIfBj\\u002fKSiQaniQDPzhaFjiZKQA\\u002fD682KRVX+j6rWbKz+Wz0PlnlVbFNdew+phtgHish4j4HSF594SGAPQ==\"},\"type\":\"scatter\"},{\"hovertemplate\":\"Strike: $%{x:,.0f}\\u003cbr\\u003eDensity: %{y:.6f}\\u003cextra\\u003e\\u003c\\u002fextra\\u003e\",\"line\":{\"color\":\"rgba(62,73,137,0.8)\",\"width\":2},\"mode\":\"lines\",\"name\":\"2025-08-24 10:00:00 (3d)\",\"x\":{\"dtype\":\"f8\",\"bdata\":\"AAAAAABk+UANWnY8p2n5QBq07HhOb\\u002flAJw5jtfV0+UAzaNnxnHr5QEDCTy5EgPlATRzGauuF+UBadjynkov5QGfQsuM5kflAdCopIOGW+UCBhJ9ciJz5QI7eFZkvovlAmjiM1dan+UCnkgISfq35QLTseE4ls\\u002flAwUbvisy4+UDOoGXHc775QNv62wMbxPlA6FRSQMLJ+UD0rsh8ac\\u002f5QAEJP7kQ1flADmO19bfa+UAbvSsyX+D5QCgXom4G5vlANXEYq63r+UBCy47nVPH5QE4lBST89vlAW397YKP8+UBo2fGcSgL6QHUzaNnxB\\u002fpAgo3eFZkN+kCP51RSQBP6QJxBy47nGPpAqZtBy44e+kC19bcHNiT6QMJPLkTdKfpAz6mkgIQv+kDcAxu9KzX6QOldkfnSOvpA9rcHNnpA+kADEn5yIUb6QA9s9K7IS\\u002fpAHMZq629R+kApIOEnF1f6QDZ6V2S+XPpAQ9TNoGVi+kBQLkTdDGj6QF2Iuhm0bfpAauIwVltz+kB2PKeSAnn6QIOWHc+pfvpAkPCTC1GE+kCdSgpI+In6QKqkgISfj\\u002fpAt\\u002f72wEaV+kDEWG397Zr6QNCy4zmVoPpA3Qxadjym+kDqZtCy46v6QPfARu+KsfpABBu9KzK3+kARdTNo2bz6QB7PqaSAwvpAKikg4SfI+kA3g5Ydz836QETdDFp20\\u002fpAUTeDlh3Z+kBekfnSxN76QGvrbw9s5PpAeEXmSxPq+kCEn1yIuu\\u002f6QJH50sRh9fpAnlNJAQn7+kCrrb89sAD7QLgHNnpXBvtAxWGstv4L+0DSuyLzpRH7QN8VmS9NF\\u002ftA628PbPQc+0D4yYWomyL7QAUk\\u002fORCKPtAEn5yIeot+0Af2OhdkTP7QCwyX5o4OftAOYzV1t8++0BF5ksTh0T7QFJAwk8uSvtAX5o4jNVP+0Bs9K7IfFX7QHlOJQUkW\\u002ftAhqibQctg+0CTAhJ+cmb7QKBciLoZbPtArLb+9sBx+0C5EHUzaHf7QMZq628PfftA08RhrLaC+0DgHtjoXYj7QO14TiUFjvtA+tLEYayT+0AGLTueU5n7QBOHsdr6nvtAIOEnF6Kk+0AtO55TSar7QDqVFJDwr\\u002ftAR++KzJe1+0BUSQEJP7v7QGCjd0XmwPtAbf3tgY3G+0B6V2S+NMz7QIex2vrb0ftAlAtRN4PX+0ChZcdzKt37QK6\\u002fPbDR4vtAuhm07Hjo+0DHcyopIO77QNTNoGXH8\\u002ftA4ScXom75+0DugY3eFf\\u002f7QPvbAxu9BPxACDZ6V2QK\\u002fEAVkPCTCxD8QCLqZtCyFfxALkTdDFob\\u002fEA7nlNJASH8QEj4yYWoJvxAVVJAwk8s\\u002fEBirLb+9jH8QG8GLTueN\\u002fxAfGCjd0U9\\u002fECIuhm07EL8QJUUkPCTSPxAom4GLTtO\\u002fECvyHxp4lP8QLwi86WJWfxAyXxp4jBf\\u002fEDW1t8e2GT8QOIwVlt\\u002favxA74rMlyZw\\u002fED85ELUzXX8QAk\\u002fuRB1e\\u002fxAFpkvTRyB\\u002fEAj86WJw4b8QDBNHMZqjPxAPKeSAhKS\\u002fEBJAQk\\u002fuZf8QFZbf3tgnfxAY7X1twej\\u002fEBwD2z0rqj8QH1p4jBWrvxAisNYbf2z\\u002fECWHc+ppLn8QKN3ReZLv\\u002fxAsNG7IvPE\\u002fEC9KzJfmsr8QMqFqJtB0PxA198e2OjV\\u002fEDkOZUUkNv8QPCTC1E34fxA\\u002fe2Bjd7m\\u002fEAKSPjJhez8QBeibgYt8vxAJPzkQtT3\\u002fEAxVlt\\u002fe\\u002f38QD6w0bsiA\\u002f1ASwpI+MkI\\u002fUBYZL40cQ79QGS+NHEYFP1AcRirrb8Z\\u002fUB+ciHqZh\\u002f9QIvMlyYOJf1AmCYOY7Uq\\u002fUClgISfXDD9QLLa+tsDNv1AvjRxGKs7\\u002fUDLjudUUkH9QNjoXZH5Rv1A5ULUzaBM\\u002fUDynEoKSFL9QP\\u002f2wEbvV\\u002f1ADFE3g5Zd\\u002fUAYq62\\u002fPWP9QCUFJPzkaP1AMl+aOIxu\\u002fUA\\u002fuRB1M3T9QEwTh7Haef1AWW397YF\\u002f\\u002fUBmx3MqKYX9QHIh6mbQiv1Af3tgo3eQ\\u002fUCM1dbfHpb9QJkvTRzGm\\u002f1AponDWG2h\\u002fUCz4zmVFKf9QMA9sNG7rP1AzJcmDmOy\\u002fUDa8ZxKCrj9QOZLE4exvf1A86WJw1jD\\u002fUAAAAAAAMn9QA==\"},\"y\":{\"dtype\":\"f8\",\"bdata\":\"AAAAAAAAAAAAAAAAAAAAAAAAAAAAAAAAAAAAAAAAAAAAAAAAAAAAAAAAAAAAAAAAAAAAAAAAAAAAAAAAAAAAAAAAAAAAAAAAAAAAAAAAAAAAAAAAAAAAAAAAAAAAAAAAAAAAAAAAAAAAAAAAAAAAAAAAAAAAAAAAAAAAAAAAAAAAAAAAAAAAAAAAAAAAAAAAAAAAAAAAAAAAAAAAAAAAAAAAAAAAAAAAAAAAAAAAAAAAAAAAAAAAAAAAAAAAAAAAAAAAAAAAAAAAAAAAAAAAAAAAAAAAAAAAAAAAAAAAAAAAAAAAAAAAAHgDs9K3kqA+rqkgEbHmvD7fsRz3zc\\u002fIPm0Dok4ZndE+cNONmk\\u002fZ1j6XwvzHmBzcPvSKKlSBs+A+EXCV401c4z50jZSGuQjmPiZqf7HJuOg+S2Sl2Its6z5zZI3N7SPuPhYQi1Oqb\\u002fA+shJ\\u002f7bLO8T7Iff6xpzHzPhqZU9n6jvQ+Td9Z2agp9j4k6SUNCNb3PsnOYiu5gPk+1g0x6bAu+z65QhoCm978PmjhJ0fgkP4+1Ls4\\u002f50iAD\\u002fbiVx8Lv4AP4jRgzPp2QE\\u002fMTivK1m6Aj+jPFwNnY4DP+jpsobDvQQ\\u002fxoyz3ZMOBj\\u002ftroYvD1kHPyyQt1oxpwg\\u002fD+GtSlr2CT\\u002fRGTwW+0YLP28trxnamQw\\u002fkz6\\u002f2FHrDT8upaN\\u002fE0kPP9ZDO0TuPxA\\u002f3aOCtR8nET8sHACgokwQPxk1WpFUNg0\\u002fu9QKfhQ2Cj9kDTn+TxcHP7HorG6O\\u002fAM\\u002f9w\\u002fH4z3dAD8CfNdd3HL7PoRCaTGbM\\u002fU+ba3JEO1v7T6mhzYT\\u002fQTiPgMa7FNrRJQ+mYcQ23so3z7bqxSZz0L5Pp4DK0H9PwQ\\u002fbEBPGIY0DD+TBO\\u002f4ow0SP4fX3vzVBhY\\u002fb3TzUxQEGj\\u002fAQLun2v4dP1GQUBEDCSE\\u002fwgRAecvrIj9a+oaBZ2UlP+Este066iQ\\u002fwvlmpDYZIj+w18Hl75IfP0QCWSl9qBo\\u002fvYOXDKTMFT+AjpUVTugQP9MtJgBM\\u002fwc\\u002f1NIz7TFq\\u002fD4TAP5n4rbgPgAAAAAAAAAAAAAAAAAAAAAAAAAAAAAAAPJPzVDt37o+J253MrIx\\u002fD7zE197qy4MP\\u002fKeDXnjCRU\\u002ffAeF9soFHD9MJk4d4YEhP1PnepYm\\u002fiQ\\u002f94bmY8yIKD\\u002fV3lgAo98rP58sDORv+C8\\u002fN7OrOWpRMD8FfAWZo+4sP+N7Xt71FCo\\u002feJMmM4T+Jj9jnrtHh\\u002fYjPwT34ZtC6SA\\u002f8WridIm3Gz\\u002fv0DsCwZ0VP\\u002fe3PSIc7g4\\u002fMm63GZn5Aj8oxwCKuNLmPgAAAAAAAAAAAAAAAAAAAAAAAAAAAAAAANw48LXmqaE+M9UArPp7sz7hVhd\\u002fND6\\u002fPq5jJkTeTsU+4e5Y51BHyz4H2mUKei7QPkrdzh+yYNQ+yrsqTN5s0j6z1HSP2hvlPrKao4YvDv4+GObt07+hBz8UYJ3vB0MQP0slMMhWqBQ\\u002f3vpA77INGT8uvv0zo28dP+FCyO\\u002fc5iA\\u002fYy0UNPEVIz9iUfGn4zwlPzBFU2L3eSc\\u002f\\u002fOjKHgdUKT\\u002fH48uoRh0qP1bPK8+7DSs\\u002fUXaz\\u002flzyKz\\u002fsodBHAdksP5szBOf0vS0\\u002feBF6hqeiLj8FvjC5loUvPxJM1n\\u002f6NTA\\u002fTO5HJJGhMD\\u002frhq9njigxP9E\\u002f9iQLQjE\\u002fTSHv5vtwLz9CM6ivL8osP6TWi6x8CCo\\u002fLMsnFD5QJz+RJZ1tnJckPxuTy3cf4SE\\u002fh6HSbPtXHj+YiPxJo\\u002fAYP9JAhwH0ixM\\u002fVQNpvp5TDD+ZsJTdJZQBP4bjkFQjZes+AAAAAAAAAAAAAAAAAAAAAAAAAAAAAAAAAAAAAAAAAAAAAAAAAAAAAAAAAAAAAAAAAAAAAAAAAAAAAAAAAAAAAAAAAAAAAAAAAAAAAAAAAAAAAAAAAAAAAAAAAAAAAAAAAAAAAAAAAAAAAAAAAAAAAAAAAAAAAAAAAAAAAAAAAAAAAAAAAAAAAAAAAAAAAAAAAAAAAAAAAAAAAAAAAAAAAAAAAAAAAAAAAAAAAAAAAAAAAAAAAAAAAAAAAAAAAAAAAAAAAAAAAAAAAAAAAAAAAAAAAAAAAAAAAAAAAAAAAAAAAAAAAAAAAAAAAAAAAAAAuc6U8V2vuz6NIJy3uUV3PQ==\"},\"type\":\"scatter\"},{\"hovertemplate\":\"Strike: $%{x:,.0f}\\u003cbr\\u003eDensity: %{y:.6f}\\u003cextra\\u003e\\u003c\\u002fextra\\u003e\",\"line\":{\"color\":\"rgba(48,103,141,0.8)\",\"width\":2},\"mode\":\"lines\",\"name\":\"2025-08-25 10:00:00 (4d)\",\"x\":{\"dtype\":\"f8\",\"bdata\":\"AAAAAADh+UAoF6JuBub5QFAuRN0M6\\u002flAeEXmSxPw+UCgXIi6GfX5QMdzKikg+vlA74rMlyb\\u002f+UAXom4GLQT6QD+5EHUzCfpAZ9Cy4zkO+kCP51RSQBP6QLf+9sBGGPpA3xWZL00d+kAGLTueUyL6QC5E3QxaJ\\u002fpAVlt\\u002fe2As+kB+ciHqZjH6QKaJw1htNvpAzqBlx3M7+kD2twc2ekD6QB7PqaSARfpAReZLE4dK+kBt\\u002fe2BjU\\u002f6QJUUkPCTVPpAvSsyX5pZ+kDlQtTNoF76QA1adjynY\\u002fpANXEYq61o+kBdiLoZtG36QIWfXIi6cvpArLb+9sB3+kDUzaBlx3z6QPzkQtTNgfpAJPzkQtSG+kBME4ex2ov6QHQqKSDhkPpAnEHLjueV+kDEWG397Zr6QOtvD2z0n\\u002fpAE4ex2vqk+kA7nlNJAar6QGO19bcHr\\u002fpAi8yXJg60+kCz4zmVFLn6QNv62wMbvvpAAxJ+ciHD+kAqKSDhJ8j6QFJAwk8uzfpAeldkvjTS+kCibgYtO9f6QMqFqJtB3PpA8pxKCkjh+kAatOx4Tub6QELLjudU6\\u002fpAauIwVlvw+kCR+dLEYfX6QLkQdTNo+vpA4ScXom7\\u002f+kAJP7kQdQT7QDFWW397CftAWW397YEO+0CBhJ9ciBP7QKmbQcuOGPtA0LLjOZUd+0D4yYWomyL7QCDhJxeiJ\\u002ftASPjJhags+0BwD2z0rjH7QJgmDmO1NvtAwD2w0bs7+0DoVFJAwkD7QBBs9K7IRftAN4OWHc9K+0BfmjiM1U\\u002f7QIex2vrbVPtAr8h8aeJZ+0DX3x7Y6F77QP\\u002f2wEbvY\\u002ftAJw5jtfVo+0BOJQUk\\u002fG37QHY8p5ICc\\u002ftAnlNJAQl4+0DGautvD337QO6Bjd4VgvtAFpkvTRyH+0A+sNG7Ioz7QGbHcyopkftAjt4VmS+W+0C19bcHNpv7QN0MWnY8oPtABST85EKl+0AtO55TSar7QFVSQMJPr\\u002ftAfWniMFa0+0ClgISfXLn7QM2XJg5jvvtA9K7IfGnD+0Acxmrrb8j7QETdDFp2zftAbPSuyHzS+0CUC1E3g9f7QLwi86WJ3PtA5DmVFJDh+0AMUTeDlub7QDRo2fGc6\\u002ftAW397YKPw+0CDlh3PqfX7QKutvz2w+vtA08RhrLb\\u002f+0D72wMbvQT8QCPzpYnDCfxASwpI+MkO\\u002fEByIepm0BP8QJo4jNXWGPxAwk8uRN0d\\u002fEDqZtCy4yL8QBJ+ciHqJ\\u002fxAOpUUkPAs\\u002fEBirLb+9jH8QIrDWG39NvxAstr62wM8\\u002fEDa8ZxKCkH8QAEJP7kQRvxAKSDhJxdL\\u002fEBRN4OWHVD8QHlOJQUkVfxAoWXHcypa\\u002fEDJfGniMF\\u002f8QPGTC1E3ZPxAGKutvz1p\\u002fEBAwk8uRG78QGjZ8ZxKc\\u002fxAkPCTC1F4\\u002fEC4BzZ6V338QOAe2OhdgvxACDZ6V2SH\\u002fEAwTRzGaoz8QFhkvjRxkfxAf3tgo3eW\\u002fECnkgISfpv8QM+ppICEoPxA98BG74ql\\u002fEAf2Ohdkar8QEfvisyXr\\u002fxAbwYtO560\\u002fECXHc+ppLn8QL40cRirvvxA5ksTh7HD\\u002fEAOY7X1t8j8QDZ6V2S+zfxAXpH50sTS\\u002fECGqJtBy9f8QK6\\u002fPbDR3PxA1tbfHtjh\\u002fED+7YGN3ub8QCUFJPzk6\\u002fxATRzGauvw\\u002fEB1M2jZ8fX8QJ1KCkj4+vxAxWGstv7\\u002f\\u002fEDteE4lBQX9QBWQ8JMLCv1APKeSAhIP\\u002fUBkvjRxGBT9QIzV1t8eGf1AtOx4TiUe\\u002fUDcAxu9KyP9QAQbvSsyKP1ALDJfmjgt\\u002fUBUSQEJPzL9QHxgo3dFN\\u002f1ApHdF5ks8\\u002fUDLjudUUkH9QPOlicNYRv1AG70rMl9L\\u002fUBD1M2gZVD9QGvrbw9sVf1AkwISfnJa\\u002fUC7GbTseF\\u002f9QOIwVlt\\u002fZP1ACkj4yYVp\\u002fUAyX5o4jG79QFp2PKeSc\\u002f1Ago3eFZl4\\u002fUCqpICEn339QNK7IvOlgv1A+tLEYayH\\u002fUAi6mbQsoz9QEkBCT+5kf1AcRirrb+W\\u002fUCZL00cxpv9QMFG74rMoP1A6V2R+dKl\\u002fUARdTNo2ar9QDmM1dbfr\\u002f1AYaN3Rea0\\u002fUCIuhm07Ln9QLDRuyLzvv1A2OhdkfnD\\u002fUAAAAAAAMn9QA==\"},\"y\":{\"dtype\":\"f8\",\"bdata\":\"AAAAAAAAAABhOYJERP\\u002fGPnu\\u002friqjWtM+EE7TMII63D5X4KXuv3DiPg0wc2Jo0uY+vG5ZI9o26z4I03pQK6HvPh64schICPI+wMYrqaZC9D5CBd5pq3\\u002f2Pr5K\\u002fgRdv\\u002fg+LS5RW74B+z5JlPpo00b9PhVkG9Wfjv8++u8QMpPsAD+\\u002focJsNRMCPzluUig3OwM\\u002f4l8VGZ1kBD+3wahJXI8FP7KG0UaiuwY\\u002fv0TpvsnoBz9nuRx1PxkJP7vA\\u002fir5Qwo\\u002fiqmblrOKCz\\u002fpM\\u002f6YW2sMP4s7vO1oEwo\\u002fPtCXHTj7Bz87kst2yc4FPwiJCEPupAM\\u002fpKR9z4t3AT+fP3aRdpD+PtOhq+JvLfo+vmwuoArF9T496DOB0FvxPgRcgbhuwek+YCc8xB4n4T7RzfD9ezrMPoj8hu6QPMg+HxVzQgP20T6sekSadfHVPryqTKzkdNo+793P2zfc3j585wZUqKnhPnv7hVlu5+M+5\\u002fs37S8o5j4nmzTNmW7oPk2xPkM\\u002fr+o+aUfU0y4V7T6+z\\u002fljsP\\u002fuPnY5i+SudfE+bA08Or+t9j5Skv8pIXn7PlZCZF45NAA\\u002f547rYlOqAj9CXHdVDiQFP1x5HkT7nwc\\u002fbBkF\\u002fmkeCj88wH1AR58MP6Fx4alHIg8\\u002fEl\\u002fU\\u002fS3UED+QRa2W2hYSPznGvKEQYBM\\u002fZ1L9G1Z5FD9QW9KgPokVPzvRhmGGnBY\\u002fRhThzduvFz9Y7Da9EcQYP3PKPwbs2Bk\\u002fF7L0nkHuGj\\u002fXJRbMpwQcP0ARrW6iGR0\\u002f1xnzazg2Hj\\u002fS6179cDgfP5BswY1XTyA\\u002f8f2gBiAsID9tbVZZRigdPz8op1aseho\\u002fpPqYb+emFz8dWwORYtoUPwQPG+AXCRI\\u002fYnfWX7NsDj+sqIF0KMMIPxVpP6P6FAM\\u002fdIxDTEzO+j4RzdsxiJ\\u002fuPu1\\u002fkXjQ19A+AAAAAAAAAABcf2xecuPqPskbBnE+qwI\\u002fmKKB+7BhDj9G2yJKMhcVP\\u002falAyIz\\u002fRo\\u002fE0LkcNNyID8UPhhiYGcjP4Fx3nReXSY\\u002fe+SH+RxQKT9DC9MbGlAsP502wB\\u002fhHi8\\u002fMFerwhpSMT+cEpw+WmAxPxoMBo5Scy8\\u002fj+W3MTTbLD\\u002fRtYUomxAqPyfIk6DyUSc\\u002fs0NTpreOJD9gt080lcshP73viAPWDh4\\u002fGNj5ziqGGD\\u002f3Sn8qjfoSP7T4KGxm7Qo\\u002fKwipuWtR\\u002fz4c2GgH1UvlPgZd4N73IvY+8JMDh2cdAD9i9N1u9FkFP4QC5nr2hwo\\u002f2F5DvfW3Dz9yg7HpmnISP+HDaCUwCBU\\u002fYbyOv+qcFz9i5Ify4C4aP7BxN5C9xBw\\u002f\\u002fR6ob\\u002fxEHz+7PXpHAgchP6YTQKpwmiE\\u002fclvidDK1IT9AbjuzXushP\\u002fp8SEaLGSI\\u002fz95w+jlJIj9KVCbU43ciPyZycJozpiI\\u002f1tjeFhjUIj8atr+OQAEjPwBocn4YLyM\\u002fd47HUlxYIz9TQbZQyZAjP7QSPl6iiyM\\u002ftn5S1XtgIj++bU34elYhP5znjXP\\u002fQyA\\u002fgJGoMKloHj+EN5rB\\u002fkgcP2IZKqGlKho\\u002fhBSLe1YNGD9EmX\\u002ft2fAVP1teaRSe1hM\\u002fUiwkkGO5ET9VFVPj6VkPPym\\u002f4CwP0Ao\\u002fcgJU\\u002fdSQCT+AhO9DNVQJP6ArIGuz1wg\\u002fqJzbtL9sCD\\u002fTHaSXif0HPzDBax\\u002ftjwc\\u002f\\u002fMQ\\u002fgFsiBz+ljVTBQrUGP6mS+BGISAY\\u002f2nvuNjXcBT8PjPLFSXAFPzkKbdnHBAU\\u002fHVhUvrCZBD81rXOzBS8EP2fYqKnHxAM\\u002flqjRkfdaAz9ergkdlvECP8MlFuCjiAI\\u002fFnXnfSEgAj+\\u002fH\\u002fl2DrgBP+B5UxZuUAE\\u002f3D14tTTpAD+bqtwijoIAP2EMJ3bWGwA\\u002fZTu\\u002fXdBu\\u002fz7chtqJv3j+PgzDmV\\u002feff0+ZRab0HWF\\u002fD5bfcYIoI37Phi1yUTdlvo+JQyyGQmh+T6EUMHVKqz4Pk7M+OA9uPc+UV4h2UDF9j4r7PpcMdP1PjExGv0M4vQ+lGeVdNHx8z5fINZFfALzPg\\u002fAHToLFPI+UOXD1Xkm8T7CQ8oFzTnwPgiyi+zLm+4+AXdSwFbG7D5PVGT3IvDqPppWIkShJOk+Yv7AUgY55z7eFPEz78zlPj0q6TSSjOI+EAERLVsn5j6K7GyTVFZsPQ==\"},\"type\":\"scatter\"},{\"hovertemplate\":\"Strike: $%{x:,.0f}\\u003cbr\\u003eDensity: %{y:.6f}\\u003cextra\\u003e\\u003c\\u002fextra\\u003e\",\"line\":{\"color\":\"rgba(37,130,142,0.8)\",\"width\":2},\"mode\":\"lines\",\"name\":\"2025-08-29 10:00:00 (8d)\",\"x\":{\"dtype\":\"f8\",\"bdata\":\"AAAAAACI40AsMl+aOObjQFdkvjRxRORAg5Ydz6mi5ECvyHxp4gDlQNv62wMbX+VABi07nlO95UAyX5o4jBvmQF6R+dLEeeZAisNYbf3X5kC19bcHNjbnQOEnF6JulOdADVp2PKfy50A4jNXW31DoQGS+NHEYr+hAkPCTC1EN6UC8IvOliWvpQOhUUkDCyelAE4ex2von6kA\\u002fuRB1M4bqQGvrbw9s5OpAlh3PqaRC60DCTy5E3aDrQO6Bjd4V\\u002f+tAGrTseE5d7EBG5ksTh7vsQHEYq62\\u002fGe1AnUoKSPh37UDIfGniMNbtQPSuyHxpNO5AIOEnF6KS7kBME4ex2vDuQHhF5ksTT+9Ao3dF5kut70DoVFJAwgXwQP3tgY3eNPBAE4ex2vpj8EApIOEnF5PwQD+5EHUzwvBAVVJAwk\\u002fx8EBr628PbCDxQICEn1yIT\\u002fFAlh3PqaR+8UCstv72wK3xQMJPLkTd3PFA2OhdkfkL8kDugY3eFTvyQAQbvSsyavJAGrTseE6Z8kAwTRzGasjyQEbmSxOH9\\u002fJAW397YKMm80BxGKutv1XzQIex2vrbhPNAnUoKSPiz80Cy4zmVFOPzQMh8aeIwEvRA3hWZL01B9ED0rsh8aXD0QApI+MmFn\\u002fRAIOEnF6LO9EA2eldkvv30QEwTh7HaLPVAYqy2\\u002fvZb9UB4ReZLE4v1QI7eFZkvuvVAo3dF5kvp9UC5EHUzaBj2QM+ppICER\\u002fZA5ULUzaB29kD62wMbvaX2QBB1M2jZ1PZAJg5jtfUD90A8p5ICEjP3QFJAwk8uYvdAaNnxnEqR90B+ciHqZsD3QJQLUTeD7\\u002fdAqqSAhJ8e+EDAPbDRu034QNbW3x7YfPhA628PbPSr+EABCT+5ENv4QBeibgYtCvlALTueU0k5+UBC1M2gZWj5QFht\\u002fe2Bl\\u002flAbgYtO57G+UCEn1yIuvX5QJo4jNXWJPpAsNG7IvNT+kDGautvD4P6QNwDG70rsvpA8pxKCkjh+kAINnpXZBD7QB3PqaSAP\\u002ftAM2jZ8Zxu+0BJAQk\\u002fuZ37QF+aOIzVzPtAdTNo2fH7+0CLzJcmDiv8QKFlx3MqWvxAtv72wEaJ\\u002fEDMlyYOY7j8QOIwVlt\\u002f5\\u002fxA+MmFqJsW\\u002fUAOY7X1t0X9QCT85ELUdP1AOpUUkPCj\\u002fUBQLkTdDNP9QGXHcyopAv5Ae2Cjd0Ux\\u002fkCR+dLEYWD+QKeSAhJ+j\\u002f5AvSsyX5q+\\u002fkDTxGGstu3+QOldkfnSHP9A\\u002fvbARu9L\\u002f0AUkPCTC3v\\u002fQCopIOEnqv9AQMJPLkTZ\\u002f0Crrb89MAQAQTZ6V2S+GwBBwUbvikwzAEFME4ex2koAQdbfHthoYgBBYqy2\\u002fvZ5AEHseE4lhZEAQXhF5ksTqQBBAhJ+cqHAAEGO3hWZL9gAQRirrb+97wBBo3dF5ksHAUEuRN0M2h4BQbkQdTNoNgFBRN0MWvZNAUHPqaSAhGUBQVp2PKcSfQFB5ULUzaCUAUFwD2z0LqwBQfrbAxu9wwFBhqibQUvbAUEQdTNo2fIBQZxBy45nCgJBJg5jtfUhAkGy2vrbgzkCQQ==\"},\"y\":{\"dtype\":\"f8\",\"bdata\":\"AAAAAAAAAAAAAAAAAAAAAL6mrUFMIoI+0sLHgk\\u002fhnz60ogX6D9auPl2leYVBMbc+vtr5hVO5vz7sTkHXwHvEPg3YVBIQgsk+4ptxjzX8zj4Frflgo3fSPtEhvz84xdU+odqcDzU02T7vN5W2lqvdPrMcSmZA5N0+DTVW0fRW3D6KY9SDX9zaPtnjUyL369g+4AiN46Kb1j7KzlsqRtnTPn1GI3MJoNA+ilfov2HVyT5EIBPsOWvBPqs9VzWoEbA+AAAAAAAAAAAAAAAAAAAAAAAAAAAAAAAAAAAAAAAAAAAAAAAAAAAAAAAAAAAAAAAAAAAAAAAAAAAAAAAAAAAAAAAAAAAAAAAAAAAAAAAAAAAAAAAAAAAAAAAAAAAAAAAAAAAAAAAAAAAAAAAAAAAAAAAAAAAAAAAAAAAAAAAAAAAAAAAAAAAAAAAAAAAAAAAAAAAAAAAAAAAAAAAAAAAAAAAAAAAAAAAAAAAAAAAAAAAAAAAAAAAAAAAAAAAAAAAAAmI+9ySxlj5BBkAMrPm0PhanbIikeMI+8S9nARLpyj443wYZorfRPhbDZs6DxNY+V8nUx8CC0D7XO\\u002fZO81XCPvcsgpd2c5o+AAAAAAAAAAAAAAAAAAAAAAAAAAAAAAAAAAAAAAAAAAAAAAAAAAAAAAAAAAAAAAAAAAAAAAAAAAAAAAAAAAAAAFnfBDpjIq0+8ruj2oDFzj4AAAAAAAAAAAAAAAAAAAAAAAAAAAAAAAAAAAAAAAAAAPXWvxGksvE+PYXvjdJg8T4AAAAAAAAAAAAAAAAAAAAAmRbmIDAnuj7cfgJU5cXNPrfU\\u002fskEMdo+Y+FoG7H5zj7hEY9jtp2gPpSGvyqFuaA+Pj1soKOv1j6rCRXlGevmPsuyVVH\\u002fzN4+S1Otv2ASJD4AAAAAAAAAAIDwe35uVdM+oU+\\u002fNOzS8D4wDd66xTXzPvaWe3Y3VOI+AAAAAAAAAADDXX19J53pPtHOmJ0TggI\\u002fBpRjsdUaCz8AAAAAAAAAAJDUwy3KKQA\\u002fN3cIkvDZCD8AAAAAAAAAALwP099WZAA\\u002fUFRwmSUuED9ed4wE1TMHPwAAAAAAAAAA8Ljxh\\u002fbx4z5g\\u002f\\u002fTDVVH1PiqJWkIGKQc\\u002fR0Y2z8l0ED\\u002faY47Ii2vmPutUN3EzbgU\\u002fAAAAAAAAAAAAAAAAAAAAAEQmqlwAigg\\u002fjkkBAno6CT9sAy3tRazzPgAAAAAAAAAArVSuvqUADz8AAAAAAAAAAAAAAAAAAAAA+6a7WzhHIz\\u002fN9LuMIaP3PgAAAAAAAAAAAAAAAAAAAAAAAAAAAAAAAKefsrior\\u002fU+oHoEX\\u002fNg2j4AAAAAAAAAAAAAAAAAAAAAAAAAAAAAAADt9XffS00IP2+y8Mi3ShA\\u002fSLOTuNqRBD+9gI8kXFH7PhWQRoFkouY+AAAAAAAAAAAAAAAAAAAAAAAAAAAAAAAAAAAAAAAAAAAAAAAAAAAAAAAAAAAAAAAAAAAAAAAAAAAAAAAAAAAAAAAAAAAAAAAAAAAAAAAAAAAAAAAAAAAAAAAAAAAAAAAAAAAAAAAAAAAAAAAAAAAAAA==\"},\"type\":\"scatter\"},{\"hovertemplate\":\"Strike: $%{x:,.0f}\\u003cbr\\u003eDensity: %{y:.6f}\\u003cextra\\u003e\\u003c\\u002fextra\\u003e\",\"line\":{\"color\":\"rgba(30,157,136,0.8)\",\"width\":2},\"mode\":\"lines\",\"name\":\"2025-09-05 10:00:00 (15d)\",\"x\":{\"dtype\":\"f8\",\"bdata\":\"AAAAAACI80DW1t8e2JrzQKutvz2wrfNAgYSfXIjA80BWW397YNPzQCwyX5o45vNAAQk\\u002fuRD580DX3x7Y6Av0QKy2\\u002fvbAHvRAgo3eFZkx9EBXZL40cUT0QC07nlNJV\\u002fRAAxJ+ciFq9EDY6F2R+Xz0QK6\\u002fPbDRj\\u002fRAg5Ydz6mi9EBZbf3tgbX0QC5E3QxayPRABBu9KzLb9EDZ8ZxKCu70QK\\u002fIfGniAPVAhJ9ciLoT9UBadjynkib1QDBNHMZqOfVABST85EJM9UDb+tsDG1\\u002f1QLDRuyLzcfVAhqibQcuE9UBbf3tgo5f1QDFWW397qvVABi07nlO99UDcAxu9K9D1QLLa+tsD4\\u002fVAh7Ha+tv19UBdiLoZtAj2QDJfmjiMG\\u002fZACDZ6V2Qu9kDdDFp2PEH2QLPjOZUUVPZAiLoZtOxm9kBekfnSxHn2QDNo2fGcjPZACT+5EHWf9kDeFZkvTbL2QLTseE4lxfZAisNYbf3X9kBfmjiM1er2QDVxGKut\\u002ffZACkj4yYUQ90DgHtjoXSP3QLX1twc2NvdAi8yXJg5J90Bgo3dF5lv3QDZ6V2S+bvdADFE3g5aB90DhJxeibpT3QLb+9sBGp\\u002fdAjNXW3x6690BirLb+9sz3QDeDlh3P3\\u002fdADVp2PKfy90DiMFZbfwX4QLgHNnpXGPhAjt4VmS8r+EBjtfW3Bz74QDiM1dbfUPhADmO19bdj+EDkOZUUkHb4QLkQdTNoifhAj+dUUkCc+EBkvjRxGK\\u002f4QDqVFJDwwfhAEGz0rsjU+EDlQtTNoOf4QLoZtOx4+vhAkPCTC1EN+UBmx3MqKSD5QDueU0kBM\\u002flAEXUzaNlF+UDmSxOHsVj5QLwi86WJa\\u002flAkfnSxGF++UBn0LLjOZH5QDynkgISpPlAEn5yIeq2+UDoVFJAwsn5QL0rMl+a3PlAkgISfnLv+UBo2fGcSgL6QD6w0bsiFfpAE4ex2von+kDpXZH50jr6QL40cRirTfpAlAtRN4Ng+kBq4jBWW3P6QD+5EHUzhvpAFJDwkwuZ+kDqZtCy46v6QMA9sNG7vvpAlRSQ8JPR+kBr628PbOT6QEDCTy5E9\\u002fpAFpkvTRwK+0Drbw9s9Bz7QMFG74rML\\u002ftAlh3PqaRC+0Bs9K7IfFX7QELLjudUaPtAF6JuBi17+0DseE4lBY77QMJPLkTdoPtAmCYOY7Wz+0Bt\\u002fe2Bjcb7QEPUzaBl2ftAGKutvz3s+0DugY3eFf\\u002f7QMRYbf3tEfxAmS9NHMYk\\u002fEBuBi07njf8QETdDFp2SvxAGrTseE5d\\u002fEDvisyXJnD8QMRhrLb+gvxAmjiM1daV\\u002fEBwD2z0rqj8QEbmSxOHu\\u002fxAG70rMl\\u002fO\\u002fEDwkwtRN+H8QMZq628P9PxAnEHLjucG\\u002fUBxGKutvxn9QEbvisyXLP1AHMZq628\\u002f\\u002fUDynEoKSFL9QMhzKikgZf1AnUoKSPh3\\u002fUByIepm0Ir9QEj4yYWonf1AHs+ppICw\\u002fUDzpYnDWMP9QMh8aeIw1v1AnlNJAQnp\\u002fUB0Kikg4fv9QEkBCT+5Dv5AH9joXZEh\\u002fkD0rsh8aTT+QMqFqJtBR\\u002f5AoFyIuhla\\u002fkB1M2jZ8Wz+QEoKSPjJf\\u002f5AIOEnF6KS\\u002fkD2twc2eqX+QMuO51RSuP5AoGXHcyrL\\u002fkB2PKeSAt7+QEwTh7Ha8P5AIupm0LID\\u002f0D3wEbvihb\\u002fQMyXJg5jKf9Aom4GLTs8\\u002f0B4ReZLE0\\u002f\\u002fQE0cxmrrYf9AIvOlicN0\\u002f0D4yYWom4f\\u002fQM6gZcdzmv9Ao3dF5kut\\u002f0B5TiUFJMD\\u002fQE4lBST80v9AJPzkQtTl\\u002f0D60sRhrPj\\u002fQOhUUkDCBQBBUkDCTy4PAEG9KzJfmhgAQSgXom4GIgBBkgISfnIrAEH97YGN3jQAQWjZ8ZxKPgBB08RhrLZHAEE+sNG7IlEAQaibQcuOWgBBE4ex2vpjAEF+ciHqZm0AQeldkfnSdgBBVEkBCT+AAEG+NHEYq4kAQSkg4ScXkwBBlAtRN4OcAEH\\u002f9sBG76UAQWriMFZbrwBB1M2gZce4AEE\\u002fuRB1M8IAQaqkgISfywBBFJDwkwvVAEF\\u002fe2Cjd94AQepm0LLj5wBBVVJAwk\\u002fxAEHAPbDRu\\u002foAQSopIOEnBAFBlRSQ8JMNAUEAAAAAABcBQQ==\"},\"y\":{\"dtype\":\"f8\",\"bdata\":\"AAAAAAAAAAAAAAAAAAAAAAAAAAAAAAAAbhmPOIYkiD6YaHX7WGysPnP028fNybg+4bn3fa7mwT72mlHPH33HPhmU2wCtMs0+PhDBgM6C0T6t88jy5nvUPnVyVznAhNc+t6DuSUaf2j53HeW9WMfdPrLdGp\\u002fGh+A+ziEPqgQb4j4PeptBHxrkPtJi9DLadOQ+XKtgXN5d4j4+SFMJ8LLgPoxX9aVEu90+lVU27VUL2j5bawO0oT\\u002fWPotn9B0aXdI+ePzxEPXCzD5\\u002fcqfmBZnEPjsnQms5drg+Zk77gytBnT4AAAAAAAAAAAAAAAAAAAAAAAAAAAAAAAAAAAAAAAAAAAAAAAAAAAAAAAAAAAAAAAAAAAAAAAAAAAAAAAAAAAAAAAAAAAAAAAAAAAAAAAAAAAAAAAAAAAAAAAAAAAAAAAAAAAAAAAAAAAAAAAAAAAAAOLUtXlK\\u002fqD6F0\\u002f6TGq27Pr2FprZsq8U+mdGmmJ+wzT5\\u002fzsTXoPHSPogFxh\\u002fkKdc+66ftrpVl2z6qGexLZwfgPl\\u002fLKhlgxOE+eiKhG5Zm4T4474oItlLhPiiFT5T4KeE+X\\u002fDM6bsF4T78hM\\u002fHIN\\u002fgPqFrhvjst+A+UCz115aP4D5tLZ+aM2bgPs5jToSxO+A+RoEZdv4P4D44OXCfa8bfPrWIvzONad8+3tr1QFIN3z4NAnuvy6LePpYvn9aQYd4+gKdS0C563T5NI+pIBi7gPu0m\\u002fYe0keI+NGYeqZHM5D6FLr2rryTnPsSy+cSBh+k+jpmoPTb66z5ySjEFlHvuPkY8M94HhvA+rAT24szV8T4D2AFeHi3zPmqCf1jji\\u002fQ+nK9n8T3y9T7Rr6\\u002fXS1\\u002f3PvSXkty81fg+P4X\\u002fS7VK+j71Jcm3pOX7PmiiJD\\u002f4D\\u002f0+ssh\\u002fF\\u002fIO+D6qnfhT\\u002f0XzPsFQdJQxi+w+H4kLOjxa4j79M6nFI6HPPgAAAAAAAAAAAAAAAAAAAAAAAAAAAAAAAAAAAAAAAAAAAAAAAAAAAADcy\\u002fh9HHWKPkuhITm+VPQ+8DVqATKbBD\\u002fHMLuxHXkPP3shg2copRQ\\u002fB4jkaDXqGz+vjNQYeW0YPy5jur0omAQ\\u002fAAAAAAAAAAAAAAAAAAAAAAAAAAAAAAAAu19zw3L09z5Z9\\u002fhwXMsQPyAeDDYlt+0+AAAAAAAAAAAAAAAAAAAAAAAAAAAAAAAAjk2ZoHDODD8dCrSbosQnPwoTOZ5z8jA\\u002fohTecxyXIT8XZaOlxy4EPwAAAAAAAAAAAAAAAAAAAABdrUWHdOfsPq+5T47skBE\\u002fZqUbMTYcFD8unzgKWAAOP08hUpk8Dwg\\u002fAotBJlP4+z4AAAAAAAAAAAAAAAAAAAAAAAAAAAAAAAAAAAAAAAAAALRrzro1NPA+h0\\u002fz8apRET+TKmoezikVP7UXqpqx3BM\\u002frKufA6zNFD+jsey41tIQP8xiJk5KF+s+AAAAAAAAAAAAAAAAAAAAAAAAAAAAAAAASrWBgfq28T7LubBe0XURP4GjQ4h5yhQ\\u002f7J3PPqIdFD\\u002fWk9lr2A4VPxgNdk6bxBI\\u002fB8pqNdFzBz8ZT79CTz32PgAAAAAAAAAAdWPi42Uk5j6RtLnK+U70PjkOqqE0SgA\\u002fb6fIReLS+D7ktdwCvaLnPgAAAAAAAAAAAAAAAAAAAAAAAAAAAAAAAGaHJgvIPco+DN998kTx3T6hiMH+FQHnPvCuVBL0ou4+612Ei82s8z73O7ye0K\\u002fyPolDkooWjPA+8v9wxBSB7T6b1DJx29DpPtdZWeT\\u002fROY++qnRjhas4j5XQKLz8BnfPvy1qpS4gt0+SnHX0\\u002fZ72z7ydE3vT6DZPv5s9uy+xdc+lxW6WA731T5GC09R5TDUPt9Lzsq3c9I+KgTuqPi+0D5CBaHyzCTOPj5l29ZN28o+SdjiOxihxz4+XdlU0XTEPia3I5PtWME+tkOzC6+DvD5OjrJhC7G2PvakTuwwBLA+EalvNALLrD76iN35DzywPsSWPMGxSLE+beFMe+qKsj4t58HWIL6zPiMX2LOk9LQ+hh0o+HIptj7Gup6V8l23PoJvZWZHkbg+c6bHyEfFuT4\\u002f1JzhWfO6PisSBSj5M7w+9kmn5MkrvT5ZrmMkzi+\\u002fPkkJMLVxR70+sWOgbhIAxT4AAAAAAAAAAA==\"},\"type\":\"scatter\"},{\"hovertemplate\":\"Strike: $%{x:,.0f}\\u003cbr\\u003eDensity: %{y:.6f}\\u003cextra\\u003e\\u003c\\u002fextra\\u003e\",\"line\":{\"color\":\"rgba(53,183,120,0.8)\",\"width\":2},\"mode\":\"lines\",\"name\":\"2025-09-12 10:00:00 (22d)\",\"x\":{\"dtype\":\"f8\",\"bdata\":\"AAAAAABq+EBr628PbHP4QNbW3x7YfPhAQMJPLkSG+ECrrb89sI\\u002f4QBaZL00cmfhAgYSfXIii+EDrbw9s9Kv4QFZbf3tgtfhAwUbvisy++EAsMl+aOMj4QJYdz6mk0fhAAQk\\u002fuRDb+EBs9K7IfOT4QNffHtjo7fhAQsuO51T3+ECstv72wAD5QBeibgYtCvlAgo3eFZkT+UDteE4lBR35QFdkvjRxJvlAwk8uRN0v+UAtO55TSTn5QJgmDmO1QvlAAxJ+ciFM+UBt\\u002fe2BjVX5QNjoXZH5XvlAQ9TNoGVo+UCuvz2w0XH5QBirrb89e\\u002flAg5Ydz6mE+UDugY3eFY75QFlt\\u002fe2Bl\\u002flAxFht\\u002fe2g+UAuRN0MWqr5QJkvTRzGs\\u002flABBu9KzK9+UBvBi07nsb5QNnxnEoK0PlARN0MWnbZ+UCvyHxp4uL5QBq07HhO7PlAhJ9ciLr1+UDvisyXJv\\u002f5QFp2PKeSCPpAxWGstv4R+kAwTRzGahv6QJo4jNXWJPpABST85EIu+kBwD2z0rjf6QNv62wMbQfpAReZLE4dK+kCw0bsi81P6QBu9KzJfXfpAhqibQctm+kDwkwtRN3D6QFt\\u002fe2CjefpAxmrrbw+D+kAxVlt\\u002fe4z6QJxBy47nlfpABi07nlOf+kBxGKutv6j6QNwDG70rsvpAR++KzJe7+kCy2vrbA8X6QBzGautvzvpAh7Ha+tvX+kDynEoKSOH6QF2Iuhm06vpAx3MqKSD0+kAyX5o4jP36QJ1KCkj4BvtACDZ6V2QQ+0ByIepm0Bn7QN0MWnY8I\\u002ftASPjJhags+0Cz4zmVFDb7QB7PqaSAP\\u002ftAiLoZtOxI+0DzpYnDWFL7QF6R+dLEW\\u002ftAyXxp4jBl+0AzaNnxnG77QJ5TSQEJePtACT+5EHWB+0B0Kikg4Yr7QN4VmS9NlPtASQEJP7md+0C07HhOJaf7QB\\u002fY6F2RsPtAisNYbf25+0D0rsh8acP7QF+aOIzVzPtAyoWom0HW+0A1cRirrd\\u002f7QKBciLoZ6ftACkj4yYXy+0B1M2jZ8fv7QOAe2OhdBfxASwpI+MkO\\u002fEC19bcHNhj8QCDhJxeiIfxAi8yXJg4r\\u002fED2twc2ejT8QGCjd0XmPfxAy47nVFJH\\u002fEA2eldkvlD8QKFlx3MqWvxADFE3g5Zj\\u002fEB2PKeSAm38QOEnF6JudvxATBOHsdp\\u002f\\u002fEC2\\u002fvbARon8QCLqZtCykvxAjNXW3x6c\\u002fED3wEbviqX8QGKstv72rvxAzJcmDmO4\\u002fEA3g5Ydz8H8QKJuBi07y\\u002fxADVp2PKfU\\u002fEB4ReZLE978QOIwVlt\\u002f5\\u002fxATRzGauvw\\u002fEC4BzZ6V\\u002fr8QCPzpYnDA\\u002f1Ajt4VmS8N\\u002fUD4yYWomxb9QGO19bcHIP1AzqBlx3Mp\\u002fUA4jNXW3zL9QKN3ReZLPP1ADmO19bdF\\u002fUB5TiUFJE\\u002f9QOQ5lRSQWP1ATiUFJPxh\\u002fUC5EHUzaGv9QCT85ELUdP1Aj+dUUkB+\\u002fUD60sRhrIf9QGS+NHEYkf1Az6mkgISa\\u002fUA6lRSQ8KP9QKSAhJ9crf1AEGz0rsi2\\u002fUB6V2S+NMD9QOVC1M2gyf1AUC5E3QzT\\u002fUC6GbTseNz9QCUFJPzk5f1AkPCTC1Hv\\u002fUD72wMbvfj9QGbHcyopAv5A0LLjOZUL\\u002fkA7nlNJARX+QKaJw1htHv5AEXUzaNkn\\u002fkB8YKN3RTH+QOZLE4exOv5AUTeDlh1E\\u002fkC8IvOliU3+QCYOY7X1Vv5AkfnSxGFg\\u002fkD85ELUzWn+QGfQsuM5c\\u002f5A0rsi86V8\\u002fkA8p5ICEob+QKeSAhJ+j\\u002f5AEn5yIeqY\\u002fkB9aeIwVqL+QOhUUkDCq\\u002f5AUkDCTy61\\u002fkC9KzJfmr7+QCgXom4GyP5AkgISfnLR\\u002fkD97YGN3tr+QGjZ8ZxK5P5A08RhrLbt\\u002fkA+sNG7Ivf+QKibQcuOAP9AE4ex2voJ\\u002f0B+ciHqZhP\\u002fQOldkfnSHP9AVEkBCT8m\\u002f0C+NHEYqy\\u002f\\u002fQCkg4ScXOf9AlAtRN4NC\\u002f0D\\u002f9sBG70v\\u002fQGriMFZbVf9A1M2gZcde\\u002f0A\\u002fuRB1M2j\\u002fQKqkgISfcf9AFJDwkwt7\\u002f0B\\u002fe2Cjd4T\\u002fQOpm0LLjjf9AVVJAwk+X\\u002f0DAPbDRu6D\\u002fQCopIOEnqv9AlRSQ8JOz\\u002f0AAAAAAAL3\\u002fQA==\"},\"y\":{\"dtype\":\"f8\",\"bdata\":\"AAAAAAAAAABoXCQBJ7DpPk00t8sdL+U+j0uTL1TF6D6bAkP+XDnqPgHZ6FeVSOw+BeK1VhA37j78WWV\\u002fmBvwPmNYZZa8HfE+DWJ8qsMj8j5wHTCxMy3zPnuDkIctOvQ+DQuBwahK9T7ENX\\u002fbpl72PoCsxi4mdvc+KMMgaSWR+D6JISDmoa\\u002f5PunugoKY0fo+CH3A8AX3+z6CG\\u002f7n5B\\u002f9PnBEGvUvTP4+WkaR0eB7\\u002fz5VjA3Id1cAPyGZTeKp8gA\\u002fqENnRIGPAT\\u002fYcQWO+S0CP+5tAIIIzgI\\u002fv9V8+LVvAz8uOyqvwxIEP6cb+y\\u002f0twQ\\u002f3WNYYUlcBT86Ete3wQoGP4DVZDEmmgY\\u002fFTzx8EejBz\\u002fzsRPeCRwEP+gzhJrjav8+MQv7nLnv9j7+8I3nSFnsPv46\\u002f38OLNY+AAAAAAAAAAAAAAAAAAAAAAAAAAAAAAAAbdlmReMJwj48PhhpzMvgPsXYmcNY\\u002f+w+KpKsE8Sz9D5zgmpHqvf6PlcjtzrbpgA\\u002f9pgqCULaAz97zSb+WBYHP7RzblI7WQo\\u002fHwxADMKoDT\\u002fI9vdb93YQP0p9VAIEPhI\\u002f7MSUPapTET9ckU5QEDsQPyTve9z0Uw4\\u002fin4X78skDD8aQtoKXfAJP5++VQHUtAc\\u002fGRYUv+1yBT9CV9aKyyoDPxoxUReF3AA\\u002fG1MzUxgS\\u002fT6EG3DiFFz4PncX+egFq\\u002fM+ZFyM3fht7T7CL+ITjh3mPri5fpGOBOA+u0Q5SkQq0z4vPAClzm65PgAAAAAAAAAAAAAAAAAAAAAAAAAAAAAAAF\\u002fTSDsISMA+Pa\\u002fai3ds5z4Ixq8FkIT1PgqDr8iibf8+XR8QHamRBD+5nk9mPO4JP8ffwBUQNQ0\\u002f20mGDa04DT8klzDjy9cNPy4ZZ0a5SQ4\\u002fdO0zXTfODj834dtjqy4PP2cQxqxZAhA\\u002fIZHZYD1aDT\\u002fHBoYuCbIJP9Wj3MeCRgY\\u002fTxdJu3O\\u002fAj8emmuxaqr+PrN8z3rTA\\u002fc+wY87X+1n8j6yotMgxDYCPwZDzIQORgo\\u002fyq23zh5JET975DhmInQVP5m1\\u002fafDbBk\\u002ft7v+LWglHj\\u002ftzKfShEMfP9g1h52Mxhw\\u002f+NrEA7IJGz8Ir1rRlhYZPw4LBpCWMRc\\u002fplIHcshBFT\\u002fi5zImLmgTPxdoT98ajRA\\u002fjJLmZtYeCz+30Lt81TkFP998c5JjkP4+Bg756JsD8z4J7XbNcXvZPgAAAAAAAAAA\\u002fIoLyfFw2D5HJYrfqLvnPoIWTJmRJ\\u002fI+RiBA7vFW+D4fUVEZY0X+PpMGHr3alAI\\u002ffzso7J1VAz\\u002fmk8AOQFsCP0FjctDsxgE\\u002f9mJKKZUXAT8WbiBh728AP3COh2OZjf8+skwqw3I9\\u002fj7+My4Ccu78Pkk7nGZnoPs+hECGFwxW+j52URfzpwX5PhY9NTZc1Pc+jTo9xlw49j5sWr+nyGP2Pjlyv+3DRvo+7i8Kr8+B\\u002fT7kw9cLIXAAP3Vj5yOAFQI\\u002f4RwzWii4Az+AKinv9lUFPyyCEPtE7wY\\u002fqJAsWtmDCD+MZizmYBMKP6rhIYiengs\\u002fV\\u002fGPHjQiDT+GFMfWUaoOP6721IgaBBA\\u002f1x\\u002fDSe8LDz+I6KVDIC0OP6SvreeKRw0\\u002fKsZEIitlDD8NPFIocoMLP0cjkqMrowo\\u002fME3ZRjvECT+AkdnRwOYIP24E0\\u002f7JCgg\\u002fBghvdmcwBz+jezBnp1cGPzGIX\\u002feWgAU\\u002fEp9gR0GrBD9o08oTs9cDP3+BZN7tBQM\\u002fu3Ek7xY2Aj\\u002fYkdG4yWcBP05M+aaenAA\\u002fGHHAMH6d\\u002fz6\\u002fBShVdin+PuSjiKh\\u002fgP0+eLjGvmLE\\u002fD677wt+eQ\\u002f8PmLWmyKyWvs+1dVaz\\u002fen+j4ccHVjzPb5Ps6OQERWR\\u002fk+MUDO646Z+D7DqSBue+33PhyiJ\\u002fMcQ\\u002fc+VNUZzXSa9j5+RKD5g\\u002fP1PubasgxLTvU+KuO\\u002f+8mq9D5gJ2E9AAn0Pv4mwlLtaPM+VJbLSJDK8j7E8\\u002f+i5y3yPlEIUNrxkvE+ulxCKK358D5zjmUyF2LwPrw3ePhcmO8++L6H49tv7j6ZFqqwuErtPhlDzrqoKOw+m39chacK6z6\\u002fSobk7uzpPoWIw5d43eg+nK0jeP+n5z50L01meA\\u002fnPl0bVd4vPOQ+T3LIlNjJ6T4AAAAAAAAAAA==\"},\"type\":\"scatter\"},{\"hovertemplate\":\"Strike: $%{x:,.0f}\\u003cbr\\u003eDensity: %{y:.6f}\\u003cextra\\u003e\\u003c\\u002fextra\\u003e\",\"line\":{\"color\":\"rgba(109,206,88,0.8)\",\"width\":2},\"mode\":\"lines\",\"name\":\"2025-09-26 10:00:00 (36d)\",\"x\":{\"dtype\":\"f8\",\"bdata\":\"AAAAAACI00DNlyYOY2XVQJkvTRzGQtdAZsdzKikg2UAyX5o4jP3aQP\\u002f2wEbv2txAzI7nVFK43kBME4ex2krgQDJfmjiMOeFAGKutvz0o4kD\\u002f9sBG7xbjQOVC1M2gBeRAzI7nVFL05ECy2vrbA+PlQJgmDmO10eZAfnIh6mbA50BkvjRxGK\\u002foQEsKSPjJnelAMVZbf3uM6kAXom4GLXvrQP7tgY3eaexA5DmVFJBY7UDKhaibQUfuQLDRuyLzNe9AzI7nVFIS8EC+NHEYq4nwQLLa+tsDAfFApYCEn1x48UCYJg5jte\\u002fxQIvMlyYOZ\\u002fJAfnIh6mbe8kByGKutv1XzQGS+NHEYzfNAWGS+NHFE9EBLCkj4ybv0QD6w0bsiM\\u002fVAMVZbf3uq9UAk\\u002fORC1CH2QBeibgYtmfZACkj4yYUQ90D+7YGN3of3QPGTC1E3\\u002f\\u002fdA5DmVFJB2+EDX3x7Y6O34QMqFqJtBZflAvSsyX5rc+UCw0bsi81P6QKR3ReZLy\\u002fpAlx3PqaRC+0CKw1ht\\u002fbn7QH1p4jBWMfxAcA9s9K6o\\u002fEBjtfW3ByD9QFZbf3tgl\\u002f1ASgEJP7kO\\u002fkA9p5ICEob+QDBNHMZq\\u002ff5AI\\u002fOlicN0\\u002f0AWmS9NHOz\\u002fQISfXIi6MQBBfnIh6mZtAEF4ReZLE6kAQXIYq62\\u002f5ABBa+tvD2wgAUFkvjRxGFwBQV6R+dLElwFBWGS+NHHTAUFRN4OWHQ8CQUsKSPjJSgJB\"},\"y\":{\"dtype\":\"f8\",\"bdata\":\"AAAAAAAAAADuVIV6uHvEPlKFQtOPK8A+fgW3Hkbxuz6VXOfDrxmoPgAAAAAAAAAAAAAAAAAAAAAAAAAAAAAAAAAAAAAAAAAAAAAAAAAAAADryEduz5SuPtdvX+fUkbQ+YAAkIC7zbj4AAAAAAAAAAAAAAAAAAAAAAAAAAAAAAAAAAAAAAAAAACapvmvX49Q+\\u002fRdYZO0E8j67j9kObCryPqQkbhUhWtE+AAAAAAAAAAAAAAAAAAAAAAAAAAAAAAAAKNVTcKH4wD5ikyN8RUKxPlOPMOb1OrY+sdTbQdGdtT5kklsZEey0Pkh3IbdgIrk+zi+W0LfYyj5mLqoP+lPYPi3axX4+Dtg+qbmlW3g3yD4AAAAAAAAAAD3ORGkFkpw+AZ2pkApwwT7bLnqLo5bRPgwrQxVr8No+4tPGTm5u5j7p1rVSygPbPnkiZVH6cKY+1zgKn76w7T6OqwKNqwfrPgsrvR4T8+g+92L3Txpv6z6rTC7o8uz2PgAAAAAAAAAAn4ciCT1o\\u002fz5+KMs4j5\\u002fyPj9roxrJovk+J80vBmhJ+D6yb1ka+2n2PnBGVoH3wOI+4wZt5C6T4z4JFeuI0LYDPwAAAAAAAAAAnkHmSA+g+j7zD0vo0qT6PgAAAAAAAAAA7GQFbN6pDj8AAAAAAAAAABCrr+5cc\\u002fM+GYl004tl4D7oE0Qt3LfVPoA0s16rrZs+AAAAAAAAAAAAAAAAAAAAAAAAAAAAAAAA\"},\"type\":\"scatter\"},{\"hovertemplate\":\"Strike: $%{x:,.0f}\\u003cbr\\u003eDensity: %{y:.6f}\\u003cextra\\u003e\\u003c\\u002fextra\\u003e\",\"line\":{\"color\":\"rgba(181,221,43,0.8)\",\"width\":2},\"mode\":\"lines\",\"name\":\"2025-10-31 09:00:00 (71d)\",\"x\":{\"dtype\":\"f8\",\"bdata\":\"AAAAAACI40APbPSuyPLjQB\\u002fY6F2RXeRALkTdDFrI5EA+sNG7IjPlQE0cxmrrneVAXYi6GbQI5kBs9K7IfHPmQHxgo3dF3uZAi8yXJg5J50CaOIzV1rPnQKqkgISfHuhAuRB1M2iJ6EDJfGniMPToQNjoXZH5XulA6FRSQMLJ6UD3wEbvijTqQAYtO55Tn+pAFpkvTRwK60AlBST85HTrQDVxGKut3+tARN0MWnZK7EBUSQEJP7XsQGO19bcHIO1AciHqZtCK7UCCjd4VmfXtQJL50sRhYO5AoWXHcyrL7kCw0bsi8zXvQMA9sNG7oO9A6FRSQMIF8EDvisyXJjvwQPfARu+KcPBA\\u002f\\u002fbARu+l8EAGLTueU9vwQA5jtfW3EPFAFpkvTRxG8UAez6mkgHvxQCUFJPzksPFALTueU0nm8UA1cRirrRvyQDynkgISUfJARN0MWnaG8kBME4ex2rvyQFRJAQk\\u002f8fJAXH97YKMm80BjtfW3B1zzQGvrbw9skfNAciHqZtDG80B6V2S+NPzzQIKN3hWZMfRAisNYbf1m9ECS+dLEYZz0QJkvTRzG0fRAoWXHcyoH9UCom0HLjjz1QLDRuyLzcfVAuAc2elen9UDAPbDRu9z1QMhzKikgEvZAz6mkgIRH9kDX3x7Y6Hz2QN4VmS9NsvZA5ksTh7Hn9kDugY3eFR33QPa3BzZ6UvdA\\u002fu2Bjd6H90AFJPzkQr33QA1adjyn8vdAFJDwkwso+EAcxmrrb134QCT85ELUkvhALDJfmjjI+EA0aNnxnP34QDueU0kBM\\u002flAQ9TNoGVo+UBKCkj4yZ35QFJAwk8u0\\u002flAWnY8p5II+kBirLb+9j36QGriMFZbc\\u002fpAcRirrb+o+kB5TiUFJN76QIGEn1yIE\\u002ftAiLoZtOxI+0CQ8JMLUX77QJgmDmO1s\\u002ftAoFyIuhnp+0CnkgISfh78QK\\u002fIfGniU\\u002fxAt\\u002f72wEaJ\\u002fEC+NHEYq778QMZq628P9PxAzqBlx3Mp\\u002fUDW1t8e2F79QN0MWnY8lP1A5ULUzaDJ\\u002fUDteE4lBf\\u002f9QPSuyHxpNP5A\\u002fORC1M1p\\u002fkAEG70rMp\\u002f+QAxRN4OW1P5AE4ex2voJ\\u002f0AbvSsyXz\\u002f\\u002fQCPzpYnDdP9AKikg4Seq\\u002f0AyX5o4jN\\u002f\\u002fQJ1KCkh4CgBBoWXHcyolAEGkgISf3D8AQaibQcuOWgBBrLb+9kB1AEGw0bsi848AQbTseE6lqgBBuAc2elfFAEG8IvOlCeAAQcA9sNG7+gBBxFht\\u002fW0VAUHIcyopIDABQcyO51TSSgFBz6mkgIRlAUHTxGGsNoABQdffHtjomgFB2vrbA5u1AUHeFZkvTdABQeIwVlv\\u002f6gFB5ksTh7EFAkHqZtCyYyACQe6Bjd4VOwJB\"},\"y\":{\"dtype\":\"f8\",\"bdata\":\"AAAAAAAAAAANv1B0hTqoPhhnUwZIhKE+Ki5p1s\\u002fToj6tzOjaNrShPg35avZD7KA+JEfwqMJtnz7JRnZXPIecPvI9jjKXA5k+1Dn0NR7YlD7OmEEBTieQPiqhkmdWoYQ+qqL3XlkOdz5ZLUd16eR6PlyQRwCPpn4++h1oD6Ifgz44HMk9cmyIPnCEGDv6dY8+7S4pHtYklD5E48N18IaZPm5avTMD6p8+5HcnSk++oz63+z+35vqnPkg9pNbQbK0+174m+RNYsD5EN0CbrhCxPvuUbYJWCrI+6Zzzzrv+sj6+Irn+4gC0PmBHWiXZC7U+HOj7oTQhtj5OL74HZkC3PjWW+6oUarg+yCfoPJqcuT69KclaMN66PkN6Vd6WF7w+zc5aOEM1vj6JvpedrU7APpkSxQq2mcE+HPu3dAACwz7LucvRj4jEPlhLEWMRMMY+LZLb08r6xz5e58B9UevJPkwlY41mBMw+tOk2hXdIzj5C6q0A5l3QPslcuXDLrdE+8PM3pJ4J0z4eOBZAXn\\u002fUPm+FiDMUENY+yX3lOxu41z6voupW7ovZPmEP6F+0Pds+7KILE01o3D6iaCsTDajdPmZF9xr5394+bZwBz8kI4D73o0KqaqTgPvlynZhQH+E+nt9VJz9t4T4kXBvUs7XhPp9\\u002f6SUi5uE+e8+KkCQj4j6tu3R9uejhPjU9sdvD0OM+\\u002fOg3GeFR5z7AxduAWNLqPu1ASFId0u4+JhcV+Ihf8T7D3B63kCv0Pifd1pC1nfE+pp\\u002fIPgMu5j5myFjEQl\\u002foPicK4zACRvk+4BtP0PrbAT8AAAAAAAAAAB71fHs0tP0+f8TcEioIAD95sZGCVnPwPgUoix0lt+g+YpqdPLas9D4hgsfzurv6Phz0n\\u002fgJV\\u002fk+ZVcnaCE4+D4Io\\u002f4PnYf1PkLJ+zkZxPM+C5qjCF3\\u002f6D6WW4WVFxzqPn2nqMPoHA4\\u002fDWcq7m7O\\u002fz4g5tgIvlisPrYuS7bm3uI+nFPzAH4oAz\\u002f86yHI6CgHP1SHeSoJUvk+9tTZLl6V5D7gkWH3w13qPsEm\\u002f8FAhfA+pywSz2CP8D40\\u002fb31\\u002f47tPkJaiPJ\\u002f\\u002fO0+AD90f6BE8j7v6O\\u002fgfb\\u002f0Pij650y+ivQ+8WUp+Ywm9T44TaKRGeLvPlYaAoy47do+5b8aBRVF0z6qHM3KIwXvPuEdo6DlP\\u002fg+AAAAAAAAAAAAAAAAAAAAAI3FsqaTq7Q+E+Hr\\u002fCfW7j5HrSoxnXH1Psh6ez5KK+o+W\\u002fmhjqok3j64dmhE4P3ZPq7Y3byLk9c+uFUKI0b51D4sa0TAY63SPt35tReqjNA+etBTbX4jzT5Eppihib\\u002fIPuYkx4YS0MQ+HdkGXcIxwT4TARhIYRm8PqpaJ7AZiLU+\"},\"type\":\"scatter\"},{\"hovertemplate\":\"Strike: $%{x:,.0f}\\u003cbr\\u003eDensity: %{y:.6f}\\u003cextra\\u003e\\u003c\\u002fextra\\u003e\",\"line\":{\"color\":\"rgba(253,231,36,0.8)\",\"width\":2},\"mode\":\"lines\",\"name\":\"2025-12-26 09:00:00 (127d)\",\"x\":{\"dtype\":\"f8\",\"bdata\":\"AAAAAACI00DNlyYOY2XVQJkvTRzGQtdAZsdzKikg2UAyX5o4jP3aQP\\u002f2wEbv2txAzI7nVFK43kBME4ex2krgQDJfmjiMOeFAGKutvz0o4kD\\u002f9sBG7xbjQOVC1M2gBeRAzI7nVFL05ECy2vrbA+PlQJgmDmO10eZAfnIh6mbA50BkvjRxGK\\u002foQEsKSPjJnelAMVZbf3uM6kAXom4GLXvrQP7tgY3eaexA5DmVFJBY7UDKhaibQUfuQLDRuyLzNe9AzI7nVFIS8EC+NHEYq4nwQLLa+tsDAfFApYCEn1x48UCYJg5jte\\u002fxQIvMlyYOZ\\u002fJAfnIh6mbe8kByGKutv1XzQGS+NHEYzfNAWGS+NHFE9EBLCkj4ybv0QD6w0bsiM\\u002fVAMVZbf3uq9UAk\\u002fORC1CH2QBeibgYtmfZACkj4yYUQ90D+7YGN3of3QPGTC1E3\\u002f\\u002fdA5DmVFJB2+EDX3x7Y6O34QMqFqJtBZflAvSsyX5rc+UCw0bsi81P6QKR3ReZLy\\u002fpAlx3PqaRC+0CKw1ht\\u002fbn7QH1p4jBWMfxAcA9s9K6o\\u002fEBjtfW3ByD9QFZbf3tgl\\u002f1ASgEJP7kO\\u002fkA9p5ICEob+QDBNHMZq\\u002ff5AI\\u002fOlicN0\\u002f0AWmS9NHOz\\u002fQISfXIi6MQBBfnIh6mZtAEF4ReZLE6kAQXIYq62\\u002f5ABBa+tvD2wgAUFkvjRxGFwBQV6R+dLElwFBWGS+NHHTAUFRN4OWHQ8CQUsKSPjJSgJB\"},\"y\":{\"dtype\":\"f8\",\"bdata\":\"AAAAAAAAAAB90EqsgcFGPnWJw+UasVA+J71d1Dh1Yj7Klm6NJmFxPm3fH2MhE4E+jJZTZqCRiD5k4cr0jhePPoAwuiA0LpI+2hK3iTytkj6r1YOEtt+JPqu25VXvOX0+PXRvDpzCgD4G9vZy7ICFPgd+ECLTO5A+RcE4BUBvmj6Gu4VMx0+jPkqvIO1lHqU+Z+qCppX9pj6a7YHbEsWnPkCwVgdnEqc+wmhFmI2gpD7bezIKXMKwPmn3s9PX1rs+lY106e5Jwz7T5vTGFqTFPkleXYXgz8g+Nz2eYmiRyD4Cd0tSAWDEPoOR5c3V978+0z5m721Byz5jLrU3UI3WPgYLtkeVzts+tDtteD+z2z4C4aiM+eDaPnanxa0YAOA+Ar12aDB34z7oLfM\\u002fRGHnPqMFyJSiQ+s+mFR0bDoe8D4UzbMzd9vwPk\\u002fGEQdxWPA+BEs\\u002fhP5j7z4s1aqS5HvxPuazMP4FgPM+SZi2ZX5K9D7\\u002fy2hFAnfzPvEHZ536cfI+8O5+bETi8j7JMApQ2oTzPpcMPRjev\\u002fM+J7q0AYo38z4+ZoLcoZjyPj2cnBpwz\\u002fE+RTaofjfr8D5WD6qrDdDvPn2UWO0WQuw+NQgwd1eX6D6M4jwzAH3mPoS\\u002f3TsXQeY+7hqtMcW05T4\\u002fyzEaUqziPkkt5+4Ocd4+7Dpfxr4T2j5wkqWy+wXcPs0QyfIHNd0+eAYfSA282T60dRQu9JHTPppYblrELc4+\"},\"type\":\"scatter\"}],                        {\"template\":{\"data\":{\"histogram2dcontour\":[{\"type\":\"histogram2dcontour\",\"colorbar\":{\"outlinewidth\":0,\"ticks\":\"\"},\"colorscale\":[[0.0,\"#0d0887\"],[0.1111111111111111,\"#46039f\"],[0.2222222222222222,\"#7201a8\"],[0.3333333333333333,\"#9c179e\"],[0.4444444444444444,\"#bd3786\"],[0.5555555555555556,\"#d8576b\"],[0.6666666666666666,\"#ed7953\"],[0.7777777777777778,\"#fb9f3a\"],[0.8888888888888888,\"#fdca26\"],[1.0,\"#f0f921\"]]}],\"choropleth\":[{\"type\":\"choropleth\",\"colorbar\":{\"outlinewidth\":0,\"ticks\":\"\"}}],\"histogram2d\":[{\"type\":\"histogram2d\",\"colorbar\":{\"outlinewidth\":0,\"ticks\":\"\"},\"colorscale\":[[0.0,\"#0d0887\"],[0.1111111111111111,\"#46039f\"],[0.2222222222222222,\"#7201a8\"],[0.3333333333333333,\"#9c179e\"],[0.4444444444444444,\"#bd3786\"],[0.5555555555555556,\"#d8576b\"],[0.6666666666666666,\"#ed7953\"],[0.7777777777777778,\"#fb9f3a\"],[0.8888888888888888,\"#fdca26\"],[1.0,\"#f0f921\"]]}],\"heatmap\":[{\"type\":\"heatmap\",\"colorbar\":{\"outlinewidth\":0,\"ticks\":\"\"},\"colorscale\":[[0.0,\"#0d0887\"],[0.1111111111111111,\"#46039f\"],[0.2222222222222222,\"#7201a8\"],[0.3333333333333333,\"#9c179e\"],[0.4444444444444444,\"#bd3786\"],[0.5555555555555556,\"#d8576b\"],[0.6666666666666666,\"#ed7953\"],[0.7777777777777778,\"#fb9f3a\"],[0.8888888888888888,\"#fdca26\"],[1.0,\"#f0f921\"]]}],\"contourcarpet\":[{\"type\":\"contourcarpet\",\"colorbar\":{\"outlinewidth\":0,\"ticks\":\"\"}}],\"contour\":[{\"type\":\"contour\",\"colorbar\":{\"outlinewidth\":0,\"ticks\":\"\"},\"colorscale\":[[0.0,\"#0d0887\"],[0.1111111111111111,\"#46039f\"],[0.2222222222222222,\"#7201a8\"],[0.3333333333333333,\"#9c179e\"],[0.4444444444444444,\"#bd3786\"],[0.5555555555555556,\"#d8576b\"],[0.6666666666666666,\"#ed7953\"],[0.7777777777777778,\"#fb9f3a\"],[0.8888888888888888,\"#fdca26\"],[1.0,\"#f0f921\"]]}],\"surface\":[{\"type\":\"surface\",\"colorbar\":{\"outlinewidth\":0,\"ticks\":\"\"},\"colorscale\":[[0.0,\"#0d0887\"],[0.1111111111111111,\"#46039f\"],[0.2222222222222222,\"#7201a8\"],[0.3333333333333333,\"#9c179e\"],[0.4444444444444444,\"#bd3786\"],[0.5555555555555556,\"#d8576b\"],[0.6666666666666666,\"#ed7953\"],[0.7777777777777778,\"#fb9f3a\"],[0.8888888888888888,\"#fdca26\"],[1.0,\"#f0f921\"]]}],\"mesh3d\":[{\"type\":\"mesh3d\",\"colorbar\":{\"outlinewidth\":0,\"ticks\":\"\"}}],\"scatter\":[{\"fillpattern\":{\"fillmode\":\"overlay\",\"size\":10,\"solidity\":0.2},\"type\":\"scatter\"}],\"parcoords\":[{\"type\":\"parcoords\",\"line\":{\"colorbar\":{\"outlinewidth\":0,\"ticks\":\"\"}}}],\"scatterpolargl\":[{\"type\":\"scatterpolargl\",\"marker\":{\"colorbar\":{\"outlinewidth\":0,\"ticks\":\"\"}}}],\"bar\":[{\"error_x\":{\"color\":\"#2a3f5f\"},\"error_y\":{\"color\":\"#2a3f5f\"},\"marker\":{\"line\":{\"color\":\"#E5ECF6\",\"width\":0.5},\"pattern\":{\"fillmode\":\"overlay\",\"size\":10,\"solidity\":0.2}},\"type\":\"bar\"}],\"scattergeo\":[{\"type\":\"scattergeo\",\"marker\":{\"colorbar\":{\"outlinewidth\":0,\"ticks\":\"\"}}}],\"scatterpolar\":[{\"type\":\"scatterpolar\",\"marker\":{\"colorbar\":{\"outlinewidth\":0,\"ticks\":\"\"}}}],\"histogram\":[{\"marker\":{\"pattern\":{\"fillmode\":\"overlay\",\"size\":10,\"solidity\":0.2}},\"type\":\"histogram\"}],\"scattergl\":[{\"type\":\"scattergl\",\"marker\":{\"colorbar\":{\"outlinewidth\":0,\"ticks\":\"\"}}}],\"scatter3d\":[{\"type\":\"scatter3d\",\"line\":{\"colorbar\":{\"outlinewidth\":0,\"ticks\":\"\"}},\"marker\":{\"colorbar\":{\"outlinewidth\":0,\"ticks\":\"\"}}}],\"scattermap\":[{\"type\":\"scattermap\",\"marker\":{\"colorbar\":{\"outlinewidth\":0,\"ticks\":\"\"}}}],\"scattermapbox\":[{\"type\":\"scattermapbox\",\"marker\":{\"colorbar\":{\"outlinewidth\":0,\"ticks\":\"\"}}}],\"scatterternary\":[{\"type\":\"scatterternary\",\"marker\":{\"colorbar\":{\"outlinewidth\":0,\"ticks\":\"\"}}}],\"scattercarpet\":[{\"type\":\"scattercarpet\",\"marker\":{\"colorbar\":{\"outlinewidth\":0,\"ticks\":\"\"}}}],\"carpet\":[{\"aaxis\":{\"endlinecolor\":\"#2a3f5f\",\"gridcolor\":\"white\",\"linecolor\":\"white\",\"minorgridcolor\":\"white\",\"startlinecolor\":\"#2a3f5f\"},\"baxis\":{\"endlinecolor\":\"#2a3f5f\",\"gridcolor\":\"white\",\"linecolor\":\"white\",\"minorgridcolor\":\"white\",\"startlinecolor\":\"#2a3f5f\"},\"type\":\"carpet\"}],\"table\":[{\"cells\":{\"fill\":{\"color\":\"#EBF0F8\"},\"line\":{\"color\":\"white\"}},\"header\":{\"fill\":{\"color\":\"#C8D4E3\"},\"line\":{\"color\":\"white\"}},\"type\":\"table\"}],\"barpolar\":[{\"marker\":{\"line\":{\"color\":\"#E5ECF6\",\"width\":0.5},\"pattern\":{\"fillmode\":\"overlay\",\"size\":10,\"solidity\":0.2}},\"type\":\"barpolar\"}],\"pie\":[{\"automargin\":true,\"type\":\"pie\"}]},\"layout\":{\"autotypenumbers\":\"strict\",\"colorway\":[\"#636efa\",\"#EF553B\",\"#00cc96\",\"#ab63fa\",\"#FFA15A\",\"#19d3f3\",\"#FF6692\",\"#B6E880\",\"#FF97FF\",\"#FECB52\"],\"font\":{\"color\":\"#2a3f5f\"},\"hovermode\":\"closest\",\"hoverlabel\":{\"align\":\"left\"},\"paper_bgcolor\":\"white\",\"plot_bgcolor\":\"#E5ECF6\",\"polar\":{\"bgcolor\":\"#E5ECF6\",\"angularaxis\":{\"gridcolor\":\"white\",\"linecolor\":\"white\",\"ticks\":\"\"},\"radialaxis\":{\"gridcolor\":\"white\",\"linecolor\":\"white\",\"ticks\":\"\"}},\"ternary\":{\"bgcolor\":\"#E5ECF6\",\"aaxis\":{\"gridcolor\":\"white\",\"linecolor\":\"white\",\"ticks\":\"\"},\"baxis\":{\"gridcolor\":\"white\",\"linecolor\":\"white\",\"ticks\":\"\"},\"caxis\":{\"gridcolor\":\"white\",\"linecolor\":\"white\",\"ticks\":\"\"}},\"coloraxis\":{\"colorbar\":{\"outlinewidth\":0,\"ticks\":\"\"}},\"colorscale\":{\"sequential\":[[0.0,\"#0d0887\"],[0.1111111111111111,\"#46039f\"],[0.2222222222222222,\"#7201a8\"],[0.3333333333333333,\"#9c179e\"],[0.4444444444444444,\"#bd3786\"],[0.5555555555555556,\"#d8576b\"],[0.6666666666666666,\"#ed7953\"],[0.7777777777777778,\"#fb9f3a\"],[0.8888888888888888,\"#fdca26\"],[1.0,\"#f0f921\"]],\"sequentialminus\":[[0.0,\"#0d0887\"],[0.1111111111111111,\"#46039f\"],[0.2222222222222222,\"#7201a8\"],[0.3333333333333333,\"#9c179e\"],[0.4444444444444444,\"#bd3786\"],[0.5555555555555556,\"#d8576b\"],[0.6666666666666666,\"#ed7953\"],[0.7777777777777778,\"#fb9f3a\"],[0.8888888888888888,\"#fdca26\"],[1.0,\"#f0f921\"]],\"diverging\":[[0,\"#8e0152\"],[0.1,\"#c51b7d\"],[0.2,\"#de77ae\"],[0.3,\"#f1b6da\"],[0.4,\"#fde0ef\"],[0.5,\"#f7f7f7\"],[0.6,\"#e6f5d0\"],[0.7,\"#b8e186\"],[0.8,\"#7fbc41\"],[0.9,\"#4d9221\"],[1,\"#276419\"]]},\"xaxis\":{\"gridcolor\":\"white\",\"linecolor\":\"white\",\"ticks\":\"\",\"title\":{\"standoff\":15},\"zerolinecolor\":\"white\",\"automargin\":true,\"zerolinewidth\":2},\"yaxis\":{\"gridcolor\":\"white\",\"linecolor\":\"white\",\"ticks\":\"\",\"title\":{\"standoff\":15},\"zerolinecolor\":\"white\",\"automargin\":true,\"zerolinewidth\":2},\"scene\":{\"xaxis\":{\"backgroundcolor\":\"#E5ECF6\",\"gridcolor\":\"white\",\"linecolor\":\"white\",\"showbackground\":true,\"ticks\":\"\",\"zerolinecolor\":\"white\",\"gridwidth\":2},\"yaxis\":{\"backgroundcolor\":\"#E5ECF6\",\"gridcolor\":\"white\",\"linecolor\":\"white\",\"showbackground\":true,\"ticks\":\"\",\"zerolinecolor\":\"white\",\"gridwidth\":2},\"zaxis\":{\"backgroundcolor\":\"#E5ECF6\",\"gridcolor\":\"white\",\"linecolor\":\"white\",\"showbackground\":true,\"ticks\":\"\",\"zerolinecolor\":\"white\",\"gridwidth\":2}},\"shapedefaults\":{\"line\":{\"color\":\"#2a3f5f\"}},\"annotationdefaults\":{\"arrowcolor\":\"#2a3f5f\",\"arrowhead\":0,\"arrowwidth\":1},\"geo\":{\"bgcolor\":\"white\",\"landcolor\":\"#E5ECF6\",\"subunitcolor\":\"white\",\"showland\":true,\"showlakes\":true,\"lakecolor\":\"white\"},\"title\":{\"x\":0.05},\"mapbox\":{\"style\":\"light\"}}},\"shapes\":[{\"line\":{\"color\":\"red\",\"dash\":\"dash\"},\"type\":\"line\",\"x0\":113455.47,\"x1\":113455.47,\"xref\":\"x\",\"y0\":0,\"y1\":1,\"yref\":\"y domain\"}],\"annotations\":[{\"showarrow\":false,\"text\":\"Current Spot: $113,455\",\"x\":113455.47,\"xanchor\":\"center\",\"xref\":\"x\",\"y\":1,\"yanchor\":\"bottom\",\"yref\":\"y domain\"}],\"legend\":{\"orientation\":\"v\",\"yanchor\":\"top\",\"y\":1,\"xanchor\":\"left\",\"x\":1.02},\"title\":{\"text\":\"\\ud83d\\udcc8 Risk-Neutral Probability Density Evolution\"},\"xaxis\":{\"title\":{\"text\":\"Strike Price ($)\"}},\"yaxis\":{\"title\":{\"text\":\"Probability Density\"}},\"height\":500,\"showlegend\":true},                        {\"responsive\": true}                    ).then(function(){\n",
       "                            \n",
       "var gd = document.getElementById('f3f26aac-09ee-4362-a295-192a7af4bbbf');\n",
       "var x = new MutationObserver(function (mutations, observer) {{\n",
       "        var display = window.getComputedStyle(gd).display;\n",
       "        if (!display || display === 'none') {{\n",
       "            console.log([gd, 'removed!']);\n",
       "            Plotly.purge(gd);\n",
       "            observer.disconnect();\n",
       "        }}\n",
       "}});\n",
       "\n",
       "// Listen for the removal of the full notebook cells\n",
       "var notebookContainer = gd.closest('#notebook-container');\n",
       "if (notebookContainer) {{\n",
       "    x.observe(notebookContainer, {childList: true});\n",
       "}}\n",
       "\n",
       "// Listen for the clearing of the current output cell\n",
       "var outputEl = gd.closest('.output');\n",
       "if (outputEl) {{\n",
       "    x.observe(outputEl, {childList: true});\n",
       "}}\n",
       "\n",
       "                        })                };            </script>        </div>"
      ]
     },
     "metadata": {},
     "output_type": "display_data"
    },
    {
     "name": "stdout",
     "output_type": "stream",
     "text": [
      "\n",
      "✅ Risk-neutral probability visualizations complete!\n"
     ]
    }
   ],
   "source": [
    "import time\n",
    "from datetime import datetime\n",
    "from scipy.interpolate import interp1d\n",
    "\n",
    "def create_risk_neutral_surface(results):\n",
    "    \"\"\"Create interactive 3D surface of risk-neutral probability distributions\"\"\"\n",
    "    if not results:\n",
    "        print(\"❌ No data available for surface creation\")\n",
    "        return None, None, None\n",
    "    \n",
    "    print(f\"🌊 Creating 3D Risk-Neutral Probability Surface from {len(results)} expiries...\")\n",
    "    \n",
    "    # Extract data for all expiries\n",
    "    all_densities = []\n",
    "    all_strikes = []\n",
    "    all_days = []\n",
    "    peak_evolution = []\n",
    "    \n",
    "    for i, result in enumerate(results):\n",
    "        if 'rn_density' in result and result['rn_density'] is not None:\n",
    "            strikes = result['K_dense']  # Dense strike grid\n",
    "            density = result['rn_density']  # Risk-neutral density\n",
    "            \n",
    "            # Filter out strikes > $150k\n",
    "            mask = strikes <= 150000\n",
    "            strikes = strikes[mask]\n",
    "            density = density[mask]\n",
    "            \n",
    "            if len(strikes) == 0:  # Skip if no strikes remain after filtering\n",
    "                continue\n",
    "            \n",
    "            # Calculate days to expiry from expiry timestamp\n",
    "            expiry_timestamp = result['expiry'] / 1000  # Convert to seconds\n",
    "            current_timestamp = time.time()\n",
    "            days_to_exp = max(0, (expiry_timestamp - current_timestamp) / (24 * 3600))\n",
    "            \n",
    "            # Find peak density location\n",
    "            max_idx = np.argmax(density)\n",
    "            peak_strike = strikes[max_idx]\n",
    "            peak_density = density[max_idx]\n",
    "            peak_evolution.append({\n",
    "                'expiry': result['expiry_str'], \n",
    "                'days': days_to_exp,\n",
    "                'peak_strike': peak_strike,\n",
    "                'peak_density': peak_density\n",
    "            })\n",
    "            \n",
    "            print(f\"  📊 {result['expiry_str']}: {len(strikes)} density points, {days_to_exp:.1f} days\")\n",
    "            \n",
    "            all_strikes.append(strikes)\n",
    "            all_densities.append(density)\n",
    "            all_days.append(days_to_exp)\n",
    "    \n",
    "    if not all_densities:\n",
    "        print(\"❌ No valid density data found\")\n",
    "        return None, None, None\n",
    "    \n",
    "    # Create uniform grid for surface (filter strikes > $150k)\n",
    "    min_strike = min(min(strikes) for strikes in all_strikes)\n",
    "    max_strike = min(150000, max(max(strikes) for strikes in all_strikes))  # Cap at $150k\n",
    "    strike_grid = np.linspace(min_strike, max_strike, 100)\n",
    "    \n",
    "    # Interpolate all densities to common grid\n",
    "    surface_data = []\n",
    "    for strikes, density in zip(all_strikes, all_densities):\n",
    "        interp_func = interp1d(strikes, density, kind='cubic', \n",
    "                              bounds_error=False, fill_value=0)\n",
    "        surface_data.append(interp_func(strike_grid))\n",
    "    \n",
    "    # Convert to numpy array for surface plotting\n",
    "    Z = np.array(surface_data).T  # Transpose for correct orientation\n",
    "    X, Y = np.meshgrid(all_days, strike_grid)\n",
    "    \n",
    "    print(f\"✅ Surface grid: {Z.shape[0]} × {Z.shape[1]} = {Z.size} points\")\n",
    "    print(f\"📈 Strike range: ${min_strike:,.0f} - ${max_strike:,.0f}\")\n",
    "    print(f\"⏰ Time range: {min(all_days):.1f} - {max(all_days):.1f} days\")\n",
    "    print(f\"📊 Density range: {Z.min():.6f} - {Z.max():.6f}\")\n",
    "    \n",
    "    # Create the main 3D surface plot\n",
    "    fig = go.Figure()\n",
    "    \n",
    "    # Add the 3D surface\n",
    "    fig.add_trace(\n",
    "        go.Surface(\n",
    "            x=X, y=Y, z=Z,\n",
    "            colorscale='Viridis',\n",
    "            opacity=0.9,\n",
    "            showscale=True,\n",
    "            colorbar=dict(title=\"Probability Density\", x=1.05),\n",
    "            hovertemplate=\"Days: %{x:.1f}<br>Strike: $%{y:,.0f}<br>Density: %{z:.6f}<extra></extra>\"\n",
    "        )\n",
    "    )\n",
    "    \n",
    "    # Update layout for 3D scene\n",
    "    fig.update_layout(\n",
    "        title=f\"🌊 Risk-Neutral Probability Surface Evolution<br>\" +\n",
    "              f\"<span style='font-size:12px'>Bitcoin Options - {len(results)} Expiries - Surface shows probability density evolution</span>\",\n",
    "        scene=dict(\n",
    "            xaxis_title=\"Days to Expiry\",\n",
    "            yaxis_title=\"Strike Price ($)\",\n",
    "            zaxis_title=\"Probability Density\",\n",
    "            camera=dict(\n",
    "                eye=dict(x=1.5, y=1.5, z=1.2)\n",
    "            )\n",
    "        ),\n",
    "        height=700,\n",
    "        font=dict(size=12)\n",
    "    )\n",
    "    \n",
    "    return fig, {'X': X, 'Y': Y, 'Z': Z}, peak_evolution\n",
    "\n",
    "def create_2d_density_evolution(results):\n",
    "    \"\"\"Create 2D plot showing density evolution over time\"\"\"\n",
    "    if not results:\n",
    "        return None\n",
    "        \n",
    "    fig = go.Figure()\n",
    "    \n",
    "    # Add traces for each expiry\n",
    "    colors = plt.cm.viridis(np.linspace(0, 1, len(results)))\n",
    "    \n",
    "    for i, (result, color) in enumerate(zip(results, colors)):\n",
    "        if 'rn_density' in result and result['rn_density'] is not None:\n",
    "            strikes = result['K_dense']\n",
    "            density = result['rn_density']\n",
    "            \n",
    "            # Filter out strikes > $150k\n",
    "            mask = strikes <= 150000\n",
    "            strikes = strikes[mask]\n",
    "            density = density[mask]\n",
    "            \n",
    "            if len(strikes) == 0:  # Skip if no strikes remain after filtering\n",
    "                continue\n",
    "            \n",
    "            # Calculate days to expiry\n",
    "            expiry_timestamp = result['expiry'] / 1000\n",
    "            current_timestamp = time.time()\n",
    "            days_to_exp = max(0, (expiry_timestamp - current_timestamp) / (24 * 3600))\n",
    "            \n",
    "            fig.add_trace(\n",
    "                go.Scatter(\n",
    "                    x=strikes,\n",
    "                    y=density,\n",
    "                    mode='lines',\n",
    "                    name=f\"{result['expiry_str']} ({days_to_exp:.0f}d)\",\n",
    "                    line=dict(\n",
    "                        color=f'rgba({int(color[0]*255)},{int(color[1]*255)},{int(color[2]*255)},0.8)', \n",
    "                        width=2\n",
    "                    ),\n",
    "                    hovertemplate=\"Strike: $%{x:,.0f}<br>Density: %{y:.6f}<extra></extra>\"\n",
    "                )\n",
    "            )\n",
    "    \n",
    "    # Add spot price line\n",
    "    if results:\n",
    "        spot = results[0]['spot']\n",
    "        fig.add_vline(\n",
    "            x=spot, \n",
    "            line_dash=\"dash\", \n",
    "            line_color=\"red\", \n",
    "            annotation_text=f\"Current Spot: ${spot:,.0f}\",\n",
    "            annotation_position=\"top\"\n",
    "        )\n",
    "    \n",
    "    fig.update_layout(\n",
    "        title=\"📈 Risk-Neutral Probability Density Evolution\",\n",
    "        xaxis_title=\"Strike Price ($)\",\n",
    "        yaxis_title=\"Probability Density\",\n",
    "        height=500,\n",
    "        showlegend=True,\n",
    "        legend=dict(orientation=\"v\", yanchor=\"top\", y=1, xanchor=\"left\", x=1.02)\n",
    "    )\n",
    "    \n",
    "    return fig\n",
    "\n",
    "# Create and display both visualizations\n",
    "if 'analysis_results' in globals():\n",
    "    print(\"🌊 Creating Risk-Neutral Probability Visualizations...\")\n",
    "    \n",
    "    # 3D Surface\n",
    "    rn_surface_fig, density_surface, peak_evolution = create_risk_neutral_surface(analysis_results)\n",
    "    \n",
    "    if rn_surface_fig:\n",
    "        rn_surface_fig.show()\n",
    "        \n",
    "        print(\"\\n📊 Surface Analysis Summary:\")\n",
    "        print(f\"   • Grid Resolution: {density_surface['Z'].shape if density_surface else 'N/A'}\")\n",
    "        print(f\"   • Peak Migration: {len(peak_evolution)} data points\" if peak_evolution else \"   • Peak Migration: No data\")\n",
    "        print(f\"   • Density Range: {density_surface['Z'].min():.6f} - {density_surface['Z'].max():.6f}\" if density_surface else \"   • Density Range: No data\")\n",
    "    \n",
    "    # 2D Evolution Plot\n",
    "    print(\"\\n📈 Creating 2D density evolution plot...\")\n",
    "    rn_2d_fig = create_2d_density_evolution(analysis_results)\n",
    "    if rn_2d_fig:\n",
    "        rn_2d_fig.show()\n",
    "    \n",
    "    print(\"\\n✅ Risk-neutral probability visualizations complete!\")\n",
    "else:\n",
    "    print(\"❌ analysis_results not found\")"
   ]
  },
  {
   "cell_type": "code",
   "execution_count": 20,
   "id": "7b79a450",
   "metadata": {},
   "outputs": [
    {
     "name": "stdout",
     "output_type": "stream",
     "text": [
      "📊 Statistical Analysis of Risk-Neutral Probability Distributions\n",
      "================================================================================\n",
      "\n",
      "🗓️  2025-08-22 10:00:00 (0.7 days)\n",
      "   💰 Expected Price: $113,725 (vs Spot: $113,455)\n",
      "   🎯 Mode (Peak): $117,889\n",
      "   📊 Volatility: $9,048\n",
      "   ⚖️  Skewness: 0.638\n",
      "   📈 Kurtosis: 4.841\n",
      "   🔀 95% CI: $94,146 - $136,357 (width: $42,211)\n",
      "\n",
      "🗓️  2025-08-23 10:00:00 (1.7 days)\n",
      "   💰 Expected Price: $117,094 (vs Spot: $113,455)\n",
      "   🎯 Mode (Peak): $118,030\n",
      "   📊 Volatility: $3,920\n",
      "   ⚖️  Skewness: -0.125\n",
      "   📈 Kurtosis: 1.989\n",
      "   🔀 95% CI: $109,166 - $123,186 (width: $14,020)\n",
      "\n",
      "🗓️  2025-08-24 10:00:00 (2.7 days)\n",
      "   💰 Expected Price: $114,851 (vs Spot: $113,455)\n",
      "   🎯 Mode (Peak): $118,020\n",
      "   📊 Volatility: $3,073\n",
      "   ⚖️  Skewness: -0.535\n",
      "   📈 Kurtosis: 2.163\n",
      "   🔀 95% CI: $108,432 - $118,653 (width: $10,221)\n",
      "\n",
      "🗓️  2025-08-25 10:00:00 (3.7 days)\n",
      "   💰 Expected Price: $114,400 (vs Spot: $113,455)\n",
      "   🎯 Mode (Peak): $114,040\n",
      "   📊 Volatility: $3,260\n",
      "   ⚖️  Skewness: -0.297\n",
      "   📈 Kurtosis: 2.768\n",
      "   🔀 95% CI: $107,367 - $120,472 (width: $13,106)\n",
      "\n",
      "🗓️  2025-08-29 10:00:00 (7.7 days)\n",
      "   💰 Expected Price: $111,942 (vs Spot: $113,455)\n",
      "   🎯 Mode (Peak): $128,191\n",
      "   📊 Volatility: $20,678\n",
      "   ⚖️  Skewness: -1.387\n",
      "   📈 Kurtosis: 5.456\n",
      "   🔀 95% CI: $49,799 - $149,296 (width: $99,497)\n",
      "\n",
      "🗓️  2025-09-05 10:00:00 (14.7 days)\n",
      "   💰 Expected Price: $113,785 (vs Spot: $113,455)\n",
      "   🎯 Mode (Peak): $114,070\n",
      "   📊 Volatility: $9,900\n",
      "   ⚖️  Skewness: -0.813\n",
      "   📈 Kurtosis: 4.202\n",
      "   🔀 95% CI: $85,427 - $130,352 (width: $44,925)\n",
      "\n",
      "🗓️  2025-09-12 10:00:00 (21.7 days)\n",
      "   💰 Expected Price: $115,094 (vs Spot: $113,455)\n",
      "   🎯 Mode (Peak): $115,075\n",
      "   📊 Volatility: $7,409\n",
      "   ⚖️  Skewness: -0.086\n",
      "   📈 Kurtosis: 2.063\n",
      "   🔀 95% CI: $101,809 - $128,040 (width: $26,231)\n",
      "\n",
      "🗓️  2025-09-26 10:00:00 (35.7 days)\n",
      "   💰 Expected Price: $104,235 (vs Spot: $113,455)\n",
      "   🎯 Mode (Peak): $134,573\n",
      "   📊 Volatility: $25,699\n",
      "   ⚖️  Skewness: -0.597\n",
      "   📈 Kurtosis: 3.158\n",
      "   🔀 95% CI: $52,462 - $149,849 (width: $97,387)\n",
      "\n",
      "🗓️  2025-10-31 09:00:00 (70.7 days)\n",
      "   💰 Expected Price: $107,245 (vs Spot: $113,455)\n",
      "   🎯 Mode (Peak): $116,030\n",
      "   📊 Volatility: $18,002\n",
      "   ⚖️  Skewness: 0.182\n",
      "   📈 Kurtosis: 3.106\n",
      "   🔀 95% CI: $72,462 - $149,347 (width: $76,884)\n",
      "\n",
      "🗓️  2025-12-26 09:00:00 (126.7 days)\n",
      "   💰 Expected Price: $103,188 (vs Spot: $113,455)\n",
      "   🎯 Mode (Peak): $105,930\n",
      "   📊 Volatility: $20,224\n",
      "   ⚖️  Skewness: 0.573\n",
      "   📈 Kurtosis: 2.955\n",
      "   🔀 95% CI: $67,739 - $149,849 (width: $82,111)\n",
      "\n",
      "📈 Summary Trends:\n",
      "   • Expected prices range: $103,188 - $117,094\n",
      "   • Average skewness: -0.245\n",
      "   • Average kurtosis: 3.270\n",
      "   • Volatility trend: $9,048 → $20,224\n",
      "\n",
      "✅ Statistical analysis complete for 10 expiries\n"
     ]
    }
   ],
   "source": [
    "# Statistical Analysis of Risk-Neutral Distributions\n",
    "def analyze_risk_neutral_statistics(results):\n",
    "    \"\"\"Compute detailed statistics for risk-neutral distributions\"\"\"\n",
    "    \n",
    "    if not results:\n",
    "        print(\"❌ No data available for analysis\")\n",
    "        return None\n",
    "    \n",
    "    print(\"📊 Statistical Analysis of Risk-Neutral Probability Distributions\")\n",
    "    print(\"=\" * 80)\n",
    "    \n",
    "    stats_data = []\n",
    "    spot_price = results[0]['spot']\n",
    "    \n",
    "    for result in results:\n",
    "        if 'rn_density' in result and result['rn_density'] is not None:\n",
    "            strikes = result['K_dense']\n",
    "            density = result['rn_density']\n",
    "            \n",
    "            # Filter out strikes > $150k\n",
    "            mask = strikes <= 150000\n",
    "            strikes = strikes[mask]\n",
    "            density = density[mask]\n",
    "            \n",
    "            if len(strikes) == 0:  # Skip if no strikes remain after filtering\n",
    "                continue\n",
    "            \n",
    "            # Calculate days to expiry\n",
    "            expiry_timestamp = result['expiry'] / 1000\n",
    "            current_timestamp = time.time()\n",
    "            days_to_exp = max(0, (expiry_timestamp - current_timestamp) / (24 * 3600))\n",
    "            \n",
    "            # Compute statistics\n",
    "            # Expected value (first moment)\n",
    "            expected_price = np.trapezoid(strikes * density, strikes)\n",
    "            \n",
    "            # Variance (second central moment)\n",
    "            variance = np.trapezoid((strikes - expected_price)**2 * density, strikes)\n",
    "            volatility = np.sqrt(variance)\n",
    "            \n",
    "            # Skewness (third standardized moment)\n",
    "            skewness = np.trapezoid(((strikes - expected_price) / volatility)**3 * density, strikes)\n",
    "            \n",
    "            # Kurtosis (fourth standardized moment)\n",
    "            kurtosis = np.trapezoid(((strikes - expected_price) / volatility)**4 * density, strikes)\n",
    "            \n",
    "            # Mode (peak of distribution)\n",
    "            mode_idx = np.argmax(density)\n",
    "            mode_price = strikes[mode_idx]\n",
    "            \n",
    "            # 95% Confidence interval\n",
    "            cumulative = np.cumsum(density) * (strikes[1] - strikes[0])\n",
    "            \n",
    "            # Handle case where distribution is truncated\n",
    "            lower_indices = np.where(cumulative >= 0.025)[0]\n",
    "            upper_indices = np.where(cumulative >= 0.975)[0]\n",
    "            \n",
    "            if len(lower_indices) > 0:\n",
    "                lower_2_5_idx = lower_indices[0]\n",
    "                ci_lower = strikes[lower_2_5_idx]\n",
    "            else:\n",
    "                ci_lower = strikes[0]  # Use minimum strike\n",
    "                \n",
    "            if len(upper_indices) > 0:\n",
    "                upper_97_5_idx = upper_indices[0]\n",
    "                ci_upper = strikes[upper_97_5_idx]\n",
    "            else:\n",
    "                ci_upper = strikes[-1]  # Use maximum strike (capped at $150k)\n",
    "                \n",
    "            ci_width = ci_upper - ci_lower\n",
    "            \n",
    "            stats = {\n",
    "                'expiry': result['expiry_str'],\n",
    "                'days_to_exp': days_to_exp,\n",
    "                'expected_price': expected_price,\n",
    "                'mode_price': mode_price,\n",
    "                'volatility': volatility,\n",
    "                'skewness': skewness,\n",
    "                'kurtosis': kurtosis,\n",
    "                'ci_lower': ci_lower,\n",
    "                'ci_upper': ci_upper,\n",
    "                'ci_width': ci_width\n",
    "            }\n",
    "            stats_data.append(stats)\n",
    "            \n",
    "            print(f\"\\n🗓️  {result['expiry_str']} ({days_to_exp:.1f} days)\")\n",
    "            print(f\"   💰 Expected Price: ${expected_price:,.0f} (vs Spot: ${spot_price:,.0f})\")\n",
    "            print(f\"   🎯 Mode (Peak): ${mode_price:,.0f}\")\n",
    "            print(f\"   📊 Volatility: ${volatility:,.0f}\")\n",
    "            print(f\"   ⚖️  Skewness: {skewness:.3f}\")\n",
    "            print(f\"   📈 Kurtosis: {kurtosis:.3f}\")\n",
    "            print(f\"   🔀 95% CI: ${ci_lower:,.0f} - ${ci_upper:,.0f} (width: ${ci_width:,.0f})\")\n",
    "    \n",
    "    if stats_data:\n",
    "        # Create summary DataFrame\n",
    "        df_stats = pd.DataFrame(stats_data)\n",
    "        \n",
    "        print(f\"\\n📈 Summary Trends:\")\n",
    "        print(f\"   • Expected prices range: ${df_stats['expected_price'].min():,.0f} - ${df_stats['expected_price'].max():,.0f}\")\n",
    "        print(f\"   • Average skewness: {df_stats['skewness'].mean():.3f}\")\n",
    "        print(f\"   • Average kurtosis: {df_stats['kurtosis'].mean():.3f}\")\n",
    "        print(f\"   • Volatility trend: ${df_stats['volatility'].iloc[0]:,.0f} → ${df_stats['volatility'].iloc[-1]:,.0f}\")\n",
    "        \n",
    "        return df_stats\n",
    "    \n",
    "    return None\n",
    "\n",
    "# Run statistical analysis\n",
    "if 'analysis_results' in globals():\n",
    "    stats_df = analyze_risk_neutral_statistics(analysis_results)\n",
    "    \n",
    "    if stats_df is not None:\n",
    "        print(f\"\\n✅ Statistical analysis complete for {len(stats_df)} expiries\")\n",
    "    else:\n",
    "        print(\"❌ Failed to compute statistics\")\n",
    "else:\n",
    "    print(\"❌ analysis_results not found\")"
   ]
  },
  {
   "cell_type": "code",
   "execution_count": 17,
   "id": "8a061a82",
   "metadata": {},
   "outputs": [
    {
     "name": "stdout",
     "output_type": "stream",
     "text": [
      "🎯 RISK-NEUTRAL PROBABILITY ANALYSIS - KEY INSIGHTS\n",
      "================================================================================\n",
      "\n",
      "💰 PRICING INSIGHTS:\n",
      "   • Current Bitcoin Spot Price: $113,455\n",
      "   • Near-term (0-4 days) implied expectations: $115,390\n",
      "   • Long-term (70+ days) implied expectations: $113,651\n",
      "\n",
      "📊 MARKET SENTIMENT:\n",
      "   • Short-term volatility (next week): $8,586\n",
      "   • Long-term volatility (2+ months): $25,814\n",
      "\n",
      "⚖️ RISK SKEW ANALYSIS:\n",
      "   • Near-term skewness: -0.230 (Left-skewed (put bias))\n",
      "   • Long-term skewness: 0.552 (Right-skewed (call bias))\n",
      "\n",
      "🎢 TAIL RISK (Kurtosis):\n",
      "   • Average kurtosis: 4.75 (High tail risk)\n",
      "   • Maximum kurtosis: 11.14 at 2025-09-26 10:00:00\n",
      "\n",
      "🔀 CONFIDENCE INTERVALS:\n",
      "   • Narrowest 95% CI: $10,221 at 2025-08-24 10:00:00\n",
      "   • Widest 95% CI: $131,759 at 2025-09-26 10:00:00\n",
      "\n",
      "🚨 TRADING IMPLICATIONS:\n",
      "   • Time decay is most pronounced in first week (volatility drops from $9,903 to $22,772)\n",
      "   • Near-term put protection is expensive (negative skewness)\n",
      "   • Fat tails suggest higher probability of extreme moves than normal distribution\n",
      "\n",
      "📈 PROBABILITY SURFACE CHARACTERISTICS:\n",
      "   • Surface shows 10 expiration dates\n",
      "   • Strike range: $20K - $400K\n",
      "   • Peak density migration visible across time dimension\n",
      "   • Density values range from -0.000008 to 0.000173\n",
      "\n",
      "✅ ANALYSIS COMPLETE!\n",
      "   📊 Processed 10 option expiries\n",
      "   🌊 Generated 3D probability surface with 1,000 data points\n",
      "   📈 Created 2D evolution plots for temporal analysis\n",
      "   📋 Computed comprehensive statistics for all distributions\n"
     ]
    }
   ],
   "source": [
    "# 🎯 COMPREHENSIVE ANALYSIS SUMMARY\n",
    "print(\"🎯 RISK-NEUTRAL PROBABILITY ANALYSIS - KEY INSIGHTS\")\n",
    "print(\"=\" * 80)\n",
    "\n",
    "current_spot = 113455.47\n",
    "\n",
    "print(f\"\\n💰 PRICING INSIGHTS:\")\n",
    "print(f\"   • Current Bitcoin Spot Price: ${current_spot:,.0f}\")\n",
    "print(f\"   • Near-term (0-4 days) implied expectations: ${stats_df['expected_price'].iloc[:4].mean():,.0f}\")\n",
    "print(f\"   • Long-term (70+ days) implied expectations: ${stats_df['expected_price'].iloc[-2:].mean():,.0f}\")\n",
    "\n",
    "print(f\"\\n📊 MARKET SENTIMENT:\")\n",
    "print(f\"   • Short-term volatility (next week): ${stats_df['volatility'].iloc[:5].mean():,.0f}\")\n",
    "print(f\"   • Long-term volatility (2+ months): ${stats_df['volatility'].iloc[-3:].mean():,.0f}\")\n",
    "\n",
    "print(f\"\\n⚖️ RISK SKEW ANALYSIS:\")\n",
    "near_term_skew = stats_df['skewness'].iloc[:5].mean()\n",
    "long_term_skew = stats_df['skewness'].iloc[-3:].mean()\n",
    "print(f\"   • Near-term skewness: {near_term_skew:.3f} ({'Left-skewed (put bias)' if near_term_skew < 0 else 'Right-skewed (call bias)'})\")\n",
    "print(f\"   • Long-term skewness: {long_term_skew:.3f} ({'Left-skewed (put bias)' if long_term_skew < 0 else 'Right-skewed (call bias)'})\")\n",
    "\n",
    "print(f\"\\n🎢 TAIL RISK (Kurtosis):\")\n",
    "avg_kurtosis = stats_df['kurtosis'].mean()\n",
    "print(f\"   • Average kurtosis: {avg_kurtosis:.2f} ({'High tail risk' if avg_kurtosis > 3 else 'Normal tail risk'})\")\n",
    "print(f\"   • Maximum kurtosis: {stats_df['kurtosis'].max():.2f} at {stats_df.loc[stats_df['kurtosis'].idxmax(), 'expiry']}\")\n",
    "\n",
    "print(f\"\\n🔀 CONFIDENCE INTERVALS:\")\n",
    "print(f\"   • Narrowest 95% CI: ${stats_df['ci_width'].min():,.0f} at {stats_df.loc[stats_df['ci_width'].idxmin(), 'expiry']}\")\n",
    "print(f\"   • Widest 95% CI: ${stats_df['ci_width'].max():,.0f} at {stats_df.loc[stats_df['ci_width'].idxmax(), 'expiry']}\")\n",
    "\n",
    "print(f\"\\n🚨 TRADING IMPLICATIONS:\")\n",
    "print(f\"   • Time decay is most pronounced in first week (volatility drops from ${stats_df['volatility'].iloc[0]:,.0f} to ${stats_df['volatility'].iloc[4]:,.0f})\")\n",
    "if near_term_skew < 0:\n",
    "    print(f\"   • Near-term put protection is expensive (negative skewness)\")\n",
    "else:\n",
    "    print(f\"   • Near-term upside calls are expensive (positive skewness)\")\n",
    "\n",
    "if avg_kurtosis > 3:\n",
    "    print(f\"   • Fat tails suggest higher probability of extreme moves than normal distribution\")\n",
    "    \n",
    "print(f\"\\n📈 PROBABILITY SURFACE CHARACTERISTICS:\")\n",
    "print(f\"   • Surface shows {len(analysis_results)} expiration dates\")\n",
    "print(f\"   • Strike range: $20K - $400K\")\n",
    "print(f\"   • Peak density migration visible across time dimension\")\n",
    "print(f\"   • Density values range from {density_surface['Z'].min():.6f} to {density_surface['Z'].max():.6f}\")\n",
    "\n",
    "print(f\"\\n✅ ANALYSIS COMPLETE!\")\n",
    "print(f\"   📊 Processed {len(analysis_results)} option expiries\")\n",
    "print(f\"   🌊 Generated 3D probability surface with {density_surface['Z'].size:,} data points\")\n",
    "print(f\"   📈 Created 2D evolution plots for temporal analysis\")\n",
    "print(f\"   📋 Computed comprehensive statistics for all distributions\")"
   ]
  },
  {
   "cell_type": "code",
   "execution_count": 10,
   "id": "921193fe",
   "metadata": {},
   "outputs": [
    {
     "name": "stdout",
     "output_type": "stream",
     "text": [
      "🔍 Debugging analysis_results structure:\n",
      "   • Type: <class 'list'>\n",
      "   • Length: 10\n",
      "\n",
      "📋 First result keys: ['expiry', 'expiry_str', 'strikes', 'ivs', 'K_dense', 'rn_density', 'spot']\n",
      "\n",
      "🔍 First result details:\n",
      "   • expiry: int = 1755849600000\n",
      "   • expiry_str: str = 2025-08-22 10:00:00\n",
      "   • strikes: ndarray with length 38\n",
      "   • ivs: ndarray with length 38\n",
      "   • K_dense: ndarray with length 200\n",
      "   • rn_density: ndarray with length 200\n",
      "   • spot: float = 113455.47\n"
     ]
    }
   ],
   "source": [
    "# Debug: Check the structure of analysis_results\n",
    "if 'analysis_results' in globals():\n",
    "    print(\"🔍 Debugging analysis_results structure:\")\n",
    "    print(f\"   • Type: {type(analysis_results)}\")\n",
    "    print(f\"   • Length: {len(analysis_results) if hasattr(analysis_results, '__len__') else 'No length'}\")\n",
    "    \n",
    "    if hasattr(analysis_results, '__len__') and len(analysis_results) > 0:\n",
    "        print(f\"\\n📋 First result keys: {list(analysis_results[0].keys()) if isinstance(analysis_results[0], dict) else 'Not a dict'}\")\n",
    "        \n",
    "        # Check if density data exists in different structure\n",
    "        first_result = analysis_results[0]\n",
    "        if isinstance(first_result, dict):\n",
    "            print(f\"\\n🔍 First result details:\")\n",
    "            for key, value in first_result.items():\n",
    "                if isinstance(value, dict):\n",
    "                    print(f\"   • {key}: dict with keys {list(value.keys())}\")\n",
    "                elif isinstance(value, (list, np.ndarray)):\n",
    "                    print(f\"   • {key}: {type(value).__name__} with length {len(value)}\")\n",
    "                else:\n",
    "                    print(f\"   • {key}: {type(value).__name__} = {value}\")\n",
    "else:\n",
    "    print(\"❌ analysis_results not found in globals\")"
   ]
  }
 ],
 "metadata": {
  "kernelspec": {
   "display_name": ".venv",
   "language": "python",
   "name": "python3"
  },
  "language_info": {
   "codemirror_mode": {
    "name": "ipython",
    "version": 3
   },
   "file_extension": ".py",
   "mimetype": "text/x-python",
   "name": "python",
   "nbconvert_exporter": "python",
   "pygments_lexer": "ipython3",
   "version": "3.12.4"
  }
 },
 "nbformat": 4,
 "nbformat_minor": 5
}
